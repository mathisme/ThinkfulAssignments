{
 "cells": [
  {
   "cell_type": "code",
   "execution_count": 20,
   "id": "f713168a",
   "metadata": {},
   "outputs": [],
   "source": [
    "import numpy as np\n",
    "import pandas as pd\n",
    "import seaborn as sns\n",
    "from sklearn import linear_model\n",
    "from scipy import stats\n",
    "import statsmodels.api as sm\n",
    "from statsmodels.stats.outliers_influence import variance_inflation_factor\n",
    "from statsmodels.tsa.stattools import acf\n",
    "import matplotlib.pyplot as plt\n",
    "from sqlalchemy import create_engine\n",
    "\n",
    "import warnings\n",
    "warnings.filterwarnings('ignore')"
   ]
  },
  {
   "cell_type": "code",
   "execution_count": 2,
   "id": "60b46b65",
   "metadata": {},
   "outputs": [],
   "source": [
    "postgres_user = 'dsbc_student'\n",
    "postgres_pw = '7*.8G9QH21'\n",
    "postgres_host = '142.93.121.174'\n",
    "postgres_port = '5432'\n",
    "postgres_db = 'weatherinszeged'"
   ]
  },
  {
   "cell_type": "code",
   "execution_count": 3,
   "id": "7059e299",
   "metadata": {},
   "outputs": [],
   "source": [
    "engine = create_engine('postgresql://{}:{}@{}:{}/{}'.format(\n",
    "    postgres_user, postgres_pw, postgres_host, postgres_port, postgres_db))\n",
    "df = pd.read_sql_query('select * from weatherinszeged',con=engine)\n",
    "\n",
    "engine.dispose()"
   ]
  },
  {
   "cell_type": "markdown",
   "id": "0988ef67",
   "metadata": {},
   "source": [
    "# Build a regression model where the target variable is temperature. As explanatory variables, use humidity, windspeed, windbearing, and pressure. Estimate the model using OLS."
   ]
  },
  {
   "cell_type": "code",
   "execution_count": 4,
   "id": "d8efbeba",
   "metadata": {},
   "outputs": [
    {
     "data": {
      "text/plain": [
       "Index(['date', 'summary', 'preciptype', 'temperature', 'apparenttemperature',\n",
       "       'humidity', 'windspeed', 'windbearing', 'visibility', 'loudcover',\n",
       "       'pressure', 'dailysummary'],\n",
       "      dtype='object')"
      ]
     },
     "execution_count": 4,
     "metadata": {},
     "output_type": "execute_result"
    }
   ],
   "source": [
    "df.columns"
   ]
  },
  {
   "cell_type": "code",
   "execution_count": 6,
   "id": "12c74236",
   "metadata": {},
   "outputs": [],
   "source": [
    "X = df[['humidity','windspeed','windbearing','pressure']]\n",
    "y = df.temperature\n",
    "\n",
    "lrm = linear_model.LinearRegression().fit(X,y)\n",
    "predictions = lrm.predict(X)\n",
    "errors = y-predictions"
   ]
  },
  {
   "cell_type": "markdown",
   "id": "ca1b8110",
   "metadata": {},
   "source": [
    "# Now, check if your model meets the Gauss-Markov conditions above. If some of the assumptions are not met, discuss the implications of the violations for the correctness of your model."
   ]
  },
  {
   "cell_type": "markdown",
   "id": "f5a9a5bd",
   "metadata": {},
   "source": [
    "## Homoscedasticity"
   ]
  },
  {
   "cell_type": "code",
   "execution_count": 8,
   "id": "d0540246",
   "metadata": {},
   "outputs": [
    {
     "name": "stdout",
     "output_type": "stream",
     "text": [
      "Bartlett p value:  0.0\n",
      "Levene p value:  0.0\n"
     ]
    }
   ],
   "source": [
    "bartlett_stats = stats.bartlett(predictions,errors)\n",
    "levene_stats = stats.levene(predictions,errors)\n",
    "print('Bartlett p value: ',bartlett_stats[1])\n",
    "print('Levene p value: ', levene_stats[1])"
   ]
  },
  {
   "cell_type": "markdown",
   "id": "4bdc662b",
   "metadata": {},
   "source": [
    "With low p values, we reject the null hypothesis that homoscedasticity is met.  The model is heteroscedastic.  OLS can stil be used for predictions, however any hypothesis testings on predictions would be biased."
   ]
  },
  {
   "cell_type": "markdown",
   "id": "d64122d1",
   "metadata": {},
   "source": [
    "## (No perfect) multicolinearity"
   ]
  },
  {
   "cell_type": "code",
   "execution_count": 17,
   "id": "e266fde4",
   "metadata": {},
   "outputs": [
    {
     "name": "stdout",
     "output_type": "stream",
     "text": [
      "VIF for  humidity :  13.072478888664417\n",
      "VIF for  windspeed :  3.4050546706152733\n",
      "VIF for  windbearing :  3.997449468117685\n",
      "VIF for  pressure :  17.692706719861814\n"
     ]
    }
   ],
   "source": [
    "for i in range(X.shape[1]):\n",
    "    print('VIF for ',X.columns[i],': ', variance_inflation_factor(X.values, i))\n"
   ]
  },
  {
   "cell_type": "markdown",
   "id": "58ad6bb0",
   "metadata": {},
   "source": [
    "the values for humidity and pressure are too high.  There is multicolinearity.  The aim of OLS is to come up with unique parameter estimates.  As there is multicolinearity there is not 1 set of unique parameter estimates and so OLS may fail to converge.  Even if OLS converges, hypothesis testing will not be reliable."
   ]
  },
  {
   "cell_type": "markdown",
   "id": "2114b002",
   "metadata": {},
   "source": [
    "## Uncorrelated error terms"
   ]
  },
  {
   "cell_type": "code",
   "execution_count": 18,
   "id": "20694233",
   "metadata": {},
   "outputs": [
    {
     "data": {
      "text/plain": [
       "[<matplotlib.lines.Line2D at 0x17e12223640>]"
      ]
     },
     "execution_count": 18,
     "metadata": {},
     "output_type": "execute_result"
    },
    {
     "data": {
      "image/png": "[encoded data removed]",
      "text/plain": [
       "<Figure size 432x288 with 1 Axes>"
      ]
     },
     "metadata": {
      "needs_background": "light"
     },
     "output_type": "display_data"
    }
   ],
   "source": [
    "plt.plot(errors)"
   ]
  },
  {
   "cell_type": "markdown",
   "id": "4969ccdb",
   "metadata": {},
   "source": [
    "There does appear to be randomness, meaning the errors are uncorrelated.  I'm next going to use acf to check."
   ]
  },
  {
   "cell_type": "markdown",
   "id": "25efc7fd",
   "metadata": {},
   "source": [
    "## Normality of errors"
   ]
  },
  {
   "cell_type": "code",
   "execution_count": 24,
   "id": "6b4fcccd",
   "metadata": {},
   "outputs": [
    {
     "data": {
      "text/plain": [
       "(array([1.0000e+01, 3.0000e+00, 4.0000e+00, 3.0000e+00, 0.0000e+00,\n",
       "        1.0000e+00, 2.0000e+00, 1.3000e+01, 1.5000e+01, 6.8000e+01,\n",
       "        2.0800e+02, 4.3600e+02, 8.4800e+02, 2.3970e+03, 4.2940e+03,\n",
       "        6.8050e+03, 1.0885e+04, 1.2956e+04, 1.4709e+04, 1.4312e+04,\n",
       "        1.2792e+04, 1.0056e+04, 4.6410e+03, 9.6200e+02, 3.3000e+01]),\n",
       " array([-55.10888311, -52.12708272, -49.14528233, -46.16348195,\n",
       "        -43.18168156, -40.19988117, -37.21808078, -34.23628039,\n",
       "        -31.25448001, -28.27267962, -25.29087923, -22.30907884,\n",
       "        -19.32727845, -16.34547807, -13.36367768, -10.38187729,\n",
       "         -7.4000769 ,  -4.41827652,  -1.43647613,   1.54532426,\n",
       "          4.52712465,   7.50892504,  10.49072542,  13.47252581,\n",
       "         16.4543262 ,  19.43612659]),\n",
       " <BarContainer object of 25 artists>)"
      ]
     },
     "execution_count": 24,
     "metadata": {},
     "output_type": "execute_result"
    },
    {
     "data": {
      "image/png": "[encoded data removed]",
      "text/plain": [
       "<Figure size 432x288 with 1 Axes>"
      ]
     },
     "metadata": {
      "needs_background": "light"
     },
     "output_type": "display_data"
    }
   ],
   "source": [
    "plt.hist(errors,bins=25)"
   ]
  },
  {
   "cell_type": "markdown",
   "id": "0ade6a98",
   "metadata": {},
   "source": [
    "The errors appear normal but skewed."
   ]
  },
  {
   "cell_type": "code",
   "execution_count": null,
   "id": "b7002364",
   "metadata": {},
   "outputs": [],
   "source": []
  }
 ],
 "metadata": {
  "kernelspec": {
   "display_name": "Python 3",
   "language": "python",
   "name": "python3"
  },
  "language_info": {
   "codemirror_mode": {
    "name": "ipython",
    "version": 3
   },
   "file_extension": ".py",
   "mimetype": "text/x-python",
   "name": "python",
   "nbconvert_exporter": "python",
   "pygments_lexer": "ipython3",
   "version": "3.9.5"
  }
 },
 "nbformat": 4,
 "nbformat_minor": 5
}
