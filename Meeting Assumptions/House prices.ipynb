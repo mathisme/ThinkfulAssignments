{
 "cells": [
  {
   "cell_type": "code",
   "execution_count": 1,
   "id": "076c711a",
   "metadata": {},
   "outputs": [],
   "source": [
    "import numpy as np\n",
    "import pandas as pd\n",
    "import seaborn as sns\n",
    "from sklearn import linear_model\n",
    "from scipy import stats\n",
    "import statsmodels.api as sm\n",
    "from statsmodels.stats.outliers_influence import variance_inflation_factor\n",
    "from statsmodels.tsa.stattools import acf\n",
    "import matplotlib.pyplot as plt\n",
    "from sqlalchemy import create_engine\n",
    "\n",
    "import warnings\n",
    "warnings.filterwarnings('ignore')"
   ]
  },
  {
   "cell_type": "code",
   "execution_count": 2,
   "id": "ba87dd58",
   "metadata": {},
   "outputs": [],
   "source": [
    "\n",
    "postgres_user = 'dsbc_student'\n",
    "postgres_pw = '7*.8G9QH21'\n",
    "postgres_host = '142.93.121.174'\n",
    "postgres_port = '5432'\n",
    "postgres_db = 'houseprices'"
   ]
  },
  {
   "cell_type": "code",
   "execution_count": 3,
   "id": "5b5a3a3b",
   "metadata": {},
   "outputs": [],
   "source": [
    "engine = create_engine('postgresql://{}:{}@{}:{}/{}'.format(\n",
    "    postgres_user, postgres_pw, postgres_host, postgres_port, postgres_db))\n",
    "df = pd.read_sql_query('select * from houseprices',con=engine)\n",
    "\n",
    "engine.dispose()"
   ]
  },
  {
   "cell_type": "markdown",
   "id": "76ac9d72",
   "metadata": {},
   "source": [
    "# Creating the model"
   ]
  },
  {
   "cell_type": "code",
   "execution_count": 4,
   "id": "1e5a0ac6",
   "metadata": {},
   "outputs": [],
   "source": [
    "numeric_variables = ['overallqual','firstflrsf','totrmsabvgrd']\n",
    "variables = numeric_variables + ['neighborhood','exterior1st','saleprice']"
   ]
  },
  {
   "cell_type": "code",
   "execution_count": 5,
   "id": "0cced654",
   "metadata": {},
   "outputs": [],
   "source": [
    "df2 = pd.get_dummies(df[variables])\n",
    "X = df2.drop('saleprice', axis=1)\n",
    "y = df2.saleprice\n",
    "\n"
   ]
  },
  {
   "cell_type": "code",
   "execution_count": 6,
   "id": "1443c7ea",
   "metadata": {},
   "outputs": [],
   "source": [
    "lrm = linear_model.LinearRegression().fit(X,y)\n",
    "predictions = lrm.predict(X)\n",
    "errors = y-predictions"
   ]
  },
  {
   "cell_type": "markdown",
   "id": "e866a639",
   "metadata": {},
   "source": [
    "# Checking for assumptions"
   ]
  },
  {
   "cell_type": "markdown",
   "id": "7e52c220",
   "metadata": {},
   "source": [
    "## Homoscedasticity"
   ]
  },
  {
   "cell_type": "code",
   "execution_count": 7,
   "id": "5f65ca6f",
   "metadata": {},
   "outputs": [
    {
     "name": "stdout",
     "output_type": "stream",
     "text": [
      "Bartlett p value:  1.5346486715104397e-128\n",
      "Levene p value:  5.430518383486349e-95\n"
     ]
    }
   ],
   "source": [
    "bartlett_stats = stats.bartlett(predictions,errors)\n",
    "levene_stats = stats.levene(predictions,errors)\n",
    "print('Bartlett p value: ',bartlett_stats[1])\n",
    "print('Levene p value: ', levene_stats[1])"
   ]
  },
  {
   "cell_type": "markdown",
   "id": "ad0f7caf",
   "metadata": {},
   "source": [
    "From the p values, we can reject the null hypothesis that the model is homoscedastic.  It is likely I am excluding some important variables.  OLS can still be used for predictions but any hypothesis testing on parameters will be biased."
   ]
  },
  {
   "cell_type": "markdown",
   "id": "39cad638",
   "metadata": {},
   "source": [
    "## (No perfect) multicolinearity"
   ]
  },
  {
   "cell_type": "code",
   "execution_count": 8,
   "id": "8bd90b1c",
   "metadata": {},
   "outputs": [
    {
     "name": "stdout",
     "output_type": "stream",
     "text": [
      "VIF for  overallqual :  2.6414479101325044\n",
      "VIF for  firstflrsf :  1.8107072292866675\n",
      "VIF for  totrmsabvgrd :  1.4710602538507669\n",
      "VIF for  neighborhood_Blmngtn :  inf\n",
      "VIF for  neighborhood_Blueste :  inf\n",
      "VIF for  neighborhood_BrDale :  inf\n",
      "VIF for  neighborhood_BrkSide :  inf\n",
      "VIF for  neighborhood_ClearCr :  inf\n",
      "VIF for  neighborhood_CollgCr :  inf\n",
      "VIF for  neighborhood_Crawfor :  inf\n",
      "VIF for  neighborhood_Edwards :  inf\n",
      "VIF for  neighborhood_Gilbert :  inf\n",
      "VIF for  neighborhood_IDOTRR :  inf\n",
      "VIF for  neighborhood_MeadowV :  inf\n",
      "VIF for  neighborhood_Mitchel :  inf\n",
      "VIF for  neighborhood_NAmes :  inf\n",
      "VIF for  neighborhood_NPkVill :  inf\n",
      "VIF for  neighborhood_NWAmes :  inf\n",
      "VIF for  neighborhood_NoRidge :  inf\n",
      "VIF for  neighborhood_NridgHt :  inf\n",
      "VIF for  neighborhood_OldTown :  inf\n",
      "VIF for  neighborhood_SWISU :  inf\n",
      "VIF for  neighborhood_Sawyer :  inf\n",
      "VIF for  neighborhood_SawyerW :  inf\n",
      "VIF for  neighborhood_Somerst :  inf\n",
      "VIF for  neighborhood_StoneBr :  inf\n",
      "VIF for  neighborhood_Timber :  inf\n",
      "VIF for  neighborhood_Veenker :  inf\n",
      "VIF for  exterior1st_AsbShng :  inf\n",
      "VIF for  exterior1st_AsphShn :  inf\n",
      "VIF for  exterior1st_BrkComm :  inf\n",
      "VIF for  exterior1st_BrkFace :  inf\n",
      "VIF for  exterior1st_CBlock :  inf\n",
      "VIF for  exterior1st_CemntBd :  inf\n",
      "VIF for  exterior1st_HdBoard :  inf\n",
      "VIF for  exterior1st_ImStucc :  inf\n",
      "VIF for  exterior1st_MetalSd :  inf\n",
      "VIF for  exterior1st_Plywood :  inf\n",
      "VIF for  exterior1st_Stone :  inf\n",
      "VIF for  exterior1st_Stucco :  inf\n",
      "VIF for  exterior1st_VinylSd :  inf\n",
      "VIF for  exterior1st_Wd Sdng :  inf\n",
      "VIF for  exterior1st_WdShing :  inf\n"
     ]
    }
   ],
   "source": [
    "for i in range(X.shape[1]):\n",
    "    print('VIF for ',X.columns[i],': ', variance_inflation_factor(X.values, i))"
   ]
  },
  {
   "cell_type": "markdown",
   "id": "4057db05",
   "metadata": {},
   "source": [
    "All my one hot encoded variables are colinear as I did not know to exclude the first subcategory.  I am lucky OLS converged.  However any hypothesis testing on factors will be unreliable."
   ]
  },
  {
   "cell_type": "markdown",
   "id": "fb6632d2",
   "metadata": {},
   "source": [
    "## Uncorrelated error terms"
   ]
  },
  {
   "cell_type": "code",
   "execution_count": 9,
   "id": "37413a2e",
   "metadata": {},
   "outputs": [
    {
     "data": {
      "text/plain": [
       "[<matplotlib.lines.Line2D at 0x25020436970>]"
      ]
     },
     "execution_count": 9,
     "metadata": {},
     "output_type": "execute_result"
    },
    {
     "data": {
      "image/png": "[encoded data removed]",
      "text/plain": [
       "<Figure size 432x288 with 1 Axes>"
      ]
     },
     "metadata": {
      "needs_background": "light"
     },
     "output_type": "display_data"
    }
   ],
   "source": [
    "plt.plot(errors)"
   ]
  },
  {
   "cell_type": "markdown",
   "id": "882da65f",
   "metadata": {},
   "source": [
    "There does appear to be randomness, therefore error terms are most likely uncorrelated."
   ]
  },
  {
   "cell_type": "markdown",
   "id": "9751fbe7",
   "metadata": {},
   "source": [
    "## Normality of errors"
   ]
  },
  {
   "cell_type": "code",
   "execution_count": 11,
   "id": "ff57b39c",
   "metadata": {},
   "outputs": [
    {
     "data": {
      "text/plain": [
       "(array([  1.,   0.,   1.,   0.,   0.,   0.,   2.,   5.,  34.,  97., 266.,\n",
       "        545., 353.,  98.,  27.,  15.,   5.,   3.,   3.,   0.,   3.,   0.,\n",
       "          0.,   0.,   2.]),\n",
       " array([-278787.29298127, -254804.16248614, -230821.03199102,\n",
       "        -206837.9014959 , -182854.77100078, -158871.64050565,\n",
       "        -134888.51001053, -110905.37951541,  -86922.24902028,\n",
       "         -62939.11852516,  -38955.98803004,  -14972.85753491,\n",
       "           9010.27296021,   32993.40345533,   56976.53395045,\n",
       "          80959.66444558,  104942.7949407 ,  128925.92543582,\n",
       "         152909.05593095,  176892.18642607,  200875.31692119,\n",
       "         224858.44741632,  248841.57791144,  272824.70840656,\n",
       "         296807.83890169,  320790.96939681]),\n",
       " <BarContainer object of 25 artists>)"
      ]
     },
     "execution_count": 11,
     "metadata": {},
     "output_type": "execute_result"
    },
    {
     "data": {
      "image/png": "[encoded data removed]",
      "text/plain": [
       "<Figure size 432x288 with 1 Axes>"
      ]
     },
     "metadata": {
      "needs_background": "light"
     },
     "output_type": "display_data"
    }
   ],
   "source": [
    "plt.hist(errors, bins = 25)"
   ]
  },
  {
   "cell_type": "code",
   "execution_count": 12,
   "id": "e96679a3",
   "metadata": {},
   "outputs": [
    {
     "data": {
      "text/plain": [
       "DescribeResult(nobs=1460, minmax=(-278787.29298126785, 320790.9693968084), mean=5.3503206127310456e-11, variance=1345749319.3316987, skewness=1.1792318696614896, kurtosis=13.609780875322116)"
      ]
     },
     "execution_count": 12,
     "metadata": {},
     "output_type": "execute_result"
    }
   ],
   "source": [
    "stats.describe(errors)"
   ]
  },
  {
   "cell_type": "markdown",
   "id": "d274a115",
   "metadata": {},
   "source": [
    "The histogram appears normal.  However the kurtosis value is large, meaning the errors are not normal. Statistical significance of coefficients can not accurately be measured."
   ]
  },
  {
   "cell_type": "code",
   "execution_count": null,
   "id": "ecd4900c",
   "metadata": {},
   "outputs": [],
   "source": []
  }
 ],
 "metadata": {
  "kernelspec": {
   "display_name": "Python 3",
   "language": "python",
   "name": "python3"
  },
  "language_info": {
   "codemirror_mode": {
    "name": "ipython",
    "version": 3
   },
   "file_extension": ".py",
   "mimetype": "text/x-python",
   "name": "python",
   "nbconvert_exporter": "python",
   "pygments_lexer": "ipython3",
   "version": "3.9.5"
  }
 },
 "nbformat": 4,
 "nbformat_minor": 5
}
