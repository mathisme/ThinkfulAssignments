{
 "cells": [
  {
   "cell_type": "code",
   "execution_count": 1,
   "id": "5d874c30",
   "metadata": {},
   "outputs": [],
   "source": [
    "import numpy as np\n",
    "import pandas as pd\n",
    "import matplotlib.pyplot as plt\n",
    "from tensorflow.keras.datasets import mnist\n",
    "from tensorflow.keras.utils import to_categorical\n",
    "from tensorflow.keras.models import Sequential \n",
    "from tensorflow.keras.layers import Dense"
   ]
  },
  {
   "cell_type": "code",
   "execution_count": 2,
   "id": "d56565e6",
   "metadata": {},
   "outputs": [],
   "source": [
    "(X_train, y_train), (X_test, y_test) = mnist.load_data()\n",
    "\n",
    "input_dim = 784  # 28*28\n",
    "output_dim = nb_classes = 10\n",
    "batch_size = 128\n",
    "nb_epoch = 20\n",
    "\n",
    "X_train = X_train.reshape(60000, input_dim)\n",
    "X_test = X_test.reshape(10000, input_dim)\n",
    "X_train = X_train.astype('float32')\n",
    "X_test = X_test.astype('float32')\n",
    "X_train /= 255\n",
    "X_test /= 255\n",
    "Y_train = to_categorical(y_train, nb_classes)\n",
    "Y_test = to_categorical(y_test, nb_classes)"
   ]
  },
  {
   "cell_type": "code",
   "execution_count": 3,
   "id": "2db4a5c0",
   "metadata": {},
   "outputs": [],
   "source": [
    "scores = {'activation':[],'loss':[],'accuracy':[]}"
   ]
  },
  {
   "cell_type": "code",
   "execution_count": 4,
   "id": "d812e5b2",
   "metadata": {},
   "outputs": [],
   "source": [
    "def create_model(activation):\n",
    "    model = Sequential()\n",
    "    model.add(Dense(128,input_shape=(784,), activation=activation))\n",
    "    model.add(Dense(64, activation=activation))\n",
    "    model.add(Dense(10, activation = 'softmax'))\n",
    "    return model"
   ]
  },
  {
   "cell_type": "markdown",
   "id": "8ecc9713",
   "metadata": {},
   "source": [
    "# Part 1\n",
    "\n",
    "## Problem 1"
   ]
  },
  {
   "cell_type": "code",
   "execution_count": 5,
   "id": "6ce9b094",
   "metadata": {},
   "outputs": [],
   "source": [
    "model = create_model('tanh')"
   ]
  },
  {
   "cell_type": "code",
   "execution_count": 6,
   "id": "54a050be",
   "metadata": {},
   "outputs": [],
   "source": [
    "model.compile(optimizer='sgd', loss='categorical_crossentropy',\n",
    "              metrics=['accuracy'])"
   ]
  },
  {
   "cell_type": "code",
   "execution_count": 7,
   "id": "351a0071",
   "metadata": {},
   "outputs": [
    {
     "name": "stdout",
     "output_type": "stream",
     "text": [
      "Epoch 1/20\n",
      "469/469 [==============================] - 1s 2ms/step - loss: 1.0183 - accuracy: 0.7522\n",
      "Epoch 2/20\n",
      "469/469 [==============================] - 1s 1ms/step - loss: 0.5155 - accuracy: 0.8716\n",
      "Epoch 3/20\n",
      "469/469 [==============================] - 1s 1ms/step - loss: 0.4168 - accuracy: 0.8899\n",
      "Epoch 4/20\n",
      "469/469 [==============================] - 1s 1ms/step - loss: 0.3704 - accuracy: 0.8992\n",
      "Epoch 5/20\n",
      "469/469 [==============================] - 1s 1ms/step - loss: 0.3418 - accuracy: 0.9047\n",
      "Epoch 6/20\n",
      "469/469 [==============================] - 1s 1ms/step - loss: 0.3216 - accuracy: 0.9095\n",
      "Epoch 7/20\n",
      "469/469 [==============================] - 1s 1ms/step - loss: 0.3060 - accuracy: 0.9129\n",
      "Epoch 8/20\n",
      "469/469 [==============================] - 1s 1ms/step - loss: 0.2935 - accuracy: 0.9161\n",
      "Epoch 9/20\n",
      "469/469 [==============================] - 1s 1ms/step - loss: 0.2826 - accuracy: 0.9191\n",
      "Epoch 10/20\n",
      "469/469 [==============================] - 1s 1ms/step - loss: 0.2733 - accuracy: 0.9215\n",
      "Epoch 11/20\n",
      "469/469 [==============================] - 1s 1ms/step - loss: 0.2647 - accuracy: 0.9243\n",
      "Epoch 12/20\n",
      "469/469 [==============================] - 1s 1ms/step - loss: 0.2570 - accuracy: 0.9268\n",
      "Epoch 13/20\n",
      "469/469 [==============================] - 1s 1ms/step - loss: 0.2499 - accuracy: 0.9287\n",
      "Epoch 14/20\n",
      "469/469 [==============================] - 1s 1ms/step - loss: 0.2433 - accuracy: 0.9305\n",
      "Epoch 15/20\n",
      "469/469 [==============================] - 1s 1ms/step - loss: 0.2371 - accuracy: 0.9320\n",
      "Epoch 16/20\n",
      "469/469 [==============================] - 1s 1ms/step - loss: 0.2311 - accuracy: 0.9340\n",
      "Epoch 17/20\n",
      "469/469 [==============================] - 1s 1ms/step - loss: 0.2257 - accuracy: 0.9354\n",
      "Epoch 18/20\n",
      "469/469 [==============================] - 1s 1ms/step - loss: 0.2203 - accuracy: 0.9372\n",
      "Epoch 19/20\n",
      "469/469 [==============================] - 1s 1ms/step - loss: 0.2152 - accuracy: 0.9387\n",
      "Epoch 20/20\n",
      "469/469 [==============================] - 1s 2ms/step - loss: 0.2104 - accuracy: 0.9401\n"
     ]
    },
    {
     "data": {
      "text/plain": [
       "<keras.callbacks.History at 0x1e8021d7850>"
      ]
     },
     "execution_count": 7,
     "metadata": {},
     "output_type": "execute_result"
    }
   ],
   "source": [
    "model.fit(X_train, Y_train, batch_size=batch_size, epochs=20, verbose=1)"
   ]
  },
  {
   "cell_type": "code",
   "execution_count": 8,
   "id": "722e28ef",
   "metadata": {},
   "outputs": [],
   "source": [
    "scores['activation'].append('tanh')\n",
    "scores['loss'].append('cross entropy')\n",
    "score = model.evaluate(X_test, Y_test, verbose=0)\n",
    "scores['accuracy'].append(score[1])"
   ]
  },
  {
   "cell_type": "code",
   "execution_count": 9,
   "id": "e004d71f",
   "metadata": {},
   "outputs": [
    {
     "name": "stdout",
     "output_type": "stream",
     "text": [
      "Accuracy score for problem 1: 0.939300000667572\n"
     ]
    }
   ],
   "source": [
    "print('Accuracy score for problem 1:',score[1])"
   ]
  },
  {
   "cell_type": "markdown",
   "id": "211aa417",
   "metadata": {},
   "source": [
    "## Problem 2"
   ]
  },
  {
   "cell_type": "code",
   "execution_count": 10,
   "id": "08095aa0",
   "metadata": {},
   "outputs": [],
   "source": [
    "model = create_model('sigmoid')"
   ]
  },
  {
   "cell_type": "code",
   "execution_count": 11,
   "id": "034f528c",
   "metadata": {},
   "outputs": [],
   "source": [
    "model.compile(optimizer='sgd', loss='categorical_crossentropy',\n",
    "              metrics=['accuracy'])"
   ]
  },
  {
   "cell_type": "code",
   "execution_count": 12,
   "id": "d4630b45",
   "metadata": {},
   "outputs": [
    {
     "name": "stdout",
     "output_type": "stream",
     "text": [
      "Epoch 1/20\n",
      "469/469 [==============================] - 1s 2ms/step - loss: 2.2992 - accuracy: 0.1334\n",
      "Epoch 2/20\n",
      "469/469 [==============================] - 1s 1ms/step - loss: 2.2382 - accuracy: 0.3071\n",
      "Epoch 3/20\n",
      "469/469 [==============================] - 1s 1ms/step - loss: 2.1802 - accuracy: 0.4631\n",
      "Epoch 4/20\n",
      "469/469 [==============================] - 1s 1ms/step - loss: 2.0981 - accuracy: 0.5476\n",
      "Epoch 5/20\n",
      "469/469 [==============================] - 1s 1ms/step - loss: 1.9796 - accuracy: 0.5896\n",
      "Epoch 6/20\n",
      "469/469 [==============================] - 1s 1ms/step - loss: 1.8198 - accuracy: 0.6124\n",
      "Epoch 7/20\n",
      "469/469 [==============================] - 1s 1ms/step - loss: 1.6325 - accuracy: 0.6319\n",
      "Epoch 8/20\n",
      "469/469 [==============================] - 1s 1ms/step - loss: 1.4477 - accuracy: 0.6582\n",
      "Epoch 9/20\n",
      "469/469 [==============================] - 1s 1ms/step - loss: 1.2888 - accuracy: 0.6840\n",
      "Epoch 10/20\n",
      "469/469 [==============================] - 1s 1ms/step - loss: 1.1618 - accuracy: 0.7089\n",
      "Epoch 11/20\n",
      "469/469 [==============================] - 1s 1ms/step - loss: 1.0612 - accuracy: 0.7312\n",
      "Epoch 12/20\n",
      "469/469 [==============================] - 1s 1ms/step - loss: 0.9791 - accuracy: 0.7538: 0s - loss: 1.0095 - \n",
      "Epoch 13/20\n",
      "469/469 [==============================] - 1s 1ms/step - loss: 0.9099 - accuracy: 0.7728\n",
      "Epoch 14/20\n",
      "469/469 [==============================] - 1s 2ms/step - loss: 0.8500 - accuracy: 0.7885\n",
      "Epoch 15/20\n",
      "469/469 [==============================] - 1s 2ms/step - loss: 0.7972 - accuracy: 0.8042\n",
      "Epoch 16/20\n",
      "469/469 [==============================] - 1s 2ms/step - loss: 0.7502 - accuracy: 0.8173\n",
      "Epoch 17/20\n",
      "469/469 [==============================] - 1s 2ms/step - loss: 0.7082 - accuracy: 0.8267\n",
      "Epoch 18/20\n",
      "469/469 [==============================] - 1s 1ms/step - loss: 0.6706 - accuracy: 0.8360\n",
      "Epoch 19/20\n",
      "469/469 [==============================] - 1s 1ms/step - loss: 0.6373 - accuracy: 0.8433\n",
      "Epoch 20/20\n",
      "469/469 [==============================] - 1s 1ms/step - loss: 0.6077 - accuracy: 0.8495\n"
     ]
    },
    {
     "data": {
      "text/plain": [
       "<keras.callbacks.History at 0x1e80244a4c0>"
      ]
     },
     "execution_count": 12,
     "metadata": {},
     "output_type": "execute_result"
    }
   ],
   "source": [
    "model.fit(X_train, Y_train, batch_size=batch_size, epochs=20, verbose=1)"
   ]
  },
  {
   "cell_type": "code",
   "execution_count": 13,
   "id": "a5287943",
   "metadata": {},
   "outputs": [],
   "source": [
    "scores['activation'].append('sigmoid')\n",
    "scores['loss'].append('cross entropy')\n",
    "score = model.evaluate(X_test, Y_test, verbose=0)\n",
    "scores['accuracy'].append(score[1])"
   ]
  },
  {
   "cell_type": "code",
   "execution_count": 14,
   "id": "c6f57685",
   "metadata": {},
   "outputs": [
    {
     "name": "stdout",
     "output_type": "stream",
     "text": [
      "Accuracy score for problem 1: 0.8611999750137329\n"
     ]
    }
   ],
   "source": [
    "print('Accuracy score for problem 1:',score[1])"
   ]
  },
  {
   "cell_type": "markdown",
   "id": "2960af12",
   "metadata": {},
   "source": [
    "## Problem 3"
   ]
  },
  {
   "cell_type": "code",
   "execution_count": 15,
   "id": "8f62d342",
   "metadata": {},
   "outputs": [],
   "source": [
    "model = create_model('relu')"
   ]
  },
  {
   "cell_type": "code",
   "execution_count": 16,
   "id": "17199894",
   "metadata": {},
   "outputs": [],
   "source": [
    "model.compile(optimizer='sgd', loss='categorical_crossentropy',\n",
    "              metrics=['accuracy'])"
   ]
  },
  {
   "cell_type": "code",
   "execution_count": 17,
   "id": "3e2cdd52",
   "metadata": {},
   "outputs": [
    {
     "name": "stdout",
     "output_type": "stream",
     "text": [
      "Epoch 1/20\n",
      "469/469 [==============================] - 1s 1ms/step - loss: 1.3150 - accuracy: 0.6629\n",
      "Epoch 2/20\n",
      "469/469 [==============================] - 1s 1ms/step - loss: 0.4972 - accuracy: 0.8707\n",
      "Epoch 3/20\n",
      "469/469 [==============================] - 1s 1ms/step - loss: 0.3852 - accuracy: 0.8925\n",
      "Epoch 4/20\n",
      "469/469 [==============================] - 1s 1ms/step - loss: 0.3405 - accuracy: 0.9034\n",
      "Epoch 5/20\n",
      "469/469 [==============================] - 1s 1ms/step - loss: 0.3132 - accuracy: 0.9109\n",
      "Epoch 6/20\n",
      "469/469 [==============================] - 1s 1ms/step - loss: 0.2934 - accuracy: 0.9167\n",
      "Epoch 7/20\n",
      "469/469 [==============================] - 1s 1ms/step - loss: 0.2775 - accuracy: 0.9210\n",
      "Epoch 8/20\n",
      "469/469 [==============================] - 1s 1ms/step - loss: 0.2635 - accuracy: 0.9250\n",
      "Epoch 9/20\n",
      "469/469 [==============================] - 1s 1ms/step - loss: 0.2513 - accuracy: 0.9286\n",
      "Epoch 10/20\n",
      "469/469 [==============================] - 1s 1ms/step - loss: 0.2406 - accuracy: 0.9316\n",
      "Epoch 11/20\n",
      "469/469 [==============================] - 1s 1ms/step - loss: 0.2305 - accuracy: 0.9345\n",
      "Epoch 12/20\n",
      "469/469 [==============================] - 1s 1ms/step - loss: 0.2214 - accuracy: 0.9375\n",
      "Epoch 13/20\n",
      "469/469 [==============================] - 1s 1ms/step - loss: 0.2129 - accuracy: 0.9395\n",
      "Epoch 14/20\n",
      "469/469 [==============================] - 1s 1ms/step - loss: 0.2051 - accuracy: 0.9421\n",
      "Epoch 15/20\n",
      "469/469 [==============================] - 1s 1ms/step - loss: 0.1980 - accuracy: 0.9439\n",
      "Epoch 16/20\n",
      "469/469 [==============================] - 1s 1ms/step - loss: 0.1913 - accuracy: 0.9456\n",
      "Epoch 17/20\n",
      "469/469 [==============================] - 1s 1ms/step - loss: 0.1850 - accuracy: 0.9474\n",
      "Epoch 18/20\n",
      "469/469 [==============================] - 1s 1ms/step - loss: 0.1793 - accuracy: 0.9491\n",
      "Epoch 19/20\n",
      "469/469 [==============================] - 1s 1ms/step - loss: 0.1739 - accuracy: 0.9505\n",
      "Epoch 20/20\n",
      "469/469 [==============================] - 1s 1ms/step - loss: 0.1687 - accuracy: 0.9517\n"
     ]
    },
    {
     "data": {
      "text/plain": [
       "<keras.callbacks.History at 0x1e80256f4c0>"
      ]
     },
     "execution_count": 17,
     "metadata": {},
     "output_type": "execute_result"
    }
   ],
   "source": [
    "model.fit(X_train, Y_train, batch_size=batch_size, epochs=20, verbose=1)"
   ]
  },
  {
   "cell_type": "code",
   "execution_count": 18,
   "id": "6a29bf21",
   "metadata": {},
   "outputs": [],
   "source": [
    "scores['activation'].append('relu')\n",
    "scores['loss'].append('cross entropy')\n",
    "score = model.evaluate(X_test, Y_test, verbose=0)\n",
    "scores['accuracy'].append(score[1])"
   ]
  },
  {
   "cell_type": "code",
   "execution_count": 19,
   "id": "217b0a3a",
   "metadata": {},
   "outputs": [
    {
     "name": "stdout",
     "output_type": "stream",
     "text": [
      "Accuracy score for problem 1: 0.9509000182151794\n"
     ]
    }
   ],
   "source": [
    "print('Accuracy score for problem 1:',score[1])"
   ]
  },
  {
   "cell_type": "code",
   "execution_count": 20,
   "id": "a884c131",
   "metadata": {},
   "outputs": [
    {
     "data": {
      "text/html": [
       "<div>\n",
       "<style scoped>\n",
       "    .dataframe tbody tr th:only-of-type {\n",
       "        vertical-align: middle;\n",
       "    }\n",
       "\n",
       "    .dataframe tbody tr th {\n",
       "        vertical-align: top;\n",
       "    }\n",
       "\n",
       "    .dataframe thead th {\n",
       "        text-align: right;\n",
       "    }\n",
       "</style>\n",
       "<table border=\"1\" class=\"dataframe\">\n",
       "  <thead>\n",
       "    <tr style=\"text-align: right;\">\n",
       "      <th></th>\n",
       "      <th>activation</th>\n",
       "      <th>loss</th>\n",
       "      <th>accuracy</th>\n",
       "    </tr>\n",
       "  </thead>\n",
       "  <tbody>\n",
       "    <tr>\n",
       "      <th>0</th>\n",
       "      <td>tanh</td>\n",
       "      <td>cross entropy</td>\n",
       "      <td>0.9393</td>\n",
       "    </tr>\n",
       "    <tr>\n",
       "      <th>1</th>\n",
       "      <td>sigmoid</td>\n",
       "      <td>cross entropy</td>\n",
       "      <td>0.8612</td>\n",
       "    </tr>\n",
       "    <tr>\n",
       "      <th>2</th>\n",
       "      <td>relu</td>\n",
       "      <td>cross entropy</td>\n",
       "      <td>0.9509</td>\n",
       "    </tr>\n",
       "  </tbody>\n",
       "</table>\n",
       "</div>"
      ],
      "text/plain": [
       "  activation           loss  accuracy\n",
       "0       tanh  cross entropy    0.9393\n",
       "1    sigmoid  cross entropy    0.8612\n",
       "2       relu  cross entropy    0.9509"
      ]
     },
     "execution_count": 20,
     "metadata": {},
     "output_type": "execute_result"
    }
   ],
   "source": [
    "pd.DataFrame(scores)"
   ]
  },
  {
   "cell_type": "markdown",
   "id": "4d5af8b7",
   "metadata": {},
   "source": [
    "Relu performed best with an accuracy of 0.94"
   ]
  },
  {
   "cell_type": "markdown",
   "id": "c68e29bb",
   "metadata": {},
   "source": [
    "# Part 2"
   ]
  },
  {
   "cell_type": "code",
   "execution_count": 22,
   "id": "44a6f6f7",
   "metadata": {},
   "outputs": [
    {
     "name": "stdout",
     "output_type": "stream",
     "text": [
      "Epoch 1/20\n",
      "469/469 [==============================] - 1s 2ms/step - loss: 0.9462 - accuracy: 0.5068\n",
      "Epoch 2/20\n",
      "469/469 [==============================] - 1s 1ms/step - loss: 0.7202 - accuracy: 0.7205\n",
      "Epoch 3/20\n",
      "469/469 [==============================] - 1s 1ms/step - loss: 0.5560 - accuracy: 0.8083\n",
      "Epoch 4/20\n",
      "469/469 [==============================] - 1s 1ms/step - loss: 0.4460 - accuracy: 0.8526\n",
      "Epoch 5/20\n",
      "469/469 [==============================] - 1s 1ms/step - loss: 0.3754 - accuracy: 0.8721\n",
      "Epoch 6/20\n",
      "469/469 [==============================] - 1s 1ms/step - loss: 0.3316 - accuracy: 0.8816\n",
      "Epoch 7/20\n",
      "469/469 [==============================] - 1s 1ms/step - loss: 0.3026 - accuracy: 0.8881\n",
      "Epoch 8/20\n",
      "469/469 [==============================] - 1s 1ms/step - loss: 0.2817 - accuracy: 0.8933\n",
      "Epoch 9/20\n",
      "469/469 [==============================] - 1s 1ms/step - loss: 0.2658 - accuracy: 0.8971\n",
      "Epoch 10/20\n",
      "469/469 [==============================] - 1s 1ms/step - loss: 0.2532 - accuracy: 0.9004\n",
      "Epoch 11/20\n",
      "469/469 [==============================] - ETA: 0s - loss: 0.2425 - accuracy: 0.90 - 1s 1ms/step - loss: 0.2428 - accuracy: 0.9034\n",
      "Epoch 12/20\n",
      "469/469 [==============================] - 1s 1ms/step - loss: 0.2341 - accuracy: 0.9057\n",
      "Epoch 13/20\n",
      "469/469 [==============================] - 1s 1ms/step - loss: 0.2265 - accuracy: 0.9076\n",
      "Epoch 14/20\n",
      "469/469 [==============================] - 1s 1ms/step - loss: 0.2199 - accuracy: 0.9099\n",
      "Epoch 15/20\n",
      "469/469 [==============================] - 1s 1ms/step - loss: 0.2139 - accuracy: 0.9116\n",
      "Epoch 16/20\n",
      "469/469 [==============================] - 1s 1ms/step - loss: 0.2086 - accuracy: 0.9136\n",
      "Epoch 17/20\n",
      "469/469 [==============================] - 1s 1ms/step - loss: 0.2038 - accuracy: 0.9153\n",
      "Epoch 18/20\n",
      "469/469 [==============================] - 1s 1ms/step - loss: 0.1994 - accuracy: 0.9168\n",
      "Epoch 19/20\n",
      "469/469 [==============================] - 1s 1ms/step - loss: 0.1953 - accuracy: 0.9183\n",
      "Epoch 20/20\n",
      "469/469 [==============================] - 1s 1ms/step - loss: 0.1916 - accuracy: 0.9200\n",
      "Accuracy score for problem 1: 0.9254999756813049\n"
     ]
    }
   ],
   "source": [
    "model = create_model('tanh')\n",
    "model.compile(optimizer='sgd', loss='categorical_hinge',\n",
    "              metrics=['accuracy'])\n",
    "model.fit(X_train, Y_train, batch_size=batch_size, epochs=20, verbose=1)\n",
    "scores['activation'].append('tanh')\n",
    "scores['loss'].append('hinge')\n",
    "score = model.evaluate(X_test, Y_test, verbose=0)\n",
    "scores['accuracy'].append(score[1])\n",
    "print('Accuracy score for problem 1:',score[1])"
   ]
  },
  {
   "cell_type": "code",
   "execution_count": 23,
   "id": "cbcc486b",
   "metadata": {},
   "outputs": [
    {
     "name": "stdout",
     "output_type": "stream",
     "text": [
      "Epoch 1/20\n",
      "469/469 [==============================] - 1s 2ms/step - loss: 1.0248 - accuracy: 0.1516\n",
      "Epoch 2/20\n",
      "469/469 [==============================] - 1s 2ms/step - loss: 1.0084 - accuracy: 0.1820\n",
      "Epoch 3/20\n",
      "469/469 [==============================] - 1s 1ms/step - loss: 1.0028 - accuracy: 0.2331\n",
      "Epoch 4/20\n",
      "469/469 [==============================] - 1s 1ms/step - loss: 1.0019 - accuracy: 0.2822\n",
      "Epoch 5/20\n",
      "469/469 [==============================] - 1s 1ms/step - loss: 1.0014 - accuracy: 0.3275\n",
      "Epoch 6/20\n",
      "469/469 [==============================] - 1s 1ms/step - loss: 1.0011 - accuracy: 0.3706\n",
      "Epoch 7/20\n",
      "469/469 [==============================] - 1s 1ms/step - loss: 1.0007 - accuracy: 0.4098\n",
      "Epoch 8/20\n",
      "469/469 [==============================] - 1s 1ms/step - loss: 1.0003 - accuracy: 0.4448\n",
      "Epoch 9/20\n",
      "469/469 [==============================] - 1s 1ms/step - loss: 1.0000 - accuracy: 0.4772\n",
      "Epoch 10/20\n",
      "469/469 [==============================] - 1s 1ms/step - loss: 0.9997 - accuracy: 0.5041\n",
      "Epoch 11/20\n",
      "469/469 [==============================] - 1s 1ms/step - loss: 0.9994 - accuracy: 0.5304\n",
      "Epoch 12/20\n",
      "469/469 [==============================] - 1s 1ms/step - loss: 0.9991 - accuracy: 0.5527\n",
      "Epoch 13/20\n",
      "469/469 [==============================] - 1s 1ms/step - loss: 0.9989 - accuracy: 0.5726\n",
      "Epoch 14/20\n",
      "469/469 [==============================] - 1s 1ms/step - loss: 0.9986 - accuracy: 0.5901\n",
      "Epoch 15/20\n",
      "469/469 [==============================] - 1s 1ms/step - loss: 0.9983 - accuracy: 0.6055\n",
      "Epoch 16/20\n",
      "469/469 [==============================] - 1s 1ms/step - loss: 0.9981 - accuracy: 0.6198\n",
      "Epoch 17/20\n",
      "469/469 [==============================] - 1s 1ms/step - loss: 0.9978 - accuracy: 0.6325\n",
      "Epoch 18/20\n",
      "469/469 [==============================] - 1s 1ms/step - loss: 0.9976 - accuracy: 0.6435\n",
      "Epoch 19/20\n",
      "469/469 [==============================] - 1s 1ms/step - loss: 0.9973 - accuracy: 0.6531\n",
      "Epoch 20/20\n",
      "469/469 [==============================] - 1s 1ms/step - loss: 0.9971 - accuracy: 0.6615\n",
      "Accuracy score for problem 2: 0.6827999949455261\n"
     ]
    }
   ],
   "source": [
    "model = create_model('sigmoid')\n",
    "model.compile(optimizer='sgd', loss='categorical_hinge',\n",
    "              metrics=['accuracy'])\n",
    "model.fit(X_train, Y_train, batch_size=batch_size, epochs=20, verbose=1)\n",
    "scores['activation'].append('sigmoid')\n",
    "scores['loss'].append('hinge')\n",
    "score = model.evaluate(X_test, Y_test, verbose=0)\n",
    "scores['accuracy'].append(score[1])\n",
    "print('Accuracy score for problem 2:',score[1])"
   ]
  },
  {
   "cell_type": "code",
   "execution_count": 24,
   "id": "923aa86a",
   "metadata": {},
   "outputs": [
    {
     "name": "stdout",
     "output_type": "stream",
     "text": [
      "Epoch 1/20\n",
      "469/469 [==============================] - 1s 2ms/step - loss: 1.0159 - accuracy: 0.2662\n",
      "Epoch 2/20\n",
      "469/469 [==============================] - 1s 1ms/step - loss: 0.9949 - accuracy: 0.5203\n",
      "Epoch 3/20\n",
      "469/469 [==============================] - 1s 1ms/step - loss: 0.9502 - accuracy: 0.6361\n",
      "Epoch 4/20\n",
      "469/469 [==============================] - 1s 1ms/step - loss: 0.7876 - accuracy: 0.6959\n",
      "Epoch 5/20\n",
      "469/469 [==============================] - 1s 1ms/step - loss: 0.5826 - accuracy: 0.8018\n",
      "Epoch 6/20\n",
      "469/469 [==============================] - 1s 1ms/step - loss: 0.4334 - accuracy: 0.8570\n",
      "Epoch 7/20\n",
      "469/469 [==============================] - 1s 1ms/step - loss: 0.3442 - accuracy: 0.8773\n",
      "Epoch 8/20\n",
      "469/469 [==============================] - 1s 1ms/step - loss: 0.2955 - accuracy: 0.8884\n",
      "Epoch 9/20\n",
      "469/469 [==============================] - 1s 1ms/step - loss: 0.2660 - accuracy: 0.8956\n",
      "Epoch 10/20\n",
      "469/469 [==============================] - 1s 1ms/step - loss: 0.2461 - accuracy: 0.9003\n",
      "Epoch 11/20\n",
      "469/469 [==============================] - 1s 1ms/step - loss: 0.2315 - accuracy: 0.9046\n",
      "Epoch 12/20\n",
      "469/469 [==============================] - 1s 1ms/step - loss: 0.2200 - accuracy: 0.9073\n",
      "Epoch 13/20\n",
      "469/469 [==============================] - 1s 1ms/step - loss: 0.2107 - accuracy: 0.9107\n",
      "Epoch 14/20\n",
      "469/469 [==============================] - 1s 1ms/step - loss: 0.2030 - accuracy: 0.9131\n",
      "Epoch 15/20\n",
      "469/469 [==============================] - 1s 1ms/step - loss: 0.1964 - accuracy: 0.9155\n",
      "Epoch 16/20\n",
      "469/469 [==============================] - 1s 1ms/step - loss: 0.1906 - accuracy: 0.9179\n",
      "Epoch 17/20\n",
      "469/469 [==============================] - 1s 1ms/step - loss: 0.1855 - accuracy: 0.9196\n",
      "Epoch 18/20\n",
      "469/469 [==============================] - 1s 1ms/step - loss: 0.1808 - accuracy: 0.9211\n",
      "Epoch 19/20\n",
      "469/469 [==============================] - 1s 1ms/step - loss: 0.1765 - accuracy: 0.9227\n",
      "Epoch 20/20\n",
      "469/469 [==============================] - 1s 1ms/step - loss: 0.1726 - accuracy: 0.9247\n",
      "Accuracy score for problem 3: 0.9258999824523926\n"
     ]
    }
   ],
   "source": [
    "model = create_model('relu')\n",
    "model.compile(optimizer='sgd', loss='categorical_hinge',\n",
    "              metrics=['accuracy'])\n",
    "model.fit(X_train, Y_train, batch_size=batch_size, epochs=20, verbose=1)\n",
    "scores['activation'].append('relu')\n",
    "scores['loss'].append('hinge')\n",
    "score = model.evaluate(X_test, Y_test, verbose=0)\n",
    "scores['accuracy'].append(score[1])\n",
    "print('Accuracy score for problem 3:',score[1])"
   ]
  },
  {
   "cell_type": "code",
   "execution_count": 25,
   "id": "2730c882",
   "metadata": {},
   "outputs": [
    {
     "data": {
      "text/html": [
       "<div>\n",
       "<style scoped>\n",
       "    .dataframe tbody tr th:only-of-type {\n",
       "        vertical-align: middle;\n",
       "    }\n",
       "\n",
       "    .dataframe tbody tr th {\n",
       "        vertical-align: top;\n",
       "    }\n",
       "\n",
       "    .dataframe thead th {\n",
       "        text-align: right;\n",
       "    }\n",
       "</style>\n",
       "<table border=\"1\" class=\"dataframe\">\n",
       "  <thead>\n",
       "    <tr style=\"text-align: right;\">\n",
       "      <th></th>\n",
       "      <th>activation</th>\n",
       "      <th>loss</th>\n",
       "      <th>accuracy</th>\n",
       "    </tr>\n",
       "  </thead>\n",
       "  <tbody>\n",
       "    <tr>\n",
       "      <th>0</th>\n",
       "      <td>tanh</td>\n",
       "      <td>cross entropy</td>\n",
       "      <td>0.9393</td>\n",
       "    </tr>\n",
       "    <tr>\n",
       "      <th>1</th>\n",
       "      <td>sigmoid</td>\n",
       "      <td>cross entropy</td>\n",
       "      <td>0.8612</td>\n",
       "    </tr>\n",
       "    <tr>\n",
       "      <th>2</th>\n",
       "      <td>relu</td>\n",
       "      <td>cross entropy</td>\n",
       "      <td>0.9509</td>\n",
       "    </tr>\n",
       "    <tr>\n",
       "      <th>3</th>\n",
       "      <td>tanh</td>\n",
       "      <td>hinge</td>\n",
       "      <td>0.9255</td>\n",
       "    </tr>\n",
       "    <tr>\n",
       "      <th>4</th>\n",
       "      <td>sigmoid</td>\n",
       "      <td>hinge</td>\n",
       "      <td>0.6828</td>\n",
       "    </tr>\n",
       "    <tr>\n",
       "      <th>5</th>\n",
       "      <td>relu</td>\n",
       "      <td>hinge</td>\n",
       "      <td>0.9259</td>\n",
       "    </tr>\n",
       "  </tbody>\n",
       "</table>\n",
       "</div>"
      ],
      "text/plain": [
       "  activation           loss  accuracy\n",
       "0       tanh  cross entropy    0.9393\n",
       "1    sigmoid  cross entropy    0.8612\n",
       "2       relu  cross entropy    0.9509\n",
       "3       tanh          hinge    0.9255\n",
       "4    sigmoid          hinge    0.6828\n",
       "5       relu          hinge    0.9259"
      ]
     },
     "execution_count": 25,
     "metadata": {},
     "output_type": "execute_result"
    }
   ],
   "source": [
    "pd.DataFrame(scores)"
   ]
  },
  {
   "cell_type": "markdown",
   "id": "0a44bab3",
   "metadata": {},
   "source": [
    "Hinge did not perform as well as cross entropy.  For both relu performed the best and sigmoid the worst."
   ]
  },
  {
   "cell_type": "code",
   "execution_count": null,
   "id": "c88d9d15",
   "metadata": {},
   "outputs": [],
   "source": []
  }
 ],
 "metadata": {
  "kernelspec": {
   "display_name": "Python 3",
   "language": "python",
   "name": "python3"
  },
  "language_info": {
   "codemirror_mode": {
    "name": "ipython",
    "version": 3
   },
   "file_extension": ".py",
   "mimetype": "text/x-python",
   "name": "python",
   "nbconvert_exporter": "python",
   "pygments_lexer": "ipython3",
   "version": "3.9.5"
  }
 },
 "nbformat": 4,
 "nbformat_minor": 5
}
