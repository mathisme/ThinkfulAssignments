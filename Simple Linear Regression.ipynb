{
 "cells": [
  {
   "cell_type": "code",
   "execution_count": 1,
   "id": "183a33dd",
   "metadata": {},
   "outputs": [],
   "source": [
    "import numpy as np\n",
    "import pandas as pd\n",
    "import seaborn as sns\n",
    "from sklearn import linear_model\n",
    "from sklearn.impute import KNNImputer\n",
    "import statsmodels.api as sm\n",
    "import matplotlib.pyplot as plt\n",
    "from sqlalchemy import create_engine\n",
    "\n",
    "import warnings\n",
    "warnings.filterwarnings('ignore')"
   ]
  },
  {
   "cell_type": "markdown",
   "id": "8166c29b",
   "metadata": {},
   "source": [
    "# Import the Data"
   ]
  },
  {
   "cell_type": "code",
   "execution_count": 2,
   "id": "122792f9",
   "metadata": {},
   "outputs": [],
   "source": [
    "postgres_user = 'dsbc_student'\n",
    "postgres_pw = '7*.8G9QH21'\n",
    "postgres_host = '142.93.121.174'\n",
    "postgres_port = '5432'\n",
    "postgres_db = 'houseprices'"
   ]
  },
  {
   "cell_type": "code",
   "execution_count": 20,
   "id": "46f7561f",
   "metadata": {},
   "outputs": [],
   "source": [
    "engine = create_engine('postgresql://{}:{}@{}:{}/{}'.format(\n",
    "    postgres_user, postgres_pw, postgres_host, postgres_port, postgres_db))\n",
    "df = pd.read_sql_query('select * from houseprices',con=engine)\n",
    "\n",
    "engine.dispose()"
   ]
  },
  {
   "cell_type": "code",
   "execution_count": 21,
   "id": "28d01c54",
   "metadata": {},
   "outputs": [
    {
     "name": "stdout",
     "output_type": "stream",
     "text": [
      "<class 'pandas.core.frame.DataFrame'>\n",
      "RangeIndex: 1460 entries, 0 to 1459\n",
      "Data columns (total 81 columns):\n",
      " #   Column         Non-Null Count  Dtype  \n",
      "---  ------         --------------  -----  \n",
      " 0   id             1460 non-null   int64  \n",
      " 1   mssubclass     1460 non-null   int64  \n",
      " 2   mszoning       1460 non-null   object \n",
      " 3   lotfrontage    1201 non-null   float64\n",
      " 4   lotarea        1460 non-null   int64  \n",
      " 5   street         1460 non-null   object \n",
      " 6   alley          91 non-null     object \n",
      " 7   lotshape       1460 non-null   object \n",
      " 8   landcontour    1460 non-null   object \n",
      " 9   utilities      1460 non-null   object \n",
      " 10  lotconfig      1460 non-null   object \n",
      " 11  landslope      1460 non-null   object \n",
      " 12  neighborhood   1460 non-null   object \n",
      " 13  condition1     1460 non-null   object \n",
      " 14  condition2     1460 non-null   object \n",
      " 15  bldgtype       1460 non-null   object \n",
      " 16  housestyle     1460 non-null   object \n",
      " 17  overallqual    1460 non-null   int64  \n",
      " 18  overallcond    1460 non-null   int64  \n",
      " 19  yearbuilt      1460 non-null   int64  \n",
      " 20  yearremodadd   1460 non-null   int64  \n",
      " 21  roofstyle      1460 non-null   object \n",
      " 22  roofmatl       1460 non-null   object \n",
      " 23  exterior1st    1460 non-null   object \n",
      " 24  exterior2nd    1460 non-null   object \n",
      " 25  masvnrtype     1452 non-null   object \n",
      " 26  masvnrarea     1452 non-null   float64\n",
      " 27  exterqual      1460 non-null   object \n",
      " 28  extercond      1460 non-null   object \n",
      " 29  foundation     1460 non-null   object \n",
      " 30  bsmtqual       1423 non-null   object \n",
      " 31  bsmtcond       1423 non-null   object \n",
      " 32  bsmtexposure   1422 non-null   object \n",
      " 33  bsmtfintype1   1423 non-null   object \n",
      " 34  bsmtfinsf1     1460 non-null   int64  \n",
      " 35  bsmtfintype2   1422 non-null   object \n",
      " 36  bsmtfinsf2     1460 non-null   int64  \n",
      " 37  bsmtunfsf      1460 non-null   int64  \n",
      " 38  totalbsmtsf    1460 non-null   int64  \n",
      " 39  heating        1460 non-null   object \n",
      " 40  heatingqc      1460 non-null   object \n",
      " 41  centralair     1460 non-null   object \n",
      " 42  electrical     1459 non-null   object \n",
      " 43  firstflrsf     1460 non-null   int64  \n",
      " 44  secondflrsf    1460 non-null   int64  \n",
      " 45  lowqualfinsf   1460 non-null   int64  \n",
      " 46  grlivarea      1460 non-null   int64  \n",
      " 47  bsmtfullbath   1460 non-null   int64  \n",
      " 48  bsmthalfbath   1460 non-null   int64  \n",
      " 49  fullbath       1460 non-null   int64  \n",
      " 50  halfbath       1460 non-null   int64  \n",
      " 51  bedroomabvgr   1460 non-null   int64  \n",
      " 52  kitchenabvgr   1460 non-null   int64  \n",
      " 53  kitchenqual    1460 non-null   object \n",
      " 54  totrmsabvgrd   1460 non-null   int64  \n",
      " 55  functional     1460 non-null   object \n",
      " 56  fireplaces     1460 non-null   int64  \n",
      " 57  fireplacequ    770 non-null    object \n",
      " 58  garagetype     1379 non-null   object \n",
      " 59  garageyrblt    1379 non-null   float64\n",
      " 60  garagefinish   1379 non-null   object \n",
      " 61  garagecars     1460 non-null   int64  \n",
      " 62  garagearea     1460 non-null   int64  \n",
      " 63  garagequal     1379 non-null   object \n",
      " 64  garagecond     1379 non-null   object \n",
      " 65  paveddrive     1460 non-null   object \n",
      " 66  wooddecksf     1460 non-null   int64  \n",
      " 67  openporchsf    1460 non-null   int64  \n",
      " 68  enclosedporch  1460 non-null   int64  \n",
      " 69  threessnporch  1460 non-null   int64  \n",
      " 70  screenporch    1460 non-null   int64  \n",
      " 71  poolarea       1460 non-null   int64  \n",
      " 72  poolqc         7 non-null      object \n",
      " 73  fence          281 non-null    object \n",
      " 74  miscfeature    54 non-null     object \n",
      " 75  miscval        1460 non-null   int64  \n",
      " 76  mosold         1460 non-null   int64  \n",
      " 77  yrsold         1460 non-null   int64  \n",
      " 78  saletype       1460 non-null   object \n",
      " 79  salecondition  1460 non-null   object \n",
      " 80  saleprice      1460 non-null   int64  \n",
      "dtypes: float64(3), int64(35), object(43)\n",
      "memory usage: 924.0+ KB\n"
     ]
    }
   ],
   "source": [
    "df.info()"
   ]
  },
  {
   "cell_type": "code",
   "execution_count": 22,
   "id": "25e4a4df",
   "metadata": {},
   "outputs": [
    {
     "data": {
      "text/html": [
       "<div>\n",
       "<style scoped>\n",
       "    .dataframe tbody tr th:only-of-type {\n",
       "        vertical-align: middle;\n",
       "    }\n",
       "\n",
       "    .dataframe tbody tr th {\n",
       "        vertical-align: top;\n",
       "    }\n",
       "\n",
       "    .dataframe thead th {\n",
       "        text-align: right;\n",
       "    }\n",
       "</style>\n",
       "<table border=\"1\" class=\"dataframe\">\n",
       "  <thead>\n",
       "    <tr style=\"text-align: right;\">\n",
       "      <th></th>\n",
       "      <th>id</th>\n",
       "      <th>mssubclass</th>\n",
       "      <th>mszoning</th>\n",
       "      <th>lotfrontage</th>\n",
       "      <th>lotarea</th>\n",
       "      <th>street</th>\n",
       "      <th>alley</th>\n",
       "      <th>lotshape</th>\n",
       "      <th>landcontour</th>\n",
       "      <th>utilities</th>\n",
       "      <th>...</th>\n",
       "      <th>poolarea</th>\n",
       "      <th>poolqc</th>\n",
       "      <th>fence</th>\n",
       "      <th>miscfeature</th>\n",
       "      <th>miscval</th>\n",
       "      <th>mosold</th>\n",
       "      <th>yrsold</th>\n",
       "      <th>saletype</th>\n",
       "      <th>salecondition</th>\n",
       "      <th>saleprice</th>\n",
       "    </tr>\n",
       "  </thead>\n",
       "  <tbody>\n",
       "    <tr>\n",
       "      <th>0</th>\n",
       "      <td>1</td>\n",
       "      <td>60</td>\n",
       "      <td>RL</td>\n",
       "      <td>65.0</td>\n",
       "      <td>8450</td>\n",
       "      <td>Pave</td>\n",
       "      <td>None</td>\n",
       "      <td>Reg</td>\n",
       "      <td>Lvl</td>\n",
       "      <td>AllPub</td>\n",
       "      <td>...</td>\n",
       "      <td>0</td>\n",
       "      <td>None</td>\n",
       "      <td>None</td>\n",
       "      <td>None</td>\n",
       "      <td>0</td>\n",
       "      <td>2</td>\n",
       "      <td>2008</td>\n",
       "      <td>WD</td>\n",
       "      <td>Normal</td>\n",
       "      <td>208500</td>\n",
       "    </tr>\n",
       "    <tr>\n",
       "      <th>1</th>\n",
       "      <td>2</td>\n",
       "      <td>20</td>\n",
       "      <td>RL</td>\n",
       "      <td>80.0</td>\n",
       "      <td>9600</td>\n",
       "      <td>Pave</td>\n",
       "      <td>None</td>\n",
       "      <td>Reg</td>\n",
       "      <td>Lvl</td>\n",
       "      <td>AllPub</td>\n",
       "      <td>...</td>\n",
       "      <td>0</td>\n",
       "      <td>None</td>\n",
       "      <td>None</td>\n",
       "      <td>None</td>\n",
       "      <td>0</td>\n",
       "      <td>5</td>\n",
       "      <td>2007</td>\n",
       "      <td>WD</td>\n",
       "      <td>Normal</td>\n",
       "      <td>181500</td>\n",
       "    </tr>\n",
       "    <tr>\n",
       "      <th>2</th>\n",
       "      <td>3</td>\n",
       "      <td>60</td>\n",
       "      <td>RL</td>\n",
       "      <td>68.0</td>\n",
       "      <td>11250</td>\n",
       "      <td>Pave</td>\n",
       "      <td>None</td>\n",
       "      <td>IR1</td>\n",
       "      <td>Lvl</td>\n",
       "      <td>AllPub</td>\n",
       "      <td>...</td>\n",
       "      <td>0</td>\n",
       "      <td>None</td>\n",
       "      <td>None</td>\n",
       "      <td>None</td>\n",
       "      <td>0</td>\n",
       "      <td>9</td>\n",
       "      <td>2008</td>\n",
       "      <td>WD</td>\n",
       "      <td>Normal</td>\n",
       "      <td>223500</td>\n",
       "    </tr>\n",
       "    <tr>\n",
       "      <th>3</th>\n",
       "      <td>4</td>\n",
       "      <td>70</td>\n",
       "      <td>RL</td>\n",
       "      <td>60.0</td>\n",
       "      <td>9550</td>\n",
       "      <td>Pave</td>\n",
       "      <td>None</td>\n",
       "      <td>IR1</td>\n",
       "      <td>Lvl</td>\n",
       "      <td>AllPub</td>\n",
       "      <td>...</td>\n",
       "      <td>0</td>\n",
       "      <td>None</td>\n",
       "      <td>None</td>\n",
       "      <td>None</td>\n",
       "      <td>0</td>\n",
       "      <td>2</td>\n",
       "      <td>2006</td>\n",
       "      <td>WD</td>\n",
       "      <td>Abnorml</td>\n",
       "      <td>140000</td>\n",
       "    </tr>\n",
       "    <tr>\n",
       "      <th>4</th>\n",
       "      <td>5</td>\n",
       "      <td>60</td>\n",
       "      <td>RL</td>\n",
       "      <td>84.0</td>\n",
       "      <td>14260</td>\n",
       "      <td>Pave</td>\n",
       "      <td>None</td>\n",
       "      <td>IR1</td>\n",
       "      <td>Lvl</td>\n",
       "      <td>AllPub</td>\n",
       "      <td>...</td>\n",
       "      <td>0</td>\n",
       "      <td>None</td>\n",
       "      <td>None</td>\n",
       "      <td>None</td>\n",
       "      <td>0</td>\n",
       "      <td>12</td>\n",
       "      <td>2008</td>\n",
       "      <td>WD</td>\n",
       "      <td>Normal</td>\n",
       "      <td>250000</td>\n",
       "    </tr>\n",
       "  </tbody>\n",
       "</table>\n",
       "<p>5 rows × 81 columns</p>\n",
       "</div>"
      ],
      "text/plain": [
       "   id  mssubclass mszoning  lotfrontage  lotarea street alley lotshape  \\\n",
       "0   1          60       RL         65.0     8450   Pave  None      Reg   \n",
       "1   2          20       RL         80.0     9600   Pave  None      Reg   \n",
       "2   3          60       RL         68.0    11250   Pave  None      IR1   \n",
       "3   4          70       RL         60.0     9550   Pave  None      IR1   \n",
       "4   5          60       RL         84.0    14260   Pave  None      IR1   \n",
       "\n",
       "  landcontour utilities  ... poolarea poolqc fence miscfeature miscval mosold  \\\n",
       "0         Lvl    AllPub  ...        0   None  None        None       0      2   \n",
       "1         Lvl    AllPub  ...        0   None  None        None       0      5   \n",
       "2         Lvl    AllPub  ...        0   None  None        None       0      9   \n",
       "3         Lvl    AllPub  ...        0   None  None        None       0      2   \n",
       "4         Lvl    AllPub  ...        0   None  None        None       0     12   \n",
       "\n",
       "  yrsold  saletype  salecondition  saleprice  \n",
       "0   2008        WD         Normal     208500  \n",
       "1   2007        WD         Normal     181500  \n",
       "2   2008        WD         Normal     223500  \n",
       "3   2006        WD        Abnorml     140000  \n",
       "4   2008        WD         Normal     250000  \n",
       "\n",
       "[5 rows x 81 columns]"
      ]
     },
     "execution_count": 22,
     "metadata": {},
     "output_type": "execute_result"
    }
   ],
   "source": [
    "df.head(5)"
   ]
  },
  {
   "cell_type": "markdown",
   "id": "b132a1f8",
   "metadata": {},
   "source": [
    "# Searching for missing values"
   ]
  },
  {
   "cell_type": "code",
   "execution_count": 23,
   "id": "5d89da5b",
   "metadata": {},
   "outputs": [
    {
     "data": {
      "text/plain": [
       "Index(['lotfrontage', 'alley', 'masvnrtype', 'masvnrarea', 'bsmtqual',\n",
       "       'bsmtcond', 'bsmtexposure', 'bsmtfintype1', 'bsmtfintype2',\n",
       "       'electrical', 'fireplacequ', 'garagetype', 'garageyrblt',\n",
       "       'garagefinish', 'garagequal', 'garagecond', 'poolqc', 'fence',\n",
       "       'miscfeature'],\n",
       "      dtype='object')"
      ]
     },
     "execution_count": 23,
     "metadata": {},
     "output_type": "execute_result"
    }
   ],
   "source": [
    "df.columns[df.isnull().sum()!=0]"
   ]
  },
  {
   "cell_type": "markdown",
   "id": "d822fcf0",
   "metadata": {},
   "source": [
    "There are many variables with apparent null values.  Next I want to search for missing values that may not be apparent"
   ]
  },
  {
   "cell_type": "code",
   "execution_count": 24,
   "id": "c1c7b34f",
   "metadata": {},
   "outputs": [
    {
     "name": "stdout",
     "output_type": "stream",
     "text": [
      "mszoning :  ['RL' 'RM' 'C (all)' 'FV' 'RH']\n",
      "street :  ['Pave' 'Grvl']\n",
      "lotshape :  ['Reg' 'IR1' 'IR2' 'IR3']\n",
      "landcontour :  ['Lvl' 'Bnk' 'Low' 'HLS']\n",
      "utilities :  ['AllPub' 'NoSeWa']\n",
      "lotconfig :  ['Inside' 'FR2' 'Corner' 'CulDSac' 'FR3']\n",
      "landslope :  ['Gtl' 'Mod' 'Sev']\n",
      "neighborhood :  ['CollgCr' 'Veenker' 'Crawfor' 'NoRidge' 'Mitchel' 'Somerst' 'NWAmes'\n",
      " 'OldTown' 'BrkSide' 'Sawyer' 'NridgHt' 'NAmes' 'SawyerW' 'IDOTRR'\n",
      " 'MeadowV' 'Edwards' 'Timber' 'Gilbert' 'StoneBr' 'ClearCr' 'NPkVill'\n",
      " 'Blmngtn' 'BrDale' 'SWISU' 'Blueste']\n",
      "condition1 :  ['Norm' 'Feedr' 'PosN' 'Artery' 'RRAe' 'RRNn' 'RRAn' 'PosA' 'RRNe']\n",
      "condition2 :  ['Norm' 'Artery' 'RRNn' 'Feedr' 'PosN' 'PosA' 'RRAn' 'RRAe']\n",
      "bldgtype :  ['1Fam' '2fmCon' 'Duplex' 'TwnhsE' 'Twnhs']\n",
      "housestyle :  ['2Story' '1Story' '1.5Fin' '1.5Unf' 'SFoyer' 'SLvl' '2.5Unf' '2.5Fin']\n",
      "roofstyle :  ['Gable' 'Hip' 'Gambrel' 'Mansard' 'Flat' 'Shed']\n",
      "roofmatl :  ['CompShg' 'WdShngl' 'Metal' 'WdShake' 'Membran' 'Tar&Grv' 'Roll'\n",
      " 'ClyTile']\n",
      "exterior1st :  ['VinylSd' 'MetalSd' 'Wd Sdng' 'HdBoard' 'BrkFace' 'WdShing' 'CemntBd'\n",
      " 'Plywood' 'AsbShng' 'Stucco' 'BrkComm' 'AsphShn' 'Stone' 'ImStucc'\n",
      " 'CBlock']\n",
      "exterior2nd :  ['VinylSd' 'MetalSd' 'Wd Shng' 'HdBoard' 'Plywood' 'Wd Sdng' 'CmentBd'\n",
      " 'BrkFace' 'Stucco' 'AsbShng' 'Brk Cmn' 'ImStucc' 'AsphShn' 'Stone'\n",
      " 'Other' 'CBlock']\n",
      "exterqual :  ['Gd' 'TA' 'Ex' 'Fa']\n",
      "extercond :  ['TA' 'Gd' 'Fa' 'Po' 'Ex']\n",
      "foundation :  ['PConc' 'CBlock' 'BrkTil' 'Wood' 'Slab' 'Stone']\n",
      "heating :  ['GasA' 'GasW' 'Grav' 'Wall' 'OthW' 'Floor']\n",
      "heatingqc :  ['Ex' 'Gd' 'TA' 'Fa' 'Po']\n",
      "centralair :  ['Y' 'N']\n",
      "kitchenqual :  ['Gd' 'TA' 'Ex' 'Fa']\n",
      "functional :  ['Typ' 'Min1' 'Maj1' 'Min2' 'Mod' 'Maj2' 'Sev']\n",
      "paveddrive :  ['Y' 'N' 'P']\n",
      "saletype :  ['WD' 'New' 'COD' 'ConLD' 'ConLI' 'CWD' 'ConLw' 'Con' 'Oth']\n",
      "salecondition :  ['Normal' 'Abnorml' 'Partial' 'AdjLand' 'Alloca' 'Family']\n"
     ]
    }
   ],
   "source": [
    "nulls = df.columns[df.isnull().sum()!=0]\n",
    "cols = df.select_dtypes('object')\n",
    "for col in cols:\n",
    "    if col not in nulls:\n",
    "        print(col,\": \",df[col].unique())"
   ]
  },
  {
   "cell_type": "markdown",
   "id": "4bdd5e50",
   "metadata": {},
   "source": [
    "now checking to see if any numeric values have a minimum as 0 as this could be a missing value"
   ]
  },
  {
   "cell_type": "code",
   "execution_count": 25,
   "id": "503d2c34",
   "metadata": {},
   "outputs": [
    {
     "name": "stdout",
     "output_type": "stream",
     "text": [
      "id :  1\n",
      "mssubclass :  20\n",
      "lotarea :  1300\n",
      "overallqual :  1\n",
      "overallcond :  1\n",
      "yearbuilt :  1872\n",
      "yearremodadd :  1950\n",
      "bsmtfinsf1 :  0\n",
      "bsmtfinsf2 :  0\n",
      "bsmtunfsf :  0\n",
      "totalbsmtsf :  0\n",
      "firstflrsf :  334\n",
      "secondflrsf :  0\n",
      "lowqualfinsf :  0\n",
      "grlivarea :  334\n",
      "bsmtfullbath :  0\n",
      "bsmthalfbath :  0\n",
      "fullbath :  0\n",
      "halfbath :  0\n",
      "bedroomabvgr :  0\n",
      "kitchenabvgr :  0\n",
      "totrmsabvgrd :  2\n",
      "fireplaces :  0\n",
      "garagecars :  0\n",
      "garagearea :  0\n",
      "wooddecksf :  0\n",
      "openporchsf :  0\n",
      "enclosedporch :  0\n",
      "threessnporch :  0\n",
      "screenporch :  0\n",
      "poolarea :  0\n",
      "miscval :  0\n",
      "mosold :  1\n",
      "yrsold :  2006\n",
      "saleprice :  34900\n"
     ]
    }
   ],
   "source": [
    "cols = df.select_dtypes(exclude='object')\n",
    "for col in cols:\n",
    "    if col not in nulls:\n",
    "        print(col,\": \",df[col].min())"
   ]
  },
  {
   "cell_type": "markdown",
   "id": "8a7445eb",
   "metadata": {},
   "source": [
    "As these have to do with counts and area, I'm assuming 0 is acceptable.  If I had more time I would look more into each"
   ]
  },
  {
   "cell_type": "code",
   "execution_count": 26,
   "id": "35636b7e",
   "metadata": {},
   "outputs": [
    {
     "name": "stdout",
     "output_type": "stream",
     "text": [
      "lotfrontage :  259\n",
      "alley :  1369\n",
      "masvnrtype :  8\n",
      "masvnrarea :  8\n",
      "bsmtqual :  37\n",
      "bsmtcond :  37\n",
      "bsmtexposure :  38\n",
      "bsmtfintype1 :  37\n",
      "bsmtfintype2 :  38\n",
      "electrical :  1\n",
      "fireplacequ :  690\n",
      "garagetype :  81\n",
      "garageyrblt :  81\n",
      "garagefinish :  81\n",
      "garagequal :  81\n",
      "garagecond :  81\n",
      "poolqc :  1453\n",
      "fence :  1179\n",
      "miscfeature :  1406\n"
     ]
    }
   ],
   "source": [
    "for null in nulls:\n",
    "    print(null, \": \", df[null].isnull().sum())"
   ]
  },
  {
   "cell_type": "code",
   "execution_count": 27,
   "id": "83cc1ee4",
   "metadata": {},
   "outputs": [
    {
     "data": {
      "text/plain": [
       "0.18518518518518517"
      ]
     },
     "execution_count": 27,
     "metadata": {},
     "output_type": "execute_result"
    }
   ],
   "source": [
    "(df.isnull().sum(axis=1).max())/df.shape[1]"
   ]
  },
  {
   "cell_type": "markdown",
   "id": "d2617d86",
   "metadata": {},
   "source": [
    "The greatest percentage of missing values in 1 row is about 19%.  If 20% of the data was missing, I would drop that row."
   ]
  },
  {
   "cell_type": "code",
   "execution_count": 28,
   "id": "86df35b5",
   "metadata": {},
   "outputs": [],
   "source": [
    "categorical = df.select_dtypes('object').columns"
   ]
  },
  {
   "cell_type": "code",
   "execution_count": 29,
   "id": "bc498217",
   "metadata": {},
   "outputs": [
    {
     "data": {
      "text/plain": [
       "['alley',\n",
       " 'masvnrtype',\n",
       " 'bsmtqual',\n",
       " 'bsmtcond',\n",
       " 'bsmtexposure',\n",
       " 'bsmtfintype1',\n",
       " 'bsmtfintype2',\n",
       " 'electrical',\n",
       " 'fireplacequ',\n",
       " 'garagetype',\n",
       " 'garagefinish',\n",
       " 'garagequal',\n",
       " 'garagecond',\n",
       " 'poolqc',\n",
       " 'fence',\n",
       " 'miscfeature']"
      ]
     },
     "execution_count": 29,
     "metadata": {},
     "output_type": "execute_result"
    }
   ],
   "source": [
    "categorical_nulls = [x for x in nulls if x in categorical]\n",
    "categorical_nulls"
   ]
  },
  {
   "cell_type": "markdown",
   "id": "e00699c4",
   "metadata": {},
   "source": [
    "Above are the categorical columns with nulls.  As none is a possible value for many of these, such as fence, I will leave them as none.  "
   ]
  },
  {
   "cell_type": "code",
   "execution_count": 30,
   "id": "fae99a19",
   "metadata": {},
   "outputs": [],
   "source": [
    "df.fillna('None', inplace=True)"
   ]
  },
  {
   "cell_type": "code",
   "execution_count": 31,
   "id": "686cd4fc",
   "metadata": {},
   "outputs": [],
   "source": [
    "# it is hard to determine if None is missing or None just means none"
   ]
  },
  {
   "cell_type": "markdown",
   "id": "58f402f3",
   "metadata": {},
   "source": [
    "# Looking at histograms of numerical values to determine distribution and check for outliers"
   ]
  },
  {
   "cell_type": "markdown",
   "id": "e32226a9",
   "metadata": {},
   "source": [
    "## Histogram and outliers for dependent variable, sale price."
   ]
  },
  {
   "cell_type": "code",
   "execution_count": 31,
   "id": "e5aa0cd2",
   "metadata": {},
   "outputs": [
    {
     "data": {
      "text/plain": [
       "(array([148., 723., 373., 135.,  51.,  19.,   4.,   3.,   2.,   2.]),\n",
       " array([ 34900., 106910., 178920., 250930., 322940., 394950., 466960.,\n",
       "        538970., 610980., 682990., 755000.]),\n",
       " <BarContainer object of 10 artists>)"
      ]
     },
     "execution_count": 31,
     "metadata": {},
     "output_type": "execute_result"
    },
    {
     "data": {
      "image/png": "[encoded data removed]",
      "text/plain": [
       "<Figure size 432x288 with 1 Axes>"
      ]
     },
     "metadata": {
      "needs_background": "light"
     },
     "output_type": "display_data"
    }
   ],
   "source": [
    "plt.hist(df['saleprice'])"
   ]
  },
  {
   "cell_type": "markdown",
   "id": "98072850",
   "metadata": {},
   "source": [
    "saleprice is not normal,  will try a log transformation."
   ]
  },
  {
   "cell_type": "code",
   "execution_count": 32,
   "id": "55bb954b",
   "metadata": {},
   "outputs": [
    {
     "data": {
      "text/plain": [
       "(array([  4.,   1.,   0.,   5.,   7.,   6.,  26.,  45.,  47., 114., 165.,\n",
       "        215., 172., 199., 119., 109.,  88.,  52.,  35.,  26.,  12.,   5.,\n",
       "          4.,   2.,   2.]),\n",
       " array([10.46024211, 10.58321134, 10.70618058, 10.82914982, 10.95211906,\n",
       "        11.07508829, 11.19805753, 11.32102677, 11.443996  , 11.56696524,\n",
       "        11.68993448, 11.81290371, 11.93587295, 12.05884219, 12.18181142,\n",
       "        12.30478066, 12.4277499 , 12.55071913, 12.67368837, 12.79665761,\n",
       "        12.91962684, 13.04259608, 13.16556532, 13.28853455, 13.41150379,\n",
       "        13.53447303]),\n",
       " <BarContainer object of 25 artists>)"
      ]
     },
     "execution_count": 32,
     "metadata": {},
     "output_type": "execute_result"
    },
    {
     "data": {
      "image/png": "[encoded data removed]",
      "text/plain": [
       "<Figure size 432x288 with 1 Axes>"
      ]
     },
     "metadata": {
      "needs_background": "light"
     },
     "output_type": "display_data"
    }
   ],
   "source": [
    "plt.hist(np.log(df['saleprice']), bins=25)"
   ]
  },
  {
   "cell_type": "markdown",
   "id": "51ce72c0",
   "metadata": {},
   "source": [
    "I'm creating a log transformed saleprice just to do outlier detection for saleprice"
   ]
  },
  {
   "cell_type": "code",
   "execution_count": 33,
   "id": "b2430678",
   "metadata": {},
   "outputs": [],
   "source": [
    "df['log_sale'] = np.log(df['saleprice'])"
   ]
  },
  {
   "cell_type": "code",
   "execution_count": 34,
   "id": "e940fc8b",
   "metadata": {},
   "outputs": [],
   "source": [
    "mu = df['log_sale'].mean()\n",
    "std = df['log_sale'].std()\n",
    "sale_outliers = df[(df['log_sale']<mu-3*std)|(df['log_sale']>mu+3*std)].index"
   ]
  },
  {
   "cell_type": "code",
   "execution_count": 35,
   "id": "6b44a162",
   "metadata": {},
   "outputs": [
    {
     "data": {
      "text/plain": [
       "Int64Index([30, 441, 496, 533, 691, 803, 898, 916, 968, 1046, 1169, 1182], dtype='int64')"
      ]
     },
     "execution_count": 35,
     "metadata": {},
     "output_type": "execute_result"
    }
   ],
   "source": [
    "sale_outliers"
   ]
  },
  {
   "cell_type": "markdown",
   "id": "b6ed9b1a",
   "metadata": {},
   "source": [
    "As there are only 12 outliers on saleprice, I will drop those 12."
   ]
  },
  {
   "cell_type": "code",
   "execution_count": 36,
   "id": "34970da9",
   "metadata": {},
   "outputs": [],
   "source": [
    "df.drop(sale_outliers, inplace=True)\n",
    "df.drop('log_sale',axis=1,inplace=True)"
   ]
  },
  {
   "cell_type": "markdown",
   "id": "b8af44a4",
   "metadata": {},
   "source": [
    "I was going to go through each variable and for numeric variables look for outliers, for categorical variables, look for outliers for saleprice by each category, then drop any outliers that were persistent across different variables and hard cap other outliers.  But since this is an assignment and not a capstone project, that would take too long.  So I decided to just drop the outliers with sale price."
   ]
  },
  {
   "cell_type": "markdown",
   "id": "11300575",
   "metadata": {},
   "source": [
    "## Looking for correlation with numeric values"
   ]
  },
  {
   "cell_type": "code",
   "execution_count": 37,
   "id": "8a0dc2c8",
   "metadata": {},
   "outputs": [],
   "source": [
    "numeric = df.select_dtypes(exclude='object').columns"
   ]
  },
  {
   "cell_type": "code",
   "execution_count": 38,
   "id": "2a7b9922",
   "metadata": {},
   "outputs": [
    {
     "data": {
      "text/plain": [
       "saleprice        1.000000\n",
       "overallqual      0.797783\n",
       "grlivarea        0.687023\n",
       "garagecars       0.650162\n",
       "garagearea       0.633247\n",
       "totalbsmtsf      0.596056\n",
       "firstflrsf       0.587994\n",
       "fullbath         0.551160\n",
       "yearbuilt        0.538666\n",
       "yearremodadd     0.524494\n",
       "totrmsabvgrd     0.513975\n",
       "fireplaces       0.463739\n",
       "bsmtfinsf1       0.365029\n",
       "openporchsf      0.343362\n",
       "wooddecksf       0.331939\n",
       "secondflrsf      0.294488\n",
       "halfbath         0.278365\n",
       "lotarea          0.263064\n",
       "bsmtfullbath     0.238992\n",
       "bsmtunfsf        0.214948\n",
       "bedroomabvgr     0.154252\n",
       "kitchenabvgr     0.144405\n",
       "enclosedporch    0.126999\n",
       "screenporch      0.105400\n",
       "mssubclass       0.090707\n",
       "overallcond      0.083598\n",
       "mosold           0.075875\n",
       "threessnporch    0.051708\n",
       "id               0.038591\n",
       "bsmthalfbath     0.035930\n",
       "poolarea         0.031134\n",
       "yrsold           0.027997\n",
       "lowqualfinsf     0.025323\n",
       "miscval          0.021231\n",
       "bsmtfinsf2       0.017715\n",
       "Name: saleprice, dtype: float64"
      ]
     },
     "execution_count": 38,
     "metadata": {},
     "output_type": "execute_result"
    }
   ],
   "source": [
    "np.abs((df[numeric].corr())['saleprice']).sort_values(ascending=False)"
   ]
  },
  {
   "cell_type": "code",
   "execution_count": 39,
   "id": "f04694be",
   "metadata": {},
   "outputs": [],
   "source": [
    "corr_numeric = np.abs((df[numeric].corr())['saleprice'])"
   ]
  },
  {
   "cell_type": "code",
   "execution_count": 40,
   "id": "23c53b69",
   "metadata": {},
   "outputs": [
    {
     "data": {
      "text/plain": [
       "overallqual     0.797783\n",
       "grlivarea       0.687023\n",
       "garagecars      0.650162\n",
       "garagearea      0.633247\n",
       "totalbsmtsf     0.596056\n",
       "firstflrsf      0.587994\n",
       "fullbath        0.551160\n",
       "yearbuilt       0.538666\n",
       "yearremodadd    0.524494\n",
       "totrmsabvgrd    0.513975\n",
       "Name: saleprice, dtype: float64"
      ]
     },
     "execution_count": 40,
     "metadata": {},
     "output_type": "execute_result"
    }
   ],
   "source": [
    "top_corr_numeric = corr_numeric[(corr_numeric>0.5)&(corr_numeric<0.9)]\n",
    "top_corr_numeric.sort_values(ascending=False)"
   ]
  },
  {
   "cell_type": "markdown",
   "id": "08312e07",
   "metadata": {},
   "source": [
    "The above ten variables appear highly correlated with saleprice.  I want to first visualize these with scatterplots and then check for any correlation between these variables."
   ]
  },
  {
   "cell_type": "code",
   "execution_count": 41,
   "id": "45100981",
   "metadata": {},
   "outputs": [
    {
     "data": {
      "text/plain": [
       "Index(['overallqual', 'yearbuilt', 'yearremodadd', 'totalbsmtsf', 'firstflrsf',\n",
       "       'grlivarea', 'fullbath', 'totrmsabvgrd', 'garagecars', 'garagearea'],\n",
       "      dtype='object')"
      ]
     },
     "execution_count": 41,
     "metadata": {},
     "output_type": "execute_result"
    }
   ],
   "source": [
    "top_corr_numeric_names = top_corr_numeric.index\n",
    "top_corr_numeric_names"
   ]
  },
  {
   "cell_type": "code",
   "execution_count": 43,
   "id": "95ce3fc3",
   "metadata": {},
   "outputs": [
    {
     "data": {
      "image/png": "[encoded data removed]",
      "text/plain": [
       "<Figure size 432x288 with 10 Axes>"
      ]
     },
     "metadata": {
      "needs_background": "light"
     },
     "output_type": "display_data"
    }
   ],
   "source": [
    "fig, axs = plt.subplots(5,2)\n",
    "i = 0\n",
    "for col in top_corr_numeric_names:\n",
    "    axs[i//2,i%2].scatter(col,'saleprice',data=df)\n",
    "    i=i+1"
   ]
  },
  {
   "cell_type": "code",
   "execution_count": 44,
   "id": "5c2f24f9",
   "metadata": {},
   "outputs": [
    {
     "data": {
      "text/html": [
       "<div>\n",
       "<style scoped>\n",
       "    .dataframe tbody tr th:only-of-type {\n",
       "        vertical-align: middle;\n",
       "    }\n",
       "\n",
       "    .dataframe tbody tr th {\n",
       "        vertical-align: top;\n",
       "    }\n",
       "\n",
       "    .dataframe thead th {\n",
       "        text-align: right;\n",
       "    }\n",
       "</style>\n",
       "<table border=\"1\" class=\"dataframe\">\n",
       "  <thead>\n",
       "    <tr style=\"text-align: right;\">\n",
       "      <th></th>\n",
       "      <th>overallqual</th>\n",
       "      <th>yearbuilt</th>\n",
       "      <th>yearremodadd</th>\n",
       "      <th>totalbsmtsf</th>\n",
       "      <th>firstflrsf</th>\n",
       "      <th>grlivarea</th>\n",
       "      <th>fullbath</th>\n",
       "      <th>totrmsabvgrd</th>\n",
       "      <th>garagecars</th>\n",
       "      <th>garagearea</th>\n",
       "    </tr>\n",
       "  </thead>\n",
       "  <tbody>\n",
       "    <tr>\n",
       "      <th>overallqual</th>\n",
       "      <td>1.000000</td>\n",
       "      <td>0.568794</td>\n",
       "      <td>0.545061</td>\n",
       "      <td>0.517502</td>\n",
       "      <td>0.452407</td>\n",
       "      <td>0.574178</td>\n",
       "      <td>0.536162</td>\n",
       "      <td>0.404157</td>\n",
       "      <td>0.588830</td>\n",
       "      <td>0.550581</td>\n",
       "    </tr>\n",
       "    <tr>\n",
       "      <th>yearbuilt</th>\n",
       "      <td>0.568794</td>\n",
       "      <td>1.000000</td>\n",
       "      <td>0.588030</td>\n",
       "      <td>0.384080</td>\n",
       "      <td>0.270001</td>\n",
       "      <td>0.186297</td>\n",
       "      <td>0.463264</td>\n",
       "      <td>0.080174</td>\n",
       "      <td>0.530976</td>\n",
       "      <td>0.471435</td>\n",
       "    </tr>\n",
       "    <tr>\n",
       "      <th>yearremodadd</th>\n",
       "      <td>0.545061</td>\n",
       "      <td>0.588030</td>\n",
       "      <td>1.000000</td>\n",
       "      <td>0.280705</td>\n",
       "      <td>0.227220</td>\n",
       "      <td>0.279669</td>\n",
       "      <td>0.433108</td>\n",
       "      <td>0.178098</td>\n",
       "      <td>0.411348</td>\n",
       "      <td>0.362095</td>\n",
       "    </tr>\n",
       "    <tr>\n",
       "      <th>totalbsmtsf</th>\n",
       "      <td>0.517502</td>\n",
       "      <td>0.384080</td>\n",
       "      <td>0.280705</td>\n",
       "      <td>1.000000</td>\n",
       "      <td>0.811886</td>\n",
       "      <td>0.429916</td>\n",
       "      <td>0.304518</td>\n",
       "      <td>0.257649</td>\n",
       "      <td>0.419796</td>\n",
       "      <td>0.476560</td>\n",
       "    </tr>\n",
       "    <tr>\n",
       "      <th>firstflrsf</th>\n",
       "      <td>0.452407</td>\n",
       "      <td>0.270001</td>\n",
       "      <td>0.227220</td>\n",
       "      <td>0.811886</td>\n",
       "      <td>1.000000</td>\n",
       "      <td>0.547075</td>\n",
       "      <td>0.362093</td>\n",
       "      <td>0.387671</td>\n",
       "      <td>0.423683</td>\n",
       "      <td>0.478084</td>\n",
       "    </tr>\n",
       "    <tr>\n",
       "      <th>grlivarea</th>\n",
       "      <td>0.574178</td>\n",
       "      <td>0.186297</td>\n",
       "      <td>0.279669</td>\n",
       "      <td>0.429916</td>\n",
       "      <td>0.547075</td>\n",
       "      <td>1.000000</td>\n",
       "      <td>0.617792</td>\n",
       "      <td>0.825776</td>\n",
       "      <td>0.454116</td>\n",
       "      <td>0.457061</td>\n",
       "    </tr>\n",
       "    <tr>\n",
       "      <th>fullbath</th>\n",
       "      <td>0.536162</td>\n",
       "      <td>0.463264</td>\n",
       "      <td>0.433108</td>\n",
       "      <td>0.304518</td>\n",
       "      <td>0.362093</td>\n",
       "      <td>0.617792</td>\n",
       "      <td>1.000000</td>\n",
       "      <td>0.542746</td>\n",
       "      <td>0.458881</td>\n",
       "      <td>0.393330</td>\n",
       "    </tr>\n",
       "    <tr>\n",
       "      <th>totrmsabvgrd</th>\n",
       "      <td>0.404157</td>\n",
       "      <td>0.080174</td>\n",
       "      <td>0.178098</td>\n",
       "      <td>0.257649</td>\n",
       "      <td>0.387671</td>\n",
       "      <td>0.825776</td>\n",
       "      <td>0.542746</td>\n",
       "      <td>1.000000</td>\n",
       "      <td>0.345013</td>\n",
       "      <td>0.320371</td>\n",
       "    </tr>\n",
       "    <tr>\n",
       "      <th>garagecars</th>\n",
       "      <td>0.588830</td>\n",
       "      <td>0.530976</td>\n",
       "      <td>0.411348</td>\n",
       "      <td>0.419796</td>\n",
       "      <td>0.423683</td>\n",
       "      <td>0.454116</td>\n",
       "      <td>0.458881</td>\n",
       "      <td>0.345013</td>\n",
       "      <td>1.000000</td>\n",
       "      <td>0.880058</td>\n",
       "    </tr>\n",
       "    <tr>\n",
       "      <th>garagearea</th>\n",
       "      <td>0.550581</td>\n",
       "      <td>0.471435</td>\n",
       "      <td>0.362095</td>\n",
       "      <td>0.476560</td>\n",
       "      <td>0.478084</td>\n",
       "      <td>0.457061</td>\n",
       "      <td>0.393330</td>\n",
       "      <td>0.320371</td>\n",
       "      <td>0.880058</td>\n",
       "      <td>1.000000</td>\n",
       "    </tr>\n",
       "  </tbody>\n",
       "</table>\n",
       "</div>"
      ],
      "text/plain": [
       "              overallqual  yearbuilt  yearremodadd  totalbsmtsf  firstflrsf  \\\n",
       "overallqual      1.000000   0.568794      0.545061     0.517502    0.452407   \n",
       "yearbuilt        0.568794   1.000000      0.588030     0.384080    0.270001   \n",
       "yearremodadd     0.545061   0.588030      1.000000     0.280705    0.227220   \n",
       "totalbsmtsf      0.517502   0.384080      0.280705     1.000000    0.811886   \n",
       "firstflrsf       0.452407   0.270001      0.227220     0.811886    1.000000   \n",
       "grlivarea        0.574178   0.186297      0.279669     0.429916    0.547075   \n",
       "fullbath         0.536162   0.463264      0.433108     0.304518    0.362093   \n",
       "totrmsabvgrd     0.404157   0.080174      0.178098     0.257649    0.387671   \n",
       "garagecars       0.588830   0.530976      0.411348     0.419796    0.423683   \n",
       "garagearea       0.550581   0.471435      0.362095     0.476560    0.478084   \n",
       "\n",
       "              grlivarea  fullbath  totrmsabvgrd  garagecars  garagearea  \n",
       "overallqual    0.574178  0.536162      0.404157    0.588830    0.550581  \n",
       "yearbuilt      0.186297  0.463264      0.080174    0.530976    0.471435  \n",
       "yearremodadd   0.279669  0.433108      0.178098    0.411348    0.362095  \n",
       "totalbsmtsf    0.429916  0.304518      0.257649    0.419796    0.476560  \n",
       "firstflrsf     0.547075  0.362093      0.387671    0.423683    0.478084  \n",
       "grlivarea      1.000000  0.617792      0.825776    0.454116    0.457061  \n",
       "fullbath       0.617792  1.000000      0.542746    0.458881    0.393330  \n",
       "totrmsabvgrd   0.825776  0.542746      1.000000    0.345013    0.320371  \n",
       "garagecars     0.454116  0.458881      0.345013    1.000000    0.880058  \n",
       "garagearea     0.457061  0.393330      0.320371    0.880058    1.000000  "
      ]
     },
     "execution_count": 44,
     "metadata": {},
     "output_type": "execute_result"
    }
   ],
   "source": [
    "df[top_corr_numeric.index].corr()"
   ]
  },
  {
   "cell_type": "code",
   "execution_count": 45,
   "id": "c418d94f",
   "metadata": {},
   "outputs": [
    {
     "data": {
      "text/plain": [
       "overallqual     1.000000\n",
       "yearbuilt       0.568794\n",
       "yearremodadd    0.545061\n",
       "totalbsmtsf     0.517502\n",
       "firstflrsf      0.452407\n",
       "grlivarea       0.574178\n",
       "fullbath        0.536162\n",
       "totrmsabvgrd    0.404157\n",
       "garagecars      0.588830\n",
       "garagearea      0.550581\n",
       "Name: overallqual, dtype: float64"
      ]
     },
     "execution_count": 45,
     "metadata": {},
     "output_type": "execute_result"
    }
   ],
   "source": [
    "df[top_corr_numeric.index].corr()['overallqual']"
   ]
  },
  {
   "cell_type": "markdown",
   "id": "a9043879",
   "metadata": {},
   "source": [
    "Overall quality seems highly correlated with everything except firstflrsf and totalrmsabv ground.  This being the case, overall quality, firstflsf, and totalrmsabvgrd will be the only 3 numeric variables included in the model."
   ]
  },
  {
   "cell_type": "code",
   "execution_count": 46,
   "id": "ff1eb0dc",
   "metadata": {},
   "outputs": [],
   "source": [
    "numeric_variables = ['overallqual','firstflrsf','totrmsabvgrd']"
   ]
  },
  {
   "cell_type": "code",
   "execution_count": 48,
   "id": "fe915264",
   "metadata": {},
   "outputs": [
    {
     "data": {
      "text/plain": [
       "43"
      ]
     },
     "execution_count": 48,
     "metadata": {},
     "output_type": "execute_result"
    }
   ],
   "source": [
    "len(categorical)"
   ]
  },
  {
   "cell_type": "code",
   "execution_count": 57,
   "id": "aef44aef",
   "metadata": {},
   "outputs": [
    {
     "data": {
      "image/png": "[encoded data removed]",
      "text/plain": [
       "<Figure size 2160x3600 with 43 Axes>"
      ]
     },
     "metadata": {
      "needs_background": "light"
     },
     "output_type": "display_data"
    }
   ],
   "source": [
    "plt.figure(figsize=(30,50))\n",
    "for i in range(43):\n",
    "    plt.subplot(11,4,i+1)\n",
    "    col = categorical[i]\n",
    "    plt.bar(df.groupby(col).mean().index,df.groupby(col)['saleprice'].mean())\n",
    "    plt.title(col)"
   ]
  },
  {
   "cell_type": "markdown",
   "id": "7d09abde",
   "metadata": {},
   "source": [
    "Many of these variables seems to change within subcategories.  For two variables, I'm going to pick neighborhood and exterior 1st."
   ]
  },
  {
   "cell_type": "code",
   "execution_count": 60,
   "id": "dfb15460",
   "metadata": {},
   "outputs": [
    {
     "data": {
      "text/plain": [
       "['overallqual',\n",
       " 'firstflrsf',\n",
       " 'totrmsabvgrd',\n",
       " 'neighborhood',\n",
       " 'exterior1st',\n",
       " 'saleprice']"
      ]
     },
     "execution_count": 60,
     "metadata": {},
     "output_type": "execute_result"
    }
   ],
   "source": [
    "variables = numeric_variables + ['neighborhood','exterior1st','saleprice'] \n",
    "variables"
   ]
  },
  {
   "cell_type": "code",
   "execution_count": 61,
   "id": "e2151f68",
   "metadata": {},
   "outputs": [],
   "source": [
    "df2 = pd.get_dummies(df[variables])"
   ]
  },
  {
   "cell_type": "markdown",
   "id": "4b98301f",
   "metadata": {},
   "source": [
    "# Creating linear regression"
   ]
  },
  {
   "cell_type": "code",
   "execution_count": 63,
   "id": "d4b41595",
   "metadata": {},
   "outputs": [],
   "source": [
    "X = df2.drop('saleprice', axis=1)\n",
    "Y = df2.saleprice"
   ]
  },
  {
   "cell_type": "code",
   "execution_count": 64,
   "id": "8ebba6b2",
   "metadata": {},
   "outputs": [
    {
     "data": {
      "text/html": [
       "<div>\n",
       "<style scoped>\n",
       "    .dataframe tbody tr th:only-of-type {\n",
       "        vertical-align: middle;\n",
       "    }\n",
       "\n",
       "    .dataframe tbody tr th {\n",
       "        vertical-align: top;\n",
       "    }\n",
       "\n",
       "    .dataframe thead th {\n",
       "        text-align: right;\n",
       "    }\n",
       "</style>\n",
       "<table border=\"1\" class=\"dataframe\">\n",
       "  <thead>\n",
       "    <tr style=\"text-align: right;\">\n",
       "      <th></th>\n",
       "      <th>overallqual</th>\n",
       "      <th>firstflrsf</th>\n",
       "      <th>totrmsabvgrd</th>\n",
       "      <th>neighborhood_Blmngtn</th>\n",
       "      <th>neighborhood_Blueste</th>\n",
       "      <th>neighborhood_BrDale</th>\n",
       "      <th>neighborhood_BrkSide</th>\n",
       "      <th>neighborhood_ClearCr</th>\n",
       "      <th>neighborhood_CollgCr</th>\n",
       "      <th>neighborhood_Crawfor</th>\n",
       "      <th>...</th>\n",
       "      <th>exterior1st_CemntBd</th>\n",
       "      <th>exterior1st_HdBoard</th>\n",
       "      <th>exterior1st_ImStucc</th>\n",
       "      <th>exterior1st_MetalSd</th>\n",
       "      <th>exterior1st_Plywood</th>\n",
       "      <th>exterior1st_Stone</th>\n",
       "      <th>exterior1st_Stucco</th>\n",
       "      <th>exterior1st_VinylSd</th>\n",
       "      <th>exterior1st_Wd Sdng</th>\n",
       "      <th>exterior1st_WdShing</th>\n",
       "    </tr>\n",
       "  </thead>\n",
       "  <tbody>\n",
       "    <tr>\n",
       "      <th>0</th>\n",
       "      <td>7</td>\n",
       "      <td>856</td>\n",
       "      <td>8</td>\n",
       "      <td>0</td>\n",
       "      <td>0</td>\n",
       "      <td>0</td>\n",
       "      <td>0</td>\n",
       "      <td>0</td>\n",
       "      <td>1</td>\n",
       "      <td>0</td>\n",
       "      <td>...</td>\n",
       "      <td>0</td>\n",
       "      <td>0</td>\n",
       "      <td>0</td>\n",
       "      <td>0</td>\n",
       "      <td>0</td>\n",
       "      <td>0</td>\n",
       "      <td>0</td>\n",
       "      <td>1</td>\n",
       "      <td>0</td>\n",
       "      <td>0</td>\n",
       "    </tr>\n",
       "    <tr>\n",
       "      <th>1</th>\n",
       "      <td>6</td>\n",
       "      <td>1262</td>\n",
       "      <td>6</td>\n",
       "      <td>0</td>\n",
       "      <td>0</td>\n",
       "      <td>0</td>\n",
       "      <td>0</td>\n",
       "      <td>0</td>\n",
       "      <td>0</td>\n",
       "      <td>0</td>\n",
       "      <td>...</td>\n",
       "      <td>0</td>\n",
       "      <td>0</td>\n",
       "      <td>0</td>\n",
       "      <td>1</td>\n",
       "      <td>0</td>\n",
       "      <td>0</td>\n",
       "      <td>0</td>\n",
       "      <td>0</td>\n",
       "      <td>0</td>\n",
       "      <td>0</td>\n",
       "    </tr>\n",
       "    <tr>\n",
       "      <th>2</th>\n",
       "      <td>7</td>\n",
       "      <td>920</td>\n",
       "      <td>6</td>\n",
       "      <td>0</td>\n",
       "      <td>0</td>\n",
       "      <td>0</td>\n",
       "      <td>0</td>\n",
       "      <td>0</td>\n",
       "      <td>1</td>\n",
       "      <td>0</td>\n",
       "      <td>...</td>\n",
       "      <td>0</td>\n",
       "      <td>0</td>\n",
       "      <td>0</td>\n",
       "      <td>0</td>\n",
       "      <td>0</td>\n",
       "      <td>0</td>\n",
       "      <td>0</td>\n",
       "      <td>1</td>\n",
       "      <td>0</td>\n",
       "      <td>0</td>\n",
       "    </tr>\n",
       "    <tr>\n",
       "      <th>3</th>\n",
       "      <td>7</td>\n",
       "      <td>961</td>\n",
       "      <td>7</td>\n",
       "      <td>0</td>\n",
       "      <td>0</td>\n",
       "      <td>0</td>\n",
       "      <td>0</td>\n",
       "      <td>0</td>\n",
       "      <td>0</td>\n",
       "      <td>1</td>\n",
       "      <td>...</td>\n",
       "      <td>0</td>\n",
       "      <td>0</td>\n",
       "      <td>0</td>\n",
       "      <td>0</td>\n",
       "      <td>0</td>\n",
       "      <td>0</td>\n",
       "      <td>0</td>\n",
       "      <td>0</td>\n",
       "      <td>1</td>\n",
       "      <td>0</td>\n",
       "    </tr>\n",
       "    <tr>\n",
       "      <th>4</th>\n",
       "      <td>8</td>\n",
       "      <td>1145</td>\n",
       "      <td>9</td>\n",
       "      <td>0</td>\n",
       "      <td>0</td>\n",
       "      <td>0</td>\n",
       "      <td>0</td>\n",
       "      <td>0</td>\n",
       "      <td>0</td>\n",
       "      <td>0</td>\n",
       "      <td>...</td>\n",
       "      <td>0</td>\n",
       "      <td>0</td>\n",
       "      <td>0</td>\n",
       "      <td>0</td>\n",
       "      <td>0</td>\n",
       "      <td>0</td>\n",
       "      <td>0</td>\n",
       "      <td>1</td>\n",
       "      <td>0</td>\n",
       "      <td>0</td>\n",
       "    </tr>\n",
       "  </tbody>\n",
       "</table>\n",
       "<p>5 rows × 43 columns</p>\n",
       "</div>"
      ],
      "text/plain": [
       "   overallqual  firstflrsf  totrmsabvgrd  neighborhood_Blmngtn  \\\n",
       "0            7         856             8                     0   \n",
       "1            6        1262             6                     0   \n",
       "2            7         920             6                     0   \n",
       "3            7         961             7                     0   \n",
       "4            8        1145             9                     0   \n",
       "\n",
       "   neighborhood_Blueste  neighborhood_BrDale  neighborhood_BrkSide  \\\n",
       "0                     0                    0                     0   \n",
       "1                     0                    0                     0   \n",
       "2                     0                    0                     0   \n",
       "3                     0                    0                     0   \n",
       "4                     0                    0                     0   \n",
       "\n",
       "   neighborhood_ClearCr  neighborhood_CollgCr  neighborhood_Crawfor  ...  \\\n",
       "0                     0                     1                     0  ...   \n",
       "1                     0                     0                     0  ...   \n",
       "2                     0                     1                     0  ...   \n",
       "3                     0                     0                     1  ...   \n",
       "4                     0                     0                     0  ...   \n",
       "\n",
       "   exterior1st_CemntBd  exterior1st_HdBoard  exterior1st_ImStucc  \\\n",
       "0                    0                    0                    0   \n",
       "1                    0                    0                    0   \n",
       "2                    0                    0                    0   \n",
       "3                    0                    0                    0   \n",
       "4                    0                    0                    0   \n",
       "\n",
       "   exterior1st_MetalSd  exterior1st_Plywood  exterior1st_Stone  \\\n",
       "0                    0                    0                  0   \n",
       "1                    1                    0                  0   \n",
       "2                    0                    0                  0   \n",
       "3                    0                    0                  0   \n",
       "4                    0                    0                  0   \n",
       "\n",
       "   exterior1st_Stucco  exterior1st_VinylSd  exterior1st_Wd Sdng  \\\n",
       "0                   0                    1                    0   \n",
       "1                   0                    0                    0   \n",
       "2                   0                    1                    0   \n",
       "3                   0                    0                    1   \n",
       "4                   0                    1                    0   \n",
       "\n",
       "   exterior1st_WdShing  \n",
       "0                    0  \n",
       "1                    0  \n",
       "2                    0  \n",
       "3                    0  \n",
       "4                    0  \n",
       "\n",
       "[5 rows x 43 columns]"
      ]
     },
     "execution_count": 64,
     "metadata": {},
     "output_type": "execute_result"
    }
   ],
   "source": [
    "X.head()"
   ]
  },
  {
   "cell_type": "code",
   "execution_count": 65,
   "id": "b22c97f7",
   "metadata": {},
   "outputs": [
    {
     "data": {
      "text/html": [
       "<table class=\"simpletable\">\n",
       "<caption>OLS Regression Results</caption>\n",
       "<tr>\n",
       "  <th>Dep. Variable:</th>        <td>saleprice</td>    <th>  R-squared:         </th> <td>   0.799</td> \n",
       "</tr>\n",
       "<tr>\n",
       "  <th>Model:</th>                   <td>OLS</td>       <th>  Adj. R-squared:    </th> <td>   0.793</td> \n",
       "</tr>\n",
       "<tr>\n",
       "  <th>Method:</th>             <td>Least Squares</td>  <th>  F-statistic:       </th> <td>   136.2</td> \n",
       "</tr>\n",
       "<tr>\n",
       "  <th>Date:</th>             <td>Wed, 21 Jul 2021</td> <th>  Prob (F-statistic):</th>  <td>  0.00</td>  \n",
       "</tr>\n",
       "<tr>\n",
       "  <th>Time:</th>                 <td>09:59:16</td>     <th>  Log-Likelihood:    </th> <td> -17100.</td> \n",
       "</tr>\n",
       "<tr>\n",
       "  <th>No. Observations:</th>      <td>  1448</td>      <th>  AIC:               </th> <td>3.428e+04</td>\n",
       "</tr>\n",
       "<tr>\n",
       "  <th>Df Residuals:</th>          <td>  1406</td>      <th>  BIC:               </th> <td>3.451e+04</td>\n",
       "</tr>\n",
       "<tr>\n",
       "  <th>Df Model:</th>              <td>    41</td>      <th>                     </th>     <td> </td>    \n",
       "</tr>\n",
       "<tr>\n",
       "  <th>Covariance Type:</th>      <td>nonrobust</td>    <th>                     </th>     <td> </td>    \n",
       "</tr>\n",
       "</table>\n",
       "<table class=\"simpletable\">\n",
       "<tr>\n",
       "            <td></td>              <th>coef</th>     <th>std err</th>      <th>t</th>      <th>P>|t|</th>  <th>[0.025</th>    <th>0.975]</th>  \n",
       "</tr>\n",
       "<tr>\n",
       "  <th>const</th>                <td>-5.212e+04</td> <td> 7073.382</td> <td>   -7.368</td> <td> 0.000</td> <td> -6.6e+04</td> <td>-3.82e+04</td>\n",
       "</tr>\n",
       "<tr>\n",
       "  <th>overallqual</th>          <td> 2.187e+04</td> <td> 1029.251</td> <td>   21.244</td> <td> 0.000</td> <td> 1.98e+04</td> <td> 2.39e+04</td>\n",
       "</tr>\n",
       "<tr>\n",
       "  <th>firstflrsf</th>           <td>   37.7512</td> <td>    3.031</td> <td>   12.455</td> <td> 0.000</td> <td>   31.806</td> <td>   43.697</td>\n",
       "</tr>\n",
       "<tr>\n",
       "  <th>totrmsabvgrd</th>         <td> 8145.7163</td> <td>  649.998</td> <td>   12.532</td> <td> 0.000</td> <td> 6870.646</td> <td> 9420.787</td>\n",
       "</tr>\n",
       "<tr>\n",
       "  <th>neighborhood_Blmngtn</th> <td>-2.598e+04</td> <td> 8110.198</td> <td>   -3.203</td> <td> 0.001</td> <td>-4.19e+04</td> <td>-1.01e+04</td>\n",
       "</tr>\n",
       "<tr>\n",
       "  <th>neighborhood_Blueste</th> <td>-1.279e+04</td> <td> 2.26e+04</td> <td>   -0.565</td> <td> 0.572</td> <td>-5.72e+04</td> <td> 3.16e+04</td>\n",
       "</tr>\n",
       "<tr>\n",
       "  <th>neighborhood_BrDale</th>  <td>-3.894e+04</td> <td> 8407.601</td> <td>   -4.631</td> <td> 0.000</td> <td>-5.54e+04</td> <td>-2.24e+04</td>\n",
       "</tr>\n",
       "<tr>\n",
       "  <th>neighborhood_BrkSide</th> <td>-1.526e+04</td> <td> 4698.445</td> <td>   -3.248</td> <td> 0.001</td> <td>-2.45e+04</td> <td>-6045.033</td>\n",
       "</tr>\n",
       "<tr>\n",
       "  <th>neighborhood_ClearCr</th> <td> 2.834e+04</td> <td> 6325.162</td> <td>    4.480</td> <td> 0.000</td> <td> 1.59e+04</td> <td> 4.07e+04</td>\n",
       "</tr>\n",
       "<tr>\n",
       "  <th>neighborhood_CollgCr</th> <td> -251.7703</td> <td> 3317.721</td> <td>   -0.076</td> <td> 0.940</td> <td>-6759.987</td> <td> 6256.447</td>\n",
       "</tr>\n",
       "<tr>\n",
       "  <th>neighborhood_Crawfor</th> <td> 1.512e+04</td> <td> 4862.432</td> <td>    3.109</td> <td> 0.002</td> <td> 5577.642</td> <td> 2.47e+04</td>\n",
       "</tr>\n",
       "<tr>\n",
       "  <th>neighborhood_Edwards</th> <td>-2.333e+04</td> <td> 3700.690</td> <td>   -6.303</td> <td> 0.000</td> <td>-3.06e+04</td> <td>-1.61e+04</td>\n",
       "</tr>\n",
       "<tr>\n",
       "  <th>neighborhood_Gilbert</th> <td>   11.2389</td> <td> 4134.420</td> <td>    0.003</td> <td> 0.998</td> <td>-8099.057</td> <td> 8121.535</td>\n",
       "</tr>\n",
       "<tr>\n",
       "  <th>neighborhood_IDOTRR</th>  <td>-3.132e+04</td> <td> 5842.740</td> <td>   -5.361</td> <td> 0.000</td> <td>-4.28e+04</td> <td>-1.99e+04</td>\n",
       "</tr>\n",
       "<tr>\n",
       "  <th>neighborhood_MeadowV</th> <td>-4.089e+04</td> <td> 9609.514</td> <td>   -4.256</td> <td> 0.000</td> <td>-5.97e+04</td> <td> -2.2e+04</td>\n",
       "</tr>\n",
       "<tr>\n",
       "  <th>neighborhood_Mitchel</th> <td>-1.179e+04</td> <td> 4875.371</td> <td>   -2.418</td> <td> 0.016</td> <td>-2.14e+04</td> <td>-2222.922</td>\n",
       "</tr>\n",
       "<tr>\n",
       "  <th>neighborhood_NAmes</th>   <td> -1.65e+04</td> <td> 2737.405</td> <td>   -6.027</td> <td> 0.000</td> <td>-2.19e+04</td> <td>-1.11e+04</td>\n",
       "</tr>\n",
       "<tr>\n",
       "  <th>neighborhood_NPkVill</th> <td>-2.135e+04</td> <td> 1.12e+04</td> <td>   -1.902</td> <td> 0.057</td> <td>-4.34e+04</td> <td>  669.174</td>\n",
       "</tr>\n",
       "<tr>\n",
       "  <th>neighborhood_NWAmes</th>  <td>-9527.8255</td> <td> 4205.444</td> <td>   -2.266</td> <td> 0.024</td> <td>-1.78e+04</td> <td>-1278.205</td>\n",
       "</tr>\n",
       "<tr>\n",
       "  <th>neighborhood_NoRidge</th> <td>  6.03e+04</td> <td> 5808.902</td> <td>   10.381</td> <td> 0.000</td> <td> 4.89e+04</td> <td> 7.17e+04</td>\n",
       "</tr>\n",
       "<tr>\n",
       "  <th>neighborhood_NridgHt</th> <td> 4.677e+04</td> <td> 4678.107</td> <td>    9.998</td> <td> 0.000</td> <td> 3.76e+04</td> <td> 5.59e+04</td>\n",
       "</tr>\n",
       "<tr>\n",
       "  <th>neighborhood_OldTown</th> <td>-2.918e+04</td> <td> 3582.005</td> <td>   -8.147</td> <td> 0.000</td> <td>-3.62e+04</td> <td>-2.22e+04</td>\n",
       "</tr>\n",
       "<tr>\n",
       "  <th>neighborhood_SWISU</th>   <td>-2.645e+04</td> <td> 6737.810</td> <td>   -3.926</td> <td> 0.000</td> <td>-3.97e+04</td> <td>-1.32e+04</td>\n",
       "</tr>\n",
       "<tr>\n",
       "  <th>neighborhood_Sawyer</th>  <td>-1.334e+04</td> <td> 4160.474</td> <td>   -3.206</td> <td> 0.001</td> <td>-2.15e+04</td> <td>-5176.714</td>\n",
       "</tr>\n",
       "<tr>\n",
       "  <th>neighborhood_SawyerW</th> <td>-2426.0993</td> <td> 4498.719</td> <td>   -0.539</td> <td> 0.590</td> <td>-1.13e+04</td> <td> 6398.825</td>\n",
       "</tr>\n",
       "<tr>\n",
       "  <th>neighborhood_Somerst</th> <td> 1.162e+04</td> <td> 4066.865</td> <td>    2.857</td> <td> 0.004</td> <td> 3642.096</td> <td> 1.96e+04</td>\n",
       "</tr>\n",
       "<tr>\n",
       "  <th>neighborhood_StoneBr</th> <td> 5.167e+04</td> <td> 7068.515</td> <td>    7.310</td> <td> 0.000</td> <td> 3.78e+04</td> <td> 6.55e+04</td>\n",
       "</tr>\n",
       "<tr>\n",
       "  <th>neighborhood_Timber</th>  <td> 1.813e+04</td> <td> 5598.965</td> <td>    3.238</td> <td> 0.001</td> <td> 7144.938</td> <td> 2.91e+04</td>\n",
       "</tr>\n",
       "<tr>\n",
       "  <th>neighborhood_Veenker</th> <td> 3.526e+04</td> <td> 9926.897</td> <td>    3.552</td> <td> 0.000</td> <td> 1.58e+04</td> <td> 5.47e+04</td>\n",
       "</tr>\n",
       "<tr>\n",
       "  <th>exterior1st_AsbShng</th>  <td>-4832.5230</td> <td> 8413.697</td> <td>   -0.574</td> <td> 0.566</td> <td>-2.13e+04</td> <td> 1.17e+04</td>\n",
       "</tr>\n",
       "<tr>\n",
       "  <th>exterior1st_AsphShn</th>  <td>-6.187e+04</td> <td> 3.14e+04</td> <td>   -1.972</td> <td> 0.049</td> <td>-1.23e+05</td> <td> -327.849</td>\n",
       "</tr>\n",
       "<tr>\n",
       "  <th>exterior1st_BrkComm</th>  <td>-1.958e+04</td> <td> 2.25e+04</td> <td>   -0.872</td> <td> 0.384</td> <td>-6.36e+04</td> <td> 2.45e+04</td>\n",
       "</tr>\n",
       "<tr>\n",
       "  <th>exterior1st_BrkFace</th>  <td> 1.753e+04</td> <td> 6297.815</td> <td>    2.784</td> <td> 0.005</td> <td> 5179.811</td> <td> 2.99e+04</td>\n",
       "</tr>\n",
       "<tr>\n",
       "  <th>exterior1st_CBlock</th>   <td> 1.826e+04</td> <td> 3.13e+04</td> <td>    0.582</td> <td> 0.560</td> <td>-4.32e+04</td> <td> 7.97e+04</td>\n",
       "</tr>\n",
       "<tr>\n",
       "  <th>exterior1st_CemntBd</th>  <td> 2.673e+04</td> <td> 6711.007</td> <td>    3.983</td> <td> 0.000</td> <td> 1.36e+04</td> <td> 3.99e+04</td>\n",
       "</tr>\n",
       "<tr>\n",
       "  <th>exterior1st_HdBoard</th>  <td>-1176.8186</td> <td> 4963.844</td> <td>   -0.237</td> <td> 0.813</td> <td>-1.09e+04</td> <td> 8560.519</td>\n",
       "</tr>\n",
       "<tr>\n",
       "  <th>exterior1st_ImStucc</th>  <td>-2.314e+04</td> <td> 3.17e+04</td> <td>   -0.730</td> <td> 0.465</td> <td>-8.53e+04</td> <td>  3.9e+04</td>\n",
       "</tr>\n",
       "<tr>\n",
       "  <th>exterior1st_MetalSd</th>  <td> 2313.1700</td> <td> 4820.894</td> <td>    0.480</td> <td> 0.631</td> <td>-7143.750</td> <td> 1.18e+04</td>\n",
       "</tr>\n",
       "<tr>\n",
       "  <th>exterior1st_Plywood</th>  <td> 3185.0211</td> <td> 5506.487</td> <td>    0.578</td> <td> 0.563</td> <td>-7616.794</td> <td>  1.4e+04</td>\n",
       "</tr>\n",
       "<tr>\n",
       "  <th>exterior1st_Stone</th>    <td>-1.311e+04</td> <td> 2.27e+04</td> <td>   -0.578</td> <td> 0.563</td> <td>-5.76e+04</td> <td> 3.14e+04</td>\n",
       "</tr>\n",
       "<tr>\n",
       "  <th>exterior1st_Stucco</th>   <td>-6313.0804</td> <td> 7646.959</td> <td>   -0.826</td> <td> 0.409</td> <td>-2.13e+04</td> <td> 8687.596</td>\n",
       "</tr>\n",
       "<tr>\n",
       "  <th>exterior1st_VinylSd</th>  <td> 1.044e+04</td> <td> 4758.753</td> <td>    2.195</td> <td> 0.028</td> <td> 1108.325</td> <td> 1.98e+04</td>\n",
       "</tr>\n",
       "<tr>\n",
       "  <th>exterior1st_Wd Sdng</th>  <td>-2089.9961</td> <td> 4893.293</td> <td>   -0.427</td> <td> 0.669</td> <td>-1.17e+04</td> <td> 7508.944</td>\n",
       "</tr>\n",
       "<tr>\n",
       "  <th>exterior1st_WdShing</th>  <td> 1527.6699</td> <td> 7486.915</td> <td>    0.204</td> <td> 0.838</td> <td>-1.32e+04</td> <td> 1.62e+04</td>\n",
       "</tr>\n",
       "</table>\n",
       "<table class=\"simpletable\">\n",
       "<tr>\n",
       "  <th>Omnibus:</th>       <td>197.146</td> <th>  Durbin-Watson:     </th> <td>   2.001</td>\n",
       "</tr>\n",
       "<tr>\n",
       "  <th>Prob(Omnibus):</th> <td> 0.000</td>  <th>  Jarque-Bera (JB):  </th> <td>2104.943</td>\n",
       "</tr>\n",
       "<tr>\n",
       "  <th>Skew:</th>          <td> 0.193</td>  <th>  Prob(JB):          </th> <td>    0.00</td>\n",
       "</tr>\n",
       "<tr>\n",
       "  <th>Kurtosis:</th>      <td> 8.894</td>  <th>  Cond. No.          </th> <td>3.00e+16</td>\n",
       "</tr>\n",
       "</table><br/><br/>Notes:<br/>[1] Standard Errors assume that the covariance matrix of the errors is correctly specified.<br/>[2] The smallest eigenvalue is 2.39e-24. This might indicate that there are<br/>strong multicollinearity problems or that the design matrix is singular."
      ],
      "text/plain": [
       "<class 'statsmodels.iolib.summary.Summary'>\n",
       "\"\"\"\n",
       "                            OLS Regression Results                            \n",
       "==============================================================================\n",
       "Dep. Variable:              saleprice   R-squared:                       0.799\n",
       "Model:                            OLS   Adj. R-squared:                  0.793\n",
       "Method:                 Least Squares   F-statistic:                     136.2\n",
       "Date:                Wed, 21 Jul 2021   Prob (F-statistic):               0.00\n",
       "Time:                        09:59:16   Log-Likelihood:                -17100.\n",
       "No. Observations:                1448   AIC:                         3.428e+04\n",
       "Df Residuals:                    1406   BIC:                         3.451e+04\n",
       "Df Model:                          41                                         \n",
       "Covariance Type:            nonrobust                                         \n",
       "========================================================================================\n",
       "                           coef    std err          t      P>|t|      [0.025      0.975]\n",
       "----------------------------------------------------------------------------------------\n",
       "const                -5.212e+04   7073.382     -7.368      0.000    -6.6e+04   -3.82e+04\n",
       "overallqual           2.187e+04   1029.251     21.244      0.000    1.98e+04    2.39e+04\n",
       "firstflrsf              37.7512      3.031     12.455      0.000      31.806      43.697\n",
       "totrmsabvgrd          8145.7163    649.998     12.532      0.000    6870.646    9420.787\n",
       "neighborhood_Blmngtn -2.598e+04   8110.198     -3.203      0.001   -4.19e+04   -1.01e+04\n",
       "neighborhood_Blueste -1.279e+04   2.26e+04     -0.565      0.572   -5.72e+04    3.16e+04\n",
       "neighborhood_BrDale  -3.894e+04   8407.601     -4.631      0.000   -5.54e+04   -2.24e+04\n",
       "neighborhood_BrkSide -1.526e+04   4698.445     -3.248      0.001   -2.45e+04   -6045.033\n",
       "neighborhood_ClearCr  2.834e+04   6325.162      4.480      0.000    1.59e+04    4.07e+04\n",
       "neighborhood_CollgCr  -251.7703   3317.721     -0.076      0.940   -6759.987    6256.447\n",
       "neighborhood_Crawfor  1.512e+04   4862.432      3.109      0.002    5577.642    2.47e+04\n",
       "neighborhood_Edwards -2.333e+04   3700.690     -6.303      0.000   -3.06e+04   -1.61e+04\n",
       "neighborhood_Gilbert    11.2389   4134.420      0.003      0.998   -8099.057    8121.535\n",
       "neighborhood_IDOTRR  -3.132e+04   5842.740     -5.361      0.000   -4.28e+04   -1.99e+04\n",
       "neighborhood_MeadowV -4.089e+04   9609.514     -4.256      0.000   -5.97e+04    -2.2e+04\n",
       "neighborhood_Mitchel -1.179e+04   4875.371     -2.418      0.016   -2.14e+04   -2222.922\n",
       "neighborhood_NAmes    -1.65e+04   2737.405     -6.027      0.000   -2.19e+04   -1.11e+04\n",
       "neighborhood_NPkVill -2.135e+04   1.12e+04     -1.902      0.057   -4.34e+04     669.174\n",
       "neighborhood_NWAmes  -9527.8255   4205.444     -2.266      0.024   -1.78e+04   -1278.205\n",
       "neighborhood_NoRidge   6.03e+04   5808.902     10.381      0.000    4.89e+04    7.17e+04\n",
       "neighborhood_NridgHt  4.677e+04   4678.107      9.998      0.000    3.76e+04    5.59e+04\n",
       "neighborhood_OldTown -2.918e+04   3582.005     -8.147      0.000   -3.62e+04   -2.22e+04\n",
       "neighborhood_SWISU   -2.645e+04   6737.810     -3.926      0.000   -3.97e+04   -1.32e+04\n",
       "neighborhood_Sawyer  -1.334e+04   4160.474     -3.206      0.001   -2.15e+04   -5176.714\n",
       "neighborhood_SawyerW -2426.0993   4498.719     -0.539      0.590   -1.13e+04    6398.825\n",
       "neighborhood_Somerst  1.162e+04   4066.865      2.857      0.004    3642.096    1.96e+04\n",
       "neighborhood_StoneBr  5.167e+04   7068.515      7.310      0.000    3.78e+04    6.55e+04\n",
       "neighborhood_Timber   1.813e+04   5598.965      3.238      0.001    7144.938    2.91e+04\n",
       "neighborhood_Veenker  3.526e+04   9926.897      3.552      0.000    1.58e+04    5.47e+04\n",
       "exterior1st_AsbShng  -4832.5230   8413.697     -0.574      0.566   -2.13e+04    1.17e+04\n",
       "exterior1st_AsphShn  -6.187e+04   3.14e+04     -1.972      0.049   -1.23e+05    -327.849\n",
       "exterior1st_BrkComm  -1.958e+04   2.25e+04     -0.872      0.384   -6.36e+04    2.45e+04\n",
       "exterior1st_BrkFace   1.753e+04   6297.815      2.784      0.005    5179.811    2.99e+04\n",
       "exterior1st_CBlock    1.826e+04   3.13e+04      0.582      0.560   -4.32e+04    7.97e+04\n",
       "exterior1st_CemntBd   2.673e+04   6711.007      3.983      0.000    1.36e+04    3.99e+04\n",
       "exterior1st_HdBoard  -1176.8186   4963.844     -0.237      0.813   -1.09e+04    8560.519\n",
       "exterior1st_ImStucc  -2.314e+04   3.17e+04     -0.730      0.465   -8.53e+04     3.9e+04\n",
       "exterior1st_MetalSd   2313.1700   4820.894      0.480      0.631   -7143.750    1.18e+04\n",
       "exterior1st_Plywood   3185.0211   5506.487      0.578      0.563   -7616.794     1.4e+04\n",
       "exterior1st_Stone    -1.311e+04   2.27e+04     -0.578      0.563   -5.76e+04    3.14e+04\n",
       "exterior1st_Stucco   -6313.0804   7646.959     -0.826      0.409   -2.13e+04    8687.596\n",
       "exterior1st_VinylSd   1.044e+04   4758.753      2.195      0.028    1108.325    1.98e+04\n",
       "exterior1st_Wd Sdng  -2089.9961   4893.293     -0.427      0.669   -1.17e+04    7508.944\n",
       "exterior1st_WdShing   1527.6699   7486.915      0.204      0.838   -1.32e+04    1.62e+04\n",
       "==============================================================================\n",
       "Omnibus:                      197.146   Durbin-Watson:                   2.001\n",
       "Prob(Omnibus):                  0.000   Jarque-Bera (JB):             2104.943\n",
       "Skew:                           0.193   Prob(JB):                         0.00\n",
       "Kurtosis:                       8.894   Cond. No.                     3.00e+16\n",
       "==============================================================================\n",
       "\n",
       "Notes:\n",
       "[1] Standard Errors assume that the covariance matrix of the errors is correctly specified.\n",
       "[2] The smallest eigenvalue is 2.39e-24. This might indicate that there are\n",
       "strong multicollinearity problems or that the design matrix is singular.\n",
       "\"\"\""
      ]
     },
     "execution_count": 65,
     "metadata": {},
     "output_type": "execute_result"
    }
   ],
   "source": [
    "X = sm.add_constant(X)\n",
    "\n",
    "results = sm.OLS(Y, X).fit()\n",
    "\n",
    "results.summary()"
   ]
  },
  {
   "cell_type": "code",
   "execution_count": null,
   "id": "dcb7a375",
   "metadata": {},
   "outputs": [],
   "source": []
  }
 ],
 "metadata": {
  "kernelspec": {
   "display_name": "Python 3",
   "language": "python",
   "name": "python3"
  },
  "language_info": {
   "codemirror_mode": {
    "name": "ipython",
    "version": 3
   },
   "file_extension": ".py",
   "mimetype": "text/x-python",
   "name": "python",
   "nbconvert_exporter": "python",
   "pygments_lexer": "ipython3",
   "version": "3.9.5"
  }
 },
 "nbformat": 4,
 "nbformat_minor": 5
}
