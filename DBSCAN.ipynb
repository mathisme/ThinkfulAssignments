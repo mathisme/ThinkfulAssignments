{
 "cells": [
  {
   "cell_type": "code",
   "execution_count": 1,
   "id": "d3bd0288",
   "metadata": {},
   "outputs": [],
   "source": [
    "import numpy as np\n",
    "import pandas as pd\n",
    "import matplotlib.pyplot as plt\n",
    "import seaborn as sns\n",
    "from sklearn.cluster import DBSCAN\n",
    "from sklearn.metrics import adjusted_rand_score\n",
    "from sklearn.metrics import silhouette_score\n",
    "from sklearn.preprocessing import StandardScaler\n",
    "from sqlalchemy import create_engine\n",
    "\n",
    "import warnings\n",
    "warnings.filterwarnings('ignore')"
   ]
  },
  {
   "cell_type": "code",
   "execution_count": 2,
   "id": "b9843bbf",
   "metadata": {},
   "outputs": [],
   "source": [
    "postgres_user = 'dsbc_student'\n",
    "postgres_pw = '7*.8G9QH21'\n",
    "postgres_host = '142.93.121.174'\n",
    "postgres_port = '5432'\n",
    "postgres_db = 'heartdisease'"
   ]
  },
  {
   "cell_type": "code",
   "execution_count": 3,
   "id": "8217fd95",
   "metadata": {},
   "outputs": [],
   "source": [
    "engine = create_engine('postgresql://{}:{}@{}:{}/{}'.format(\n",
    "    postgres_user, postgres_pw, postgres_host, postgres_port, postgres_db))\n",
    "df = pd.read_sql_query('select * from heartdisease',con=engine)\n",
    "\n",
    "engine.dispose()"
   ]
  },
  {
   "cell_type": "code",
   "execution_count": 4,
   "id": "12a01fd1",
   "metadata": {},
   "outputs": [],
   "source": [
    "X = df.iloc[:, :13]\n",
    "y = df.iloc[:, 13]\n",
    "X = X.replace(to_replace='?', value=0)\n",
    "y = np.where(y > 0, 1, 0)"
   ]
  },
  {
   "cell_type": "code",
   "execution_count": 5,
   "id": "c6020805",
   "metadata": {},
   "outputs": [],
   "source": [
    "X = StandardScaler().fit_transform(X)"
   ]
  },
  {
   "cell_type": "markdown",
   "id": "c66711c2",
   "metadata": {},
   "source": [
    "Trying different epsilon and min_sample sizes"
   ]
  },
  {
   "cell_type": "code",
   "execution_count": 9,
   "id": "4fb087c8",
   "metadata": {},
   "outputs": [
    {
     "name": "stdout",
     "output_type": "stream",
     "text": [
      "Data for epsilon  1 and minPts 3\n",
      "--------------------------------------------------\n",
      "Number of clusters: 1\n",
      "Silhouette score: -0.11413521440464984\n",
      "ARI score: -0.002755933782262106\n",
      "\n",
      "\n",
      "Data for epsilon  2 and minPts 3\n",
      "--------------------------------------------------\n",
      "Number of clusters: 14\n",
      "Silhouette score: -0.08928343209927057\n",
      "ARI score: 0.023475936862224274\n",
      "\n",
      "\n",
      "Data for epsilon  2 and minPts 5\n",
      "--------------------------------------------------\n",
      "Number of clusters: 7\n",
      "Silhouette score: -0.11852766126558806\n",
      "ARI score: 0.014409669379190203\n",
      "\n",
      "\n",
      "Data for epsilon  2 and minPts 10\n",
      "--------------------------------------------------\n",
      "Number of clusters: 2\n",
      "Silhouette score: -0.054699537076223465\n",
      "ARI score: 0.0004330708360639482\n",
      "\n",
      "\n",
      "Data for epsilon  4 and minPts 3\n",
      "--------------------------------------------------\n",
      "Number of clusters: 1\n",
      "Silhouette score: 0.3369136150427854\n",
      "ARI score: 9.291884165881406e-05\n",
      "\n",
      "\n",
      "Data for epsilon  4 and minPts 5\n",
      "--------------------------------------------------\n",
      "Number of clusters: 1\n",
      "Silhouette score: 0.3369136150427854\n",
      "ARI score: 9.291884165881406e-05\n",
      "\n",
      "\n",
      "Data for epsilon  4 and minPts 10\n",
      "--------------------------------------------------\n",
      "Number of clusters: 1\n",
      "Silhouette score: 0.3013636263792331\n",
      "ARI score: 0.0025529853418756712\n",
      "\n",
      "\n",
      "Data for epsilon  4 and minPts 20\n",
      "--------------------------------------------------\n",
      "Number of clusters: 1\n",
      "Silhouette score: 0.3013636263792331\n",
      "ARI score: 0.0025529853418756712\n",
      "\n",
      "\n"
     ]
    }
   ],
   "source": [
    "eps_choices = [0.05, 0.1, 0.25, 0.5, 1, 2, 4]\n",
    "min_pts_choices = [3,5,10,20]\n",
    "for e in eps_choices:\n",
    "    for m in min_pts_choices:\n",
    "        db = DBSCAN(eps=e, min_samples=m)\n",
    "        y_preds = db.fit_predict(X)\n",
    "        nclusters = len(set([y for y in y_preds if y != -1]))\n",
    "        if nclusters > 0:\n",
    "            print(\"Data for epsilon \",e, \"and minPts\",m)\n",
    "            print(\"-\"*50)\n",
    "            print(\"Number of clusters:\",nclusters)\n",
    "            print(\"Silhouette score:\",silhouette_score(X,y_preds))\n",
    "            print(\"ARI score:\", adjusted_rand_score(y,y_preds))\n",
    "            print(\"\\n\")\n"
   ]
  },
  {
   "cell_type": "markdown",
   "id": "7d6fee11",
   "metadata": {},
   "source": [
    "Apply DBSCAN by setting parameters eps=1, min_samples=1, metric=\"euclidean\". Then increase the value of min_samples. When you increase the value of min_samples, how does that affect the number of clusters that DBSCAN identifies?"
   ]
  },
  {
   "cell_type": "code",
   "execution_count": 17,
   "id": "c7a49a03",
   "metadata": {},
   "outputs": [
    {
     "name": "stdout",
     "output_type": "stream",
     "text": [
      "The number of clusters with min_samples set to 1 is: 294\n",
      "The number of clusters with min_samples set to 2 is: 8\n",
      "The number of clusters with min_samples set to 3 is: 1\n",
      "The number of clusters with min_samples set to 4 is: 0\n",
      "The number of clusters with min_samples set to 5 is: 0\n",
      "The number of clusters with min_samples set to 6 is: 0\n",
      "The number of clusters with min_samples set to 7 is: 0\n",
      "The number of clusters with min_samples set to 8 is: 0\n",
      "The number of clusters with min_samples set to 9 is: 0\n",
      "The number of clusters with min_samples set to 10 is: 0\n"
     ]
    }
   ],
   "source": [
    "e = 1\n",
    "for m in range(1,11):\n",
    "    db = DBSCAN(eps=e, min_samples=m)\n",
    "    y_preds = db.fit_predict(X)\n",
    "    n_clusters = len(set([y for y in y_preds if y != -1]))\n",
    "    print(\"The number of clusters with min_samples set to\",m,\"is:\",n_clusters)"
   ]
  },
  {
   "cell_type": "markdown",
   "id": "1f0a3feb",
   "metadata": {},
   "source": [
    "The number of clusters definitely decreases fast with epsilon = 1.  The dataset seems spread out.\n",
    "\n",
    "Apply DBSCAN by setting parameters eps=1, min_samples=1, metric=\"euclidean\". Then increase the value of eps. When you increase the value of eps, how does that affect the number of clusters that DBSCAN identifies?"
   ]
  },
  {
   "cell_type": "code",
   "execution_count": 19,
   "id": "9d15bb7e",
   "metadata": {},
   "outputs": [
    {
     "name": "stdout",
     "output_type": "stream",
     "text": [
      "The number of clusters with epsilon set to 1 is: 294\n",
      "The number of clusters with epsilon set to 2 is: 178\n",
      "The number of clusters with epsilon set to 3 is: 34\n",
      "The number of clusters with epsilon set to 4 is: 3\n",
      "The number of clusters with epsilon set to 5 is: 1\n",
      "The number of clusters with epsilon set to 6 is: 1\n",
      "The number of clusters with epsilon set to 7 is: 1\n",
      "The number of clusters with epsilon set to 8 is: 1\n",
      "The number of clusters with epsilon set to 9 is: 1\n",
      "The number of clusters with epsilon set to 10 is: 1\n"
     ]
    }
   ],
   "source": [
    "m = 1\n",
    "for e in range(1,11):\n",
    "    db = DBSCAN(eps=e, min_samples=m)\n",
    "    y_preds = db.fit_predict(X)\n",
    "    n_clusters = len(set([y for y in y_preds if y != -1]))\n",
    "    print(\"The number of clusters with epsilon set to\",e,\"is:\",n_clusters)"
   ]
  },
  {
   "cell_type": "markdown",
   "id": "bf9906f8",
   "metadata": {},
   "source": [
    "By epsilon=5, everything is in 1 cluster.  Given the data was scaled this isn't surprising."
   ]
  },
  {
   "cell_type": "code",
   "execution_count": null,
   "id": "f9b9dbc3",
   "metadata": {},
   "outputs": [],
   "source": []
  }
 ],
 "metadata": {
  "kernelspec": {
   "display_name": "Python 3",
   "language": "python",
   "name": "python3"
  },
  "language_info": {
   "codemirror_mode": {
    "name": "ipython",
    "version": 3
   },
   "file_extension": ".py",
   "mimetype": "text/x-python",
   "name": "python",
   "nbconvert_exporter": "python",
   "pygments_lexer": "ipython3",
   "version": "3.9.5"
  }
 },
 "nbformat": 4,
 "nbformat_minor": 5
}
