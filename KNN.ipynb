{
 "cells": [
  {
   "cell_type": "code",
   "execution_count": 45,
   "id": "e82a7063",
   "metadata": {},
   "outputs": [],
   "source": [
    "import numpy as np\n",
    "import pandas as pd"
   ]
  },
  {
   "cell_type": "code",
   "execution_count": 50,
   "id": "e452e77f",
   "metadata": {},
   "outputs": [],
   "source": [
    "def knn(X,y,k,predicted_values):\n",
    "    X=np.array(X)\n",
    "    y=np.array(y)\n",
    "    prediction = np.array(predicted_values)\n",
    "    result = np.zeros(X.shape[0])\n",
    "    temp = np.zeros(X.shape)\n",
    "    for i in range(X.shape[0]):\n",
    "        temp[i,:] = X[i,:]-prediction\n",
    "        result[i] = np.sqrt(np.dot(temp[i,:].T,temp[i,:]))\n",
    "    df = pd.DataFrame()\n",
    "    df['distance'] = result\n",
    "    df['correlated_y'] = y\n",
    "    df.sort_values(by='distance',inplace=True)\n",
    "    top = df['correlated_y'][:k]\n",
    "    d = {}\n",
    "    for x in top:\n",
    "        d[x] = d.get(x,0) + 1/k # could probably improve this\n",
    "    return d\n",
    "    \n",
    "    "
   ]
  },
  {
   "cell_type": "code",
   "execution_count": 51,
   "id": "523ede05",
   "metadata": {},
   "outputs": [],
   "source": [
    "music = pd.DataFrame()\n",
    "music['duration'] = [184, 134, 243, 186, 122, 197, 294, 382, 102, 264, \n",
    "                     205, 110, 307, 110, 397, 153, 190, 192, 210, 403,\n",
    "                     164, 198, 204, 253, 234, 190, 182, 401, 376, 102]\n",
    "music['loudness'] = [18, 34, 43, 36, 22, 9, 29, 22, 10, 24, \n",
    "                     20, 10, 17, 51, 7, 13, 19, 12, 21, 22,\n",
    "                     16, 18, 4, 23, 34, 19, 14, 11, 37, 42]\n",
    "music['jazz'] = [ 1, 0, 0, 0, 1, 1, 0, 1, 1, 0,\n",
    "                  0, 1, 1, 0, 1, 1, 0, 1, 1, 1,\n",
    "                  1, 1, 1, 1, 0, 0, 1, 1, 0, 0]\n",
    "X = music[['loudness', 'duration']]\n",
    "Y = music.jazz"
   ]
  },
  {
   "cell_type": "code",
   "execution_count": 52,
   "id": "80f65d67",
   "metadata": {},
   "outputs": [],
   "source": [
    "prediction = np.array([24, 190])"
   ]
  },
  {
   "cell_type": "code",
   "execution_count": 53,
   "id": "e8e8e477",
   "metadata": {},
   "outputs": [
    {
     "data": {
      "text/plain": [
       "{0: 0.4, 1: 0.6000000000000001}"
      ]
     },
     "execution_count": 53,
     "metadata": {},
     "output_type": "execute_result"
    }
   ],
   "source": [
    "knn(X,Y,5,prediction)"
   ]
  },
  {
   "cell_type": "code",
   "execution_count": 32,
   "id": "574b2529",
   "metadata": {},
   "outputs": [],
   "source": [
    "y=np.array(Y)"
   ]
  },
  {
   "cell_type": "code",
   "execution_count": 11,
   "id": "5fbfc8e4",
   "metadata": {},
   "outputs": [],
   "source": [
    "X = np.array(X)"
   ]
  },
  {
   "cell_type": "code",
   "execution_count": 13,
   "id": "73ee088b",
   "metadata": {},
   "outputs": [
    {
     "data": {
      "text/plain": [
       "array([ 24, 190])"
      ]
     },
     "execution_count": 13,
     "metadata": {},
     "output_type": "execute_result"
    }
   ],
   "source": [
    "prediction"
   ]
  },
  {
   "cell_type": "code",
   "execution_count": null,
   "id": "744864b8",
   "metadata": {},
   "outputs": [],
   "source": []
  }
 ],
 "metadata": {
  "kernelspec": {
   "display_name": "Python 3",
   "language": "python",
   "name": "python3"
  },
  "language_info": {
   "codemirror_mode": {
    "name": "ipython",
    "version": 3
   },
   "file_extension": ".py",
   "mimetype": "text/x-python",
   "name": "python",
   "nbconvert_exporter": "python",
   "pygments_lexer": "ipython3",
   "version": "3.9.5"
  }
 },
 "nbformat": 4,
 "nbformat_minor": 5
}
