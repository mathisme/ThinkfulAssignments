{
 "cells": [
  {
   "cell_type": "code",
   "execution_count": 2,
   "id": "1c8c9e39",
   "metadata": {},
   "outputs": [],
   "source": [
    "import pandas as pd\n",
    "import numpy as np\n",
    "from sklearn.model_selection import train_test_split\n",
    "from statsmodels.tools.eval_measures import mse, rmse\n",
    "from sklearn.metrics import mean_absolute_error\n",
    "from sklearn.preprocessing import StandardScaler\n",
    "from sklearn.decomposition import PCA"
   ]
  },
  {
   "cell_type": "code",
   "execution_count": 3,
   "id": "c32d6779",
   "metadata": {},
   "outputs": [],
   "source": [
    "df = pd.read_csv('https://archive.ics.uci.edu/ml/machine-learning-databases/auto-mpg/auto-mpg.data-original', header=None, \n",
    "            delim_whitespace=True, names=['mpg','cylinders','displacement','horsepower','weight','acceleration','model year','origin','car name']\n",
    ")"
   ]
  },
  {
   "cell_type": "markdown",
   "id": "f76e4384",
   "metadata": {},
   "source": [
    "The exploratory data analysis can be found in the OLS notebook."
   ]
  },
  {
   "cell_type": "code",
   "execution_count": 4,
   "id": "ec243012",
   "metadata": {},
   "outputs": [],
   "source": [
    "df.drop(df[df.mpg.isnull()].index,inplace=True)"
   ]
  },
  {
   "cell_type": "code",
   "execution_count": 5,
   "id": "1bc6c264",
   "metadata": {},
   "outputs": [],
   "source": [
    "# looked up the horsepower values online.  Now they may not be correct\n",
    "df.loc[38,'horsepower'] = 100\n",
    "df.loc[133,'horsepower'] = 94\n",
    "df.loc[337,'horsepower'] = 53.5\n",
    "df.loc[343,'horsepower'] = 88\n",
    "df.loc[361,'horsepower'] = 81\n",
    "df.loc[382,'horsepower'] = 82\n"
   ]
  },
  {
   "cell_type": "markdown",
   "id": "03591bb4",
   "metadata": {},
   "source": [
    "# Visualizing the data"
   ]
  },
  {
   "cell_type": "code",
   "execution_count": 7,
   "id": "477d64ce",
   "metadata": {},
   "outputs": [],
   "source": [
    "X = df.drop('mpg',axis=1)"
   ]
  },
  {
   "cell_type": "code",
   "execution_count": null,
   "id": "1097ca98",
   "metadata": {},
   "outputs": [],
   "source": []
  }
 ],
 "metadata": {
  "kernelspec": {
   "display_name": "Python 3",
   "language": "python",
   "name": "python3"
  },
  "language_info": {
   "codemirror_mode": {
    "name": "ipython",
    "version": 3
   },
   "file_extension": ".py",
   "mimetype": "text/x-python",
   "name": "python",
   "nbconvert_exporter": "python",
   "pygments_lexer": "ipython3",
   "version": "3.9.5"
  }
 },
 "nbformat": 4,
 "nbformat_minor": 5
}
