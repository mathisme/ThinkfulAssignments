{
 "cells": [
  {
   "cell_type": "code",
   "execution_count": 1,
   "id": "1c8c9e39",
   "metadata": {},
   "outputs": [],
   "source": [
    "import pandas as pd"
   ]
  },
  {
   "cell_type": "code",
   "execution_count": 2,
   "id": "c32d6779",
   "metadata": {},
   "outputs": [],
   "source": [
    "df = pd.read_csv('https://archive.ics.uci.edu/ml/machine-learning-databases/auto-mpg/auto-mpg.data-original', header=None, \n",
    "            delim_whitespace=True, names=['mpg','cylinders','displacement','horsepower','weight','acceleration','model year','origin','car name']\n",
    ")"
   ]
  },
  {
   "cell_type": "markdown",
   "id": "f76e4384",
   "metadata": {},
   "source": [
    "The exploratory data analysis can be found in the OLS notebook."
   ]
  },
  {
   "cell_type": "code",
   "execution_count": 3,
   "id": "ec243012",
   "metadata": {},
   "outputs": [],
   "source": [
    "df.drop(df[df.mpg.isnull()].index,inplace=True)"
   ]
  },
  {
   "cell_type": "code",
   "execution_count": 4,
   "id": "1bc6c264",
   "metadata": {},
   "outputs": [],
   "source": [
    "# looked up the horsepower values online.  Now they may not be correct\n",
    "df.loc[38,'horsepower'] = 100\n",
    "df.loc[133,'horsepower'] = 94\n",
    "df.loc[337,'horsepower'] = 53.5\n",
    "df.loc[343,'horsepower'] = 88\n",
    "df.loc[361,'horsepower'] = 81\n",
    "df.loc[382,'horsepower'] = 82\n"
   ]
  },
  {
   "cell_type": "code",
   "execution_count": null,
   "id": "6606febb",
   "metadata": {},
   "outputs": [],
   "source": []
  }
 ],
 "metadata": {
  "kernelspec": {
   "display_name": "Python 3",
   "language": "python",
   "name": "python3"
  },
  "language_info": {
   "codemirror_mode": {
    "name": "ipython",
    "version": 3
   },
   "file_extension": ".py",
   "mimetype": "text/x-python",
   "name": "python",
   "nbconvert_exporter": "python",
   "pygments_lexer": "ipython3",
   "version": "3.9.5"
  }
 },
 "nbformat": 4,
 "nbformat_minor": 5
}
