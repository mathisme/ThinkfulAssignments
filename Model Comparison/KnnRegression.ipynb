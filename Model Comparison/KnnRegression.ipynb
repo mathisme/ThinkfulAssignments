{
 "cells": [
  {
   "cell_type": "code",
   "execution_count": 19,
   "id": "1c8c9e39",
   "metadata": {},
   "outputs": [],
   "source": [
    "import pandas as pd\n",
    "import numpy as np\n",
    "import matplotlib.pyplot as plt\n",
    "from sklearn.model_selection import train_test_split\n",
    "from statsmodels.tools.eval_measures import mse, rmse\n",
    "from sklearn.metrics import mean_absolute_error\n",
    "from sklearn.preprocessing import StandardScaler\n",
    "from sklearn.decomposition import PCA\n",
    "from sklearn.neighbors import KNeighborsRegressor"
   ]
  },
  {
   "cell_type": "code",
   "execution_count": 4,
   "id": "c32d6779",
   "metadata": {},
   "outputs": [],
   "source": [
    "df = pd.read_csv('https://archive.ics.uci.edu/ml/machine-learning-databases/auto-mpg/auto-mpg.data-original', header=None, \n",
    "            delim_whitespace=True, names=['mpg','cylinders','displacement','horsepower','weight','acceleration','model year','origin','car name']\n",
    ")"
   ]
  },
  {
   "cell_type": "markdown",
   "id": "f76e4384",
   "metadata": {},
   "source": [
    "The exploratory data analysis can be found in the OLS notebook."
   ]
  },
  {
   "cell_type": "code",
   "execution_count": 5,
   "id": "ec243012",
   "metadata": {},
   "outputs": [],
   "source": [
    "df.drop(df[df.mpg.isnull()].index,inplace=True)"
   ]
  },
  {
   "cell_type": "code",
   "execution_count": 6,
   "id": "1bc6c264",
   "metadata": {},
   "outputs": [],
   "source": [
    "# looked up the horsepower values online.  Now they may not be correct\n",
    "df.loc[38,'horsepower'] = 100\n",
    "df.loc[133,'horsepower'] = 94\n",
    "df.loc[337,'horsepower'] = 53.5\n",
    "df.loc[343,'horsepower'] = 88\n",
    "df.loc[361,'horsepower'] = 81\n",
    "df.loc[382,'horsepower'] = 82\n"
   ]
  },
  {
   "cell_type": "code",
   "execution_count": 9,
   "id": "d8d06e75",
   "metadata": {},
   "outputs": [],
   "source": [
    "df.drop('car name', axis=1, inplace=True)"
   ]
  },
  {
   "cell_type": "markdown",
   "id": "e6aa9a3c",
   "metadata": {},
   "source": [
    "# Scaling the data"
   ]
  },
  {
   "cell_type": "code",
   "execution_count": 10,
   "id": "9835f4d7",
   "metadata": {},
   "outputs": [],
   "source": [
    "X = df.drop('mpg',axis=1)\n",
    "y =df.mpg"
   ]
  },
  {
   "cell_type": "code",
   "execution_count": 12,
   "id": "a720444d",
   "metadata": {},
   "outputs": [],
   "source": [
    "scaler = StandardScaler()\n",
    "X_scaled = scaler.fit(X.values).transform(X.values)\n",
    "y_scaled = scale(y.values)"
   ]
  },
  {
   "cell_type": "markdown",
   "id": "03591bb4",
   "metadata": {},
   "source": [
    "# Visualizing the data"
   ]
  },
  {
   "cell_type": "code",
   "execution_count": 21,
   "id": "477d64ce",
   "metadata": {},
   "outputs": [
    {
     "data": {
      "text/plain": [
       "<matplotlib.collections.PathCollection at 0x1a076e61e80>"
      ]
     },
     "execution_count": 21,
     "metadata": {},
     "output_type": "execute_result"
    },
    {
     "data": {
      "image/png": "[encoded data removed]",
      "text/plain": [
       "<Figure size 432x288 with 1 Axes>"
      ]
     },
     "metadata": {
      "needs_background": "light"
     },
     "output_type": "display_data"
    }
   ],
   "source": [
    "pca = PCA(n_components=2)\n",
    "x2d = pca.fit_transform(X_scaled)\n",
    "plt.scatter(x2d[:,0],x2d[:,1])"
   ]
  },
  {
   "cell_type": "markdown",
   "id": "e0aa998c",
   "metadata": {},
   "source": [
    "The plot shows dense areas.  For KNN I will probably not weigh distance"
   ]
  },
  {
   "cell_type": "markdown",
   "id": "9704adbb",
   "metadata": {},
   "source": [
    "# Creating the model"
   ]
  },
  {
   "cell_type": "code",
   "execution_count": 22,
   "id": "655b250c",
   "metadata": {},
   "outputs": [],
   "source": [
    "kn = KNeighborsRegressor(n_neighbors=5)"
   ]
  },
  {
   "cell_type": "code",
   "execution_count": 23,
   "id": "b19aefff",
   "metadata": {},
   "outputs": [],
   "source": [
    "X_train, X_test, y_train, y_test = train_test_split(X_scaled, y_scaled, test_size = 0.2,random_state=625)"
   ]
  },
  {
   "cell_type": "code",
   "execution_count": 24,
   "id": "0813bf40",
   "metadata": {},
   "outputs": [
    {
     "data": {
      "text/plain": [
       "KNeighborsRegressor()"
      ]
     },
     "execution_count": 24,
     "metadata": {},
     "output_type": "execute_result"
    }
   ],
   "source": [
    "kn.fit(X_train,y_train)"
   ]
  },
  {
   "cell_type": "markdown",
   "id": "f1c5561a",
   "metadata": {},
   "source": [
    "# Evaluating the model"
   ]
  },
  {
   "cell_type": "code",
   "execution_count": 25,
   "id": "0f0a602f",
   "metadata": {},
   "outputs": [],
   "source": [
    "def mape(y_values, y_preds):\n",
    "    return np.mean(np.abs(y_values-y_preds)/y_values)"
   ]
  },
  {
   "cell_type": "code",
   "execution_count": 26,
   "id": "50af6ae1",
   "metadata": {},
   "outputs": [],
   "source": [
    "def print_prediction_errors(y_test, y_preds):\n",
    "    print(\"The mean absolute error of the model: \",mean_absolute_error(y_test, y_preds))\n",
    "    print(\"The mean absolute percentage error of the model: \",mape(y_test, y_preds))\n",
    "    print(\"The mean square error of the model: \",mse(y_test,y_preds))\n",
    "    print(\"The root mean square error of the model: \",rmse(y_test,y_preds))"
   ]
  },
  {
   "cell_type": "code",
   "execution_count": 27,
   "id": "3942d206",
   "metadata": {},
   "outputs": [],
   "source": [
    "y_preds = kn.predict(X_test)"
   ]
  },
  {
   "cell_type": "code",
   "execution_count": 28,
   "id": "ea321aac",
   "metadata": {},
   "outputs": [
    {
     "name": "stdout",
     "output_type": "stream",
     "text": [
      "R-squared for the training set is:  0.890411093212857\n",
      "--------------------------------------------------\n",
      "R-squared for the test set is:  0.8898600121835012\n",
      "The mean absolute error of the model:  0.24080344574648116\n",
      "The mean absolute percentage error of the model:  -0.10930070414796908\n",
      "The mean square error of the model:  0.10332828991034657\n",
      "The root mean square error of the model:  0.32144718059169003\n",
      "--------------------------------------------------\n",
      "The difference in R squared between training and test sets is:  -0.0005510810293558599\n"
     ]
    }
   ],
   "source": [
    "r1 = kn.score(X_train,y_train)\n",
    "r2 = kn.score(X_test,y_test)\n",
    "print(\"R-squared for the training set is: \",r1)\n",
    "print('-'*50)\n",
    "print('R-squared for the test set is: ',r2)\n",
    "print_prediction_errors(y_test,y_preds)\n",
    "print('-'*50)\n",
    "print(\"The difference in R squared between training and test sets is: \", r2-r1)"
   ]
  },
  {
   "cell_type": "markdown",
   "id": "398e7bdb",
   "metadata": {},
   "source": [
    "# Comparing the models"
   ]
  },
  {
   "cell_type": "markdown",
   "id": "93e96684",
   "metadata": {},
   "source": [
    "K nearest neighbors performed better than OLS.  Two reasons for this may be that the values were scaled in KNN as well as all variables where included when fitting the model whereas with OLS, because of correlation, some variables needed to be excluded.  I would like to come back to this assignment at a later date and use a validation set to try different variable combinations to use for OLS, as well as try different values of K for k nearest neighbors.  I would also use the validation set to try regularization with OLS.  "
   ]
  }
 ],
 "metadata": {
  "kernelspec": {
   "display_name": "Python 3",
   "language": "python",
   "name": "python3"
  },
  "language_info": {
   "codemirror_mode": {
    "name": "ipython",
    "version": 3
   },
   "file_extension": ".py",
   "mimetype": "text/x-python",
   "name": "python",
   "nbconvert_exporter": "python",
   "pygments_lexer": "ipython3",
   "version": "3.9.5"
  }
 },
 "nbformat": 4,
 "nbformat_minor": 5
}
