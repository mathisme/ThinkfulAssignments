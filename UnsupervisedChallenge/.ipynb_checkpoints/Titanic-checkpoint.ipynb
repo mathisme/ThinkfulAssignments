{
 "cells": [
  {
   "cell_type": "code",
   "execution_count": 1,
   "id": "4f26a5f9",
   "metadata": {},
   "outputs": [],
   "source": [
    "import numpy as np\n",
    "import pandas as pd\n",
    "import matplotlib.pyplot as plt\n",
    "import seaborn as sns\n",
    "from umap import UMAP\n",
    "from sklearn.decomposition import PCA\n",
    "from sklearn.preprocessing import StandardScaler, MinMaxScaler\n",
    "from sklearn.cluster import KMeans\n",
    "from sklearn.model_selection import train_test_split\n",
    "from scipy.cluster.hierarchy import dendrogram, linkage\n",
    "from sklearn.cluster import AgglomerativeClustering\n",
    "from sklearn.cluster import DBSCAN\n",
    "from sklearn.metrics import silhouette_score"
   ]
  },
  {
   "cell_type": "markdown",
   "id": "8740d75d",
   "metadata": {},
   "source": [
    "# Introduction\n",
    "\n",
    "For the challenge I chose to use the Titanic dataset.  It is easy to understand that passengers could be grouped by age, sex, or passenger class as well as wether or not they survived.  I am interested to see how machine learning groups this.  One possible application is that if a museum wanted to put a piece together, since there are 887 people listed in this dataset, it may be useful to cluster into groups of similar people and take 1 or two people from each group to showcase."
   ]
  },
  {
   "cell_type": "markdown",
   "id": "0f26b129",
   "metadata": {},
   "source": [
    "# Data\n",
    "\n",
    "The dataset I chose to explore is the famous Titanic dataset.  The dataset can be found here, https://web.stanford.edu/class/archive/cs/cs109/cs109.1166/problem12.html\n",
    "\n"
   ]
  },
  {
   "cell_type": "code",
   "execution_count": 2,
   "id": "7005e4cf",
   "metadata": {},
   "outputs": [],
   "source": [
    "df = pd.read_csv('titanic.csv')"
   ]
  },
  {
   "cell_type": "code",
   "execution_count": 3,
   "id": "b4f4a187",
   "metadata": {},
   "outputs": [
    {
     "data": {
      "text/plain": [
       "(887, 8)"
      ]
     },
     "execution_count": 3,
     "metadata": {},
     "output_type": "execute_result"
    }
   ],
   "source": [
    "df.shape"
   ]
  },
  {
   "cell_type": "code",
   "execution_count": 4,
   "id": "9519c9c4",
   "metadata": {},
   "outputs": [
    {
     "data": {
      "text/plain": [
       "Index(['Survived', 'Pclass', 'Name', 'Sex', 'Age', 'Siblings/Spouses Aboard',\n",
       "       'Parents/Children Aboard', 'Fare'],\n",
       "      dtype='object')"
      ]
     },
     "execution_count": 4,
     "metadata": {},
     "output_type": "execute_result"
    }
   ],
   "source": [
    "df.columns"
   ]
  },
  {
   "cell_type": "code",
   "execution_count": 5,
   "id": "9cadddb8",
   "metadata": {},
   "outputs": [],
   "source": [
    "df.drop('Name', axis=1, inplace=True)"
   ]
  },
  {
   "cell_type": "code",
   "execution_count": 6,
   "id": "d7f547a1",
   "metadata": {},
   "outputs": [
    {
     "data": {
      "text/html": [
       "<div>\n",
       "<style scoped>\n",
       "    .dataframe tbody tr th:only-of-type {\n",
       "        vertical-align: middle;\n",
       "    }\n",
       "\n",
       "    .dataframe tbody tr th {\n",
       "        vertical-align: top;\n",
       "    }\n",
       "\n",
       "    .dataframe thead th {\n",
       "        text-align: right;\n",
       "    }\n",
       "</style>\n",
       "<table border=\"1\" class=\"dataframe\">\n",
       "  <thead>\n",
       "    <tr style=\"text-align: right;\">\n",
       "      <th></th>\n",
       "      <th>Survived</th>\n",
       "      <th>Pclass</th>\n",
       "      <th>Sex</th>\n",
       "      <th>Age</th>\n",
       "      <th>Siblings/Spouses Aboard</th>\n",
       "      <th>Parents/Children Aboard</th>\n",
       "      <th>Fare</th>\n",
       "    </tr>\n",
       "  </thead>\n",
       "  <tbody>\n",
       "    <tr>\n",
       "      <th>0</th>\n",
       "      <td>0</td>\n",
       "      <td>3</td>\n",
       "      <td>male</td>\n",
       "      <td>22.0</td>\n",
       "      <td>1</td>\n",
       "      <td>0</td>\n",
       "      <td>7.2500</td>\n",
       "    </tr>\n",
       "    <tr>\n",
       "      <th>1</th>\n",
       "      <td>1</td>\n",
       "      <td>1</td>\n",
       "      <td>female</td>\n",
       "      <td>38.0</td>\n",
       "      <td>1</td>\n",
       "      <td>0</td>\n",
       "      <td>71.2833</td>\n",
       "    </tr>\n",
       "    <tr>\n",
       "      <th>2</th>\n",
       "      <td>1</td>\n",
       "      <td>3</td>\n",
       "      <td>female</td>\n",
       "      <td>26.0</td>\n",
       "      <td>0</td>\n",
       "      <td>0</td>\n",
       "      <td>7.9250</td>\n",
       "    </tr>\n",
       "    <tr>\n",
       "      <th>3</th>\n",
       "      <td>1</td>\n",
       "      <td>1</td>\n",
       "      <td>female</td>\n",
       "      <td>35.0</td>\n",
       "      <td>1</td>\n",
       "      <td>0</td>\n",
       "      <td>53.1000</td>\n",
       "    </tr>\n",
       "    <tr>\n",
       "      <th>4</th>\n",
       "      <td>0</td>\n",
       "      <td>3</td>\n",
       "      <td>male</td>\n",
       "      <td>35.0</td>\n",
       "      <td>0</td>\n",
       "      <td>0</td>\n",
       "      <td>8.0500</td>\n",
       "    </tr>\n",
       "  </tbody>\n",
       "</table>\n",
       "</div>"
      ],
      "text/plain": [
       "   Survived  Pclass     Sex   Age  Siblings/Spouses Aboard  \\\n",
       "0         0       3    male  22.0                        1   \n",
       "1         1       1  female  38.0                        1   \n",
       "2         1       3  female  26.0                        0   \n",
       "3         1       1  female  35.0                        1   \n",
       "4         0       3    male  35.0                        0   \n",
       "\n",
       "   Parents/Children Aboard     Fare  \n",
       "0                        0   7.2500  \n",
       "1                        0  71.2833  \n",
       "2                        0   7.9250  \n",
       "3                        0  53.1000  \n",
       "4                        0   8.0500  "
      ]
     },
     "execution_count": 6,
     "metadata": {},
     "output_type": "execute_result"
    }
   ],
   "source": [
    "df.head()"
   ]
  },
  {
   "cell_type": "code",
   "execution_count": 7,
   "id": "7aa9e2d5",
   "metadata": {},
   "outputs": [
    {
     "data": {
      "text/plain": [
       "Survived                   0\n",
       "Pclass                     0\n",
       "Sex                        0\n",
       "Age                        0\n",
       "Siblings/Spouses Aboard    0\n",
       "Parents/Children Aboard    0\n",
       "Fare                       0\n",
       "dtype: int64"
      ]
     },
     "execution_count": 7,
     "metadata": {},
     "output_type": "execute_result"
    }
   ],
   "source": [
    "df.isnull().sum()"
   ]
  },
  {
   "cell_type": "code",
   "execution_count": 8,
   "id": "01f82e70",
   "metadata": {},
   "outputs": [],
   "source": [
    "df = pd.get_dummies(df) # maybe instead of get dummies replace with 1 male -1 female"
   ]
  },
  {
   "cell_type": "code",
   "execution_count": 9,
   "id": "d0481c30",
   "metadata": {},
   "outputs": [],
   "source": [
    "column_names = df.columns"
   ]
  },
  {
   "cell_type": "code",
   "execution_count": 10,
   "id": "d8c485a4",
   "metadata": {},
   "outputs": [
    {
     "data": {
      "text/html": [
       "<div>\n",
       "<style scoped>\n",
       "    .dataframe tbody tr th:only-of-type {\n",
       "        vertical-align: middle;\n",
       "    }\n",
       "\n",
       "    .dataframe tbody tr th {\n",
       "        vertical-align: top;\n",
       "    }\n",
       "\n",
       "    .dataframe thead th {\n",
       "        text-align: right;\n",
       "    }\n",
       "</style>\n",
       "<table border=\"1\" class=\"dataframe\">\n",
       "  <thead>\n",
       "    <tr style=\"text-align: right;\">\n",
       "      <th></th>\n",
       "      <th>Survived</th>\n",
       "      <th>Pclass</th>\n",
       "      <th>Age</th>\n",
       "      <th>Siblings/Spouses Aboard</th>\n",
       "      <th>Parents/Children Aboard</th>\n",
       "      <th>Fare</th>\n",
       "      <th>Sex_female</th>\n",
       "      <th>Sex_male</th>\n",
       "    </tr>\n",
       "  </thead>\n",
       "  <tbody>\n",
       "    <tr>\n",
       "      <th>0</th>\n",
       "      <td>0</td>\n",
       "      <td>3</td>\n",
       "      <td>22.0</td>\n",
       "      <td>1</td>\n",
       "      <td>0</td>\n",
       "      <td>7.2500</td>\n",
       "      <td>0</td>\n",
       "      <td>1</td>\n",
       "    </tr>\n",
       "    <tr>\n",
       "      <th>1</th>\n",
       "      <td>1</td>\n",
       "      <td>1</td>\n",
       "      <td>38.0</td>\n",
       "      <td>1</td>\n",
       "      <td>0</td>\n",
       "      <td>71.2833</td>\n",
       "      <td>1</td>\n",
       "      <td>0</td>\n",
       "    </tr>\n",
       "    <tr>\n",
       "      <th>2</th>\n",
       "      <td>1</td>\n",
       "      <td>3</td>\n",
       "      <td>26.0</td>\n",
       "      <td>0</td>\n",
       "      <td>0</td>\n",
       "      <td>7.9250</td>\n",
       "      <td>1</td>\n",
       "      <td>0</td>\n",
       "    </tr>\n",
       "    <tr>\n",
       "      <th>3</th>\n",
       "      <td>1</td>\n",
       "      <td>1</td>\n",
       "      <td>35.0</td>\n",
       "      <td>1</td>\n",
       "      <td>0</td>\n",
       "      <td>53.1000</td>\n",
       "      <td>1</td>\n",
       "      <td>0</td>\n",
       "    </tr>\n",
       "    <tr>\n",
       "      <th>4</th>\n",
       "      <td>0</td>\n",
       "      <td>3</td>\n",
       "      <td>35.0</td>\n",
       "      <td>0</td>\n",
       "      <td>0</td>\n",
       "      <td>8.0500</td>\n",
       "      <td>0</td>\n",
       "      <td>1</td>\n",
       "    </tr>\n",
       "  </tbody>\n",
       "</table>\n",
       "</div>"
      ],
      "text/plain": [
       "   Survived  Pclass   Age  Siblings/Spouses Aboard  Parents/Children Aboard  \\\n",
       "0         0       3  22.0                        1                        0   \n",
       "1         1       1  38.0                        1                        0   \n",
       "2         1       3  26.0                        0                        0   \n",
       "3         1       1  35.0                        1                        0   \n",
       "4         0       3  35.0                        0                        0   \n",
       "\n",
       "      Fare  Sex_female  Sex_male  \n",
       "0   7.2500           0         1  \n",
       "1  71.2833           1         0  \n",
       "2   7.9250           1         0  \n",
       "3  53.1000           1         0  \n",
       "4   8.0500           0         1  "
      ]
     },
     "execution_count": 10,
     "metadata": {},
     "output_type": "execute_result"
    }
   ],
   "source": [
    "df.head()"
   ]
  },
  {
   "cell_type": "markdown",
   "id": "afd409de",
   "metadata": {},
   "source": [
    "# Initial 2D view of the dataset using PCA and UMAP\n"
   ]
  },
  {
   "cell_type": "code",
   "execution_count": 11,
   "id": "0235896b",
   "metadata": {},
   "outputs": [],
   "source": [
    "X_initial = MinMaxScaler().fit_transform(df)"
   ]
  },
  {
   "cell_type": "code",
   "execution_count": 12,
   "id": "463e10f8",
   "metadata": {},
   "outputs": [],
   "source": [
    "pca = PCA(n_components=2)"
   ]
  },
  {
   "cell_type": "code",
   "execution_count": 13,
   "id": "2d11ca50",
   "metadata": {},
   "outputs": [],
   "source": [
    "X_2d_pca = pca.fit_transform(X_initial)"
   ]
  },
  {
   "cell_type": "code",
   "execution_count": 14,
   "id": "f4c32b36",
   "metadata": {},
   "outputs": [
    {
     "data": {
      "text/plain": [
       "<AxesSubplot:>"
      ]
     },
     "execution_count": 14,
     "metadata": {},
     "output_type": "execute_result"
    },
    {
     "data": {
      "image/png": "[encoded data removed]",
      "text/plain": [
       "<Figure size 432x288 with 1 Axes>"
      ]
     },
     "metadata": {
      "needs_background": "light"
     },
     "output_type": "display_data"
    }
   ],
   "source": [
    "sns.scatterplot(x=X_2d_pca[:,0],y=X_2d_pca[:,1])"
   ]
  },
  {
   "cell_type": "markdown",
   "id": "87441916",
   "metadata": {},
   "source": [
    "As PCA preserves distance, the image shows that there are definite clusters distanct from eachother.  Although nothing can be inferred, a cluster number of at least 6 seems reasonable, 12 seems ideal with this visualization."
   ]
  },
  {
   "cell_type": "code",
   "execution_count": 15,
   "id": "7e0e02dd",
   "metadata": {},
   "outputs": [],
   "source": [
    "umap2 = UMAP(n_components=2)"
   ]
  },
  {
   "cell_type": "code",
   "execution_count": 16,
   "id": "8905e2a0",
   "metadata": {},
   "outputs": [],
   "source": [
    "X_initial_2d = umap2.fit_transform(X_initial)"
   ]
  },
  {
   "cell_type": "code",
   "execution_count": 17,
   "id": "8979f7f6",
   "metadata": {},
   "outputs": [
    {
     "data": {
      "text/plain": [
       "<AxesSubplot:>"
      ]
     },
     "execution_count": 17,
     "metadata": {},
     "output_type": "execute_result"
    },
    {
     "data": {
      "image/png": "[encoded data removed]",
      "text/plain": [
       "<Figure size 432x288 with 1 Axes>"
      ]
     },
     "metadata": {
      "needs_background": "light"
     },
     "output_type": "display_data"
    }
   ],
   "source": [
    "sns.scatterplot(x=X_initial_2d[:,0],y=X_initial_2d[:,1])"
   ]
  },
  {
   "cell_type": "markdown",
   "id": "c63ff0a2",
   "metadata": {},
   "source": [
    "Although nothing can be inferred, there appear to be ten or more clusters."
   ]
  },
  {
   "cell_type": "code",
   "execution_count": 18,
   "id": "e1fcc7db",
   "metadata": {},
   "outputs": [],
   "source": [
    "df['x'] = X_initial_2d[:,0]\n",
    "df['y'] = X_initial_2d[:,1]"
   ]
  },
  {
   "cell_type": "markdown",
   "id": "930c42fd",
   "metadata": {},
   "source": [
    "# Clustering all data using KMeans\n",
    "\n",
    "* use inertia to find the best k or k values\n",
    "* Check consistency\n",
    "* Look at silhouette score"
   ]
  },
  {
   "cell_type": "code",
   "execution_count": 19,
   "id": "465b7e41",
   "metadata": {
    "scrolled": true
   },
   "outputs": [],
   "source": [
    "inertia_values = []\n",
    "for n in range(2,21):\n",
    "    kmeans = KMeans(n_clusters=n)\n",
    "    kmeans.fit(X_initial)\n",
    "    inertia_values.append((n,kmeans.inertia_))\n",
    "results = list(zip(*inertia_values))\n"
   ]
  },
  {
   "cell_type": "code",
   "execution_count": 20,
   "id": "a4dacb4e",
   "metadata": {},
   "outputs": [
    {
     "data": {
      "text/plain": [
       "<AxesSubplot:>"
      ]
     },
     "execution_count": 20,
     "metadata": {},
     "output_type": "execute_result"
    },
    {
     "data": {
      "image/png": "[encoded data removed]",
      "text/plain": [
       "<Figure size 432x288 with 1 Axes>"
      ]
     },
     "metadata": {
      "needs_background": "light"
     },
     "output_type": "display_data"
    }
   ],
   "source": [
    "sns.lineplot(x=results[0],y=results[1])"
   ]
  },
  {
   "cell_type": "markdown",
   "id": "a17386ee",
   "metadata": {},
   "source": [
    "It is hard to see an elbow.  I would say 6 or 9."
   ]
  },
  {
   "cell_type": "markdown",
   "id": "c32c07aa",
   "metadata": {},
   "source": [
    "Checking for a more pronounced elbow by adjusting other parameters of the k means algorithm"
   ]
  },
  {
   "cell_type": "code",
   "execution_count": 21,
   "id": "1ba5a223",
   "metadata": {},
   "outputs": [
    {
     "data": {
      "text/plain": [
       "<AxesSubplot:>"
      ]
     },
     "execution_count": 21,
     "metadata": {},
     "output_type": "execute_result"
    },
    {
     "data": {
      "image/png": "[encoded data removed]",
      "text/plain": [
       "<Figure size 432x288 with 1 Axes>"
      ]
     },
     "metadata": {
      "needs_background": "light"
     },
     "output_type": "display_data"
    }
   ],
   "source": [
    "inertia_values = []\n",
    "for n in range(2,21):\n",
    "    kmeans = KMeans(n_clusters=n, algorithm='full')\n",
    "    kmeans.fit(X_initial)\n",
    "    inertia_values.append((n,kmeans.inertia_))\n",
    "results = list(zip(*inertia_values))\n",
    "sns.lineplot(x=results[0],y=results[1])"
   ]
  },
  {
   "cell_type": "code",
   "execution_count": 22,
   "id": "1b23391e",
   "metadata": {},
   "outputs": [
    {
     "data": {
      "text/plain": [
       "<AxesSubplot:>"
      ]
     },
     "execution_count": 22,
     "metadata": {},
     "output_type": "execute_result"
    },
    {
     "data": {
      "image/png": "[encoded data removed]",
      "text/plain": [
       "<Figure size 432x288 with 1 Axes>"
      ]
     },
     "metadata": {
      "needs_background": "light"
     },
     "output_type": "display_data"
    }
   ],
   "source": [
    "inertia_values = []\n",
    "for n in range(2,21):\n",
    "    kmeans = KMeans(n_clusters=n, algorithm='elkan')\n",
    "    kmeans.fit(X_initial)\n",
    "    inertia_values.append((n,kmeans.inertia_))\n",
    "results = list(zip(*inertia_values))\n",
    "sns.lineplot(x=results[0],y=results[1])"
   ]
  },
  {
   "cell_type": "markdown",
   "id": "e2549a34",
   "metadata": {},
   "source": [
    "The three graphs look similar.  I will choose 9 for kmeans"
   ]
  },
  {
   "cell_type": "code",
   "execution_count": 23,
   "id": "4e71993d",
   "metadata": {},
   "outputs": [],
   "source": [
    "kmeans = KMeans(n_clusters=9)\n",
    "df['kmeans_labels'] = kmeans.fit_predict(X_initial)"
   ]
  },
  {
   "cell_type": "markdown",
   "id": "2ee363a4",
   "metadata": {},
   "source": [
    "Visualizing the data"
   ]
  },
  {
   "cell_type": "code",
   "execution_count": 24,
   "id": "362f8723",
   "metadata": {},
   "outputs": [
    {
     "data": {
      "text/plain": [
       "<AxesSubplot:xlabel='x', ylabel='y'>"
      ]
     },
     "execution_count": 24,
     "metadata": {},
     "output_type": "execute_result"
    },
    {
     "data": {
      "image/png": "[encoded data removed]",
      "text/plain": [
       "<Figure size 432x288 with 1 Axes>"
      ]
     },
     "metadata": {
      "needs_background": "light"
     },
     "output_type": "display_data"
    }
   ],
   "source": [
    "sns.scatterplot(x='x',y='y', hue='kmeans_labels', data=df, palette='gist_rainbow', s=50)"
   ]
  },
  {
   "cell_type": "markdown",
   "id": "953a40de",
   "metadata": {},
   "source": [
    "Kmeans does seems to seperate groups nicely"
   ]
  },
  {
   "cell_type": "code",
   "execution_count": 25,
   "id": "fc18e52f",
   "metadata": {},
   "outputs": [
    {
     "data": {
      "text/plain": [
       "0.5564717108991618"
      ]
     },
     "execution_count": 25,
     "metadata": {},
     "output_type": "execute_result"
    }
   ],
   "source": [
    "silhouette_score(X_initial, df['kmeans_labels'])"
   ]
  },
  {
   "cell_type": "markdown",
   "id": "859e96c7",
   "metadata": {},
   "source": [
    "A 0.5 silhouette_score is not bad.  Now I am going to check for consistency using visualizations."
   ]
  },
  {
   "cell_type": "code",
   "execution_count": 26,
   "id": "5f5f79d2",
   "metadata": {},
   "outputs": [],
   "source": [
    "X1, X2 = train_test_split(df, test_size=0.5)\n",
    "X1 = X1.index\n",
    "X2 = X2.index"
   ]
  },
  {
   "cell_type": "code",
   "execution_count": 27,
   "id": "270987d5",
   "metadata": {},
   "outputs": [
    {
     "data": {
      "image/png": "[encoded data removed]",
      "text/plain": [
       "<Figure size 1440x1152 with 6 Axes>"
      ]
     },
     "metadata": {
      "needs_background": "light"
     },
     "output_type": "display_data"
    }
   ],
   "source": [
    "seed = [123,456,789]\n",
    "fig, ax = plt.subplots(3,2, figsize=(20,16))\n",
    "for n in range(3):\n",
    "    labels = kmeans.fit_predict(X_initial[X1])\n",
    "    sns.scatterplot(x=df['x'][X1],y=df['y'][X1], hue=labels, palette='gist_rainbow', s=50, ax=ax[n,0])\n",
    "    labels = kmeans.fit_predict(X_initial[X2])\n",
    "    sns.scatterplot(x=df['x'][X2],y=df['y'][X2], hue=labels, palette='gist_rainbow', s=50, ax=ax[n,1])\n",
    "\n",
    "    \n",
    "    "
   ]
  },
  {
   "cell_type": "markdown",
   "id": "d75e7609",
   "metadata": {},
   "source": [
    "From the graphs above kneighbors appears mostly consistent.  There might be some combining of clusters in the second trial."
   ]
  },
  {
   "cell_type": "markdown",
   "id": "340016e7",
   "metadata": {},
   "source": [
    "# Hierarchal Clustering"
   ]
  },
  {
   "cell_type": "code",
   "execution_count": 28,
   "id": "8a292092",
   "metadata": {},
   "outputs": [
    {
     "data": {
      "image/png": "[encoded data removed]",
      "text/plain": [
       "<Figure size 2160x1440 with 1 Axes>"
      ]
     },
     "metadata": {
      "needs_background": "light"
     },
     "output_type": "display_data"
    }
   ],
   "source": [
    "plt.figure(figsize=(30,20))\n",
    "dendrogram(linkage(X_initial, method='complete'))\n",
    "plt.show()"
   ]
  },
  {
   "cell_type": "markdown",
   "id": "2633303e",
   "metadata": {},
   "source": [
    "In order to incorporate all the various colors, you will want the number of clusters to be at least 8. I picked a y of approximately 12 as a cutoff which makes 9 clusters."
   ]
  },
  {
   "cell_type": "code",
   "execution_count": 29,
   "id": "87ffc001",
   "metadata": {},
   "outputs": [],
   "source": [
    "agg = AgglomerativeClustering(n_clusters=9)"
   ]
  },
  {
   "cell_type": "code",
   "execution_count": 30,
   "id": "d5eb849f",
   "metadata": {},
   "outputs": [
    {
     "data": {
      "text/plain": [
       "AgglomerativeClustering(n_clusters=9)"
      ]
     },
     "execution_count": 30,
     "metadata": {},
     "output_type": "execute_result"
    }
   ],
   "source": [
    "agg.fit(X_initial)"
   ]
  },
  {
   "cell_type": "code",
   "execution_count": 31,
   "id": "80369e04",
   "metadata": {},
   "outputs": [],
   "source": [
    "df['agg_labels'] = agg.fit_predict(X_initial)"
   ]
  },
  {
   "cell_type": "code",
   "execution_count": 32,
   "id": "7f316552",
   "metadata": {},
   "outputs": [
    {
     "data": {
      "text/plain": [
       "0.5842505171590076"
      ]
     },
     "execution_count": 32,
     "metadata": {},
     "output_type": "execute_result"
    }
   ],
   "source": [
    "silhouette_score(X_initial, df['agg_labels'])"
   ]
  },
  {
   "cell_type": "markdown",
   "id": "91bfcabb",
   "metadata": {},
   "source": [
    "Now I am going to try other settings for agglomerative clustering and see which has the best silouette score."
   ]
  },
  {
   "cell_type": "code",
   "execution_count": 33,
   "id": "1f73e32b",
   "metadata": {},
   "outputs": [],
   "source": [
    "agg2 = AgglomerativeClustering(compute_full_tree=True, distance_threshold=5, n_clusters=None)"
   ]
  },
  {
   "cell_type": "markdown",
   "id": "4f604274",
   "metadata": {},
   "source": [
    "Using this the number of clusters id determined by the algorithm, howeveer distance_threshold would need to be tuned."
   ]
  },
  {
   "cell_type": "code",
   "execution_count": 34,
   "id": "dc65ef68",
   "metadata": {},
   "outputs": [
    {
     "data": {
      "text/plain": [
       "0.5700730275301739"
      ]
     },
     "execution_count": 34,
     "metadata": {},
     "output_type": "execute_result"
    }
   ],
   "source": [
    "silhouette_score(X_initial, agg2.fit_predict(X_initial))"
   ]
  },
  {
   "cell_type": "code",
   "execution_count": 35,
   "id": "5f92ba48",
   "metadata": {},
   "outputs": [
    {
     "data": {
      "text/plain": [
       "7"
      ]
     },
     "execution_count": 35,
     "metadata": {},
     "output_type": "execute_result"
    }
   ],
   "source": [
    "agg2.n_clusters_"
   ]
  },
  {
   "cell_type": "markdown",
   "id": "0be2416d",
   "metadata": {},
   "source": [
    "With computing a full tree and a distance of 5, the algorithm came up with 7 clusters with a slightly less silhouette score.  Now I am going to try to change the distance metric of the first algorithm to Manhattan and the linkage method to complete to see what changes."
   ]
  },
  {
   "cell_type": "code",
   "execution_count": 36,
   "id": "8d37b087",
   "metadata": {},
   "outputs": [],
   "source": [
    "agg3 = AgglomerativeClustering(n_clusters=9, linkage='complete', affinity='manhattan')"
   ]
  },
  {
   "cell_type": "code",
   "execution_count": 37,
   "id": "f3028bc9",
   "metadata": {},
   "outputs": [
    {
     "data": {
      "text/plain": [
       "0.5324695305241087"
      ]
     },
     "execution_count": 37,
     "metadata": {},
     "output_type": "execute_result"
    }
   ],
   "source": [
    "silhouette_score(X_initial, agg3.fit_predict(X_initial))"
   ]
  },
  {
   "cell_type": "markdown",
   "id": "fdb03543",
   "metadata": {},
   "source": [
    "The silhouette score slightly decreased.  If this were a capstone or personal project, I would play with this more but because it is only an assignment I'm moving on to DBSCAN"
   ]
  },
  {
   "cell_type": "markdown",
   "id": "8d90609d",
   "metadata": {},
   "source": [
    "# Clustering using DBSCAN"
   ]
  },
  {
   "cell_type": "code",
   "execution_count": 38,
   "id": "1a118319",
   "metadata": {},
   "outputs": [],
   "source": [
    "db = DBSCAN()"
   ]
  },
  {
   "cell_type": "code",
   "execution_count": 39,
   "id": "847c7290",
   "metadata": {},
   "outputs": [],
   "source": [
    "df['dbscan_labels']=db.fit_predict(X_initial)"
   ]
  },
  {
   "cell_type": "code",
   "execution_count": 40,
   "id": "148afeb7",
   "metadata": {},
   "outputs": [
    {
     "data": {
      "text/plain": [
       "0.545835073969786"
      ]
     },
     "execution_count": 40,
     "metadata": {},
     "output_type": "execute_result"
    }
   ],
   "source": [
    "# now get the silhouette score for those that are not outlers\n",
    "silhouette_score(X_initial[df['dbscan_labels']!=-1],df[df['dbscan_labels']!=-1]['dbscan_labels'])"
   ]
  },
  {
   "cell_type": "code",
   "execution_count": 41,
   "id": "f64d3165",
   "metadata": {},
   "outputs": [
    {
     "data": {
      "text/plain": [
       "9"
      ]
     },
     "execution_count": 41,
     "metadata": {},
     "output_type": "execute_result"
    }
   ],
   "source": [
    "df['dbscan_labels'].max()"
   ]
  },
  {
   "cell_type": "markdown",
   "id": "0f94922a",
   "metadata": {},
   "source": [
    "DBSCAN chose 9 clusters which the elbow method originally also suggested. The silhouette score is slightly lower than agglomerative clustering. As clusters appear spread out, I am going to now try DBSCAN by setting the min samples to 3 and seeing if there is any imporovement in the silhouette score."
   ]
  },
  {
   "cell_type": "code",
   "execution_count": 42,
   "id": "13c60cd9",
   "metadata": {},
   "outputs": [],
   "source": [
    "db2 = DBSCAN(min_samples=3)"
   ]
  },
  {
   "cell_type": "code",
   "execution_count": 43,
   "id": "95d449ab",
   "metadata": {},
   "outputs": [],
   "source": [
    "labels = db2.fit_predict(X_initial)"
   ]
  },
  {
   "cell_type": "code",
   "execution_count": 48,
   "id": "2f503523",
   "metadata": {},
   "outputs": [
    {
     "data": {
      "text/plain": [
       "0.545835073969786"
      ]
     },
     "execution_count": 48,
     "metadata": {},
     "output_type": "execute_result"
    }
   ],
   "source": [
    "silhouette_score(X_initial[labels!=-1],labels[labels!=-1])"
   ]
  },
  {
   "cell_type": "markdown",
   "id": "d0e7636e",
   "metadata": {},
   "source": [
    "The silhouette score has decreased."
   ]
  },
  {
   "cell_type": "markdown",
   "id": "a678bd02",
   "metadata": {},
   "source": [
    "# Comparing clusters\n",
    "\n",
    "## How they are grouped"
   ]
  },
  {
   "cell_type": "code",
   "execution_count": 49,
   "id": "9653947e",
   "metadata": {},
   "outputs": [
    {
     "data": {
      "text/html": [
       "<div>\n",
       "<style scoped>\n",
       "    .dataframe tbody tr th:only-of-type {\n",
       "        vertical-align: middle;\n",
       "    }\n",
       "\n",
       "    .dataframe tbody tr th {\n",
       "        vertical-align: top;\n",
       "    }\n",
       "\n",
       "    .dataframe thead th {\n",
       "        text-align: right;\n",
       "    }\n",
       "</style>\n",
       "<table border=\"1\" class=\"dataframe\">\n",
       "  <thead>\n",
       "    <tr style=\"text-align: right;\">\n",
       "      <th></th>\n",
       "      <th>Survived</th>\n",
       "      <th>Pclass</th>\n",
       "      <th>Age</th>\n",
       "      <th>Siblings/Spouses Aboard</th>\n",
       "      <th>Parents/Children Aboard</th>\n",
       "      <th>Fare</th>\n",
       "      <th>Sex_female</th>\n",
       "      <th>Sex_male</th>\n",
       "      <th>x</th>\n",
       "      <th>y</th>\n",
       "      <th>kmeans_labels</th>\n",
       "      <th>agg_labels</th>\n",
       "      <th>dbscan_labels</th>\n",
       "    </tr>\n",
       "  </thead>\n",
       "  <tbody>\n",
       "    <tr>\n",
       "      <th>std_cluster_0</th>\n",
       "      <td>0.0</td>\n",
       "      <td>0.000000</td>\n",
       "      <td>12.763295</td>\n",
       "      <td>0.653704</td>\n",
       "      <td>0.851864</td>\n",
       "      <td>11.140937</td>\n",
       "      <td>0.0</td>\n",
       "      <td>0.0</td>\n",
       "      <td>0.403594</td>\n",
       "      <td>0.463551</td>\n",
       "      <td>0.0</td>\n",
       "      <td>0.000000</td>\n",
       "      <td>0.000000</td>\n",
       "    </tr>\n",
       "    <tr>\n",
       "      <th>std_cluster_1</th>\n",
       "      <td>0.0</td>\n",
       "      <td>0.000000</td>\n",
       "      <td>12.019198</td>\n",
       "      <td>0.551610</td>\n",
       "      <td>0.436436</td>\n",
       "      <td>15.720548</td>\n",
       "      <td>0.0</td>\n",
       "      <td>0.0</td>\n",
       "      <td>0.455734</td>\n",
       "      <td>1.106559</td>\n",
       "      <td>0.0</td>\n",
       "      <td>0.000000</td>\n",
       "      <td>0.000000</td>\n",
       "    </tr>\n",
       "    <tr>\n",
       "      <th>std_cluster_2</th>\n",
       "      <td>0.0</td>\n",
       "      <td>0.450309</td>\n",
       "      <td>13.856058</td>\n",
       "      <td>1.814635</td>\n",
       "      <td>1.391442</td>\n",
       "      <td>24.821287</td>\n",
       "      <td>0.0</td>\n",
       "      <td>0.0</td>\n",
       "      <td>0.744743</td>\n",
       "      <td>0.403300</td>\n",
       "      <td>0.0</td>\n",
       "      <td>0.000000</td>\n",
       "      <td>1.595131</td>\n",
       "    </tr>\n",
       "    <tr>\n",
       "      <th>std_cluster_3</th>\n",
       "      <td>0.0</td>\n",
       "      <td>0.000000</td>\n",
       "      <td>11.797449</td>\n",
       "      <td>1.362608</td>\n",
       "      <td>0.632890</td>\n",
       "      <td>11.048677</td>\n",
       "      <td>0.0</td>\n",
       "      <td>0.0</td>\n",
       "      <td>4.191480</td>\n",
       "      <td>5.546829</td>\n",
       "      <td>0.0</td>\n",
       "      <td>1.608939</td>\n",
       "      <td>0.000000</td>\n",
       "    </tr>\n",
       "    <tr>\n",
       "      <th>std_cluster_4</th>\n",
       "      <td>0.0</td>\n",
       "      <td>0.438776</td>\n",
       "      <td>12.735524</td>\n",
       "      <td>0.708011</td>\n",
       "      <td>0.636008</td>\n",
       "      <td>14.230985</td>\n",
       "      <td>0.0</td>\n",
       "      <td>0.0</td>\n",
       "      <td>3.539627</td>\n",
       "      <td>0.760865</td>\n",
       "      <td>0.0</td>\n",
       "      <td>0.877552</td>\n",
       "      <td>0.877552</td>\n",
       "    </tr>\n",
       "    <tr>\n",
       "      <th>std_cluster_5</th>\n",
       "      <td>0.0</td>\n",
       "      <td>0.147442</td>\n",
       "      <td>14.646618</td>\n",
       "      <td>0.531610</td>\n",
       "      <td>0.662305</td>\n",
       "      <td>100.408695</td>\n",
       "      <td>0.0</td>\n",
       "      <td>0.0</td>\n",
       "      <td>0.496568</td>\n",
       "      <td>0.386290</td>\n",
       "      <td>0.0</td>\n",
       "      <td>0.000000</td>\n",
       "      <td>1.651379</td>\n",
       "    </tr>\n",
       "    <tr>\n",
       "      <th>std_cluster_6</th>\n",
       "      <td>0.0</td>\n",
       "      <td>0.000000</td>\n",
       "      <td>13.661642</td>\n",
       "      <td>0.553372</td>\n",
       "      <td>0.656999</td>\n",
       "      <td>60.052545</td>\n",
       "      <td>0.0</td>\n",
       "      <td>0.0</td>\n",
       "      <td>0.369023</td>\n",
       "      <td>0.720320</td>\n",
       "      <td>0.0</td>\n",
       "      <td>0.000000</td>\n",
       "      <td>0.000000</td>\n",
       "    </tr>\n",
       "    <tr>\n",
       "      <th>std_cluster_7</th>\n",
       "      <td>0.0</td>\n",
       "      <td>0.000000</td>\n",
       "      <td>12.870416</td>\n",
       "      <td>0.671048</td>\n",
       "      <td>0.701472</td>\n",
       "      <td>74.738897</td>\n",
       "      <td>0.0</td>\n",
       "      <td>0.0</td>\n",
       "      <td>0.581864</td>\n",
       "      <td>0.349369</td>\n",
       "      <td>0.0</td>\n",
       "      <td>0.000000</td>\n",
       "      <td>0.209657</td>\n",
       "    </tr>\n",
       "    <tr>\n",
       "      <th>std_cluster_8</th>\n",
       "      <td>0.0</td>\n",
       "      <td>0.000000</td>\n",
       "      <td>10.940216</td>\n",
       "      <td>0.888106</td>\n",
       "      <td>0.919277</td>\n",
       "      <td>5.984714</td>\n",
       "      <td>0.0</td>\n",
       "      <td>0.0</td>\n",
       "      <td>0.498300</td>\n",
       "      <td>0.375035</td>\n",
       "      <td>0.0</td>\n",
       "      <td>0.000000</td>\n",
       "      <td>0.000000</td>\n",
       "    </tr>\n",
       "  </tbody>\n",
       "</table>\n",
       "</div>"
      ],
      "text/plain": [
       "               Survived    Pclass        Age  Siblings/Spouses Aboard  \\\n",
       "std_cluster_0       0.0  0.000000  12.763295                 0.653704   \n",
       "std_cluster_1       0.0  0.000000  12.019198                 0.551610   \n",
       "std_cluster_2       0.0  0.450309  13.856058                 1.814635   \n",
       "std_cluster_3       0.0  0.000000  11.797449                 1.362608   \n",
       "std_cluster_4       0.0  0.438776  12.735524                 0.708011   \n",
       "std_cluster_5       0.0  0.147442  14.646618                 0.531610   \n",
       "std_cluster_6       0.0  0.000000  13.661642                 0.553372   \n",
       "std_cluster_7       0.0  0.000000  12.870416                 0.671048   \n",
       "std_cluster_8       0.0  0.000000  10.940216                 0.888106   \n",
       "\n",
       "               Parents/Children Aboard        Fare  Sex_female  Sex_male  \\\n",
       "std_cluster_0                 0.851864   11.140937         0.0       0.0   \n",
       "std_cluster_1                 0.436436   15.720548         0.0       0.0   \n",
       "std_cluster_2                 1.391442   24.821287         0.0       0.0   \n",
       "std_cluster_3                 0.632890   11.048677         0.0       0.0   \n",
       "std_cluster_4                 0.636008   14.230985         0.0       0.0   \n",
       "std_cluster_5                 0.662305  100.408695         0.0       0.0   \n",
       "std_cluster_6                 0.656999   60.052545         0.0       0.0   \n",
       "std_cluster_7                 0.701472   74.738897         0.0       0.0   \n",
       "std_cluster_8                 0.919277    5.984714         0.0       0.0   \n",
       "\n",
       "                      x         y  kmeans_labels  agg_labels  dbscan_labels  \n",
       "std_cluster_0  0.403594  0.463551            0.0    0.000000       0.000000  \n",
       "std_cluster_1  0.455734  1.106559            0.0    0.000000       0.000000  \n",
       "std_cluster_2  0.744743  0.403300            0.0    0.000000       1.595131  \n",
       "std_cluster_3  4.191480  5.546829            0.0    1.608939       0.000000  \n",
       "std_cluster_4  3.539627  0.760865            0.0    0.877552       0.877552  \n",
       "std_cluster_5  0.496568  0.386290            0.0    0.000000       1.651379  \n",
       "std_cluster_6  0.369023  0.720320            0.0    0.000000       0.000000  \n",
       "std_cluster_7  0.581864  0.349369            0.0    0.000000       0.209657  \n",
       "std_cluster_8  0.498300  0.375035            0.0    0.000000       0.000000  "
      ]
     },
     "execution_count": 49,
     "metadata": {},
     "output_type": "execute_result"
    }
   ],
   "source": [
    "stats = {}\n",
    "for n in range(9):\n",
    "    #stats['mean_cluster_{}'.format(n)] = df[df['kmeans_labels']==n].mean()\n",
    "    stats['std_cluster_{}'.format(n)] = df[df['kmeans_labels']==n].std()\n",
    "(pd.DataFrame(stats)).transpose()\n",
    "    "
   ]
  },
  {
   "cell_type": "code",
   "execution_count": 50,
   "id": "2786def5",
   "metadata": {},
   "outputs": [
    {
     "data": {
      "text/html": [
       "<div>\n",
       "<style scoped>\n",
       "    .dataframe tbody tr th:only-of-type {\n",
       "        vertical-align: middle;\n",
       "    }\n",
       "\n",
       "    .dataframe tbody tr th {\n",
       "        vertical-align: top;\n",
       "    }\n",
       "\n",
       "    .dataframe thead th {\n",
       "        text-align: right;\n",
       "    }\n",
       "</style>\n",
       "<table border=\"1\" class=\"dataframe\">\n",
       "  <thead>\n",
       "    <tr style=\"text-align: right;\">\n",
       "      <th></th>\n",
       "      <th>Survived</th>\n",
       "      <th>Pclass</th>\n",
       "      <th>Age</th>\n",
       "      <th>Siblings/Spouses Aboard</th>\n",
       "      <th>Parents/Children Aboard</th>\n",
       "      <th>Fare</th>\n",
       "      <th>Sex_female</th>\n",
       "      <th>Sex_male</th>\n",
       "      <th>x</th>\n",
       "      <th>y</th>\n",
       "      <th>kmeans_labels</th>\n",
       "      <th>agg_labels</th>\n",
       "      <th>dbscan_labels</th>\n",
       "    </tr>\n",
       "  </thead>\n",
       "  <tbody>\n",
       "    <tr>\n",
       "      <th>std_cluster_0</th>\n",
       "      <td>0.0</td>\n",
       "      <td>0.501720</td>\n",
       "      <td>12.417150</td>\n",
       "      <td>0.778674</td>\n",
       "      <td>0.886446</td>\n",
       "      <td>10.152416</td>\n",
       "      <td>0.0</td>\n",
       "      <td>0.0</td>\n",
       "      <td>1.079276</td>\n",
       "      <td>3.927074</td>\n",
       "      <td>4.013761</td>\n",
       "      <td>0.0</td>\n",
       "      <td>1.003440</td>\n",
       "    </tr>\n",
       "    <tr>\n",
       "      <th>std_cluster_1</th>\n",
       "      <td>0.0</td>\n",
       "      <td>0.450309</td>\n",
       "      <td>13.856058</td>\n",
       "      <td>1.814635</td>\n",
       "      <td>1.391442</td>\n",
       "      <td>24.821287</td>\n",
       "      <td>0.0</td>\n",
       "      <td>0.0</td>\n",
       "      <td>0.744743</td>\n",
       "      <td>0.403300</td>\n",
       "      <td>0.000000</td>\n",
       "      <td>0.0</td>\n",
       "      <td>1.595131</td>\n",
       "    </tr>\n",
       "    <tr>\n",
       "      <th>std_cluster_2</th>\n",
       "      <td>0.0</td>\n",
       "      <td>0.000000</td>\n",
       "      <td>10.747688</td>\n",
       "      <td>0.446412</td>\n",
       "      <td>0.507008</td>\n",
       "      <td>6.084348</td>\n",
       "      <td>0.0</td>\n",
       "      <td>0.0</td>\n",
       "      <td>3.810930</td>\n",
       "      <td>5.441839</td>\n",
       "      <td>0.000000</td>\n",
       "      <td>0.0</td>\n",
       "      <td>0.000000</td>\n",
       "    </tr>\n",
       "    <tr>\n",
       "      <th>std_cluster_3</th>\n",
       "      <td>0.0</td>\n",
       "      <td>0.000000</td>\n",
       "      <td>13.661642</td>\n",
       "      <td>0.553372</td>\n",
       "      <td>0.656999</td>\n",
       "      <td>60.052545</td>\n",
       "      <td>0.0</td>\n",
       "      <td>0.0</td>\n",
       "      <td>0.369023</td>\n",
       "      <td>0.720320</td>\n",
       "      <td>0.000000</td>\n",
       "      <td>0.0</td>\n",
       "      <td>0.000000</td>\n",
       "    </tr>\n",
       "    <tr>\n",
       "      <th>std_cluster_4</th>\n",
       "      <td>0.0</td>\n",
       "      <td>0.449749</td>\n",
       "      <td>17.790303</td>\n",
       "      <td>0.559519</td>\n",
       "      <td>0.688540</td>\n",
       "      <td>89.312557</td>\n",
       "      <td>0.0</td>\n",
       "      <td>0.0</td>\n",
       "      <td>1.498042</td>\n",
       "      <td>0.355991</td>\n",
       "      <td>0.441142</td>\n",
       "      <td>0.0</td>\n",
       "      <td>1.445374</td>\n",
       "    </tr>\n",
       "    <tr>\n",
       "      <th>std_cluster_5</th>\n",
       "      <td>0.0</td>\n",
       "      <td>0.000000</td>\n",
       "      <td>12.870416</td>\n",
       "      <td>0.671048</td>\n",
       "      <td>0.701472</td>\n",
       "      <td>74.738897</td>\n",
       "      <td>0.0</td>\n",
       "      <td>0.0</td>\n",
       "      <td>0.581864</td>\n",
       "      <td>0.349369</td>\n",
       "      <td>0.000000</td>\n",
       "      <td>0.0</td>\n",
       "      <td>0.209657</td>\n",
       "    </tr>\n",
       "    <tr>\n",
       "      <th>std_cluster_6</th>\n",
       "      <td>0.0</td>\n",
       "      <td>0.000000</td>\n",
       "      <td>11.365395</td>\n",
       "      <td>0.730592</td>\n",
       "      <td>0.586622</td>\n",
       "      <td>15.232388</td>\n",
       "      <td>0.0</td>\n",
       "      <td>0.0</td>\n",
       "      <td>0.573729</td>\n",
       "      <td>0.076361</td>\n",
       "      <td>0.000000</td>\n",
       "      <td>0.0</td>\n",
       "      <td>0.000000</td>\n",
       "    </tr>\n",
       "    <tr>\n",
       "      <th>std_cluster_7</th>\n",
       "      <td>0.0</td>\n",
       "      <td>0.000000</td>\n",
       "      <td>12.019198</td>\n",
       "      <td>0.551610</td>\n",
       "      <td>0.436436</td>\n",
       "      <td>15.720548</td>\n",
       "      <td>0.0</td>\n",
       "      <td>0.0</td>\n",
       "      <td>0.455734</td>\n",
       "      <td>1.106559</td>\n",
       "      <td>0.000000</td>\n",
       "      <td>0.0</td>\n",
       "      <td>0.000000</td>\n",
       "    </tr>\n",
       "    <tr>\n",
       "      <th>std_cluster_8</th>\n",
       "      <td>0.0</td>\n",
       "      <td>0.000000</td>\n",
       "      <td>5.832646</td>\n",
       "      <td>1.663370</td>\n",
       "      <td>0.510754</td>\n",
       "      <td>15.285887</td>\n",
       "      <td>0.0</td>\n",
       "      <td>0.0</td>\n",
       "      <td>0.132398</td>\n",
       "      <td>0.123410</td>\n",
       "      <td>0.000000</td>\n",
       "      <td>0.0</td>\n",
       "      <td>0.000000</td>\n",
       "    </tr>\n",
       "  </tbody>\n",
       "</table>\n",
       "</div>"
      ],
      "text/plain": [
       "               Survived    Pclass        Age  Siblings/Spouses Aboard  \\\n",
       "std_cluster_0       0.0  0.501720  12.417150                 0.778674   \n",
       "std_cluster_1       0.0  0.450309  13.856058                 1.814635   \n",
       "std_cluster_2       0.0  0.000000  10.747688                 0.446412   \n",
       "std_cluster_3       0.0  0.000000  13.661642                 0.553372   \n",
       "std_cluster_4       0.0  0.449749  17.790303                 0.559519   \n",
       "std_cluster_5       0.0  0.000000  12.870416                 0.671048   \n",
       "std_cluster_6       0.0  0.000000  11.365395                 0.730592   \n",
       "std_cluster_7       0.0  0.000000  12.019198                 0.551610   \n",
       "std_cluster_8       0.0  0.000000   5.832646                 1.663370   \n",
       "\n",
       "               Parents/Children Aboard       Fare  Sex_female  Sex_male  \\\n",
       "std_cluster_0                 0.886446  10.152416         0.0       0.0   \n",
       "std_cluster_1                 1.391442  24.821287         0.0       0.0   \n",
       "std_cluster_2                 0.507008   6.084348         0.0       0.0   \n",
       "std_cluster_3                 0.656999  60.052545         0.0       0.0   \n",
       "std_cluster_4                 0.688540  89.312557         0.0       0.0   \n",
       "std_cluster_5                 0.701472  74.738897         0.0       0.0   \n",
       "std_cluster_6                 0.586622  15.232388         0.0       0.0   \n",
       "std_cluster_7                 0.436436  15.720548         0.0       0.0   \n",
       "std_cluster_8                 0.510754  15.285887         0.0       0.0   \n",
       "\n",
       "                      x         y  kmeans_labels  agg_labels  dbscan_labels  \n",
       "std_cluster_0  1.079276  3.927074       4.013761         0.0       1.003440  \n",
       "std_cluster_1  0.744743  0.403300       0.000000         0.0       1.595131  \n",
       "std_cluster_2  3.810930  5.441839       0.000000         0.0       0.000000  \n",
       "std_cluster_3  0.369023  0.720320       0.000000         0.0       0.000000  \n",
       "std_cluster_4  1.498042  0.355991       0.441142         0.0       1.445374  \n",
       "std_cluster_5  0.581864  0.349369       0.000000         0.0       0.209657  \n",
       "std_cluster_6  0.573729  0.076361       0.000000         0.0       0.000000  \n",
       "std_cluster_7  0.455734  1.106559       0.000000         0.0       0.000000  \n",
       "std_cluster_8  0.132398  0.123410       0.000000         0.0       0.000000  "
      ]
     },
     "execution_count": 50,
     "metadata": {},
     "output_type": "execute_result"
    }
   ],
   "source": [
    "stats2 = {}\n",
    "for n in range(9):\n",
    "    stats2['std_cluster_{}'.format(n)] = df[df['agg_labels']==n].std()\n",
    "(pd.DataFrame(stats2)).transpose()"
   ]
  },
  {
   "cell_type": "code",
   "execution_count": 51,
   "id": "aa3dfa57",
   "metadata": {},
   "outputs": [
    {
     "data": {
      "text/html": [
       "<div>\n",
       "<style scoped>\n",
       "    .dataframe tbody tr th:only-of-type {\n",
       "        vertical-align: middle;\n",
       "    }\n",
       "\n",
       "    .dataframe tbody tr th {\n",
       "        vertical-align: top;\n",
       "    }\n",
       "\n",
       "    .dataframe thead th {\n",
       "        text-align: right;\n",
       "    }\n",
       "</style>\n",
       "<table border=\"1\" class=\"dataframe\">\n",
       "  <thead>\n",
       "    <tr style=\"text-align: right;\">\n",
       "      <th></th>\n",
       "      <th>Survived</th>\n",
       "      <th>Pclass</th>\n",
       "      <th>Age</th>\n",
       "      <th>Siblings/Spouses Aboard</th>\n",
       "      <th>Parents/Children Aboard</th>\n",
       "      <th>Fare</th>\n",
       "      <th>Sex_female</th>\n",
       "      <th>Sex_male</th>\n",
       "      <th>x</th>\n",
       "      <th>y</th>\n",
       "      <th>kmeans_labels</th>\n",
       "      <th>agg_labels</th>\n",
       "      <th>dbscan_labels</th>\n",
       "    </tr>\n",
       "  </thead>\n",
       "  <tbody>\n",
       "    <tr>\n",
       "      <th>std_cluster_0</th>\n",
       "      <td>0.0</td>\n",
       "      <td>0.424637</td>\n",
       "      <td>12.092916</td>\n",
       "      <td>1.224283</td>\n",
       "      <td>0.592876</td>\n",
       "      <td>12.664847</td>\n",
       "      <td>0.0</td>\n",
       "      <td>0.0</td>\n",
       "      <td>5.809587</td>\n",
       "      <td>5.113442</td>\n",
       "      <td>0.849273</td>\n",
       "      <td>2.384289</td>\n",
       "      <td>0.0</td>\n",
       "    </tr>\n",
       "    <tr>\n",
       "      <th>std_cluster_1</th>\n",
       "      <td>0.0</td>\n",
       "      <td>0.000000</td>\n",
       "      <td>12.942377</td>\n",
       "      <td>0.672261</td>\n",
       "      <td>0.703922</td>\n",
       "      <td>61.422775</td>\n",
       "      <td>0.0</td>\n",
       "      <td>0.0</td>\n",
       "      <td>0.585002</td>\n",
       "      <td>0.351123</td>\n",
       "      <td>0.000000</td>\n",
       "      <td>0.000000</td>\n",
       "      <td>0.0</td>\n",
       "    </tr>\n",
       "    <tr>\n",
       "      <th>std_cluster_2</th>\n",
       "      <td>0.0</td>\n",
       "      <td>0.000000</td>\n",
       "      <td>10.940216</td>\n",
       "      <td>0.888106</td>\n",
       "      <td>0.919277</td>\n",
       "      <td>5.984714</td>\n",
       "      <td>0.0</td>\n",
       "      <td>0.0</td>\n",
       "      <td>0.498300</td>\n",
       "      <td>0.375035</td>\n",
       "      <td>0.000000</td>\n",
       "      <td>0.000000</td>\n",
       "      <td>0.0</td>\n",
       "    </tr>\n",
       "    <tr>\n",
       "      <th>std_cluster_3</th>\n",
       "      <td>0.0</td>\n",
       "      <td>0.000000</td>\n",
       "      <td>13.661642</td>\n",
       "      <td>0.553372</td>\n",
       "      <td>0.656999</td>\n",
       "      <td>60.052545</td>\n",
       "      <td>0.0</td>\n",
       "      <td>0.0</td>\n",
       "      <td>0.369023</td>\n",
       "      <td>0.720320</td>\n",
       "      <td>0.000000</td>\n",
       "      <td>0.000000</td>\n",
       "      <td>0.0</td>\n",
       "    </tr>\n",
       "    <tr>\n",
       "      <th>std_cluster_4</th>\n",
       "      <td>0.0</td>\n",
       "      <td>0.000000</td>\n",
       "      <td>12.763295</td>\n",
       "      <td>0.653704</td>\n",
       "      <td>0.851864</td>\n",
       "      <td>11.140937</td>\n",
       "      <td>0.0</td>\n",
       "      <td>0.0</td>\n",
       "      <td>0.403594</td>\n",
       "      <td>0.463551</td>\n",
       "      <td>0.000000</td>\n",
       "      <td>0.000000</td>\n",
       "      <td>0.0</td>\n",
       "    </tr>\n",
       "    <tr>\n",
       "      <th>std_cluster_5</th>\n",
       "      <td>0.0</td>\n",
       "      <td>0.000000</td>\n",
       "      <td>13.262687</td>\n",
       "      <td>1.902093</td>\n",
       "      <td>1.435562</td>\n",
       "      <td>14.572275</td>\n",
       "      <td>0.0</td>\n",
       "      <td>0.0</td>\n",
       "      <td>0.625046</td>\n",
       "      <td>0.427805</td>\n",
       "      <td>0.000000</td>\n",
       "      <td>0.000000</td>\n",
       "      <td>0.0</td>\n",
       "    </tr>\n",
       "    <tr>\n",
       "      <th>std_cluster_6</th>\n",
       "      <td>0.0</td>\n",
       "      <td>0.000000</td>\n",
       "      <td>18.539658</td>\n",
       "      <td>0.624264</td>\n",
       "      <td>0.701888</td>\n",
       "      <td>9.832542</td>\n",
       "      <td>0.0</td>\n",
       "      <td>0.0</td>\n",
       "      <td>0.204018</td>\n",
       "      <td>0.146164</td>\n",
       "      <td>0.242536</td>\n",
       "      <td>0.000000</td>\n",
       "      <td>0.0</td>\n",
       "    </tr>\n",
       "    <tr>\n",
       "      <th>std_cluster_7</th>\n",
       "      <td>0.0</td>\n",
       "      <td>0.000000</td>\n",
       "      <td>14.659832</td>\n",
       "      <td>0.540702</td>\n",
       "      <td>0.673826</td>\n",
       "      <td>34.049120</td>\n",
       "      <td>0.0</td>\n",
       "      <td>0.0</td>\n",
       "      <td>0.221836</td>\n",
       "      <td>0.399526</td>\n",
       "      <td>0.000000</td>\n",
       "      <td>0.000000</td>\n",
       "      <td>0.0</td>\n",
       "    </tr>\n",
       "    <tr>\n",
       "      <th>std_cluster_8</th>\n",
       "      <td>0.0</td>\n",
       "      <td>0.000000</td>\n",
       "      <td>11.365395</td>\n",
       "      <td>0.730592</td>\n",
       "      <td>0.586622</td>\n",
       "      <td>15.232388</td>\n",
       "      <td>0.0</td>\n",
       "      <td>0.0</td>\n",
       "      <td>0.573729</td>\n",
       "      <td>0.076361</td>\n",
       "      <td>0.000000</td>\n",
       "      <td>0.000000</td>\n",
       "      <td>0.0</td>\n",
       "    </tr>\n",
       "  </tbody>\n",
       "</table>\n",
       "</div>"
      ],
      "text/plain": [
       "               Survived    Pclass        Age  Siblings/Spouses Aboard  \\\n",
       "std_cluster_0       0.0  0.424637  12.092916                 1.224283   \n",
       "std_cluster_1       0.0  0.000000  12.942377                 0.672261   \n",
       "std_cluster_2       0.0  0.000000  10.940216                 0.888106   \n",
       "std_cluster_3       0.0  0.000000  13.661642                 0.553372   \n",
       "std_cluster_4       0.0  0.000000  12.763295                 0.653704   \n",
       "std_cluster_5       0.0  0.000000  13.262687                 1.902093   \n",
       "std_cluster_6       0.0  0.000000  18.539658                 0.624264   \n",
       "std_cluster_7       0.0  0.000000  14.659832                 0.540702   \n",
       "std_cluster_8       0.0  0.000000  11.365395                 0.730592   \n",
       "\n",
       "               Parents/Children Aboard       Fare  Sex_female  Sex_male  \\\n",
       "std_cluster_0                 0.592876  12.664847         0.0       0.0   \n",
       "std_cluster_1                 0.703922  61.422775         0.0       0.0   \n",
       "std_cluster_2                 0.919277   5.984714         0.0       0.0   \n",
       "std_cluster_3                 0.656999  60.052545         0.0       0.0   \n",
       "std_cluster_4                 0.851864  11.140937         0.0       0.0   \n",
       "std_cluster_5                 1.435562  14.572275         0.0       0.0   \n",
       "std_cluster_6                 0.701888   9.832542         0.0       0.0   \n",
       "std_cluster_7                 0.673826  34.049120         0.0       0.0   \n",
       "std_cluster_8                 0.586622  15.232388         0.0       0.0   \n",
       "\n",
       "                      x         y  kmeans_labels  agg_labels  dbscan_labels  \n",
       "std_cluster_0  5.809587  5.113442       0.849273    2.384289            0.0  \n",
       "std_cluster_1  0.585002  0.351123       0.000000    0.000000            0.0  \n",
       "std_cluster_2  0.498300  0.375035       0.000000    0.000000            0.0  \n",
       "std_cluster_3  0.369023  0.720320       0.000000    0.000000            0.0  \n",
       "std_cluster_4  0.403594  0.463551       0.000000    0.000000            0.0  \n",
       "std_cluster_5  0.625046  0.427805       0.000000    0.000000            0.0  \n",
       "std_cluster_6  0.204018  0.146164       0.242536    0.000000            0.0  \n",
       "std_cluster_7  0.221836  0.399526       0.000000    0.000000            0.0  \n",
       "std_cluster_8  0.573729  0.076361       0.000000    0.000000            0.0  "
      ]
     },
     "execution_count": 51,
     "metadata": {},
     "output_type": "execute_result"
    }
   ],
   "source": [
    "stats3 = {}\n",
    "for n in range(9):\n",
    "    stats3['std_cluster_{}'.format(n)] = df[df['dbscan_labels']==n].std()\n",
    "(pd.DataFrame(stats3)).transpose()"
   ]
  },
  {
   "cell_type": "markdown",
   "id": "5d0178ca",
   "metadata": {},
   "source": [
    "By looking at the standard deviations of the clusers, as expected people were groupd by whether they survived and their sex, as well as their passenger class for some clusters. "
   ]
  },
  {
   "cell_type": "markdown",
   "id": "88ca8c98",
   "metadata": {},
   "source": [
    "## Comparing agglomerative clusters"
   ]
  },
  {
   "cell_type": "code",
   "execution_count": 52,
   "id": "2b4028e0",
   "metadata": {},
   "outputs": [
    {
     "data": {
      "text/html": [
       "<div>\n",
       "<style scoped>\n",
       "    .dataframe tbody tr th:only-of-type {\n",
       "        vertical-align: middle;\n",
       "    }\n",
       "\n",
       "    .dataframe tbody tr th {\n",
       "        vertical-align: top;\n",
       "    }\n",
       "\n",
       "    .dataframe thead th {\n",
       "        text-align: right;\n",
       "    }\n",
       "</style>\n",
       "<table border=\"1\" class=\"dataframe\">\n",
       "  <thead>\n",
       "    <tr style=\"text-align: right;\">\n",
       "      <th></th>\n",
       "      <th>Survived</th>\n",
       "      <th>Pclass</th>\n",
       "      <th>Age</th>\n",
       "      <th>Siblings/Spouses Aboard</th>\n",
       "      <th>Parents/Children Aboard</th>\n",
       "      <th>Fare</th>\n",
       "      <th>Sex_female</th>\n",
       "      <th>Sex_male</th>\n",
       "    </tr>\n",
       "  </thead>\n",
       "  <tbody>\n",
       "    <tr>\n",
       "      <th>count</th>\n",
       "      <td>142.0</td>\n",
       "      <td>142.000000</td>\n",
       "      <td>142.000000</td>\n",
       "      <td>142.000000</td>\n",
       "      <td>142.000000</td>\n",
       "      <td>142.000000</td>\n",
       "      <td>142.0</td>\n",
       "      <td>142.0</td>\n",
       "    </tr>\n",
       "    <tr>\n",
       "      <th>mean</th>\n",
       "      <td>1.0</td>\n",
       "      <td>2.507042</td>\n",
       "      <td>24.570423</td>\n",
       "      <td>0.492958</td>\n",
       "      <td>0.570423</td>\n",
       "      <td>17.307571</td>\n",
       "      <td>1.0</td>\n",
       "      <td>0.0</td>\n",
       "    </tr>\n",
       "    <tr>\n",
       "      <th>std</th>\n",
       "      <td>0.0</td>\n",
       "      <td>0.501720</td>\n",
       "      <td>12.417150</td>\n",
       "      <td>0.778674</td>\n",
       "      <td>0.886446</td>\n",
       "      <td>10.152416</td>\n",
       "      <td>0.0</td>\n",
       "      <td>0.0</td>\n",
       "    </tr>\n",
       "    <tr>\n",
       "      <th>min</th>\n",
       "      <td>1.0</td>\n",
       "      <td>2.000000</td>\n",
       "      <td>0.750000</td>\n",
       "      <td>0.000000</td>\n",
       "      <td>0.000000</td>\n",
       "      <td>7.225000</td>\n",
       "      <td>1.0</td>\n",
       "      <td>0.0</td>\n",
       "    </tr>\n",
       "    <tr>\n",
       "      <th>25%</th>\n",
       "      <td>1.0</td>\n",
       "      <td>2.000000</td>\n",
       "      <td>18.000000</td>\n",
       "      <td>0.000000</td>\n",
       "      <td>0.000000</td>\n",
       "      <td>9.409375</td>\n",
       "      <td>1.0</td>\n",
       "      <td>0.0</td>\n",
       "    </tr>\n",
       "    <tr>\n",
       "      <th>50%</th>\n",
       "      <td>1.0</td>\n",
       "      <td>3.000000</td>\n",
       "      <td>24.000000</td>\n",
       "      <td>0.000000</td>\n",
       "      <td>0.000000</td>\n",
       "      <td>13.825000</td>\n",
       "      <td>1.0</td>\n",
       "      <td>0.0</td>\n",
       "    </tr>\n",
       "    <tr>\n",
       "      <th>75%</th>\n",
       "      <td>1.0</td>\n",
       "      <td>3.000000</td>\n",
       "      <td>31.750000</td>\n",
       "      <td>1.000000</td>\n",
       "      <td>1.000000</td>\n",
       "      <td>23.187500</td>\n",
       "      <td>1.0</td>\n",
       "      <td>0.0</td>\n",
       "    </tr>\n",
       "    <tr>\n",
       "      <th>max</th>\n",
       "      <td>1.0</td>\n",
       "      <td>3.000000</td>\n",
       "      <td>63.000000</td>\n",
       "      <td>4.000000</td>\n",
       "      <td>5.000000</td>\n",
       "      <td>65.000000</td>\n",
       "      <td>1.0</td>\n",
       "      <td>0.0</td>\n",
       "    </tr>\n",
       "  </tbody>\n",
       "</table>\n",
       "</div>"
      ],
      "text/plain": [
       "       Survived      Pclass         Age  Siblings/Spouses Aboard  \\\n",
       "count     142.0  142.000000  142.000000               142.000000   \n",
       "mean        1.0    2.507042   24.570423                 0.492958   \n",
       "std         0.0    0.501720   12.417150                 0.778674   \n",
       "min         1.0    2.000000    0.750000                 0.000000   \n",
       "25%         1.0    2.000000   18.000000                 0.000000   \n",
       "50%         1.0    3.000000   24.000000                 0.000000   \n",
       "75%         1.0    3.000000   31.750000                 1.000000   \n",
       "max         1.0    3.000000   63.000000                 4.000000   \n",
       "\n",
       "       Parents/Children Aboard        Fare  Sex_female  Sex_male  \n",
       "count               142.000000  142.000000       142.0     142.0  \n",
       "mean                  0.570423   17.307571         1.0       0.0  \n",
       "std                   0.886446   10.152416         0.0       0.0  \n",
       "min                   0.000000    7.225000         1.0       0.0  \n",
       "25%                   0.000000    9.409375         1.0       0.0  \n",
       "50%                   0.000000   13.825000         1.0       0.0  \n",
       "75%                   1.000000   23.187500         1.0       0.0  \n",
       "max                   5.000000   65.000000         1.0       0.0  "
      ]
     },
     "execution_count": 52,
     "metadata": {},
     "output_type": "execute_result"
    }
   ],
   "source": [
    "df[df['agg_labels']==0][column_names].describe()"
   ]
  },
  {
   "cell_type": "markdown",
   "id": "bc5cab80",
   "metadata": {},
   "source": [
    "Cluster 0 consisted of 142 females from the second and third class whom survived."
   ]
  },
  {
   "cell_type": "code",
   "execution_count": 53,
   "id": "c3554867",
   "metadata": {},
   "outputs": [
    {
     "data": {
      "text/html": [
       "<div>\n",
       "<style scoped>\n",
       "    .dataframe tbody tr th:only-of-type {\n",
       "        vertical-align: middle;\n",
       "    }\n",
       "\n",
       "    .dataframe tbody tr th {\n",
       "        vertical-align: top;\n",
       "    }\n",
       "\n",
       "    .dataframe thead th {\n",
       "        text-align: right;\n",
       "    }\n",
       "</style>\n",
       "<table border=\"1\" class=\"dataframe\">\n",
       "  <thead>\n",
       "    <tr style=\"text-align: right;\">\n",
       "      <th></th>\n",
       "      <th>Survived</th>\n",
       "      <th>Pclass</th>\n",
       "      <th>Age</th>\n",
       "      <th>Siblings/Spouses Aboard</th>\n",
       "      <th>Parents/Children Aboard</th>\n",
       "      <th>Fare</th>\n",
       "      <th>Sex_female</th>\n",
       "      <th>Sex_male</th>\n",
       "    </tr>\n",
       "  </thead>\n",
       "  <tbody>\n",
       "    <tr>\n",
       "      <th>count</th>\n",
       "      <td>81.0</td>\n",
       "      <td>81.000000</td>\n",
       "      <td>81.000000</td>\n",
       "      <td>81.000000</td>\n",
       "      <td>81.000000</td>\n",
       "      <td>81.000000</td>\n",
       "      <td>81.0</td>\n",
       "      <td>81.0</td>\n",
       "    </tr>\n",
       "    <tr>\n",
       "      <th>mean</th>\n",
       "      <td>0.0</td>\n",
       "      <td>2.851852</td>\n",
       "      <td>24.419753</td>\n",
       "      <td>1.209877</td>\n",
       "      <td>1.037037</td>\n",
       "      <td>23.024385</td>\n",
       "      <td>1.0</td>\n",
       "      <td>0.0</td>\n",
       "    </tr>\n",
       "    <tr>\n",
       "      <th>std</th>\n",
       "      <td>0.0</td>\n",
       "      <td>0.450309</td>\n",
       "      <td>13.856058</td>\n",
       "      <td>1.814635</td>\n",
       "      <td>1.391442</td>\n",
       "      <td>24.821287</td>\n",
       "      <td>0.0</td>\n",
       "      <td>0.0</td>\n",
       "    </tr>\n",
       "    <tr>\n",
       "      <th>min</th>\n",
       "      <td>0.0</td>\n",
       "      <td>1.000000</td>\n",
       "      <td>2.000000</td>\n",
       "      <td>0.000000</td>\n",
       "      <td>0.000000</td>\n",
       "      <td>6.750000</td>\n",
       "      <td>1.0</td>\n",
       "      <td>0.0</td>\n",
       "    </tr>\n",
       "    <tr>\n",
       "      <th>25%</th>\n",
       "      <td>0.0</td>\n",
       "      <td>3.000000</td>\n",
       "      <td>14.500000</td>\n",
       "      <td>0.000000</td>\n",
       "      <td>0.000000</td>\n",
       "      <td>8.850000</td>\n",
       "      <td>1.0</td>\n",
       "      <td>0.0</td>\n",
       "    </tr>\n",
       "    <tr>\n",
       "      <th>50%</th>\n",
       "      <td>0.0</td>\n",
       "      <td>3.000000</td>\n",
       "      <td>22.000000</td>\n",
       "      <td>1.000000</td>\n",
       "      <td>0.000000</td>\n",
       "      <td>15.245800</td>\n",
       "      <td>1.0</td>\n",
       "      <td>0.0</td>\n",
       "    </tr>\n",
       "    <tr>\n",
       "      <th>75%</th>\n",
       "      <td>0.0</td>\n",
       "      <td>3.000000</td>\n",
       "      <td>32.000000</td>\n",
       "      <td>1.000000</td>\n",
       "      <td>2.000000</td>\n",
       "      <td>27.900000</td>\n",
       "      <td>1.0</td>\n",
       "      <td>0.0</td>\n",
       "    </tr>\n",
       "    <tr>\n",
       "      <th>max</th>\n",
       "      <td>0.0</td>\n",
       "      <td>3.000000</td>\n",
       "      <td>62.000000</td>\n",
       "      <td>8.000000</td>\n",
       "      <td>6.000000</td>\n",
       "      <td>151.550000</td>\n",
       "      <td>1.0</td>\n",
       "      <td>0.0</td>\n",
       "    </tr>\n",
       "  </tbody>\n",
       "</table>\n",
       "</div>"
      ],
      "text/plain": [
       "       Survived     Pclass        Age  Siblings/Spouses Aboard  \\\n",
       "count      81.0  81.000000  81.000000                81.000000   \n",
       "mean        0.0   2.851852  24.419753                 1.209877   \n",
       "std         0.0   0.450309  13.856058                 1.814635   \n",
       "min         0.0   1.000000   2.000000                 0.000000   \n",
       "25%         0.0   3.000000  14.500000                 0.000000   \n",
       "50%         0.0   3.000000  22.000000                 1.000000   \n",
       "75%         0.0   3.000000  32.000000                 1.000000   \n",
       "max         0.0   3.000000  62.000000                 8.000000   \n",
       "\n",
       "       Parents/Children Aboard        Fare  Sex_female  Sex_male  \n",
       "count                81.000000   81.000000        81.0      81.0  \n",
       "mean                  1.037037   23.024385         1.0       0.0  \n",
       "std                   1.391442   24.821287         0.0       0.0  \n",
       "min                   0.000000    6.750000         1.0       0.0  \n",
       "25%                   0.000000    8.850000         1.0       0.0  \n",
       "50%                   0.000000   15.245800         1.0       0.0  \n",
       "75%                   2.000000   27.900000         1.0       0.0  \n",
       "max                   6.000000  151.550000         1.0       0.0  "
      ]
     },
     "execution_count": 53,
     "metadata": {},
     "output_type": "execute_result"
    }
   ],
   "source": [
    "df[df['agg_labels']==1][column_names].describe()"
   ]
  },
  {
   "cell_type": "markdown",
   "id": "036d3916",
   "metadata": {},
   "source": [
    "Cluster 1 consists of 81 females whom did not survive.  Compared to cluster one, this group has slightly more family on board, on average.  Having to get family organized during a crisis may slow you down and hence lead to death."
   ]
  },
  {
   "cell_type": "code",
   "execution_count": 93,
   "id": "a30022f7",
   "metadata": {},
   "outputs": [
    {
     "data": {
      "text/html": [
       "<div>\n",
       "<style scoped>\n",
       "    .dataframe tbody tr th:only-of-type {\n",
       "        vertical-align: middle;\n",
       "    }\n",
       "\n",
       "    .dataframe tbody tr th {\n",
       "        vertical-align: top;\n",
       "    }\n",
       "\n",
       "    .dataframe thead th {\n",
       "        text-align: right;\n",
       "    }\n",
       "</style>\n",
       "<table border=\"1\" class=\"dataframe\">\n",
       "  <thead>\n",
       "    <tr style=\"text-align: right;\">\n",
       "      <th></th>\n",
       "      <th>Survived</th>\n",
       "      <th>Pclass</th>\n",
       "      <th>Age</th>\n",
       "      <th>Siblings/Spouses Aboard</th>\n",
       "      <th>Parents/Children Aboard</th>\n",
       "      <th>Fare</th>\n",
       "      <th>Sex_female</th>\n",
       "      <th>Sex_male</th>\n",
       "    </tr>\n",
       "  </thead>\n",
       "  <tbody>\n",
       "    <tr>\n",
       "      <th>count</th>\n",
       "      <td>273.0</td>\n",
       "      <td>273.0</td>\n",
       "      <td>273.000000</td>\n",
       "      <td>273.000000</td>\n",
       "      <td>273.000000</td>\n",
       "      <td>273.000000</td>\n",
       "      <td>273.0</td>\n",
       "      <td>273.0</td>\n",
       "    </tr>\n",
       "    <tr>\n",
       "      <th>mean</th>\n",
       "      <td>0.0</td>\n",
       "      <td>3.0</td>\n",
       "      <td>28.732601</td>\n",
       "      <td>0.179487</td>\n",
       "      <td>0.106227</td>\n",
       "      <td>9.804240</td>\n",
       "      <td>0.0</td>\n",
       "      <td>1.0</td>\n",
       "    </tr>\n",
       "    <tr>\n",
       "      <th>std</th>\n",
       "      <td>0.0</td>\n",
       "      <td>0.0</td>\n",
       "      <td>10.747688</td>\n",
       "      <td>0.446412</td>\n",
       "      <td>0.507008</td>\n",
       "      <td>6.084348</td>\n",
       "      <td>0.0</td>\n",
       "      <td>0.0</td>\n",
       "    </tr>\n",
       "    <tr>\n",
       "      <th>min</th>\n",
       "      <td>0.0</td>\n",
       "      <td>3.0</td>\n",
       "      <td>11.000000</td>\n",
       "      <td>0.000000</td>\n",
       "      <td>0.000000</td>\n",
       "      <td>0.000000</td>\n",
       "      <td>0.0</td>\n",
       "      <td>1.0</td>\n",
       "    </tr>\n",
       "    <tr>\n",
       "      <th>25%</th>\n",
       "      <td>0.0</td>\n",
       "      <td>3.0</td>\n",
       "      <td>21.000000</td>\n",
       "      <td>0.000000</td>\n",
       "      <td>0.000000</td>\n",
       "      <td>7.725000</td>\n",
       "      <td>0.0</td>\n",
       "      <td>1.0</td>\n",
       "    </tr>\n",
       "    <tr>\n",
       "      <th>50%</th>\n",
       "      <td>0.0</td>\n",
       "      <td>3.0</td>\n",
       "      <td>26.000000</td>\n",
       "      <td>0.000000</td>\n",
       "      <td>0.000000</td>\n",
       "      <td>7.895800</td>\n",
       "      <td>0.0</td>\n",
       "      <td>1.0</td>\n",
       "    </tr>\n",
       "    <tr>\n",
       "      <th>75%</th>\n",
       "      <td>0.0</td>\n",
       "      <td>3.0</td>\n",
       "      <td>34.000000</td>\n",
       "      <td>0.000000</td>\n",
       "      <td>0.000000</td>\n",
       "      <td>8.662500</td>\n",
       "      <td>0.0</td>\n",
       "      <td>1.0</td>\n",
       "    </tr>\n",
       "    <tr>\n",
       "      <th>max</th>\n",
       "      <td>0.0</td>\n",
       "      <td>3.0</td>\n",
       "      <td>74.000000</td>\n",
       "      <td>2.000000</td>\n",
       "      <td>5.000000</td>\n",
       "      <td>56.495800</td>\n",
       "      <td>0.0</td>\n",
       "      <td>1.0</td>\n",
       "    </tr>\n",
       "  </tbody>\n",
       "</table>\n",
       "</div>"
      ],
      "text/plain": [
       "       Survived  Pclass         Age  Siblings/Spouses Aboard  \\\n",
       "count     273.0   273.0  273.000000               273.000000   \n",
       "mean        0.0     3.0   28.732601                 0.179487   \n",
       "std         0.0     0.0   10.747688                 0.446412   \n",
       "min         0.0     3.0   11.000000                 0.000000   \n",
       "25%         0.0     3.0   21.000000                 0.000000   \n",
       "50%         0.0     3.0   26.000000                 0.000000   \n",
       "75%         0.0     3.0   34.000000                 0.000000   \n",
       "max         0.0     3.0   74.000000                 2.000000   \n",
       "\n",
       "       Parents/Children Aboard        Fare  Sex_female  Sex_male  \n",
       "count               273.000000  273.000000       273.0     273.0  \n",
       "mean                  0.106227    9.804240         0.0       1.0  \n",
       "std                   0.507008    6.084348         0.0       0.0  \n",
       "min                   0.000000    0.000000         0.0       1.0  \n",
       "25%                   0.000000    7.725000         0.0       1.0  \n",
       "50%                   0.000000    7.895800         0.0       1.0  \n",
       "75%                   0.000000    8.662500         0.0       1.0  \n",
       "max                   5.000000   56.495800         0.0       1.0  "
      ]
     },
     "execution_count": 93,
     "metadata": {},
     "output_type": "execute_result"
    }
   ],
   "source": [
    "df[df['agg_labels']==2][column_names].describe()"
   ]
  },
  {
   "cell_type": "markdown",
   "id": "8b47950f",
   "metadata": {},
   "source": [
    "Cluster 2 consists of 273 males from the third class whom did not survive."
   ]
  },
  {
   "cell_type": "code",
   "execution_count": 94,
   "id": "3bb21d62",
   "metadata": {},
   "outputs": [
    {
     "data": {
      "text/html": [
       "<div>\n",
       "<style scoped>\n",
       "    .dataframe tbody tr th:only-of-type {\n",
       "        vertical-align: middle;\n",
       "    }\n",
       "\n",
       "    .dataframe tbody tr th {\n",
       "        vertical-align: top;\n",
       "    }\n",
       "\n",
       "    .dataframe thead th {\n",
       "        text-align: right;\n",
       "    }\n",
       "</style>\n",
       "<table border=\"1\" class=\"dataframe\">\n",
       "  <thead>\n",
       "    <tr style=\"text-align: right;\">\n",
       "      <th></th>\n",
       "      <th>Survived</th>\n",
       "      <th>Pclass</th>\n",
       "      <th>Age</th>\n",
       "      <th>Siblings/Spouses Aboard</th>\n",
       "      <th>Parents/Children Aboard</th>\n",
       "      <th>Fare</th>\n",
       "      <th>Sex_female</th>\n",
       "      <th>Sex_male</th>\n",
       "    </tr>\n",
       "  </thead>\n",
       "  <tbody>\n",
       "    <tr>\n",
       "      <th>count</th>\n",
       "      <td>77.0</td>\n",
       "      <td>77.0</td>\n",
       "      <td>77.000000</td>\n",
       "      <td>77.000000</td>\n",
       "      <td>77.000000</td>\n",
       "      <td>77.000000</td>\n",
       "      <td>77.0</td>\n",
       "      <td>77.0</td>\n",
       "    </tr>\n",
       "    <tr>\n",
       "      <th>mean</th>\n",
       "      <td>0.0</td>\n",
       "      <td>1.0</td>\n",
       "      <td>44.292208</td>\n",
       "      <td>0.272727</td>\n",
       "      <td>0.259740</td>\n",
       "      <td>62.894910</td>\n",
       "      <td>0.0</td>\n",
       "      <td>1.0</td>\n",
       "    </tr>\n",
       "    <tr>\n",
       "      <th>std</th>\n",
       "      <td>0.0</td>\n",
       "      <td>0.0</td>\n",
       "      <td>13.661642</td>\n",
       "      <td>0.553372</td>\n",
       "      <td>0.656999</td>\n",
       "      <td>60.052545</td>\n",
       "      <td>0.0</td>\n",
       "      <td>0.0</td>\n",
       "    </tr>\n",
       "    <tr>\n",
       "      <th>min</th>\n",
       "      <td>0.0</td>\n",
       "      <td>1.0</td>\n",
       "      <td>18.000000</td>\n",
       "      <td>0.000000</td>\n",
       "      <td>0.000000</td>\n",
       "      <td>0.000000</td>\n",
       "      <td>0.0</td>\n",
       "      <td>1.0</td>\n",
       "    </tr>\n",
       "    <tr>\n",
       "      <th>25%</th>\n",
       "      <td>0.0</td>\n",
       "      <td>1.0</td>\n",
       "      <td>36.000000</td>\n",
       "      <td>0.000000</td>\n",
       "      <td>0.000000</td>\n",
       "      <td>27.720800</td>\n",
       "      <td>0.0</td>\n",
       "      <td>1.0</td>\n",
       "    </tr>\n",
       "    <tr>\n",
       "      <th>50%</th>\n",
       "      <td>0.0</td>\n",
       "      <td>1.0</td>\n",
       "      <td>45.000000</td>\n",
       "      <td>0.000000</td>\n",
       "      <td>0.000000</td>\n",
       "      <td>42.400000</td>\n",
       "      <td>0.0</td>\n",
       "      <td>1.0</td>\n",
       "    </tr>\n",
       "    <tr>\n",
       "      <th>75%</th>\n",
       "      <td>0.0</td>\n",
       "      <td>1.0</td>\n",
       "      <td>55.000000</td>\n",
       "      <td>0.000000</td>\n",
       "      <td>0.000000</td>\n",
       "      <td>77.287500</td>\n",
       "      <td>0.0</td>\n",
       "      <td>1.0</td>\n",
       "    </tr>\n",
       "    <tr>\n",
       "      <th>max</th>\n",
       "      <td>0.0</td>\n",
       "      <td>1.0</td>\n",
       "      <td>71.000000</td>\n",
       "      <td>3.000000</td>\n",
       "      <td>4.000000</td>\n",
       "      <td>263.000000</td>\n",
       "      <td>0.0</td>\n",
       "      <td>1.0</td>\n",
       "    </tr>\n",
       "  </tbody>\n",
       "</table>\n",
       "</div>"
      ],
      "text/plain": [
       "       Survived  Pclass        Age  Siblings/Spouses Aboard  \\\n",
       "count      77.0    77.0  77.000000                77.000000   \n",
       "mean        0.0     1.0  44.292208                 0.272727   \n",
       "std         0.0     0.0  13.661642                 0.553372   \n",
       "min         0.0     1.0  18.000000                 0.000000   \n",
       "25%         0.0     1.0  36.000000                 0.000000   \n",
       "50%         0.0     1.0  45.000000                 0.000000   \n",
       "75%         0.0     1.0  55.000000                 0.000000   \n",
       "max         0.0     1.0  71.000000                 3.000000   \n",
       "\n",
       "       Parents/Children Aboard        Fare  Sex_female  Sex_male  \n",
       "count                77.000000   77.000000        77.0      77.0  \n",
       "mean                  0.259740   62.894910         0.0       1.0  \n",
       "std                   0.656999   60.052545         0.0       0.0  \n",
       "min                   0.000000    0.000000         0.0       1.0  \n",
       "25%                   0.000000   27.720800         0.0       1.0  \n",
       "50%                   0.000000   42.400000         0.0       1.0  \n",
       "75%                   0.000000   77.287500         0.0       1.0  \n",
       "max                   4.000000  263.000000         0.0       1.0  "
      ]
     },
     "execution_count": 94,
     "metadata": {},
     "output_type": "execute_result"
    }
   ],
   "source": [
    "df[df['agg_labels']==3][column_names].describe()"
   ]
  },
  {
   "cell_type": "markdown",
   "id": "1130d8ae",
   "metadata": {},
   "source": [
    "Cluster 3 consists of 77 males from the first class whom did not survive.  As women and children were saved first, the men had to wait longer."
   ]
  },
  {
   "cell_type": "code",
   "execution_count": 95,
   "id": "237f87d9",
   "metadata": {},
   "outputs": [
    {
     "data": {
      "text/html": [
       "<div>\n",
       "<style scoped>\n",
       "    .dataframe tbody tr th:only-of-type {\n",
       "        vertical-align: middle;\n",
       "    }\n",
       "\n",
       "    .dataframe tbody tr th {\n",
       "        vertical-align: top;\n",
       "    }\n",
       "\n",
       "    .dataframe thead th {\n",
       "        text-align: right;\n",
       "    }\n",
       "</style>\n",
       "<table border=\"1\" class=\"dataframe\">\n",
       "  <thead>\n",
       "    <tr style=\"text-align: right;\">\n",
       "      <th></th>\n",
       "      <th>Survived</th>\n",
       "      <th>Pclass</th>\n",
       "      <th>Age</th>\n",
       "      <th>Siblings/Spouses Aboard</th>\n",
       "      <th>Parents/Children Aboard</th>\n",
       "      <th>Fare</th>\n",
       "      <th>Sex_female</th>\n",
       "      <th>Sex_male</th>\n",
       "    </tr>\n",
       "  </thead>\n",
       "  <tbody>\n",
       "    <tr>\n",
       "      <th>count</th>\n",
       "      <td>62.0</td>\n",
       "      <td>62.000000</td>\n",
       "      <td>62.000000</td>\n",
       "      <td>62.000000</td>\n",
       "      <td>62.000000</td>\n",
       "      <td>62.000000</td>\n",
       "      <td>62.0</td>\n",
       "      <td>62.0</td>\n",
       "    </tr>\n",
       "    <tr>\n",
       "      <th>mean</th>\n",
       "      <td>1.0</td>\n",
       "      <td>1.274194</td>\n",
       "      <td>31.358871</td>\n",
       "      <td>0.419355</td>\n",
       "      <td>0.403226</td>\n",
       "      <td>59.956389</td>\n",
       "      <td>0.0</td>\n",
       "      <td>1.0</td>\n",
       "    </tr>\n",
       "    <tr>\n",
       "      <th>std</th>\n",
       "      <td>0.0</td>\n",
       "      <td>0.449749</td>\n",
       "      <td>17.790303</td>\n",
       "      <td>0.559519</td>\n",
       "      <td>0.688540</td>\n",
       "      <td>89.312557</td>\n",
       "      <td>0.0</td>\n",
       "      <td>0.0</td>\n",
       "    </tr>\n",
       "    <tr>\n",
       "      <th>min</th>\n",
       "      <td>1.0</td>\n",
       "      <td>1.000000</td>\n",
       "      <td>0.670000</td>\n",
       "      <td>0.000000</td>\n",
       "      <td>0.000000</td>\n",
       "      <td>10.500000</td>\n",
       "      <td>0.0</td>\n",
       "      <td>1.0</td>\n",
       "    </tr>\n",
       "    <tr>\n",
       "      <th>25%</th>\n",
       "      <td>1.0</td>\n",
       "      <td>1.000000</td>\n",
       "      <td>23.500000</td>\n",
       "      <td>0.000000</td>\n",
       "      <td>0.000000</td>\n",
       "      <td>26.312500</td>\n",
       "      <td>0.0</td>\n",
       "      <td>1.0</td>\n",
       "    </tr>\n",
       "    <tr>\n",
       "      <th>50%</th>\n",
       "      <td>1.0</td>\n",
       "      <td>1.000000</td>\n",
       "      <td>34.000000</td>\n",
       "      <td>0.000000</td>\n",
       "      <td>0.000000</td>\n",
       "      <td>30.500000</td>\n",
       "      <td>0.0</td>\n",
       "      <td>1.0</td>\n",
       "    </tr>\n",
       "    <tr>\n",
       "      <th>75%</th>\n",
       "      <td>1.0</td>\n",
       "      <td>2.000000</td>\n",
       "      <td>44.250000</td>\n",
       "      <td>1.000000</td>\n",
       "      <td>1.000000</td>\n",
       "      <td>56.982300</td>\n",
       "      <td>0.0</td>\n",
       "      <td>1.0</td>\n",
       "    </tr>\n",
       "    <tr>\n",
       "      <th>max</th>\n",
       "      <td>1.0</td>\n",
       "      <td>2.000000</td>\n",
       "      <td>80.000000</td>\n",
       "      <td>2.000000</td>\n",
       "      <td>2.000000</td>\n",
       "      <td>512.329200</td>\n",
       "      <td>0.0</td>\n",
       "      <td>1.0</td>\n",
       "    </tr>\n",
       "  </tbody>\n",
       "</table>\n",
       "</div>"
      ],
      "text/plain": [
       "       Survived     Pclass        Age  Siblings/Spouses Aboard  \\\n",
       "count      62.0  62.000000  62.000000                62.000000   \n",
       "mean        1.0   1.274194  31.358871                 0.419355   \n",
       "std         0.0   0.449749  17.790303                 0.559519   \n",
       "min         1.0   1.000000   0.670000                 0.000000   \n",
       "25%         1.0   1.000000  23.500000                 0.000000   \n",
       "50%         1.0   1.000000  34.000000                 0.000000   \n",
       "75%         1.0   2.000000  44.250000                 1.000000   \n",
       "max         1.0   2.000000  80.000000                 2.000000   \n",
       "\n",
       "       Parents/Children Aboard        Fare  Sex_female  Sex_male  \n",
       "count                62.000000   62.000000        62.0      62.0  \n",
       "mean                  0.403226   59.956389         0.0       1.0  \n",
       "std                   0.688540   89.312557         0.0       0.0  \n",
       "min                   0.000000   10.500000         0.0       1.0  \n",
       "25%                   0.000000   26.312500         0.0       1.0  \n",
       "50%                   0.000000   30.500000         0.0       1.0  \n",
       "75%                   1.000000   56.982300         0.0       1.0  \n",
       "max                   2.000000  512.329200         0.0       1.0  "
      ]
     },
     "execution_count": 95,
     "metadata": {},
     "output_type": "execute_result"
    }
   ],
   "source": [
    "df[df['agg_labels']==4][column_names].describe()"
   ]
  },
  {
   "cell_type": "markdown",
   "id": "01890d0f",
   "metadata": {},
   "source": [
    "Cluster 4 consists of 62 males whom survived. These were first and second class males.On average they had slightly more family on board than cluster 3.  Maybe this gave them more of a fighting spirit. They also on average were 13 years younger than those in cluster 3.  This maybe made them more responsive, faster, and generally maybe healthier."
   ]
  },
  {
   "cell_type": "code",
   "execution_count": 96,
   "id": "d06c5ca7",
   "metadata": {},
   "outputs": [
    {
     "data": {
      "text/html": [
       "<div>\n",
       "<style scoped>\n",
       "    .dataframe tbody tr th:only-of-type {\n",
       "        vertical-align: middle;\n",
       "    }\n",
       "\n",
       "    .dataframe tbody tr th {\n",
       "        vertical-align: top;\n",
       "    }\n",
       "\n",
       "    .dataframe thead th {\n",
       "        text-align: right;\n",
       "    }\n",
       "</style>\n",
       "<table border=\"1\" class=\"dataframe\">\n",
       "  <thead>\n",
       "    <tr style=\"text-align: right;\">\n",
       "      <th></th>\n",
       "      <th>Survived</th>\n",
       "      <th>Pclass</th>\n",
       "      <th>Age</th>\n",
       "      <th>Siblings/Spouses Aboard</th>\n",
       "      <th>Parents/Children Aboard</th>\n",
       "      <th>Fare</th>\n",
       "      <th>Sex_female</th>\n",
       "      <th>Sex_male</th>\n",
       "    </tr>\n",
       "  </thead>\n",
       "  <tbody>\n",
       "    <tr>\n",
       "      <th>count</th>\n",
       "      <td>91.0</td>\n",
       "      <td>91.0</td>\n",
       "      <td>91.000000</td>\n",
       "      <td>91.000000</td>\n",
       "      <td>91.000000</td>\n",
       "      <td>91.000000</td>\n",
       "      <td>91.0</td>\n",
       "      <td>91.0</td>\n",
       "    </tr>\n",
       "    <tr>\n",
       "      <th>mean</th>\n",
       "      <td>1.0</td>\n",
       "      <td>1.0</td>\n",
       "      <td>35.571429</td>\n",
       "      <td>0.549451</td>\n",
       "      <td>0.428571</td>\n",
       "      <td>105.978159</td>\n",
       "      <td>1.0</td>\n",
       "      <td>0.0</td>\n",
       "    </tr>\n",
       "    <tr>\n",
       "      <th>std</th>\n",
       "      <td>0.0</td>\n",
       "      <td>0.0</td>\n",
       "      <td>12.870416</td>\n",
       "      <td>0.671048</td>\n",
       "      <td>0.701472</td>\n",
       "      <td>74.738897</td>\n",
       "      <td>0.0</td>\n",
       "      <td>0.0</td>\n",
       "    </tr>\n",
       "    <tr>\n",
       "      <th>min</th>\n",
       "      <td>1.0</td>\n",
       "      <td>1.0</td>\n",
       "      <td>14.000000</td>\n",
       "      <td>0.000000</td>\n",
       "      <td>0.000000</td>\n",
       "      <td>25.929200</td>\n",
       "      <td>1.0</td>\n",
       "      <td>0.0</td>\n",
       "    </tr>\n",
       "    <tr>\n",
       "      <th>25%</th>\n",
       "      <td>1.0</td>\n",
       "      <td>1.0</td>\n",
       "      <td>24.000000</td>\n",
       "      <td>0.000000</td>\n",
       "      <td>0.000000</td>\n",
       "      <td>57.489600</td>\n",
       "      <td>1.0</td>\n",
       "      <td>0.0</td>\n",
       "    </tr>\n",
       "    <tr>\n",
       "      <th>50%</th>\n",
       "      <td>1.0</td>\n",
       "      <td>1.0</td>\n",
       "      <td>35.000000</td>\n",
       "      <td>0.000000</td>\n",
       "      <td>0.000000</td>\n",
       "      <td>82.170800</td>\n",
       "      <td>1.0</td>\n",
       "      <td>0.0</td>\n",
       "    </tr>\n",
       "    <tr>\n",
       "      <th>75%</th>\n",
       "      <td>1.0</td>\n",
       "      <td>1.0</td>\n",
       "      <td>44.500000</td>\n",
       "      <td>1.000000</td>\n",
       "      <td>1.000000</td>\n",
       "      <td>134.075000</td>\n",
       "      <td>1.0</td>\n",
       "      <td>0.0</td>\n",
       "    </tr>\n",
       "    <tr>\n",
       "      <th>max</th>\n",
       "      <td>1.0</td>\n",
       "      <td>1.0</td>\n",
       "      <td>63.000000</td>\n",
       "      <td>3.000000</td>\n",
       "      <td>2.000000</td>\n",
       "      <td>512.329200</td>\n",
       "      <td>1.0</td>\n",
       "      <td>0.0</td>\n",
       "    </tr>\n",
       "  </tbody>\n",
       "</table>\n",
       "</div>"
      ],
      "text/plain": [
       "       Survived  Pclass        Age  Siblings/Spouses Aboard  \\\n",
       "count      91.0    91.0  91.000000                91.000000   \n",
       "mean        1.0     1.0  35.571429                 0.549451   \n",
       "std         0.0     0.0  12.870416                 0.671048   \n",
       "min         1.0     1.0  14.000000                 0.000000   \n",
       "25%         1.0     1.0  24.000000                 0.000000   \n",
       "50%         1.0     1.0  35.000000                 0.000000   \n",
       "75%         1.0     1.0  44.500000                 1.000000   \n",
       "max         1.0     1.0  63.000000                 3.000000   \n",
       "\n",
       "       Parents/Children Aboard        Fare  Sex_female  Sex_male  \n",
       "count                91.000000   91.000000        91.0      91.0  \n",
       "mean                  0.428571  105.978159         1.0       0.0  \n",
       "std                   0.701472   74.738897         0.0       0.0  \n",
       "min                   0.000000   25.929200         1.0       0.0  \n",
       "25%                   0.000000   57.489600         1.0       0.0  \n",
       "50%                   0.000000   82.170800         1.0       0.0  \n",
       "75%                   1.000000  134.075000         1.0       0.0  \n",
       "max                   2.000000  512.329200         1.0       0.0  "
      ]
     },
     "execution_count": 96,
     "metadata": {},
     "output_type": "execute_result"
    }
   ],
   "source": [
    "df[df['agg_labels']==5][column_names].describe()"
   ]
  },
  {
   "cell_type": "markdown",
   "id": "4e9dc0e1",
   "metadata": {},
   "source": [
    "Cluster 5 consists of 91 females from the first class whom did survive."
   ]
  },
  {
   "cell_type": "code",
   "execution_count": 97,
   "id": "731911a4",
   "metadata": {},
   "outputs": [
    {
     "data": {
      "text/html": [
       "<div>\n",
       "<style scoped>\n",
       "    .dataframe tbody tr th:only-of-type {\n",
       "        vertical-align: middle;\n",
       "    }\n",
       "\n",
       "    .dataframe tbody tr th {\n",
       "        vertical-align: top;\n",
       "    }\n",
       "\n",
       "    .dataframe thead th {\n",
       "        text-align: right;\n",
       "    }\n",
       "</style>\n",
       "<table border=\"1\" class=\"dataframe\">\n",
       "  <thead>\n",
       "    <tr style=\"text-align: right;\">\n",
       "      <th></th>\n",
       "      <th>Survived</th>\n",
       "      <th>Pclass</th>\n",
       "      <th>Age</th>\n",
       "      <th>Siblings/Spouses Aboard</th>\n",
       "      <th>Parents/Children Aboard</th>\n",
       "      <th>Fare</th>\n",
       "      <th>Sex_female</th>\n",
       "      <th>Sex_male</th>\n",
       "    </tr>\n",
       "  </thead>\n",
       "  <tbody>\n",
       "    <tr>\n",
       "      <th>count</th>\n",
       "      <td>47.0</td>\n",
       "      <td>47.0</td>\n",
       "      <td>47.000000</td>\n",
       "      <td>47.000000</td>\n",
       "      <td>47.000000</td>\n",
       "      <td>47.000000</td>\n",
       "      <td>47.0</td>\n",
       "      <td>47.0</td>\n",
       "    </tr>\n",
       "    <tr>\n",
       "      <th>mean</th>\n",
       "      <td>1.0</td>\n",
       "      <td>3.0</td>\n",
       "      <td>22.242979</td>\n",
       "      <td>0.340426</td>\n",
       "      <td>0.297872</td>\n",
       "      <td>15.579696</td>\n",
       "      <td>0.0</td>\n",
       "      <td>1.0</td>\n",
       "    </tr>\n",
       "    <tr>\n",
       "      <th>std</th>\n",
       "      <td>0.0</td>\n",
       "      <td>0.0</td>\n",
       "      <td>11.365395</td>\n",
       "      <td>0.730592</td>\n",
       "      <td>0.586622</td>\n",
       "      <td>15.232388</td>\n",
       "      <td>0.0</td>\n",
       "      <td>0.0</td>\n",
       "    </tr>\n",
       "    <tr>\n",
       "      <th>min</th>\n",
       "      <td>1.0</td>\n",
       "      <td>3.0</td>\n",
       "      <td>0.420000</td>\n",
       "      <td>0.000000</td>\n",
       "      <td>0.000000</td>\n",
       "      <td>0.000000</td>\n",
       "      <td>0.0</td>\n",
       "      <td>1.0</td>\n",
       "    </tr>\n",
       "    <tr>\n",
       "      <th>25%</th>\n",
       "      <td>1.0</td>\n",
       "      <td>3.0</td>\n",
       "      <td>17.000000</td>\n",
       "      <td>0.000000</td>\n",
       "      <td>0.000000</td>\n",
       "      <td>7.825000</td>\n",
       "      <td>0.0</td>\n",
       "      <td>1.0</td>\n",
       "    </tr>\n",
       "    <tr>\n",
       "      <th>50%</th>\n",
       "      <td>1.0</td>\n",
       "      <td>3.0</td>\n",
       "      <td>25.000000</td>\n",
       "      <td>0.000000</td>\n",
       "      <td>0.000000</td>\n",
       "      <td>8.050000</td>\n",
       "      <td>0.0</td>\n",
       "      <td>1.0</td>\n",
       "    </tr>\n",
       "    <tr>\n",
       "      <th>75%</th>\n",
       "      <td>1.0</td>\n",
       "      <td>3.0</td>\n",
       "      <td>29.500000</td>\n",
       "      <td>0.500000</td>\n",
       "      <td>0.000000</td>\n",
       "      <td>15.820850</td>\n",
       "      <td>0.0</td>\n",
       "      <td>1.0</td>\n",
       "    </tr>\n",
       "    <tr>\n",
       "      <th>max</th>\n",
       "      <td>1.0</td>\n",
       "      <td>3.0</td>\n",
       "      <td>45.000000</td>\n",
       "      <td>4.000000</td>\n",
       "      <td>2.000000</td>\n",
       "      <td>56.495800</td>\n",
       "      <td>0.0</td>\n",
       "      <td>1.0</td>\n",
       "    </tr>\n",
       "  </tbody>\n",
       "</table>\n",
       "</div>"
      ],
      "text/plain": [
       "       Survived  Pclass        Age  Siblings/Spouses Aboard  \\\n",
       "count      47.0    47.0  47.000000                47.000000   \n",
       "mean        1.0     3.0  22.242979                 0.340426   \n",
       "std         0.0     0.0  11.365395                 0.730592   \n",
       "min         1.0     3.0   0.420000                 0.000000   \n",
       "25%         1.0     3.0  17.000000                 0.000000   \n",
       "50%         1.0     3.0  25.000000                 0.000000   \n",
       "75%         1.0     3.0  29.500000                 0.500000   \n",
       "max         1.0     3.0  45.000000                 4.000000   \n",
       "\n",
       "       Parents/Children Aboard       Fare  Sex_female  Sex_male  \n",
       "count                47.000000  47.000000        47.0      47.0  \n",
       "mean                  0.297872  15.579696         0.0       1.0  \n",
       "std                   0.586622  15.232388         0.0       0.0  \n",
       "min                   0.000000   0.000000         0.0       1.0  \n",
       "25%                   0.000000   7.825000         0.0       1.0  \n",
       "50%                   0.000000   8.050000         0.0       1.0  \n",
       "75%                   0.000000  15.820850         0.0       1.0  \n",
       "max                   2.000000  56.495800         0.0       1.0  "
      ]
     },
     "execution_count": 97,
     "metadata": {},
     "output_type": "execute_result"
    }
   ],
   "source": [
    "df[df['agg_labels']==6][column_names].describe()"
   ]
  },
  {
   "cell_type": "markdown",
   "id": "bf1a67e3",
   "metadata": {},
   "source": [
    "Cluster 6 consists of 47 males from the third class whom survived."
   ]
  },
  {
   "cell_type": "code",
   "execution_count": 98,
   "id": "1cb8dcc4",
   "metadata": {},
   "outputs": [
    {
     "data": {
      "text/html": [
       "<div>\n",
       "<style scoped>\n",
       "    .dataframe tbody tr th:only-of-type {\n",
       "        vertical-align: middle;\n",
       "    }\n",
       "\n",
       "    .dataframe tbody tr th {\n",
       "        vertical-align: top;\n",
       "    }\n",
       "\n",
       "    .dataframe thead th {\n",
       "        text-align: right;\n",
       "    }\n",
       "</style>\n",
       "<table border=\"1\" class=\"dataframe\">\n",
       "  <thead>\n",
       "    <tr style=\"text-align: right;\">\n",
       "      <th></th>\n",
       "      <th>Survived</th>\n",
       "      <th>Pclass</th>\n",
       "      <th>Age</th>\n",
       "      <th>Siblings/Spouses Aboard</th>\n",
       "      <th>Parents/Children Aboard</th>\n",
       "      <th>Fare</th>\n",
       "      <th>Sex_female</th>\n",
       "      <th>Sex_male</th>\n",
       "    </tr>\n",
       "  </thead>\n",
       "  <tbody>\n",
       "    <tr>\n",
       "      <th>count</th>\n",
       "      <td>91.0</td>\n",
       "      <td>91.0</td>\n",
       "      <td>91.000000</td>\n",
       "      <td>91.000000</td>\n",
       "      <td>91.000000</td>\n",
       "      <td>91.000000</td>\n",
       "      <td>91.0</td>\n",
       "      <td>91.0</td>\n",
       "    </tr>\n",
       "    <tr>\n",
       "      <th>mean</th>\n",
       "      <td>0.0</td>\n",
       "      <td>2.0</td>\n",
       "      <td>33.000000</td>\n",
       "      <td>0.307692</td>\n",
       "      <td>0.142857</td>\n",
       "      <td>19.488965</td>\n",
       "      <td>0.0</td>\n",
       "      <td>1.0</td>\n",
       "    </tr>\n",
       "    <tr>\n",
       "      <th>std</th>\n",
       "      <td>0.0</td>\n",
       "      <td>0.0</td>\n",
       "      <td>12.019198</td>\n",
       "      <td>0.551610</td>\n",
       "      <td>0.436436</td>\n",
       "      <td>15.720548</td>\n",
       "      <td>0.0</td>\n",
       "      <td>0.0</td>\n",
       "    </tr>\n",
       "    <tr>\n",
       "      <th>min</th>\n",
       "      <td>0.0</td>\n",
       "      <td>2.0</td>\n",
       "      <td>16.000000</td>\n",
       "      <td>0.000000</td>\n",
       "      <td>0.000000</td>\n",
       "      <td>0.000000</td>\n",
       "      <td>0.0</td>\n",
       "      <td>1.0</td>\n",
       "    </tr>\n",
       "    <tr>\n",
       "      <th>25%</th>\n",
       "      <td>0.0</td>\n",
       "      <td>2.0</td>\n",
       "      <td>24.000000</td>\n",
       "      <td>0.000000</td>\n",
       "      <td>0.000000</td>\n",
       "      <td>11.500000</td>\n",
       "      <td>0.0</td>\n",
       "      <td>1.0</td>\n",
       "    </tr>\n",
       "    <tr>\n",
       "      <th>50%</th>\n",
       "      <td>0.0</td>\n",
       "      <td>2.0</td>\n",
       "      <td>30.000000</td>\n",
       "      <td>0.000000</td>\n",
       "      <td>0.000000</td>\n",
       "      <td>13.000000</td>\n",
       "      <td>0.0</td>\n",
       "      <td>1.0</td>\n",
       "    </tr>\n",
       "    <tr>\n",
       "      <th>75%</th>\n",
       "      <td>0.0</td>\n",
       "      <td>2.0</td>\n",
       "      <td>39.000000</td>\n",
       "      <td>1.000000</td>\n",
       "      <td>0.000000</td>\n",
       "      <td>26.000000</td>\n",
       "      <td>0.0</td>\n",
       "      <td>1.0</td>\n",
       "    </tr>\n",
       "    <tr>\n",
       "      <th>max</th>\n",
       "      <td>0.0</td>\n",
       "      <td>2.0</td>\n",
       "      <td>70.000000</td>\n",
       "      <td>2.000000</td>\n",
       "      <td>2.000000</td>\n",
       "      <td>73.500000</td>\n",
       "      <td>0.0</td>\n",
       "      <td>1.0</td>\n",
       "    </tr>\n",
       "  </tbody>\n",
       "</table>\n",
       "</div>"
      ],
      "text/plain": [
       "       Survived  Pclass        Age  Siblings/Spouses Aboard  \\\n",
       "count      91.0    91.0  91.000000                91.000000   \n",
       "mean        0.0     2.0  33.000000                 0.307692   \n",
       "std         0.0     0.0  12.019198                 0.551610   \n",
       "min         0.0     2.0  16.000000                 0.000000   \n",
       "25%         0.0     2.0  24.000000                 0.000000   \n",
       "50%         0.0     2.0  30.000000                 0.000000   \n",
       "75%         0.0     2.0  39.000000                 1.000000   \n",
       "max         0.0     2.0  70.000000                 2.000000   \n",
       "\n",
       "       Parents/Children Aboard       Fare  Sex_female  Sex_male  \n",
       "count                91.000000  91.000000        91.0      91.0  \n",
       "mean                  0.142857  19.488965         0.0       1.0  \n",
       "std                   0.436436  15.720548         0.0       0.0  \n",
       "min                   0.000000   0.000000         0.0       1.0  \n",
       "25%                   0.000000  11.500000         0.0       1.0  \n",
       "50%                   0.000000  13.000000         0.0       1.0  \n",
       "75%                   0.000000  26.000000         0.0       1.0  \n",
       "max                   2.000000  73.500000         0.0       1.0  "
      ]
     },
     "execution_count": 98,
     "metadata": {},
     "output_type": "execute_result"
    }
   ],
   "source": [
    "df[df['agg_labels']==7][column_names].describe()"
   ]
  },
  {
   "cell_type": "markdown",
   "id": "9b46a8ae",
   "metadata": {},
   "source": [
    "Cluster 7 consists of 91 second class males whom did not survive.  Cluster 7 is different from the other clusters in that it only contained adults."
   ]
  },
  {
   "cell_type": "code",
   "execution_count": 99,
   "id": "90a84737",
   "metadata": {},
   "outputs": [
    {
     "data": {
      "text/html": [
       "<div>\n",
       "<style scoped>\n",
       "    .dataframe tbody tr th:only-of-type {\n",
       "        vertical-align: middle;\n",
       "    }\n",
       "\n",
       "    .dataframe tbody tr th {\n",
       "        vertical-align: top;\n",
       "    }\n",
       "\n",
       "    .dataframe thead th {\n",
       "        text-align: right;\n",
       "    }\n",
       "</style>\n",
       "<table border=\"1\" class=\"dataframe\">\n",
       "  <thead>\n",
       "    <tr style=\"text-align: right;\">\n",
       "      <th></th>\n",
       "      <th>Survived</th>\n",
       "      <th>Pclass</th>\n",
       "      <th>Age</th>\n",
       "      <th>Siblings/Spouses Aboard</th>\n",
       "      <th>Parents/Children Aboard</th>\n",
       "      <th>Fare</th>\n",
       "      <th>Sex_female</th>\n",
       "      <th>Sex_male</th>\n",
       "    </tr>\n",
       "  </thead>\n",
       "  <tbody>\n",
       "    <tr>\n",
       "      <th>count</th>\n",
       "      <td>23.0</td>\n",
       "      <td>23.0</td>\n",
       "      <td>23.000000</td>\n",
       "      <td>23.000000</td>\n",
       "      <td>23.000000</td>\n",
       "      <td>23.000000</td>\n",
       "      <td>23.0</td>\n",
       "      <td>23.0</td>\n",
       "    </tr>\n",
       "    <tr>\n",
       "      <th>mean</th>\n",
       "      <td>0.0</td>\n",
       "      <td>3.0</td>\n",
       "      <td>8.260870</td>\n",
       "      <td>4.695652</td>\n",
       "      <td>1.521739</td>\n",
       "      <td>41.119204</td>\n",
       "      <td>0.0</td>\n",
       "      <td>1.0</td>\n",
       "    </tr>\n",
       "    <tr>\n",
       "      <th>std</th>\n",
       "      <td>0.0</td>\n",
       "      <td>0.0</td>\n",
       "      <td>5.832646</td>\n",
       "      <td>1.663370</td>\n",
       "      <td>0.510754</td>\n",
       "      <td>15.285887</td>\n",
       "      <td>0.0</td>\n",
       "      <td>0.0</td>\n",
       "    </tr>\n",
       "    <tr>\n",
       "      <th>min</th>\n",
       "      <td>0.0</td>\n",
       "      <td>3.0</td>\n",
       "      <td>1.000000</td>\n",
       "      <td>3.000000</td>\n",
       "      <td>1.000000</td>\n",
       "      <td>21.075000</td>\n",
       "      <td>0.0</td>\n",
       "      <td>1.0</td>\n",
       "    </tr>\n",
       "    <tr>\n",
       "      <th>25%</th>\n",
       "      <td>0.0</td>\n",
       "      <td>3.0</td>\n",
       "      <td>4.000000</td>\n",
       "      <td>4.000000</td>\n",
       "      <td>1.000000</td>\n",
       "      <td>29.125000</td>\n",
       "      <td>0.0</td>\n",
       "      <td>1.0</td>\n",
       "    </tr>\n",
       "    <tr>\n",
       "      <th>50%</th>\n",
       "      <td>0.0</td>\n",
       "      <td>3.0</td>\n",
       "      <td>7.000000</td>\n",
       "      <td>4.000000</td>\n",
       "      <td>2.000000</td>\n",
       "      <td>39.687500</td>\n",
       "      <td>0.0</td>\n",
       "      <td>1.0</td>\n",
       "    </tr>\n",
       "    <tr>\n",
       "      <th>75%</th>\n",
       "      <td>0.0</td>\n",
       "      <td>3.0</td>\n",
       "      <td>12.500000</td>\n",
       "      <td>5.000000</td>\n",
       "      <td>2.000000</td>\n",
       "      <td>46.900000</td>\n",
       "      <td>0.0</td>\n",
       "      <td>1.0</td>\n",
       "    </tr>\n",
       "    <tr>\n",
       "      <th>max</th>\n",
       "      <td>0.0</td>\n",
       "      <td>3.0</td>\n",
       "      <td>20.000000</td>\n",
       "      <td>8.000000</td>\n",
       "      <td>2.000000</td>\n",
       "      <td>69.550000</td>\n",
       "      <td>0.0</td>\n",
       "      <td>1.0</td>\n",
       "    </tr>\n",
       "  </tbody>\n",
       "</table>\n",
       "</div>"
      ],
      "text/plain": [
       "       Survived  Pclass        Age  Siblings/Spouses Aboard  \\\n",
       "count      23.0    23.0  23.000000                23.000000   \n",
       "mean        0.0     3.0   8.260870                 4.695652   \n",
       "std         0.0     0.0   5.832646                 1.663370   \n",
       "min         0.0     3.0   1.000000                 3.000000   \n",
       "25%         0.0     3.0   4.000000                 4.000000   \n",
       "50%         0.0     3.0   7.000000                 4.000000   \n",
       "75%         0.0     3.0  12.500000                 5.000000   \n",
       "max         0.0     3.0  20.000000                 8.000000   \n",
       "\n",
       "       Parents/Children Aboard       Fare  Sex_female  Sex_male  \n",
       "count                23.000000  23.000000        23.0      23.0  \n",
       "mean                  1.521739  41.119204         0.0       1.0  \n",
       "std                   0.510754  15.285887         0.0       0.0  \n",
       "min                   1.000000  21.075000         0.0       1.0  \n",
       "25%                   1.000000  29.125000         0.0       1.0  \n",
       "50%                   2.000000  39.687500         0.0       1.0  \n",
       "75%                   2.000000  46.900000         0.0       1.0  \n",
       "max                   2.000000  69.550000         0.0       1.0  "
      ]
     },
     "execution_count": 99,
     "metadata": {},
     "output_type": "execute_result"
    }
   ],
   "source": [
    "df[df['agg_labels']==8][column_names].describe()"
   ]
  },
  {
   "cell_type": "markdown",
   "id": "71f9ed64",
   "metadata": {},
   "source": [
    "Cluster 8 consists of 23 third class males whom did not survive.  Cluster 8 is different from the other clusters in that every member of the cluster had other family members aboard."
   ]
  },
  {
   "cell_type": "markdown",
   "id": "68d3064c",
   "metadata": {},
   "source": [
    "# Looking at what DBSCAN calls outliers"
   ]
  },
  {
   "cell_type": "code",
   "execution_count": 88,
   "id": "878efba2",
   "metadata": {},
   "outputs": [
    {
     "data": {
      "text/html": [
       "<div>\n",
       "<style scoped>\n",
       "    .dataframe tbody tr th:only-of-type {\n",
       "        vertical-align: middle;\n",
       "    }\n",
       "\n",
       "    .dataframe tbody tr th {\n",
       "        vertical-align: top;\n",
       "    }\n",
       "\n",
       "    .dataframe thead th {\n",
       "        text-align: right;\n",
       "    }\n",
       "</style>\n",
       "<table border=\"1\" class=\"dataframe\">\n",
       "  <thead>\n",
       "    <tr style=\"text-align: right;\">\n",
       "      <th></th>\n",
       "      <th>Survived</th>\n",
       "      <th>Pclass</th>\n",
       "      <th>Age</th>\n",
       "      <th>Siblings/Spouses Aboard</th>\n",
       "      <th>Parents/Children Aboard</th>\n",
       "      <th>Fare</th>\n",
       "      <th>Sex_female</th>\n",
       "      <th>Sex_male</th>\n",
       "      <th>x</th>\n",
       "      <th>y</th>\n",
       "      <th>kmeans_labels</th>\n",
       "      <th>agg_labels</th>\n",
       "      <th>dbscan_labels</th>\n",
       "    </tr>\n",
       "  </thead>\n",
       "  <tbody>\n",
       "    <tr>\n",
       "      <th>176</th>\n",
       "      <td>0</td>\n",
       "      <td>1</td>\n",
       "      <td>50.0</td>\n",
       "      <td>0</td>\n",
       "      <td>0</td>\n",
       "      <td>28.7125</td>\n",
       "      <td>1</td>\n",
       "      <td>0</td>\n",
       "      <td>11.888103</td>\n",
       "      <td>-2.020007</td>\n",
       "      <td>5</td>\n",
       "      <td>1</td>\n",
       "      <td>-1</td>\n",
       "    </tr>\n",
       "    <tr>\n",
       "      <th>257</th>\n",
       "      <td>1</td>\n",
       "      <td>1</td>\n",
       "      <td>35.0</td>\n",
       "      <td>0</td>\n",
       "      <td>0</td>\n",
       "      <td>512.3292</td>\n",
       "      <td>1</td>\n",
       "      <td>0</td>\n",
       "      <td>16.896666</td>\n",
       "      <td>1.526692</td>\n",
       "      <td>7</td>\n",
       "      <td>5</td>\n",
       "      <td>-1</td>\n",
       "    </tr>\n",
       "    <tr>\n",
       "      <th>295</th>\n",
       "      <td>0</td>\n",
       "      <td>1</td>\n",
       "      <td>2.0</td>\n",
       "      <td>1</td>\n",
       "      <td>2</td>\n",
       "      <td>151.5500</td>\n",
       "      <td>1</td>\n",
       "      <td>0</td>\n",
       "      <td>11.927534</td>\n",
       "      <td>-2.037430</td>\n",
       "      <td>5</td>\n",
       "      <td>1</td>\n",
       "      <td>-1</td>\n",
       "    </tr>\n",
       "    <tr>\n",
       "      <th>495</th>\n",
       "      <td>0</td>\n",
       "      <td>1</td>\n",
       "      <td>25.0</td>\n",
       "      <td>1</td>\n",
       "      <td>2</td>\n",
       "      <td>151.5500</td>\n",
       "      <td>1</td>\n",
       "      <td>0</td>\n",
       "      <td>11.949205</td>\n",
       "      <td>-2.030846</td>\n",
       "      <td>5</td>\n",
       "      <td>1</td>\n",
       "      <td>-1</td>\n",
       "    </tr>\n",
       "    <tr>\n",
       "      <th>676</th>\n",
       "      <td>1</td>\n",
       "      <td>1</td>\n",
       "      <td>36.0</td>\n",
       "      <td>0</td>\n",
       "      <td>1</td>\n",
       "      <td>512.3292</td>\n",
       "      <td>0</td>\n",
       "      <td>1</td>\n",
       "      <td>4.569621</td>\n",
       "      <td>19.597073</td>\n",
       "      <td>6</td>\n",
       "      <td>4</td>\n",
       "      <td>-1</td>\n",
       "    </tr>\n",
       "    <tr>\n",
       "      <th>733</th>\n",
       "      <td>1</td>\n",
       "      <td>1</td>\n",
       "      <td>35.0</td>\n",
       "      <td>0</td>\n",
       "      <td>0</td>\n",
       "      <td>512.3292</td>\n",
       "      <td>0</td>\n",
       "      <td>1</td>\n",
       "      <td>4.666489</td>\n",
       "      <td>19.666883</td>\n",
       "      <td>6</td>\n",
       "      <td>4</td>\n",
       "      <td>-1</td>\n",
       "    </tr>\n",
       "  </tbody>\n",
       "</table>\n",
       "</div>"
      ],
      "text/plain": [
       "     Survived  Pclass   Age  Siblings/Spouses Aboard  Parents/Children Aboard  \\\n",
       "176         0       1  50.0                        0                        0   \n",
       "257         1       1  35.0                        0                        0   \n",
       "295         0       1   2.0                        1                        2   \n",
       "495         0       1  25.0                        1                        2   \n",
       "676         1       1  36.0                        0                        1   \n",
       "733         1       1  35.0                        0                        0   \n",
       "\n",
       "         Fare  Sex_female  Sex_male          x          y  kmeans_labels  \\\n",
       "176   28.7125           1         0  11.888103  -2.020007              5   \n",
       "257  512.3292           1         0  16.896666   1.526692              7   \n",
       "295  151.5500           1         0  11.927534  -2.037430              5   \n",
       "495  151.5500           1         0  11.949205  -2.030846              5   \n",
       "676  512.3292           0         1   4.569621  19.597073              6   \n",
       "733  512.3292           0         1   4.666489  19.666883              6   \n",
       "\n",
       "     agg_labels  dbscan_labels  \n",
       "176           1             -1  \n",
       "257           5             -1  \n",
       "295           1             -1  \n",
       "495           1             -1  \n",
       "676           4             -1  \n",
       "733           4             -1  "
      ]
     },
     "execution_count": 88,
     "metadata": {},
     "output_type": "execute_result"
    }
   ],
   "source": [
    "df[df['dbscan_labels']==-1]"
   ]
  },
  {
   "cell_type": "markdown",
   "id": "1a7e38a4",
   "metadata": {},
   "source": [
    "What is interesting is looking at the outliers for the data as predicted by dbscan and evaluate what makes them outliers.  For example, #176, #295, and #495 are first class females who did not survive.  As females were evacuated first, they would be more likely to survive."
   ]
  },
  {
   "cell_type": "code",
   "execution_count": null,
   "id": "f40f9d3b",
   "metadata": {},
   "outputs": [],
   "source": []
  }
 ],
 "metadata": {
  "kernelspec": {
   "display_name": "Python 3",
   "language": "python",
   "name": "python3"
  },
  "language_info": {
   "codemirror_mode": {
    "name": "ipython",
    "version": 3
   },
   "file_extension": ".py",
   "mimetype": "text/x-python",
   "name": "python",
   "nbconvert_exporter": "python",
   "pygments_lexer": "ipython3",
   "version": "3.9.5"
  }
 },
 "nbformat": 4,
 "nbformat_minor": 5
}
