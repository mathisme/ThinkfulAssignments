{
 "cells": [
  {
   "cell_type": "code",
   "execution_count": 1,
   "id": "4f26a5f9",
   "metadata": {},
   "outputs": [],
   "source": [
    "import numpy as np\n",
    "import pandas as pd\n",
    "import matplotlib.pyplot as plt\n",
    "import seaborn as sns\n",
    "from umap import UMAP\n",
    "from sklearn.decomposition import PCA\n",
    "from sklearn.preprocessing import StandardScaler, MinMaxScaler\n",
    "from sklearn.cluster import KMeans\n",
    "from scipy.cluster.hierarchy import dendrogram, linkage\n",
    "from sklearn.cluster import AgglomerativeClustering\n",
    "from sklearn.cluster import DBSCAN\n",
    "from sklearn.metrics import silhouette_score"
   ]
  },
  {
   "cell_type": "markdown",
   "id": "8740d75d",
   "metadata": {},
   "source": [
    "# Introduction\n",
    "\n",
    "need to do"
   ]
  },
  {
   "cell_type": "markdown",
   "id": "0f26b129",
   "metadata": {},
   "source": [
    "# Data\n",
    "\n",
    "The dataset I chose to explore is the famous Titanic dataset.  The dataset can be found here, https://web.stanford.edu/class/archive/cs/cs109/cs109.1166/problem12.html\n",
    "\n"
   ]
  },
  {
   "cell_type": "code",
   "execution_count": 2,
   "id": "7005e4cf",
   "metadata": {},
   "outputs": [],
   "source": [
    "df = pd.read_csv('titanic.csv')"
   ]
  },
  {
   "cell_type": "code",
   "execution_count": 3,
   "id": "9519c9c4",
   "metadata": {},
   "outputs": [
    {
     "data": {
      "text/plain": [
       "Index(['Survived', 'Pclass', 'Name', 'Sex', 'Age', 'Siblings/Spouses Aboard',\n",
       "       'Parents/Children Aboard', 'Fare'],\n",
       "      dtype='object')"
      ]
     },
     "execution_count": 3,
     "metadata": {},
     "output_type": "execute_result"
    }
   ],
   "source": [
    "df.columns"
   ]
  },
  {
   "cell_type": "code",
   "execution_count": 4,
   "id": "9cadddb8",
   "metadata": {},
   "outputs": [],
   "source": [
    "df.drop('Name', axis=1, inplace=True)"
   ]
  },
  {
   "cell_type": "code",
   "execution_count": 5,
   "id": "d7f547a1",
   "metadata": {},
   "outputs": [
    {
     "data": {
      "text/html": [
       "<div>\n",
       "<style scoped>\n",
       "    .dataframe tbody tr th:only-of-type {\n",
       "        vertical-align: middle;\n",
       "    }\n",
       "\n",
       "    .dataframe tbody tr th {\n",
       "        vertical-align: top;\n",
       "    }\n",
       "\n",
       "    .dataframe thead th {\n",
       "        text-align: right;\n",
       "    }\n",
       "</style>\n",
       "<table border=\"1\" class=\"dataframe\">\n",
       "  <thead>\n",
       "    <tr style=\"text-align: right;\">\n",
       "      <th></th>\n",
       "      <th>Survived</th>\n",
       "      <th>Pclass</th>\n",
       "      <th>Sex</th>\n",
       "      <th>Age</th>\n",
       "      <th>Siblings/Spouses Aboard</th>\n",
       "      <th>Parents/Children Aboard</th>\n",
       "      <th>Fare</th>\n",
       "    </tr>\n",
       "  </thead>\n",
       "  <tbody>\n",
       "    <tr>\n",
       "      <th>0</th>\n",
       "      <td>0</td>\n",
       "      <td>3</td>\n",
       "      <td>male</td>\n",
       "      <td>22.0</td>\n",
       "      <td>1</td>\n",
       "      <td>0</td>\n",
       "      <td>7.2500</td>\n",
       "    </tr>\n",
       "    <tr>\n",
       "      <th>1</th>\n",
       "      <td>1</td>\n",
       "      <td>1</td>\n",
       "      <td>female</td>\n",
       "      <td>38.0</td>\n",
       "      <td>1</td>\n",
       "      <td>0</td>\n",
       "      <td>71.2833</td>\n",
       "    </tr>\n",
       "    <tr>\n",
       "      <th>2</th>\n",
       "      <td>1</td>\n",
       "      <td>3</td>\n",
       "      <td>female</td>\n",
       "      <td>26.0</td>\n",
       "      <td>0</td>\n",
       "      <td>0</td>\n",
       "      <td>7.9250</td>\n",
       "    </tr>\n",
       "    <tr>\n",
       "      <th>3</th>\n",
       "      <td>1</td>\n",
       "      <td>1</td>\n",
       "      <td>female</td>\n",
       "      <td>35.0</td>\n",
       "      <td>1</td>\n",
       "      <td>0</td>\n",
       "      <td>53.1000</td>\n",
       "    </tr>\n",
       "    <tr>\n",
       "      <th>4</th>\n",
       "      <td>0</td>\n",
       "      <td>3</td>\n",
       "      <td>male</td>\n",
       "      <td>35.0</td>\n",
       "      <td>0</td>\n",
       "      <td>0</td>\n",
       "      <td>8.0500</td>\n",
       "    </tr>\n",
       "  </tbody>\n",
       "</table>\n",
       "</div>"
      ],
      "text/plain": [
       "   Survived  Pclass     Sex   Age  Siblings/Spouses Aboard  \\\n",
       "0         0       3    male  22.0                        1   \n",
       "1         1       1  female  38.0                        1   \n",
       "2         1       3  female  26.0                        0   \n",
       "3         1       1  female  35.0                        1   \n",
       "4         0       3    male  35.0                        0   \n",
       "\n",
       "   Parents/Children Aboard     Fare  \n",
       "0                        0   7.2500  \n",
       "1                        0  71.2833  \n",
       "2                        0   7.9250  \n",
       "3                        0  53.1000  \n",
       "4                        0   8.0500  "
      ]
     },
     "execution_count": 5,
     "metadata": {},
     "output_type": "execute_result"
    }
   ],
   "source": [
    "df.head()"
   ]
  },
  {
   "cell_type": "code",
   "execution_count": 6,
   "id": "7aa9e2d5",
   "metadata": {},
   "outputs": [
    {
     "data": {
      "text/plain": [
       "Survived                   0\n",
       "Pclass                     0\n",
       "Sex                        0\n",
       "Age                        0\n",
       "Siblings/Spouses Aboard    0\n",
       "Parents/Children Aboard    0\n",
       "Fare                       0\n",
       "dtype: int64"
      ]
     },
     "execution_count": 6,
     "metadata": {},
     "output_type": "execute_result"
    }
   ],
   "source": [
    "df.isnull().sum()"
   ]
  },
  {
   "cell_type": "code",
   "execution_count": 7,
   "id": "01f82e70",
   "metadata": {},
   "outputs": [],
   "source": [
    "df = pd.get_dummies(df) # maybe instead of get dummies replace with 1 male -1 female"
   ]
  },
  {
   "cell_type": "code",
   "execution_count": 8,
   "id": "d417cab0",
   "metadata": {},
   "outputs": [],
   "source": [
    "X = df.drop('Survived', axis=1)\n",
    "y = df['Survived']"
   ]
  },
  {
   "cell_type": "code",
   "execution_count": 9,
   "id": "d8c485a4",
   "metadata": {},
   "outputs": [
    {
     "data": {
      "text/html": [
       "<div>\n",
       "<style scoped>\n",
       "    .dataframe tbody tr th:only-of-type {\n",
       "        vertical-align: middle;\n",
       "    }\n",
       "\n",
       "    .dataframe tbody tr th {\n",
       "        vertical-align: top;\n",
       "    }\n",
       "\n",
       "    .dataframe thead th {\n",
       "        text-align: right;\n",
       "    }\n",
       "</style>\n",
       "<table border=\"1\" class=\"dataframe\">\n",
       "  <thead>\n",
       "    <tr style=\"text-align: right;\">\n",
       "      <th></th>\n",
       "      <th>Survived</th>\n",
       "      <th>Pclass</th>\n",
       "      <th>Age</th>\n",
       "      <th>Siblings/Spouses Aboard</th>\n",
       "      <th>Parents/Children Aboard</th>\n",
       "      <th>Fare</th>\n",
       "      <th>Sex_female</th>\n",
       "      <th>Sex_male</th>\n",
       "    </tr>\n",
       "  </thead>\n",
       "  <tbody>\n",
       "    <tr>\n",
       "      <th>0</th>\n",
       "      <td>0</td>\n",
       "      <td>3</td>\n",
       "      <td>22.0</td>\n",
       "      <td>1</td>\n",
       "      <td>0</td>\n",
       "      <td>7.2500</td>\n",
       "      <td>0</td>\n",
       "      <td>1</td>\n",
       "    </tr>\n",
       "    <tr>\n",
       "      <th>1</th>\n",
       "      <td>1</td>\n",
       "      <td>1</td>\n",
       "      <td>38.0</td>\n",
       "      <td>1</td>\n",
       "      <td>0</td>\n",
       "      <td>71.2833</td>\n",
       "      <td>1</td>\n",
       "      <td>0</td>\n",
       "    </tr>\n",
       "    <tr>\n",
       "      <th>2</th>\n",
       "      <td>1</td>\n",
       "      <td>3</td>\n",
       "      <td>26.0</td>\n",
       "      <td>0</td>\n",
       "      <td>0</td>\n",
       "      <td>7.9250</td>\n",
       "      <td>1</td>\n",
       "      <td>0</td>\n",
       "    </tr>\n",
       "    <tr>\n",
       "      <th>3</th>\n",
       "      <td>1</td>\n",
       "      <td>1</td>\n",
       "      <td>35.0</td>\n",
       "      <td>1</td>\n",
       "      <td>0</td>\n",
       "      <td>53.1000</td>\n",
       "      <td>1</td>\n",
       "      <td>0</td>\n",
       "    </tr>\n",
       "    <tr>\n",
       "      <th>4</th>\n",
       "      <td>0</td>\n",
       "      <td>3</td>\n",
       "      <td>35.0</td>\n",
       "      <td>0</td>\n",
       "      <td>0</td>\n",
       "      <td>8.0500</td>\n",
       "      <td>0</td>\n",
       "      <td>1</td>\n",
       "    </tr>\n",
       "  </tbody>\n",
       "</table>\n",
       "</div>"
      ],
      "text/plain": [
       "   Survived  Pclass   Age  Siblings/Spouses Aboard  Parents/Children Aboard  \\\n",
       "0         0       3  22.0                        1                        0   \n",
       "1         1       1  38.0                        1                        0   \n",
       "2         1       3  26.0                        0                        0   \n",
       "3         1       1  35.0                        1                        0   \n",
       "4         0       3  35.0                        0                        0   \n",
       "\n",
       "      Fare  Sex_female  Sex_male  \n",
       "0   7.2500           0         1  \n",
       "1  71.2833           1         0  \n",
       "2   7.9250           1         0  \n",
       "3  53.1000           1         0  \n",
       "4   8.0500           0         1  "
      ]
     },
     "execution_count": 9,
     "metadata": {},
     "output_type": "execute_result"
    }
   ],
   "source": [
    "df.head()"
   ]
  },
  {
   "cell_type": "markdown",
   "id": "afd409de",
   "metadata": {},
   "source": [
    "# Initial 2D view of the dataset using PCA and UMAP\n"
   ]
  },
  {
   "cell_type": "code",
   "execution_count": 10,
   "id": "0235896b",
   "metadata": {},
   "outputs": [],
   "source": [
    "#X_initial = StandardScaler().fit_transform(X)\n",
    "X_initial = MinMaxScaler().fit_transform(X)"
   ]
  },
  {
   "cell_type": "code",
   "execution_count": 11,
   "id": "463e10f8",
   "metadata": {},
   "outputs": [],
   "source": [
    "pca = PCA(n_components=2)"
   ]
  },
  {
   "cell_type": "code",
   "execution_count": 12,
   "id": "2d11ca50",
   "metadata": {},
   "outputs": [],
   "source": [
    "X_2d_pca = pca.fit_transform(X_initial)"
   ]
  },
  {
   "cell_type": "code",
   "execution_count": 13,
   "id": "f4c32b36",
   "metadata": {},
   "outputs": [
    {
     "data": {
      "text/plain": [
       "<AxesSubplot:>"
      ]
     },
     "execution_count": 13,
     "metadata": {},
     "output_type": "execute_result"
    },
    {
     "data": {
      "image/png": "[encoded data removed]",
      "text/plain": [
       "<Figure size 432x288 with 1 Axes>"
      ]
     },
     "metadata": {
      "needs_background": "light"
     },
     "output_type": "display_data"
    }
   ],
   "source": [
    "sns.scatterplot(x=X_2d_pca[:,0],y=X_2d_pca[:,1])"
   ]
  },
  {
   "cell_type": "markdown",
   "id": "87441916",
   "metadata": {},
   "source": [
    "As PCA preserves distance, the image shows that there are definite clusters distanct from eachother.  Although nothing can be inferred, a cluster number of at least 6 seems reasonable."
   ]
  },
  {
   "cell_type": "code",
   "execution_count": 14,
   "id": "7e0e02dd",
   "metadata": {},
   "outputs": [],
   "source": [
    "umap2 = UMAP(n_components=2)"
   ]
  },
  {
   "cell_type": "code",
   "execution_count": 15,
   "id": "8905e2a0",
   "metadata": {},
   "outputs": [],
   "source": [
    "X_initial_2d = umap2.fit_transform(X_initial)"
   ]
  },
  {
   "cell_type": "code",
   "execution_count": 16,
   "id": "8979f7f6",
   "metadata": {},
   "outputs": [
    {
     "data": {
      "text/plain": [
       "<AxesSubplot:>"
      ]
     },
     "execution_count": 16,
     "metadata": {},
     "output_type": "execute_result"
    },
    {
     "data": {
      "image/png": "[encoded data removed]",
      "text/plain": [
       "<Figure size 432x288 with 1 Axes>"
      ]
     },
     "metadata": {
      "needs_background": "light"
     },
     "output_type": "display_data"
    }
   ],
   "source": [
    "sns.scatterplot(x=X_initial_2d[:,0],y=X_initial_2d[:,1])"
   ]
  },
  {
   "cell_type": "markdown",
   "id": "c63ff0a2",
   "metadata": {},
   "source": [
    "Although nothing can be inferred, there appear to be ten or more clusters."
   ]
  },
  {
   "cell_type": "code",
   "execution_count": 17,
   "id": "e1fcc7db",
   "metadata": {},
   "outputs": [],
   "source": [
    "df['x'] = X_initial_2d[:,0]\n",
    "df['y'] = X_initial_2d[:,1]"
   ]
  },
  {
   "cell_type": "markdown",
   "id": "930c42fd",
   "metadata": {},
   "source": [
    "# Clustering all data using KMeans\n",
    "\n",
    "* use inertia to find the best k or k values\n",
    "* Check consistency (will do this eventually when I pick the clustering method)\n",
    "* Look at silhouette score"
   ]
  },
  {
   "cell_type": "code",
   "execution_count": 18,
   "id": "465b7e41",
   "metadata": {
    "scrolled": true
   },
   "outputs": [],
   "source": [
    "inertia_values = []\n",
    "for n in range(2,21):\n",
    "    kmeans = KMeans(n_clusters=n)\n",
    "    kmeans.fit(X_initial)\n",
    "    inertia_values.append((n,kmeans.inertia_))\n",
    "results = list(zip(*inertia_values))\n"
   ]
  },
  {
   "cell_type": "code",
   "execution_count": 19,
   "id": "a4dacb4e",
   "metadata": {},
   "outputs": [
    {
     "data": {
      "text/plain": [
       "<AxesSubplot:>"
      ]
     },
     "execution_count": 19,
     "metadata": {},
     "output_type": "execute_result"
    },
    {
     "data": {
      "image/png": "[encoded data removed]",
      "text/plain": [
       "<Figure size 432x288 with 1 Axes>"
      ]
     },
     "metadata": {
      "needs_background": "light"
     },
     "output_type": "display_data"
    }
   ],
   "source": [
    "sns.lineplot(x=results[0],y=results[1])"
   ]
  },
  {
   "cell_type": "markdown",
   "id": "a17386ee",
   "metadata": {},
   "source": [
    "It is hard to see an elbow.  I would say 4 or 6."
   ]
  },
  {
   "cell_type": "markdown",
   "id": "c32c07aa",
   "metadata": {},
   "source": [
    "Checking for a more pronounced elbow by adjusting other parameters of the k means algorithm"
   ]
  },
  {
   "cell_type": "code",
   "execution_count": 20,
   "id": "1ba5a223",
   "metadata": {},
   "outputs": [
    {
     "data": {
      "text/plain": [
       "<AxesSubplot:>"
      ]
     },
     "execution_count": 20,
     "metadata": {},
     "output_type": "execute_result"
    },
    {
     "data": {
      "image/png": "[encoded data removed]",
      "text/plain": [
       "<Figure size 432x288 with 1 Axes>"
      ]
     },
     "metadata": {
      "needs_background": "light"
     },
     "output_type": "display_data"
    }
   ],
   "source": [
    "inertia_values = []\n",
    "for n in range(2,21):\n",
    "    kmeans = KMeans(n_clusters=n, algorithm='full')\n",
    "    kmeans.fit(X_initial)\n",
    "    inertia_values.append((n,kmeans.inertia_))\n",
    "results = list(zip(*inertia_values))\n",
    "sns.lineplot(x=results[0],y=results[1])"
   ]
  },
  {
   "cell_type": "code",
   "execution_count": 21,
   "id": "1b23391e",
   "metadata": {},
   "outputs": [
    {
     "data": {
      "text/plain": [
       "<AxesSubplot:>"
      ]
     },
     "execution_count": 21,
     "metadata": {},
     "output_type": "execute_result"
    },
    {
     "data": {
      "image/png": "[encoded data removed]",
      "text/plain": [
       "<Figure size 432x288 with 1 Axes>"
      ]
     },
     "metadata": {
      "needs_background": "light"
     },
     "output_type": "display_data"
    }
   ],
   "source": [
    "inertia_values = []\n",
    "for n in range(2,21):\n",
    "    kmeans = KMeans(n_clusters=n, algorithm='elkan')\n",
    "    kmeans.fit(X_initial)\n",
    "    inertia_values.append((n,kmeans.inertia_))\n",
    "results = list(zip(*inertia_values))\n",
    "sns.lineplot(x=results[0],y=results[1])"
   ]
  },
  {
   "cell_type": "markdown",
   "id": "e2549a34",
   "metadata": {},
   "source": [
    "The three graphs look similar.  I will choose 6 for kmeans"
   ]
  },
  {
   "cell_type": "code",
   "execution_count": 22,
   "id": "4e71993d",
   "metadata": {},
   "outputs": [],
   "source": [
    "kmeans = KMeans(n_clusters=6)\n",
    "#labels = kmeans.fit_predict(X_initial)\n",
    "df['kmeans_labels'] = kmeans.fit_predict(X_initial)"
   ]
  },
  {
   "cell_type": "markdown",
   "id": "2ee363a4",
   "metadata": {},
   "source": [
    "Visualizing the data"
   ]
  },
  {
   "cell_type": "code",
   "execution_count": 23,
   "id": "362f8723",
   "metadata": {},
   "outputs": [
    {
     "data": {
      "text/plain": [
       "<AxesSubplot:xlabel='x', ylabel='y'>"
      ]
     },
     "execution_count": 23,
     "metadata": {},
     "output_type": "execute_result"
    },
    {
     "data": {
      "image/png": "[encoded data removed]",
      "text/plain": [
       "<Figure size 432x288 with 1 Axes>"
      ]
     },
     "metadata": {
      "needs_background": "light"
     },
     "output_type": "display_data"
    }
   ],
   "source": [
    "sns.scatterplot(x='x',y='y', hue='kmeans_labels', data=df, palette='gist_rainbow', s=50)\n",
    "#sns.scatterplot(x=X_initial_2d[:,0],y=X_initial_2d[:,1], hue=labels, palette='gist_rainbow', s=50)"
   ]
  },
  {
   "cell_type": "markdown",
   "id": "953a40de",
   "metadata": {},
   "source": [
    "There does seem some mixing of clusters, going to get the silhouette score."
   ]
  },
  {
   "cell_type": "code",
   "execution_count": 24,
   "id": "fc18e52f",
   "metadata": {},
   "outputs": [
    {
     "data": {
      "text/plain": [
       "0.5276062174579387"
      ]
     },
     "execution_count": 24,
     "metadata": {},
     "output_type": "execute_result"
    }
   ],
   "source": [
    "silhouette_score(X_initial, df['kmeans_labels'])"
   ]
  },
  {
   "cell_type": "markdown",
   "id": "859e96c7",
   "metadata": {},
   "source": [
    "A 0.5 silhouette_score is not bad.  Now I am going to check for consistency using visualizations."
   ]
  },
  {
   "cell_type": "code",
   "execution_count": null,
   "id": "5f5f79d2",
   "metadata": {},
   "outputs": [],
   "source": []
  },
  {
   "cell_type": "markdown",
   "id": "340016e7",
   "metadata": {},
   "source": [
    "# Hierarchal Clustering"
   ]
  },
  {
   "cell_type": "code",
   "execution_count": 25,
   "id": "8a292092",
   "metadata": {},
   "outputs": [
    {
     "data": {
      "image/png": "[encoded data removed]",
      "text/plain": [
       "<Figure size 2160x1440 with 1 Axes>"
      ]
     },
     "metadata": {
      "needs_background": "light"
     },
     "output_type": "display_data"
    }
   ],
   "source": [
    "plt.figure(figsize=(30,20))\n",
    "dendrogram(linkage(X_initial, method='complete'))\n",
    "plt.show()"
   ]
  },
  {
   "cell_type": "markdown",
   "id": "2633303e",
   "metadata": {},
   "source": [
    "In order to incorporate all the various colors, you will want the number of clusters to be at least 10."
   ]
  },
  {
   "cell_type": "code",
   "execution_count": 26,
   "id": "87ffc001",
   "metadata": {},
   "outputs": [],
   "source": [
    "agg = AgglomerativeClustering(n_clusters=10)"
   ]
  },
  {
   "cell_type": "code",
   "execution_count": 27,
   "id": "d5eb849f",
   "metadata": {},
   "outputs": [
    {
     "data": {
      "text/plain": [
       "AgglomerativeClustering(n_clusters=10)"
      ]
     },
     "execution_count": 27,
     "metadata": {},
     "output_type": "execute_result"
    }
   ],
   "source": [
    "agg.fit(X_initial)"
   ]
  },
  {
   "cell_type": "code",
   "execution_count": 28,
   "id": "80369e04",
   "metadata": {},
   "outputs": [],
   "source": [
    "df['agg_labels'] = agg.fit_predict(X_initial)"
   ]
  },
  {
   "cell_type": "code",
   "execution_count": 29,
   "id": "7f316552",
   "metadata": {},
   "outputs": [
    {
     "data": {
      "text/plain": [
       "0.5054947804730059"
      ]
     },
     "execution_count": 29,
     "metadata": {},
     "output_type": "execute_result"
    }
   ],
   "source": [
    "silhouette_score(X_initial, df['agg_labels'])"
   ]
  },
  {
   "cell_type": "code",
   "execution_count": 42,
   "id": "fbf00709",
   "metadata": {},
   "outputs": [],
   "source": [
    "# need to play more with this"
   ]
  },
  {
   "cell_type": "markdown",
   "id": "8d90609d",
   "metadata": {},
   "source": [
    "# Clustering using DBSCAN"
   ]
  },
  {
   "cell_type": "code",
   "execution_count": 30,
   "id": "1a118319",
   "metadata": {},
   "outputs": [],
   "source": [
    "db = DBSCAN()"
   ]
  },
  {
   "cell_type": "code",
   "execution_count": 31,
   "id": "847c7290",
   "metadata": {},
   "outputs": [],
   "source": [
    "df['dbscan_labels']=db.fit_predict(X_initial)"
   ]
  },
  {
   "cell_type": "code",
   "execution_count": 32,
   "id": "148afeb7",
   "metadata": {},
   "outputs": [
    {
     "data": {
      "text/plain": [
       "0.548950699002414"
      ]
     },
     "execution_count": 32,
     "metadata": {},
     "output_type": "execute_result"
    }
   ],
   "source": [
    "# now get the silhouette score for those that are not outlers\n",
    "silhouette_score(X_initial[df['dbscan_labels']!=-1],df[df['dbscan_labels']!=-1]['dbscan_labels'])"
   ]
  },
  {
   "cell_type": "code",
   "execution_count": 33,
   "id": "f64d3165",
   "metadata": {},
   "outputs": [
    {
     "data": {
      "text/plain": [
       "4"
      ]
     },
     "execution_count": 33,
     "metadata": {},
     "output_type": "execute_result"
    }
   ],
   "source": [
    "df['dbscan_labels'].max()"
   ]
  },
  {
   "cell_type": "markdown",
   "id": "0f94922a",
   "metadata": {},
   "source": [
    "DBSCAN chose 4 clusters which the elbow method originally also suggested."
   ]
  },
  {
   "cell_type": "markdown",
   "id": "a678bd02",
   "metadata": {},
   "source": [
    "# Comparing clusters"
   ]
  },
  {
   "cell_type": "code",
   "execution_count": 34,
   "id": "9653947e",
   "metadata": {},
   "outputs": [
    {
     "data": {
      "text/html": [
       "<div>\n",
       "<style scoped>\n",
       "    .dataframe tbody tr th:only-of-type {\n",
       "        vertical-align: middle;\n",
       "    }\n",
       "\n",
       "    .dataframe tbody tr th {\n",
       "        vertical-align: top;\n",
       "    }\n",
       "\n",
       "    .dataframe thead th {\n",
       "        text-align: right;\n",
       "    }\n",
       "</style>\n",
       "<table border=\"1\" class=\"dataframe\">\n",
       "  <thead>\n",
       "    <tr style=\"text-align: right;\">\n",
       "      <th></th>\n",
       "      <th>Survived</th>\n",
       "      <th>Pclass</th>\n",
       "      <th>Age</th>\n",
       "      <th>Siblings/Spouses Aboard</th>\n",
       "      <th>Parents/Children Aboard</th>\n",
       "      <th>Fare</th>\n",
       "      <th>Sex_female</th>\n",
       "      <th>Sex_male</th>\n",
       "      <th>x</th>\n",
       "      <th>y</th>\n",
       "      <th>kmeans_labels</th>\n",
       "      <th>agg_labels</th>\n",
       "      <th>dbscan_labels</th>\n",
       "    </tr>\n",
       "  </thead>\n",
       "  <tbody>\n",
       "    <tr>\n",
       "      <th>mean_cluster_0</th>\n",
       "      <td>0.368852</td>\n",
       "      <td>1.0</td>\n",
       "      <td>41.511639</td>\n",
       "      <td>0.311475</td>\n",
       "      <td>0.278689</td>\n",
       "      <td>67.226127</td>\n",
       "      <td>0.0</td>\n",
       "      <td>1.0</td>\n",
       "      <td>-0.941808</td>\n",
       "      <td>18.127169</td>\n",
       "      <td>0.0</td>\n",
       "      <td>0.000000</td>\n",
       "      <td>2.934426</td>\n",
       "    </tr>\n",
       "    <tr>\n",
       "      <th>std_cluster_0</th>\n",
       "      <td>0.484484</td>\n",
       "      <td>0.0</td>\n",
       "      <td>14.324665</td>\n",
       "      <td>0.546695</td>\n",
       "      <td>0.658853</td>\n",
       "      <td>77.548021</td>\n",
       "      <td>0.0</td>\n",
       "      <td>0.0</td>\n",
       "      <td>0.736684</td>\n",
       "      <td>0.860549</td>\n",
       "      <td>0.0</td>\n",
       "      <td>0.000000</td>\n",
       "      <td>0.510027</td>\n",
       "    </tr>\n",
       "    <tr>\n",
       "      <th>mean_cluster_1</th>\n",
       "      <td>0.921053</td>\n",
       "      <td>2.0</td>\n",
       "      <td>28.980263</td>\n",
       "      <td>0.486842</td>\n",
       "      <td>0.605263</td>\n",
       "      <td>21.970121</td>\n",
       "      <td>1.0</td>\n",
       "      <td>0.0</td>\n",
       "      <td>12.547865</td>\n",
       "      <td>6.579432</td>\n",
       "      <td>1.0</td>\n",
       "      <td>5.000000</td>\n",
       "      <td>4.000000</td>\n",
       "    </tr>\n",
       "    <tr>\n",
       "      <th>std_cluster_1</th>\n",
       "      <td>0.271448</td>\n",
       "      <td>0.0</td>\n",
       "      <td>12.855723</td>\n",
       "      <td>0.642774</td>\n",
       "      <td>0.833930</td>\n",
       "      <td>10.891796</td>\n",
       "      <td>0.0</td>\n",
       "      <td>0.0</td>\n",
       "      <td>0.381429</td>\n",
       "      <td>0.549136</td>\n",
       "      <td>0.0</td>\n",
       "      <td>0.000000</td>\n",
       "      <td>0.000000</td>\n",
       "    </tr>\n",
       "    <tr>\n",
       "      <th>mean_cluster_2</th>\n",
       "      <td>0.137026</td>\n",
       "      <td>3.0</td>\n",
       "      <td>26.470612</td>\n",
       "      <td>0.504373</td>\n",
       "      <td>0.227405</td>\n",
       "      <td>12.695466</td>\n",
       "      <td>0.0</td>\n",
       "      <td>1.0</td>\n",
       "      <td>-0.338809</td>\n",
       "      <td>-1.688151</td>\n",
       "      <td>2.0</td>\n",
       "      <td>3.865889</td>\n",
       "      <td>0.000000</td>\n",
       "    </tr>\n",
       "    <tr>\n",
       "      <th>std_cluster_2</th>\n",
       "      <td>0.344377</td>\n",
       "      <td>0.0</td>\n",
       "      <td>11.843691</td>\n",
       "      <td>1.295227</td>\n",
       "      <td>0.626562</td>\n",
       "      <td>11.740102</td>\n",
       "      <td>0.0</td>\n",
       "      <td>0.0</td>\n",
       "      <td>4.394066</td>\n",
       "      <td>4.566246</td>\n",
       "      <td>0.0</td>\n",
       "      <td>1.780196</td>\n",
       "      <td>0.000000</td>\n",
       "    </tr>\n",
       "    <tr>\n",
       "      <th>mean_cluster_3</th>\n",
       "      <td>0.968085</td>\n",
       "      <td>1.0</td>\n",
       "      <td>35.255319</td>\n",
       "      <td>0.553191</td>\n",
       "      <td>0.457447</td>\n",
       "      <td>106.125798</td>\n",
       "      <td>1.0</td>\n",
       "      <td>0.0</td>\n",
       "      <td>16.454815</td>\n",
       "      <td>15.527910</td>\n",
       "      <td>3.0</td>\n",
       "      <td>2.000000</td>\n",
       "      <td>0.978723</td>\n",
       "    </tr>\n",
       "    <tr>\n",
       "      <th>std_cluster_3</th>\n",
       "      <td>0.176716</td>\n",
       "      <td>0.0</td>\n",
       "      <td>13.257529</td>\n",
       "      <td>0.665865</td>\n",
       "      <td>0.728305</td>\n",
       "      <td>74.259988</td>\n",
       "      <td>0.0</td>\n",
       "      <td>0.0</td>\n",
       "      <td>0.668940</td>\n",
       "      <td>0.373474</td>\n",
       "      <td>0.0</td>\n",
       "      <td>0.000000</td>\n",
       "      <td>0.206284</td>\n",
       "    </tr>\n",
       "    <tr>\n",
       "      <th>mean_cluster_4</th>\n",
       "      <td>0.157407</td>\n",
       "      <td>2.0</td>\n",
       "      <td>30.493796</td>\n",
       "      <td>0.342593</td>\n",
       "      <td>0.222222</td>\n",
       "      <td>19.741782</td>\n",
       "      <td>0.0</td>\n",
       "      <td>1.0</td>\n",
       "      <td>3.440180</td>\n",
       "      <td>9.962104</td>\n",
       "      <td>4.0</td>\n",
       "      <td>1.000000</td>\n",
       "      <td>0.000000</td>\n",
       "    </tr>\n",
       "    <tr>\n",
       "      <th>std_cluster_4</th>\n",
       "      <td>0.365882</td>\n",
       "      <td>0.0</td>\n",
       "      <td>14.382035</td>\n",
       "      <td>0.566380</td>\n",
       "      <td>0.517603</td>\n",
       "      <td>14.922235</td>\n",
       "      <td>0.0</td>\n",
       "      <td>0.0</td>\n",
       "      <td>1.213276</td>\n",
       "      <td>0.582311</td>\n",
       "      <td>0.0</td>\n",
       "      <td>0.000000</td>\n",
       "      <td>0.000000</td>\n",
       "    </tr>\n",
       "    <tr>\n",
       "      <th>mean_cluster_5</th>\n",
       "      <td>0.500000</td>\n",
       "      <td>3.0</td>\n",
       "      <td>22.135417</td>\n",
       "      <td>0.895833</td>\n",
       "      <td>0.798611</td>\n",
       "      <td>16.118810</td>\n",
       "      <td>1.0</td>\n",
       "      <td>0.0</td>\n",
       "      <td>17.276873</td>\n",
       "      <td>-4.228742</td>\n",
       "      <td>5.0</td>\n",
       "      <td>6.416667</td>\n",
       "      <td>2.000000</td>\n",
       "    </tr>\n",
       "    <tr>\n",
       "      <th>std_cluster_5</th>\n",
       "      <td>0.501745</td>\n",
       "      <td>0.0</td>\n",
       "      <td>12.181031</td>\n",
       "      <td>1.531573</td>\n",
       "      <td>1.237976</td>\n",
       "      <td>11.690314</td>\n",
       "      <td>0.0</td>\n",
       "      <td>0.0</td>\n",
       "      <td>1.916643</td>\n",
       "      <td>1.326377</td>\n",
       "      <td>0.0</td>\n",
       "      <td>1.431416</td>\n",
       "      <td>0.000000</td>\n",
       "    </tr>\n",
       "  </tbody>\n",
       "</table>\n",
       "</div>"
      ],
      "text/plain": [
       "                Survived  Pclass        Age  Siblings/Spouses Aboard  \\\n",
       "mean_cluster_0  0.368852     1.0  41.511639                 0.311475   \n",
       "std_cluster_0   0.484484     0.0  14.324665                 0.546695   \n",
       "mean_cluster_1  0.921053     2.0  28.980263                 0.486842   \n",
       "std_cluster_1   0.271448     0.0  12.855723                 0.642774   \n",
       "mean_cluster_2  0.137026     3.0  26.470612                 0.504373   \n",
       "std_cluster_2   0.344377     0.0  11.843691                 1.295227   \n",
       "mean_cluster_3  0.968085     1.0  35.255319                 0.553191   \n",
       "std_cluster_3   0.176716     0.0  13.257529                 0.665865   \n",
       "mean_cluster_4  0.157407     2.0  30.493796                 0.342593   \n",
       "std_cluster_4   0.365882     0.0  14.382035                 0.566380   \n",
       "mean_cluster_5  0.500000     3.0  22.135417                 0.895833   \n",
       "std_cluster_5   0.501745     0.0  12.181031                 1.531573   \n",
       "\n",
       "                Parents/Children Aboard        Fare  Sex_female  Sex_male  \\\n",
       "mean_cluster_0                 0.278689   67.226127         0.0       1.0   \n",
       "std_cluster_0                  0.658853   77.548021         0.0       0.0   \n",
       "mean_cluster_1                 0.605263   21.970121         1.0       0.0   \n",
       "std_cluster_1                  0.833930   10.891796         0.0       0.0   \n",
       "mean_cluster_2                 0.227405   12.695466         0.0       1.0   \n",
       "std_cluster_2                  0.626562   11.740102         0.0       0.0   \n",
       "mean_cluster_3                 0.457447  106.125798         1.0       0.0   \n",
       "std_cluster_3                  0.728305   74.259988         0.0       0.0   \n",
       "mean_cluster_4                 0.222222   19.741782         0.0       1.0   \n",
       "std_cluster_4                  0.517603   14.922235         0.0       0.0   \n",
       "mean_cluster_5                 0.798611   16.118810         1.0       0.0   \n",
       "std_cluster_5                  1.237976   11.690314         0.0       0.0   \n",
       "\n",
       "                        x          y  kmeans_labels  agg_labels  dbscan_labels  \n",
       "mean_cluster_0  -0.941808  18.127169            0.0    0.000000       2.934426  \n",
       "std_cluster_0    0.736684   0.860549            0.0    0.000000       0.510027  \n",
       "mean_cluster_1  12.547865   6.579432            1.0    5.000000       4.000000  \n",
       "std_cluster_1    0.381429   0.549136            0.0    0.000000       0.000000  \n",
       "mean_cluster_2  -0.338809  -1.688151            2.0    3.865889       0.000000  \n",
       "std_cluster_2    4.394066   4.566246            0.0    1.780196       0.000000  \n",
       "mean_cluster_3  16.454815  15.527910            3.0    2.000000       0.978723  \n",
       "std_cluster_3    0.668940   0.373474            0.0    0.000000       0.206284  \n",
       "mean_cluster_4   3.440180   9.962104            4.0    1.000000       0.000000  \n",
       "std_cluster_4    1.213276   0.582311            0.0    0.000000       0.000000  \n",
       "mean_cluster_5  17.276873  -4.228742            5.0    6.416667       2.000000  \n",
       "std_cluster_5    1.916643   1.326377            0.0    1.431416       0.000000  "
      ]
     },
     "execution_count": 34,
     "metadata": {},
     "output_type": "execute_result"
    }
   ],
   "source": [
    "stats = {}\n",
    "for n in range(6):\n",
    "    stats['mean_cluster_{}'.format(n)] = df[df['kmeans_labels']==n].mean()\n",
    "    stats['std_cluster_{}'.format(n)] = df[df['kmeans_labels']==n].std()\n",
    "(pd.DataFrame(stats)).transpose()\n",
    "    "
   ]
  },
  {
   "cell_type": "code",
   "execution_count": null,
   "id": "728d5669",
   "metadata": {},
   "outputs": [],
   "source": []
  },
  {
   "cell_type": "code",
   "execution_count": 35,
   "id": "aa3dfa57",
   "metadata": {},
   "outputs": [
    {
     "data": {
      "text/html": [
       "<div>\n",
       "<style scoped>\n",
       "    .dataframe tbody tr th:only-of-type {\n",
       "        vertical-align: middle;\n",
       "    }\n",
       "\n",
       "    .dataframe tbody tr th {\n",
       "        vertical-align: top;\n",
       "    }\n",
       "\n",
       "    .dataframe thead th {\n",
       "        text-align: right;\n",
       "    }\n",
       "</style>\n",
       "<table border=\"1\" class=\"dataframe\">\n",
       "  <thead>\n",
       "    <tr style=\"text-align: right;\">\n",
       "      <th></th>\n",
       "      <th>Survived</th>\n",
       "      <th>Pclass</th>\n",
       "      <th>Age</th>\n",
       "      <th>Siblings/Spouses Aboard</th>\n",
       "      <th>Parents/Children Aboard</th>\n",
       "      <th>Fare</th>\n",
       "      <th>Sex_female</th>\n",
       "      <th>Sex_male</th>\n",
       "      <th>x</th>\n",
       "      <th>y</th>\n",
       "      <th>kmeans_labels</th>\n",
       "      <th>agg_labels</th>\n",
       "      <th>dbscan_labels</th>\n",
       "    </tr>\n",
       "  </thead>\n",
       "  <tbody>\n",
       "    <tr>\n",
       "      <th>mean_cluster_0</th>\n",
       "      <td>0.141907</td>\n",
       "      <td>2.760532</td>\n",
       "      <td>27.434035</td>\n",
       "      <td>0.465632</td>\n",
       "      <td>0.226164</td>\n",
       "      <td>14.382832</td>\n",
       "      <td>0.0</td>\n",
       "      <td>1.0</td>\n",
       "      <td>0.566137</td>\n",
       "      <td>1.101711</td>\n",
       "      <td>2.478936</td>\n",
       "      <td>3.179601</td>\n",
       "      <td>0.0</td>\n",
       "    </tr>\n",
       "    <tr>\n",
       "      <th>std_cluster_0</th>\n",
       "      <td>0.349342</td>\n",
       "      <td>0.427233</td>\n",
       "      <td>12.599386</td>\n",
       "      <td>1.164491</td>\n",
       "      <td>0.601722</td>\n",
       "      <td>12.913563</td>\n",
       "      <td>0.0</td>\n",
       "      <td>0.0</td>\n",
       "      <td>4.198880</td>\n",
       "      <td>6.379756</td>\n",
       "      <td>0.854465</td>\n",
       "      <td>1.976783</td>\n",
       "      <td>0.0</td>\n",
       "    </tr>\n",
       "    <tr>\n",
       "      <th>mean_cluster_1</th>\n",
       "      <td>0.967742</td>\n",
       "      <td>1.000000</td>\n",
       "      <td>35.258065</td>\n",
       "      <td>0.559140</td>\n",
       "      <td>0.462366</td>\n",
       "      <td>101.758019</td>\n",
       "      <td>1.0</td>\n",
       "      <td>0.0</td>\n",
       "      <td>16.455843</td>\n",
       "      <td>15.528177</td>\n",
       "      <td>3.000000</td>\n",
       "      <td>2.000000</td>\n",
       "      <td>1.0</td>\n",
       "    </tr>\n",
       "    <tr>\n",
       "      <th>std_cluster_1</th>\n",
       "      <td>0.177642</td>\n",
       "      <td>0.000000</td>\n",
       "      <td>13.329359</td>\n",
       "      <td>0.666959</td>\n",
       "      <td>0.730681</td>\n",
       "      <td>61.332784</td>\n",
       "      <td>0.0</td>\n",
       "      <td>0.0</td>\n",
       "      <td>0.672490</td>\n",
       "      <td>0.375489</td>\n",
       "      <td>0.000000</td>\n",
       "      <td>0.000000</td>\n",
       "      <td>0.0</td>\n",
       "    </tr>\n",
       "    <tr>\n",
       "      <th>mean_cluster_2</th>\n",
       "      <td>0.500000</td>\n",
       "      <td>3.000000</td>\n",
       "      <td>22.135417</td>\n",
       "      <td>0.895833</td>\n",
       "      <td>0.798611</td>\n",
       "      <td>16.118810</td>\n",
       "      <td>1.0</td>\n",
       "      <td>0.0</td>\n",
       "      <td>17.276873</td>\n",
       "      <td>-4.228742</td>\n",
       "      <td>5.000000</td>\n",
       "      <td>6.416667</td>\n",
       "      <td>2.0</td>\n",
       "    </tr>\n",
       "    <tr>\n",
       "      <th>std_cluster_2</th>\n",
       "      <td>0.501745</td>\n",
       "      <td>0.000000</td>\n",
       "      <td>12.181031</td>\n",
       "      <td>1.531573</td>\n",
       "      <td>1.237976</td>\n",
       "      <td>11.690314</td>\n",
       "      <td>0.0</td>\n",
       "      <td>0.0</td>\n",
       "      <td>1.916643</td>\n",
       "      <td>1.326377</td>\n",
       "      <td>0.000000</td>\n",
       "      <td>1.431416</td>\n",
       "      <td>0.0</td>\n",
       "    </tr>\n",
       "    <tr>\n",
       "      <th>mean_cluster_3</th>\n",
       "      <td>0.358333</td>\n",
       "      <td>1.000000</td>\n",
       "      <td>41.611833</td>\n",
       "      <td>0.316667</td>\n",
       "      <td>0.275000</td>\n",
       "      <td>59.807742</td>\n",
       "      <td>0.0</td>\n",
       "      <td>1.0</td>\n",
       "      <td>-0.936938</td>\n",
       "      <td>18.118940</td>\n",
       "      <td>0.000000</td>\n",
       "      <td>0.000000</td>\n",
       "      <td>3.0</td>\n",
       "    </tr>\n",
       "    <tr>\n",
       "      <th>std_cluster_3</th>\n",
       "      <td>0.481521</td>\n",
       "      <td>0.000000</td>\n",
       "      <td>14.423002</td>\n",
       "      <td>0.549764</td>\n",
       "      <td>0.660564</td>\n",
       "      <td>52.245363</td>\n",
       "      <td>0.0</td>\n",
       "      <td>0.0</td>\n",
       "      <td>0.741855</td>\n",
       "      <td>0.865344</td>\n",
       "      <td>0.000000</td>\n",
       "      <td>0.000000</td>\n",
       "      <td>0.0</td>\n",
       "    </tr>\n",
       "    <tr>\n",
       "      <th>mean_cluster_4</th>\n",
       "      <td>0.921053</td>\n",
       "      <td>2.000000</td>\n",
       "      <td>28.980263</td>\n",
       "      <td>0.486842</td>\n",
       "      <td>0.605263</td>\n",
       "      <td>21.970121</td>\n",
       "      <td>1.0</td>\n",
       "      <td>0.0</td>\n",
       "      <td>12.547865</td>\n",
       "      <td>6.579432</td>\n",
       "      <td>1.000000</td>\n",
       "      <td>5.000000</td>\n",
       "      <td>4.0</td>\n",
       "    </tr>\n",
       "    <tr>\n",
       "      <th>std_cluster_4</th>\n",
       "      <td>0.271448</td>\n",
       "      <td>0.000000</td>\n",
       "      <td>12.855723</td>\n",
       "      <td>0.642774</td>\n",
       "      <td>0.833930</td>\n",
       "      <td>10.891796</td>\n",
       "      <td>0.0</td>\n",
       "      <td>0.0</td>\n",
       "      <td>0.381429</td>\n",
       "      <td>0.549136</td>\n",
       "      <td>0.000000</td>\n",
       "      <td>0.000000</td>\n",
       "      <td>0.0</td>\n",
       "    </tr>\n",
       "  </tbody>\n",
       "</table>\n",
       "</div>"
      ],
      "text/plain": [
       "                Survived    Pclass        Age  Siblings/Spouses Aboard  \\\n",
       "mean_cluster_0  0.141907  2.760532  27.434035                 0.465632   \n",
       "std_cluster_0   0.349342  0.427233  12.599386                 1.164491   \n",
       "mean_cluster_1  0.967742  1.000000  35.258065                 0.559140   \n",
       "std_cluster_1   0.177642  0.000000  13.329359                 0.666959   \n",
       "mean_cluster_2  0.500000  3.000000  22.135417                 0.895833   \n",
       "std_cluster_2   0.501745  0.000000  12.181031                 1.531573   \n",
       "mean_cluster_3  0.358333  1.000000  41.611833                 0.316667   \n",
       "std_cluster_3   0.481521  0.000000  14.423002                 0.549764   \n",
       "mean_cluster_4  0.921053  2.000000  28.980263                 0.486842   \n",
       "std_cluster_4   0.271448  0.000000  12.855723                 0.642774   \n",
       "\n",
       "                Parents/Children Aboard        Fare  Sex_female  Sex_male  \\\n",
       "mean_cluster_0                 0.226164   14.382832         0.0       1.0   \n",
       "std_cluster_0                  0.601722   12.913563         0.0       0.0   \n",
       "mean_cluster_1                 0.462366  101.758019         1.0       0.0   \n",
       "std_cluster_1                  0.730681   61.332784         0.0       0.0   \n",
       "mean_cluster_2                 0.798611   16.118810         1.0       0.0   \n",
       "std_cluster_2                  1.237976   11.690314         0.0       0.0   \n",
       "mean_cluster_3                 0.275000   59.807742         0.0       1.0   \n",
       "std_cluster_3                  0.660564   52.245363         0.0       0.0   \n",
       "mean_cluster_4                 0.605263   21.970121         1.0       0.0   \n",
       "std_cluster_4                  0.833930   10.891796         0.0       0.0   \n",
       "\n",
       "                        x          y  kmeans_labels  agg_labels  dbscan_labels  \n",
       "mean_cluster_0   0.566137   1.101711       2.478936    3.179601            0.0  \n",
       "std_cluster_0    4.198880   6.379756       0.854465    1.976783            0.0  \n",
       "mean_cluster_1  16.455843  15.528177       3.000000    2.000000            1.0  \n",
       "std_cluster_1    0.672490   0.375489       0.000000    0.000000            0.0  \n",
       "mean_cluster_2  17.276873  -4.228742       5.000000    6.416667            2.0  \n",
       "std_cluster_2    1.916643   1.326377       0.000000    1.431416            0.0  \n",
       "mean_cluster_3  -0.936938  18.118940       0.000000    0.000000            3.0  \n",
       "std_cluster_3    0.741855   0.865344       0.000000    0.000000            0.0  \n",
       "mean_cluster_4  12.547865   6.579432       1.000000    5.000000            4.0  \n",
       "std_cluster_4    0.381429   0.549136       0.000000    0.000000            0.0  "
      ]
     },
     "execution_count": 35,
     "metadata": {},
     "output_type": "execute_result"
    }
   ],
   "source": [
    "stats2 = {}\n",
    "for n in range(5):\n",
    "    stats2['mean_cluster_{}'.format(n)] = df[df['dbscan_labels']==n].mean()\n",
    "    stats2['std_cluster_{}'.format(n)] = df[df['dbscan_labels']==n].std()\n",
    "(pd.DataFrame(stats2)).transpose()"
   ]
  },
  {
   "cell_type": "code",
   "execution_count": null,
   "id": "3141ec49",
   "metadata": {},
   "outputs": [],
   "source": []
  },
  {
   "cell_type": "code",
   "execution_count": 120,
   "id": "dd112402",
   "metadata": {},
   "outputs": [
    {
     "data": {
      "text/plain": [
       "array([3], dtype=int64)"
      ]
     },
     "execution_count": 120,
     "metadata": {},
     "output_type": "execute_result"
    }
   ],
   "source": [
    "df[df['dbscan_labels']==0].Pclass.unique()"
   ]
  },
  {
   "cell_type": "markdown",
   "id": "68d3064c",
   "metadata": {},
   "source": [
    "# Looking at what DBSCAN calls outliers"
   ]
  },
  {
   "cell_type": "code",
   "execution_count": 36,
   "id": "878efba2",
   "metadata": {},
   "outputs": [
    {
     "data": {
      "text/html": [
       "<div>\n",
       "<style scoped>\n",
       "    .dataframe tbody tr th:only-of-type {\n",
       "        vertical-align: middle;\n",
       "    }\n",
       "\n",
       "    .dataframe tbody tr th {\n",
       "        vertical-align: top;\n",
       "    }\n",
       "\n",
       "    .dataframe thead th {\n",
       "        text-align: right;\n",
       "    }\n",
       "</style>\n",
       "<table border=\"1\" class=\"dataframe\">\n",
       "  <thead>\n",
       "    <tr style=\"text-align: right;\">\n",
       "      <th></th>\n",
       "      <th>Survived</th>\n",
       "      <th>Pclass</th>\n",
       "      <th>Age</th>\n",
       "      <th>Siblings/Spouses Aboard</th>\n",
       "      <th>Parents/Children Aboard</th>\n",
       "      <th>Fare</th>\n",
       "      <th>Sex_female</th>\n",
       "      <th>Sex_male</th>\n",
       "      <th>x</th>\n",
       "      <th>y</th>\n",
       "      <th>kmeans_labels</th>\n",
       "      <th>agg_labels</th>\n",
       "      <th>dbscan_labels</th>\n",
       "    </tr>\n",
       "  </thead>\n",
       "  <tbody>\n",
       "    <tr>\n",
       "      <th>257</th>\n",
       "      <td>1</td>\n",
       "      <td>1</td>\n",
       "      <td>35.0</td>\n",
       "      <td>0</td>\n",
       "      <td>0</td>\n",
       "      <td>512.3292</td>\n",
       "      <td>1</td>\n",
       "      <td>0</td>\n",
       "      <td>16.359047</td>\n",
       "      <td>15.503055</td>\n",
       "      <td>3</td>\n",
       "      <td>2</td>\n",
       "      <td>-1</td>\n",
       "    </tr>\n",
       "    <tr>\n",
       "      <th>676</th>\n",
       "      <td>1</td>\n",
       "      <td>1</td>\n",
       "      <td>36.0</td>\n",
       "      <td>0</td>\n",
       "      <td>1</td>\n",
       "      <td>512.3292</td>\n",
       "      <td>0</td>\n",
       "      <td>1</td>\n",
       "      <td>-1.203098</td>\n",
       "      <td>18.605043</td>\n",
       "      <td>0</td>\n",
       "      <td>0</td>\n",
       "      <td>-1</td>\n",
       "    </tr>\n",
       "    <tr>\n",
       "      <th>733</th>\n",
       "      <td>1</td>\n",
       "      <td>1</td>\n",
       "      <td>35.0</td>\n",
       "      <td>0</td>\n",
       "      <td>0</td>\n",
       "      <td>512.3292</td>\n",
       "      <td>0</td>\n",
       "      <td>1</td>\n",
       "      <td>-1.264813</td>\n",
       "      <td>18.636923</td>\n",
       "      <td>0</td>\n",
       "      <td>0</td>\n",
       "      <td>-1</td>\n",
       "    </tr>\n",
       "  </tbody>\n",
       "</table>\n",
       "</div>"
      ],
      "text/plain": [
       "     Survived  Pclass   Age  Siblings/Spouses Aboard  Parents/Children Aboard  \\\n",
       "257         1       1  35.0                        0                        0   \n",
       "676         1       1  36.0                        0                        1   \n",
       "733         1       1  35.0                        0                        0   \n",
       "\n",
       "         Fare  Sex_female  Sex_male          x          y  kmeans_labels  \\\n",
       "257  512.3292           1         0  16.359047  15.503055              3   \n",
       "676  512.3292           0         1  -1.203098  18.605043              0   \n",
       "733  512.3292           0         1  -1.264813  18.636923              0   \n",
       "\n",
       "     agg_labels  dbscan_labels  \n",
       "257           2             -1  \n",
       "676           0             -1  \n",
       "733           0             -1  "
      ]
     },
     "execution_count": 36,
     "metadata": {},
     "output_type": "execute_result"
    }
   ],
   "source": [
    "df[df['dbscan_labels']==-1]"
   ]
  },
  {
   "cell_type": "code",
   "execution_count": null,
   "id": "26817199",
   "metadata": {},
   "outputs": [],
   "source": []
  }
 ],
 "metadata": {
  "kernelspec": {
   "display_name": "Python 3",
   "language": "python",
   "name": "python3"
  },
  "language_info": {
   "codemirror_mode": {
    "name": "ipython",
    "version": 3
   },
   "file_extension": ".py",
   "mimetype": "text/x-python",
   "name": "python",
   "nbconvert_exporter": "python",
   "pygments_lexer": "ipython3",
   "version": "3.9.5"
  }
 },
 "nbformat": 4,
 "nbformat_minor": 5
}
