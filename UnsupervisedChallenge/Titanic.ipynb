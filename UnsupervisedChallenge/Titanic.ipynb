{
 "cells": [
  {
   "cell_type": "code",
   "execution_count": 1,
   "id": "4f26a5f9",
   "metadata": {},
   "outputs": [],
   "source": [
    "import numpy as np\n",
    "import pandas as pd\n",
    "import matplotlib.pyplot as plt\n",
    "import seaborn as sns\n",
    "from umap import UMAP\n",
    "from sklearn.decomposition import PCA\n",
    "from sklearn.preprocessing import StandardScaler, MinMaxScaler\n",
    "from sklearn.cluster import KMeans\n",
    "from scipy.cluster.hierarchy import dendrogram, linkage\n",
    "from sklearn.cluster import AgglomerativeClustering\n",
    "from sklearn.cluster import DBSCAN\n",
    "from sklearn.metrics import silhouette_score"
   ]
  },
  {
   "cell_type": "markdown",
   "id": "8740d75d",
   "metadata": {},
   "source": [
    "# Introduction\n",
    "\n",
    "For the challenge I chose to use the Titanic dataset.  It is easy to understand that passengers could be grouped by age, sex, or passenger class as well as wether or not they survived.  I am interested to see how machine learning groups this.  One possible application is that if a museum wanted to put a piece together, since there are 887 people listed in this dataset, it may be useful to cluster into groups of similar people and take 1 or two people from each group to showcase."
   ]
  },
  {
   "cell_type": "markdown",
   "id": "0f26b129",
   "metadata": {},
   "source": [
    "# Data\n",
    "\n",
    "The dataset I chose to explore is the famous Titanic dataset.  The dataset can be found here, https://web.stanford.edu/class/archive/cs/cs109/cs109.1166/problem12.html\n",
    "\n"
   ]
  },
  {
   "cell_type": "code",
   "execution_count": 2,
   "id": "7005e4cf",
   "metadata": {},
   "outputs": [],
   "source": [
    "df = pd.read_csv('titanic.csv')"
   ]
  },
  {
   "cell_type": "code",
   "execution_count": 3,
   "id": "b4f4a187",
   "metadata": {},
   "outputs": [
    {
     "data": {
      "text/plain": [
       "(887, 8)"
      ]
     },
     "execution_count": 3,
     "metadata": {},
     "output_type": "execute_result"
    }
   ],
   "source": [
    "df.shape"
   ]
  },
  {
   "cell_type": "code",
   "execution_count": 4,
   "id": "9519c9c4",
   "metadata": {},
   "outputs": [
    {
     "data": {
      "text/plain": [
       "Index(['Survived', 'Pclass', 'Name', 'Sex', 'Age', 'Siblings/Spouses Aboard',\n",
       "       'Parents/Children Aboard', 'Fare'],\n",
       "      dtype='object')"
      ]
     },
     "execution_count": 4,
     "metadata": {},
     "output_type": "execute_result"
    }
   ],
   "source": [
    "df.columns"
   ]
  },
  {
   "cell_type": "code",
   "execution_count": 5,
   "id": "9cadddb8",
   "metadata": {},
   "outputs": [],
   "source": [
    "df.drop('Name', axis=1, inplace=True)"
   ]
  },
  {
   "cell_type": "code",
   "execution_count": 6,
   "id": "d7f547a1",
   "metadata": {},
   "outputs": [
    {
     "data": {
      "text/html": [
       "<div>\n",
       "<style scoped>\n",
       "    .dataframe tbody tr th:only-of-type {\n",
       "        vertical-align: middle;\n",
       "    }\n",
       "\n",
       "    .dataframe tbody tr th {\n",
       "        vertical-align: top;\n",
       "    }\n",
       "\n",
       "    .dataframe thead th {\n",
       "        text-align: right;\n",
       "    }\n",
       "</style>\n",
       "<table border=\"1\" class=\"dataframe\">\n",
       "  <thead>\n",
       "    <tr style=\"text-align: right;\">\n",
       "      <th></th>\n",
       "      <th>Survived</th>\n",
       "      <th>Pclass</th>\n",
       "      <th>Sex</th>\n",
       "      <th>Age</th>\n",
       "      <th>Siblings/Spouses Aboard</th>\n",
       "      <th>Parents/Children Aboard</th>\n",
       "      <th>Fare</th>\n",
       "    </tr>\n",
       "  </thead>\n",
       "  <tbody>\n",
       "    <tr>\n",
       "      <th>0</th>\n",
       "      <td>0</td>\n",
       "      <td>3</td>\n",
       "      <td>male</td>\n",
       "      <td>22.0</td>\n",
       "      <td>1</td>\n",
       "      <td>0</td>\n",
       "      <td>7.2500</td>\n",
       "    </tr>\n",
       "    <tr>\n",
       "      <th>1</th>\n",
       "      <td>1</td>\n",
       "      <td>1</td>\n",
       "      <td>female</td>\n",
       "      <td>38.0</td>\n",
       "      <td>1</td>\n",
       "      <td>0</td>\n",
       "      <td>71.2833</td>\n",
       "    </tr>\n",
       "    <tr>\n",
       "      <th>2</th>\n",
       "      <td>1</td>\n",
       "      <td>3</td>\n",
       "      <td>female</td>\n",
       "      <td>26.0</td>\n",
       "      <td>0</td>\n",
       "      <td>0</td>\n",
       "      <td>7.9250</td>\n",
       "    </tr>\n",
       "    <tr>\n",
       "      <th>3</th>\n",
       "      <td>1</td>\n",
       "      <td>1</td>\n",
       "      <td>female</td>\n",
       "      <td>35.0</td>\n",
       "      <td>1</td>\n",
       "      <td>0</td>\n",
       "      <td>53.1000</td>\n",
       "    </tr>\n",
       "    <tr>\n",
       "      <th>4</th>\n",
       "      <td>0</td>\n",
       "      <td>3</td>\n",
       "      <td>male</td>\n",
       "      <td>35.0</td>\n",
       "      <td>0</td>\n",
       "      <td>0</td>\n",
       "      <td>8.0500</td>\n",
       "    </tr>\n",
       "  </tbody>\n",
       "</table>\n",
       "</div>"
      ],
      "text/plain": [
       "   Survived  Pclass     Sex   Age  Siblings/Spouses Aboard  \\\n",
       "0         0       3    male  22.0                        1   \n",
       "1         1       1  female  38.0                        1   \n",
       "2         1       3  female  26.0                        0   \n",
       "3         1       1  female  35.0                        1   \n",
       "4         0       3    male  35.0                        0   \n",
       "\n",
       "   Parents/Children Aboard     Fare  \n",
       "0                        0   7.2500  \n",
       "1                        0  71.2833  \n",
       "2                        0   7.9250  \n",
       "3                        0  53.1000  \n",
       "4                        0   8.0500  "
      ]
     },
     "execution_count": 6,
     "metadata": {},
     "output_type": "execute_result"
    }
   ],
   "source": [
    "df.head()"
   ]
  },
  {
   "cell_type": "code",
   "execution_count": 7,
   "id": "7aa9e2d5",
   "metadata": {},
   "outputs": [
    {
     "data": {
      "text/plain": [
       "Survived                   0\n",
       "Pclass                     0\n",
       "Sex                        0\n",
       "Age                        0\n",
       "Siblings/Spouses Aboard    0\n",
       "Parents/Children Aboard    0\n",
       "Fare                       0\n",
       "dtype: int64"
      ]
     },
     "execution_count": 7,
     "metadata": {},
     "output_type": "execute_result"
    }
   ],
   "source": [
    "df.isnull().sum()"
   ]
  },
  {
   "cell_type": "code",
   "execution_count": 8,
   "id": "01f82e70",
   "metadata": {},
   "outputs": [],
   "source": [
    "df = pd.get_dummies(df) # maybe instead of get dummies replace with 1 male -1 female"
   ]
  },
  {
   "cell_type": "code",
   "execution_count": 9,
   "id": "d8c485a4",
   "metadata": {},
   "outputs": [
    {
     "data": {
      "text/html": [
       "<div>\n",
       "<style scoped>\n",
       "    .dataframe tbody tr th:only-of-type {\n",
       "        vertical-align: middle;\n",
       "    }\n",
       "\n",
       "    .dataframe tbody tr th {\n",
       "        vertical-align: top;\n",
       "    }\n",
       "\n",
       "    .dataframe thead th {\n",
       "        text-align: right;\n",
       "    }\n",
       "</style>\n",
       "<table border=\"1\" class=\"dataframe\">\n",
       "  <thead>\n",
       "    <tr style=\"text-align: right;\">\n",
       "      <th></th>\n",
       "      <th>Survived</th>\n",
       "      <th>Pclass</th>\n",
       "      <th>Age</th>\n",
       "      <th>Siblings/Spouses Aboard</th>\n",
       "      <th>Parents/Children Aboard</th>\n",
       "      <th>Fare</th>\n",
       "      <th>Sex_female</th>\n",
       "      <th>Sex_male</th>\n",
       "    </tr>\n",
       "  </thead>\n",
       "  <tbody>\n",
       "    <tr>\n",
       "      <th>0</th>\n",
       "      <td>0</td>\n",
       "      <td>3</td>\n",
       "      <td>22.0</td>\n",
       "      <td>1</td>\n",
       "      <td>0</td>\n",
       "      <td>7.2500</td>\n",
       "      <td>0</td>\n",
       "      <td>1</td>\n",
       "    </tr>\n",
       "    <tr>\n",
       "      <th>1</th>\n",
       "      <td>1</td>\n",
       "      <td>1</td>\n",
       "      <td>38.0</td>\n",
       "      <td>1</td>\n",
       "      <td>0</td>\n",
       "      <td>71.2833</td>\n",
       "      <td>1</td>\n",
       "      <td>0</td>\n",
       "    </tr>\n",
       "    <tr>\n",
       "      <th>2</th>\n",
       "      <td>1</td>\n",
       "      <td>3</td>\n",
       "      <td>26.0</td>\n",
       "      <td>0</td>\n",
       "      <td>0</td>\n",
       "      <td>7.9250</td>\n",
       "      <td>1</td>\n",
       "      <td>0</td>\n",
       "    </tr>\n",
       "    <tr>\n",
       "      <th>3</th>\n",
       "      <td>1</td>\n",
       "      <td>1</td>\n",
       "      <td>35.0</td>\n",
       "      <td>1</td>\n",
       "      <td>0</td>\n",
       "      <td>53.1000</td>\n",
       "      <td>1</td>\n",
       "      <td>0</td>\n",
       "    </tr>\n",
       "    <tr>\n",
       "      <th>4</th>\n",
       "      <td>0</td>\n",
       "      <td>3</td>\n",
       "      <td>35.0</td>\n",
       "      <td>0</td>\n",
       "      <td>0</td>\n",
       "      <td>8.0500</td>\n",
       "      <td>0</td>\n",
       "      <td>1</td>\n",
       "    </tr>\n",
       "  </tbody>\n",
       "</table>\n",
       "</div>"
      ],
      "text/plain": [
       "   Survived  Pclass   Age  Siblings/Spouses Aboard  Parents/Children Aboard  \\\n",
       "0         0       3  22.0                        1                        0   \n",
       "1         1       1  38.0                        1                        0   \n",
       "2         1       3  26.0                        0                        0   \n",
       "3         1       1  35.0                        1                        0   \n",
       "4         0       3  35.0                        0                        0   \n",
       "\n",
       "      Fare  Sex_female  Sex_male  \n",
       "0   7.2500           0         1  \n",
       "1  71.2833           1         0  \n",
       "2   7.9250           1         0  \n",
       "3  53.1000           1         0  \n",
       "4   8.0500           0         1  "
      ]
     },
     "execution_count": 9,
     "metadata": {},
     "output_type": "execute_result"
    }
   ],
   "source": [
    "df.head()"
   ]
  },
  {
   "cell_type": "markdown",
   "id": "afd409de",
   "metadata": {},
   "source": [
    "# Initial 2D view of the dataset using PCA and UMAP\n"
   ]
  },
  {
   "cell_type": "code",
   "execution_count": 10,
   "id": "0235896b",
   "metadata": {},
   "outputs": [],
   "source": [
    "#X_initial = StandardScaler().fit_transform(X)\n",
    "X_initial = MinMaxScaler().fit_transform(df)"
   ]
  },
  {
   "cell_type": "code",
   "execution_count": 11,
   "id": "463e10f8",
   "metadata": {},
   "outputs": [],
   "source": [
    "pca = PCA(n_components=2)"
   ]
  },
  {
   "cell_type": "code",
   "execution_count": 12,
   "id": "2d11ca50",
   "metadata": {},
   "outputs": [],
   "source": [
    "X_2d_pca = pca.fit_transform(X_initial)"
   ]
  },
  {
   "cell_type": "code",
   "execution_count": 13,
   "id": "f4c32b36",
   "metadata": {},
   "outputs": [
    {
     "data": {
      "text/plain": [
       "<AxesSubplot:>"
      ]
     },
     "execution_count": 13,
     "metadata": {},
     "output_type": "execute_result"
    },
    {
     "data": {
      "image/png": "[encoded data removed]",
      "text/plain": [
       "<Figure size 432x288 with 1 Axes>"
      ]
     },
     "metadata": {
      "needs_background": "light"
     },
     "output_type": "display_data"
    }
   ],
   "source": [
    "sns.scatterplot(x=X_2d_pca[:,0],y=X_2d_pca[:,1])"
   ]
  },
  {
   "cell_type": "markdown",
   "id": "87441916",
   "metadata": {},
   "source": [
    "As PCA preserves distance, the image shows that there are definite clusters distanct from eachother.  Although nothing can be inferred, a cluster number of at least 6 seems reasonable."
   ]
  },
  {
   "cell_type": "code",
   "execution_count": 14,
   "id": "7e0e02dd",
   "metadata": {},
   "outputs": [],
   "source": [
    "umap2 = UMAP(n_components=2)"
   ]
  },
  {
   "cell_type": "code",
   "execution_count": 15,
   "id": "8905e2a0",
   "metadata": {},
   "outputs": [],
   "source": [
    "X_initial_2d = umap2.fit_transform(X_initial)"
   ]
  },
  {
   "cell_type": "code",
   "execution_count": 16,
   "id": "8979f7f6",
   "metadata": {},
   "outputs": [
    {
     "data": {
      "text/plain": [
       "<AxesSubplot:>"
      ]
     },
     "execution_count": 16,
     "metadata": {},
     "output_type": "execute_result"
    },
    {
     "data": {
      "image/png": "[encoded data removed]",
      "text/plain": [
       "<Figure size 432x288 with 1 Axes>"
      ]
     },
     "metadata": {
      "needs_background": "light"
     },
     "output_type": "display_data"
    }
   ],
   "source": [
    "sns.scatterplot(x=X_initial_2d[:,0],y=X_initial_2d[:,1])"
   ]
  },
  {
   "cell_type": "markdown",
   "id": "c63ff0a2",
   "metadata": {},
   "source": [
    "Although nothing can be inferred, there appear to be ten or more clusters."
   ]
  },
  {
   "cell_type": "code",
   "execution_count": 17,
   "id": "e1fcc7db",
   "metadata": {},
   "outputs": [],
   "source": [
    "df['x'] = X_initial_2d[:,0]\n",
    "df['y'] = X_initial_2d[:,1]"
   ]
  },
  {
   "cell_type": "markdown",
   "id": "930c42fd",
   "metadata": {},
   "source": [
    "# Clustering all data using KMeans\n",
    "\n",
    "* use inertia to find the best k or k values\n",
    "* Check consistency (will do this eventually when I pick the clustering method)\n",
    "* Look at silhouette score"
   ]
  },
  {
   "cell_type": "code",
   "execution_count": 18,
   "id": "465b7e41",
   "metadata": {
    "scrolled": true
   },
   "outputs": [],
   "source": [
    "inertia_values = []\n",
    "for n in range(2,21):\n",
    "    kmeans = KMeans(n_clusters=n)\n",
    "    kmeans.fit(X_initial)\n",
    "    inertia_values.append((n,kmeans.inertia_))\n",
    "results = list(zip(*inertia_values))\n"
   ]
  },
  {
   "cell_type": "code",
   "execution_count": 19,
   "id": "a4dacb4e",
   "metadata": {},
   "outputs": [
    {
     "data": {
      "text/plain": [
       "<AxesSubplot:>"
      ]
     },
     "execution_count": 19,
     "metadata": {},
     "output_type": "execute_result"
    },
    {
     "data": {
      "image/png": "[encoded data removed]",
      "text/plain": [
       "<Figure size 432x288 with 1 Axes>"
      ]
     },
     "metadata": {
      "needs_background": "light"
     },
     "output_type": "display_data"
    }
   ],
   "source": [
    "sns.lineplot(x=results[0],y=results[1])"
   ]
  },
  {
   "cell_type": "markdown",
   "id": "a17386ee",
   "metadata": {},
   "source": [
    "It is hard to see an elbow.  I would say 6 or 10."
   ]
  },
  {
   "cell_type": "markdown",
   "id": "c32c07aa",
   "metadata": {},
   "source": [
    "Checking for a more pronounced elbow by adjusting other parameters of the k means algorithm"
   ]
  },
  {
   "cell_type": "code",
   "execution_count": 20,
   "id": "1ba5a223",
   "metadata": {},
   "outputs": [
    {
     "data": {
      "text/plain": [
       "<AxesSubplot:>"
      ]
     },
     "execution_count": 20,
     "metadata": {},
     "output_type": "execute_result"
    },
    {
     "data": {
      "image/png": "[encoded data removed]",
      "text/plain": [
       "<Figure size 432x288 with 1 Axes>"
      ]
     },
     "metadata": {
      "needs_background": "light"
     },
     "output_type": "display_data"
    }
   ],
   "source": [
    "inertia_values = []\n",
    "for n in range(2,21):\n",
    "    kmeans = KMeans(n_clusters=n, algorithm='full')\n",
    "    kmeans.fit(X_initial)\n",
    "    inertia_values.append((n,kmeans.inertia_))\n",
    "results = list(zip(*inertia_values))\n",
    "sns.lineplot(x=results[0],y=results[1])"
   ]
  },
  {
   "cell_type": "code",
   "execution_count": 21,
   "id": "1b23391e",
   "metadata": {},
   "outputs": [
    {
     "data": {
      "text/plain": [
       "<AxesSubplot:>"
      ]
     },
     "execution_count": 21,
     "metadata": {},
     "output_type": "execute_result"
    },
    {
     "data": {
      "image/png": "[encoded data removed]",
      "text/plain": [
       "<Figure size 432x288 with 1 Axes>"
      ]
     },
     "metadata": {
      "needs_background": "light"
     },
     "output_type": "display_data"
    }
   ],
   "source": [
    "inertia_values = []\n",
    "for n in range(2,21):\n",
    "    kmeans = KMeans(n_clusters=n, algorithm='elkan')\n",
    "    kmeans.fit(X_initial)\n",
    "    inertia_values.append((n,kmeans.inertia_))\n",
    "results = list(zip(*inertia_values))\n",
    "sns.lineplot(x=results[0],y=results[1])"
   ]
  },
  {
   "cell_type": "markdown",
   "id": "e2549a34",
   "metadata": {},
   "source": [
    "The three graphs look similar.  I will choose 9 for kmeans"
   ]
  },
  {
   "cell_type": "code",
   "execution_count": 27,
   "id": "4e71993d",
   "metadata": {},
   "outputs": [],
   "source": [
    "kmeans = KMeans(n_clusters=10)\n",
    "#labels = kmeans.fit_predict(X_initial)\n",
    "df['kmeans_labels'] = kmeans.fit_predict(X_initial)"
   ]
  },
  {
   "cell_type": "markdown",
   "id": "2ee363a4",
   "metadata": {},
   "source": [
    "Visualizing the data"
   ]
  },
  {
   "cell_type": "code",
   "execution_count": 29,
   "id": "362f8723",
   "metadata": {},
   "outputs": [
    {
     "data": {
      "text/plain": [
       "<AxesSubplot:xlabel='x', ylabel='y'>"
      ]
     },
     "execution_count": 29,
     "metadata": {},
     "output_type": "execute_result"
    },
    {
     "data": {
      "image/png": "[encoded data removed]",
      "text/plain": [
       "<Figure size 432x288 with 1 Axes>"
      ]
     },
     "metadata": {
      "needs_background": "light"
     },
     "output_type": "display_data"
    }
   ],
   "source": [
    "sns.scatterplot(x='x',y='y', hue='kmeans_labels', data=df, palette='gist_rainbow', s=50)\n",
    "#sns.scatterplot(x=X_initial_2d[:,0],y=X_initial_2d[:,1], hue=labels, palette='gist_rainbow', s=50)"
   ]
  },
  {
   "cell_type": "markdown",
   "id": "953a40de",
   "metadata": {},
   "source": [
    "Kmeans does seems to seperate groups nicely"
   ]
  },
  {
   "cell_type": "code",
   "execution_count": 28,
   "id": "fc18e52f",
   "metadata": {},
   "outputs": [
    {
     "data": {
      "text/plain": [
       "0.5857005170655759"
      ]
     },
     "execution_count": 28,
     "metadata": {},
     "output_type": "execute_result"
    }
   ],
   "source": [
    "silhouette_score(X_initial, df['kmeans_labels'])"
   ]
  },
  {
   "cell_type": "markdown",
   "id": "859e96c7",
   "metadata": {},
   "source": [
    "A 0.5 silhouette_score is not bad.  Now I am going to check for consistency using visualizations."
   ]
  },
  {
   "cell_type": "code",
   "execution_count": null,
   "id": "5f5f79d2",
   "metadata": {},
   "outputs": [],
   "source": []
  },
  {
   "cell_type": "markdown",
   "id": "340016e7",
   "metadata": {},
   "source": [
    "# Hierarchal Clustering"
   ]
  },
  {
   "cell_type": "code",
   "execution_count": 30,
   "id": "8a292092",
   "metadata": {},
   "outputs": [
    {
     "data": {
      "image/png": "[encoded data removed]",
      "text/plain": [
       "<Figure size 2160x1440 with 1 Axes>"
      ]
     },
     "metadata": {
      "needs_background": "light"
     },
     "output_type": "display_data"
    }
   ],
   "source": [
    "plt.figure(figsize=(30,20))\n",
    "dendrogram(linkage(X_initial, method='complete'))\n",
    "plt.show()"
   ]
  },
  {
   "cell_type": "markdown",
   "id": "2633303e",
   "metadata": {},
   "source": [
    "In order to incorporate all the various colors, you will want the number of clusters to be at least 8. I picked a y of approximately 12 as a cutoff which makes 9 clusters."
   ]
  },
  {
   "cell_type": "code",
   "execution_count": 47,
   "id": "87ffc001",
   "metadata": {},
   "outputs": [],
   "source": [
    "agg = AgglomerativeClustering(n_clusters=9)"
   ]
  },
  {
   "cell_type": "code",
   "execution_count": 48,
   "id": "d5eb849f",
   "metadata": {},
   "outputs": [
    {
     "data": {
      "text/plain": [
       "AgglomerativeClustering(n_clusters=9)"
      ]
     },
     "execution_count": 48,
     "metadata": {},
     "output_type": "execute_result"
    }
   ],
   "source": [
    "agg.fit(X_initial)"
   ]
  },
  {
   "cell_type": "code",
   "execution_count": 49,
   "id": "80369e04",
   "metadata": {},
   "outputs": [],
   "source": [
    "df['agg_labels'] = agg.fit_predict(X_initial)"
   ]
  },
  {
   "cell_type": "code",
   "execution_count": 50,
   "id": "7f316552",
   "metadata": {},
   "outputs": [
    {
     "data": {
      "text/plain": [
       "0.5842505171590076"
      ]
     },
     "execution_count": 50,
     "metadata": {},
     "output_type": "execute_result"
    }
   ],
   "source": [
    "silhouette_score(X_initial, df['agg_labels'])"
   ]
  },
  {
   "cell_type": "code",
   "execution_count": 42,
   "id": "fbf00709",
   "metadata": {},
   "outputs": [],
   "source": [
    "# need to play more with this"
   ]
  },
  {
   "cell_type": "markdown",
   "id": "8d90609d",
   "metadata": {},
   "source": [
    "# Clustering using DBSCAN"
   ]
  },
  {
   "cell_type": "code",
   "execution_count": 35,
   "id": "1a118319",
   "metadata": {},
   "outputs": [],
   "source": [
    "db = DBSCAN()"
   ]
  },
  {
   "cell_type": "code",
   "execution_count": 36,
   "id": "847c7290",
   "metadata": {},
   "outputs": [],
   "source": [
    "df['dbscan_labels']=db.fit_predict(X_initial)"
   ]
  },
  {
   "cell_type": "code",
   "execution_count": 37,
   "id": "148afeb7",
   "metadata": {},
   "outputs": [
    {
     "data": {
      "text/plain": [
       "0.545835073969786"
      ]
     },
     "execution_count": 37,
     "metadata": {},
     "output_type": "execute_result"
    }
   ],
   "source": [
    "# now get the silhouette score for those that are not outlers\n",
    "silhouette_score(X_initial[df['dbscan_labels']!=-1],df[df['dbscan_labels']!=-1]['dbscan_labels'])"
   ]
  },
  {
   "cell_type": "code",
   "execution_count": 38,
   "id": "f64d3165",
   "metadata": {},
   "outputs": [
    {
     "data": {
      "text/plain": [
       "9"
      ]
     },
     "execution_count": 38,
     "metadata": {},
     "output_type": "execute_result"
    }
   ],
   "source": [
    "df['dbscan_labels'].max()"
   ]
  },
  {
   "cell_type": "markdown",
   "id": "0f94922a",
   "metadata": {},
   "source": [
    "DBSCAN chose 9 clusters which the elbow method originally also suggested."
   ]
  },
  {
   "cell_type": "markdown",
   "id": "a678bd02",
   "metadata": {},
   "source": [
    "# Comparing clusters\n",
    "\n",
    "## How they are grouped"
   ]
  },
  {
   "cell_type": "code",
   "execution_count": 45,
   "id": "9653947e",
   "metadata": {},
   "outputs": [
    {
     "data": {
      "text/html": [
       "<div>\n",
       "<style scoped>\n",
       "    .dataframe tbody tr th:only-of-type {\n",
       "        vertical-align: middle;\n",
       "    }\n",
       "\n",
       "    .dataframe tbody tr th {\n",
       "        vertical-align: top;\n",
       "    }\n",
       "\n",
       "    .dataframe thead th {\n",
       "        text-align: right;\n",
       "    }\n",
       "</style>\n",
       "<table border=\"1\" class=\"dataframe\">\n",
       "  <thead>\n",
       "    <tr style=\"text-align: right;\">\n",
       "      <th></th>\n",
       "      <th>Survived</th>\n",
       "      <th>Pclass</th>\n",
       "      <th>Age</th>\n",
       "      <th>Siblings/Spouses Aboard</th>\n",
       "      <th>Parents/Children Aboard</th>\n",
       "      <th>Fare</th>\n",
       "      <th>Sex_female</th>\n",
       "      <th>Sex_male</th>\n",
       "      <th>x</th>\n",
       "      <th>y</th>\n",
       "      <th>kmeans_labels</th>\n",
       "      <th>agg_labels</th>\n",
       "      <th>dbscan_labels</th>\n",
       "    </tr>\n",
       "  </thead>\n",
       "  <tbody>\n",
       "    <tr>\n",
       "      <th>std_cluster_0</th>\n",
       "      <td>0.0</td>\n",
       "      <td>0.450309</td>\n",
       "      <td>13.856058</td>\n",
       "      <td>1.814635</td>\n",
       "      <td>1.391442</td>\n",
       "      <td>24.821287</td>\n",
       "      <td>0.0</td>\n",
       "      <td>0.0</td>\n",
       "      <td>0.523039</td>\n",
       "      <td>0.646285</td>\n",
       "      <td>0.0</td>\n",
       "      <td>0.000000</td>\n",
       "      <td>1.595131</td>\n",
       "    </tr>\n",
       "    <tr>\n",
       "      <th>std_cluster_1</th>\n",
       "      <td>0.0</td>\n",
       "      <td>0.000000</td>\n",
       "      <td>10.140930</td>\n",
       "      <td>1.970943</td>\n",
       "      <td>0.980581</td>\n",
       "      <td>14.728817</td>\n",
       "      <td>0.0</td>\n",
       "      <td>0.0</td>\n",
       "      <td>1.693916</td>\n",
       "      <td>0.253333</td>\n",
       "      <td>0.0</td>\n",
       "      <td>1.954876</td>\n",
       "      <td>0.000000</td>\n",
       "    </tr>\n",
       "    <tr>\n",
       "      <th>std_cluster_2</th>\n",
       "      <td>0.0</td>\n",
       "      <td>0.000000</td>\n",
       "      <td>13.661642</td>\n",
       "      <td>0.553372</td>\n",
       "      <td>0.656999</td>\n",
       "      <td>60.052545</td>\n",
       "      <td>0.0</td>\n",
       "      <td>0.0</td>\n",
       "      <td>0.748045</td>\n",
       "      <td>0.316787</td>\n",
       "      <td>0.0</td>\n",
       "      <td>0.000000</td>\n",
       "      <td>0.000000</td>\n",
       "    </tr>\n",
       "    <tr>\n",
       "      <th>std_cluster_3</th>\n",
       "      <td>0.0</td>\n",
       "      <td>0.000000</td>\n",
       "      <td>12.763295</td>\n",
       "      <td>0.653704</td>\n",
       "      <td>0.851864</td>\n",
       "      <td>11.140937</td>\n",
       "      <td>0.0</td>\n",
       "      <td>0.0</td>\n",
       "      <td>0.504141</td>\n",
       "      <td>0.387539</td>\n",
       "      <td>0.0</td>\n",
       "      <td>0.000000</td>\n",
       "      <td>0.000000</td>\n",
       "    </tr>\n",
       "    <tr>\n",
       "      <th>std_cluster_4</th>\n",
       "      <td>0.0</td>\n",
       "      <td>0.147442</td>\n",
       "      <td>14.646618</td>\n",
       "      <td>0.531610</td>\n",
       "      <td>0.662305</td>\n",
       "      <td>100.408695</td>\n",
       "      <td>0.0</td>\n",
       "      <td>0.0</td>\n",
       "      <td>0.396777</td>\n",
       "      <td>0.353216</td>\n",
       "      <td>0.0</td>\n",
       "      <td>0.000000</td>\n",
       "      <td>1.651379</td>\n",
       "    </tr>\n",
       "    <tr>\n",
       "      <th>std_cluster_5</th>\n",
       "      <td>0.0</td>\n",
       "      <td>0.000000</td>\n",
       "      <td>10.739342</td>\n",
       "      <td>0.440357</td>\n",
       "      <td>0.285522</td>\n",
       "      <td>5.674517</td>\n",
       "      <td>0.0</td>\n",
       "      <td>0.0</td>\n",
       "      <td>4.521581</td>\n",
       "      <td>5.390837</td>\n",
       "      <td>0.0</td>\n",
       "      <td>0.000000</td>\n",
       "      <td>0.000000</td>\n",
       "    </tr>\n",
       "    <tr>\n",
       "      <th>std_cluster_6</th>\n",
       "      <td>0.0</td>\n",
       "      <td>0.000000</td>\n",
       "      <td>10.940216</td>\n",
       "      <td>0.888106</td>\n",
       "      <td>0.919277</td>\n",
       "      <td>5.984714</td>\n",
       "      <td>0.0</td>\n",
       "      <td>0.0</td>\n",
       "      <td>0.462113</td>\n",
       "      <td>0.453215</td>\n",
       "      <td>0.0</td>\n",
       "      <td>0.000000</td>\n",
       "      <td>0.000000</td>\n",
       "    </tr>\n",
       "    <tr>\n",
       "      <th>std_cluster_7</th>\n",
       "      <td>0.0</td>\n",
       "      <td>0.438776</td>\n",
       "      <td>12.735524</td>\n",
       "      <td>0.708011</td>\n",
       "      <td>0.636008</td>\n",
       "      <td>14.230985</td>\n",
       "      <td>0.0</td>\n",
       "      <td>0.0</td>\n",
       "      <td>5.988660</td>\n",
       "      <td>3.017246</td>\n",
       "      <td>0.0</td>\n",
       "      <td>2.193880</td>\n",
       "      <td>0.877552</td>\n",
       "    </tr>\n",
       "    <tr>\n",
       "      <th>std_cluster_8</th>\n",
       "      <td>0.0</td>\n",
       "      <td>0.000000</td>\n",
       "      <td>12.870416</td>\n",
       "      <td>0.671048</td>\n",
       "      <td>0.701472</td>\n",
       "      <td>74.738897</td>\n",
       "      <td>0.0</td>\n",
       "      <td>0.0</td>\n",
       "      <td>0.354293</td>\n",
       "      <td>0.598152</td>\n",
       "      <td>0.0</td>\n",
       "      <td>0.000000</td>\n",
       "      <td>0.209657</td>\n",
       "    </tr>\n",
       "    <tr>\n",
       "      <th>std_cluster_9</th>\n",
       "      <td>0.0</td>\n",
       "      <td>0.000000</td>\n",
       "      <td>12.019198</td>\n",
       "      <td>0.551610</td>\n",
       "      <td>0.436436</td>\n",
       "      <td>15.720548</td>\n",
       "      <td>0.0</td>\n",
       "      <td>0.0</td>\n",
       "      <td>0.456305</td>\n",
       "      <td>1.074977</td>\n",
       "      <td>0.0</td>\n",
       "      <td>0.000000</td>\n",
       "      <td>0.000000</td>\n",
       "    </tr>\n",
       "  </tbody>\n",
       "</table>\n",
       "</div>"
      ],
      "text/plain": [
       "               Survived    Pclass        Age  Siblings/Spouses Aboard  \\\n",
       "std_cluster_0       0.0  0.450309  13.856058                 1.814635   \n",
       "std_cluster_1       0.0  0.000000  10.140930                 1.970943   \n",
       "std_cluster_2       0.0  0.000000  13.661642                 0.553372   \n",
       "std_cluster_3       0.0  0.000000  12.763295                 0.653704   \n",
       "std_cluster_4       0.0  0.147442  14.646618                 0.531610   \n",
       "std_cluster_5       0.0  0.000000  10.739342                 0.440357   \n",
       "std_cluster_6       0.0  0.000000  10.940216                 0.888106   \n",
       "std_cluster_7       0.0  0.438776  12.735524                 0.708011   \n",
       "std_cluster_8       0.0  0.000000  12.870416                 0.671048   \n",
       "std_cluster_9       0.0  0.000000  12.019198                 0.551610   \n",
       "\n",
       "               Parents/Children Aboard        Fare  Sex_female  Sex_male  \\\n",
       "std_cluster_0                 1.391442   24.821287         0.0       0.0   \n",
       "std_cluster_1                 0.980581   14.728817         0.0       0.0   \n",
       "std_cluster_2                 0.656999   60.052545         0.0       0.0   \n",
       "std_cluster_3                 0.851864   11.140937         0.0       0.0   \n",
       "std_cluster_4                 0.662305  100.408695         0.0       0.0   \n",
       "std_cluster_5                 0.285522    5.674517         0.0       0.0   \n",
       "std_cluster_6                 0.919277    5.984714         0.0       0.0   \n",
       "std_cluster_7                 0.636008   14.230985         0.0       0.0   \n",
       "std_cluster_8                 0.701472   74.738897         0.0       0.0   \n",
       "std_cluster_9                 0.436436   15.720548         0.0       0.0   \n",
       "\n",
       "                      x         y  kmeans_labels  agg_labels  dbscan_labels  \n",
       "std_cluster_0  0.523039  0.646285            0.0    0.000000       1.595131  \n",
       "std_cluster_1  1.693916  0.253333            0.0    1.954876       0.000000  \n",
       "std_cluster_2  0.748045  0.316787            0.0    0.000000       0.000000  \n",
       "std_cluster_3  0.504141  0.387539            0.0    0.000000       0.000000  \n",
       "std_cluster_4  0.396777  0.353216            0.0    0.000000       1.651379  \n",
       "std_cluster_5  4.521581  5.390837            0.0    0.000000       0.000000  \n",
       "std_cluster_6  0.462113  0.453215            0.0    0.000000       0.000000  \n",
       "std_cluster_7  5.988660  3.017246            0.0    2.193880       0.877552  \n",
       "std_cluster_8  0.354293  0.598152            0.0    0.000000       0.209657  \n",
       "std_cluster_9  0.456305  1.074977            0.0    0.000000       0.000000  "
      ]
     },
     "execution_count": 45,
     "metadata": {},
     "output_type": "execute_result"
    }
   ],
   "source": [
    "stats = {}\n",
    "for n in range(10):\n",
    "    #stats['mean_cluster_{}'.format(n)] = df[df['kmeans_labels']==n].mean()\n",
    "    stats['std_cluster_{}'.format(n)] = df[df['kmeans_labels']==n].std()\n",
    "(pd.DataFrame(stats)).transpose()\n",
    "    "
   ]
  },
  {
   "cell_type": "code",
   "execution_count": 52,
   "id": "2786def5",
   "metadata": {},
   "outputs": [
    {
     "data": {
      "text/html": [
       "<div>\n",
       "<style scoped>\n",
       "    .dataframe tbody tr th:only-of-type {\n",
       "        vertical-align: middle;\n",
       "    }\n",
       "\n",
       "    .dataframe tbody tr th {\n",
       "        vertical-align: top;\n",
       "    }\n",
       "\n",
       "    .dataframe thead th {\n",
       "        text-align: right;\n",
       "    }\n",
       "</style>\n",
       "<table border=\"1\" class=\"dataframe\">\n",
       "  <thead>\n",
       "    <tr style=\"text-align: right;\">\n",
       "      <th></th>\n",
       "      <th>Survived</th>\n",
       "      <th>Pclass</th>\n",
       "      <th>Age</th>\n",
       "      <th>Siblings/Spouses Aboard</th>\n",
       "      <th>Parents/Children Aboard</th>\n",
       "      <th>Fare</th>\n",
       "      <th>Sex_female</th>\n",
       "      <th>Sex_male</th>\n",
       "      <th>x</th>\n",
       "      <th>y</th>\n",
       "      <th>kmeans_labels</th>\n",
       "      <th>agg_labels</th>\n",
       "      <th>dbscan_labels</th>\n",
       "    </tr>\n",
       "  </thead>\n",
       "  <tbody>\n",
       "    <tr>\n",
       "      <th>std_cluster_0</th>\n",
       "      <td>0.0</td>\n",
       "      <td>0.501720</td>\n",
       "      <td>12.417150</td>\n",
       "      <td>0.778674</td>\n",
       "      <td>0.886446</td>\n",
       "      <td>10.152416</td>\n",
       "      <td>0.0</td>\n",
       "      <td>0.0</td>\n",
       "      <td>4.409052</td>\n",
       "      <td>0.777132</td>\n",
       "      <td>1.505160</td>\n",
       "      <td>0.0</td>\n",
       "      <td>1.003440</td>\n",
       "    </tr>\n",
       "    <tr>\n",
       "      <th>std_cluster_1</th>\n",
       "      <td>0.0</td>\n",
       "      <td>0.450309</td>\n",
       "      <td>13.856058</td>\n",
       "      <td>1.814635</td>\n",
       "      <td>1.391442</td>\n",
       "      <td>24.821287</td>\n",
       "      <td>0.0</td>\n",
       "      <td>0.0</td>\n",
       "      <td>0.523039</td>\n",
       "      <td>0.646285</td>\n",
       "      <td>0.000000</td>\n",
       "      <td>0.0</td>\n",
       "      <td>1.595131</td>\n",
       "    </tr>\n",
       "    <tr>\n",
       "      <th>std_cluster_2</th>\n",
       "      <td>0.0</td>\n",
       "      <td>0.000000</td>\n",
       "      <td>10.747688</td>\n",
       "      <td>0.446412</td>\n",
       "      <td>0.507008</td>\n",
       "      <td>6.084348</td>\n",
       "      <td>0.0</td>\n",
       "      <td>0.0</td>\n",
       "      <td>4.528450</td>\n",
       "      <td>5.388938</td>\n",
       "      <td>0.417769</td>\n",
       "      <td>0.0</td>\n",
       "      <td>0.000000</td>\n",
       "    </tr>\n",
       "    <tr>\n",
       "      <th>std_cluster_3</th>\n",
       "      <td>0.0</td>\n",
       "      <td>0.000000</td>\n",
       "      <td>13.661642</td>\n",
       "      <td>0.553372</td>\n",
       "      <td>0.656999</td>\n",
       "      <td>60.052545</td>\n",
       "      <td>0.0</td>\n",
       "      <td>0.0</td>\n",
       "      <td>0.748045</td>\n",
       "      <td>0.316787</td>\n",
       "      <td>0.000000</td>\n",
       "      <td>0.0</td>\n",
       "      <td>0.000000</td>\n",
       "    </tr>\n",
       "    <tr>\n",
       "      <th>std_cluster_4</th>\n",
       "      <td>0.0</td>\n",
       "      <td>0.449749</td>\n",
       "      <td>17.790303</td>\n",
       "      <td>0.559519</td>\n",
       "      <td>0.688540</td>\n",
       "      <td>89.312557</td>\n",
       "      <td>0.0</td>\n",
       "      <td>0.0</td>\n",
       "      <td>0.428147</td>\n",
       "      <td>1.005617</td>\n",
       "      <td>1.323425</td>\n",
       "      <td>0.0</td>\n",
       "      <td>1.445374</td>\n",
       "    </tr>\n",
       "    <tr>\n",
       "      <th>std_cluster_5</th>\n",
       "      <td>0.0</td>\n",
       "      <td>0.000000</td>\n",
       "      <td>12.870416</td>\n",
       "      <td>0.671048</td>\n",
       "      <td>0.701472</td>\n",
       "      <td>74.738897</td>\n",
       "      <td>0.0</td>\n",
       "      <td>0.0</td>\n",
       "      <td>0.354293</td>\n",
       "      <td>0.598152</td>\n",
       "      <td>0.000000</td>\n",
       "      <td>0.0</td>\n",
       "      <td>0.209657</td>\n",
       "    </tr>\n",
       "    <tr>\n",
       "      <th>std_cluster_6</th>\n",
       "      <td>0.0</td>\n",
       "      <td>0.000000</td>\n",
       "      <td>11.365395</td>\n",
       "      <td>0.730592</td>\n",
       "      <td>0.586622</td>\n",
       "      <td>15.232388</td>\n",
       "      <td>0.0</td>\n",
       "      <td>0.0</td>\n",
       "      <td>0.368528</td>\n",
       "      <td>0.616511</td>\n",
       "      <td>0.000000</td>\n",
       "      <td>0.0</td>\n",
       "      <td>0.000000</td>\n",
       "    </tr>\n",
       "    <tr>\n",
       "      <th>std_cluster_7</th>\n",
       "      <td>0.0</td>\n",
       "      <td>0.000000</td>\n",
       "      <td>12.019198</td>\n",
       "      <td>0.551610</td>\n",
       "      <td>0.436436</td>\n",
       "      <td>15.720548</td>\n",
       "      <td>0.0</td>\n",
       "      <td>0.0</td>\n",
       "      <td>0.456305</td>\n",
       "      <td>1.074977</td>\n",
       "      <td>0.000000</td>\n",
       "      <td>0.0</td>\n",
       "      <td>0.000000</td>\n",
       "    </tr>\n",
       "    <tr>\n",
       "      <th>std_cluster_8</th>\n",
       "      <td>0.0</td>\n",
       "      <td>0.000000</td>\n",
       "      <td>5.832646</td>\n",
       "      <td>1.663370</td>\n",
       "      <td>0.510754</td>\n",
       "      <td>15.285887</td>\n",
       "      <td>0.0</td>\n",
       "      <td>0.0</td>\n",
       "      <td>0.128038</td>\n",
       "      <td>0.134086</td>\n",
       "      <td>0.000000</td>\n",
       "      <td>0.0</td>\n",
       "      <td>0.000000</td>\n",
       "    </tr>\n",
       "  </tbody>\n",
       "</table>\n",
       "</div>"
      ],
      "text/plain": [
       "               Survived    Pclass        Age  Siblings/Spouses Aboard  \\\n",
       "std_cluster_0       0.0  0.501720  12.417150                 0.778674   \n",
       "std_cluster_1       0.0  0.450309  13.856058                 1.814635   \n",
       "std_cluster_2       0.0  0.000000  10.747688                 0.446412   \n",
       "std_cluster_3       0.0  0.000000  13.661642                 0.553372   \n",
       "std_cluster_4       0.0  0.449749  17.790303                 0.559519   \n",
       "std_cluster_5       0.0  0.000000  12.870416                 0.671048   \n",
       "std_cluster_6       0.0  0.000000  11.365395                 0.730592   \n",
       "std_cluster_7       0.0  0.000000  12.019198                 0.551610   \n",
       "std_cluster_8       0.0  0.000000   5.832646                 1.663370   \n",
       "\n",
       "               Parents/Children Aboard       Fare  Sex_female  Sex_male  \\\n",
       "std_cluster_0                 0.886446  10.152416         0.0       0.0   \n",
       "std_cluster_1                 1.391442  24.821287         0.0       0.0   \n",
       "std_cluster_2                 0.507008   6.084348         0.0       0.0   \n",
       "std_cluster_3                 0.656999  60.052545         0.0       0.0   \n",
       "std_cluster_4                 0.688540  89.312557         0.0       0.0   \n",
       "std_cluster_5                 0.701472  74.738897         0.0       0.0   \n",
       "std_cluster_6                 0.586622  15.232388         0.0       0.0   \n",
       "std_cluster_7                 0.436436  15.720548         0.0       0.0   \n",
       "std_cluster_8                 0.510754  15.285887         0.0       0.0   \n",
       "\n",
       "                      x         y  kmeans_labels  agg_labels  dbscan_labels  \n",
       "std_cluster_0  4.409052  0.777132       1.505160         0.0       1.003440  \n",
       "std_cluster_1  0.523039  0.646285       0.000000         0.0       1.595131  \n",
       "std_cluster_2  4.528450  5.388938       0.417769         0.0       0.000000  \n",
       "std_cluster_3  0.748045  0.316787       0.000000         0.0       0.000000  \n",
       "std_cluster_4  0.428147  1.005617       1.323425         0.0       1.445374  \n",
       "std_cluster_5  0.354293  0.598152       0.000000         0.0       0.209657  \n",
       "std_cluster_6  0.368528  0.616511       0.000000         0.0       0.000000  \n",
       "std_cluster_7  0.456305  1.074977       0.000000         0.0       0.000000  \n",
       "std_cluster_8  0.128038  0.134086       0.000000         0.0       0.000000  "
      ]
     },
     "execution_count": 52,
     "metadata": {},
     "output_type": "execute_result"
    }
   ],
   "source": [
    "stats2 = {}\n",
    "for n in range(9):\n",
    "    #stats2['mean_cluster_{}'.format(n)] = df[df['kmeans_labels']==n].mean()\n",
    "    stats2['std_cluster_{}'.format(n)] = df[df['agg_labels']==n].std()\n",
    "(pd.DataFrame(stats2)).transpose()"
   ]
  },
  {
   "cell_type": "code",
   "execution_count": 46,
   "id": "aa3dfa57",
   "metadata": {},
   "outputs": [
    {
     "data": {
      "text/html": [
       "<div>\n",
       "<style scoped>\n",
       "    .dataframe tbody tr th:only-of-type {\n",
       "        vertical-align: middle;\n",
       "    }\n",
       "\n",
       "    .dataframe tbody tr th {\n",
       "        vertical-align: top;\n",
       "    }\n",
       "\n",
       "    .dataframe thead th {\n",
       "        text-align: right;\n",
       "    }\n",
       "</style>\n",
       "<table border=\"1\" class=\"dataframe\">\n",
       "  <thead>\n",
       "    <tr style=\"text-align: right;\">\n",
       "      <th></th>\n",
       "      <th>Survived</th>\n",
       "      <th>Pclass</th>\n",
       "      <th>Age</th>\n",
       "      <th>Siblings/Spouses Aboard</th>\n",
       "      <th>Parents/Children Aboard</th>\n",
       "      <th>Fare</th>\n",
       "      <th>Sex_female</th>\n",
       "      <th>Sex_male</th>\n",
       "      <th>x</th>\n",
       "      <th>y</th>\n",
       "      <th>kmeans_labels</th>\n",
       "      <th>agg_labels</th>\n",
       "      <th>dbscan_labels</th>\n",
       "    </tr>\n",
       "  </thead>\n",
       "  <tbody>\n",
       "    <tr>\n",
       "      <th>std_cluster_0</th>\n",
       "      <td>0.0</td>\n",
       "      <td>0.424637</td>\n",
       "      <td>12.092916</td>\n",
       "      <td>1.224283</td>\n",
       "      <td>0.592876</td>\n",
       "      <td>12.664847</td>\n",
       "      <td>0.0</td>\n",
       "      <td>0.0</td>\n",
       "      <td>5.510404</td>\n",
       "      <td>5.324843</td>\n",
       "      <td>2.096953</td>\n",
       "      <td>2.384289</td>\n",
       "      <td>0.0</td>\n",
       "    </tr>\n",
       "    <tr>\n",
       "      <th>std_cluster_1</th>\n",
       "      <td>0.0</td>\n",
       "      <td>0.000000</td>\n",
       "      <td>12.942377</td>\n",
       "      <td>0.672261</td>\n",
       "      <td>0.703922</td>\n",
       "      <td>61.422775</td>\n",
       "      <td>0.0</td>\n",
       "      <td>0.0</td>\n",
       "      <td>0.356081</td>\n",
       "      <td>0.601262</td>\n",
       "      <td>0.000000</td>\n",
       "      <td>0.000000</td>\n",
       "      <td>0.0</td>\n",
       "    </tr>\n",
       "    <tr>\n",
       "      <th>std_cluster_2</th>\n",
       "      <td>0.0</td>\n",
       "      <td>0.000000</td>\n",
       "      <td>10.940216</td>\n",
       "      <td>0.888106</td>\n",
       "      <td>0.919277</td>\n",
       "      <td>5.984714</td>\n",
       "      <td>0.0</td>\n",
       "      <td>0.0</td>\n",
       "      <td>0.462113</td>\n",
       "      <td>0.453215</td>\n",
       "      <td>0.000000</td>\n",
       "      <td>0.000000</td>\n",
       "      <td>0.0</td>\n",
       "    </tr>\n",
       "    <tr>\n",
       "      <th>std_cluster_3</th>\n",
       "      <td>0.0</td>\n",
       "      <td>0.000000</td>\n",
       "      <td>13.661642</td>\n",
       "      <td>0.553372</td>\n",
       "      <td>0.656999</td>\n",
       "      <td>60.052545</td>\n",
       "      <td>0.0</td>\n",
       "      <td>0.0</td>\n",
       "      <td>0.748045</td>\n",
       "      <td>0.316787</td>\n",
       "      <td>0.000000</td>\n",
       "      <td>0.000000</td>\n",
       "      <td>0.0</td>\n",
       "    </tr>\n",
       "    <tr>\n",
       "      <th>std_cluster_4</th>\n",
       "      <td>0.0</td>\n",
       "      <td>0.000000</td>\n",
       "      <td>12.763295</td>\n",
       "      <td>0.653704</td>\n",
       "      <td>0.851864</td>\n",
       "      <td>11.140937</td>\n",
       "      <td>0.0</td>\n",
       "      <td>0.0</td>\n",
       "      <td>0.504141</td>\n",
       "      <td>0.387539</td>\n",
       "      <td>0.000000</td>\n",
       "      <td>0.000000</td>\n",
       "      <td>0.0</td>\n",
       "    </tr>\n",
       "    <tr>\n",
       "      <th>std_cluster_5</th>\n",
       "      <td>0.0</td>\n",
       "      <td>0.000000</td>\n",
       "      <td>13.262687</td>\n",
       "      <td>1.902093</td>\n",
       "      <td>1.435562</td>\n",
       "      <td>14.572275</td>\n",
       "      <td>0.0</td>\n",
       "      <td>0.0</td>\n",
       "      <td>0.410544</td>\n",
       "      <td>0.655071</td>\n",
       "      <td>0.000000</td>\n",
       "      <td>0.000000</td>\n",
       "      <td>0.0</td>\n",
       "    </tr>\n",
       "    <tr>\n",
       "      <th>std_cluster_6</th>\n",
       "      <td>0.0</td>\n",
       "      <td>0.000000</td>\n",
       "      <td>18.539658</td>\n",
       "      <td>0.624264</td>\n",
       "      <td>0.701888</td>\n",
       "      <td>9.832542</td>\n",
       "      <td>0.0</td>\n",
       "      <td>0.0</td>\n",
       "      <td>0.080606</td>\n",
       "      <td>0.207194</td>\n",
       "      <td>0.727607</td>\n",
       "      <td>0.000000</td>\n",
       "      <td>0.0</td>\n",
       "    </tr>\n",
       "    <tr>\n",
       "      <th>std_cluster_7</th>\n",
       "      <td>0.0</td>\n",
       "      <td>0.000000</td>\n",
       "      <td>14.659832</td>\n",
       "      <td>0.540702</td>\n",
       "      <td>0.673826</td>\n",
       "      <td>34.049120</td>\n",
       "      <td>0.0</td>\n",
       "      <td>0.0</td>\n",
       "      <td>0.395647</td>\n",
       "      <td>0.228780</td>\n",
       "      <td>0.000000</td>\n",
       "      <td>0.000000</td>\n",
       "      <td>0.0</td>\n",
       "    </tr>\n",
       "    <tr>\n",
       "      <th>std_cluster_8</th>\n",
       "      <td>0.0</td>\n",
       "      <td>0.000000</td>\n",
       "      <td>11.365395</td>\n",
       "      <td>0.730592</td>\n",
       "      <td>0.586622</td>\n",
       "      <td>15.232388</td>\n",
       "      <td>0.0</td>\n",
       "      <td>0.0</td>\n",
       "      <td>0.368528</td>\n",
       "      <td>0.616511</td>\n",
       "      <td>0.000000</td>\n",
       "      <td>0.000000</td>\n",
       "      <td>0.0</td>\n",
       "    </tr>\n",
       "    <tr>\n",
       "      <th>std_cluster_9</th>\n",
       "      <td>0.0</td>\n",
       "      <td>0.000000</td>\n",
       "      <td>12.915107</td>\n",
       "      <td>0.547723</td>\n",
       "      <td>0.408248</td>\n",
       "      <td>6.969577</td>\n",
       "      <td>0.0</td>\n",
       "      <td>0.0</td>\n",
       "      <td>0.029672</td>\n",
       "      <td>0.026087</td>\n",
       "      <td>0.000000</td>\n",
       "      <td>0.000000</td>\n",
       "      <td>0.0</td>\n",
       "    </tr>\n",
       "  </tbody>\n",
       "</table>\n",
       "</div>"
      ],
      "text/plain": [
       "               Survived    Pclass        Age  Siblings/Spouses Aboard  \\\n",
       "std_cluster_0       0.0  0.424637  12.092916                 1.224283   \n",
       "std_cluster_1       0.0  0.000000  12.942377                 0.672261   \n",
       "std_cluster_2       0.0  0.000000  10.940216                 0.888106   \n",
       "std_cluster_3       0.0  0.000000  13.661642                 0.553372   \n",
       "std_cluster_4       0.0  0.000000  12.763295                 0.653704   \n",
       "std_cluster_5       0.0  0.000000  13.262687                 1.902093   \n",
       "std_cluster_6       0.0  0.000000  18.539658                 0.624264   \n",
       "std_cluster_7       0.0  0.000000  14.659832                 0.540702   \n",
       "std_cluster_8       0.0  0.000000  11.365395                 0.730592   \n",
       "std_cluster_9       0.0  0.000000  12.915107                 0.547723   \n",
       "\n",
       "               Parents/Children Aboard       Fare  Sex_female  Sex_male  \\\n",
       "std_cluster_0                 0.592876  12.664847         0.0       0.0   \n",
       "std_cluster_1                 0.703922  61.422775         0.0       0.0   \n",
       "std_cluster_2                 0.919277   5.984714         0.0       0.0   \n",
       "std_cluster_3                 0.656999  60.052545         0.0       0.0   \n",
       "std_cluster_4                 0.851864  11.140937         0.0       0.0   \n",
       "std_cluster_5                 1.435562  14.572275         0.0       0.0   \n",
       "std_cluster_6                 0.701888   9.832542         0.0       0.0   \n",
       "std_cluster_7                 0.673826  34.049120         0.0       0.0   \n",
       "std_cluster_8                 0.586622  15.232388         0.0       0.0   \n",
       "std_cluster_9                 0.408248   6.969577         0.0       0.0   \n",
       "\n",
       "                      x         y  kmeans_labels  agg_labels  dbscan_labels  \n",
       "std_cluster_0  5.510404  5.324843       2.096953    2.384289            0.0  \n",
       "std_cluster_1  0.356081  0.601262       0.000000    0.000000            0.0  \n",
       "std_cluster_2  0.462113  0.453215       0.000000    0.000000            0.0  \n",
       "std_cluster_3  0.748045  0.316787       0.000000    0.000000            0.0  \n",
       "std_cluster_4  0.504141  0.387539       0.000000    0.000000            0.0  \n",
       "std_cluster_5  0.410544  0.655071       0.000000    0.000000            0.0  \n",
       "std_cluster_6  0.080606  0.207194       0.727607    0.000000            0.0  \n",
       "std_cluster_7  0.395647  0.228780       0.000000    0.000000            0.0  \n",
       "std_cluster_8  0.368528  0.616511       0.000000    0.000000            0.0  \n",
       "std_cluster_9  0.029672  0.026087       0.000000    0.000000            0.0  "
      ]
     },
     "execution_count": 46,
     "metadata": {},
     "output_type": "execute_result"
    }
   ],
   "source": [
    "stats3 = {}\n",
    "for n in range(10):\n",
    "    #stats2['mean_cluster_{}'.format(n)] = df[df['dbscan_labels']==n].mean()\n",
    "    stats3['std_cluster_{}'.format(n)] = df[df['dbscan_labels']==n].std()\n",
    "(pd.DataFrame(stats3)).transpose()"
   ]
  },
  {
   "cell_type": "markdown",
   "id": "5d0178ca",
   "metadata": {},
   "source": [
    "By looking at the standard deviations of the clusers, as expected people were groupd by whether they survived and their sex, as well as their passenger class for some clusters. "
   ]
  },
  {
   "cell_type": "markdown",
   "id": "68d3064c",
   "metadata": {},
   "source": [
    "# Looking at what DBSCAN calls outliers"
   ]
  },
  {
   "cell_type": "code",
   "execution_count": 42,
   "id": "878efba2",
   "metadata": {},
   "outputs": [
    {
     "data": {
      "text/html": [
       "<div>\n",
       "<style scoped>\n",
       "    .dataframe tbody tr th:only-of-type {\n",
       "        vertical-align: middle;\n",
       "    }\n",
       "\n",
       "    .dataframe tbody tr th {\n",
       "        vertical-align: top;\n",
       "    }\n",
       "\n",
       "    .dataframe thead th {\n",
       "        text-align: right;\n",
       "    }\n",
       "</style>\n",
       "<table border=\"1\" class=\"dataframe\">\n",
       "  <thead>\n",
       "    <tr style=\"text-align: right;\">\n",
       "      <th></th>\n",
       "      <th>Survived</th>\n",
       "      <th>Pclass</th>\n",
       "      <th>Age</th>\n",
       "      <th>Siblings/Spouses Aboard</th>\n",
       "      <th>Parents/Children Aboard</th>\n",
       "      <th>Fare</th>\n",
       "      <th>Sex_female</th>\n",
       "      <th>Sex_male</th>\n",
       "      <th>x</th>\n",
       "      <th>y</th>\n",
       "      <th>kmeans_labels</th>\n",
       "      <th>agg_labels</th>\n",
       "      <th>dbscan_labels</th>\n",
       "    </tr>\n",
       "  </thead>\n",
       "  <tbody>\n",
       "    <tr>\n",
       "      <th>176</th>\n",
       "      <td>0</td>\n",
       "      <td>1</td>\n",
       "      <td>50.0</td>\n",
       "      <td>0</td>\n",
       "      <td>0</td>\n",
       "      <td>28.7125</td>\n",
       "      <td>1</td>\n",
       "      <td>0</td>\n",
       "      <td>11.333320</td>\n",
       "      <td>-0.732297</td>\n",
       "      <td>0</td>\n",
       "      <td>0</td>\n",
       "      <td>-1</td>\n",
       "    </tr>\n",
       "    <tr>\n",
       "      <th>257</th>\n",
       "      <td>1</td>\n",
       "      <td>1</td>\n",
       "      <td>35.0</td>\n",
       "      <td>0</td>\n",
       "      <td>0</td>\n",
       "      <td>512.3292</td>\n",
       "      <td>1</td>\n",
       "      <td>0</td>\n",
       "      <td>17.318947</td>\n",
       "      <td>-0.869763</td>\n",
       "      <td>8</td>\n",
       "      <td>5</td>\n",
       "      <td>-1</td>\n",
       "    </tr>\n",
       "    <tr>\n",
       "      <th>295</th>\n",
       "      <td>0</td>\n",
       "      <td>1</td>\n",
       "      <td>2.0</td>\n",
       "      <td>1</td>\n",
       "      <td>2</td>\n",
       "      <td>151.5500</td>\n",
       "      <td>1</td>\n",
       "      <td>0</td>\n",
       "      <td>11.290686</td>\n",
       "      <td>-0.781317</td>\n",
       "      <td>0</td>\n",
       "      <td>0</td>\n",
       "      <td>-1</td>\n",
       "    </tr>\n",
       "    <tr>\n",
       "      <th>495</th>\n",
       "      <td>0</td>\n",
       "      <td>1</td>\n",
       "      <td>25.0</td>\n",
       "      <td>1</td>\n",
       "      <td>2</td>\n",
       "      <td>151.5500</td>\n",
       "      <td>1</td>\n",
       "      <td>0</td>\n",
       "      <td>11.374000</td>\n",
       "      <td>-0.719192</td>\n",
       "      <td>0</td>\n",
       "      <td>0</td>\n",
       "      <td>-1</td>\n",
       "    </tr>\n",
       "    <tr>\n",
       "      <th>676</th>\n",
       "      <td>1</td>\n",
       "      <td>1</td>\n",
       "      <td>36.0</td>\n",
       "      <td>0</td>\n",
       "      <td>1</td>\n",
       "      <td>512.3292</td>\n",
       "      <td>0</td>\n",
       "      <td>1</td>\n",
       "      <td>4.823890</td>\n",
       "      <td>19.192551</td>\n",
       "      <td>4</td>\n",
       "      <td>1</td>\n",
       "      <td>-1</td>\n",
       "    </tr>\n",
       "    <tr>\n",
       "      <th>733</th>\n",
       "      <td>1</td>\n",
       "      <td>1</td>\n",
       "      <td>35.0</td>\n",
       "      <td>0</td>\n",
       "      <td>0</td>\n",
       "      <td>512.3292</td>\n",
       "      <td>0</td>\n",
       "      <td>1</td>\n",
       "      <td>4.783533</td>\n",
       "      <td>19.196733</td>\n",
       "      <td>4</td>\n",
       "      <td>1</td>\n",
       "      <td>-1</td>\n",
       "    </tr>\n",
       "  </tbody>\n",
       "</table>\n",
       "</div>"
      ],
      "text/plain": [
       "     Survived  Pclass   Age  Siblings/Spouses Aboard  Parents/Children Aboard  \\\n",
       "176         0       1  50.0                        0                        0   \n",
       "257         1       1  35.0                        0                        0   \n",
       "295         0       1   2.0                        1                        2   \n",
       "495         0       1  25.0                        1                        2   \n",
       "676         1       1  36.0                        0                        1   \n",
       "733         1       1  35.0                        0                        0   \n",
       "\n",
       "         Fare  Sex_female  Sex_male          x          y  kmeans_labels  \\\n",
       "176   28.7125           1         0  11.333320  -0.732297              0   \n",
       "257  512.3292           1         0  17.318947  -0.869763              8   \n",
       "295  151.5500           1         0  11.290686  -0.781317              0   \n",
       "495  151.5500           1         0  11.374000  -0.719192              0   \n",
       "676  512.3292           0         1   4.823890  19.192551              4   \n",
       "733  512.3292           0         1   4.783533  19.196733              4   \n",
       "\n",
       "     agg_labels  dbscan_labels  \n",
       "176           0             -1  \n",
       "257           5             -1  \n",
       "295           0             -1  \n",
       "495           0             -1  \n",
       "676           1             -1  \n",
       "733           1             -1  "
      ]
     },
     "execution_count": 42,
     "metadata": {},
     "output_type": "execute_result"
    }
   ],
   "source": [
    "df[df['dbscan_labels']==-1]"
   ]
  },
  {
   "cell_type": "code",
   "execution_count": null,
   "id": "26817199",
   "metadata": {},
   "outputs": [],
   "source": []
  }
 ],
 "metadata": {
  "kernelspec": {
   "display_name": "Python 3",
   "language": "python",
   "name": "python3"
  },
  "language_info": {
   "codemirror_mode": {
    "name": "ipython",
    "version": 3
   },
   "file_extension": ".py",
   "mimetype": "text/x-python",
   "name": "python",
   "nbconvert_exporter": "python",
   "pygments_lexer": "ipython3",
   "version": "3.9.5"
  }
 },
 "nbformat": 4,
 "nbformat_minor": 5
}
