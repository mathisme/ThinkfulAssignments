{
 "cells": [
  {
   "cell_type": "code",
   "execution_count": 4,
   "id": "55248f84",
   "metadata": {},
   "outputs": [],
   "source": [
    "import pandas as pd\n",
    "import numpy as np\n",
    "import matplotlib.pyplot as plt\n",
    "from sklearn.linear_model import LinearRegression\n",
    "from sklearn.linear_model import RidgeCV, LassoCV, ElasticNetCV\n",
    "from sklearn.model_selection import train_test_split\n",
    "from sklearn.metrics import mean_absolute_error\n",
    "from statsmodels.tools.eval_measures import mse, rmse\n",
    "from sqlalchemy import create_engine\n",
    "import warnings\n",
    "warnings.filterwarnings('ignore')"
   ]
  },
  {
   "cell_type": "code",
   "execution_count": 5,
   "id": "2a51ccda",
   "metadata": {},
   "outputs": [],
   "source": [
    "postgres_user = 'dsbc_student'\n",
    "postgres_pw = '7*.8G9QH21'\n",
    "postgres_host = '142.93.121.174'\n",
    "postgres_port = '5432'\n",
    "postgres_db = 'houseprices'"
   ]
  },
  {
   "cell_type": "code",
   "execution_count": 6,
   "id": "313b031d",
   "metadata": {},
   "outputs": [],
   "source": [
    "engine = create_engine('postgresql://{}:{}@{}:{}/{}'.format(\n",
    "    postgres_user, postgres_pw, postgres_host, postgres_port, postgres_db))\n",
    "df = pd.read_sql_query('select * from houseprices',con=engine)\n",
    "\n",
    "engine.dispose()"
   ]
  },
  {
   "cell_type": "code",
   "execution_count": 7,
   "id": "f3e8c273",
   "metadata": {},
   "outputs": [],
   "source": [
    "variables = ['overallqual','firstflrsf','totrmsabvgrd','neighborhood','exterior1st','kitchenqual','saleprice']"
   ]
  },
  {
   "cell_type": "code",
   "execution_count": 8,
   "id": "9c27529d",
   "metadata": {},
   "outputs": [],
   "source": [
    "def mape(y_values, y_preds):\n",
    "    return np.mean(np.abs(y_values-y_preds)/y_values)"
   ]
  },
  {
   "cell_type": "code",
   "execution_count": 9,
   "id": "b9f42365",
   "metadata": {},
   "outputs": [],
   "source": [
    "def print_prediction_errors(y_test, y_preds):\n",
    "    print(\"The mean absolute error of the model: \",mean_absolute_error(y_test, y_preds))\n",
    "    print(\"The mean absolute percentage error of the model: \",mape(y_test, y_preds))\n",
    "    print(\"The mean square error of the model: \",mse(y_test,y_preds))\n",
    "    print(\"The root mean square error of the model: \",rmse(y_test,y_preds))"
   ]
  },
  {
   "cell_type": "markdown",
   "id": "85972fc8",
   "metadata": {},
   "source": [
    "# Preparing the model"
   ]
  },
  {
   "cell_type": "code",
   "execution_count": 10,
   "id": "77293125",
   "metadata": {},
   "outputs": [],
   "source": [
    "df2 = pd.get_dummies(df[variables], drop_first=True)\n",
    "X = df2.drop('saleprice', axis=1)\n",
    "y = df2.saleprice"
   ]
  },
  {
   "cell_type": "code",
   "execution_count": 11,
   "id": "e0bd2933",
   "metadata": {},
   "outputs": [],
   "source": [
    "X_train, X_test, y_train, y_test = train_test_split(X,y,test_size = 0.2, random_state = 625)"
   ]
  },
  {
   "cell_type": "markdown",
   "id": "e2cf6b6c",
   "metadata": {},
   "source": [
    "# Ordinary Least Squares"
   ]
  },
  {
   "cell_type": "code",
   "execution_count": 12,
   "id": "bc92647a",
   "metadata": {},
   "outputs": [],
   "source": [
    "lr = LinearRegression()"
   ]
  },
  {
   "cell_type": "code",
   "execution_count": 13,
   "id": "62001c54",
   "metadata": {},
   "outputs": [
    {
     "data": {
      "text/plain": [
       "LinearRegression()"
      ]
     },
     "execution_count": 13,
     "metadata": {},
     "output_type": "execute_result"
    }
   ],
   "source": [
    "lr.fit(X_train,y_train)"
   ]
  },
  {
   "cell_type": "code",
   "execution_count": 14,
   "id": "3f475ca4",
   "metadata": {},
   "outputs": [],
   "source": [
    "y_preds = lr.predict(X_test)"
   ]
  },
  {
   "cell_type": "code",
   "execution_count": 31,
   "id": "54ae4c99",
   "metadata": {},
   "outputs": [
    {
     "name": "stdout",
     "output_type": "stream",
     "text": [
      "R-squared for the training set is:  0.8001678409709541\n",
      "--------------------------------------------------\n",
      "R-squared for the test set is:  0.8089281736956702\n",
      "The mean absolute error of the model:  23151.99609765595\n",
      "The mean absolute percentage error of the model:  0.1336155682334984\n",
      "The mean square error of the model:  1055261030.7530787\n",
      "The root mean square error of the model:  32484.781525401686\n",
      "--------------------------------------------------\n",
      "The difference in R squared between training and test sets is:  0.008760332724716102\n"
     ]
    }
   ],
   "source": [
    "r1 = lr.score(X_train,y_train)\n",
    "r2 = lr.score(X_test,y_test)\n",
    "print(\"R-squared for the training set is: \",r1)\n",
    "print('-'*50)\n",
    "print('R-squared for the test set is: ',r2)\n",
    "print_prediction_errors(y_test,y_preds)\n",
    "print('-'*50)\n",
    "print(\"The difference in R squared between training and test sets is: \", r2-r1)"
   ]
  },
  {
   "cell_type": "markdown",
   "id": "56379d2a",
   "metadata": {},
   "source": [
    "# Ridge Regression"
   ]
  },
  {
   "cell_type": "code",
   "execution_count": 18,
   "id": "d1db8285",
   "metadata": {},
   "outputs": [],
   "source": [
    "rr = RidgeCV(alphas = np.arange(0.5,10.5,0.5))"
   ]
  },
  {
   "cell_type": "code",
   "execution_count": 19,
   "id": "f8b2d1c1",
   "metadata": {},
   "outputs": [
    {
     "data": {
      "text/plain": [
       "RidgeCV(alphas=array([ 0.5,  1. ,  1.5,  2. ,  2.5,  3. ,  3.5,  4. ,  4.5,  5. ,  5.5,\n",
       "        6. ,  6.5,  7. ,  7.5,  8. ,  8.5,  9. ,  9.5, 10. ]))"
      ]
     },
     "execution_count": 19,
     "metadata": {},
     "output_type": "execute_result"
    }
   ],
   "source": [
    "rr.fit(X_train,y_train)"
   ]
  },
  {
   "cell_type": "code",
   "execution_count": 20,
   "id": "e319874f",
   "metadata": {},
   "outputs": [],
   "source": [
    "y_preds = rr.predict(X_test)"
   ]
  },
  {
   "cell_type": "code",
   "execution_count": 32,
   "id": "48518357",
   "metadata": {},
   "outputs": [
    {
     "name": "stdout",
     "output_type": "stream",
     "text": [
      "R-squared for the training set is:  0.7991721608802357\n",
      "--------------------------------------------------\n",
      "R-squared for the test set is:  0.8086376092045602\n",
      "The mean absolute error of the model:  23151.99609765595\n",
      "The mean absolute percentage error of the model:  0.1336155682334984\n",
      "The mean square error of the model:  1055261030.7530787\n",
      "The root mean square error of the model:  32484.781525401686\n",
      "--------------------------------------------------\n",
      "The difference in R squared between training and test sets is:  0.009465448324324499\n"
     ]
    }
   ],
   "source": [
    "r1 = rr.score(X_train,y_train)\n",
    "r2 = rr.score(X_test,y_test)\n",
    "print(\"R-squared for the training set is: \",r1)\n",
    "print('-'*50)\n",
    "print('R-squared for the test set is: ',r2)\n",
    "print_prediction_errors(y_test,y_preds)\n",
    "print('-'*50)\n",
    "print(\"The difference in R squared between training and test sets is: \", r2-r1)"
   ]
  },
  {
   "cell_type": "markdown",
   "id": "a547c13c",
   "metadata": {},
   "source": [
    "# Lasso Regression"
   ]
  },
  {
   "cell_type": "code",
   "execution_count": 23,
   "id": "2acae6ab",
   "metadata": {},
   "outputs": [],
   "source": [
    "lssr = LassoCV(alphas = np.arange(0.5,10.5,0.5))"
   ]
  },
  {
   "cell_type": "code",
   "execution_count": 24,
   "id": "e09aa61b",
   "metadata": {},
   "outputs": [
    {
     "data": {
      "text/plain": [
       "LassoCV(alphas=array([ 0.5,  1. ,  1.5,  2. ,  2.5,  3. ,  3.5,  4. ,  4.5,  5. ,  5.5,\n",
       "        6. ,  6.5,  7. ,  7.5,  8. ,  8.5,  9. ,  9.5, 10. ]))"
      ]
     },
     "execution_count": 24,
     "metadata": {},
     "output_type": "execute_result"
    }
   ],
   "source": [
    "lssr.fit(X_test,y_test)"
   ]
  },
  {
   "cell_type": "code",
   "execution_count": 25,
   "id": "347c1818",
   "metadata": {},
   "outputs": [],
   "source": [
    "y_preds = lssr.predict(X_test)"
   ]
  },
  {
   "cell_type": "code",
   "execution_count": 33,
   "id": "eb087326",
   "metadata": {},
   "outputs": [
    {
     "name": "stdout",
     "output_type": "stream",
     "text": [
      "R-squared for the training set is:  0.7440260881292402\n",
      "--------------------------------------------------\n",
      "R-squared for the test set is:  0.8495325033707486\n",
      "The mean absolute error of the model:  23151.99609765595\n",
      "The mean absolute percentage error of the model:  0.1336155682334984\n",
      "The mean square error of the model:  1055261030.7530787\n",
      "The root mean square error of the model:  32484.781525401686\n",
      "--------------------------------------------------\n",
      "The difference in R squared between training and test sets is:  0.10550641524150839\n"
     ]
    }
   ],
   "source": [
    "r1 = lssr.score(X_train,y_train)\n",
    "r2 = lssr.score(X_test,y_test)\n",
    "print(\"R-squared for the training set is: \",r1)\n",
    "print('-'*50)\n",
    "print('R-squared for the test set is: ',r2)\n",
    "print_prediction_errors(y_test,y_preds)\n",
    "print('-'*50)\n",
    "print(\"The difference in R squared between training and test sets is: \", r2-r1)"
   ]
  },
  {
   "cell_type": "markdown",
   "id": "fef7b67a",
   "metadata": {},
   "source": [
    "# ElasticNet Regression"
   ]
  },
  {
   "cell_type": "code",
   "execution_count": 34,
   "id": "70d0ed6f",
   "metadata": {},
   "outputs": [],
   "source": [
    "er = ElasticNetCV(l1_ratio=[.1, .5, .7, .9, .95, .99])"
   ]
  },
  {
   "cell_type": "code",
   "execution_count": 35,
   "id": "4d4718e9",
   "metadata": {},
   "outputs": [
    {
     "data": {
      "text/plain": [
       "ElasticNetCV(l1_ratio=[0.1, 0.5, 0.7, 0.9, 0.95, 0.99])"
      ]
     },
     "execution_count": 35,
     "metadata": {},
     "output_type": "execute_result"
    }
   ],
   "source": [
    "er.fit(X_train,y_train)"
   ]
  },
  {
   "cell_type": "code",
   "execution_count": 36,
   "id": "5e8d2465",
   "metadata": {},
   "outputs": [],
   "source": [
    "y_preds = er.predict(X_test)"
   ]
  },
  {
   "cell_type": "code",
   "execution_count": 37,
   "id": "59261909",
   "metadata": {},
   "outputs": [
    {
     "name": "stdout",
     "output_type": "stream",
     "text": [
      "R-squared for the training set is:  0.36253264271056174\n",
      "--------------------------------------------------\n",
      "R-squared for the test set is:  0.40267551469367113\n",
      "The mean absolute error of the model:  48036.60740468905\n",
      "The mean absolute percentage error of the model:  0.28236185625823157\n",
      "The mean square error of the model:  4189165541.9212313\n",
      "The root mean square error of the model:  64723.76334794842\n",
      "--------------------------------------------------\n",
      "The difference in R squared between training and test sets is:  0.040142871983109396\n"
     ]
    }
   ],
   "source": [
    "r1 = er.score(X_train,y_train)\n",
    "r2 = er.score(X_test,y_test)\n",
    "print(\"R-squared for the training set is: \",r1)\n",
    "print('-'*50)\n",
    "print('R-squared for the test set is: ',r2)\n",
    "print_prediction_errors(y_test,y_preds)\n",
    "print('-'*50)\n",
    "print(\"The difference in R squared between training and test sets is: \", r2-r1)"
   ]
  },
  {
   "cell_type": "markdown",
   "id": "d5bb337d",
   "metadata": {},
   "source": [
    "# Evaluation of training"
   ]
  },
  {
   "cell_type": "markdown",
   "id": "7b4740ee",
   "metadata": {},
   "source": [
    "Based on the metrics, the best model is the original model using ordinary least squares.  The reason for this may be that as I am not using many parameters, overfitting is unlikely and so regularization is not needed.  Also as cross validation reduces the training sample size, and since the larger the training size the better, OLS is better."
   ]
  },
  {
   "cell_type": "code",
   "execution_count": null,
   "id": "3eb44bce",
   "metadata": {},
   "outputs": [],
   "source": []
  }
 ],
 "metadata": {
  "kernelspec": {
   "display_name": "Python 3",
   "language": "python",
   "name": "python3"
  },
  "language_info": {
   "codemirror_mode": {
    "name": "ipython",
    "version": 3
   },
   "file_extension": ".py",
   "mimetype": "text/x-python",
   "name": "python",
   "nbconvert_exporter": "python",
   "pygments_lexer": "ipython3",
   "version": "3.9.5"
  }
 },
 "nbformat": 4,
 "nbformat_minor": 5
}
