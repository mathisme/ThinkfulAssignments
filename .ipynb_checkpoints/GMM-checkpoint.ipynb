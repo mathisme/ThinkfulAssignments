{
 "cells": [
  {
   "cell_type": "code",
   "execution_count": 1,
   "id": "75c520e4",
   "metadata": {},
   "outputs": [],
   "source": [
    "import numpy as np\n",
    "import pandas as pd\n",
    "from sklearn.mixture import GaussianMixture\n",
    "from sklearn.metrics import adjusted_rand_score\n",
    "from sklearn.metrics import silhouette_score\n",
    "from sklearn.preprocessing import StandardScaler\n",
    "from sqlalchemy import create_engine\n",
    "\n",
    "import warnings\n",
    "warnings.filterwarnings('ignore')"
   ]
  },
  {
   "cell_type": "code",
   "execution_count": 2,
   "id": "483c1bed",
   "metadata": {},
   "outputs": [],
   "source": [
    "postgres_user = 'dsbc_student'\n",
    "postgres_pw = '7*.8G9QH21'\n",
    "postgres_host = '142.93.121.174'\n",
    "postgres_port = '5432'\n",
    "postgres_db = 'heartdisease'"
   ]
  },
  {
   "cell_type": "code",
   "execution_count": 3,
   "id": "2827d162",
   "metadata": {},
   "outputs": [],
   "source": [
    "engine = create_engine('postgresql://{}:{}@{}:{}/{}'.format(\n",
    "    postgres_user, postgres_pw, postgres_host, postgres_port, postgres_db))\n",
    "df = pd.read_sql_query('select * from heartdisease',con=engine)\n",
    "\n",
    "engine.dispose()"
   ]
  },
  {
   "cell_type": "code",
   "execution_count": 4,
   "id": "6c75ba05",
   "metadata": {},
   "outputs": [],
   "source": [
    "X = df.iloc[:, :13]\n",
    "y = df.iloc[:, 13]\n",
    "X = X.replace(to_replace='?', value=0)\n",
    "y = np.where(y > 0, 1, 0)"
   ]
  },
  {
   "cell_type": "code",
   "execution_count": 5,
   "id": "924d05e0",
   "metadata": {},
   "outputs": [],
   "source": [
    "X = StandardScaler().fit_transform(X)"
   ]
  },
  {
   "cell_type": "markdown",
   "id": "efc62e02",
   "metadata": {},
   "source": [
    "# 1. Apply GMM to the heart disease dataset by setting n_components=2. Get ARI and silhouette scores for your solution and compare it with those of the k-means and hierarchical clustering solutions that you implemented in the previous checkpoint assignments. Which algorithm performs best?"
   ]
  },
  {
   "cell_type": "code",
   "execution_count": 7,
   "id": "9ad569a0",
   "metadata": {},
   "outputs": [],
   "source": [
    "gmm = GaussianMixture(n_components=2)"
   ]
  },
  {
   "cell_type": "code",
   "execution_count": 8,
   "id": "13a634cf",
   "metadata": {},
   "outputs": [],
   "source": [
    "y_preds = gmm.fit_predict(X)"
   ]
  },
  {
   "cell_type": "code",
   "execution_count": 9,
   "id": "e1a09ad9",
   "metadata": {},
   "outputs": [
    {
     "data": {
      "text/plain": [
       "0.16118591340148433"
      ]
     },
     "execution_count": 9,
     "metadata": {},
     "output_type": "execute_result"
    }
   ],
   "source": [
    "silhouette_score(X,y_preds)"
   ]
  },
  {
   "cell_type": "code",
   "execution_count": 12,
   "id": "fb1e0285",
   "metadata": {},
   "outputs": [
    {
     "data": {
      "text/plain": [
       "0.4207322145049338"
      ]
     },
     "execution_count": 12,
     "metadata": {},
     "output_type": "execute_result"
    }
   ],
   "source": [
    "adjusted_rand_score(y,y_preds)"
   ]
  },
  {
   "cell_type": "markdown",
   "id": "c0bd7a45",
   "metadata": {},
   "source": [
    "GuassianMixture models performs better than Hierarchal clustering.  Kmeans performed a little bit better than Guassian"
   ]
  },
  {
   "cell_type": "markdown",
   "id": "ff2b1d76",
   "metadata": {},
   "source": [
    "# 2. GMM implementation of scikit-learn has a parameter called covariance_type. This parameter determines the type of covariance parameters to use. There are four types that you can specify:\n",
    "\n",
    "* full: This is the default. Each component has its own general covariance matrix.\n",
    "* tied: All components share the same general covariance matrix.\n",
    "* diag: Each component has its own diagonal covariance matrix.\n",
    "* spherical: Each component has its own single variance.\n",
    "\n",
    "# Try all of these. Which one performs best in terms of ARI and silhouette scores?"
   ]
  },
  {
   "cell_type": "code",
   "execution_count": 14,
   "id": "e5208b45",
   "metadata": {},
   "outputs": [
    {
     "name": "stdout",
     "output_type": "stream",
     "text": [
      "The ARI score for full is 0.4207322145049338\n",
      "The silhouette score for full is 0.16118591340148433\n",
      "The ARI score for tied is 0.18389186035089963\n",
      "The silhouette score for tied is 0.13628813153331445\n",
      "The ARI score for diag is 0.37878842718089933\n",
      "The silhouette score for diag is 0.15836933745078682\n",
      "The ARI score for spherical is 0.20765243525722468\n",
      "The silhouette score for spherical is 0.12468753110276873\n"
     ]
    }
   ],
   "source": [
    "cov = ['full','tied','diag','spherical']\n",
    "for c in cov:\n",
    "    gmm = GaussianMixture(n_components=2, covariance_type = c)\n",
    "    y_preds = gmm.fit_predict(X)\n",
    "    print(\"The ARI score for\",c,\"is\",adjusted_rand_score(y,y_preds))\n",
    "    print(\"The silhouette score for\",c,\"is\",silhouette_score(X,y_preds))"
   ]
  },
  {
   "cell_type": "markdown",
   "id": "d1f89e26",
   "metadata": {},
   "source": [
    "Full perfoorms best "
   ]
  }
 ],
 "metadata": {
  "kernelspec": {
   "display_name": "Python 3",
   "language": "python",
   "name": "python3"
  },
  "language_info": {
   "codemirror_mode": {
    "name": "ipython",
    "version": 3
   },
   "file_extension": ".py",
   "mimetype": "text/x-python",
   "name": "python",
   "nbconvert_exporter": "python",
   "pygments_lexer": "ipython3",
   "version": "3.9.5"
  }
 },
 "nbformat": 4,
 "nbformat_minor": 5
}
