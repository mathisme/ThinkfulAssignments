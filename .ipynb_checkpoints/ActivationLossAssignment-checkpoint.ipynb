{
 "cells": [
  {
   "cell_type": "code",
   "execution_count": 1,
   "id": "5d874c30",
   "metadata": {},
   "outputs": [],
   "source": [
    "import numpy as np\n",
    "import pandas as pd\n",
    "import matplotlib.pyplot as plt\n",
    "from tensorflow.keras.datasets import mnist\n",
    "from tensorflow.keras.utils import to_categorical\n",
    "from tensorflow.keras.models import Sequential \n",
    "from tensorflow.keras.layers import Dense"
   ]
  },
  {
   "cell_type": "code",
   "execution_count": 2,
   "id": "d56565e6",
   "metadata": {},
   "outputs": [],
   "source": [
    "(X_train, y_train), (X_test, y_test) = mnist.load_data()\n",
    "\n",
    "input_dim = 784  # 28*28\n",
    "output_dim = nb_classes = 10\n",
    "batch_size = 128\n",
    "nb_epoch = 20\n",
    "\n",
    "X_train = X_train.reshape(60000, input_dim)\n",
    "X_test = X_test.reshape(10000, input_dim)\n",
    "X_train = X_train.astype('float32')\n",
    "X_test = X_test.astype('float32')\n",
    "X_train /= 255\n",
    "X_test /= 255\n",
    "Y_train = to_categorical(y_train, nb_classes)\n",
    "Y_test = to_categorical(y_test, nb_classes)"
   ]
  },
  {
   "cell_type": "code",
   "execution_count": 3,
   "id": "2db4a5c0",
   "metadata": {},
   "outputs": [],
   "source": [
    "scores = {'activation':[],'loss':[],'accuracy':[]}"
   ]
  },
  {
   "cell_type": "code",
   "execution_count": 4,
   "id": "d812e5b2",
   "metadata": {},
   "outputs": [],
   "source": [
    "def create_model(activation):\n",
    "    model = Sequential()\n",
    "    model.add(Dense(128,input_shape=(784,), activation=activation))\n",
    "    model.add(Dense(64, activation=activation))\n",
    "    model.add(Dense(10, activation = 'softmax'))\n",
    "    return model"
   ]
  },
  {
   "cell_type": "markdown",
   "id": "8ecc9713",
   "metadata": {},
   "source": [
    "# Part 1\n",
    "\n",
    "## Problem 1"
   ]
  },
  {
   "cell_type": "code",
   "execution_count": 5,
   "id": "6ce9b094",
   "metadata": {},
   "outputs": [],
   "source": [
    "model = create_model('tanh')"
   ]
  },
  {
   "cell_type": "code",
   "execution_count": 6,
   "id": "54a050be",
   "metadata": {},
   "outputs": [],
   "source": [
    "model.compile(optimizer='sgd', loss='categorical_crossentropy',\n",
    "              metrics=['accuracy'])"
   ]
  },
  {
   "cell_type": "code",
   "execution_count": 7,
   "id": "351a0071",
   "metadata": {},
   "outputs": [
    {
     "name": "stdout",
     "output_type": "stream",
     "text": [
      "Epoch 1/20\n",
      "469/469 [==============================] - 1s 1ms/step - loss: 1.0013 - accuracy: 0.7571\n",
      "Epoch 2/20\n",
      "469/469 [==============================] - 1s 1ms/step - loss: 0.5051 - accuracy: 0.8741\n",
      "Epoch 3/20\n",
      "469/469 [==============================] - 1s 1ms/step - loss: 0.4124 - accuracy: 0.8904\n",
      "Epoch 4/20\n",
      "469/469 [==============================] - 1s 1ms/step - loss: 0.3682 - accuracy: 0.8996\n",
      "Epoch 5/20\n",
      "469/469 [==============================] - 1s 1ms/step - loss: 0.3406 - accuracy: 0.9056\n",
      "Epoch 6/20\n",
      "469/469 [==============================] - 1s 1ms/step - loss: 0.3208 - accuracy: 0.9099\n",
      "Epoch 7/20\n",
      "469/469 [==============================] - 1s 1ms/step - loss: 0.3052 - accuracy: 0.9134\n",
      "Epoch 8/20\n",
      "469/469 [==============================] - 1s 1ms/step - loss: 0.2924 - accuracy: 0.9168\n",
      "Epoch 9/20\n",
      "469/469 [==============================] - 1s 1ms/step - loss: 0.2814 - accuracy: 0.9198\n",
      "Epoch 10/20\n",
      "469/469 [==============================] - 1s 1ms/step - loss: 0.2715 - accuracy: 0.9227\n",
      "Epoch 11/20\n",
      "469/469 [==============================] - 1s 2ms/step - loss: 0.2627 - accuracy: 0.9248\n",
      "Epoch 12/20\n",
      "469/469 [==============================] - 1s 1ms/step - loss: 0.2547 - accuracy: 0.9273\n",
      "Epoch 13/20\n",
      "469/469 [==============================] - 1s 1ms/step - loss: 0.2471 - accuracy: 0.9292\n",
      "Epoch 14/20\n",
      "469/469 [==============================] - 1s 1ms/step - loss: 0.2400 - accuracy: 0.9310\n",
      "Epoch 15/20\n",
      "469/469 [==============================] - 1s 1ms/step - loss: 0.2334 - accuracy: 0.9334\n",
      "Epoch 16/20\n",
      "469/469 [==============================] - 1s 1ms/step - loss: 0.2273 - accuracy: 0.9349\n",
      "Epoch 17/20\n",
      "469/469 [==============================] - 1s 1ms/step - loss: 0.2213 - accuracy: 0.9367\n",
      "Epoch 18/20\n",
      "469/469 [==============================] - 1s 1ms/step - loss: 0.2158 - accuracy: 0.9386\n",
      "Epoch 19/20\n",
      "469/469 [==============================] - 1s 1ms/step - loss: 0.2105 - accuracy: 0.9398\n",
      "Epoch 20/20\n",
      "469/469 [==============================] - 1s 1ms/step - loss: 0.2055 - accuracy: 0.9413\n"
     ]
    },
    {
     "data": {
      "text/plain": [
       "<keras.callbacks.History at 0x14ec3796850>"
      ]
     },
     "execution_count": 7,
     "metadata": {},
     "output_type": "execute_result"
    }
   ],
   "source": [
    "model.fit(X_train, Y_train, batch_size=batch_size, epochs=20, verbose=1)"
   ]
  },
  {
   "cell_type": "code",
   "execution_count": 8,
   "id": "722e28ef",
   "metadata": {},
   "outputs": [],
   "source": [
    "scores['activation'].append('tanh')\n",
    "scores['loss'].append('cross entropy')\n",
    "score = model.evaluate(X_test, Y_test, verbose=0)\n",
    "scores['accuracy'].append(score[1])"
   ]
  },
  {
   "cell_type": "code",
   "execution_count": 9,
   "id": "e004d71f",
   "metadata": {},
   "outputs": [
    {
     "name": "stdout",
     "output_type": "stream",
     "text": [
      "Accuracy score for problem 1: 0.9399999976158142\n"
     ]
    }
   ],
   "source": [
    "print('Accuracy score for problem 1:',score[1])"
   ]
  },
  {
   "cell_type": "markdown",
   "id": "211aa417",
   "metadata": {},
   "source": [
    "## Problem 2"
   ]
  },
  {
   "cell_type": "code",
   "execution_count": 10,
   "id": "08095aa0",
   "metadata": {},
   "outputs": [],
   "source": [
    "model = create_model('sigmoid')"
   ]
  },
  {
   "cell_type": "code",
   "execution_count": 11,
   "id": "034f528c",
   "metadata": {},
   "outputs": [],
   "source": [
    "model.compile(optimizer='sgd', loss='categorical_crossentropy',\n",
    "              metrics=['accuracy'])"
   ]
  },
  {
   "cell_type": "code",
   "execution_count": 12,
   "id": "d4630b45",
   "metadata": {},
   "outputs": [
    {
     "name": "stdout",
     "output_type": "stream",
     "text": [
      "Epoch 1/20\n",
      "469/469 [==============================] - 1s 1ms/step - loss: 2.2862 - accuracy: 0.1563\n",
      "Epoch 2/20\n",
      "469/469 [==============================] - 1s 1ms/step - loss: 2.2279 - accuracy: 0.3243\n",
      "Epoch 3/20\n",
      "469/469 [==============================] - 1s 1ms/step - loss: 2.1637 - accuracy: 0.5174\n",
      "Epoch 4/20\n",
      "469/469 [==============================] - 1s 2ms/step - loss: 2.0737 - accuracy: 0.6042\n",
      "Epoch 5/20\n",
      "469/469 [==============================] - 1s 1ms/step - loss: 1.9439 - accuracy: 0.6378\n",
      "Epoch 6/20\n",
      "469/469 [==============================] - 1s 1ms/step - loss: 1.7691 - accuracy: 0.6667\n",
      "Epoch 7/20\n",
      "469/469 [==============================] - 1s 1ms/step - loss: 1.5680 - accuracy: 0.6932\n",
      "Epoch 8/20\n",
      "469/469 [==============================] - 1s 1ms/step - loss: 1.3749 - accuracy: 0.7217\n",
      "Epoch 9/20\n",
      "469/469 [==============================] - 1s 1ms/step - loss: 1.2116 - accuracy: 0.7432\n",
      "Epoch 10/20\n",
      "469/469 [==============================] - 1s 1ms/step - loss: 1.0807 - accuracy: 0.7633\n",
      "Epoch 11/20\n",
      "469/469 [==============================] - 1s 1ms/step - loss: 0.9767 - accuracy: 0.7798\n",
      "Epoch 12/20\n",
      "469/469 [==============================] - 1s 1ms/step - loss: 0.8930 - accuracy: 0.7929\n",
      "Epoch 13/20\n",
      "469/469 [==============================] - 1s 1ms/step - loss: 0.8245 - accuracy: 0.8037\n",
      "Epoch 14/20\n",
      "469/469 [==============================] - 1s 1ms/step - loss: 0.7675 - accuracy: 0.8124\n",
      "Epoch 15/20\n",
      "469/469 [==============================] - 1s 1ms/step - loss: 0.7196 - accuracy: 0.8215\n",
      "Epoch 16/20\n",
      "469/469 [==============================] - 1s 1ms/step - loss: 0.6790 - accuracy: 0.8274\n",
      "Epoch 17/20\n",
      "469/469 [==============================] - 1s 1ms/step - loss: 0.6445 - accuracy: 0.8339\n",
      "Epoch 18/20\n",
      "469/469 [==============================] - 1s 1ms/step - loss: 0.6147 - accuracy: 0.8398\n",
      "Epoch 19/20\n",
      "469/469 [==============================] - 1s 1ms/step - loss: 0.5889 - accuracy: 0.8452\n",
      "Epoch 20/20\n",
      "469/469 [==============================] - 1s 1ms/step - loss: 0.5664 - accuracy: 0.8494\n"
     ]
    },
    {
     "data": {
      "text/plain": [
       "<keras.callbacks.History at 0x14ec49d39d0>"
      ]
     },
     "execution_count": 12,
     "metadata": {},
     "output_type": "execute_result"
    }
   ],
   "source": [
    "model.fit(X_train, Y_train, batch_size=batch_size, epochs=20, verbose=1)"
   ]
  },
  {
   "cell_type": "code",
   "execution_count": 13,
   "id": "a5287943",
   "metadata": {},
   "outputs": [],
   "source": [
    "scores['activation'].append('sigmoid')\n",
    "scores['loss'].append('cross entropy')\n",
    "score = model.evaluate(X_test, Y_test, verbose=0)\n",
    "scores['accuracy'].append(score[1])"
   ]
  },
  {
   "cell_type": "code",
   "execution_count": 14,
   "id": "c6f57685",
   "metadata": {},
   "outputs": [
    {
     "name": "stdout",
     "output_type": "stream",
     "text": [
      "Accuracy score for problem 1: 0.859499990940094\n"
     ]
    }
   ],
   "source": [
    "print('Accuracy score for problem 1:',score[1])"
   ]
  },
  {
   "cell_type": "markdown",
   "id": "2960af12",
   "metadata": {},
   "source": [
    "## Problem 3"
   ]
  },
  {
   "cell_type": "code",
   "execution_count": 15,
   "id": "8f62d342",
   "metadata": {},
   "outputs": [],
   "source": [
    "model = create_model('relu')"
   ]
  },
  {
   "cell_type": "code",
   "execution_count": 16,
   "id": "17199894",
   "metadata": {},
   "outputs": [],
   "source": [
    "model.compile(optimizer='sgd', loss='categorical_crossentropy',\n",
    "              metrics=['accuracy'])"
   ]
  },
  {
   "cell_type": "code",
   "execution_count": 17,
   "id": "3e2cdd52",
   "metadata": {},
   "outputs": [
    {
     "name": "stdout",
     "output_type": "stream",
     "text": [
      "Epoch 1/20\n",
      "469/469 [==============================] - 1s 1ms/step - loss: 1.3225 - accuracy: 0.6617\n",
      "Epoch 2/20\n",
      "469/469 [==============================] - 1s 1ms/step - loss: 0.5216 - accuracy: 0.8632\n",
      "Epoch 3/20\n",
      "469/469 [==============================] - 1s 1ms/step - loss: 0.3986 - accuracy: 0.8897\n",
      "Epoch 4/20\n",
      "469/469 [==============================] - 1s 1ms/step - loss: 0.3484 - accuracy: 0.9019\n",
      "Epoch 5/20\n",
      "469/469 [==============================] - 1s 1ms/step - loss: 0.3188 - accuracy: 0.9098\n",
      "Epoch 6/20\n",
      "469/469 [==============================] - 1s 1ms/step - loss: 0.2980 - accuracy: 0.9153\n",
      "Epoch 7/20\n",
      "469/469 [==============================] - 1s 1ms/step - loss: 0.2817 - accuracy: 0.9199\n",
      "Epoch 8/20\n",
      "469/469 [==============================] - 1s 1ms/step - loss: 0.2679 - accuracy: 0.9242\n",
      "Epoch 9/20\n",
      "469/469 [==============================] - 1s 1ms/step - loss: 0.2557 - accuracy: 0.9277\n",
      "Epoch 10/20\n",
      "469/469 [==============================] - 1s 1ms/step - loss: 0.2447 - accuracy: 0.9300\n",
      "Epoch 11/20\n",
      "469/469 [==============================] - 1s 1ms/step - loss: 0.2345 - accuracy: 0.9330\n",
      "Epoch 12/20\n",
      "469/469 [==============================] - 1s 1ms/step - loss: 0.2250 - accuracy: 0.9355\n",
      "Epoch 13/20\n",
      "469/469 [==============================] - 1s 1ms/step - loss: 0.2163 - accuracy: 0.9385\n",
      "Epoch 14/20\n",
      "469/469 [==============================] - 1s 1ms/step - loss: 0.2083 - accuracy: 0.9406\n",
      "Epoch 15/20\n",
      "469/469 [==============================] - 1s 1ms/step - loss: 0.2009 - accuracy: 0.9425\n",
      "Epoch 16/20\n",
      "469/469 [==============================] - 1s 1ms/step - loss: 0.1939 - accuracy: 0.9449\n",
      "Epoch 17/20\n",
      "469/469 [==============================] - 1s 1ms/step - loss: 0.1875 - accuracy: 0.9468\n",
      "Epoch 18/20\n",
      "469/469 [==============================] - 1s 1ms/step - loss: 0.1816 - accuracy: 0.9480\n",
      "Epoch 19/20\n",
      "469/469 [==============================] - 1s 1ms/step - loss: 0.1759 - accuracy: 0.9498\n",
      "Epoch 20/20\n",
      "469/469 [==============================] - 1s 1ms/step - loss: 0.1704 - accuracy: 0.9513\n"
     ]
    },
    {
     "data": {
      "text/plain": [
       "<keras.callbacks.History at 0x14ed6e86f10>"
      ]
     },
     "execution_count": 17,
     "metadata": {},
     "output_type": "execute_result"
    }
   ],
   "source": [
    "model.fit(X_train, Y_train, batch_size=batch_size, epochs=20, verbose=1)"
   ]
  },
  {
   "cell_type": "code",
   "execution_count": 18,
   "id": "6a29bf21",
   "metadata": {},
   "outputs": [],
   "source": [
    "scores['activation'].append('relu')\n",
    "scores['loss'].append('cross entropy')\n",
    "score = model.evaluate(X_test, Y_test, verbose=0)\n",
    "scores['accuracy'].append(score[1])"
   ]
  },
  {
   "cell_type": "code",
   "execution_count": 19,
   "id": "217b0a3a",
   "metadata": {},
   "outputs": [
    {
     "name": "stdout",
     "output_type": "stream",
     "text": [
      "Accuracy score for problem 1: 0.9495000243186951\n"
     ]
    }
   ],
   "source": [
    "print('Accuracy score for problem 1:',score[1])"
   ]
  },
  {
   "cell_type": "code",
   "execution_count": 20,
   "id": "a884c131",
   "metadata": {},
   "outputs": [
    {
     "data": {
      "text/html": [
       "<div>\n",
       "<style scoped>\n",
       "    .dataframe tbody tr th:only-of-type {\n",
       "        vertical-align: middle;\n",
       "    }\n",
       "\n",
       "    .dataframe tbody tr th {\n",
       "        vertical-align: top;\n",
       "    }\n",
       "\n",
       "    .dataframe thead th {\n",
       "        text-align: right;\n",
       "    }\n",
       "</style>\n",
       "<table border=\"1\" class=\"dataframe\">\n",
       "  <thead>\n",
       "    <tr style=\"text-align: right;\">\n",
       "      <th></th>\n",
       "      <th>activation</th>\n",
       "      <th>loss</th>\n",
       "      <th>accuracy</th>\n",
       "    </tr>\n",
       "  </thead>\n",
       "  <tbody>\n",
       "    <tr>\n",
       "      <th>0</th>\n",
       "      <td>tanh</td>\n",
       "      <td>cross entropy</td>\n",
       "      <td>0.9400</td>\n",
       "    </tr>\n",
       "    <tr>\n",
       "      <th>1</th>\n",
       "      <td>sigmoid</td>\n",
       "      <td>cross entropy</td>\n",
       "      <td>0.8595</td>\n",
       "    </tr>\n",
       "    <tr>\n",
       "      <th>2</th>\n",
       "      <td>relu</td>\n",
       "      <td>cross entropy</td>\n",
       "      <td>0.9495</td>\n",
       "    </tr>\n",
       "  </tbody>\n",
       "</table>\n",
       "</div>"
      ],
      "text/plain": [
       "  activation           loss  accuracy\n",
       "0       tanh  cross entropy    0.9400\n",
       "1    sigmoid  cross entropy    0.8595\n",
       "2       relu  cross entropy    0.9495"
      ]
     },
     "execution_count": 20,
     "metadata": {},
     "output_type": "execute_result"
    }
   ],
   "source": [
    "pd.DataFrame(scores)"
   ]
  },
  {
   "cell_type": "markdown",
   "id": "4d5af8b7",
   "metadata": {},
   "source": [
    "Relu performed best with an accuracy of 0.94"
   ]
  },
  {
   "cell_type": "markdown",
   "id": "c68e29bb",
   "metadata": {},
   "source": [
    "# Part 2"
   ]
  },
  {
   "cell_type": "code",
   "execution_count": null,
   "id": "44a6f6f7",
   "metadata": {},
   "outputs": [],
   "source": []
  }
 ],
 "metadata": {
  "kernelspec": {
   "display_name": "Python 3",
   "language": "python",
   "name": "python3"
  },
  "language_info": {
   "codemirror_mode": {
    "name": "ipython",
    "version": 3
   },
   "file_extension": ".py",
   "mimetype": "text/x-python",
   "name": "python",
   "nbconvert_exporter": "python",
   "pygments_lexer": "ipython3",
   "version": "3.9.5"
  }
 },
 "nbformat": 4,
 "nbformat_minor": 5
}
