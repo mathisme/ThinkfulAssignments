{
 "cells": [
  {
   "cell_type": "code",
   "execution_count": 1,
   "id": "183a33dd",
   "metadata": {},
   "outputs": [],
   "source": [
    "import numpy as np\n",
    "import pandas as pd\n",
    "import seaborn as sns\n",
    "from sklearn import linear_model\n",
    "from sklearn.impute import KNNImputer\n",
    "import statsmodels.api as sm\n",
    "import matplotlib.pyplot as plt\n",
    "from sqlalchemy import create_engine\n",
    "\n",
    "import warnings\n",
    "warnings.filterwarnings('ignore')"
   ]
  },
  {
   "cell_type": "markdown",
   "id": "8166c29b",
   "metadata": {},
   "source": [
    "# Import the Data"
   ]
  },
  {
   "cell_type": "code",
   "execution_count": 2,
   "id": "122792f9",
   "metadata": {},
   "outputs": [],
   "source": [
    "postgres_user = 'dsbc_student'\n",
    "postgres_pw = '7*.8G9QH21'\n",
    "postgres_host = '142.93.121.174'\n",
    "postgres_port = '5432'\n",
    "postgres_db = 'houseprices'"
   ]
  },
  {
   "cell_type": "code",
   "execution_count": 3,
   "id": "46f7561f",
   "metadata": {},
   "outputs": [],
   "source": [
    "engine = create_engine('postgresql://{}:{}@{}:{}/{}'.format(\n",
    "    postgres_user, postgres_pw, postgres_host, postgres_port, postgres_db))\n",
    "df = pd.read_sql_query('select * from houseprices',con=engine)\n",
    "\n",
    "engine.dispose()"
   ]
  },
  {
   "cell_type": "code",
   "execution_count": 4,
   "id": "28d01c54",
   "metadata": {},
   "outputs": [
    {
     "name": "stdout",
     "output_type": "stream",
     "text": [
      "<class 'pandas.core.frame.DataFrame'>\n",
      "RangeIndex: 1460 entries, 0 to 1459\n",
      "Data columns (total 81 columns):\n",
      " #   Column         Non-Null Count  Dtype  \n",
      "---  ------         --------------  -----  \n",
      " 0   id             1460 non-null   int64  \n",
      " 1   mssubclass     1460 non-null   int64  \n",
      " 2   mszoning       1460 non-null   object \n",
      " 3   lotfrontage    1201 non-null   float64\n",
      " 4   lotarea        1460 non-null   int64  \n",
      " 5   street         1460 non-null   object \n",
      " 6   alley          91 non-null     object \n",
      " 7   lotshape       1460 non-null   object \n",
      " 8   landcontour    1460 non-null   object \n",
      " 9   utilities      1460 non-null   object \n",
      " 10  lotconfig      1460 non-null   object \n",
      " 11  landslope      1460 non-null   object \n",
      " 12  neighborhood   1460 non-null   object \n",
      " 13  condition1     1460 non-null   object \n",
      " 14  condition2     1460 non-null   object \n",
      " 15  bldgtype       1460 non-null   object \n",
      " 16  housestyle     1460 non-null   object \n",
      " 17  overallqual    1460 non-null   int64  \n",
      " 18  overallcond    1460 non-null   int64  \n",
      " 19  yearbuilt      1460 non-null   int64  \n",
      " 20  yearremodadd   1460 non-null   int64  \n",
      " 21  roofstyle      1460 non-null   object \n",
      " 22  roofmatl       1460 non-null   object \n",
      " 23  exterior1st    1460 non-null   object \n",
      " 24  exterior2nd    1460 non-null   object \n",
      " 25  masvnrtype     1452 non-null   object \n",
      " 26  masvnrarea     1452 non-null   float64\n",
      " 27  exterqual      1460 non-null   object \n",
      " 28  extercond      1460 non-null   object \n",
      " 29  foundation     1460 non-null   object \n",
      " 30  bsmtqual       1423 non-null   object \n",
      " 31  bsmtcond       1423 non-null   object \n",
      " 32  bsmtexposure   1422 non-null   object \n",
      " 33  bsmtfintype1   1423 non-null   object \n",
      " 34  bsmtfinsf1     1460 non-null   int64  \n",
      " 35  bsmtfintype2   1422 non-null   object \n",
      " 36  bsmtfinsf2     1460 non-null   int64  \n",
      " 37  bsmtunfsf      1460 non-null   int64  \n",
      " 38  totalbsmtsf    1460 non-null   int64  \n",
      " 39  heating        1460 non-null   object \n",
      " 40  heatingqc      1460 non-null   object \n",
      " 41  centralair     1460 non-null   object \n",
      " 42  electrical     1459 non-null   object \n",
      " 43  firstflrsf     1460 non-null   int64  \n",
      " 44  secondflrsf    1460 non-null   int64  \n",
      " 45  lowqualfinsf   1460 non-null   int64  \n",
      " 46  grlivarea      1460 non-null   int64  \n",
      " 47  bsmtfullbath   1460 non-null   int64  \n",
      " 48  bsmthalfbath   1460 non-null   int64  \n",
      " 49  fullbath       1460 non-null   int64  \n",
      " 50  halfbath       1460 non-null   int64  \n",
      " 51  bedroomabvgr   1460 non-null   int64  \n",
      " 52  kitchenabvgr   1460 non-null   int64  \n",
      " 53  kitchenqual    1460 non-null   object \n",
      " 54  totrmsabvgrd   1460 non-null   int64  \n",
      " 55  functional     1460 non-null   object \n",
      " 56  fireplaces     1460 non-null   int64  \n",
      " 57  fireplacequ    770 non-null    object \n",
      " 58  garagetype     1379 non-null   object \n",
      " 59  garageyrblt    1379 non-null   float64\n",
      " 60  garagefinish   1379 non-null   object \n",
      " 61  garagecars     1460 non-null   int64  \n",
      " 62  garagearea     1460 non-null   int64  \n",
      " 63  garagequal     1379 non-null   object \n",
      " 64  garagecond     1379 non-null   object \n",
      " 65  paveddrive     1460 non-null   object \n",
      " 66  wooddecksf     1460 non-null   int64  \n",
      " 67  openporchsf    1460 non-null   int64  \n",
      " 68  enclosedporch  1460 non-null   int64  \n",
      " 69  threessnporch  1460 non-null   int64  \n",
      " 70  screenporch    1460 non-null   int64  \n",
      " 71  poolarea       1460 non-null   int64  \n",
      " 72  poolqc         7 non-null      object \n",
      " 73  fence          281 non-null    object \n",
      " 74  miscfeature    54 non-null     object \n",
      " 75  miscval        1460 non-null   int64  \n",
      " 76  mosold         1460 non-null   int64  \n",
      " 77  yrsold         1460 non-null   int64  \n",
      " 78  saletype       1460 non-null   object \n",
      " 79  salecondition  1460 non-null   object \n",
      " 80  saleprice      1460 non-null   int64  \n",
      "dtypes: float64(3), int64(35), object(43)\n",
      "memory usage: 924.0+ KB\n"
     ]
    }
   ],
   "source": [
    "df.info()"
   ]
  },
  {
   "cell_type": "code",
   "execution_count": 5,
   "id": "25e4a4df",
   "metadata": {},
   "outputs": [
    {
     "data": {
      "text/html": [
       "<div>\n",
       "<style scoped>\n",
       "    .dataframe tbody tr th:only-of-type {\n",
       "        vertical-align: middle;\n",
       "    }\n",
       "\n",
       "    .dataframe tbody tr th {\n",
       "        vertical-align: top;\n",
       "    }\n",
       "\n",
       "    .dataframe thead th {\n",
       "        text-align: right;\n",
       "    }\n",
       "</style>\n",
       "<table border=\"1\" class=\"dataframe\">\n",
       "  <thead>\n",
       "    <tr style=\"text-align: right;\">\n",
       "      <th></th>\n",
       "      <th>id</th>\n",
       "      <th>mssubclass</th>\n",
       "      <th>mszoning</th>\n",
       "      <th>lotfrontage</th>\n",
       "      <th>lotarea</th>\n",
       "      <th>street</th>\n",
       "      <th>alley</th>\n",
       "      <th>lotshape</th>\n",
       "      <th>landcontour</th>\n",
       "      <th>utilities</th>\n",
       "      <th>...</th>\n",
       "      <th>poolarea</th>\n",
       "      <th>poolqc</th>\n",
       "      <th>fence</th>\n",
       "      <th>miscfeature</th>\n",
       "      <th>miscval</th>\n",
       "      <th>mosold</th>\n",
       "      <th>yrsold</th>\n",
       "      <th>saletype</th>\n",
       "      <th>salecondition</th>\n",
       "      <th>saleprice</th>\n",
       "    </tr>\n",
       "  </thead>\n",
       "  <tbody>\n",
       "    <tr>\n",
       "      <th>0</th>\n",
       "      <td>1</td>\n",
       "      <td>60</td>\n",
       "      <td>RL</td>\n",
       "      <td>65.0</td>\n",
       "      <td>8450</td>\n",
       "      <td>Pave</td>\n",
       "      <td>None</td>\n",
       "      <td>Reg</td>\n",
       "      <td>Lvl</td>\n",
       "      <td>AllPub</td>\n",
       "      <td>...</td>\n",
       "      <td>0</td>\n",
       "      <td>None</td>\n",
       "      <td>None</td>\n",
       "      <td>None</td>\n",
       "      <td>0</td>\n",
       "      <td>2</td>\n",
       "      <td>2008</td>\n",
       "      <td>WD</td>\n",
       "      <td>Normal</td>\n",
       "      <td>208500</td>\n",
       "    </tr>\n",
       "    <tr>\n",
       "      <th>1</th>\n",
       "      <td>2</td>\n",
       "      <td>20</td>\n",
       "      <td>RL</td>\n",
       "      <td>80.0</td>\n",
       "      <td>9600</td>\n",
       "      <td>Pave</td>\n",
       "      <td>None</td>\n",
       "      <td>Reg</td>\n",
       "      <td>Lvl</td>\n",
       "      <td>AllPub</td>\n",
       "      <td>...</td>\n",
       "      <td>0</td>\n",
       "      <td>None</td>\n",
       "      <td>None</td>\n",
       "      <td>None</td>\n",
       "      <td>0</td>\n",
       "      <td>5</td>\n",
       "      <td>2007</td>\n",
       "      <td>WD</td>\n",
       "      <td>Normal</td>\n",
       "      <td>181500</td>\n",
       "    </tr>\n",
       "    <tr>\n",
       "      <th>2</th>\n",
       "      <td>3</td>\n",
       "      <td>60</td>\n",
       "      <td>RL</td>\n",
       "      <td>68.0</td>\n",
       "      <td>11250</td>\n",
       "      <td>Pave</td>\n",
       "      <td>None</td>\n",
       "      <td>IR1</td>\n",
       "      <td>Lvl</td>\n",
       "      <td>AllPub</td>\n",
       "      <td>...</td>\n",
       "      <td>0</td>\n",
       "      <td>None</td>\n",
       "      <td>None</td>\n",
       "      <td>None</td>\n",
       "      <td>0</td>\n",
       "      <td>9</td>\n",
       "      <td>2008</td>\n",
       "      <td>WD</td>\n",
       "      <td>Normal</td>\n",
       "      <td>223500</td>\n",
       "    </tr>\n",
       "    <tr>\n",
       "      <th>3</th>\n",
       "      <td>4</td>\n",
       "      <td>70</td>\n",
       "      <td>RL</td>\n",
       "      <td>60.0</td>\n",
       "      <td>9550</td>\n",
       "      <td>Pave</td>\n",
       "      <td>None</td>\n",
       "      <td>IR1</td>\n",
       "      <td>Lvl</td>\n",
       "      <td>AllPub</td>\n",
       "      <td>...</td>\n",
       "      <td>0</td>\n",
       "      <td>None</td>\n",
       "      <td>None</td>\n",
       "      <td>None</td>\n",
       "      <td>0</td>\n",
       "      <td>2</td>\n",
       "      <td>2006</td>\n",
       "      <td>WD</td>\n",
       "      <td>Abnorml</td>\n",
       "      <td>140000</td>\n",
       "    </tr>\n",
       "    <tr>\n",
       "      <th>4</th>\n",
       "      <td>5</td>\n",
       "      <td>60</td>\n",
       "      <td>RL</td>\n",
       "      <td>84.0</td>\n",
       "      <td>14260</td>\n",
       "      <td>Pave</td>\n",
       "      <td>None</td>\n",
       "      <td>IR1</td>\n",
       "      <td>Lvl</td>\n",
       "      <td>AllPub</td>\n",
       "      <td>...</td>\n",
       "      <td>0</td>\n",
       "      <td>None</td>\n",
       "      <td>None</td>\n",
       "      <td>None</td>\n",
       "      <td>0</td>\n",
       "      <td>12</td>\n",
       "      <td>2008</td>\n",
       "      <td>WD</td>\n",
       "      <td>Normal</td>\n",
       "      <td>250000</td>\n",
       "    </tr>\n",
       "  </tbody>\n",
       "</table>\n",
       "<p>5 rows × 81 columns</p>\n",
       "</div>"
      ],
      "text/plain": [
       "   id  mssubclass mszoning  lotfrontage  lotarea street alley lotshape  \\\n",
       "0   1          60       RL         65.0     8450   Pave  None      Reg   \n",
       "1   2          20       RL         80.0     9600   Pave  None      Reg   \n",
       "2   3          60       RL         68.0    11250   Pave  None      IR1   \n",
       "3   4          70       RL         60.0     9550   Pave  None      IR1   \n",
       "4   5          60       RL         84.0    14260   Pave  None      IR1   \n",
       "\n",
       "  landcontour utilities  ... poolarea poolqc fence miscfeature miscval mosold  \\\n",
       "0         Lvl    AllPub  ...        0   None  None        None       0      2   \n",
       "1         Lvl    AllPub  ...        0   None  None        None       0      5   \n",
       "2         Lvl    AllPub  ...        0   None  None        None       0      9   \n",
       "3         Lvl    AllPub  ...        0   None  None        None       0      2   \n",
       "4         Lvl    AllPub  ...        0   None  None        None       0     12   \n",
       "\n",
       "  yrsold  saletype  salecondition  saleprice  \n",
       "0   2008        WD         Normal     208500  \n",
       "1   2007        WD         Normal     181500  \n",
       "2   2008        WD         Normal     223500  \n",
       "3   2006        WD        Abnorml     140000  \n",
       "4   2008        WD         Normal     250000  \n",
       "\n",
       "[5 rows x 81 columns]"
      ]
     },
     "execution_count": 5,
     "metadata": {},
     "output_type": "execute_result"
    }
   ],
   "source": [
    "df.head(5)"
   ]
  },
  {
   "cell_type": "markdown",
   "id": "b132a1f8",
   "metadata": {},
   "source": [
    "# Searching for missing values"
   ]
  },
  {
   "cell_type": "code",
   "execution_count": 6,
   "id": "5d89da5b",
   "metadata": {},
   "outputs": [
    {
     "data": {
      "text/plain": [
       "Index(['lotfrontage', 'alley', 'masvnrtype', 'masvnrarea', 'bsmtqual',\n",
       "       'bsmtcond', 'bsmtexposure', 'bsmtfintype1', 'bsmtfintype2',\n",
       "       'electrical', 'fireplacequ', 'garagetype', 'garageyrblt',\n",
       "       'garagefinish', 'garagequal', 'garagecond', 'poolqc', 'fence',\n",
       "       'miscfeature'],\n",
       "      dtype='object')"
      ]
     },
     "execution_count": 6,
     "metadata": {},
     "output_type": "execute_result"
    }
   ],
   "source": [
    "df.columns[df.isnull().sum()!=0]"
   ]
  },
  {
   "cell_type": "markdown",
   "id": "d822fcf0",
   "metadata": {},
   "source": [
    "There are many variables with apparent null values.  Next I want to search for missing values that may not be apparent"
   ]
  },
  {
   "cell_type": "code",
   "execution_count": 7,
   "id": "c1c7b34f",
   "metadata": {},
   "outputs": [
    {
     "name": "stdout",
     "output_type": "stream",
     "text": [
      "mszoning :  ['RL' 'RM' 'C (all)' 'FV' 'RH']\n",
      "street :  ['Pave' 'Grvl']\n",
      "lotshape :  ['Reg' 'IR1' 'IR2' 'IR3']\n",
      "landcontour :  ['Lvl' 'Bnk' 'Low' 'HLS']\n",
      "utilities :  ['AllPub' 'NoSeWa']\n",
      "lotconfig :  ['Inside' 'FR2' 'Corner' 'CulDSac' 'FR3']\n",
      "landslope :  ['Gtl' 'Mod' 'Sev']\n",
      "neighborhood :  ['CollgCr' 'Veenker' 'Crawfor' 'NoRidge' 'Mitchel' 'Somerst' 'NWAmes'\n",
      " 'OldTown' 'BrkSide' 'Sawyer' 'NridgHt' 'NAmes' 'SawyerW' 'IDOTRR'\n",
      " 'MeadowV' 'Edwards' 'Timber' 'Gilbert' 'StoneBr' 'ClearCr' 'NPkVill'\n",
      " 'Blmngtn' 'BrDale' 'SWISU' 'Blueste']\n",
      "condition1 :  ['Norm' 'Feedr' 'PosN' 'Artery' 'RRAe' 'RRNn' 'RRAn' 'PosA' 'RRNe']\n",
      "condition2 :  ['Norm' 'Artery' 'RRNn' 'Feedr' 'PosN' 'PosA' 'RRAn' 'RRAe']\n",
      "bldgtype :  ['1Fam' '2fmCon' 'Duplex' 'TwnhsE' 'Twnhs']\n",
      "housestyle :  ['2Story' '1Story' '1.5Fin' '1.5Unf' 'SFoyer' 'SLvl' '2.5Unf' '2.5Fin']\n",
      "roofstyle :  ['Gable' 'Hip' 'Gambrel' 'Mansard' 'Flat' 'Shed']\n",
      "roofmatl :  ['CompShg' 'WdShngl' 'Metal' 'WdShake' 'Membran' 'Tar&Grv' 'Roll'\n",
      " 'ClyTile']\n",
      "exterior1st :  ['VinylSd' 'MetalSd' 'Wd Sdng' 'HdBoard' 'BrkFace' 'WdShing' 'CemntBd'\n",
      " 'Plywood' 'AsbShng' 'Stucco' 'BrkComm' 'AsphShn' 'Stone' 'ImStucc'\n",
      " 'CBlock']\n",
      "exterior2nd :  ['VinylSd' 'MetalSd' 'Wd Shng' 'HdBoard' 'Plywood' 'Wd Sdng' 'CmentBd'\n",
      " 'BrkFace' 'Stucco' 'AsbShng' 'Brk Cmn' 'ImStucc' 'AsphShn' 'Stone'\n",
      " 'Other' 'CBlock']\n",
      "exterqual :  ['Gd' 'TA' 'Ex' 'Fa']\n",
      "extercond :  ['TA' 'Gd' 'Fa' 'Po' 'Ex']\n",
      "foundation :  ['PConc' 'CBlock' 'BrkTil' 'Wood' 'Slab' 'Stone']\n",
      "heating :  ['GasA' 'GasW' 'Grav' 'Wall' 'OthW' 'Floor']\n",
      "heatingqc :  ['Ex' 'Gd' 'TA' 'Fa' 'Po']\n",
      "centralair :  ['Y' 'N']\n",
      "kitchenqual :  ['Gd' 'TA' 'Ex' 'Fa']\n",
      "functional :  ['Typ' 'Min1' 'Maj1' 'Min2' 'Mod' 'Maj2' 'Sev']\n",
      "paveddrive :  ['Y' 'N' 'P']\n",
      "saletype :  ['WD' 'New' 'COD' 'ConLD' 'ConLI' 'CWD' 'ConLw' 'Con' 'Oth']\n",
      "salecondition :  ['Normal' 'Abnorml' 'Partial' 'AdjLand' 'Alloca' 'Family']\n"
     ]
    }
   ],
   "source": [
    "nulls = df.columns[df.isnull().sum()!=0]\n",
    "cols = df.select_dtypes('object')\n",
    "for col in cols:\n",
    "    if col not in nulls:\n",
    "        print(col,\": \",df[col].unique())"
   ]
  },
  {
   "cell_type": "markdown",
   "id": "4bdd5e50",
   "metadata": {},
   "source": [
    "now checking to see if any numeric values have a minimum as 0 as this could be a missing value"
   ]
  },
  {
   "cell_type": "code",
   "execution_count": 8,
   "id": "503d2c34",
   "metadata": {},
   "outputs": [
    {
     "name": "stdout",
     "output_type": "stream",
     "text": [
      "id :  1\n",
      "mssubclass :  20\n",
      "lotarea :  1300\n",
      "overallqual :  1\n",
      "overallcond :  1\n",
      "yearbuilt :  1872\n",
      "yearremodadd :  1950\n",
      "bsmtfinsf1 :  0\n",
      "bsmtfinsf2 :  0\n",
      "bsmtunfsf :  0\n",
      "totalbsmtsf :  0\n",
      "firstflrsf :  334\n",
      "secondflrsf :  0\n",
      "lowqualfinsf :  0\n",
      "grlivarea :  334\n",
      "bsmtfullbath :  0\n",
      "bsmthalfbath :  0\n",
      "fullbath :  0\n",
      "halfbath :  0\n",
      "bedroomabvgr :  0\n",
      "kitchenabvgr :  0\n",
      "totrmsabvgrd :  2\n",
      "fireplaces :  0\n",
      "garagecars :  0\n",
      "garagearea :  0\n",
      "wooddecksf :  0\n",
      "openporchsf :  0\n",
      "enclosedporch :  0\n",
      "threessnporch :  0\n",
      "screenporch :  0\n",
      "poolarea :  0\n",
      "miscval :  0\n",
      "mosold :  1\n",
      "yrsold :  2006\n",
      "saleprice :  34900\n"
     ]
    }
   ],
   "source": [
    "cols = df.select_dtypes(exclude='object')\n",
    "for col in cols:\n",
    "    if col not in nulls:\n",
    "        print(col,\": \",df[col].min())"
   ]
  },
  {
   "cell_type": "markdown",
   "id": "8a7445eb",
   "metadata": {},
   "source": [
    "As these have to do with counts and area, I'm assuming 0 is acceptable.  If I had more time I would look more into each"
   ]
  },
  {
   "cell_type": "code",
   "execution_count": 9,
   "id": "35636b7e",
   "metadata": {},
   "outputs": [
    {
     "name": "stdout",
     "output_type": "stream",
     "text": [
      "lotfrontage :  259\n",
      "alley :  1369\n",
      "masvnrtype :  8\n",
      "masvnrarea :  8\n",
      "bsmtqual :  37\n",
      "bsmtcond :  37\n",
      "bsmtexposure :  38\n",
      "bsmtfintype1 :  37\n",
      "bsmtfintype2 :  38\n",
      "electrical :  1\n",
      "fireplacequ :  690\n",
      "garagetype :  81\n",
      "garageyrblt :  81\n",
      "garagefinish :  81\n",
      "garagequal :  81\n",
      "garagecond :  81\n",
      "poolqc :  1453\n",
      "fence :  1179\n",
      "miscfeature :  1406\n"
     ]
    }
   ],
   "source": [
    "for null in nulls:\n",
    "    print(null, \": \", df[null].isnull().sum())"
   ]
  },
  {
   "cell_type": "code",
   "execution_count": 10,
   "id": "83cc1ee4",
   "metadata": {},
   "outputs": [
    {
     "data": {
      "text/plain": [
       "0.18518518518518517"
      ]
     },
     "execution_count": 10,
     "metadata": {},
     "output_type": "execute_result"
    }
   ],
   "source": [
    "(df.isnull().sum(axis=1).max())/df.shape[1]"
   ]
  },
  {
   "cell_type": "markdown",
   "id": "d2617d86",
   "metadata": {},
   "source": [
    "The greatest percentage of missing values in 1 row is about 19%.  If 20% of the data was missing, I would drop that row."
   ]
  },
  {
   "cell_type": "code",
   "execution_count": 11,
   "id": "86df35b5",
   "metadata": {},
   "outputs": [],
   "source": [
    "categorical = df.select_dtypes('object').columns"
   ]
  },
  {
   "cell_type": "code",
   "execution_count": 12,
   "id": "bc498217",
   "metadata": {},
   "outputs": [
    {
     "data": {
      "text/plain": [
       "['alley',\n",
       " 'masvnrtype',\n",
       " 'bsmtqual',\n",
       " 'bsmtcond',\n",
       " 'bsmtexposure',\n",
       " 'bsmtfintype1',\n",
       " 'bsmtfintype2',\n",
       " 'electrical',\n",
       " 'fireplacequ',\n",
       " 'garagetype',\n",
       " 'garagefinish',\n",
       " 'garagequal',\n",
       " 'garagecond',\n",
       " 'poolqc',\n",
       " 'fence',\n",
       " 'miscfeature']"
      ]
     },
     "execution_count": 12,
     "metadata": {},
     "output_type": "execute_result"
    }
   ],
   "source": [
    "categorical_nulls = [x for x in nulls if x in categorical]\n",
    "categorical_nulls"
   ]
  },
  {
   "cell_type": "markdown",
   "id": "e00699c4",
   "metadata": {},
   "source": [
    "Above are the categorical columns with nulls.  As none is a possible value for many of these, such as fence, I will leave them as none.  "
   ]
  },
  {
   "cell_type": "code",
   "execution_count": 13,
   "id": "fae99a19",
   "metadata": {},
   "outputs": [],
   "source": [
    "df.fillna('None', inplace=True)"
   ]
  },
  {
   "cell_type": "code",
   "execution_count": 31,
   "id": "686cd4fc",
   "metadata": {},
   "outputs": [],
   "source": [
    "# it is hard to determine if None is missing or None just means none"
   ]
  },
  {
   "cell_type": "code",
   "execution_count": 14,
   "id": "e2151f68",
   "metadata": {},
   "outputs": [],
   "source": [
    "df2 = pd.get_dummies(df)"
   ]
  },
  {
   "cell_type": "markdown",
   "id": "58f402f3",
   "metadata": {},
   "source": [
    "# Looking at histograms of numerical values to determine distribution and check for outliers"
   ]
  },
  {
   "cell_type": "markdown",
   "id": "e32226a9",
   "metadata": {},
   "source": [
    "## Histogram and outliers for dependent variable, sale price."
   ]
  },
  {
   "cell_type": "code",
   "execution_count": 15,
   "id": "e5aa0cd2",
   "metadata": {},
   "outputs": [
    {
     "data": {
      "text/plain": [
       "(array([148., 723., 373., 135.,  51.,  19.,   4.,   3.,   2.,   2.]),\n",
       " array([ 34900., 106910., 178920., 250930., 322940., 394950., 466960.,\n",
       "        538970., 610980., 682990., 755000.]),\n",
       " <BarContainer object of 10 artists>)"
      ]
     },
     "execution_count": 15,
     "metadata": {},
     "output_type": "execute_result"
    },
    {
     "data": {
      "image/png": "[encoded data removed]",
      "text/plain": [
       "<Figure size 432x288 with 1 Axes>"
      ]
     },
     "metadata": {
      "needs_background": "light"
     },
     "output_type": "display_data"
    }
   ],
   "source": [
    "plt.hist(df['saleprice'])"
   ]
  },
  {
   "cell_type": "markdown",
   "id": "98072850",
   "metadata": {},
   "source": [
    "saleprice is not normal,  will try a log transformation."
   ]
  },
  {
   "cell_type": "code",
   "execution_count": 16,
   "id": "55bb954b",
   "metadata": {},
   "outputs": [
    {
     "data": {
      "text/plain": [
       "(array([  4.,   1.,   0.,   5.,   7.,   6.,  26.,  45.,  47., 114., 165.,\n",
       "        215., 172., 199., 119., 109.,  88.,  52.,  35.,  26.,  12.,   5.,\n",
       "          4.,   2.,   2.]),\n",
       " array([10.46024211, 10.58321134, 10.70618058, 10.82914982, 10.95211906,\n",
       "        11.07508829, 11.19805753, 11.32102677, 11.443996  , 11.56696524,\n",
       "        11.68993448, 11.81290371, 11.93587295, 12.05884219, 12.18181142,\n",
       "        12.30478066, 12.4277499 , 12.55071913, 12.67368837, 12.79665761,\n",
       "        12.91962684, 13.04259608, 13.16556532, 13.28853455, 13.41150379,\n",
       "        13.53447303]),\n",
       " <BarContainer object of 25 artists>)"
      ]
     },
     "execution_count": 16,
     "metadata": {},
     "output_type": "execute_result"
    },
    {
     "data": {
      "image/png": "[encoded data removed]",
      "text/plain": [
       "<Figure size 432x288 with 1 Axes>"
      ]
     },
     "metadata": {
      "needs_background": "light"
     },
     "output_type": "display_data"
    }
   ],
   "source": [
    "plt.hist(np.log(df['saleprice']), bins=25)"
   ]
  },
  {
   "cell_type": "markdown",
   "id": "51ce72c0",
   "metadata": {},
   "source": [
    "I'm creating a log transformed saleprice just to do outlier detection for saleprice"
   ]
  },
  {
   "cell_type": "code",
   "execution_count": 17,
   "id": "b2430678",
   "metadata": {},
   "outputs": [],
   "source": [
    "df['log_sale'] = np.log(df['saleprice'])"
   ]
  },
  {
   "cell_type": "code",
   "execution_count": 18,
   "id": "e940fc8b",
   "metadata": {},
   "outputs": [],
   "source": [
    "mu = df['log_sale'].mean()\n",
    "std = df['log_sale'].std()\n",
    "sale_outliers = df[(df['log_sale']<mu-3*std)|(df['log_sale']>mu+3*std)].index"
   ]
  },
  {
   "cell_type": "code",
   "execution_count": 19,
   "id": "6b44a162",
   "metadata": {},
   "outputs": [
    {
     "data": {
      "text/plain": [
       "Int64Index([30, 441, 496, 533, 691, 803, 898, 916, 968, 1046, 1169, 1182], dtype='int64')"
      ]
     },
     "execution_count": 19,
     "metadata": {},
     "output_type": "execute_result"
    }
   ],
   "source": [
    "sale_outliers"
   ]
  },
  {
   "cell_type": "markdown",
   "id": "b6ed9b1a",
   "metadata": {},
   "source": [
    "As there are only 12 outliers on saleprice, I will drop those 12."
   ]
  },
  {
   "cell_type": "code",
   "execution_count": 20,
   "id": "34970da9",
   "metadata": {},
   "outputs": [],
   "source": [
    "df2.drop(sale_outliers, inplace=True)"
   ]
  },
  {
   "cell_type": "markdown",
   "id": "b8af44a4",
   "metadata": {},
   "source": [
    "I was going to go through each variable and for numeric variables look for outliers, for categorical variables, look for outliers for saleprice by each category, then drop any outliers that were persistent across different variables and hard cap other outliers.  But since this is an assignment and not a capstone project, that would take too long.  So I decided to just drop the outliers with sale price."
   ]
  },
  {
   "cell_type": "markdown",
   "id": "11300575",
   "metadata": {},
   "source": [
    "## Looking for correlation with numeric values"
   ]
  },
  {
   "cell_type": "code",
   "execution_count": 25,
   "id": "8a0dc2c8",
   "metadata": {},
   "outputs": [],
   "source": [
    "numeric = categorical = df.select_dtypes(exclude='object').columns"
   ]
  },
  {
   "cell_type": "code",
   "execution_count": 31,
   "id": "2a7b9922",
   "metadata": {},
   "outputs": [
    {
     "data": {
      "text/plain": [
       "saleprice        1.000000\n",
       "log_sale         0.948374\n",
       "overallqual      0.790982\n",
       "grlivarea        0.708624\n",
       "garagecars       0.640409\n",
       "garagearea       0.623431\n",
       "totalbsmtsf      0.613581\n",
       "firstflrsf       0.605852\n",
       "fullbath         0.560664\n",
       "totrmsabvgrd     0.533723\n",
       "yearbuilt        0.522897\n",
       "yearremodadd     0.507101\n",
       "fireplaces       0.466929\n",
       "bsmtfinsf1       0.386420\n",
       "wooddecksf       0.324413\n",
       "secondflrsf      0.319334\n",
       "openporchsf      0.315856\n",
       "halfbath         0.284108\n",
       "lotarea          0.263843\n",
       "bsmtfullbath     0.227122\n",
       "bsmtunfsf        0.214479\n",
       "bedroomabvgr     0.168213\n",
       "kitchenabvgr     0.135907\n",
       "enclosedporch    0.128578\n",
       "screenporch      0.111447\n",
       "poolarea         0.092404\n",
       "mssubclass       0.084284\n",
       "overallcond      0.077856\n",
       "mosold           0.046432\n",
       "threessnporch    0.044584\n",
       "yrsold           0.028923\n",
       "lowqualfinsf     0.025606\n",
       "id               0.021917\n",
       "miscval          0.021190\n",
       "bsmthalfbath     0.016844\n",
       "bsmtfinsf2       0.011378\n",
       "Name: saleprice, dtype: float64"
      ]
     },
     "execution_count": 31,
     "metadata": {},
     "output_type": "execute_result"
    }
   ],
   "source": [
    "np.abs((df[numeric].corr())['saleprice']).sort_values(ascending=False)"
   ]
  },
  {
   "cell_type": "code",
   "execution_count": 32,
   "id": "f04694be",
   "metadata": {},
   "outputs": [],
   "source": [
    "corr_numeric = np.abs((df[numeric].corr())['saleprice'])"
   ]
  },
  {
   "cell_type": "code",
   "execution_count": 36,
   "id": "23c53b69",
   "metadata": {},
   "outputs": [
    {
     "data": {
      "text/plain": [
       "overallqual     0.790982\n",
       "grlivarea       0.708624\n",
       "garagecars      0.640409\n",
       "garagearea      0.623431\n",
       "totalbsmtsf     0.613581\n",
       "firstflrsf      0.605852\n",
       "fullbath        0.560664\n",
       "totrmsabvgrd    0.533723\n",
       "yearbuilt       0.522897\n",
       "yearremodadd    0.507101\n",
       "Name: saleprice, dtype: float64"
      ]
     },
     "execution_count": 36,
     "metadata": {},
     "output_type": "execute_result"
    }
   ],
   "source": [
    "top_corr_numeric = corr_numeric[(corr_numeric>0.5)&(corr_numeric<0.9)]\n",
    "top_corr_numeric.sort_values(ascending=False)"
   ]
  },
  {
   "cell_type": "markdown",
   "id": "08312e07",
   "metadata": {},
   "source": [
    "The above ten variables appear highly correlated with saleprice.  I want to first visualize these with scatterplots and then check for any correlation between these variables."
   ]
  },
  {
   "cell_type": "code",
   "execution_count": 48,
   "id": "45100981",
   "metadata": {},
   "outputs": [
    {
     "data": {
      "text/plain": [
       "Index(['overallqual', 'yearbuilt', 'yearremodadd', 'totalbsmtsf', 'firstflrsf',\n",
       "       'grlivarea', 'fullbath', 'totrmsabvgrd', 'garagecars', 'garagearea'],\n",
       "      dtype='object')"
      ]
     },
     "execution_count": 48,
     "metadata": {},
     "output_type": "execute_result"
    }
   ],
   "source": [
    "top_corr_numeric_names = top_corr_numeric.index\n",
    "top_corr_numeric_names"
   ]
  },
  {
   "cell_type": "code",
   "execution_count": 46,
   "id": "95ce3fc3",
   "metadata": {},
   "outputs": [
    {
     "data": {
      "image/png": "[encoded data removed]",
      "text/plain": [
       "<Figure size 432x288 with 10 Axes>"
      ]
     },
     "metadata": {
      "needs_background": "light"
     },
     "output_type": "display_data"
    }
   ],
   "source": [
    "fig, axs = plt.subplots(5,2)\n",
    "i = 0\n",
    "for col in top_corr_numeric_names:\n",
    "    axs[i//2,i%2].scatter(col,'saleprice',data=df2)\n",
    "    i=i+1"
   ]
  },
  {
   "cell_type": "code",
   "execution_count": 47,
   "id": "5c2f24f9",
   "metadata": {},
   "outputs": [
    {
     "data": {
      "text/html": [
       "<div>\n",
       "<style scoped>\n",
       "    .dataframe tbody tr th:only-of-type {\n",
       "        vertical-align: middle;\n",
       "    }\n",
       "\n",
       "    .dataframe tbody tr th {\n",
       "        vertical-align: top;\n",
       "    }\n",
       "\n",
       "    .dataframe thead th {\n",
       "        text-align: right;\n",
       "    }\n",
       "</style>\n",
       "<table border=\"1\" class=\"dataframe\">\n",
       "  <thead>\n",
       "    <tr style=\"text-align: right;\">\n",
       "      <th></th>\n",
       "      <th>overallqual</th>\n",
       "      <th>yearbuilt</th>\n",
       "      <th>yearremodadd</th>\n",
       "      <th>totalbsmtsf</th>\n",
       "      <th>firstflrsf</th>\n",
       "      <th>grlivarea</th>\n",
       "      <th>fullbath</th>\n",
       "      <th>totrmsabvgrd</th>\n",
       "      <th>garagecars</th>\n",
       "      <th>garagearea</th>\n",
       "    </tr>\n",
       "  </thead>\n",
       "  <tbody>\n",
       "    <tr>\n",
       "      <th>overallqual</th>\n",
       "      <td>1.000000</td>\n",
       "      <td>0.568794</td>\n",
       "      <td>0.545061</td>\n",
       "      <td>0.517502</td>\n",
       "      <td>0.452407</td>\n",
       "      <td>0.574178</td>\n",
       "      <td>0.536162</td>\n",
       "      <td>0.404157</td>\n",
       "      <td>0.588830</td>\n",
       "      <td>0.550581</td>\n",
       "    </tr>\n",
       "    <tr>\n",
       "      <th>yearbuilt</th>\n",
       "      <td>0.568794</td>\n",
       "      <td>1.000000</td>\n",
       "      <td>0.588030</td>\n",
       "      <td>0.384080</td>\n",
       "      <td>0.270001</td>\n",
       "      <td>0.186297</td>\n",
       "      <td>0.463264</td>\n",
       "      <td>0.080174</td>\n",
       "      <td>0.530976</td>\n",
       "      <td>0.471435</td>\n",
       "    </tr>\n",
       "    <tr>\n",
       "      <th>yearremodadd</th>\n",
       "      <td>0.545061</td>\n",
       "      <td>0.588030</td>\n",
       "      <td>1.000000</td>\n",
       "      <td>0.280705</td>\n",
       "      <td>0.227220</td>\n",
       "      <td>0.279669</td>\n",
       "      <td>0.433108</td>\n",
       "      <td>0.178098</td>\n",
       "      <td>0.411348</td>\n",
       "      <td>0.362095</td>\n",
       "    </tr>\n",
       "    <tr>\n",
       "      <th>totalbsmtsf</th>\n",
       "      <td>0.517502</td>\n",
       "      <td>0.384080</td>\n",
       "      <td>0.280705</td>\n",
       "      <td>1.000000</td>\n",
       "      <td>0.811886</td>\n",
       "      <td>0.429916</td>\n",
       "      <td>0.304518</td>\n",
       "      <td>0.257649</td>\n",
       "      <td>0.419796</td>\n",
       "      <td>0.476560</td>\n",
       "    </tr>\n",
       "    <tr>\n",
       "      <th>firstflrsf</th>\n",
       "      <td>0.452407</td>\n",
       "      <td>0.270001</td>\n",
       "      <td>0.227220</td>\n",
       "      <td>0.811886</td>\n",
       "      <td>1.000000</td>\n",
       "      <td>0.547075</td>\n",
       "      <td>0.362093</td>\n",
       "      <td>0.387671</td>\n",
       "      <td>0.423683</td>\n",
       "      <td>0.478084</td>\n",
       "    </tr>\n",
       "    <tr>\n",
       "      <th>grlivarea</th>\n",
       "      <td>0.574178</td>\n",
       "      <td>0.186297</td>\n",
       "      <td>0.279669</td>\n",
       "      <td>0.429916</td>\n",
       "      <td>0.547075</td>\n",
       "      <td>1.000000</td>\n",
       "      <td>0.617792</td>\n",
       "      <td>0.825776</td>\n",
       "      <td>0.454116</td>\n",
       "      <td>0.457061</td>\n",
       "    </tr>\n",
       "    <tr>\n",
       "      <th>fullbath</th>\n",
       "      <td>0.536162</td>\n",
       "      <td>0.463264</td>\n",
       "      <td>0.433108</td>\n",
       "      <td>0.304518</td>\n",
       "      <td>0.362093</td>\n",
       "      <td>0.617792</td>\n",
       "      <td>1.000000</td>\n",
       "      <td>0.542746</td>\n",
       "      <td>0.458881</td>\n",
       "      <td>0.393330</td>\n",
       "    </tr>\n",
       "    <tr>\n",
       "      <th>totrmsabvgrd</th>\n",
       "      <td>0.404157</td>\n",
       "      <td>0.080174</td>\n",
       "      <td>0.178098</td>\n",
       "      <td>0.257649</td>\n",
       "      <td>0.387671</td>\n",
       "      <td>0.825776</td>\n",
       "      <td>0.542746</td>\n",
       "      <td>1.000000</td>\n",
       "      <td>0.345013</td>\n",
       "      <td>0.320371</td>\n",
       "    </tr>\n",
       "    <tr>\n",
       "      <th>garagecars</th>\n",
       "      <td>0.588830</td>\n",
       "      <td>0.530976</td>\n",
       "      <td>0.411348</td>\n",
       "      <td>0.419796</td>\n",
       "      <td>0.423683</td>\n",
       "      <td>0.454116</td>\n",
       "      <td>0.458881</td>\n",
       "      <td>0.345013</td>\n",
       "      <td>1.000000</td>\n",
       "      <td>0.880058</td>\n",
       "    </tr>\n",
       "    <tr>\n",
       "      <th>garagearea</th>\n",
       "      <td>0.550581</td>\n",
       "      <td>0.471435</td>\n",
       "      <td>0.362095</td>\n",
       "      <td>0.476560</td>\n",
       "      <td>0.478084</td>\n",
       "      <td>0.457061</td>\n",
       "      <td>0.393330</td>\n",
       "      <td>0.320371</td>\n",
       "      <td>0.880058</td>\n",
       "      <td>1.000000</td>\n",
       "    </tr>\n",
       "  </tbody>\n",
       "</table>\n",
       "</div>"
      ],
      "text/plain": [
       "              overallqual  yearbuilt  yearremodadd  totalbsmtsf  firstflrsf  \\\n",
       "overallqual      1.000000   0.568794      0.545061     0.517502    0.452407   \n",
       "yearbuilt        0.568794   1.000000      0.588030     0.384080    0.270001   \n",
       "yearremodadd     0.545061   0.588030      1.000000     0.280705    0.227220   \n",
       "totalbsmtsf      0.517502   0.384080      0.280705     1.000000    0.811886   \n",
       "firstflrsf       0.452407   0.270001      0.227220     0.811886    1.000000   \n",
       "grlivarea        0.574178   0.186297      0.279669     0.429916    0.547075   \n",
       "fullbath         0.536162   0.463264      0.433108     0.304518    0.362093   \n",
       "totrmsabvgrd     0.404157   0.080174      0.178098     0.257649    0.387671   \n",
       "garagecars       0.588830   0.530976      0.411348     0.419796    0.423683   \n",
       "garagearea       0.550581   0.471435      0.362095     0.476560    0.478084   \n",
       "\n",
       "              grlivarea  fullbath  totrmsabvgrd  garagecars  garagearea  \n",
       "overallqual    0.574178  0.536162      0.404157    0.588830    0.550581  \n",
       "yearbuilt      0.186297  0.463264      0.080174    0.530976    0.471435  \n",
       "yearremodadd   0.279669  0.433108      0.178098    0.411348    0.362095  \n",
       "totalbsmtsf    0.429916  0.304518      0.257649    0.419796    0.476560  \n",
       "firstflrsf     0.547075  0.362093      0.387671    0.423683    0.478084  \n",
       "grlivarea      1.000000  0.617792      0.825776    0.454116    0.457061  \n",
       "fullbath       0.617792  1.000000      0.542746    0.458881    0.393330  \n",
       "totrmsabvgrd   0.825776  0.542746      1.000000    0.345013    0.320371  \n",
       "garagecars     0.454116  0.458881      0.345013    1.000000    0.880058  \n",
       "garagearea     0.457061  0.393330      0.320371    0.880058    1.000000  "
      ]
     },
     "execution_count": 47,
     "metadata": {},
     "output_type": "execute_result"
    }
   ],
   "source": [
    "df2[top_corr_numeric.index].corr()"
   ]
  },
  {
   "cell_type": "code",
   "execution_count": 49,
   "id": "c418d94f",
   "metadata": {},
   "outputs": [
    {
     "data": {
      "text/plain": [
       "overallqual     1.000000\n",
       "yearbuilt       0.568794\n",
       "yearremodadd    0.545061\n",
       "totalbsmtsf     0.517502\n",
       "firstflrsf      0.452407\n",
       "grlivarea       0.574178\n",
       "fullbath        0.536162\n",
       "totrmsabvgrd    0.404157\n",
       "garagecars      0.588830\n",
       "garagearea      0.550581\n",
       "Name: overallqual, dtype: float64"
      ]
     },
     "execution_count": 49,
     "metadata": {},
     "output_type": "execute_result"
    }
   ],
   "source": [
    "df2[top_corr_numeric.index].corr()['overallqual']"
   ]
  },
  {
   "cell_type": "markdown",
   "id": "a9043879",
   "metadata": {},
   "source": [
    "Overall quality seems highly correlated with everything except firstflrsf and totalrmsabv ground.  This being the case, overall quality, firstflsf, and totalrmsabvgrd will be the only 3 numeric variables included in the model."
   ]
  },
  {
   "cell_type": "code",
   "execution_count": 50,
   "id": "ff1eb0dc",
   "metadata": {},
   "outputs": [],
   "source": [
    "numeric_variables = ['overallqual','firstflrsf','totrmsabvgrd']"
   ]
  },
  {
   "cell_type": "code",
   "execution_count": 37,
   "id": "84637354",
   "metadata": {},
   "outputs": [
    {
     "data": {
      "text/plain": [
       "<AxesSubplot:xlabel='bldgtype', ylabel='saleprice'>"
      ]
     },
     "execution_count": 37,
     "metadata": {},
     "output_type": "execute_result"
    },
    {
     "data": {
      "image/png": "[encoded data removed]",
      "text/plain": [
       "<Figure size 432x288 with 1 Axes>"
      ]
     },
     "metadata": {
      "needs_background": "light"
     },
     "output_type": "display_data"
    }
   ],
   "source": [
    "sns.boxplot('bldgtype','saleprice',data=df)"
   ]
  },
  {
   "cell_type": "code",
   "execution_count": null,
   "id": "d4b41595",
   "metadata": {},
   "outputs": [],
   "source": []
  }
 ],
 "metadata": {
  "kernelspec": {
   "display_name": "Python 3",
   "language": "python",
   "name": "python3"
  },
  "language_info": {
   "codemirror_mode": {
    "name": "ipython",
    "version": 3
   },
   "file_extension": ".py",
   "mimetype": "text/x-python",
   "name": "python",
   "nbconvert_exporter": "python",
   "pygments_lexer": "ipython3",
   "version": "3.9.5"
  }
 },
 "nbformat": 4,
 "nbformat_minor": 5
}
