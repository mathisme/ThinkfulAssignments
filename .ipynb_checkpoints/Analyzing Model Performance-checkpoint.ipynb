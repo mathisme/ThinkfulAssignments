{
 "cells": [
  {
   "cell_type": "code",
   "execution_count": 1,
   "id": "ea5559b8",
   "metadata": {},
   "outputs": [],
   "source": [
    "import numpy as np\n",
    "import pandas as pd\n",
    "import matplotlib.pyplot as plt\n",
    "from sklearn.linear_model import LogisticRegression\n",
    "from sklearn.model_selection import train_test_split\n",
    "from sklearn.neighbors import KNeighborsClassifier\n",
    "from sklearn.ensemble import RandomForestClassifier\n",
    "from sklearn.dummy import DummyClassifier\n",
    "from sklearn.metrics import confusion_matrix\n",
    "from sklearn.utils.multiclass import unique_labels\n",
    "from sklearn.metrics import accuracy_score, precision_score, recall_score, f1_score, fbeta_score, classification_report\n",
    "from sklearn.metrics import roc_curve, precision_recall_curve, roc_auc_score\n"
   ]
  },
  {
   "cell_type": "code",
   "execution_count": 2,
   "id": "4b3ca6c7",
   "metadata": {},
   "outputs": [],
   "source": [
    "df_train_data = pd.read_csv('http://archive.ics.uci.edu/ml/machine-learning-databases/statlog/shuttle/shuttle.tst', \n",
    "                            header=None, sep=' ')"
   ]
  },
  {
   "cell_type": "code",
   "execution_count": 4,
   "id": "b99332c5",
   "metadata": {},
   "outputs": [
    {
     "name": "stdout",
     "output_type": "stream",
     "text": [
      "<class 'pandas.core.frame.DataFrame'>\n",
      "RangeIndex: 14500 entries, 0 to 14499\n",
      "Data columns (total 10 columns):\n",
      " #   Column  Non-Null Count  Dtype\n",
      "---  ------  --------------  -----\n",
      " 0   0       14500 non-null  int64\n",
      " 1   1       14500 non-null  int64\n",
      " 2   2       14500 non-null  int64\n",
      " 3   3       14500 non-null  int64\n",
      " 4   4       14500 non-null  int64\n",
      " 5   5       14500 non-null  int64\n",
      " 6   6       14500 non-null  int64\n",
      " 7   7       14500 non-null  int64\n",
      " 8   8       14500 non-null  int64\n",
      " 9   9       14500 non-null  int64\n",
      "dtypes: int64(10)\n",
      "memory usage: 1.1 MB\n"
     ]
    }
   ],
   "source": [
    "df_train_data.info()"
   ]
  },
  {
   "cell_type": "code",
   "execution_count": 3,
   "id": "28e23533",
   "metadata": {},
   "outputs": [
    {
     "data": {
      "text/html": [
       "<div>\n",
       "<style scoped>\n",
       "    .dataframe tbody tr th:only-of-type {\n",
       "        vertical-align: middle;\n",
       "    }\n",
       "\n",
       "    .dataframe tbody tr th {\n",
       "        vertical-align: top;\n",
       "    }\n",
       "\n",
       "    .dataframe thead th {\n",
       "        text-align: right;\n",
       "    }\n",
       "</style>\n",
       "<table border=\"1\" class=\"dataframe\">\n",
       "  <thead>\n",
       "    <tr style=\"text-align: right;\">\n",
       "      <th></th>\n",
       "      <th>0</th>\n",
       "      <th>1</th>\n",
       "      <th>2</th>\n",
       "      <th>3</th>\n",
       "      <th>4</th>\n",
       "      <th>5</th>\n",
       "      <th>6</th>\n",
       "      <th>7</th>\n",
       "      <th>8</th>\n",
       "      <th>9</th>\n",
       "    </tr>\n",
       "  </thead>\n",
       "  <tbody>\n",
       "    <tr>\n",
       "      <th>0</th>\n",
       "      <td>55</td>\n",
       "      <td>0</td>\n",
       "      <td>81</td>\n",
       "      <td>0</td>\n",
       "      <td>-6</td>\n",
       "      <td>11</td>\n",
       "      <td>25</td>\n",
       "      <td>88</td>\n",
       "      <td>64</td>\n",
       "      <td>4</td>\n",
       "    </tr>\n",
       "    <tr>\n",
       "      <th>1</th>\n",
       "      <td>56</td>\n",
       "      <td>0</td>\n",
       "      <td>96</td>\n",
       "      <td>0</td>\n",
       "      <td>52</td>\n",
       "      <td>-4</td>\n",
       "      <td>40</td>\n",
       "      <td>44</td>\n",
       "      <td>4</td>\n",
       "      <td>4</td>\n",
       "    </tr>\n",
       "    <tr>\n",
       "      <th>2</th>\n",
       "      <td>50</td>\n",
       "      <td>-1</td>\n",
       "      <td>89</td>\n",
       "      <td>-7</td>\n",
       "      <td>50</td>\n",
       "      <td>0</td>\n",
       "      <td>39</td>\n",
       "      <td>40</td>\n",
       "      <td>2</td>\n",
       "      <td>1</td>\n",
       "    </tr>\n",
       "    <tr>\n",
       "      <th>3</th>\n",
       "      <td>53</td>\n",
       "      <td>9</td>\n",
       "      <td>79</td>\n",
       "      <td>0</td>\n",
       "      <td>42</td>\n",
       "      <td>-2</td>\n",
       "      <td>25</td>\n",
       "      <td>37</td>\n",
       "      <td>12</td>\n",
       "      <td>4</td>\n",
       "    </tr>\n",
       "    <tr>\n",
       "      <th>4</th>\n",
       "      <td>55</td>\n",
       "      <td>2</td>\n",
       "      <td>82</td>\n",
       "      <td>0</td>\n",
       "      <td>54</td>\n",
       "      <td>-6</td>\n",
       "      <td>26</td>\n",
       "      <td>28</td>\n",
       "      <td>2</td>\n",
       "      <td>1</td>\n",
       "    </tr>\n",
       "  </tbody>\n",
       "</table>\n",
       "</div>"
      ],
      "text/plain": [
       "    0  1   2  3   4   5   6   7   8  9\n",
       "0  55  0  81  0  -6  11  25  88  64  4\n",
       "1  56  0  96  0  52  -4  40  44   4  4\n",
       "2  50 -1  89 -7  50   0  39  40   2  1\n",
       "3  53  9  79  0  42  -2  25  37  12  4\n",
       "4  55  2  82  0  54  -6  26  28   2  1"
      ]
     },
     "execution_count": 3,
     "metadata": {},
     "output_type": "execute_result"
    }
   ],
   "source": [
    "df_train_data.head()"
   ]
  },
  {
   "cell_type": "markdown",
   "id": "569fbd8b",
   "metadata": {},
   "source": [
    "# Split the Dataframe into X and Y"
   ]
  },
  {
   "cell_type": "code",
   "execution_count": 9,
   "id": "56be8e6a",
   "metadata": {},
   "outputs": [],
   "source": [
    "X = df_train_data.drop(9, axis=1)\n",
    "y = df_train_data[9]"
   ]
  },
  {
   "cell_type": "code",
   "execution_count": 10,
   "id": "7c617477",
   "metadata": {},
   "outputs": [
    {
     "data": {
      "text/plain": [
       "array([4, 1, 5, 3, 2, 7, 6], dtype=int64)"
      ]
     },
     "execution_count": 10,
     "metadata": {},
     "output_type": "execute_result"
    }
   ],
   "source": [
    "y.unique()"
   ]
  },
  {
   "cell_type": "markdown",
   "id": "d4feaeb7",
   "metadata": {},
   "source": [
    "# For binary classification, convert y values into 2 classes, the 1 class and the rest as zeros."
   ]
  },
  {
   "cell_type": "code",
   "execution_count": 12,
   "id": "340e8a0c",
   "metadata": {},
   "outputs": [],
   "source": [
    "y = np.where(y==1,1,0)"
   ]
  },
  {
   "cell_type": "markdown",
   "id": "2a2a3ad5",
   "metadata": {},
   "source": [
    "# Split into train-test sets"
   ]
  },
  {
   "cell_type": "code",
   "execution_count": 14,
   "id": "434438fc",
   "metadata": {},
   "outputs": [],
   "source": [
    "X_train, X_test, y_train, y_test = train_test_split(X,y,random_state=675)"
   ]
  },
  {
   "cell_type": "markdown",
   "id": "0c433055",
   "metadata": {},
   "source": [
    "# Create a logistic regression model"
   ]
  },
  {
   "cell_type": "code",
   "execution_count": 17,
   "id": "5f2210df",
   "metadata": {},
   "outputs": [],
   "source": [
    "lr = LogisticRegression(solver='lbfgs', penalty='none', max_iter=1000)"
   ]
  },
  {
   "cell_type": "code",
   "execution_count": 18,
   "id": "a8e4df16",
   "metadata": {},
   "outputs": [
    {
     "data": {
      "text/plain": [
       "LogisticRegression(max_iter=1000, penalty='none')"
      ]
     },
     "execution_count": 18,
     "metadata": {},
     "output_type": "execute_result"
    }
   ],
   "source": [
    "lr.fit(X_train, y_train)"
   ]
  },
  {
   "cell_type": "markdown",
   "id": "98abbfde",
   "metadata": {},
   "source": [
    "# Calculate Acccuracy"
   ]
  },
  {
   "cell_type": "code",
   "execution_count": 19,
   "id": "825b3798",
   "metadata": {},
   "outputs": [
    {
     "data": {
      "text/plain": [
       "0.9740689655172414"
      ]
     },
     "execution_count": 19,
     "metadata": {},
     "output_type": "execute_result"
    }
   ],
   "source": [
    "lr.score(X_test, y_test)"
   ]
  },
  {
   "cell_type": "markdown",
   "id": "8b925ca8",
   "metadata": {},
   "source": [
    "# compare to a dummy classifier"
   ]
  },
  {
   "cell_type": "code",
   "execution_count": null,
   "id": "1b43f5eb",
   "metadata": {},
   "outputs": [],
   "source": []
  }
 ],
 "metadata": {
  "kernelspec": {
   "display_name": "Python 3",
   "language": "python",
   "name": "python3"
  },
  "language_info": {
   "codemirror_mode": {
    "name": "ipython",
    "version": 3
   },
   "file_extension": ".py",
   "mimetype": "text/x-python",
   "name": "python",
   "nbconvert_exporter": "python",
   "pygments_lexer": "ipython3",
   "version": "3.9.5"
  }
 },
 "nbformat": 4,
 "nbformat_minor": 5
}
