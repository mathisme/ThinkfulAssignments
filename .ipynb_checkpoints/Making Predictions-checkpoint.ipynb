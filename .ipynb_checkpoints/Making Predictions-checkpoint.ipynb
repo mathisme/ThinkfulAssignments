{
 "cells": [
  {
   "cell_type": "code",
   "execution_count": 1,
   "id": "066f45c3",
   "metadata": {},
   "outputs": [],
   "source": [
    "import matplotlib.pyplot as plt\n",
    "import numpy as np\n",
    "import pandas as pd\n",
    "from sklearn.linear_model import LinearRegression\n",
    "from sklearn.model_selection import train_test_split\n",
    "from sklearn.metrics import mean_absolute_error\n",
    "import statsmodels.api as sm\n",
    "from statsmodels.tools.eval_measures import mse, rmse\n",
    "from sqlalchemy import create_engine"
   ]
  },
  {
   "cell_type": "code",
   "execution_count": 2,
   "id": "c03bdb29",
   "metadata": {},
   "outputs": [],
   "source": [
    "postgres_user = 'dsbc_student'\n",
    "postgres_pw = '7*.8G9QH21'\n",
    "postgres_host = '142.93.121.174'\n",
    "postgres_port = '5432'\n",
    "postgres_db = 'houseprices'"
   ]
  },
  {
   "cell_type": "code",
   "execution_count": 3,
   "id": "41800875",
   "metadata": {},
   "outputs": [],
   "source": [
    "engine = create_engine('postgresql://{}:{}@{}:{}/{}'.format(\n",
    "    postgres_user, postgres_pw, postgres_host, postgres_port, postgres_db))\n",
    "df = pd.read_sql_query('select * from houseprices',con=engine)\n",
    "\n",
    "engine.dispose()"
   ]
  },
  {
   "cell_type": "markdown",
   "id": "70bd33ff",
   "metadata": {},
   "source": [
    "# Creating the model"
   ]
  },
  {
   "cell_type": "code",
   "execution_count": 4,
   "id": "bb53a02a",
   "metadata": {},
   "outputs": [],
   "source": [
    "numeric_variables = ['overallqual','firstflrsf','totrmsabvgrd']\n",
    "variables = numeric_variables + ['neighborhood','exterior1st','saleprice']"
   ]
  },
  {
   "cell_type": "code",
   "execution_count": 5,
   "id": "82592813",
   "metadata": {},
   "outputs": [],
   "source": [
    "df2 = pd.get_dummies(df[variables], drop_first=True)\n",
    "X = df2.drop('saleprice', axis=1)\n",
    "y = df2.saleprice"
   ]
  },
  {
   "cell_type": "code",
   "execution_count": 6,
   "id": "6a692aff",
   "metadata": {},
   "outputs": [],
   "source": [
    "X_train, X_test, y_train, y_test = train_test_split(X,y,test_size = 0.2, random_state = 625)"
   ]
  },
  {
   "cell_type": "code",
   "execution_count": 8,
   "id": "658cfaec",
   "metadata": {},
   "outputs": [
    {
     "data": {
      "text/html": [
       "<table class=\"simpletable\">\n",
       "<caption>OLS Regression Results</caption>\n",
       "<tr>\n",
       "  <th>Dep. Variable:</th>        <td>saleprice</td>    <th>  R-squared:         </th> <td>   0.783</td> \n",
       "</tr>\n",
       "<tr>\n",
       "  <th>Model:</th>                   <td>OLS</td>       <th>  Adj. R-squared:    </th> <td>   0.776</td> \n",
       "</tr>\n",
       "<tr>\n",
       "  <th>Method:</th>             <td>Least Squares</td>  <th>  F-statistic:       </th> <td>   101.9</td> \n",
       "</tr>\n",
       "<tr>\n",
       "  <th>Date:</th>             <td>Sat, 24 Jul 2021</td> <th>  Prob (F-statistic):</th>  <td>  0.00</td>  \n",
       "</tr>\n",
       "<tr>\n",
       "  <th>Time:</th>                 <td>15:13:14</td>     <th>  Log-Likelihood:    </th> <td> -13925.</td> \n",
       "</tr>\n",
       "<tr>\n",
       "  <th>No. Observations:</th>      <td>  1168</td>      <th>  AIC:               </th> <td>2.793e+04</td>\n",
       "</tr>\n",
       "<tr>\n",
       "  <th>Df Residuals:</th>          <td>  1127</td>      <th>  BIC:               </th> <td>2.814e+04</td>\n",
       "</tr>\n",
       "<tr>\n",
       "  <th>Df Model:</th>              <td>    40</td>      <th>                     </th>     <td> </td>    \n",
       "</tr>\n",
       "<tr>\n",
       "  <th>Covariance Type:</th>      <td>nonrobust</td>    <th>                     </th>     <td> </td>    \n",
       "</tr>\n",
       "</table>\n",
       "<table class=\"simpletable\">\n",
       "<tr>\n",
       "            <td></td>              <th>coef</th>     <th>std err</th>      <th>t</th>      <th>P>|t|</th>  <th>[0.025</th>    <th>0.975]</th>  \n",
       "</tr>\n",
       "<tr>\n",
       "  <th>const</th>                <td>-1.021e+05</td> <td> 1.67e+04</td> <td>   -6.133</td> <td> 0.000</td> <td>-1.35e+05</td> <td>-6.95e+04</td>\n",
       "</tr>\n",
       "<tr>\n",
       "  <th>overallqual</th>          <td> 2.229e+04</td> <td> 1290.069</td> <td>   17.277</td> <td> 0.000</td> <td> 1.98e+04</td> <td> 2.48e+04</td>\n",
       "</tr>\n",
       "<tr>\n",
       "  <th>firstflrsf</th>           <td>   39.5669</td> <td>    3.834</td> <td>   10.320</td> <td> 0.000</td> <td>   32.045</td> <td>   47.089</td>\n",
       "</tr>\n",
       "<tr>\n",
       "  <th>totrmsabvgrd</th>         <td> 9431.1003</td> <td>  815.860</td> <td>   11.560</td> <td> 0.000</td> <td> 7830.325</td> <td>  1.1e+04</td>\n",
       "</tr>\n",
       "<tr>\n",
       "  <th>neighborhood_Blueste</th> <td> 1.699e+04</td> <td> 2.84e+04</td> <td>    0.598</td> <td> 0.550</td> <td>-3.87e+04</td> <td> 7.27e+04</td>\n",
       "</tr>\n",
       "<tr>\n",
       "  <th>neighborhood_BrDale</th>  <td>-8795.9267</td> <td> 1.46e+04</td> <td>   -0.603</td> <td> 0.547</td> <td>-3.74e+04</td> <td> 1.98e+04</td>\n",
       "</tr>\n",
       "<tr>\n",
       "  <th>neighborhood_BrkSide</th> <td>  1.76e+04</td> <td>  1.2e+04</td> <td>    1.462</td> <td> 0.144</td> <td>-6014.279</td> <td> 4.12e+04</td>\n",
       "</tr>\n",
       "<tr>\n",
       "  <th>neighborhood_ClearCr</th> <td> 5.723e+04</td> <td> 1.32e+04</td> <td>    4.333</td> <td> 0.000</td> <td> 3.13e+04</td> <td> 8.32e+04</td>\n",
       "</tr>\n",
       "<tr>\n",
       "  <th>neighborhood_CollgCr</th> <td> 2.726e+04</td> <td> 1.06e+04</td> <td>    2.579</td> <td> 0.010</td> <td> 6522.420</td> <td>  4.8e+04</td>\n",
       "</tr>\n",
       "<tr>\n",
       "  <th>neighborhood_Crawfor</th> <td> 4.527e+04</td> <td>  1.2e+04</td> <td>    3.772</td> <td> 0.000</td> <td> 2.17e+04</td> <td> 6.88e+04</td>\n",
       "</tr>\n",
       "<tr>\n",
       "  <th>neighborhood_Edwards</th> <td> 2499.7464</td> <td> 1.14e+04</td> <td>    0.219</td> <td> 0.826</td> <td>-1.98e+04</td> <td> 2.48e+04</td>\n",
       "</tr>\n",
       "<tr>\n",
       "  <th>neighborhood_Gilbert</th> <td> 2.922e+04</td> <td> 1.12e+04</td> <td>    2.608</td> <td> 0.009</td> <td> 7235.678</td> <td> 5.12e+04</td>\n",
       "</tr>\n",
       "<tr>\n",
       "  <th>neighborhood_IDOTRR</th>  <td>-3870.3554</td> <td> 1.26e+04</td> <td>   -0.306</td> <td> 0.759</td> <td>-2.87e+04</td> <td> 2.09e+04</td>\n",
       "</tr>\n",
       "<tr>\n",
       "  <th>neighborhood_MeadowV</th> <td>-7950.4818</td> <td> 1.65e+04</td> <td>   -0.483</td> <td> 0.629</td> <td>-4.03e+04</td> <td> 2.44e+04</td>\n",
       "</tr>\n",
       "<tr>\n",
       "  <th>neighborhood_Mitchel</th> <td> 2.118e+04</td> <td> 1.19e+04</td> <td>    1.779</td> <td> 0.076</td> <td>-2179.954</td> <td> 4.45e+04</td>\n",
       "</tr>\n",
       "<tr>\n",
       "  <th>neighborhood_NAmes</th>   <td> 1.226e+04</td> <td> 1.08e+04</td> <td>    1.137</td> <td> 0.256</td> <td>-8893.638</td> <td> 3.34e+04</td>\n",
       "</tr>\n",
       "<tr>\n",
       "  <th>neighborhood_NPkVill</th> <td>  1.18e+04</td> <td>  1.9e+04</td> <td>    0.622</td> <td> 0.534</td> <td>-2.54e+04</td> <td>  4.9e+04</td>\n",
       "</tr>\n",
       "<tr>\n",
       "  <th>neighborhood_NWAmes</th>  <td>  1.78e+04</td> <td> 1.15e+04</td> <td>    1.549</td> <td> 0.122</td> <td>-4752.243</td> <td> 4.04e+04</td>\n",
       "</tr>\n",
       "<tr>\n",
       "  <th>neighborhood_NoRidge</th> <td> 9.989e+04</td> <td>  1.2e+04</td> <td>    8.343</td> <td> 0.000</td> <td> 7.64e+04</td> <td> 1.23e+05</td>\n",
       "</tr>\n",
       "<tr>\n",
       "  <th>neighborhood_NridgHt</th> <td> 7.594e+04</td> <td> 1.11e+04</td> <td>    6.846</td> <td> 0.000</td> <td> 5.42e+04</td> <td> 9.77e+04</td>\n",
       "</tr>\n",
       "<tr>\n",
       "  <th>neighborhood_OldTown</th> <td>  472.5692</td> <td> 1.13e+04</td> <td>    0.042</td> <td> 0.967</td> <td>-2.17e+04</td> <td> 2.26e+04</td>\n",
       "</tr>\n",
       "<tr>\n",
       "  <th>neighborhood_SWISU</th>   <td> 2169.4057</td> <td> 1.31e+04</td> <td>    0.165</td> <td> 0.869</td> <td>-2.36e+04</td> <td>  2.8e+04</td>\n",
       "</tr>\n",
       "<tr>\n",
       "  <th>neighborhood_Sawyer</th>  <td> 1.838e+04</td> <td> 1.16e+04</td> <td>    1.585</td> <td> 0.113</td> <td>-4378.611</td> <td> 4.11e+04</td>\n",
       "</tr>\n",
       "<tr>\n",
       "  <th>neighborhood_SawyerW</th> <td> 2.138e+04</td> <td> 1.16e+04</td> <td>    1.840</td> <td> 0.066</td> <td>-1423.555</td> <td> 4.42e+04</td>\n",
       "</tr>\n",
       "<tr>\n",
       "  <th>neighborhood_Somerst</th> <td> 4.016e+04</td> <td>  1.1e+04</td> <td>    3.648</td> <td> 0.000</td> <td> 1.86e+04</td> <td> 6.18e+04</td>\n",
       "</tr>\n",
       "<tr>\n",
       "  <th>neighborhood_StoneBr</th> <td> 8.292e+04</td> <td> 1.33e+04</td> <td>    6.256</td> <td> 0.000</td> <td> 5.69e+04</td> <td> 1.09e+05</td>\n",
       "</tr>\n",
       "<tr>\n",
       "  <th>neighborhood_Timber</th>  <td> 4.648e+04</td> <td>  1.2e+04</td> <td>    3.860</td> <td> 0.000</td> <td> 2.28e+04</td> <td> 7.01e+04</td>\n",
       "</tr>\n",
       "<tr>\n",
       "  <th>neighborhood_Veenker</th> <td> 6.981e+04</td> <td> 1.58e+04</td> <td>    4.424</td> <td> 0.000</td> <td> 3.88e+04</td> <td> 1.01e+05</td>\n",
       "</tr>\n",
       "<tr>\n",
       "  <th>exterior1st_AsphShn</th>  <td>-5.309e+04</td> <td> 3.86e+04</td> <td>   -1.374</td> <td> 0.170</td> <td>-1.29e+05</td> <td> 2.27e+04</td>\n",
       "</tr>\n",
       "<tr>\n",
       "  <th>exterior1st_BrkComm</th>  <td>-4876.0239</td> <td> 2.84e+04</td> <td>   -0.172</td> <td> 0.864</td> <td>-6.05e+04</td> <td> 5.08e+04</td>\n",
       "</tr>\n",
       "<tr>\n",
       "  <th>exterior1st_BrkFace</th>  <td> 2.208e+04</td> <td> 1.17e+04</td> <td>    1.884</td> <td> 0.060</td> <td> -910.513</td> <td> 4.51e+04</td>\n",
       "</tr>\n",
       "<tr>\n",
       "  <th>exterior1st_CBlock</th>   <td> 2.769e+04</td> <td> 3.86e+04</td> <td>    0.718</td> <td> 0.473</td> <td> -4.8e+04</td> <td> 1.03e+05</td>\n",
       "</tr>\n",
       "<tr>\n",
       "  <th>exterior1st_CemntBd</th>  <td> 3.355e+04</td> <td> 1.22e+04</td> <td>    2.745</td> <td> 0.006</td> <td> 9571.240</td> <td> 5.75e+04</td>\n",
       "</tr>\n",
       "<tr>\n",
       "  <th>exterior1st_HdBoard</th>  <td> 9249.4568</td> <td> 1.07e+04</td> <td>    0.863</td> <td> 0.388</td> <td>-1.18e+04</td> <td> 3.03e+04</td>\n",
       "</tr>\n",
       "<tr>\n",
       "  <th>exterior1st_ImStucc</th>  <td>-1.107e-09</td> <td> 8.18e-10</td> <td>   -1.353</td> <td> 0.176</td> <td>-2.71e-09</td> <td> 4.98e-10</td>\n",
       "</tr>\n",
       "<tr>\n",
       "  <th>exterior1st_MetalSd</th>  <td> 1.178e+04</td> <td> 1.04e+04</td> <td>    1.131</td> <td> 0.258</td> <td>-8663.184</td> <td> 3.22e+04</td>\n",
       "</tr>\n",
       "<tr>\n",
       "  <th>exterior1st_Plywood</th>  <td> 1.041e+04</td> <td> 1.12e+04</td> <td>    0.928</td> <td> 0.354</td> <td>-1.16e+04</td> <td> 3.24e+04</td>\n",
       "</tr>\n",
       "<tr>\n",
       "  <th>exterior1st_Stone</th>    <td>-9866.1882</td> <td> 2.87e+04</td> <td>   -0.343</td> <td> 0.731</td> <td>-6.62e+04</td> <td> 4.65e+04</td>\n",
       "</tr>\n",
       "<tr>\n",
       "  <th>exterior1st_Stucco</th>   <td>-7962.4961</td> <td> 1.31e+04</td> <td>   -0.610</td> <td> 0.542</td> <td>-3.36e+04</td> <td> 1.76e+04</td>\n",
       "</tr>\n",
       "<tr>\n",
       "  <th>exterior1st_VinylSd</th>  <td> 1.795e+04</td> <td> 1.05e+04</td> <td>    1.708</td> <td> 0.088</td> <td>-2669.667</td> <td> 3.86e+04</td>\n",
       "</tr>\n",
       "<tr>\n",
       "  <th>exterior1st_Wd Sdng</th>  <td> 9685.5605</td> <td> 1.04e+04</td> <td>    0.928</td> <td> 0.354</td> <td>-1.08e+04</td> <td> 3.02e+04</td>\n",
       "</tr>\n",
       "<tr>\n",
       "  <th>exterior1st_WdShing</th>  <td> 1.095e+04</td> <td> 1.31e+04</td> <td>    0.834</td> <td> 0.404</td> <td>-1.48e+04</td> <td> 3.67e+04</td>\n",
       "</tr>\n",
       "</table>\n",
       "<table class=\"simpletable\">\n",
       "<tr>\n",
       "  <th>Omnibus:</th>       <td>494.744</td> <th>  Durbin-Watson:     </th> <td>   2.006</td> \n",
       "</tr>\n",
       "<tr>\n",
       "  <th>Prob(Omnibus):</th> <td> 0.000</td>  <th>  Jarque-Bera (JB):  </th> <td>12704.895</td>\n",
       "</tr>\n",
       "<tr>\n",
       "  <th>Skew:</th>          <td> 1.378</td>  <th>  Prob(JB):          </th> <td>    0.00</td> \n",
       "</tr>\n",
       "<tr>\n",
       "  <th>Kurtosis:</th>      <td>18.921</td>  <th>  Cond. No.          </th> <td>1.05e+16</td> \n",
       "</tr>\n",
       "</table><br/><br/>Notes:<br/>[1] Standard Errors assume that the covariance matrix of the errors is correctly specified.<br/>[2] The smallest eigenvalue is 1.57e-23. This might indicate that there are<br/>strong multicollinearity problems or that the design matrix is singular."
      ],
      "text/plain": [
       "<class 'statsmodels.iolib.summary.Summary'>\n",
       "\"\"\"\n",
       "                            OLS Regression Results                            \n",
       "==============================================================================\n",
       "Dep. Variable:              saleprice   R-squared:                       0.783\n",
       "Model:                            OLS   Adj. R-squared:                  0.776\n",
       "Method:                 Least Squares   F-statistic:                     101.9\n",
       "Date:                Sat, 24 Jul 2021   Prob (F-statistic):               0.00\n",
       "Time:                        15:13:14   Log-Likelihood:                -13925.\n",
       "No. Observations:                1168   AIC:                         2.793e+04\n",
       "Df Residuals:                    1127   BIC:                         2.814e+04\n",
       "Df Model:                          40                                         \n",
       "Covariance Type:            nonrobust                                         \n",
       "========================================================================================\n",
       "                           coef    std err          t      P>|t|      [0.025      0.975]\n",
       "----------------------------------------------------------------------------------------\n",
       "const                -1.021e+05   1.67e+04     -6.133      0.000   -1.35e+05   -6.95e+04\n",
       "overallqual           2.229e+04   1290.069     17.277      0.000    1.98e+04    2.48e+04\n",
       "firstflrsf              39.5669      3.834     10.320      0.000      32.045      47.089\n",
       "totrmsabvgrd          9431.1003    815.860     11.560      0.000    7830.325     1.1e+04\n",
       "neighborhood_Blueste  1.699e+04   2.84e+04      0.598      0.550   -3.87e+04    7.27e+04\n",
       "neighborhood_BrDale  -8795.9267   1.46e+04     -0.603      0.547   -3.74e+04    1.98e+04\n",
       "neighborhood_BrkSide   1.76e+04    1.2e+04      1.462      0.144   -6014.279    4.12e+04\n",
       "neighborhood_ClearCr  5.723e+04   1.32e+04      4.333      0.000    3.13e+04    8.32e+04\n",
       "neighborhood_CollgCr  2.726e+04   1.06e+04      2.579      0.010    6522.420     4.8e+04\n",
       "neighborhood_Crawfor  4.527e+04    1.2e+04      3.772      0.000    2.17e+04    6.88e+04\n",
       "neighborhood_Edwards  2499.7464   1.14e+04      0.219      0.826   -1.98e+04    2.48e+04\n",
       "neighborhood_Gilbert  2.922e+04   1.12e+04      2.608      0.009    7235.678    5.12e+04\n",
       "neighborhood_IDOTRR  -3870.3554   1.26e+04     -0.306      0.759   -2.87e+04    2.09e+04\n",
       "neighborhood_MeadowV -7950.4818   1.65e+04     -0.483      0.629   -4.03e+04    2.44e+04\n",
       "neighborhood_Mitchel  2.118e+04   1.19e+04      1.779      0.076   -2179.954    4.45e+04\n",
       "neighborhood_NAmes    1.226e+04   1.08e+04      1.137      0.256   -8893.638    3.34e+04\n",
       "neighborhood_NPkVill   1.18e+04    1.9e+04      0.622      0.534   -2.54e+04     4.9e+04\n",
       "neighborhood_NWAmes    1.78e+04   1.15e+04      1.549      0.122   -4752.243    4.04e+04\n",
       "neighborhood_NoRidge  9.989e+04    1.2e+04      8.343      0.000    7.64e+04    1.23e+05\n",
       "neighborhood_NridgHt  7.594e+04   1.11e+04      6.846      0.000    5.42e+04    9.77e+04\n",
       "neighborhood_OldTown   472.5692   1.13e+04      0.042      0.967   -2.17e+04    2.26e+04\n",
       "neighborhood_SWISU    2169.4057   1.31e+04      0.165      0.869   -2.36e+04     2.8e+04\n",
       "neighborhood_Sawyer   1.838e+04   1.16e+04      1.585      0.113   -4378.611    4.11e+04\n",
       "neighborhood_SawyerW  2.138e+04   1.16e+04      1.840      0.066   -1423.555    4.42e+04\n",
       "neighborhood_Somerst  4.016e+04    1.1e+04      3.648      0.000    1.86e+04    6.18e+04\n",
       "neighborhood_StoneBr  8.292e+04   1.33e+04      6.256      0.000    5.69e+04    1.09e+05\n",
       "neighborhood_Timber   4.648e+04    1.2e+04      3.860      0.000    2.28e+04    7.01e+04\n",
       "neighborhood_Veenker  6.981e+04   1.58e+04      4.424      0.000    3.88e+04    1.01e+05\n",
       "exterior1st_AsphShn  -5.309e+04   3.86e+04     -1.374      0.170   -1.29e+05    2.27e+04\n",
       "exterior1st_BrkComm  -4876.0239   2.84e+04     -0.172      0.864   -6.05e+04    5.08e+04\n",
       "exterior1st_BrkFace   2.208e+04   1.17e+04      1.884      0.060    -910.513    4.51e+04\n",
       "exterior1st_CBlock    2.769e+04   3.86e+04      0.718      0.473    -4.8e+04    1.03e+05\n",
       "exterior1st_CemntBd   3.355e+04   1.22e+04      2.745      0.006    9571.240    5.75e+04\n",
       "exterior1st_HdBoard   9249.4568   1.07e+04      0.863      0.388   -1.18e+04    3.03e+04\n",
       "exterior1st_ImStucc  -1.107e-09   8.18e-10     -1.353      0.176   -2.71e-09    4.98e-10\n",
       "exterior1st_MetalSd   1.178e+04   1.04e+04      1.131      0.258   -8663.184    3.22e+04\n",
       "exterior1st_Plywood   1.041e+04   1.12e+04      0.928      0.354   -1.16e+04    3.24e+04\n",
       "exterior1st_Stone    -9866.1882   2.87e+04     -0.343      0.731   -6.62e+04    4.65e+04\n",
       "exterior1st_Stucco   -7962.4961   1.31e+04     -0.610      0.542   -3.36e+04    1.76e+04\n",
       "exterior1st_VinylSd   1.795e+04   1.05e+04      1.708      0.088   -2669.667    3.86e+04\n",
       "exterior1st_Wd Sdng   9685.5605   1.04e+04      0.928      0.354   -1.08e+04    3.02e+04\n",
       "exterior1st_WdShing   1.095e+04   1.31e+04      0.834      0.404   -1.48e+04    3.67e+04\n",
       "==============================================================================\n",
       "Omnibus:                      494.744   Durbin-Watson:                   2.006\n",
       "Prob(Omnibus):                  0.000   Jarque-Bera (JB):            12704.895\n",
       "Skew:                           1.378   Prob(JB):                         0.00\n",
       "Kurtosis:                      18.921   Cond. No.                     1.05e+16\n",
       "==============================================================================\n",
       "\n",
       "Notes:\n",
       "[1] Standard Errors assume that the covariance matrix of the errors is correctly specified.\n",
       "[2] The smallest eigenvalue is 1.57e-23. This might indicate that there are\n",
       "strong multicollinearity problems or that the design matrix is singular.\n",
       "\"\"\""
      ]
     },
     "execution_count": 8,
     "metadata": {},
     "output_type": "execute_result"
    }
   ],
   "source": [
    "X_train = sm.add_constant(X_train)\n",
    "results = sm.OLS(y_train,X_train).fit()\n",
    "results.summary()"
   ]
  },
  {
   "cell_type": "markdown",
   "id": "b4f33aa6",
   "metadata": {},
   "source": [
    "The R-squared is 0.783 meaning 78 percent of the variability in the output is explained by this model"
   ]
  },
  {
   "cell_type": "markdown",
   "id": "5a4b9b89",
   "metadata": {},
   "source": [
    "# Making predictions"
   ]
  },
  {
   "cell_type": "code",
   "execution_count": 9,
   "id": "b8d0cebf",
   "metadata": {},
   "outputs": [],
   "source": [
    "X_test = sm.add_constant(X_test)\n",
    "y_preds = results.predict(X_test)"
   ]
  },
  {
   "cell_type": "markdown",
   "id": "ad895f56",
   "metadata": {},
   "source": [
    "# Evaluating predictions"
   ]
  },
  {
   "cell_type": "code",
   "execution_count": 10,
   "id": "c1dd188b",
   "metadata": {},
   "outputs": [
    {
     "data": {
      "text/plain": [
       "[<matplotlib.lines.Line2D at 0x285826c1e20>]"
      ]
     },
     "execution_count": 10,
     "metadata": {},
     "output_type": "execute_result"
    },
    {
     "data": {
      "image/png": "[encoded data removed]",
      "text/plain": [
       "<Figure size 432x288 with 1 Axes>"
      ]
     },
     "metadata": {
      "needs_background": "light"
     },
     "output_type": "display_data"
    }
   ],
   "source": [
    "plt.scatter(y_test,y_preds)\n",
    "plt.plot(y_test, y_test, color=\"red\")"
   ]
  },
  {
   "cell_type": "markdown",
   "id": "dbbf203b",
   "metadata": {},
   "source": [
    "The predictions seem close to the real values.  However there are some values with large residuals.  This may be reflected in RMSE."
   ]
  },
  {
   "cell_type": "code",
   "execution_count": 11,
   "id": "64402a40",
   "metadata": {},
   "outputs": [],
   "source": [
    "def mape(y_values, y_preds):\n",
    "    return np.mean(np.abs(y_values-y_preds)/y_values)"
   ]
  },
  {
   "cell_type": "code",
   "execution_count": 13,
   "id": "d6b54007",
   "metadata": {},
   "outputs": [],
   "source": [
    "def print_errors(y_test, y_preds):\n",
    "    print(\"The mean absolute error of the model: \",mean_absolute_error(y_test, y_preds))\n",
    "    print(\"The mean absolute percentage error of the model: \",mape(y_test, y_preds))\n",
    "    print(\"The mean square error of the model: \",mse(y_test,y_preds))\n",
    "    print(\"The root mean square error of the model: \",rmse(y_test,y_preds))"
   ]
  },
  {
   "cell_type": "code",
   "execution_count": 14,
   "id": "dc04692d",
   "metadata": {},
   "outputs": [
    {
     "name": "stdout",
     "output_type": "stream",
     "text": [
      "The mean absolute error of the model:  25785.776316677395\n",
      "The mean absolute percentage error of the model:  0.15141738251637796\n",
      "The mean square error of the model:  1474888632.1480362\n",
      "The root mean square error of the model:  38404.27882603755\n"
     ]
    }
   ],
   "source": [
    "print_errors(y_test, y_preds)"
   ]
  },
  {
   "cell_type": "markdown",
   "id": "24d4112f",
   "metadata": {},
   "source": [
    "Those values seem high.  On average the difference between the true sale price and predicted sale price is about 25,700 dollars.  Thinking about it, that is not too bad as many houses sell for 100k or more."
   ]
  },
  {
   "cell_type": "code",
   "execution_count": 15,
   "id": "d3a1e75f",
   "metadata": {},
   "outputs": [
    {
     "data": {
      "text/plain": [
       "180921.19589041095"
      ]
     },
     "execution_count": 15,
     "metadata": {},
     "output_type": "execute_result"
    }
   ],
   "source": [
    "df['saleprice'].mean()"
   ]
  },
  {
   "cell_type": "markdown",
   "id": "7d32d25e",
   "metadata": {},
   "source": [
    "In fact the mean sale price is almost 200,000 dollars.  As was expected, MSE and RMSE are higher than MAE."
   ]
  },
  {
   "cell_type": "markdown",
   "id": "98308824",
   "metadata": {},
   "source": [
    "# Improving the model"
   ]
  },
  {
   "cell_type": "markdown",
   "id": "08ae39c8",
   "metadata": {},
   "source": [
    "To try to improve the model I'm going to add kitchen quality to the model"
   ]
  },
  {
   "cell_type": "markdown",
   "id": "7b23037a",
   "metadata": {},
   "source": [
    "## Creating the model"
   ]
  },
  {
   "cell_type": "code",
   "execution_count": 16,
   "id": "19733a8c",
   "metadata": {},
   "outputs": [],
   "source": [
    "variables2 = variables + ['kitchenqual']"
   ]
  },
  {
   "cell_type": "code",
   "execution_count": 17,
   "id": "ced3de7c",
   "metadata": {},
   "outputs": [],
   "source": [
    "df2 = pd.get_dummies(df[variables2], drop_first=True)\n",
    "X = df2.drop('saleprice', axis=1)\n",
    "y = df2.saleprice"
   ]
  },
  {
   "cell_type": "code",
   "execution_count": 18,
   "id": "20d0d6e9",
   "metadata": {},
   "outputs": [],
   "source": [
    "X_train, X_test, y_train, y_test = train_test_split(X,y,test_size = 0.2, random_state = 625)"
   ]
  },
  {
   "cell_type": "code",
   "execution_count": 19,
   "id": "221f814c",
   "metadata": {},
   "outputs": [
    {
     "data": {
      "text/html": [
       "<table class=\"simpletable\">\n",
       "<caption>OLS Regression Results</caption>\n",
       "<tr>\n",
       "  <th>Dep. Variable:</th>        <td>saleprice</td>    <th>  R-squared:         </th> <td>   0.800</td> \n",
       "</tr>\n",
       "<tr>\n",
       "  <th>Model:</th>                   <td>OLS</td>       <th>  Adj. R-squared:    </th> <td>   0.793</td> \n",
       "</tr>\n",
       "<tr>\n",
       "  <th>Method:</th>             <td>Least Squares</td>  <th>  F-statistic:       </th> <td>   104.7</td> \n",
       "</tr>\n",
       "<tr>\n",
       "  <th>Date:</th>             <td>Sat, 24 Jul 2021</td> <th>  Prob (F-statistic):</th>  <td>  0.00</td>  \n",
       "</tr>\n",
       "<tr>\n",
       "  <th>Time:</th>                 <td>15:49:46</td>     <th>  Log-Likelihood:    </th> <td> -13878.</td> \n",
       "</tr>\n",
       "<tr>\n",
       "  <th>No. Observations:</th>      <td>  1168</td>      <th>  AIC:               </th> <td>2.784e+04</td>\n",
       "</tr>\n",
       "<tr>\n",
       "  <th>Df Residuals:</th>          <td>  1124</td>      <th>  BIC:               </th> <td>2.807e+04</td>\n",
       "</tr>\n",
       "<tr>\n",
       "  <th>Df Model:</th>              <td>    43</td>      <th>                     </th>     <td> </td>    \n",
       "</tr>\n",
       "<tr>\n",
       "  <th>Covariance Type:</th>      <td>nonrobust</td>    <th>                     </th>     <td> </td>    \n",
       "</tr>\n",
       "</table>\n",
       "<table class=\"simpletable\">\n",
       "<tr>\n",
       "            <td></td>              <th>coef</th>     <th>std err</th>      <th>t</th>      <th>P>|t|</th>  <th>[0.025</th>    <th>0.975]</th>  \n",
       "</tr>\n",
       "<tr>\n",
       "  <th>const</th>                <td>-2.316e+04</td> <td>  1.8e+04</td> <td>   -1.285</td> <td> 0.199</td> <td>-5.85e+04</td> <td> 1.22e+04</td>\n",
       "</tr>\n",
       "<tr>\n",
       "  <th>overallqual</th>          <td> 1.856e+04</td> <td> 1327.073</td> <td>   13.985</td> <td> 0.000</td> <td>  1.6e+04</td> <td> 2.12e+04</td>\n",
       "</tr>\n",
       "<tr>\n",
       "  <th>firstflrsf</th>           <td>   34.8281</td> <td>    3.720</td> <td>    9.362</td> <td> 0.000</td> <td>   27.529</td> <td>   42.127</td>\n",
       "</tr>\n",
       "<tr>\n",
       "  <th>totrmsabvgrd</th>         <td> 9082.8556</td> <td>  785.959</td> <td>   11.556</td> <td> 0.000</td> <td> 7540.744</td> <td> 1.06e+04</td>\n",
       "</tr>\n",
       "<tr>\n",
       "  <th>neighborhood_Blueste</th> <td> 2.237e+04</td> <td> 2.74e+04</td> <td>    0.816</td> <td> 0.414</td> <td>-3.14e+04</td> <td> 7.61e+04</td>\n",
       "</tr>\n",
       "<tr>\n",
       "  <th>neighborhood_BrDale</th>  <td>-4971.1994</td> <td> 1.41e+04</td> <td>   -0.352</td> <td> 0.725</td> <td>-3.27e+04</td> <td> 2.28e+04</td>\n",
       "</tr>\n",
       "<tr>\n",
       "  <th>neighborhood_BrkSide</th> <td> 1.796e+04</td> <td> 1.17e+04</td> <td>    1.538</td> <td> 0.124</td> <td>-4956.874</td> <td> 4.09e+04</td>\n",
       "</tr>\n",
       "<tr>\n",
       "  <th>neighborhood_ClearCr</th> <td>  5.41e+04</td> <td> 1.27e+04</td> <td>    4.252</td> <td> 0.000</td> <td> 2.91e+04</td> <td> 7.91e+04</td>\n",
       "</tr>\n",
       "<tr>\n",
       "  <th>neighborhood_CollgCr</th> <td> 2.691e+04</td> <td> 1.02e+04</td> <td>    2.646</td> <td> 0.008</td> <td> 6957.466</td> <td> 4.69e+04</td>\n",
       "</tr>\n",
       "<tr>\n",
       "  <th>neighborhood_Crawfor</th> <td> 4.917e+04</td> <td> 1.16e+04</td> <td>    4.249</td> <td> 0.000</td> <td> 2.65e+04</td> <td> 7.19e+04</td>\n",
       "</tr>\n",
       "<tr>\n",
       "  <th>neighborhood_Edwards</th> <td> 1473.8668</td> <td> 1.11e+04</td> <td>    0.133</td> <td> 0.894</td> <td>-2.02e+04</td> <td> 2.32e+04</td>\n",
       "</tr>\n",
       "<tr>\n",
       "  <th>neighborhood_Gilbert</th> <td> 3.194e+04</td> <td> 1.08e+04</td> <td>    2.954</td> <td> 0.003</td> <td> 1.07e+04</td> <td> 5.32e+04</td>\n",
       "</tr>\n",
       "<tr>\n",
       "  <th>neighborhood_IDOTRR</th>  <td>-3284.0887</td> <td> 1.23e+04</td> <td>   -0.268</td> <td> 0.789</td> <td>-2.73e+04</td> <td> 2.08e+04</td>\n",
       "</tr>\n",
       "<tr>\n",
       "  <th>neighborhood_MeadowV</th> <td> -873.0757</td> <td> 1.59e+04</td> <td>   -0.055</td> <td> 0.956</td> <td>-3.21e+04</td> <td> 3.03e+04</td>\n",
       "</tr>\n",
       "<tr>\n",
       "  <th>neighborhood_Mitchel</th> <td> 2.474e+04</td> <td> 1.15e+04</td> <td>    2.144</td> <td> 0.032</td> <td> 2095.951</td> <td> 4.74e+04</td>\n",
       "</tr>\n",
       "<tr>\n",
       "  <th>neighborhood_NAmes</th>   <td> 1.465e+04</td> <td> 1.05e+04</td> <td>    1.401</td> <td> 0.162</td> <td>-5875.523</td> <td> 3.52e+04</td>\n",
       "</tr>\n",
       "<tr>\n",
       "  <th>neighborhood_NPkVill</th> <td> 1.407e+04</td> <td> 1.83e+04</td> <td>    0.768</td> <td> 0.443</td> <td>-2.19e+04</td> <td>    5e+04</td>\n",
       "</tr>\n",
       "<tr>\n",
       "  <th>neighborhood_NWAmes</th>  <td> 2.183e+04</td> <td> 1.11e+04</td> <td>    1.962</td> <td> 0.050</td> <td>   -0.847</td> <td> 4.37e+04</td>\n",
       "</tr>\n",
       "<tr>\n",
       "  <th>neighborhood_NoRidge</th> <td> 1.036e+05</td> <td> 1.15e+04</td> <td>    8.996</td> <td> 0.000</td> <td>  8.1e+04</td> <td> 1.26e+05</td>\n",
       "</tr>\n",
       "<tr>\n",
       "  <th>neighborhood_NridgHt</th> <td> 6.289e+04</td> <td> 1.08e+04</td> <td>    5.818</td> <td> 0.000</td> <td> 4.17e+04</td> <td> 8.41e+04</td>\n",
       "</tr>\n",
       "<tr>\n",
       "  <th>neighborhood_OldTown</th> <td> 1745.7035</td> <td> 1.09e+04</td> <td>    0.160</td> <td> 0.873</td> <td>-1.97e+04</td> <td> 2.32e+04</td>\n",
       "</tr>\n",
       "<tr>\n",
       "  <th>neighborhood_SWISU</th>   <td> 4860.1637</td> <td> 1.28e+04</td> <td>    0.381</td> <td> 0.703</td> <td>-2.02e+04</td> <td> 2.99e+04</td>\n",
       "</tr>\n",
       "<tr>\n",
       "  <th>neighborhood_Sawyer</th>  <td> 1.964e+04</td> <td> 1.12e+04</td> <td>    1.749</td> <td> 0.081</td> <td>-2394.681</td> <td> 4.17e+04</td>\n",
       "</tr>\n",
       "<tr>\n",
       "  <th>neighborhood_SawyerW</th> <td>   2.2e+04</td> <td> 1.12e+04</td> <td>    1.967</td> <td> 0.049</td> <td>   51.634</td> <td> 4.39e+04</td>\n",
       "</tr>\n",
       "<tr>\n",
       "  <th>neighborhood_Somerst</th> <td> 3.951e+04</td> <td> 1.06e+04</td> <td>    3.731</td> <td> 0.000</td> <td> 1.87e+04</td> <td> 6.03e+04</td>\n",
       "</tr>\n",
       "<tr>\n",
       "  <th>neighborhood_StoneBr</th> <td>  7.65e+04</td> <td> 1.28e+04</td> <td>    5.984</td> <td> 0.000</td> <td> 5.14e+04</td> <td> 1.02e+05</td>\n",
       "</tr>\n",
       "<tr>\n",
       "  <th>neighborhood_Timber</th>  <td>  4.79e+04</td> <td> 1.16e+04</td> <td>    4.128</td> <td> 0.000</td> <td> 2.51e+04</td> <td> 7.07e+04</td>\n",
       "</tr>\n",
       "<tr>\n",
       "  <th>neighborhood_Veenker</th> <td>  6.37e+04</td> <td> 1.52e+04</td> <td>    4.190</td> <td> 0.000</td> <td> 3.39e+04</td> <td> 9.35e+04</td>\n",
       "</tr>\n",
       "<tr>\n",
       "  <th>exterior1st_AsphShn</th>  <td>-4.545e+04</td> <td> 3.72e+04</td> <td>   -1.222</td> <td> 0.222</td> <td>-1.18e+05</td> <td> 2.75e+04</td>\n",
       "</tr>\n",
       "<tr>\n",
       "  <th>exterior1st_BrkComm</th>  <td>-4168.7638</td> <td> 2.74e+04</td> <td>   -0.152</td> <td> 0.879</td> <td>-5.79e+04</td> <td> 4.95e+04</td>\n",
       "</tr>\n",
       "<tr>\n",
       "  <th>exterior1st_BrkFace</th>  <td> 2.213e+04</td> <td> 1.13e+04</td> <td>    1.961</td> <td> 0.050</td> <td>  -16.891</td> <td> 4.43e+04</td>\n",
       "</tr>\n",
       "<tr>\n",
       "  <th>exterior1st_CBlock</th>   <td>  2.47e+04</td> <td> 3.71e+04</td> <td>    0.666</td> <td> 0.506</td> <td>-4.81e+04</td> <td> 9.75e+04</td>\n",
       "</tr>\n",
       "<tr>\n",
       "  <th>exterior1st_CemntBd</th>  <td> 2.039e+04</td> <td> 1.18e+04</td> <td>    1.722</td> <td> 0.085</td> <td>-2837.369</td> <td> 4.36e+04</td>\n",
       "</tr>\n",
       "<tr>\n",
       "  <th>exterior1st_HdBoard</th>  <td> 9723.4414</td> <td> 1.03e+04</td> <td>    0.942</td> <td> 0.346</td> <td>-1.05e+04</td> <td>    3e+04</td>\n",
       "</tr>\n",
       "<tr>\n",
       "  <th>exterior1st_ImStucc</th>  <td> 4.203e-10</td> <td> 2.31e-09</td> <td>    0.182</td> <td> 0.856</td> <td>-4.11e-09</td> <td> 4.95e-09</td>\n",
       "</tr>\n",
       "<tr>\n",
       "  <th>exterior1st_MetalSd</th>  <td> 1.101e+04</td> <td>    1e+04</td> <td>    1.098</td> <td> 0.272</td> <td>-8668.387</td> <td> 3.07e+04</td>\n",
       "</tr>\n",
       "<tr>\n",
       "  <th>exterior1st_Plywood</th>  <td> 1.222e+04</td> <td> 1.08e+04</td> <td>    1.131</td> <td> 0.258</td> <td>-8981.070</td> <td> 3.34e+04</td>\n",
       "</tr>\n",
       "<tr>\n",
       "  <th>exterior1st_Stone</th>    <td>-2.906e+04</td> <td> 2.77e+04</td> <td>   -1.049</td> <td> 0.295</td> <td>-8.34e+04</td> <td> 2.53e+04</td>\n",
       "</tr>\n",
       "<tr>\n",
       "  <th>exterior1st_Stucco</th>   <td>-6627.6219</td> <td> 1.26e+04</td> <td>   -0.528</td> <td> 0.598</td> <td>-3.13e+04</td> <td>  1.8e+04</td>\n",
       "</tr>\n",
       "<tr>\n",
       "  <th>exterior1st_VinylSd</th>  <td> 1.632e+04</td> <td> 1.01e+04</td> <td>    1.613</td> <td> 0.107</td> <td>-3526.540</td> <td> 3.62e+04</td>\n",
       "</tr>\n",
       "<tr>\n",
       "  <th>exterior1st_Wd Sdng</th>  <td> 9802.9734</td> <td> 1.01e+04</td> <td>    0.975</td> <td> 0.330</td> <td>-9919.946</td> <td> 2.95e+04</td>\n",
       "</tr>\n",
       "<tr>\n",
       "  <th>exterior1st_WdShing</th>  <td> 1.054e+04</td> <td> 1.27e+04</td> <td>    0.833</td> <td> 0.405</td> <td>-1.43e+04</td> <td> 3.54e+04</td>\n",
       "</tr>\n",
       "<tr>\n",
       "  <th>kitchenqual_Fa</th>       <td>-5.756e+04</td> <td> 8917.510</td> <td>   -6.455</td> <td> 0.000</td> <td>-7.51e+04</td> <td>-4.01e+04</td>\n",
       "</tr>\n",
       "<tr>\n",
       "  <th>kitchenqual_Gd</th>       <td> -4.48e+04</td> <td> 5128.850</td> <td>   -8.735</td> <td> 0.000</td> <td>-5.49e+04</td> <td>-3.47e+04</td>\n",
       "</tr>\n",
       "<tr>\n",
       "  <th>kitchenqual_TA</th>       <td>-5.628e+04</td> <td> 5815.337</td> <td>   -9.677</td> <td> 0.000</td> <td>-6.77e+04</td> <td>-4.49e+04</td>\n",
       "</tr>\n",
       "</table>\n",
       "<table class=\"simpletable\">\n",
       "<tr>\n",
       "  <th>Omnibus:</th>       <td>400.598</td> <th>  Durbin-Watson:     </th> <td>   2.012</td> \n",
       "</tr>\n",
       "<tr>\n",
       "  <th>Prob(Omnibus):</th> <td> 0.000</td>  <th>  Jarque-Bera (JB):  </th> <td>10541.935</td>\n",
       "</tr>\n",
       "<tr>\n",
       "  <th>Skew:</th>          <td> 0.990</td>  <th>  Prob(JB):          </th> <td>    0.00</td> \n",
       "</tr>\n",
       "<tr>\n",
       "  <th>Kurtosis:</th>      <td>17.584</td>  <th>  Cond. No.          </th> <td>1.05e+16</td> \n",
       "</tr>\n",
       "</table><br/><br/>Notes:<br/>[1] Standard Errors assume that the covariance matrix of the errors is correctly specified.<br/>[2] The smallest eigenvalue is 1.57e-23. This might indicate that there are<br/>strong multicollinearity problems or that the design matrix is singular."
      ],
      "text/plain": [
       "<class 'statsmodels.iolib.summary.Summary'>\n",
       "\"\"\"\n",
       "                            OLS Regression Results                            \n",
       "==============================================================================\n",
       "Dep. Variable:              saleprice   R-squared:                       0.800\n",
       "Model:                            OLS   Adj. R-squared:                  0.793\n",
       "Method:                 Least Squares   F-statistic:                     104.7\n",
       "Date:                Sat, 24 Jul 2021   Prob (F-statistic):               0.00\n",
       "Time:                        15:49:46   Log-Likelihood:                -13878.\n",
       "No. Observations:                1168   AIC:                         2.784e+04\n",
       "Df Residuals:                    1124   BIC:                         2.807e+04\n",
       "Df Model:                          43                                         \n",
       "Covariance Type:            nonrobust                                         \n",
       "========================================================================================\n",
       "                           coef    std err          t      P>|t|      [0.025      0.975]\n",
       "----------------------------------------------------------------------------------------\n",
       "const                -2.316e+04    1.8e+04     -1.285      0.199   -5.85e+04    1.22e+04\n",
       "overallqual           1.856e+04   1327.073     13.985      0.000     1.6e+04    2.12e+04\n",
       "firstflrsf              34.8281      3.720      9.362      0.000      27.529      42.127\n",
       "totrmsabvgrd          9082.8556    785.959     11.556      0.000    7540.744    1.06e+04\n",
       "neighborhood_Blueste  2.237e+04   2.74e+04      0.816      0.414   -3.14e+04    7.61e+04\n",
       "neighborhood_BrDale  -4971.1994   1.41e+04     -0.352      0.725   -3.27e+04    2.28e+04\n",
       "neighborhood_BrkSide  1.796e+04   1.17e+04      1.538      0.124   -4956.874    4.09e+04\n",
       "neighborhood_ClearCr   5.41e+04   1.27e+04      4.252      0.000    2.91e+04    7.91e+04\n",
       "neighborhood_CollgCr  2.691e+04   1.02e+04      2.646      0.008    6957.466    4.69e+04\n",
       "neighborhood_Crawfor  4.917e+04   1.16e+04      4.249      0.000    2.65e+04    7.19e+04\n",
       "neighborhood_Edwards  1473.8668   1.11e+04      0.133      0.894   -2.02e+04    2.32e+04\n",
       "neighborhood_Gilbert  3.194e+04   1.08e+04      2.954      0.003    1.07e+04    5.32e+04\n",
       "neighborhood_IDOTRR  -3284.0887   1.23e+04     -0.268      0.789   -2.73e+04    2.08e+04\n",
       "neighborhood_MeadowV  -873.0757   1.59e+04     -0.055      0.956   -3.21e+04    3.03e+04\n",
       "neighborhood_Mitchel  2.474e+04   1.15e+04      2.144      0.032    2095.951    4.74e+04\n",
       "neighborhood_NAmes    1.465e+04   1.05e+04      1.401      0.162   -5875.523    3.52e+04\n",
       "neighborhood_NPkVill  1.407e+04   1.83e+04      0.768      0.443   -2.19e+04       5e+04\n",
       "neighborhood_NWAmes   2.183e+04   1.11e+04      1.962      0.050      -0.847    4.37e+04\n",
       "neighborhood_NoRidge  1.036e+05   1.15e+04      8.996      0.000     8.1e+04    1.26e+05\n",
       "neighborhood_NridgHt  6.289e+04   1.08e+04      5.818      0.000    4.17e+04    8.41e+04\n",
       "neighborhood_OldTown  1745.7035   1.09e+04      0.160      0.873   -1.97e+04    2.32e+04\n",
       "neighborhood_SWISU    4860.1637   1.28e+04      0.381      0.703   -2.02e+04    2.99e+04\n",
       "neighborhood_Sawyer   1.964e+04   1.12e+04      1.749      0.081   -2394.681    4.17e+04\n",
       "neighborhood_SawyerW    2.2e+04   1.12e+04      1.967      0.049      51.634    4.39e+04\n",
       "neighborhood_Somerst  3.951e+04   1.06e+04      3.731      0.000    1.87e+04    6.03e+04\n",
       "neighborhood_StoneBr   7.65e+04   1.28e+04      5.984      0.000    5.14e+04    1.02e+05\n",
       "neighborhood_Timber    4.79e+04   1.16e+04      4.128      0.000    2.51e+04    7.07e+04\n",
       "neighborhood_Veenker   6.37e+04   1.52e+04      4.190      0.000    3.39e+04    9.35e+04\n",
       "exterior1st_AsphShn  -4.545e+04   3.72e+04     -1.222      0.222   -1.18e+05    2.75e+04\n",
       "exterior1st_BrkComm  -4168.7638   2.74e+04     -0.152      0.879   -5.79e+04    4.95e+04\n",
       "exterior1st_BrkFace   2.213e+04   1.13e+04      1.961      0.050     -16.891    4.43e+04\n",
       "exterior1st_CBlock     2.47e+04   3.71e+04      0.666      0.506   -4.81e+04    9.75e+04\n",
       "exterior1st_CemntBd   2.039e+04   1.18e+04      1.722      0.085   -2837.369    4.36e+04\n",
       "exterior1st_HdBoard   9723.4414   1.03e+04      0.942      0.346   -1.05e+04       3e+04\n",
       "exterior1st_ImStucc   4.203e-10   2.31e-09      0.182      0.856   -4.11e-09    4.95e-09\n",
       "exterior1st_MetalSd   1.101e+04      1e+04      1.098      0.272   -8668.387    3.07e+04\n",
       "exterior1st_Plywood   1.222e+04   1.08e+04      1.131      0.258   -8981.070    3.34e+04\n",
       "exterior1st_Stone    -2.906e+04   2.77e+04     -1.049      0.295   -8.34e+04    2.53e+04\n",
       "exterior1st_Stucco   -6627.6219   1.26e+04     -0.528      0.598   -3.13e+04     1.8e+04\n",
       "exterior1st_VinylSd   1.632e+04   1.01e+04      1.613      0.107   -3526.540    3.62e+04\n",
       "exterior1st_Wd Sdng   9802.9734   1.01e+04      0.975      0.330   -9919.946    2.95e+04\n",
       "exterior1st_WdShing   1.054e+04   1.27e+04      0.833      0.405   -1.43e+04    3.54e+04\n",
       "kitchenqual_Fa       -5.756e+04   8917.510     -6.455      0.000   -7.51e+04   -4.01e+04\n",
       "kitchenqual_Gd        -4.48e+04   5128.850     -8.735      0.000   -5.49e+04   -3.47e+04\n",
       "kitchenqual_TA       -5.628e+04   5815.337     -9.677      0.000   -6.77e+04   -4.49e+04\n",
       "==============================================================================\n",
       "Omnibus:                      400.598   Durbin-Watson:                   2.012\n",
       "Prob(Omnibus):                  0.000   Jarque-Bera (JB):            10541.935\n",
       "Skew:                           0.990   Prob(JB):                         0.00\n",
       "Kurtosis:                      17.584   Cond. No.                     1.05e+16\n",
       "==============================================================================\n",
       "\n",
       "Notes:\n",
       "[1] Standard Errors assume that the covariance matrix of the errors is correctly specified.\n",
       "[2] The smallest eigenvalue is 1.57e-23. This might indicate that there are\n",
       "strong multicollinearity problems or that the design matrix is singular.\n",
       "\"\"\""
      ]
     },
     "execution_count": 19,
     "metadata": {},
     "output_type": "execute_result"
    }
   ],
   "source": [
    "X_train = sm.add_constant(X_train)\n",
    "results = sm.OLS(y_train,X_train).fit()\n",
    "results.summary()"
   ]
  },
  {
   "cell_type": "markdown",
   "id": "fe085949",
   "metadata": {},
   "source": [
    "## Evaluating the new model"
   ]
  },
  {
   "cell_type": "markdown",
   "id": "880e645e",
   "metadata": {},
   "source": [
    "The model looks promising, R squared, adjusted R squared have incread and AIC and BIC have decreased."
   ]
  },
  {
   "cell_type": "markdown",
   "id": "f4b25b31",
   "metadata": {},
   "source": [
    "## Making predictions and evaluating the model"
   ]
  },
  {
   "cell_type": "code",
   "execution_count": 22,
   "id": "6fc49ce2",
   "metadata": {},
   "outputs": [],
   "source": [
    "X_test = sm.add_constant(X_test)\n",
    "y_preds = results.predict(X_test)"
   ]
  },
  {
   "cell_type": "code",
   "execution_count": 23,
   "id": "7964b3c1",
   "metadata": {},
   "outputs": [
    {
     "data": {
      "text/plain": [
       "[<matplotlib.lines.Line2D at 0x285837e5b80>]"
      ]
     },
     "execution_count": 23,
     "metadata": {},
     "output_type": "execute_result"
    },
    {
     "data": {
      "image/png": "[encoded data removed]",
      "text/plain": [
       "<Figure size 432x288 with 1 Axes>"
      ]
     },
     "metadata": {
      "needs_background": "light"
     },
     "output_type": "display_data"
    }
   ],
   "source": [
    "plt.scatter(y_test,y_preds)\n",
    "plt.plot(y_test, y_test, color=\"red\")"
   ]
  },
  {
   "cell_type": "markdown",
   "id": "206b2e8e",
   "metadata": {},
   "source": [
    "From the scatterplot the predictions seem similar to the previous model.  Looking at the metrics... "
   ]
  },
  {
   "cell_type": "code",
   "execution_count": 24,
   "id": "ff551b3b",
   "metadata": {},
   "outputs": [
    {
     "name": "stdout",
     "output_type": "stream",
     "text": [
      "The mean absolute error of the model:  24847.701222678606\n",
      "The mean absolute percentage error of the model:  0.14512024941225213\n",
      "The mean square error of the model:  1340027958.8007991\n",
      "The root mean square error of the model:  36606.392321571366\n"
     ]
    }
   ],
   "source": [
    "print_errors(y_test, y_preds)"
   ]
  },
  {
   "cell_type": "markdown",
   "id": "619c0557",
   "metadata": {},
   "source": [
    "All metrics on the test set were an improvement.  This model is a better choice."
   ]
  },
  {
   "cell_type": "code",
   "execution_count": null,
   "id": "2b363e27",
   "metadata": {},
   "outputs": [],
   "source": []
  }
 ],
 "metadata": {
  "kernelspec": {
   "display_name": "Python 3",
   "language": "python",
   "name": "python3"
  },
  "language_info": {
   "codemirror_mode": {
    "name": "ipython",
    "version": 3
   },
   "file_extension": ".py",
   "mimetype": "text/x-python",
   "name": "python",
   "nbconvert_exporter": "python",
   "pygments_lexer": "ipython3",
   "version": "3.9.5"
  }
 },
 "nbformat": 4,
 "nbformat_minor": 5
}
