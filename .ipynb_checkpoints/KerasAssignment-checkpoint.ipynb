{
 "cells": [
  {
   "cell_type": "code",
   "execution_count": 1,
   "id": "4243cf2b",
   "metadata": {},
   "outputs": [],
   "source": [
    "import numpy as np\n",
    "import pandas as pd\n",
    "import matplotlib.pyplot as plt\n",
    "from tensorflow.keras.datasets import mnist\n",
    "from tensorflow.keras.utils import to_categorical\n",
    "from tensorflow.keras.models import Sequential \n",
    "from tensorflow.keras.layers import Dense\n"
   ]
  },
  {
   "cell_type": "code",
   "execution_count": 2,
   "id": "82a2a385",
   "metadata": {},
   "outputs": [],
   "source": [
    "(X_train, y_train), (X_test, y_test) = mnist.load_data()\n",
    "\n",
    "input_dim = 784  # 28*28\n",
    "output_dim = nb_classes = 10\n",
    "batch_size = 128\n",
    "nb_epoch = 20\n",
    "\n",
    "X_train = X_train.reshape(60000, input_dim)\n",
    "X_test = X_test.reshape(10000, input_dim)\n",
    "X_train = X_train.astype('float32')\n",
    "X_test = X_test.astype('float32')\n",
    "X_train /= 255\n",
    "X_test /= 255\n",
    "Y_train = to_categorical(y_train, nb_classes)\n",
    "Y_test = to_categorical(y_test, nb_classes)"
   ]
  },
  {
   "cell_type": "markdown",
   "id": "727e8d73",
   "metadata": {},
   "source": [
    "# Problem 1"
   ]
  },
  {
   "cell_type": "code",
   "execution_count": 3,
   "id": "bb6181ce",
   "metadata": {},
   "outputs": [],
   "source": [
    "model1 = Sequential()"
   ]
  },
  {
   "cell_type": "code",
   "execution_count": 4,
   "id": "e5128207",
   "metadata": {},
   "outputs": [],
   "source": [
    "model1.add(Dense(32,input_shape=(784,), activation=\"relu\"))\n",
    "model1.add(Dense(16,activation=\"relu\"))\n",
    "model1.add(Dense(10,activation=\"softmax\"))"
   ]
  },
  {
   "cell_type": "code",
   "execution_count": 5,
   "id": "b18a0fb2",
   "metadata": {},
   "outputs": [
    {
     "name": "stdout",
     "output_type": "stream",
     "text": [
      "Model: \"sequential\"\n",
      "_________________________________________________________________\n",
      "Layer (type)                 Output Shape              Param #   \n",
      "=================================================================\n",
      "dense (Dense)                (None, 32)                25120     \n",
      "_________________________________________________________________\n",
      "dense_1 (Dense)              (None, 16)                528       \n",
      "_________________________________________________________________\n",
      "dense_2 (Dense)              (None, 10)                170       \n",
      "=================================================================\n",
      "Total params: 25,818\n",
      "Trainable params: 25,818\n",
      "Non-trainable params: 0\n",
      "_________________________________________________________________\n"
     ]
    }
   ],
   "source": [
    "model1.summary()"
   ]
  },
  {
   "cell_type": "code",
   "execution_count": 7,
   "id": "d14ab601",
   "metadata": {},
   "outputs": [],
   "source": [
    "model1.compile(optimizer='sgd', loss='categorical_crossentropy',\n",
    "              metrics=['accuracy'])"
   ]
  },
  {
   "cell_type": "code",
   "execution_count": 8,
   "id": "1ee37f4c",
   "metadata": {},
   "outputs": [
    {
     "name": "stdout",
     "output_type": "stream",
     "text": [
      "Epoch 1/20\n",
      "469/469 [==============================] - 2s 3ms/step - loss: 1.7908 - accuracy: 0.4023\n",
      "Epoch 2/20\n",
      "469/469 [==============================] - 1s 3ms/step - loss: 0.8085 - accuracy: 0.7912\n",
      "Epoch 3/20\n",
      "469/469 [==============================] - 1s 3ms/step - loss: 0.5296 - accuracy: 0.8558\n",
      "Epoch 4/20\n",
      "469/469 [==============================] - 1s 3ms/step - loss: 0.4363 - accuracy: 0.8777\n",
      "Epoch 5/20\n",
      "469/469 [==============================] - 1s 3ms/step - loss: 0.3878 - accuracy: 0.8903\n",
      "Epoch 6/20\n",
      "469/469 [==============================] - 1s 3ms/step - loss: 0.3558 - accuracy: 0.8990\n",
      "Epoch 7/20\n",
      "469/469 [==============================] - 1s 3ms/step - loss: 0.3317 - accuracy: 0.9057\n",
      "Epoch 8/20\n",
      "469/469 [==============================] - 1s 3ms/step - loss: 0.3123 - accuracy: 0.9105\n",
      "Epoch 9/20\n",
      "469/469 [==============================] - 1s 3ms/step - loss: 0.2962 - accuracy: 0.9156\n",
      "Epoch 10/20\n",
      "469/469 [==============================] - 1s 3ms/step - loss: 0.2826 - accuracy: 0.9195\n",
      "Epoch 11/20\n",
      "469/469 [==============================] - 1s 3ms/step - loss: 0.2707 - accuracy: 0.9224\n",
      "Epoch 12/20\n",
      "469/469 [==============================] - 1s 3ms/step - loss: 0.2602 - accuracy: 0.9261\n",
      "Epoch 13/20\n",
      "469/469 [==============================] - 1s 3ms/step - loss: 0.2508 - accuracy: 0.9276\n",
      "Epoch 14/20\n",
      "469/469 [==============================] - 1s 3ms/step - loss: 0.2427 - accuracy: 0.9300\n",
      "Epoch 15/20\n",
      "469/469 [==============================] - 1s 3ms/step - loss: 0.2354 - accuracy: 0.9323\n",
      "Epoch 16/20\n",
      "469/469 [==============================] - 1s 3ms/step - loss: 0.2282 - accuracy: 0.9347\n",
      "Epoch 17/20\n",
      "469/469 [==============================] - 1s 3ms/step - loss: 0.2217 - accuracy: 0.9363\n",
      "Epoch 18/20\n",
      "469/469 [==============================] - 1s 3ms/step - loss: 0.2159 - accuracy: 0.9377\n",
      "Epoch 19/20\n",
      "469/469 [==============================] - 2s 3ms/step - loss: 0.2103 - accuracy: 0.9395\n",
      "Epoch 20/20\n",
      "469/469 [==============================] - 1s 3ms/step - loss: 0.2050 - accuracy: 0.9411\n"
     ]
    },
    {
     "data": {
      "text/plain": [
       "<keras.callbacks.History at 0x293a843b310>"
      ]
     },
     "execution_count": 8,
     "metadata": {},
     "output_type": "execute_result"
    }
   ],
   "source": [
    "model1.fit(X_train, Y_train, batch_size=batch_size, epochs=20, verbose=1)"
   ]
  },
  {
   "cell_type": "code",
   "execution_count": 10,
   "id": "40015b34",
   "metadata": {},
   "outputs": [
    {
     "name": "stdout",
     "output_type": "stream",
     "text": [
      "Test score: 0.20574162900447845\n",
      "Test accuracy: 0.9386000037193298\n"
     ]
    }
   ],
   "source": [
    "score = model1.evaluate(X_test, Y_test, verbose=0)\n",
    "print('Test score:', score[0])\n",
    "print('Test accuracy:', score[1])"
   ]
  },
  {
   "cell_type": "markdown",
   "id": "69ab63b2",
   "metadata": {},
   "source": [
    "The accuray is less than the example in the checkpoint.\n",
    "\n",
    "# Problem 2"
   ]
  },
  {
   "cell_type": "code",
   "execution_count": 11,
   "id": "5e8b5d12",
   "metadata": {},
   "outputs": [],
   "source": [
    "model2 = Sequential()"
   ]
  },
  {
   "cell_type": "code",
   "execution_count": 12,
   "id": "b1a1215d",
   "metadata": {},
   "outputs": [
    {
     "name": "stdout",
     "output_type": "stream",
     "text": [
      "Model: \"sequential_1\"\n",
      "_________________________________________________________________\n",
      "Layer (type)                 Output Shape              Param #   \n",
      "=================================================================\n",
      "dense_3 (Dense)              (None, 1024)              803840    \n",
      "_________________________________________________________________\n",
      "dense_4 (Dense)              (None, 512)               524800    \n",
      "_________________________________________________________________\n",
      "dense_5 (Dense)              (None, 256)               131328    \n",
      "_________________________________________________________________\n",
      "dense_6 (Dense)              (None, 128)               32896     \n",
      "_________________________________________________________________\n",
      "dense_7 (Dense)              (None, 64)                8256      \n",
      "_________________________________________________________________\n",
      "dense_8 (Dense)              (None, 10)                650       \n",
      "=================================================================\n",
      "Total params: 1,501,770\n",
      "Trainable params: 1,501,770\n",
      "Non-trainable params: 0\n",
      "_________________________________________________________________\n"
     ]
    }
   ],
   "source": [
    "model2.add(Dense(1024,input_shape=(784,), activation=\"relu\"))\n",
    "model2.add(Dense(512,activation=\"relu\"))\n",
    "model2.add(Dense(256, activation=\"relu\"))\n",
    "model2.add(Dense(128, activation=\"relu\"))\n",
    "model2.add(Dense(64,activation=\"relu\"))\n",
    "model2.add(Dense(10,activation=\"softmax\"))\n",
    "model2.summary()"
   ]
  },
  {
   "cell_type": "code",
   "execution_count": 13,
   "id": "c5f6ad8b",
   "metadata": {},
   "outputs": [],
   "source": [
    "model2.compile(optimizer='sgd', loss='categorical_crossentropy',\n",
    "              metrics=['accuracy'])"
   ]
  },
  {
   "cell_type": "code",
   "execution_count": 14,
   "id": "634927ac",
   "metadata": {},
   "outputs": [
    {
     "name": "stdout",
     "output_type": "stream",
     "text": [
      "Epoch 1/20\n",
      "469/469 [==============================] - 11s 20ms/step - loss: 1.2898 - accuracy: 0.6637\n",
      "Epoch 2/20\n",
      "469/469 [==============================] - 10s 21ms/step - loss: 0.3780 - accuracy: 0.8941\n",
      "Epoch 3/20\n",
      "469/469 [==============================] - 10s 21ms/step - loss: 0.2867 - accuracy: 0.9176\n",
      "Epoch 4/20\n",
      "469/469 [==============================] - 10s 21ms/step - loss: 0.2410 - accuracy: 0.9309\n",
      "Epoch 5/20\n",
      "469/469 [==============================] - 10s 20ms/step - loss: 0.2094 - accuracy: 0.9394\n",
      "Epoch 6/20\n",
      "469/469 [==============================] - 9s 19ms/step - loss: 0.1851 - accuracy: 0.9463\n",
      "Epoch 7/20\n",
      "469/469 [==============================] - 9s 19ms/step - loss: 0.1659 - accuracy: 0.9516\n",
      "Epoch 8/20\n",
      "469/469 [==============================] - 10s 20ms/step - loss: 0.1502 - accuracy: 0.9564\n",
      "Epoch 9/20\n",
      "469/469 [==============================] - 10s 20ms/step - loss: 0.1384 - accuracy: 0.9599\n",
      "Epoch 10/20\n",
      "469/469 [==============================] - 9s 20ms/step - loss: 0.1256 - accuracy: 0.9633\n",
      "Epoch 11/20\n",
      "469/469 [==============================] - 9s 19ms/step - loss: 0.1157 - accuracy: 0.9668\n",
      "Epoch 12/20\n",
      "469/469 [==============================] - 9s 20ms/step - loss: 0.1072 - accuracy: 0.9691 0s - loss: 0.1\n",
      "Epoch 13/20\n",
      "469/469 [==============================] - 9s 20ms/step - loss: 0.0992 - accuracy: 0.9712\n",
      "Epoch 14/20\n",
      "469/469 [==============================] - 10s 21ms/step - loss: 0.0919 - accuracy: 0.9736\n",
      "Epoch 15/20\n",
      "469/469 [==============================] - 9s 20ms/step - loss: 0.0857 - accuracy: 0.9760\n",
      "Epoch 16/20\n",
      "469/469 [==============================] - 10s 21ms/step - loss: 0.0794 - accuracy: 0.97690s - loss: 0.0792 - accuracy: \n",
      "Epoch 17/20\n",
      "469/469 [==============================] - 10s 22ms/step - loss: 0.0740 - accuracy: 0.9788\n",
      "Epoch 18/20\n",
      "469/469 [==============================] - 10s 21ms/step - loss: 0.0691 - accuracy: 0.9803\n",
      "Epoch 19/20\n",
      "469/469 [==============================] - 10s 21ms/step - loss: 0.0643 - accuracy: 0.9820\n",
      "Epoch 20/20\n",
      "469/469 [==============================] - 10s 20ms/step - loss: 0.0595 - accuracy: 0.9835\n"
     ]
    },
    {
     "data": {
      "text/plain": [
       "<keras.callbacks.History at 0x293a868fc40>"
      ]
     },
     "execution_count": 14,
     "metadata": {},
     "output_type": "execute_result"
    }
   ],
   "source": [
    "model2.fit(X_train, Y_train, batch_size=batch_size, epochs=20, verbose=1)"
   ]
  },
  {
   "cell_type": "code",
   "execution_count": 15,
   "id": "d0f17021",
   "metadata": {},
   "outputs": [
    {
     "name": "stdout",
     "output_type": "stream",
     "text": [
      "Test score: 0.10430430620908737\n",
      "Test accuracy: 0.9678000211715698\n"
     ]
    }
   ],
   "source": [
    "score = model2.evaluate(X_test, Y_test, verbose=0)\n",
    "print('Test score:', score[0])\n",
    "print('Test accuracy:', score[1])"
   ]
  },
  {
   "cell_type": "markdown",
   "id": "e9f05948",
   "metadata": {},
   "source": [
    "The accuracy is greater.  Probably because of more layers and many more neurons each layer."
   ]
  },
  {
   "cell_type": "code",
   "execution_count": null,
   "id": "7d7b8b0f",
   "metadata": {},
   "outputs": [],
   "source": []
  }
 ],
 "metadata": {
  "kernelspec": {
   "display_name": "Python 3",
   "language": "python",
   "name": "python3"
  },
  "language_info": {
   "codemirror_mode": {
    "name": "ipython",
    "version": 3
   },
   "file_extension": ".py",
   "mimetype": "text/x-python",
   "name": "python",
   "nbconvert_exporter": "python",
   "pygments_lexer": "ipython3",
   "version": "3.9.5"
  }
 },
 "nbformat": 4,
 "nbformat_minor": 5
}
