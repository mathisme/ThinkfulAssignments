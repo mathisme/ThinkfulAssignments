{
 "cells": [
  {
   "cell_type": "code",
   "execution_count": 1,
   "id": "72d8fc05",
   "metadata": {},
   "outputs": [],
   "source": [
    "import pandas as pd\n",
    "import numpy as np\n",
    "import matplotlib.pyplot as plt\n",
    "import seaborn as sns\n",
    "from sklearn.linear_model import LinearRegression\n",
    "from sklearn.linear_model import RidgeCV, LassoCV, ElasticNetCV\n",
    "from sklearn.model_selection import train_test_split\n",
    "from sklearn.metrics import mean_absolute_error\n",
    "from sklearn.impute import KNNImputer\n",
    "import statsmodels.api as sm\n",
    "from statsmodels.tools.eval_measures import mse, rmse\n",
    "from sqlalchemy import create_engine\n",
    "import warnings\n",
    "\n",
    "warnings.filterwarnings('ignore')"
   ]
  },
  {
   "cell_type": "code",
   "execution_count": 2,
   "id": "a8de24e8",
   "metadata": {},
   "outputs": [],
   "source": [
    "postgres_user = 'dsbc_student'\n",
    "postgres_pw = '7*.8G9QH21'\n",
    "postgres_host = '142.93.121.174'\n",
    "postgres_port = '5432'\n",
    "postgres_db = 'houseprices'"
   ]
  },
  {
   "cell_type": "code",
   "execution_count": 3,
   "id": "8c3fd7e2",
   "metadata": {},
   "outputs": [],
   "source": [
    "engine = create_engine('postgresql://{}:{}@{}:{}/{}'.format(\n",
    "    postgres_user, postgres_pw, postgres_host, postgres_port, postgres_db))\n",
    "df = pd.read_sql_query('select * from houseprices',con=engine)\n",
    "\n",
    "engine.dispose()"
   ]
  },
  {
   "cell_type": "code",
   "execution_count": 4,
   "id": "0ca08bcc",
   "metadata": {},
   "outputs": [
    {
     "name": "stdout",
     "output_type": "stream",
     "text": [
      "<class 'pandas.core.frame.DataFrame'>\n",
      "RangeIndex: 1460 entries, 0 to 1459\n",
      "Data columns (total 81 columns):\n",
      " #   Column         Non-Null Count  Dtype  \n",
      "---  ------         --------------  -----  \n",
      " 0   id             1460 non-null   int64  \n",
      " 1   mssubclass     1460 non-null   int64  \n",
      " 2   mszoning       1460 non-null   object \n",
      " 3   lotfrontage    1201 non-null   float64\n",
      " 4   lotarea        1460 non-null   int64  \n",
      " 5   street         1460 non-null   object \n",
      " 6   alley          91 non-null     object \n",
      " 7   lotshape       1460 non-null   object \n",
      " 8   landcontour    1460 non-null   object \n",
      " 9   utilities      1460 non-null   object \n",
      " 10  lotconfig      1460 non-null   object \n",
      " 11  landslope      1460 non-null   object \n",
      " 12  neighborhood   1460 non-null   object \n",
      " 13  condition1     1460 non-null   object \n",
      " 14  condition2     1460 non-null   object \n",
      " 15  bldgtype       1460 non-null   object \n",
      " 16  housestyle     1460 non-null   object \n",
      " 17  overallqual    1460 non-null   int64  \n",
      " 18  overallcond    1460 non-null   int64  \n",
      " 19  yearbuilt      1460 non-null   int64  \n",
      " 20  yearremodadd   1460 non-null   int64  \n",
      " 21  roofstyle      1460 non-null   object \n",
      " 22  roofmatl       1460 non-null   object \n",
      " 23  exterior1st    1460 non-null   object \n",
      " 24  exterior2nd    1460 non-null   object \n",
      " 25  masvnrtype     1452 non-null   object \n",
      " 26  masvnrarea     1452 non-null   float64\n",
      " 27  exterqual      1460 non-null   object \n",
      " 28  extercond      1460 non-null   object \n",
      " 29  foundation     1460 non-null   object \n",
      " 30  bsmtqual       1423 non-null   object \n",
      " 31  bsmtcond       1423 non-null   object \n",
      " 32  bsmtexposure   1422 non-null   object \n",
      " 33  bsmtfintype1   1423 non-null   object \n",
      " 34  bsmtfinsf1     1460 non-null   int64  \n",
      " 35  bsmtfintype2   1422 non-null   object \n",
      " 36  bsmtfinsf2     1460 non-null   int64  \n",
      " 37  bsmtunfsf      1460 non-null   int64  \n",
      " 38  totalbsmtsf    1460 non-null   int64  \n",
      " 39  heating        1460 non-null   object \n",
      " 40  heatingqc      1460 non-null   object \n",
      " 41  centralair     1460 non-null   object \n",
      " 42  electrical     1459 non-null   object \n",
      " 43  firstflrsf     1460 non-null   int64  \n",
      " 44  secondflrsf    1460 non-null   int64  \n",
      " 45  lowqualfinsf   1460 non-null   int64  \n",
      " 46  grlivarea      1460 non-null   int64  \n",
      " 47  bsmtfullbath   1460 non-null   int64  \n",
      " 48  bsmthalfbath   1460 non-null   int64  \n",
      " 49  fullbath       1460 non-null   int64  \n",
      " 50  halfbath       1460 non-null   int64  \n",
      " 51  bedroomabvgr   1460 non-null   int64  \n",
      " 52  kitchenabvgr   1460 non-null   int64  \n",
      " 53  kitchenqual    1460 non-null   object \n",
      " 54  totrmsabvgrd   1460 non-null   int64  \n",
      " 55  functional     1460 non-null   object \n",
      " 56  fireplaces     1460 non-null   int64  \n",
      " 57  fireplacequ    770 non-null    object \n",
      " 58  garagetype     1379 non-null   object \n",
      " 59  garageyrblt    1379 non-null   float64\n",
      " 60  garagefinish   1379 non-null   object \n",
      " 61  garagecars     1460 non-null   int64  \n",
      " 62  garagearea     1460 non-null   int64  \n",
      " 63  garagequal     1379 non-null   object \n",
      " 64  garagecond     1379 non-null   object \n",
      " 65  paveddrive     1460 non-null   object \n",
      " 66  wooddecksf     1460 non-null   int64  \n",
      " 67  openporchsf    1460 non-null   int64  \n",
      " 68  enclosedporch  1460 non-null   int64  \n",
      " 69  threessnporch  1460 non-null   int64  \n",
      " 70  screenporch    1460 non-null   int64  \n",
      " 71  poolarea       1460 non-null   int64  \n",
      " 72  poolqc         7 non-null      object \n",
      " 73  fence          281 non-null    object \n",
      " 74  miscfeature    54 non-null     object \n",
      " 75  miscval        1460 non-null   int64  \n",
      " 76  mosold         1460 non-null   int64  \n",
      " 77  yrsold         1460 non-null   int64  \n",
      " 78  saletype       1460 non-null   object \n",
      " 79  salecondition  1460 non-null   object \n",
      " 80  saleprice      1460 non-null   int64  \n",
      "dtypes: float64(3), int64(35), object(43)\n",
      "memory usage: 924.0+ KB\n"
     ]
    }
   ],
   "source": [
    "df.info()"
   ]
  },
  {
   "cell_type": "code",
   "execution_count": 5,
   "id": "34e56a5d",
   "metadata": {},
   "outputs": [
    {
     "data": {
      "text/html": [
       "<div>\n",
       "<style scoped>\n",
       "    .dataframe tbody tr th:only-of-type {\n",
       "        vertical-align: middle;\n",
       "    }\n",
       "\n",
       "    .dataframe tbody tr th {\n",
       "        vertical-align: top;\n",
       "    }\n",
       "\n",
       "    .dataframe thead th {\n",
       "        text-align: right;\n",
       "    }\n",
       "</style>\n",
       "<table border=\"1\" class=\"dataframe\">\n",
       "  <thead>\n",
       "    <tr style=\"text-align: right;\">\n",
       "      <th></th>\n",
       "      <th>id</th>\n",
       "      <th>mssubclass</th>\n",
       "      <th>mszoning</th>\n",
       "      <th>lotfrontage</th>\n",
       "      <th>lotarea</th>\n",
       "      <th>street</th>\n",
       "      <th>alley</th>\n",
       "      <th>lotshape</th>\n",
       "      <th>landcontour</th>\n",
       "      <th>utilities</th>\n",
       "      <th>...</th>\n",
       "      <th>poolarea</th>\n",
       "      <th>poolqc</th>\n",
       "      <th>fence</th>\n",
       "      <th>miscfeature</th>\n",
       "      <th>miscval</th>\n",
       "      <th>mosold</th>\n",
       "      <th>yrsold</th>\n",
       "      <th>saletype</th>\n",
       "      <th>salecondition</th>\n",
       "      <th>saleprice</th>\n",
       "    </tr>\n",
       "  </thead>\n",
       "  <tbody>\n",
       "    <tr>\n",
       "      <th>0</th>\n",
       "      <td>1</td>\n",
       "      <td>60</td>\n",
       "      <td>RL</td>\n",
       "      <td>65.0</td>\n",
       "      <td>8450</td>\n",
       "      <td>Pave</td>\n",
       "      <td>None</td>\n",
       "      <td>Reg</td>\n",
       "      <td>Lvl</td>\n",
       "      <td>AllPub</td>\n",
       "      <td>...</td>\n",
       "      <td>0</td>\n",
       "      <td>None</td>\n",
       "      <td>None</td>\n",
       "      <td>None</td>\n",
       "      <td>0</td>\n",
       "      <td>2</td>\n",
       "      <td>2008</td>\n",
       "      <td>WD</td>\n",
       "      <td>Normal</td>\n",
       "      <td>208500</td>\n",
       "    </tr>\n",
       "    <tr>\n",
       "      <th>1</th>\n",
       "      <td>2</td>\n",
       "      <td>20</td>\n",
       "      <td>RL</td>\n",
       "      <td>80.0</td>\n",
       "      <td>9600</td>\n",
       "      <td>Pave</td>\n",
       "      <td>None</td>\n",
       "      <td>Reg</td>\n",
       "      <td>Lvl</td>\n",
       "      <td>AllPub</td>\n",
       "      <td>...</td>\n",
       "      <td>0</td>\n",
       "      <td>None</td>\n",
       "      <td>None</td>\n",
       "      <td>None</td>\n",
       "      <td>0</td>\n",
       "      <td>5</td>\n",
       "      <td>2007</td>\n",
       "      <td>WD</td>\n",
       "      <td>Normal</td>\n",
       "      <td>181500</td>\n",
       "    </tr>\n",
       "    <tr>\n",
       "      <th>2</th>\n",
       "      <td>3</td>\n",
       "      <td>60</td>\n",
       "      <td>RL</td>\n",
       "      <td>68.0</td>\n",
       "      <td>11250</td>\n",
       "      <td>Pave</td>\n",
       "      <td>None</td>\n",
       "      <td>IR1</td>\n",
       "      <td>Lvl</td>\n",
       "      <td>AllPub</td>\n",
       "      <td>...</td>\n",
       "      <td>0</td>\n",
       "      <td>None</td>\n",
       "      <td>None</td>\n",
       "      <td>None</td>\n",
       "      <td>0</td>\n",
       "      <td>9</td>\n",
       "      <td>2008</td>\n",
       "      <td>WD</td>\n",
       "      <td>Normal</td>\n",
       "      <td>223500</td>\n",
       "    </tr>\n",
       "    <tr>\n",
       "      <th>3</th>\n",
       "      <td>4</td>\n",
       "      <td>70</td>\n",
       "      <td>RL</td>\n",
       "      <td>60.0</td>\n",
       "      <td>9550</td>\n",
       "      <td>Pave</td>\n",
       "      <td>None</td>\n",
       "      <td>IR1</td>\n",
       "      <td>Lvl</td>\n",
       "      <td>AllPub</td>\n",
       "      <td>...</td>\n",
       "      <td>0</td>\n",
       "      <td>None</td>\n",
       "      <td>None</td>\n",
       "      <td>None</td>\n",
       "      <td>0</td>\n",
       "      <td>2</td>\n",
       "      <td>2006</td>\n",
       "      <td>WD</td>\n",
       "      <td>Abnorml</td>\n",
       "      <td>140000</td>\n",
       "    </tr>\n",
       "    <tr>\n",
       "      <th>4</th>\n",
       "      <td>5</td>\n",
       "      <td>60</td>\n",
       "      <td>RL</td>\n",
       "      <td>84.0</td>\n",
       "      <td>14260</td>\n",
       "      <td>Pave</td>\n",
       "      <td>None</td>\n",
       "      <td>IR1</td>\n",
       "      <td>Lvl</td>\n",
       "      <td>AllPub</td>\n",
       "      <td>...</td>\n",
       "      <td>0</td>\n",
       "      <td>None</td>\n",
       "      <td>None</td>\n",
       "      <td>None</td>\n",
       "      <td>0</td>\n",
       "      <td>12</td>\n",
       "      <td>2008</td>\n",
       "      <td>WD</td>\n",
       "      <td>Normal</td>\n",
       "      <td>250000</td>\n",
       "    </tr>\n",
       "  </tbody>\n",
       "</table>\n",
       "<p>5 rows × 81 columns</p>\n",
       "</div>"
      ],
      "text/plain": [
       "   id  mssubclass mszoning  lotfrontage  lotarea street alley lotshape  \\\n",
       "0   1          60       RL         65.0     8450   Pave  None      Reg   \n",
       "1   2          20       RL         80.0     9600   Pave  None      Reg   \n",
       "2   3          60       RL         68.0    11250   Pave  None      IR1   \n",
       "3   4          70       RL         60.0     9550   Pave  None      IR1   \n",
       "4   5          60       RL         84.0    14260   Pave  None      IR1   \n",
       "\n",
       "  landcontour utilities  ... poolarea poolqc fence miscfeature miscval mosold  \\\n",
       "0         Lvl    AllPub  ...        0   None  None        None       0      2   \n",
       "1         Lvl    AllPub  ...        0   None  None        None       0      5   \n",
       "2         Lvl    AllPub  ...        0   None  None        None       0      9   \n",
       "3         Lvl    AllPub  ...        0   None  None        None       0      2   \n",
       "4         Lvl    AllPub  ...        0   None  None        None       0     12   \n",
       "\n",
       "  yrsold  saletype  salecondition  saleprice  \n",
       "0   2008        WD         Normal     208500  \n",
       "1   2007        WD         Normal     181500  \n",
       "2   2008        WD         Normal     223500  \n",
       "3   2006        WD        Abnorml     140000  \n",
       "4   2008        WD         Normal     250000  \n",
       "\n",
       "[5 rows x 81 columns]"
      ]
     },
     "execution_count": 5,
     "metadata": {},
     "output_type": "execute_result"
    }
   ],
   "source": [
    "df.head(5)"
   ]
  },
  {
   "cell_type": "markdown",
   "id": "c4cd6513",
   "metadata": {},
   "source": [
    "# EDA"
   ]
  },
  {
   "cell_type": "markdown",
   "id": "0bb91a85",
   "metadata": {},
   "source": [
    "## Handling Nulls"
   ]
  },
  {
   "cell_type": "code",
   "execution_count": 6,
   "id": "2d6f739a",
   "metadata": {},
   "outputs": [
    {
     "data": {
      "text/plain": [
       "lotfrontage      259\n",
       "alley           1369\n",
       "masvnrtype         8\n",
       "masvnrarea         8\n",
       "bsmtqual          37\n",
       "bsmtcond          37\n",
       "bsmtexposure      38\n",
       "bsmtfintype1      37\n",
       "bsmtfintype2      38\n",
       "electrical         1\n",
       "fireplacequ      690\n",
       "garagetype        81\n",
       "garageyrblt       81\n",
       "garagefinish      81\n",
       "garagequal        81\n",
       "garagecond        81\n",
       "poolqc          1453\n",
       "fence           1179\n",
       "miscfeature     1406\n",
       "dtype: int64"
      ]
     },
     "execution_count": 6,
     "metadata": {},
     "output_type": "execute_result"
    }
   ],
   "source": [
    "nulls = df.isnull().sum()\n",
    "nulls[nulls!=0]"
   ]
  },
  {
   "cell_type": "markdown",
   "id": "33680661",
   "metadata": {},
   "source": [
    "now looking at the percentaageof null values"
   ]
  },
  {
   "cell_type": "code",
   "execution_count": 7,
   "id": "0328b72a",
   "metadata": {},
   "outputs": [
    {
     "data": {
      "text/plain": [
       "lotfrontage     17.739726\n",
       "alley           93.767123\n",
       "masvnrtype       0.547945\n",
       "masvnrarea       0.547945\n",
       "bsmtqual         2.534247\n",
       "bsmtcond         2.534247\n",
       "bsmtexposure     2.602740\n",
       "bsmtfintype1     2.534247\n",
       "bsmtfintype2     2.602740\n",
       "electrical       0.068493\n",
       "fireplacequ     47.260274\n",
       "garagetype       5.547945\n",
       "garageyrblt      5.547945\n",
       "garagefinish     5.547945\n",
       "garagequal       5.547945\n",
       "garagecond       5.547945\n",
       "poolqc          99.520548\n",
       "fence           80.753425\n",
       "miscfeature     96.301370\n",
       "dtype: float64"
      ]
     },
     "execution_count": 7,
     "metadata": {},
     "output_type": "execute_result"
    }
   ],
   "source": [
    "100*nulls[nulls!=0]/df.shape[0]"
   ]
  },
  {
   "cell_type": "markdown",
   "id": "e8db3235",
   "metadata": {},
   "source": [
    "## Handling null categorical variables\n",
    "\n",
    "According to the codebook, any None values in categorical data are meant as None, or non existent.  Hence None will be replaced with 'None'."
   ]
  },
  {
   "cell_type": "code",
   "execution_count": 8,
   "id": "bbd8089a",
   "metadata": {},
   "outputs": [],
   "source": [
    "categorical_columns = df.select_dtypes('object').columns\n",
    "for col in categorical_columns:\n",
    "    df[col].fillna('None',inplace=True)"
   ]
  },
  {
   "cell_type": "code",
   "execution_count": 9,
   "id": "f050b113",
   "metadata": {},
   "outputs": [
    {
     "data": {
      "text/plain": [
       "lotfrontage    259\n",
       "masvnrarea       8\n",
       "garageyrblt     81\n",
       "dtype: int64"
      ]
     },
     "execution_count": 9,
     "metadata": {},
     "output_type": "execute_result"
    }
   ],
   "source": [
    "nulls = df.isnull().sum()\n",
    "nulls[nulls!=0]"
   ]
  },
  {
   "cell_type": "markdown",
   "id": "5e24a672",
   "metadata": {},
   "source": [
    "The remaining nulls will be dealt with later"
   ]
  },
  {
   "cell_type": "markdown",
   "id": "49d6c186",
   "metadata": {},
   "source": [
    "## Adjusting Columns\n",
    "\n",
    "As id will not be needed with regression, it will be dropped"
   ]
  },
  {
   "cell_type": "code",
   "execution_count": 10,
   "id": "c4512e2f",
   "metadata": {},
   "outputs": [],
   "source": [
    "df.drop('id',axis=1,inplace=True)"
   ]
  },
  {
   "cell_type": "markdown",
   "id": "3cf34a83",
   "metadata": {},
   "source": [
    "There are columns having numeric datatypes that are actually categorical.  I will deal with this after selecting which features to use."
   ]
  },
  {
   "cell_type": "markdown",
   "id": "801843bf",
   "metadata": {},
   "source": [
    "## Handling Outliers\n",
    "\n",
    "## Looking for persistent outliers"
   ]
  },
  {
   "cell_type": "code",
   "execution_count": 11,
   "id": "76b725bb",
   "metadata": {},
   "outputs": [],
   "source": [
    "def categorical_outliers(df_class,df_output):\n",
    "    ol = []\n",
    "    threshold = 1.5\n",
    "    done = False\n",
    "    for val in df[df_class].unique():\n",
    "        while not done:\n",
    "            class_stats = df[df[df_class]==val][df_output].describe()\n",
    "            firstq = class_stats['25%']\n",
    "            thirdq = class_stats['75%']\n",
    "            iqr = threshold * (thirdq - firstq)\n",
    "            lst = list(df[(df[df_class]==val)&((df[df_output] > thirdq + iqr)|(df[df_output]<firstq-iqr))].index)\n",
    "            if len(lst)>10: ### may want to fix this\n",
    "                threshold += 0.5\n",
    "                continue\n",
    "            if len(lst) > 0:\n",
    "                ol = ol + lst\n",
    "            done = True\n",
    "    return ol\n",
    "\n",
    "\n",
    "# change this to use a global dict of indices and their outlier categories so I can explore outliers"
   ]
  },
  {
   "cell_type": "markdown",
   "id": "f5f63283",
   "metadata": {},
   "source": [
    "### Saleprice"
   ]
  },
  {
   "cell_type": "code",
   "execution_count": 12,
   "id": "f2d17174",
   "metadata": {},
   "outputs": [
    {
     "data": {
      "text/plain": [
       "(array([  5.,  11.,  13.,  61.,  58., 126., 165., 180., 122., 130., 121.,\n",
       "         78.,  61.,  64.,  49.,  36.,  36.,  25.,  13.,  25.,  16.,  11.,\n",
       "          4.,  11.,   9.,   5.,   4.,   4.,   4.,   2.,   1.,   1.,   1.,\n",
       "          0.,   1.,   0.,   2.,   0.,   1.,   0.,   2.,   0.,   0.,   0.,\n",
       "          0.,   0.,   0.,   0.,   0.,   2.]),\n",
       " array([ 34900.,  49302.,  63704.,  78106.,  92508., 106910., 121312.,\n",
       "        135714., 150116., 164518., 178920., 193322., 207724., 222126.,\n",
       "        236528., 250930., 265332., 279734., 294136., 308538., 322940.,\n",
       "        337342., 351744., 366146., 380548., 394950., 409352., 423754.,\n",
       "        438156., 452558., 466960., 481362., 495764., 510166., 524568.,\n",
       "        538970., 553372., 567774., 582176., 596578., 610980., 625382.,\n",
       "        639784., 654186., 668588., 682990., 697392., 711794., 726196.,\n",
       "        740598., 755000.]),\n",
       " <BarContainer object of 50 artists>)"
      ]
     },
     "execution_count": 12,
     "metadata": {},
     "output_type": "execute_result"
    },
    {
     "data": {
      "image/png": "[encoded data removed]",
      "text/plain": [
       "<Figure size 432x288 with 1 Axes>"
      ]
     },
     "metadata": {
      "needs_background": "light"
     },
     "output_type": "display_data"
    }
   ],
   "source": [
    "plt.hist(df.saleprice,bins=50)"
   ]
  },
  {
   "cell_type": "markdown",
   "id": "b703b2db",
   "metadata": {},
   "source": [
    "Saleprice looks skewed.  Will create a log transformed saleprice to help search for outliers."
   ]
  },
  {
   "cell_type": "code",
   "execution_count": 13,
   "id": "9208ab12",
   "metadata": {},
   "outputs": [
    {
     "data": {
      "text/plain": [
       "(array([  2.,   2.,   1.,   0.,   0.,   0.,   2.,   3.,   4.,   3.,   5.,\n",
       "          1.,   5.,  21.,  22.,  23.,  18.,  29.,  58.,  56.,  65., 100.,\n",
       "        122.,  93.,  90.,  82., 108.,  91.,  64.,  55.,  58.,  51.,  46.,\n",
       "         42.,  23.,  29.,  22.,  13.,  13.,  13.,   7.,   5.,   4.,   1.,\n",
       "          2.,   2.,   2.,   0.,   0.,   2.]),\n",
       " array([10.46024211, 10.52172673, 10.58321134, 10.64469596, 10.70618058,\n",
       "        10.7676652 , 10.82914982, 10.89063444, 10.95211906, 11.01360367,\n",
       "        11.07508829, 11.13657291, 11.19805753, 11.25954215, 11.32102677,\n",
       "        11.38251138, 11.443996  , 11.50548062, 11.56696524, 11.62844986,\n",
       "        11.68993448, 11.75141909, 11.81290371, 11.87438833, 11.93587295,\n",
       "        11.99735757, 12.05884219, 12.12032681, 12.18181142, 12.24329604,\n",
       "        12.30478066, 12.36626528, 12.4277499 , 12.48923452, 12.55071913,\n",
       "        12.61220375, 12.67368837, 12.73517299, 12.79665761, 12.85814223,\n",
       "        12.91962684, 12.98111146, 13.04259608, 13.1040807 , 13.16556532,\n",
       "        13.22704994, 13.28853455, 13.35001917, 13.41150379, 13.47298841,\n",
       "        13.53447303]),\n",
       " <BarContainer object of 50 artists>)"
      ]
     },
     "execution_count": 13,
     "metadata": {},
     "output_type": "execute_result"
    },
    {
     "data": {
      "image/png": "[encoded data removed]",
      "text/plain": [
       "<Figure size 432x288 with 1 Axes>"
      ]
     },
     "metadata": {
      "needs_background": "light"
     },
     "output_type": "display_data"
    }
   ],
   "source": [
    "df['log_saleprice'] = np.log(df.saleprice)\n",
    "plt.hist(df.log_saleprice, bins = 50)"
   ]
  },
  {
   "cell_type": "markdown",
   "id": "3b0f2788",
   "metadata": {},
   "source": [
    "This looks more symmetric.  Will first see how many outliers are with 1.5IQR."
   ]
  },
  {
   "cell_type": "code",
   "execution_count": 14,
   "id": "f27a32ab",
   "metadata": {},
   "outputs": [
    {
     "data": {
      "text/plain": [
       "[30, 496, 533, 691, 803, 898, 916, 968, 1169, 1182]"
      ]
     },
     "execution_count": 14,
     "metadata": {},
     "output_type": "execute_result"
    }
   ],
   "source": [
    "# I changed to 2IQR as 1.5IQR presented too many outliers\n",
    "\n",
    "log_saleprice_stats = df.log_saleprice.describe()\n",
    "log_saleprice_3rdq = log_saleprice_stats['75%']\n",
    "log_saleprice_1stq = log_saleprice_stats['25%']\n",
    "log_saleprice_15iqr = 2*(log_saleprice_3rdq-log_saleprice_1stq)\n",
    "outliers = list(df[(df.log_saleprice < log_saleprice_1stq-log_saleprice_15iqr)|\n",
    "              (df.log_saleprice>log_saleprice_3rdq+log_saleprice_15iqr)].index)\n",
    "outliers"
   ]
  },
  {
   "cell_type": "markdown",
   "id": "1979984c",
   "metadata": {},
   "source": [
    "### MSSubclass"
   ]
  },
  {
   "cell_type": "code",
   "execution_count": 15,
   "id": "8c58f847",
   "metadata": {},
   "outputs": [
    {
     "data": {
      "text/plain": [
       "<AxesSubplot:title={'center':'saleprice'}, xlabel='mssubclass'>"
      ]
     },
     "execution_count": 15,
     "metadata": {},
     "output_type": "execute_result"
    },
    {
     "data": {
      "image/png": "[encoded data removed]",
      "text/plain": [
       "<Figure size 432x288 with 1 Axes>"
      ]
     },
     "metadata": {
      "needs_background": "light"
     },
     "output_type": "display_data"
    }
   ],
   "source": [
    "df.boxplot('saleprice','mssubclass')"
   ]
  },
  {
   "cell_type": "markdown",
   "id": "0f190389",
   "metadata": {},
   "source": [
    "All seem skewed, going to replot using log saleprice"
   ]
  },
  {
   "cell_type": "code",
   "execution_count": 16,
   "id": "e8745d51",
   "metadata": {},
   "outputs": [
    {
     "data": {
      "text/plain": [
       "<AxesSubplot:title={'center':'log_saleprice'}, xlabel='mssubclass'>"
      ]
     },
     "execution_count": 16,
     "metadata": {},
     "output_type": "execute_result"
    },
    {
     "data": {
      "image/png": "[encoded data removed]",
      "text/plain": [
       "<Figure size 432x288 with 1 Axes>"
      ]
     },
     "metadata": {
      "needs_background": "light"
     },
     "output_type": "display_data"
    }
   ],
   "source": [
    "df.boxplot('log_saleprice','mssubclass')"
   ]
  },
  {
   "cell_type": "code",
   "execution_count": 17,
   "id": "0effdda2",
   "metadata": {},
   "outputs": [],
   "source": [
    "outliers = outliers + categorical_outliers('mssubclass','log_saleprice')"
   ]
  },
  {
   "cell_type": "markdown",
   "id": "76846f52",
   "metadata": {},
   "source": [
    "### MSZoning"
   ]
  },
  {
   "cell_type": "code",
   "execution_count": 18,
   "id": "3e03fe81",
   "metadata": {},
   "outputs": [
    {
     "data": {
      "text/plain": [
       "<AxesSubplot:title={'center':'log_saleprice'}, xlabel='mszoning'>"
      ]
     },
     "execution_count": 18,
     "metadata": {},
     "output_type": "execute_result"
    },
    {
     "data": {
      "image/png": "[encoded data removed]",
      "text/plain": [
       "<Figure size 432x288 with 1 Axes>"
      ]
     },
     "metadata": {
      "needs_background": "light"
     },
     "output_type": "display_data"
    }
   ],
   "source": [
    "df.boxplot('log_saleprice','mszoning')"
   ]
  },
  {
   "cell_type": "code",
   "execution_count": 19,
   "id": "19010a43",
   "metadata": {},
   "outputs": [],
   "source": [
    "outliers = outliers+categorical_outliers('mszoning','log_saleprice')"
   ]
  },
  {
   "cell_type": "markdown",
   "id": "b3338eb5",
   "metadata": {},
   "source": [
    "### LotFrontage"
   ]
  },
  {
   "cell_type": "code",
   "execution_count": 20,
   "id": "5dfeb668",
   "metadata": {},
   "outputs": [
    {
     "data": {
      "text/plain": [
       "(array([ 42.,  11.,  32.,  44.,  76.,  67., 183., 116., 147., 130., 141.,\n",
       "         60.,  39.,  35.,  23.,  12.,  13.,   6.,   6.,   3.,   3.,   2.,\n",
       "          3.,   1.,   0.,   1.,   2.,   1.,   0.,   0.,   0.,   0.,   0.,\n",
       "          0.,   0.,   0.,   0.,   0.,   0.,   0.,   0.,   0.,   0.,   0.,\n",
       "          0.,   0.,   0.,   0.,   0.,   2.]),\n",
       " array([ 21.  ,  26.84,  32.68,  38.52,  44.36,  50.2 ,  56.04,  61.88,\n",
       "         67.72,  73.56,  79.4 ,  85.24,  91.08,  96.92, 102.76, 108.6 ,\n",
       "        114.44, 120.28, 126.12, 131.96, 137.8 , 143.64, 149.48, 155.32,\n",
       "        161.16, 167.  , 172.84, 178.68, 184.52, 190.36, 196.2 , 202.04,\n",
       "        207.88, 213.72, 219.56, 225.4 , 231.24, 237.08, 242.92, 248.76,\n",
       "        254.6 , 260.44, 266.28, 272.12, 277.96, 283.8 , 289.64, 295.48,\n",
       "        301.32, 307.16, 313.  ]),\n",
       " <BarContainer object of 50 artists>)"
      ]
     },
     "execution_count": 20,
     "metadata": {},
     "output_type": "execute_result"
    },
    {
     "data": {
      "image/png": "[encoded data removed]",
      "text/plain": [
       "<Figure size 432x288 with 1 Axes>"
      ]
     },
     "metadata": {
      "needs_background": "light"
     },
     "output_type": "display_data"
    }
   ],
   "source": [
    "plt.hist(df.lotfrontage, bins=50)"
   ]
  },
  {
   "cell_type": "markdown",
   "id": "bbab7abb",
   "metadata": {},
   "source": [
    "Because of the skew, to search for outliers I will use 2*IQR"
   ]
  },
  {
   "cell_type": "code",
   "execution_count": 21,
   "id": "ec3a0971",
   "metadata": {},
   "outputs": [
    {
     "data": {
      "text/plain": [
       "[160,\n",
       " 172,\n",
       " 198,\n",
       " 232,\n",
       " 278,\n",
       " 314,\n",
       " 447,\n",
       " 807,\n",
       " 909,\n",
       " 934,\n",
       " 1107,\n",
       " 1127,\n",
       " 1151,\n",
       " 1173,\n",
       " 1182,\n",
       " 1211,\n",
       " 1298,\n",
       " 1337]"
      ]
     },
     "execution_count": 21,
     "metadata": {},
     "output_type": "execute_result"
    }
   ],
   "source": [
    "lf_stats = df.lotfrontage.describe()\n",
    "firstq = lf_stats['25%']\n",
    "thirdq = lf_stats['75%']\n",
    "iqr2 = 2.5*(thirdq-firstq)\n",
    "lf_outliers = list(df[(df.lotfrontage < firstq-iqr2)|(df.lotfrontage>thirdq+iqr2)].index)\n",
    "lf_outliers # not sure if I should log"
   ]
  },
  {
   "cell_type": "code",
   "execution_count": 22,
   "id": "d0eceef3",
   "metadata": {},
   "outputs": [
    {
     "data": {
      "text/plain": [
       "<matplotlib.collections.PathCollection at 0x2996029cdf0>"
      ]
     },
     "execution_count": 22,
     "metadata": {},
     "output_type": "execute_result"
    },
    {
     "data": {
      "image/png": "[encoded data removed]",
      "text/plain": [
       "<Figure size 432x288 with 1 Axes>"
      ]
     },
     "metadata": {
      "needs_background": "light"
     },
     "output_type": "display_data"
    }
   ],
   "source": [
    "plt.scatter(df.lotfrontage,df.saleprice)"
   ]
  },
  {
   "cell_type": "markdown",
   "id": "148869d6",
   "metadata": {},
   "source": [
    "The relationship doesn't appear very linear.  However there are definite outliers where lotfrontage > 300.  These should have been captured above"
   ]
  },
  {
   "cell_type": "code",
   "execution_count": 23,
   "id": "cb4a51dd",
   "metadata": {},
   "outputs": [],
   "source": [
    "outliers = outliers + lf_outliers"
   ]
  },
  {
   "cell_type": "markdown",
   "id": "de5b2773",
   "metadata": {},
   "source": [
    "### LotArea"
   ]
  },
  {
   "cell_type": "code",
   "execution_count": 24,
   "id": "d164d9c0",
   "metadata": {},
   "outputs": [
    {
     "data": {
      "text/plain": [
       "(array([  1.,   5.,  11.,   7.,   7.,   9.,  12.,   3.,  18.,   6.,  16.,\n",
       "         23.,  20.,  32.,  40.,  44.,  88., 120., 187., 201., 178., 149.,\n",
       "         91.,  70.,  40.,  22.,   8.,  15.,   7.,   6.,   2.,   3.,   4.,\n",
       "          2.,   1.,   2.,   3.,   1.,   1.,   1.,   0.,   0.,   0.,   1.,\n",
       "          0.,   0.,   0.,   2.,   0.,   1.]),\n",
       " array([ 7.17011954,  7.2723078 ,  7.37449605,  7.4766843 ,  7.57887256,\n",
       "         7.68106081,  7.78324906,  7.88543731,  7.98762557,  8.08981382,\n",
       "         8.19200207,  8.29419033,  8.39637858,  8.49856683,  8.60075509,\n",
       "         8.70294334,  8.80513159,  8.90731984,  9.0095081 ,  9.11169635,\n",
       "         9.2138846 ,  9.31607286,  9.41826111,  9.52044936,  9.62263762,\n",
       "         9.72482587,  9.82701412,  9.92920237, 10.03139063, 10.13357888,\n",
       "        10.23576713, 10.33795539, 10.44014364, 10.54233189, 10.64452015,\n",
       "        10.7467084 , 10.84889665, 10.9510849 , 11.05327316, 11.15546141,\n",
       "        11.25764966, 11.35983792, 11.46202617, 11.56421442, 11.66640268,\n",
       "        11.76859093, 11.87077918, 11.97296743, 12.07515569, 12.17734394,\n",
       "        12.27953219]),\n",
       " <BarContainer object of 50 artists>)"
      ]
     },
     "execution_count": 24,
     "metadata": {},
     "output_type": "execute_result"
    },
    {
     "data": {
      "image/png": "[encoded data removed]",
      "text/plain": [
       "<Figure size 432x288 with 1 Axes>"
      ]
     },
     "metadata": {
      "needs_background": "light"
     },
     "output_type": "display_data"
    }
   ],
   "source": [
    "df['log_lotarea'] = df.lotarea.apply(np.log)\n",
    "plt.hist(df.log_lotarea,bins=50)"
   ]
  },
  {
   "cell_type": "code",
   "execution_count": 25,
   "id": "ac86d3db",
   "metadata": {},
   "outputs": [],
   "source": [
    "la_stats = df.log_lotarea.describe()"
   ]
  },
  {
   "cell_type": "code",
   "execution_count": 26,
   "id": "25bbb586",
   "metadata": {},
   "outputs": [],
   "source": [
    "mu = la_stats['mean']\n",
    "std = la_stats['std']\n",
    "outliers = outliers + list(df[(df.log_lotarea < mu - 3*std)|(df.log_lotarea>mu+3*std)].index)"
   ]
  },
  {
   "cell_type": "code",
   "execution_count": 27,
   "id": "2b152473",
   "metadata": {},
   "outputs": [
    {
     "data": {
      "text/plain": [
       "<matplotlib.collections.PathCollection at 0x299603edfd0>"
      ]
     },
     "execution_count": 27,
     "metadata": {},
     "output_type": "execute_result"
    },
    {
     "data": {
      "image/png": "[encoded data removed]",
      "text/plain": [
       "<Figure size 432x288 with 1 Axes>"
      ]
     },
     "metadata": {
      "needs_background": "light"
     },
     "output_type": "display_data"
    }
   ],
   "source": [
    "plt.scatter(df.log_lotarea,df.log_saleprice)"
   ]
  },
  {
   "cell_type": "markdown",
   "id": "c3e42616",
   "metadata": {},
   "source": [
    "There seems to be a light linear correlation.  Log salesprice increases with log lot area.  However I can see two different possible relations in the graph.  It is hard to judge outliers from the scatterplot because of the loose correlation."
   ]
  },
  {
   "cell_type": "markdown",
   "id": "3d2043b8",
   "metadata": {},
   "source": [
    "### Street"
   ]
  },
  {
   "cell_type": "code",
   "execution_count": 28,
   "id": "f2016329",
   "metadata": {},
   "outputs": [
    {
     "data": {
      "text/plain": [
       "<AxesSubplot:title={'center':'log_saleprice'}, xlabel='street'>"
      ]
     },
     "execution_count": 28,
     "metadata": {},
     "output_type": "execute_result"
    },
    {
     "data": {
      "image/png": "[encoded data removed]",
      "text/plain": [
       "<Figure size 432x288 with 1 Axes>"
      ]
     },
     "metadata": {
      "needs_background": "light"
     },
     "output_type": "display_data"
    }
   ],
   "source": [
    "df.boxplot('log_saleprice','street')"
   ]
  },
  {
   "cell_type": "code",
   "execution_count": 29,
   "id": "49887ca2",
   "metadata": {},
   "outputs": [],
   "source": [
    "outliers = outliers + categorical_outliers('street','log_saleprice')"
   ]
  },
  {
   "cell_type": "markdown",
   "id": "e7f9f271",
   "metadata": {},
   "source": [
    "### Alley"
   ]
  },
  {
   "cell_type": "markdown",
   "id": "2d1487c9",
   "metadata": {},
   "source": [
    "Since not many houses have alleys, I will not look for outliers but will still observe the distributions."
   ]
  },
  {
   "cell_type": "code",
   "execution_count": 30,
   "id": "77a3e2ad",
   "metadata": {},
   "outputs": [
    {
     "data": {
      "text/plain": [
       "<AxesSubplot:title={'center':'log_saleprice'}, xlabel='alley'>"
      ]
     },
     "execution_count": 30,
     "metadata": {},
     "output_type": "execute_result"
    },
    {
     "data": {
      "image/png": "[encoded data removed]",
      "text/plain": [
       "<Figure size 432x288 with 1 Axes>"
      ]
     },
     "metadata": {
      "needs_background": "light"
     },
     "output_type": "display_data"
    }
   ],
   "source": [
    "df.boxplot('log_saleprice','alley')"
   ]
  },
  {
   "cell_type": "code",
   "execution_count": 31,
   "id": "39d96dd8",
   "metadata": {},
   "outputs": [
    {
     "data": {
      "text/plain": [
       "None    1369\n",
       "Grvl      50\n",
       "Pave      41\n",
       "Name: alley, dtype: int64"
      ]
     },
     "execution_count": 31,
     "metadata": {},
     "output_type": "execute_result"
    }
   ],
   "source": [
    "df.alley.value_counts()"
   ]
  },
  {
   "cell_type": "markdown",
   "id": "f2a32677",
   "metadata": {},
   "source": [
    "### lotshape"
   ]
  },
  {
   "cell_type": "code",
   "execution_count": 32,
   "id": "6deb50ad",
   "metadata": {},
   "outputs": [
    {
     "data": {
      "text/plain": [
       "Reg    925\n",
       "IR1    484\n",
       "IR2     41\n",
       "IR3     10\n",
       "Name: lotshape, dtype: int64"
      ]
     },
     "execution_count": 32,
     "metadata": {},
     "output_type": "execute_result"
    }
   ],
   "source": [
    "df.lotshape.value_counts()"
   ]
  },
  {
   "cell_type": "code",
   "execution_count": 33,
   "id": "95fdda5a",
   "metadata": {},
   "outputs": [
    {
     "data": {
      "text/plain": [
       "<AxesSubplot:title={'center':'log_saleprice'}, xlabel='lotshape'>"
      ]
     },
     "execution_count": 33,
     "metadata": {},
     "output_type": "execute_result"
    },
    {
     "data": {
      "image/png": "[encoded data removed]",
      "text/plain": [
       "<Figure size 432x288 with 1 Axes>"
      ]
     },
     "metadata": {
      "needs_background": "light"
     },
     "output_type": "display_data"
    }
   ],
   "source": [
    "df.boxplot('log_saleprice','lotshape')"
   ]
  },
  {
   "cell_type": "code",
   "execution_count": 34,
   "id": "8891e077",
   "metadata": {},
   "outputs": [],
   "source": [
    "outliers = outliers + categorical_outliers('lotshape','log_saleprice')"
   ]
  },
  {
   "cell_type": "markdown",
   "id": "ec9ce359",
   "metadata": {},
   "source": [
    "### Land Contour"
   ]
  },
  {
   "cell_type": "code",
   "execution_count": 35,
   "id": "bc1db7cd",
   "metadata": {},
   "outputs": [
    {
     "data": {
      "text/plain": [
       "Lvl    1311\n",
       "Bnk      63\n",
       "HLS      50\n",
       "Low      36\n",
       "Name: landcontour, dtype: int64"
      ]
     },
     "execution_count": 35,
     "metadata": {},
     "output_type": "execute_result"
    }
   ],
   "source": [
    "df.landcontour.value_counts()"
   ]
  },
  {
   "cell_type": "code",
   "execution_count": 36,
   "id": "fdd18625",
   "metadata": {},
   "outputs": [
    {
     "data": {
      "text/plain": [
       "<AxesSubplot:title={'center':'log_saleprice'}, xlabel='landcontour'>"
      ]
     },
     "execution_count": 36,
     "metadata": {},
     "output_type": "execute_result"
    },
    {
     "data": {
      "image/png": "[encoded data removed]",
      "text/plain": [
       "<Figure size 432x288 with 1 Axes>"
      ]
     },
     "metadata": {
      "needs_background": "light"
     },
     "output_type": "display_data"
    }
   ],
   "source": [
    "df.boxplot('log_saleprice','landcontour')"
   ]
  },
  {
   "cell_type": "code",
   "execution_count": 37,
   "id": "c29a5e09",
   "metadata": {},
   "outputs": [],
   "source": [
    "outliers = outliers + categorical_outliers('landcontour','log_saleprice')"
   ]
  },
  {
   "cell_type": "markdown",
   "id": "a237283b",
   "metadata": {},
   "source": [
    "### Utilities"
   ]
  },
  {
   "cell_type": "code",
   "execution_count": 38,
   "id": "fbdc0e39",
   "metadata": {},
   "outputs": [
    {
     "data": {
      "text/plain": [
       "AllPub    1459\n",
       "NoSeWa       1\n",
       "Name: utilities, dtype: int64"
      ]
     },
     "execution_count": 38,
     "metadata": {},
     "output_type": "execute_result"
    }
   ],
   "source": [
    "df.utilities.value_counts()"
   ]
  },
  {
   "cell_type": "code",
   "execution_count": 39,
   "id": "9d74abcf",
   "metadata": {},
   "outputs": [
    {
     "data": {
      "text/plain": [
       "<AxesSubplot:title={'center':'log_saleprice'}, xlabel='utilities'>"
      ]
     },
     "execution_count": 39,
     "metadata": {},
     "output_type": "execute_result"
    },
    {
     "data": {
      "image/png": "[encoded data removed]",
      "text/plain": [
       "<Figure size 432x288 with 1 Axes>"
      ]
     },
     "metadata": {
      "needs_background": "light"
     },
     "output_type": "display_data"
    }
   ],
   "source": [
    "df.boxplot('log_saleprice','utilities')"
   ]
  },
  {
   "cell_type": "code",
   "execution_count": 40,
   "id": "f367ddbd",
   "metadata": {},
   "outputs": [],
   "source": [
    "outliers = outliers + categorical_outliers('utilities','log_saleprice')"
   ]
  },
  {
   "cell_type": "markdown",
   "id": "e673e732",
   "metadata": {},
   "source": [
    "### Lot config"
   ]
  },
  {
   "cell_type": "code",
   "execution_count": 41,
   "id": "e124b2bd",
   "metadata": {},
   "outputs": [
    {
     "data": {
      "text/plain": [
       "Inside     1052\n",
       "Corner      263\n",
       "CulDSac      94\n",
       "FR2          47\n",
       "FR3           4\n",
       "Name: lotconfig, dtype: int64"
      ]
     },
     "execution_count": 41,
     "metadata": {},
     "output_type": "execute_result"
    }
   ],
   "source": [
    "df.lotconfig.value_counts()"
   ]
  },
  {
   "cell_type": "code",
   "execution_count": 42,
   "id": "b9a9ad7c",
   "metadata": {},
   "outputs": [
    {
     "data": {
      "text/plain": [
       "<AxesSubplot:title={'center':'log_saleprice'}, xlabel='lotconfig'>"
      ]
     },
     "execution_count": 42,
     "metadata": {},
     "output_type": "execute_result"
    },
    {
     "data": {
      "image/png": "[encoded data removed]",
      "text/plain": [
       "<Figure size 432x288 with 1 Axes>"
      ]
     },
     "metadata": {
      "needs_background": "light"
     },
     "output_type": "display_data"
    }
   ],
   "source": [
    "df.boxplot('log_saleprice','lotconfig')"
   ]
  },
  {
   "cell_type": "code",
   "execution_count": 43,
   "id": "205f842b",
   "metadata": {},
   "outputs": [],
   "source": [
    "outliers = outliers + categorical_outliers('lotconfig','log_saleprice')"
   ]
  },
  {
   "cell_type": "markdown",
   "id": "eaf621b4",
   "metadata": {},
   "source": [
    "### Landslope"
   ]
  },
  {
   "cell_type": "code",
   "execution_count": 44,
   "id": "8bfa4451",
   "metadata": {},
   "outputs": [
    {
     "data": {
      "text/plain": [
       "Gtl    1382\n",
       "Mod      65\n",
       "Sev      13\n",
       "Name: landslope, dtype: int64"
      ]
     },
     "execution_count": 44,
     "metadata": {},
     "output_type": "execute_result"
    }
   ],
   "source": [
    "df.landslope.value_counts()"
   ]
  },
  {
   "cell_type": "code",
   "execution_count": 45,
   "id": "59fd17ee",
   "metadata": {},
   "outputs": [
    {
     "data": {
      "text/plain": [
       "<AxesSubplot:title={'center':'log_saleprice'}, xlabel='landslope'>"
      ]
     },
     "execution_count": 45,
     "metadata": {},
     "output_type": "execute_result"
    },
    {
     "data": {
      "image/png": "[encoded data removed]",
      "text/plain": [
       "<Figure size 432x288 with 1 Axes>"
      ]
     },
     "metadata": {
      "needs_background": "light"
     },
     "output_type": "display_data"
    }
   ],
   "source": [
    "df.boxplot('log_saleprice','landslope')"
   ]
  },
  {
   "cell_type": "code",
   "execution_count": 46,
   "id": "4f6c40bf",
   "metadata": {},
   "outputs": [],
   "source": [
    "outliers = outliers + categorical_outliers('landslope','log_saleprice')"
   ]
  },
  {
   "cell_type": "markdown",
   "id": "77b07181",
   "metadata": {},
   "source": [
    "### Neighborhood"
   ]
  },
  {
   "cell_type": "code",
   "execution_count": 47,
   "id": "61f66a8f",
   "metadata": {},
   "outputs": [
    {
     "data": {
      "text/plain": [
       "NAmes      225\n",
       "CollgCr    150\n",
       "OldTown    113\n",
       "Edwards    100\n",
       "Somerst     86\n",
       "Gilbert     79\n",
       "NridgHt     77\n",
       "Sawyer      74\n",
       "NWAmes      73\n",
       "SawyerW     59\n",
       "BrkSide     58\n",
       "Crawfor     51\n",
       "Mitchel     49\n",
       "NoRidge     41\n",
       "Timber      38\n",
       "IDOTRR      37\n",
       "ClearCr     28\n",
       "SWISU       25\n",
       "StoneBr     25\n",
       "Blmngtn     17\n",
       "MeadowV     17\n",
       "BrDale      16\n",
       "Veenker     11\n",
       "NPkVill      9\n",
       "Blueste      2\n",
       "Name: neighborhood, dtype: int64"
      ]
     },
     "execution_count": 47,
     "metadata": {},
     "output_type": "execute_result"
    }
   ],
   "source": [
    "df.neighborhood.value_counts()"
   ]
  },
  {
   "cell_type": "code",
   "execution_count": 48,
   "id": "fccc3837",
   "metadata": {},
   "outputs": [
    {
     "data": {
      "text/plain": [
       "<AxesSubplot:title={'center':'saleprice'}, xlabel='neighborhood'>"
      ]
     },
     "execution_count": 48,
     "metadata": {},
     "output_type": "execute_result"
    },
    {
     "data": {
      "image/png": "[encoded data removed]",
      "text/plain": [
       "<Figure size 432x288 with 1 Axes>"
      ]
     },
     "metadata": {
      "needs_background": "light"
     },
     "output_type": "display_data"
    }
   ],
   "source": [
    "df.boxplot('saleprice','neighborhood')"
   ]
  },
  {
   "cell_type": "code",
   "execution_count": 49,
   "id": "504d1c78",
   "metadata": {},
   "outputs": [
    {
     "data": {
      "text/plain": [
       "<AxesSubplot:title={'center':'log_saleprice'}, xlabel='neighborhood'>"
      ]
     },
     "execution_count": 49,
     "metadata": {},
     "output_type": "execute_result"
    },
    {
     "data": {
      "image/png": "[encoded data removed]",
      "text/plain": [
       "<Figure size 432x288 with 1 Axes>"
      ]
     },
     "metadata": {
      "needs_background": "light"
     },
     "output_type": "display_data"
    }
   ],
   "source": [
    "df.boxplot('log_saleprice','neighborhood')"
   ]
  },
  {
   "cell_type": "code",
   "execution_count": 50,
   "id": "b49c6f64",
   "metadata": {},
   "outputs": [
    {
     "data": {
      "image/png": "[encoded data removed]",
      "text/plain": [
       "<Figure size 864x7200 with 50 Axes>"
      ]
     },
     "metadata": {
      "needs_background": "light"
     },
     "output_type": "display_data"
    }
   ],
   "source": [
    "neighborhoods = df.neighborhood.unique()\n",
    "fig, axs = plt.subplots(len(neighborhoods),2,figsize=(12,100))\n",
    "i = 0\n",
    "for neighborhood in neighborhoods:\n",
    "    axs[i,0].hist(df[df['neighborhood']==neighborhood]['saleprice'], bins=25)\n",
    "    axs[i,1].hist(df[df['neighborhood']==neighborhood]['log_saleprice'], bins=25)\n",
    "    axs[i,0].title.set_text(neighborhood)\n",
    "    i = i + 1"
   ]
  },
  {
   "cell_type": "markdown",
   "id": "eb505d7f",
   "metadata": {},
   "source": [
    "Some neighborhoods have a uniform distribution of saleprice, while others are bimodal or mulstimodal, while others are somewhat normal.  "
   ]
  },
  {
   "cell_type": "code",
   "execution_count": 51,
   "id": "7f8fb821",
   "metadata": {},
   "outputs": [],
   "source": [
    "outliers = outliers + categorical_outliers('neighborhood','log_saleprice')"
   ]
  },
  {
   "cell_type": "markdown",
   "id": "aa31b4c6",
   "metadata": {},
   "source": [
    "### continuing in the same manner to look for outliers in categorical data..."
   ]
  },
  {
   "cell_type": "code",
   "execution_count": 52,
   "id": "b3cf4040",
   "metadata": {},
   "outputs": [],
   "source": [
    "variables = ['condition1','condition2','bldgtype','housestyle','overallqual','overallcond','roofstyle','roofmatl','exterior1st',\n",
    "'exterior2nd','masvnrtype','exterqual','extercond','foundation','bsmtqual','bsmtcond','bsmtexposure','bsmtfintype1',\n",
    "'bsmtfintype2','heating','heatingqc','centralair','electrical','kitchenqual','functional','fireplacequ','garagetype',\n",
    "'garagefinish','garagequal','garagecond','paveddrive','mosold','saletype','salecondition']\n",
    "\n",
    "for var in variables:\n",
    "    outliers = outliers+categorical_outliers(var,'log_saleprice')"
   ]
  },
  {
   "cell_type": "code",
   "execution_count": 53,
   "id": "4fb5b0b4",
   "metadata": {},
   "outputs": [
    {
     "name": "stdout",
     "output_type": "stream",
     "text": [
      "[30, 496, 533, 691, 803, 898, 916, 968, 1169, 1182, 691, 769, 798, 803, 1046, 1169, 1182, 533, 691, 898, 1169, 1182, 160, 172, 198, 232, 278, 314, 447, 807, 909, 934, 1107, 1127, 1151, 1173, 1182, 1211, 1298, 1337, 53, 75, 226, 228, 233, 236, 250, 314, 336, 364, 385, 431, 435, 452, 458, 490, 501, 614, 655, 661, 706, 769, 837, 848, 956, 1029, 1038, 1039, 1219, 1291, 1298, 1396, 1449, 30, 496, 533, 691, 803, 898, 916, 968, 1169, 1182, 30, 441, 496, 533, 798, 803, 916, 968, 1244, 1373, 30, 496, 691, 803, 898, 916, 968, 1169, 1182, 30, 496, 533, 691, 803, 898, 916, 968, 1169, 1182, 30, 441, 496, 533, 803, 898, 916, 968, 1046, 30, 496, 691, 803, 898, 916, 968, 1169, 1182, 1142, 496, 533, 691, 898, 916, 968, 1169, 1182, 30, 496, 533, 691, 803, 898, 916, 968, 1169, 1182, 30, 496, 533, 691, 916, 968, 1182, 30, 691, 705, 803, 1046, 1169, 1182, 113, 314, 632, 718, 1148, 1266, 496, 1182, 496, 533, 691, 916, 968, 30, 496, 533, 803, 898, 916, 968, 1169, 1182, 533, 705, 710, 898, 968, 533, 710, 898, 968, 691, 769, 915, 1169, 180, 186, 710, 1046, 1169, 1182, 496, 691, 898, 916, 968, 1182, 691, 898, 1169, 1182, 435, 614, 769, 1039, 1144, 30, 496, 691, 803, 898, 916, 968, 1169, 1182, 30, 179, 496, 710, 798, 968, 1337, 126, 691, 898, 1039, 1143, 1169, 1182, 30, 496, 691, 898, 916, 968, 1169, 1182, 30, 496, 533, 691, 803, 898, 916, 1169, 1182, 441, 691, 769, 803, 874, 898, 1046, 1169, 1182, 691, 803, 898, 1169, 1182, 30, 691, 898, 968, 1169, 1182, 490, 1049, 1169, 1326, 30, 496, 533, 691, 898, 916, 968, 1169, 1182, 30, 496, 533, 916, 968, 179, 411, 441, 691, 898, 915, 1169, 1182, 1244, 1373, 474, 497, 591, 803, 1007, 1061, 1086, 1142, 1279, 1373, 30, 691, 803, 898, 916, 1169, 1182, 691, 898, 916, 1169, 1182, 691, 898, 916, 968, 1169, 1182, 30, 496, 533, 691, 916, 968, 1182, 30, 441, 533, 691, 710, 769, 1169]\n"
     ]
    }
   ],
   "source": [
    "print(outliers)"
   ]
  },
  {
   "cell_type": "markdown",
   "id": "22bbfd3c",
   "metadata": {},
   "source": [
    "## continuing to look for outliers in continuous data"
   ]
  },
  {
   "cell_type": "markdown",
   "id": "ad65404b",
   "metadata": {},
   "source": [
    "### yearbuilt"
   ]
  },
  {
   "cell_type": "code",
   "execution_count": 54,
   "id": "5cdf311e",
   "metadata": {},
   "outputs": [
    {
     "data": {
      "text/plain": [
       "<matplotlib.collections.PathCollection at 0x29966312e50>"
      ]
     },
     "execution_count": 54,
     "metadata": {},
     "output_type": "execute_result"
    },
    {
     "data": {
      "image/png": "[encoded data removed]",
      "text/plain": [
       "<Figure size 432x288 with 1 Axes>"
      ]
     },
     "metadata": {
      "needs_background": "light"
     },
     "output_type": "display_data"
    }
   ],
   "source": [
    "plt.scatter(df.yearbuilt,df.log_saleprice)\n"
   ]
  },
  {
   "cell_type": "markdown",
   "id": "6da203f6",
   "metadata": {},
   "source": [
    "The outliers that stick out the most are those in the top left corner where the year built is prior to 1900 and the log price is more than 12.25, those in the bottom where the log price is less than 10.75 and the couple in the top right, built prior to 2000 with a log pricce greater than 13.  For the top right outliers, although these are outliers by graph, it does appear reasonable as antique homes would probably sell for more. Let's look at a scatter plot for only those built before 1900.  Should I include these as outliers?"
   ]
  },
  {
   "cell_type": "code",
   "execution_count": 55,
   "id": "23a896e4",
   "metadata": {},
   "outputs": [],
   "source": [
    "# need to finish"
   ]
  },
  {
   "cell_type": "markdown",
   "id": "17006aba",
   "metadata": {},
   "source": [
    "### yearremodadd"
   ]
  },
  {
   "cell_type": "code",
   "execution_count": 56,
   "id": "30efdbf2",
   "metadata": {},
   "outputs": [
    {
     "data": {
      "text/plain": [
       "[<matplotlib.lines.Line2D at 0x29966260a60>]"
      ]
     },
     "execution_count": 56,
     "metadata": {},
     "output_type": "execute_result"
    },
    {
     "data": {
      "image/png": "[encoded data removed]",
      "text/plain": [
       "<Figure size 432x288 with 1 Axes>"
      ]
     },
     "metadata": {
      "needs_background": "light"
     },
     "output_type": "display_data"
    }
   ],
   "source": [
    "plt.scatter(df.yearremodadd, df.log_saleprice)\n",
    "m, b = np.polyfit(df.yearremodadd, df.log_saleprice, 1)\n",
    "plt.plot(df.yearremodadd, m*df.yearremodadd+b,color=\"red\")"
   ]
  },
  {
   "cell_type": "markdown",
   "id": "d84b8778",
   "metadata": {},
   "source": [
    "There are definately two patters here, the vertical line at 1950 and the line with a slight slope.  Maybe whoever collected the data created a cutoff, anything remodeled before 1950 was marked as 1950. "
   ]
  },
  {
   "cell_type": "code",
   "execution_count": 57,
   "id": "f25bf7f9",
   "metadata": {},
   "outputs": [],
   "source": [
    "# need to finish"
   ]
  },
  {
   "cell_type": "markdown",
   "id": "1b805f2f",
   "metadata": {},
   "source": [
    "### masvnrarea"
   ]
  },
  {
   "cell_type": "code",
   "execution_count": 58,
   "id": "143bb087",
   "metadata": {},
   "outputs": [
    {
     "data": {
      "text/plain": [
       "(array([912., 119., 110.,  84.,  71.,  51.,  27.,  23.,  11.,  11.,   9.,\n",
       "          6.,   5.,   3.,   2.,   1.,   2.,   2.,   1.,   0.,   0.,   1.,\n",
       "          0.,   0.,   1.]),\n",
       " array([   0.,   64.,  128.,  192.,  256.,  320.,  384.,  448.,  512.,\n",
       "         576.,  640.,  704.,  768.,  832.,  896.,  960., 1024., 1088.,\n",
       "        1152., 1216., 1280., 1344., 1408., 1472., 1536., 1600.]),\n",
       " <BarContainer object of 25 artists>)"
      ]
     },
     "execution_count": 58,
     "metadata": {},
     "output_type": "execute_result"
    },
    {
     "data": {
      "image/png": "[encoded data removed]",
      "text/plain": [
       "<Figure size 432x288 with 1 Axes>"
      ]
     },
     "metadata": {
      "needs_background": "light"
     },
     "output_type": "display_data"
    }
   ],
   "source": [
    "plt.hist(df.masvnrarea, bins = 25)"
   ]
  },
  {
   "cell_type": "markdown",
   "id": "5865475c",
   "metadata": {},
   "source": [
    "as not many houses have a Masonry veneer, I'm not going to search for outliers."
   ]
  },
  {
   "cell_type": "markdown",
   "id": "2c01cad6",
   "metadata": {},
   "source": [
    "### totalbsmtsf"
   ]
  },
  {
   "cell_type": "code",
   "execution_count": 59,
   "id": "2e05ee20",
   "metadata": {},
   "outputs": [
    {
     "data": {
      "text/plain": [
       "<matplotlib.collections.PathCollection at 0x2996489f280>"
      ]
     },
     "execution_count": 59,
     "metadata": {},
     "output_type": "execute_result"
    },
    {
     "data": {
      "image/png": "[encoded data removed]",
      "text/plain": [
       "<Figure size 432x288 with 1 Axes>"
      ]
     },
     "metadata": {
      "needs_background": "light"
     },
     "output_type": "display_data"
    }
   ],
   "source": [
    "plt.scatter(df.totalbsmtsf, df.log_saleprice)"
   ]
  },
  {
   "cell_type": "markdown",
   "id": "4f745044",
   "metadata": {},
   "source": [
    "There is a definite outlier where the square footage of the basement is more than 5000.  This may be a collection or measurement error.  If I include total square footage of the basement in the measurement, I will definitely drop this value."
   ]
  },
  {
   "cell_type": "code",
   "execution_count": 60,
   "id": "549579b9",
   "metadata": {},
   "outputs": [],
   "source": [
    "outliers.append((df[df.totalbsmtsf > 5000].index)[0])"
   ]
  },
  {
   "cell_type": "markdown",
   "id": "d953555e",
   "metadata": {},
   "source": [
    "looking at the houses with a basement square footage greater than 0 but less than 5000..."
   ]
  },
  {
   "cell_type": "code",
   "execution_count": 61,
   "id": "32de4bb1",
   "metadata": {},
   "outputs": [],
   "source": [
    "df_bm = df[(df.totalbsmtsf>0)&(df.totalbsmtsf<5000)]"
   ]
  },
  {
   "cell_type": "code",
   "execution_count": 62,
   "id": "ada21d0a",
   "metadata": {},
   "outputs": [
    {
     "data": {
      "text/plain": [
       "[<matplotlib.lines.Line2D at 0x2996495b370>]"
      ]
     },
     "execution_count": 62,
     "metadata": {},
     "output_type": "execute_result"
    },
    {
     "data": {
      "image/png": "[encoded data removed]",
      "text/plain": [
       "<Figure size 432x288 with 1 Axes>"
      ]
     },
     "metadata": {
      "needs_background": "light"
     },
     "output_type": "display_data"
    }
   ],
   "source": [
    "plt.scatter(df_bm.totalbsmtsf, df_bm.log_saleprice)\n",
    "m, b = np.polyfit(df_bm.totalbsmtsf, df_bm.log_saleprice, 1)\n",
    "plt.plot(df_bm.totalbsmtsf, m*df_bm.totalbsmtsf+b,color=\"red\")"
   ]
  },
  {
   "cell_type": "markdown",
   "id": "407f9e8c",
   "metadata": {},
   "source": [
    "There are apparent outliers where the square footage is more than 2750 and also where the saleprice is less than 10.65"
   ]
  },
  {
   "cell_type": "code",
   "execution_count": 63,
   "id": "db11ace4",
   "metadata": {},
   "outputs": [
    {
     "data": {
      "text/plain": [
       "[<matplotlib.lines.Line2D at 0x299649bbca0>]"
      ]
     },
     "execution_count": 63,
     "metadata": {},
     "output_type": "execute_result"
    },
    {
     "data": {
      "image/png": "[encoded data removed]",
      "text/plain": [
       "<Figure size 432x288 with 1 Axes>"
      ]
     },
     "metadata": {
      "needs_background": "light"
     },
     "output_type": "display_data"
    }
   ],
   "source": [
    "df_bm2 = df_bm[(df_bm.totalbsmtsf<2750)&(df_bm.log_saleprice>10.65)]\n",
    "plt.scatter(df_bm2.totalbsmtsf, df_bm2.log_saleprice)\n",
    "m, b = np.polyfit(df_bm2.totalbsmtsf, df_bm2.log_saleprice, 1)\n",
    "plt.plot(df_bm2.totalbsmtsf, m*df_bm2.totalbsmtsf+b,color=\"red\")"
   ]
  },
  {
   "cell_type": "markdown",
   "id": "c93d0ef3",
   "metadata": {},
   "source": [
    "Removing those outliers didn't seem to effect the graph, hopefully the outliers will be persistent outliers caught in other areas."
   ]
  },
  {
   "cell_type": "code",
   "execution_count": 64,
   "id": "43b9a999",
   "metadata": {},
   "outputs": [
    {
     "data": {
      "text/plain": [
       "(array([  2.,   6.,  16.,  58., 129., 218., 236., 191., 135.,  97.,  99.,\n",
       "         84.,  62.,  33.,  22.,  14.,   7.,   4.,   3.,   1.,   1.,   0.,\n",
       "          0.,   0.,   4.]),\n",
       " array([ 105.  ,  229.04,  353.08,  477.12,  601.16,  725.2 ,  849.24,\n",
       "         973.28, 1097.32, 1221.36, 1345.4 , 1469.44, 1593.48, 1717.52,\n",
       "        1841.56, 1965.6 , 2089.64, 2213.68, 2337.72, 2461.76, 2585.8 ,\n",
       "        2709.84, 2833.88, 2957.92, 3081.96, 3206.  ]),\n",
       " <BarContainer object of 25 artists>)"
      ]
     },
     "execution_count": 64,
     "metadata": {},
     "output_type": "execute_result"
    },
    {
     "data": {
      "image/png": "[encoded data removed]",
      "text/plain": [
       "<Figure size 432x288 with 1 Axes>"
      ]
     },
     "metadata": {
      "needs_background": "light"
     },
     "output_type": "display_data"
    }
   ],
   "source": [
    "plt.hist(df_bm.totalbsmtsf, bins = 25)"
   ]
  },
  {
   "cell_type": "code",
   "execution_count": 65,
   "id": "a4147880",
   "metadata": {},
   "outputs": [],
   "source": [
    "bsf_stats = df_bm.totalbsmtsf.describe()"
   ]
  },
  {
   "cell_type": "code",
   "execution_count": 66,
   "id": "b86f2179",
   "metadata": {},
   "outputs": [],
   "source": [
    "q1 = bsf_stats['25%']\n",
    "q3 = bsf_stats['75%']\n",
    "iqr = 2*(q3-q1)\n",
    "outliers =outliers + list(df_bm[(df_bm.totalbsmtsf < q1-iqr)|(df_bm.totalbsmtsf>q3+iqr)].index)"
   ]
  },
  {
   "cell_type": "markdown",
   "id": "5a8aa8e7",
   "metadata": {},
   "source": [
    "Looking at saleprice values where there is no basement"
   ]
  },
  {
   "cell_type": "code",
   "execution_count": 67,
   "id": "2e4fc2b9",
   "metadata": {},
   "outputs": [
    {
     "data": {
      "text/plain": [
       "{'whiskers': [<matplotlib.lines.Line2D at 0x29964aab490>,\n",
       "  <matplotlib.lines.Line2D at 0x29964aab6d0>],\n",
       " 'caps': [<matplotlib.lines.Line2D at 0x29964aaba90>,\n",
       "  <matplotlib.lines.Line2D at 0x29964aabe20>],\n",
       " 'boxes': [<matplotlib.lines.Line2D at 0x29964aab100>],\n",
       " 'medians': [<matplotlib.lines.Line2D at 0x29964ab41f0>],\n",
       " 'fliers': [<matplotlib.lines.Line2D at 0x29964ab4580>],\n",
       " 'means': []}"
      ]
     },
     "execution_count": 67,
     "metadata": {},
     "output_type": "execute_result"
    },
    {
     "data": {
      "image/png": "[encoded data removed]",
      "text/plain": [
       "<Figure size 432x288 with 1 Axes>"
      ]
     },
     "metadata": {
      "needs_background": "light"
     },
     "output_type": "display_data"
    }
   ],
   "source": [
    "bm0 = df[df.totalbsmtsf==0]\n",
    "plt.boxplot(bm0.log_saleprice)"
   ]
  },
  {
   "cell_type": "code",
   "execution_count": 68,
   "id": "b637c234",
   "metadata": {},
   "outputs": [],
   "source": [
    "bm_stats = bm0.log_saleprice.describe()\n",
    "q1 = bm_stats['25%']\n",
    "q3 = bm_stats['75%']\n",
    "iqr = 1.5 * (q3 - q1)\n",
    "outliers = outliers + list(bm0[(bm0.log_saleprice < q1 - iqr)|(bm0.log_saleprice>q3+iqr)].index)"
   ]
  },
  {
   "cell_type": "markdown",
   "id": "e301fd22",
   "metadata": {},
   "source": [
    "### firstflrsf"
   ]
  },
  {
   "cell_type": "code",
   "execution_count": 69,
   "id": "317fe455",
   "metadata": {},
   "outputs": [
    {
     "data": {
      "text/plain": [
       "<matplotlib.collections.PathCollection at 0x29964b09c40>"
      ]
     },
     "execution_count": 69,
     "metadata": {},
     "output_type": "execute_result"
    },
    {
     "data": {
      "image/png": "[encoded data removed]",
      "text/plain": [
       "<Figure size 432x288 with 1 Axes>"
      ]
     },
     "metadata": {
      "needs_background": "light"
     },
     "output_type": "display_data"
    }
   ],
   "source": [
    "plt.scatter(df.firstflrsf,df.log_saleprice)"
   ]
  },
  {
   "cell_type": "markdown",
   "id": "2fe006f2",
   "metadata": {},
   "source": [
    "There is definitely an outlier where the first floor square footage is greater than 4000"
   ]
  },
  {
   "cell_type": "code",
   "execution_count": 70,
   "id": "c6bae60a",
   "metadata": {},
   "outputs": [],
   "source": [
    "outliers = outliers + list(df[df.firstflrsf>4000].index)"
   ]
  },
  {
   "cell_type": "code",
   "execution_count": 71,
   "id": "565541a6",
   "metadata": {},
   "outputs": [],
   "source": [
    "ff = df[df.firstflrsf<4000]"
   ]
  },
  {
   "cell_type": "code",
   "execution_count": 72,
   "id": "dd84cc51",
   "metadata": {},
   "outputs": [
    {
     "data": {
      "text/plain": [
       "(array([  1.,   1.,   1.,   1.,  14.,  10.,  27.,  29.,  58., 114., 159.,\n",
       "        158., 157., 154., 126., 109., 114., 108.,  60.,  26.,  20.,   6.,\n",
       "          3.,   1.,   2.]),\n",
       " array([5.81114099, 5.90188007, 5.99261916, 6.08335824, 6.17409732,\n",
       "        6.2648364 , 6.35557548, 6.44631456, 6.53705364, 6.62779273,\n",
       "        6.71853181, 6.80927089, 6.90000997, 6.99074905, 7.08148813,\n",
       "        7.17222721, 7.2629663 , 7.35370538, 7.44444446, 7.53518354,\n",
       "        7.62592262, 7.7166617 , 7.80740079, 7.89813987, 7.98887895,\n",
       "        8.07961803]),\n",
       " <BarContainer object of 25 artists>)"
      ]
     },
     "execution_count": 72,
     "metadata": {},
     "output_type": "execute_result"
    },
    {
     "data": {
      "image/png": "[encoded data removed]",
      "text/plain": [
       "<Figure size 432x288 with 1 Axes>"
      ]
     },
     "metadata": {
      "needs_background": "light"
     },
     "output_type": "display_data"
    }
   ],
   "source": [
    "plt.hist(np.log(ff.firstflrsf),bins=25)"
   ]
  },
  {
   "cell_type": "code",
   "execution_count": 73,
   "id": "8f80cef4",
   "metadata": {},
   "outputs": [],
   "source": [
    "ff['log_fff'] = np.log(ff.firstflrsf)"
   ]
  },
  {
   "cell_type": "code",
   "execution_count": 74,
   "id": "89ac3ad4",
   "metadata": {},
   "outputs": [],
   "source": [
    "ff_stats = ff.log_fff.describe()"
   ]
  },
  {
   "cell_type": "code",
   "execution_count": 75,
   "id": "c63a70cc",
   "metadata": {},
   "outputs": [],
   "source": [
    "q1 = ff_stats['25%']\n",
    "q3 = ff_stats['75%']\n",
    "iqr15 = 1.5*(q3-q1)\n",
    "outliers = outliers + list(ff[(ff.log_fff < q1 - iqr15)|(ff.log_fff > q3 + iqr15)].index)"
   ]
  },
  {
   "cell_type": "markdown",
   "id": "35511c7a",
   "metadata": {},
   "source": [
    "### secondflrsf"
   ]
  },
  {
   "cell_type": "code",
   "execution_count": 76,
   "id": "c529961c",
   "metadata": {},
   "outputs": [
    {
     "data": {
      "text/plain": [
       "<matplotlib.collections.PathCollection at 0x29964a5dd30>"
      ]
     },
     "execution_count": 76,
     "metadata": {},
     "output_type": "execute_result"
    },
    {
     "data": {
      "image/png": "[encoded data removed]",
      "text/plain": [
       "<Figure size 432x288 with 1 Axes>"
      ]
     },
     "metadata": {
      "needs_background": "light"
     },
     "output_type": "display_data"
    }
   ],
   "source": [
    "plt.scatter(df.secondflrsf,df.log_saleprice)"
   ]
  },
  {
   "cell_type": "markdown",
   "id": "c3ca89de",
   "metadata": {},
   "source": [
    "Looking at when the second floor square footage is greater than 0"
   ]
  },
  {
   "cell_type": "code",
   "execution_count": 77,
   "id": "a4cfd2ec",
   "metadata": {},
   "outputs": [
    {
     "data": {
      "text/plain": [
       "[<matplotlib.lines.Line2D at 0x29965c1f370>]"
      ]
     },
     "execution_count": 77,
     "metadata": {},
     "output_type": "execute_result"
    },
    {
     "data": {
      "image/png": "[encoded data removed]",
      "text/plain": [
       "<Figure size 432x288 with 1 Axes>"
      ]
     },
     "metadata": {
      "needs_background": "light"
     },
     "output_type": "display_data"
    }
   ],
   "source": [
    "sf = df[df.secondflrsf>0]\n",
    "plt.scatter(sf.secondflrsf, sf.log_saleprice)\n",
    "m, b = np.polyfit(sf.secondflrsf, sf.log_saleprice, 1)\n",
    "plt.plot(sf.secondflrsf, m*sf.secondflrsf+b,color=\"red\")"
   ]
  },
  {
   "cell_type": "markdown",
   "id": "efaa41a8",
   "metadata": {},
   "source": [
    "Removing the outliers in the bottom left did not effect the least squares line so they were not removed. "
   ]
  },
  {
   "cell_type": "code",
   "execution_count": 78,
   "id": "68362339",
   "metadata": {},
   "outputs": [
    {
     "data": {
      "text/plain": [
       "(array([ 2.,  9.,  8., 16., 25., 64., 55., 95., 87., 83., 44., 34., 30.,\n",
       "        25., 18., 17.,  6.,  2.,  6.,  1.,  0.,  2.,  1.,  0.,  1.]),\n",
       " array([ 110. ,  188.2,  266.4,  344.6,  422.8,  501. ,  579.2,  657.4,\n",
       "         735.6,  813.8,  892. ,  970.2, 1048.4, 1126.6, 1204.8, 1283. ,\n",
       "        1361.2, 1439.4, 1517.6, 1595.8, 1674. , 1752.2, 1830.4, 1908.6,\n",
       "        1986.8, 2065. ]),\n",
       " <BarContainer object of 25 artists>)"
      ]
     },
     "execution_count": 78,
     "metadata": {},
     "output_type": "execute_result"
    },
    {
     "data": {
      "image/png": "[encoded data removed]",
      "text/plain": [
       "<Figure size 432x288 with 1 Axes>"
      ]
     },
     "metadata": {
      "needs_background": "light"
     },
     "output_type": "display_data"
    }
   ],
   "source": [
    "plt.hist(sf.secondflrsf, bins=25)"
   ]
  },
  {
   "cell_type": "code",
   "execution_count": 79,
   "id": "9775208c",
   "metadata": {},
   "outputs": [],
   "source": [
    "sf_stats = sf.secondflrsf.describe()"
   ]
  },
  {
   "cell_type": "code",
   "execution_count": 80,
   "id": "50102798",
   "metadata": {},
   "outputs": [],
   "source": [
    "q1 = sf_stats['25%']\n",
    "q3 = sf_stats['75%']\n",
    "iqr2 = 2*(q3-q1)\n",
    "outliers = outliers + list(sf[(sf.secondflrsf<q1-iqr2)|(sf.secondflrsf>q3+iqr2)].index)"
   ]
  },
  {
   "cell_type": "markdown",
   "id": "1166b214",
   "metadata": {},
   "source": [
    "### Bathrooms"
   ]
  },
  {
   "cell_type": "markdown",
   "id": "b37d4fdb",
   "metadata": {},
   "source": [
    "Going to combine the full and half bath values into one bathroom column"
   ]
  },
  {
   "cell_type": "code",
   "execution_count": 81,
   "id": "11392a6f",
   "metadata": {},
   "outputs": [],
   "source": [
    "df['tot_bath_grd'] = df['fullbath']+df['halfbath']/2\n",
    "df['tot_bsmt_bath'] = df['bsmtfullbath'] + df['bsmthalfbath']/2\n",
    "df['total_baths'] = df['tot_bath_grd'] + df['tot_bsmt_bath']"
   ]
  },
  {
   "cell_type": "code",
   "execution_count": 82,
   "id": "7ac3cfa2",
   "metadata": {},
   "outputs": [
    {
     "data": {
      "text/plain": [
       "{'whiskers': [<matplotlib.lines.Line2D at 0x29965d19160>,\n",
       "  <matplotlib.lines.Line2D at 0x29965d194f0>],\n",
       " 'caps': [<matplotlib.lines.Line2D at 0x29965d19880>,\n",
       "  <matplotlib.lines.Line2D at 0x29965d19c10>],\n",
       " 'boxes': [<matplotlib.lines.Line2D at 0x29965cfec40>],\n",
       " 'medians': [<matplotlib.lines.Line2D at 0x29965d19fa0>],\n",
       " 'fliers': [<matplotlib.lines.Line2D at 0x29965d24370>],\n",
       " 'means': []}"
      ]
     },
     "execution_count": 82,
     "metadata": {},
     "output_type": "execute_result"
    },
    {
     "data": {
      "image/png": "[encoded data removed]",
      "text/plain": [
       "<Figure size 432x288 with 1 Axes>"
      ]
     },
     "metadata": {
      "needs_background": "light"
     },
     "output_type": "display_data"
    }
   ],
   "source": [
    "sf=df[df.secondflrsf==0]\n",
    "plt.boxplot(df.log_saleprice)"
   ]
  },
  {
   "cell_type": "markdown",
   "id": "5b8c7650",
   "metadata": {},
   "source": [
    "there are definite outliers in the boxplot above.  However these outliers should have been taken care of when examining first floor square footage."
   ]
  },
  {
   "cell_type": "code",
   "execution_count": 83,
   "id": "649f504a",
   "metadata": {},
   "outputs": [
    {
     "data": {
      "text/plain": [
       "(array([228., 129., 456., 295., 186., 144.,  13.,   7.,   1.,   1.]),\n",
       " array([1. , 1.5, 2. , 2.5, 3. , 3.5, 4. , 4.5, 5. , 5.5, 6. ]),\n",
       " <BarContainer object of 10 artists>)"
      ]
     },
     "execution_count": 83,
     "metadata": {},
     "output_type": "execute_result"
    },
    {
     "data": {
      "image/png": "[encoded data removed]",
      "text/plain": [
       "<Figure size 432x288 with 1 Axes>"
      ]
     },
     "metadata": {
      "needs_background": "light"
     },
     "output_type": "display_data"
    }
   ],
   "source": [
    "plt.hist(df.total_baths)"
   ]
  },
  {
   "cell_type": "markdown",
   "id": "ef475eff",
   "metadata": {},
   "source": [
    "an outlier may be when the total baths is 6."
   ]
  },
  {
   "cell_type": "code",
   "execution_count": 84,
   "id": "82c090fb",
   "metadata": {},
   "outputs": [],
   "source": [
    "outliers.append((df[df['total_baths']>=6].index)[0])"
   ]
  },
  {
   "cell_type": "markdown",
   "id": "e4865ca8",
   "metadata": {},
   "source": [
    "With outliers with regard to saleprice, I will use the categorical outlier function."
   ]
  },
  {
   "cell_type": "code",
   "execution_count": 85,
   "id": "4653bcb3",
   "metadata": {},
   "outputs": [],
   "source": [
    "outliers = outliers+categorical_outliers('total_baths','log_saleprice')"
   ]
  },
  {
   "cell_type": "markdown",
   "id": "692f9ae6",
   "metadata": {},
   "source": [
    "### bedroomabvgr"
   ]
  },
  {
   "cell_type": "code",
   "execution_count": 86,
   "id": "ffc87532",
   "metadata": {},
   "outputs": [
    {
     "data": {
      "text/plain": [
       "(array([  6.,   0.,   0.,  50.,   0.,   0., 358.,   0.,   0., 804.,   0.,\n",
       "          0., 213.,   0.,   0.,  21.,   0.,   0.,   7.,   0.,   0.,   0.,\n",
       "          0.,   0.,   1.]),\n",
       " array([0.  , 0.32, 0.64, 0.96, 1.28, 1.6 , 1.92, 2.24, 2.56, 2.88, 3.2 ,\n",
       "        3.52, 3.84, 4.16, 4.48, 4.8 , 5.12, 5.44, 5.76, 6.08, 6.4 , 6.72,\n",
       "        7.04, 7.36, 7.68, 8.  ]),\n",
       " <BarContainer object of 25 artists>)"
      ]
     },
     "execution_count": 86,
     "metadata": {},
     "output_type": "execute_result"
    },
    {
     "data": {
      "image/png": "[encoded data removed]",
      "text/plain": [
       "<Figure size 432x288 with 1 Axes>"
      ]
     },
     "metadata": {
      "needs_background": "light"
     },
     "output_type": "display_data"
    }
   ],
   "source": [
    "plt.hist(df.bedroomabvgr,bins=25)"
   ]
  },
  {
   "cell_type": "code",
   "execution_count": 87,
   "id": "0ee0cec6",
   "metadata": {},
   "outputs": [
    {
     "data": {
      "text/plain": [
       "count    1460.000000\n",
       "mean        2.866438\n",
       "std         0.815778\n",
       "min         0.000000\n",
       "25%         2.000000\n",
       "50%         3.000000\n",
       "75%         3.000000\n",
       "max         8.000000\n",
       "Name: bedroomabvgr, dtype: float64"
      ]
     },
     "execution_count": 87,
     "metadata": {},
     "output_type": "execute_result"
    }
   ],
   "source": [
    "df.bedroomabvgr.describe()"
   ]
  },
  {
   "cell_type": "code",
   "execution_count": 88,
   "id": "26774301",
   "metadata": {},
   "outputs": [
    {
     "data": {
      "text/plain": [
       "<matplotlib.collections.PathCollection at 0x29965e8aa30>"
      ]
     },
     "execution_count": 88,
     "metadata": {},
     "output_type": "execute_result"
    },
    {
     "data": {
      "image/png": "[encoded data removed]",
      "text/plain": [
       "<Figure size 432x288 with 1 Axes>"
      ]
     },
     "metadata": {
      "needs_background": "light"
     },
     "output_type": "display_data"
    }
   ],
   "source": [
    "plt.scatter(df.bedroomabvgr,df.log_saleprice)"
   ]
  },
  {
   "cell_type": "markdown",
   "id": "a73e0fa7",
   "metadata": {},
   "source": [
    "The value where there are 8 bedrooms above ground may be an outlier by looking at the histogram.  Since bedroom count is ordinal, I'll use the categorical function to find outliers with log_saleprice"
   ]
  },
  {
   "cell_type": "code",
   "execution_count": 89,
   "id": "0f000e5f",
   "metadata": {},
   "outputs": [],
   "source": [
    "outliers.append((df[df.bedroomabvgr==8].index)[0])"
   ]
  },
  {
   "cell_type": "code",
   "execution_count": 90,
   "id": "e21b6b3a",
   "metadata": {},
   "outputs": [],
   "source": [
    "outliers = outliers+categorical_outliers('bedroomabvgr','log_saleprice')"
   ]
  },
  {
   "cell_type": "markdown",
   "id": "2244f1ea",
   "metadata": {},
   "source": [
    "### kitchenabvgr"
   ]
  },
  {
   "cell_type": "code",
   "execution_count": 91,
   "id": "a20c6470",
   "metadata": {},
   "outputs": [
    {
     "data": {
      "text/plain": [
       "(array([1.000e+00, 0.000e+00, 0.000e+00, 1.392e+03, 0.000e+00, 0.000e+00,\n",
       "        6.500e+01, 0.000e+00, 0.000e+00, 2.000e+00]),\n",
       " array([0. , 0.3, 0.6, 0.9, 1.2, 1.5, 1.8, 2.1, 2.4, 2.7, 3. ]),\n",
       " <BarContainer object of 10 artists>)"
      ]
     },
     "execution_count": 91,
     "metadata": {},
     "output_type": "execute_result"
    },
    {
     "data": {
      "image/png": "[encoded data removed]",
      "text/plain": [
       "<Figure size 432x288 with 1 Axes>"
      ]
     },
     "metadata": {
      "needs_background": "light"
     },
     "output_type": "display_data"
    }
   ],
   "source": [
    "plt.hist(df.kitchenabvgr)"
   ]
  },
  {
   "cell_type": "code",
   "execution_count": 92,
   "id": "b72887b5",
   "metadata": {},
   "outputs": [
    {
     "data": {
      "text/plain": [
       "1    1392\n",
       "2      65\n",
       "3       2\n",
       "0       1\n",
       "Name: kitchenabvgr, dtype: int64"
      ]
     },
     "execution_count": 92,
     "metadata": {},
     "output_type": "execute_result"
    }
   ],
   "source": [
    "df.kitchenabvgr.value_counts()"
   ]
  },
  {
   "cell_type": "markdown",
   "id": "73c42782",
   "metadata": {},
   "source": [
    "Three kitchens is an outlier"
   ]
  },
  {
   "cell_type": "code",
   "execution_count": 93,
   "id": "1ef1d6f7",
   "metadata": {},
   "outputs": [],
   "source": [
    "outliers = outliers + list(df[df.kitchenabvgr==3].index)"
   ]
  },
  {
   "cell_type": "code",
   "execution_count": 94,
   "id": "12de641b",
   "metadata": {},
   "outputs": [],
   "source": [
    "outliers = outliers+categorical_outliers('kitchenabvgr','log_saleprice')"
   ]
  },
  {
   "cell_type": "markdown",
   "id": "012b47d9",
   "metadata": {},
   "source": [
    "### fireplaces"
   ]
  },
  {
   "cell_type": "code",
   "execution_count": 95,
   "id": "a0d42fc8",
   "metadata": {},
   "outputs": [
    {
     "data": {
      "text/plain": [
       "(array([690.,   0.,   0., 650.,   0.,   0., 115.,   0.,   0.,   5.]),\n",
       " array([0. , 0.3, 0.6, 0.9, 1.2, 1.5, 1.8, 2.1, 2.4, 2.7, 3. ]),\n",
       " <BarContainer object of 10 artists>)"
      ]
     },
     "execution_count": 95,
     "metadata": {},
     "output_type": "execute_result"
    },
    {
     "data": {
      "image/png": "[encoded data removed]",
      "text/plain": [
       "<Figure size 432x288 with 1 Axes>"
      ]
     },
     "metadata": {
      "needs_background": "light"
     },
     "output_type": "display_data"
    }
   ],
   "source": [
    "plt.hist(df.fireplaces)"
   ]
  },
  {
   "cell_type": "code",
   "execution_count": 96,
   "id": "072d2194",
   "metadata": {},
   "outputs": [
    {
     "data": {
      "text/plain": [
       "count    1460.000000\n",
       "mean        0.613014\n",
       "std         0.644666\n",
       "min         0.000000\n",
       "25%         0.000000\n",
       "50%         1.000000\n",
       "75%         1.000000\n",
       "max         3.000000\n",
       "Name: fireplaces, dtype: float64"
      ]
     },
     "execution_count": 96,
     "metadata": {},
     "output_type": "execute_result"
    }
   ],
   "source": [
    "df.fireplaces.describe()"
   ]
  },
  {
   "cell_type": "code",
   "execution_count": 97,
   "id": "35cc61d1",
   "metadata": {},
   "outputs": [
    {
     "data": {
      "text/plain": [
       "{'whiskers': [<matplotlib.lines.Line2D at 0x29967280a00>,\n",
       "  <matplotlib.lines.Line2D at 0x29967280d90>],\n",
       " 'caps': [<matplotlib.lines.Line2D at 0x2996728b160>,\n",
       "  <matplotlib.lines.Line2D at 0x2996728b4f0>],\n",
       " 'boxes': [<matplotlib.lines.Line2D at 0x29967280670>],\n",
       " 'medians': [<matplotlib.lines.Line2D at 0x2996728b880>],\n",
       " 'fliers': [<matplotlib.lines.Line2D at 0x2996728bc10>],\n",
       " 'means': []}"
      ]
     },
     "execution_count": 97,
     "metadata": {},
     "output_type": "execute_result"
    },
    {
     "data": {
      "image/png": "[encoded data removed]",
      "text/plain": [
       "<Figure size 432x288 with 1 Axes>"
      ]
     },
     "metadata": {
      "needs_background": "light"
     },
     "output_type": "display_data"
    }
   ],
   "source": [
    "plt.boxplot(df.fireplaces)"
   ]
  },
  {
   "cell_type": "code",
   "execution_count": 98,
   "id": "7b1fb89b",
   "metadata": {},
   "outputs": [],
   "source": [
    "# 3 fireplaces is an outlier\n",
    "outliers = outliers + list(df[df.fireplaces>=3].index)"
   ]
  },
  {
   "cell_type": "code",
   "execution_count": 99,
   "id": "9e22117c",
   "metadata": {},
   "outputs": [
    {
     "data": {
      "text/plain": [
       "0    690\n",
       "1    650\n",
       "2    115\n",
       "3      5\n",
       "Name: fireplaces, dtype: int64"
      ]
     },
     "execution_count": 99,
     "metadata": {},
     "output_type": "execute_result"
    }
   ],
   "source": [
    "df.fireplaces.value_counts()"
   ]
  },
  {
   "cell_type": "code",
   "execution_count": 100,
   "id": "153ef71d",
   "metadata": {},
   "outputs": [],
   "source": [
    "outliers = outliers + categorical_outliers('fireplaces','log_saleprice')"
   ]
  },
  {
   "cell_type": "markdown",
   "id": "33d1f468",
   "metadata": {},
   "source": [
    "### Garage information"
   ]
  },
  {
   "cell_type": "code",
   "execution_count": 101,
   "id": "ee2b8990",
   "metadata": {},
   "outputs": [],
   "source": [
    "# garageyrblt, garagecars, garagearea  "
   ]
  },
  {
   "cell_type": "code",
   "execution_count": 102,
   "id": "40e1ff53",
   "metadata": {},
   "outputs": [
    {
     "data": {
      "text/plain": [
       "<matplotlib.collections.PathCollection at 0x299672d29a0>"
      ]
     },
     "execution_count": 102,
     "metadata": {},
     "output_type": "execute_result"
    },
    {
     "data": {
      "image/png": "[encoded data removed]",
      "text/plain": [
       "<Figure size 432x288 with 1 Axes>"
      ]
     },
     "metadata": {
      "needs_background": "light"
     },
     "output_type": "display_data"
    }
   ],
   "source": [
    "plt.scatter(df.garageyrblt,df.log_saleprice)"
   ]
  },
  {
   "cell_type": "markdown",
   "id": "68a92d29",
   "metadata": {},
   "source": [
    "There doesn't appear to be much of a correlation between yearbuilt and saleprice"
   ]
  },
  {
   "cell_type": "code",
   "execution_count": 103,
   "id": "4c78ae5d",
   "metadata": {},
   "outputs": [
    {
     "data": {
      "text/plain": [
       "{'whiskers': [<matplotlib.lines.Line2D at 0x299673576a0>,\n",
       "  <matplotlib.lines.Line2D at 0x29967357a30>],\n",
       " 'caps': [<matplotlib.lines.Line2D at 0x29967357dc0>,\n",
       "  <matplotlib.lines.Line2D at 0x29967363190>],\n",
       " 'boxes': [<matplotlib.lines.Line2D at 0x29967357310>],\n",
       " 'medians': [<matplotlib.lines.Line2D at 0x29967363520>],\n",
       " 'fliers': [<matplotlib.lines.Line2D at 0x299673638b0>],\n",
       " 'means': []}"
      ]
     },
     "execution_count": 103,
     "metadata": {},
     "output_type": "execute_result"
    },
    {
     "data": {
      "image/png": "[encoded data removed]",
      "text/plain": [
       "<Figure size 432x288 with 1 Axes>"
      ]
     },
     "metadata": {
      "needs_background": "light"
     },
     "output_type": "display_data"
    }
   ],
   "source": [
    "plt.boxplot(df.garagecars)"
   ]
  },
  {
   "cell_type": "markdown",
   "id": "27370eb5",
   "metadata": {},
   "source": [
    "There does appear to be an outlier with 4 cars"
   ]
  },
  {
   "cell_type": "code",
   "execution_count": 104,
   "id": "280f09f8",
   "metadata": {},
   "outputs": [
    {
     "data": {
      "text/plain": [
       "2    824\n",
       "1    369\n",
       "3    181\n",
       "0     81\n",
       "4      5\n",
       "Name: garagecars, dtype: int64"
      ]
     },
     "execution_count": 104,
     "metadata": {},
     "output_type": "execute_result"
    }
   ],
   "source": [
    "df.garagecars.value_counts()"
   ]
  },
  {
   "cell_type": "code",
   "execution_count": 105,
   "id": "e8541b09",
   "metadata": {},
   "outputs": [
    {
     "data": {
      "text/plain": [
       "(array([ 81.,   0., 369.,   0.,   0., 824.,   0., 181.,   0.,   5.]),\n",
       " array([0. , 0.4, 0.8, 1.2, 1.6, 2. , 2.4, 2.8, 3.2, 3.6, 4. ]),\n",
       " <BarContainer object of 10 artists>)"
      ]
     },
     "execution_count": 105,
     "metadata": {},
     "output_type": "execute_result"
    },
    {
     "data": {
      "image/png": "[encoded data removed]",
      "text/plain": [
       "<Figure size 432x288 with 1 Axes>"
      ]
     },
     "metadata": {
      "needs_background": "light"
     },
     "output_type": "display_data"
    }
   ],
   "source": [
    "plt.hist(df.garagecars)"
   ]
  },
  {
   "cell_type": "code",
   "execution_count": 106,
   "id": "e287aa08",
   "metadata": {},
   "outputs": [
    {
     "data": {
      "text/plain": [
       "count    1460.000000\n",
       "mean        1.767123\n",
       "std         0.747315\n",
       "min         0.000000\n",
       "25%         1.000000\n",
       "50%         2.000000\n",
       "75%         2.000000\n",
       "max         4.000000\n",
       "Name: garagecars, dtype: float64"
      ]
     },
     "execution_count": 106,
     "metadata": {},
     "output_type": "execute_result"
    }
   ],
   "source": [
    "df.garagecars.describe()"
   ]
  },
  {
   "cell_type": "code",
   "execution_count": 107,
   "id": "befadd27",
   "metadata": {},
   "outputs": [],
   "source": [
    "outliers = outliers + list(df[df.garagecars>=4].index)"
   ]
  },
  {
   "cell_type": "code",
   "execution_count": 108,
   "id": "434d0394",
   "metadata": {},
   "outputs": [],
   "source": [
    "# is this a good idea? those with low saleprices will repeatedly be added"
   ]
  },
  {
   "cell_type": "code",
   "execution_count": 109,
   "id": "118b05b2",
   "metadata": {},
   "outputs": [],
   "source": [
    "outliers = outliers + categorical_outliers('garagecars','log_saleprice')"
   ]
  },
  {
   "cell_type": "code",
   "execution_count": 110,
   "id": "dc60ae0e",
   "metadata": {},
   "outputs": [
    {
     "data": {
      "text/plain": [
       "(array([ 16.,  74., 151., 109., 290., 411., 167., 134.,  21.,   6.]),\n",
       " array([5.07517382, 5.2933567 , 5.51153959, 5.72972248, 5.94790537,\n",
       "        6.16608826, 6.38427115, 6.60245404, 6.82063693, 7.03881982,\n",
       "        7.25700271]),\n",
       " <BarContainer object of 10 artists>)"
      ]
     },
     "execution_count": 110,
     "metadata": {},
     "output_type": "execute_result"
    },
    {
     "data": {
      "image/png": "[encoded data removed]",
      "text/plain": [
       "<Figure size 432x288 with 1 Axes>"
      ]
     },
     "metadata": {
      "needs_background": "light"
     },
     "output_type": "display_data"
    }
   ],
   "source": [
    "has_garage = df[df.garagearea>0]\n",
    "plt.hist(np.log(has_garage.garagearea))"
   ]
  },
  {
   "cell_type": "code",
   "execution_count": 111,
   "id": "d93b4eba",
   "metadata": {},
   "outputs": [],
   "source": [
    "ga_stats = has_garage.garagearea.describe()"
   ]
  },
  {
   "cell_type": "code",
   "execution_count": 112,
   "id": "9e2a562e",
   "metadata": {},
   "outputs": [],
   "source": [
    "q1 = ga_stats['25%']\n",
    "q3 = ga_stats['75%']\n",
    "iqr = 2.5*(q3-q1)\n",
    "outliers = outliers + list(has_garage[(has_garage.garagearea<q1-iqr)|(has_garage.garagearea>q3+iqr)].index)"
   ]
  },
  {
   "cell_type": "code",
   "execution_count": 113,
   "id": "1d1e65b7",
   "metadata": {},
   "outputs": [
    {
     "data": {
      "text/plain": [
       "<matplotlib.collections.PathCollection at 0x299674c3a00>"
      ]
     },
     "execution_count": 113,
     "metadata": {},
     "output_type": "execute_result"
    },
    {
     "data": {
      "image/png": "[encoded data removed]",
      "text/plain": [
       "<Figure size 432x288 with 1 Axes>"
      ]
     },
     "metadata": {
      "needs_background": "light"
     },
     "output_type": "display_data"
    }
   ],
   "source": [
    "plt.scatter(df.garagearea,df.log_saleprice)"
   ]
  },
  {
   "cell_type": "markdown",
   "id": "387f1601",
   "metadata": {},
   "source": [
    "there are outliers where the garage area is greater than 1200.  However these would have been caught using iqr"
   ]
  },
  {
   "cell_type": "markdown",
   "id": "d281ab85",
   "metadata": {},
   "source": [
    "#### wooddecksf"
   ]
  },
  {
   "cell_type": "code",
   "execution_count": 114,
   "id": "c7be9ab7",
   "metadata": {},
   "outputs": [],
   "source": [
    "wood_deck = df[df.wooddecksf>0]"
   ]
  },
  {
   "cell_type": "code",
   "execution_count": 115,
   "id": "73781c32",
   "metadata": {},
   "outputs": [
    {
     "data": {
      "text/plain": [
       "(array([ 80., 290., 192.,  72.,  37.,  16.,   6.,   3.,   2.,   1.]),\n",
       " array([ 12. ,  96.5, 181. , 265.5, 350. , 434.5, 519. , 603.5, 688. ,\n",
       "        772.5, 857. ]),\n",
       " <BarContainer object of 10 artists>)"
      ]
     },
     "execution_count": 115,
     "metadata": {},
     "output_type": "execute_result"
    },
    {
     "data": {
      "image/png": "[encoded data removed]",
      "text/plain": [
       "<Figure size 432x288 with 1 Axes>"
      ]
     },
     "metadata": {
      "needs_background": "light"
     },
     "output_type": "display_data"
    }
   ],
   "source": [
    "plt.hist(wood_deck.wooddecksf)"
   ]
  },
  {
   "cell_type": "code",
   "execution_count": 116,
   "id": "d1c6b88c",
   "metadata": {},
   "outputs": [],
   "source": [
    "wd_stats = wood_deck.wooddecksf.describe()"
   ]
  },
  {
   "cell_type": "code",
   "execution_count": 117,
   "id": "60bcad37",
   "metadata": {},
   "outputs": [],
   "source": [
    "q1 = wd_stats['25%']\n",
    "q3 = wd_stats['75%']\n",
    "iqr = 3*(q3-q1)\n",
    "outliers = outliers + list(wood_deck[(wood_deck.wooddecksf<q1-iqr)|(wood_deck.wooddecksf>q3+iqr)].index)"
   ]
  },
  {
   "cell_type": "code",
   "execution_count": 118,
   "id": "83d31760",
   "metadata": {},
   "outputs": [
    {
     "data": {
      "text/plain": [
       "<matplotlib.collections.PathCollection at 0x29967404be0>"
      ]
     },
     "execution_count": 118,
     "metadata": {},
     "output_type": "execute_result"
    },
    {
     "data": {
      "image/png": "[encoded data removed]",
      "text/plain": [
       "<Figure size 432x288 with 1 Axes>"
      ]
     },
     "metadata": {
      "needs_background": "light"
     },
     "output_type": "display_data"
    }
   ],
   "source": [
    "plt.scatter(wood_deck.wooddecksf,wood_deck.log_saleprice)"
   ]
  },
  {
   "cell_type": "markdown",
   "id": "6e40b328",
   "metadata": {},
   "source": [
    "not much correlation"
   ]
  },
  {
   "cell_type": "markdown",
   "id": "4d5f8301",
   "metadata": {},
   "source": [
    "### openporchsf"
   ]
  },
  {
   "cell_type": "code",
   "execution_count": 119,
   "id": "7d35a6b7",
   "metadata": {},
   "outputs": [
    {
     "data": {
      "text/plain": [
       "(array([371., 235., 113.,  42.,  26.,  10.,   2.,   2.,   0.,   3.]),\n",
       " array([  4. ,  58.3, 112.6, 166.9, 221.2, 275.5, 329.8, 384.1, 438.4,\n",
       "        492.7, 547. ]),\n",
       " <BarContainer object of 10 artists>)"
      ]
     },
     "execution_count": 119,
     "metadata": {},
     "output_type": "execute_result"
    },
    {
     "data": {
      "image/png": "[encoded data removed]",
      "text/plain": [
       "<Figure size 432x288 with 1 Axes>"
      ]
     },
     "metadata": {
      "needs_background": "light"
     },
     "output_type": "display_data"
    }
   ],
   "source": [
    "porch=df[df.openporchsf>0]\n",
    "plt.hist(porch.openporchsf)"
   ]
  },
  {
   "cell_type": "markdown",
   "id": "667db71f",
   "metadata": {},
   "source": [
    "definite outliers where the square footage is greater than 500"
   ]
  },
  {
   "cell_type": "code",
   "execution_count": 120,
   "id": "75b85fbb",
   "metadata": {},
   "outputs": [],
   "source": [
    "outliers = outliers + list(porch[porch.openporchsf>500].index)"
   ]
  },
  {
   "cell_type": "code",
   "execution_count": 121,
   "id": "9f23c644",
   "metadata": {},
   "outputs": [
    {
     "data": {
      "text/plain": [
       "<matplotlib.collections.PathCollection at 0x29968657940>"
      ]
     },
     "execution_count": 121,
     "metadata": {},
     "output_type": "execute_result"
    },
    {
     "data": {
      "image/png": "[encoded data removed]",
      "text/plain": [
       "<Figure size 432x288 with 1 Axes>"
      ]
     },
     "metadata": {
      "needs_background": "light"
     },
     "output_type": "display_data"
    }
   ],
   "source": [
    "plt.scatter(porch.openporchsf,porch.log_saleprice)"
   ]
  },
  {
   "cell_type": "markdown",
   "id": "3726137b",
   "metadata": {},
   "source": [
    "Not very correlated.  The outliers with a porch square footage was greater than 500 were already caught.  Other outliers are where the log saleprice is less than 11."
   ]
  },
  {
   "cell_type": "code",
   "execution_count": 122,
   "id": "f38054b6",
   "metadata": {},
   "outputs": [],
   "source": [
    "outliers = outliers + list(porch[(porch.log_saleprice < 11)&(porch.openporchsf<100)].index)"
   ]
  },
  {
   "cell_type": "markdown",
   "id": "8e8a1845",
   "metadata": {},
   "source": [
    "### threessnporch"
   ]
  },
  {
   "cell_type": "code",
   "execution_count": 123,
   "id": "8fc6dad3",
   "metadata": {},
   "outputs": [],
   "source": [
    "porch = df[df.threessnporch>0]"
   ]
  },
  {
   "cell_type": "code",
   "execution_count": 124,
   "id": "9c5d0f89",
   "metadata": {},
   "outputs": [
    {
     "data": {
      "text/plain": [
       "(array([1., 1., 9., 6., 2., 2., 1., 1., 0., 1.]),\n",
       " array([ 23. ,  71.5, 120. , 168.5, 217. , 265.5, 314. , 362.5, 411. ,\n",
       "        459.5, 508. ]),\n",
       " <BarContainer object of 10 artists>)"
      ]
     },
     "execution_count": 124,
     "metadata": {},
     "output_type": "execute_result"
    },
    {
     "data": {
      "image/png": "[encoded data removed]",
      "text/plain": [
       "<Figure size 432x288 with 1 Axes>"
      ]
     },
     "metadata": {
      "needs_background": "light"
     },
     "output_type": "display_data"
    }
   ],
   "source": [
    "plt.hist(porch.threessnporch)"
   ]
  },
  {
   "cell_type": "markdown",
   "id": "533f0b1a",
   "metadata": {},
   "source": [
    "as there are very few with a three screen porch, I'm not going to look for outliers"
   ]
  },
  {
   "cell_type": "markdown",
   "id": "724a7efa",
   "metadata": {},
   "source": [
    "### screenporch"
   ]
  },
  {
   "cell_type": "code",
   "execution_count": 125,
   "id": "4af6a064",
   "metadata": {},
   "outputs": [
    {
     "data": {
      "text/plain": [
       "(array([ 5., 18., 29., 30., 15., 11.,  2.,  2.,  2.,  2.]),\n",
       " array([ 40.,  84., 128., 172., 216., 260., 304., 348., 392., 436., 480.]),\n",
       " <BarContainer object of 10 artists>)"
      ]
     },
     "execution_count": 125,
     "metadata": {},
     "output_type": "execute_result"
    },
    {
     "data": {
      "image/png": "[encoded data removed]",
      "text/plain": [
       "<Figure size 432x288 with 1 Axes>"
      ]
     },
     "metadata": {
      "needs_background": "light"
     },
     "output_type": "display_data"
    }
   ],
   "source": [
    "porch = df[df.screenporch>0]\n",
    "plt.hist(porch.screenporch)"
   ]
  },
  {
   "cell_type": "code",
   "execution_count": 126,
   "id": "905ae427",
   "metadata": {},
   "outputs": [],
   "source": [
    "porch_stats = porch.screenporch.describe()\n",
    "q1 = porch_stats['25%']\n",
    "q3 = porch_stats['75%']\n",
    "iqr = 2.5*(q3-q1)\n",
    "outliers = outliers + list(porch[(porch.screenporch<q1-iqr)|(porch.screenporch>q3+iqr)].index)"
   ]
  },
  {
   "cell_type": "code",
   "execution_count": 127,
   "id": "29d3e4fb",
   "metadata": {},
   "outputs": [
    {
     "data": {
      "text/plain": [
       "<matplotlib.collections.PathCollection at 0x299687a7eb0>"
      ]
     },
     "execution_count": 127,
     "metadata": {},
     "output_type": "execute_result"
    },
    {
     "data": {
      "image/png": "[encoded data removed]",
      "text/plain": [
       "<Figure size 432x288 with 1 Axes>"
      ]
     },
     "metadata": {
      "needs_background": "light"
     },
     "output_type": "display_data"
    }
   ],
   "source": [
    "plt.scatter(porch.screenporch, porch.log_saleprice)"
   ]
  },
  {
   "cell_type": "markdown",
   "id": "5a5a7208",
   "metadata": {},
   "source": [
    "not very corrlated"
   ]
  },
  {
   "cell_type": "markdown",
   "id": "34225596",
   "metadata": {},
   "source": [
    "### mosold"
   ]
  },
  {
   "cell_type": "code",
   "execution_count": 128,
   "id": "40e70904",
   "metadata": {},
   "outputs": [
    {
     "data": {
      "text/plain": [
       "<matplotlib.collections.PathCollection at 0x29968811f10>"
      ]
     },
     "execution_count": 128,
     "metadata": {},
     "output_type": "execute_result"
    },
    {
     "data": {
      "image/png": "[encoded data removed]",
      "text/plain": [
       "<Figure size 432x288 with 1 Axes>"
      ]
     },
     "metadata": {
      "needs_background": "light"
     },
     "output_type": "display_data"
    }
   ],
   "source": [
    "plt.scatter(df.mosold,df.log_saleprice)"
   ]
  },
  {
   "cell_type": "markdown",
   "id": "c2ee5353",
   "metadata": {},
   "source": [
    "There doesn't appear to be a correlation between the month sold and the saleprice.  However there are definite outliers in sale price compared to other houses sold that month.  As month sold is categorical, I will add outliers using the categorial function I defined."
   ]
  },
  {
   "cell_type": "code",
   "execution_count": 129,
   "id": "3f0443c2",
   "metadata": {},
   "outputs": [],
   "source": [
    "outliers = outliers + categorical_outliers('mosold','log_saleprice')"
   ]
  },
  {
   "cell_type": "markdown",
   "id": "b8135e51",
   "metadata": {},
   "source": [
    "## Removing of persistant outliers"
   ]
  },
  {
   "cell_type": "code",
   "execution_count": 130,
   "id": "7bb1a9e3",
   "metadata": {},
   "outputs": [
    {
     "name": "stdout",
     "output_type": "stream",
     "text": [
      "[30, 496, 533, 691, 803, 898, 916, 968, 1169, 1182, 691, 769, 798, 803, 1046, 1169, 1182, 533, 691, 898, 1169, 1182, 160, 172, 198, 232, 278, 314, 447, 807, 909, 934, 1107, 1127, 1151, 1173, 1182, 1211, 1298, 1337, 53, 75, 226, 228, 233, 236, 250, 314, 336, 364, 385, 431, 435, 452, 458, 490, 501, 614, 655, 661, 706, 769, 837, 848, 956, 1029, 1038, 1039, 1219, 1291, 1298, 1396, 1449, 30, 496, 533, 691, 803, 898, 916, 968, 1169, 1182, 30, 441, 496, 533, 798, 803, 916, 968, 1244, 1373, 30, 496, 691, 803, 898, 916, 968, 1169, 1182, 30, 496, 533, 691, 803, 898, 916, 968, 1169, 1182, 30, 441, 496, 533, 803, 898, 916, 968, 1046, 30, 496, 691, 803, 898, 916, 968, 1169, 1182, 1142, 496, 533, 691, 898, 916, 968, 1169, 1182, 30, 496, 533, 691, 803, 898, 916, 968, 1169, 1182, 30, 496, 533, 691, 916, 968, 1182, 30, 691, 705, 803, 1046, 1169, 1182, 113, 314, 632, 718, 1148, 1266, 496, 1182, 496, 533, 691, 916, 968, 30, 496, 533, 803, 898, 916, 968, 1169, 1182, 533, 705, 710, 898, 968, 533, 710, 898, 968, 691, 769, 915, 1169, 180, 186, 710, 1046, 1169, 1182, 496, 691, 898, 916, 968, 1182, 691, 898, 1169, 1182, 435, 614, 769, 1039, 1144, 30, 496, 691, 803, 898, 916, 968, 1169, 1182, 30, 179, 496, 710, 798, 968, 1337, 126, 691, 898, 1039, 1143, 1169, 1182, 30, 496, 691, 898, 916, 968, 1169, 1182, 30, 496, 533, 691, 803, 898, 916, 1169, 1182, 441, 691, 769, 803, 874, 898, 1046, 1169, 1182, 691, 803, 898, 1169, 1182, 30, 691, 898, 968, 1169, 1182, 490, 1049, 1169, 1326, 30, 496, 533, 691, 898, 916, 968, 1169, 1182, 30, 496, 533, 916, 968, 179, 411, 441, 691, 898, 915, 1169, 1182, 1244, 1373, 474, 497, 591, 803, 1007, 1061, 1086, 1142, 1279, 1373, 30, 691, 803, 898, 916, 1169, 1182, 691, 898, 916, 1169, 1182, 691, 898, 916, 968, 1169, 1182, 30, 496, 533, 691, 916, 968, 1182, 30, 441, 533, 691, 710, 769, 1169, 1298, 225, 333, 441, 497, 523, 691, 898, 1044, 1182, 1373, 363, 533, 705, 1298, 497, 523, 533, 705, 1024, 1100, 305, 523, 691, 745, 769, 1169, 1182, 1360, 738, 635, 30, 58, 390, 411, 463, 527, 591, 705, 874, 48, 809, 30, 496, 533, 691, 898, 916, 968, 1169, 1182, 167, 310, 605, 642, 1298, 30, 496, 533, 916, 968, 421, 747, 1190, 1340, 1350, 812, 1279, 179, 581, 664, 825, 1061, 1190, 1298, 53, 336, 1068, 1210, 1313, 1459, 496, 583, 1328, 30, 1337, 1328, 1386]\n"
     ]
    }
   ],
   "source": [
    "print(outliers)"
   ]
  },
  {
   "cell_type": "code",
   "execution_count": 131,
   "id": "af638670",
   "metadata": {},
   "outputs": [],
   "source": [
    "outlier_dict = {}\n",
    "for outlier in outliers:\n",
    "    outlier_dict[outlier] = outlier_dict.get(outlier,0) + 1\n"
   ]
  },
  {
   "cell_type": "code",
   "execution_count": 132,
   "id": "df539a3e",
   "metadata": {},
   "outputs": [
    {
     "data": {
      "text/html": [
       "<div>\n",
       "<style scoped>\n",
       "    .dataframe tbody tr th:only-of-type {\n",
       "        vertical-align: middle;\n",
       "    }\n",
       "\n",
       "    .dataframe tbody tr th {\n",
       "        vertical-align: top;\n",
       "    }\n",
       "\n",
       "    .dataframe thead th {\n",
       "        text-align: right;\n",
       "    }\n",
       "</style>\n",
       "<table border=\"1\" class=\"dataframe\">\n",
       "  <thead>\n",
       "    <tr style=\"text-align: right;\">\n",
       "      <th></th>\n",
       "      <th>index</th>\n",
       "      <th>outlier_count</th>\n",
       "    </tr>\n",
       "  </thead>\n",
       "  <tbody>\n",
       "    <tr>\n",
       "      <th>9</th>\n",
       "      <td>1182</td>\n",
       "      <td>33</td>\n",
       "    </tr>\n",
       "    <tr>\n",
       "      <th>3</th>\n",
       "      <td>691</td>\n",
       "      <td>32</td>\n",
       "    </tr>\n",
       "    <tr>\n",
       "      <th>8</th>\n",
       "      <td>1169</td>\n",
       "      <td>30</td>\n",
       "    </tr>\n",
       "    <tr>\n",
       "      <th>5</th>\n",
       "      <td>898</td>\n",
       "      <td>28</td>\n",
       "    </tr>\n",
       "    <tr>\n",
       "      <th>0</th>\n",
       "      <td>30</td>\n",
       "      <td>25</td>\n",
       "    </tr>\n",
       "    <tr>\n",
       "      <th>7</th>\n",
       "      <td>968</td>\n",
       "      <td>25</td>\n",
       "    </tr>\n",
       "    <tr>\n",
       "      <th>1</th>\n",
       "      <td>496</td>\n",
       "      <td>24</td>\n",
       "    </tr>\n",
       "    <tr>\n",
       "      <th>6</th>\n",
       "      <td>916</td>\n",
       "      <td>24</td>\n",
       "    </tr>\n",
       "    <tr>\n",
       "      <th>2</th>\n",
       "      <td>533</td>\n",
       "      <td>22</td>\n",
       "    </tr>\n",
       "    <tr>\n",
       "      <th>4</th>\n",
       "      <td>803</td>\n",
       "      <td>17</td>\n",
       "    </tr>\n",
       "    <tr>\n",
       "      <th>10</th>\n",
       "      <td>769</td>\n",
       "      <td>7</td>\n",
       "    </tr>\n",
       "    <tr>\n",
       "      <th>60</th>\n",
       "      <td>441</td>\n",
       "      <td>6</td>\n",
       "    </tr>\n",
       "    <tr>\n",
       "      <th>28</th>\n",
       "      <td>1298</td>\n",
       "      <td>6</td>\n",
       "    </tr>\n",
       "    <tr>\n",
       "      <th>12</th>\n",
       "      <td>1046</td>\n",
       "      <td>5</td>\n",
       "    </tr>\n",
       "    <tr>\n",
       "      <th>64</th>\n",
       "      <td>705</td>\n",
       "      <td>5</td>\n",
       "    </tr>\n",
       "  </tbody>\n",
       "</table>\n",
       "</div>"
      ],
      "text/plain": [
       "    index  outlier_count\n",
       "9    1182             33\n",
       "3     691             32\n",
       "8    1169             30\n",
       "5     898             28\n",
       "0      30             25\n",
       "7     968             25\n",
       "1     496             24\n",
       "6     916             24\n",
       "2     533             22\n",
       "4     803             17\n",
       "10    769              7\n",
       "60    441              6\n",
       "28   1298              6\n",
       "12   1046              5\n",
       "64    705              5"
      ]
     },
     "execution_count": 132,
     "metadata": {},
     "output_type": "execute_result"
    }
   ],
   "source": [
    "outliers = pd.DataFrame({'index':outlier_dict.keys(),'outlier_count':outlier_dict.values()})\n",
    "outliers.sort_values(by='outlier_count',ascending=False).head(15)"
   ]
  },
  {
   "cell_type": "markdown",
   "id": "a31eb6c3",
   "metadata": {},
   "source": [
    "As there are 80 features, any obeservation that is considered an outlier for 20 or more of the features should be dropped.\n",
    "\n",
    "In a seperate notebook I will explore theses outliers. \n",
    "For my outlier search I may want to make another dict (or linked list) of the outliers and what categories they are outliers in."
   ]
  },
  {
   "cell_type": "code",
   "execution_count": 133,
   "id": "205e7a10",
   "metadata": {},
   "outputs": [],
   "source": [
    "outliers_list = list(outliers[outliers.outlier_count >= 20]['index'])"
   ]
  },
  {
   "cell_type": "code",
   "execution_count": 134,
   "id": "9d423ae2",
   "metadata": {},
   "outputs": [],
   "source": [
    "df.drop(outliers_list, inplace=True)"
   ]
  },
  {
   "cell_type": "markdown",
   "id": "5c7de1d6",
   "metadata": {},
   "source": [
    "## Choosing features"
   ]
  },
  {
   "cell_type": "code",
   "execution_count": 135,
   "id": "d32bba82",
   "metadata": {},
   "outputs": [
    {
     "data": {
      "text/plain": [
       "log_saleprice    1.000000\n",
       "saleprice        0.962610\n",
       "overallqual      0.811314\n",
       "grlivarea        0.691620\n",
       "garagecars       0.676252\n",
       "total_baths      0.665623\n",
       "garagearea       0.646482\n",
       "tot_bath_grd     0.631177\n",
       "totalbsmtsf      0.602262\n",
       "yearbuilt        0.587511\n",
       "fullbath         0.586762\n",
       "firstflrsf       0.582733\n",
       "yearremodadd     0.564117\n",
       "garageyrblt      0.542267\n",
       "totrmsabvgrd     0.523472\n",
       "fireplaces       0.483280\n",
       "masvnrarea       0.416894\n",
       "log_lotarea      0.397819\n",
       "bsmtfinsf1       0.354123\n",
       "openporchsf      0.353306\n",
       "lotfrontage      0.340267\n",
       "wooddecksf       0.329113\n",
       "secondflrsf      0.307252\n",
       "halfbath         0.306123\n",
       "lotarea          0.254117\n",
       "bsmtfullbath     0.235684\n",
       "tot_bsmt_bath    0.233366\n",
       "bsmtunfsf        0.227789\n",
       "bedroomabvgr     0.193549\n",
       "kitchenabvgr     0.154736\n",
       "enclosedporch    0.144758\n",
       "screenporch      0.125651\n",
       "mssubclass       0.081928\n",
       "mosold           0.069984\n",
       "threessnporch    0.056922\n",
       "overallcond      0.052451\n",
       "lowqualfinsf     0.040027\n",
       "poolarea         0.038180\n",
       "yrsold           0.036470\n",
       "miscval          0.021189\n",
       "bsmthalfbath     0.017592\n",
       "bsmtfinsf2       0.004088\n",
       "Name: log_saleprice, dtype: float64"
      ]
     },
     "execution_count": 135,
     "metadata": {},
     "output_type": "execute_result"
    }
   ],
   "source": [
    "np.abs((df.select_dtypes(exclude='object').corr())['log_saleprice']).sort_values(ascending=False)"
   ]
  },
  {
   "cell_type": "markdown",
   "id": "54d3ebec",
   "metadata": {},
   "source": [
    "overall quality has a strong correlation with log_saleprice while ground living area, garage cars, and total baths are moderately correlated.  From my previous work with this dataset, I'm also choosing neighborhood, exterior1st, kitchenqual."
   ]
  },
  {
   "cell_type": "code",
   "execution_count": 136,
   "id": "74e64d29",
   "metadata": {},
   "outputs": [],
   "source": [
    "variables = ['overallqual','grlivarea','garagecars','total_baths','neighborhood','exterior1st','kitchenqual','log_saleprice']"
   ]
  },
  {
   "cell_type": "code",
   "execution_count": 137,
   "id": "bf9790b4",
   "metadata": {},
   "outputs": [],
   "source": [
    "df2 = df[variables]"
   ]
  },
  {
   "cell_type": "code",
   "execution_count": 138,
   "id": "0518e0b2",
   "metadata": {},
   "outputs": [
    {
     "data": {
      "text/plain": [
       "overallqual      0\n",
       "grlivarea        0\n",
       "garagecars       0\n",
       "total_baths      0\n",
       "neighborhood     0\n",
       "exterior1st      0\n",
       "kitchenqual      0\n",
       "log_saleprice    0\n",
       "dtype: int64"
      ]
     },
     "execution_count": 138,
     "metadata": {},
     "output_type": "execute_result"
    }
   ],
   "source": [
    "df2.isnull().sum()"
   ]
  },
  {
   "cell_type": "code",
   "execution_count": 139,
   "id": "247e3c79",
   "metadata": {},
   "outputs": [],
   "source": [
    "df2 = pd.get_dummies(df2, drop_first = True)"
   ]
  },
  {
   "cell_type": "code",
   "execution_count": 140,
   "id": "58b38796",
   "metadata": {},
   "outputs": [
    {
     "data": {
      "text/html": [
       "<div>\n",
       "<style scoped>\n",
       "    .dataframe tbody tr th:only-of-type {\n",
       "        vertical-align: middle;\n",
       "    }\n",
       "\n",
       "    .dataframe tbody tr th {\n",
       "        vertical-align: top;\n",
       "    }\n",
       "\n",
       "    .dataframe thead th {\n",
       "        text-align: right;\n",
       "    }\n",
       "</style>\n",
       "<table border=\"1\" class=\"dataframe\">\n",
       "  <thead>\n",
       "    <tr style=\"text-align: right;\">\n",
       "      <th></th>\n",
       "      <th>overallqual</th>\n",
       "      <th>grlivarea</th>\n",
       "      <th>garagecars</th>\n",
       "      <th>total_baths</th>\n",
       "      <th>log_saleprice</th>\n",
       "      <th>neighborhood_Blueste</th>\n",
       "      <th>neighborhood_BrDale</th>\n",
       "      <th>neighborhood_BrkSide</th>\n",
       "      <th>neighborhood_ClearCr</th>\n",
       "      <th>neighborhood_CollgCr</th>\n",
       "      <th>...</th>\n",
       "      <th>exterior1st_MetalSd</th>\n",
       "      <th>exterior1st_Plywood</th>\n",
       "      <th>exterior1st_Stone</th>\n",
       "      <th>exterior1st_Stucco</th>\n",
       "      <th>exterior1st_VinylSd</th>\n",
       "      <th>exterior1st_Wd Sdng</th>\n",
       "      <th>exterior1st_WdShing</th>\n",
       "      <th>kitchenqual_Fa</th>\n",
       "      <th>kitchenqual_Gd</th>\n",
       "      <th>kitchenqual_TA</th>\n",
       "    </tr>\n",
       "  </thead>\n",
       "  <tbody>\n",
       "    <tr>\n",
       "      <th>0</th>\n",
       "      <td>7</td>\n",
       "      <td>1710</td>\n",
       "      <td>2</td>\n",
       "      <td>3.5</td>\n",
       "      <td>12.247694</td>\n",
       "      <td>0</td>\n",
       "      <td>0</td>\n",
       "      <td>0</td>\n",
       "      <td>0</td>\n",
       "      <td>1</td>\n",
       "      <td>...</td>\n",
       "      <td>0</td>\n",
       "      <td>0</td>\n",
       "      <td>0</td>\n",
       "      <td>0</td>\n",
       "      <td>1</td>\n",
       "      <td>0</td>\n",
       "      <td>0</td>\n",
       "      <td>0</td>\n",
       "      <td>1</td>\n",
       "      <td>0</td>\n",
       "    </tr>\n",
       "    <tr>\n",
       "      <th>1</th>\n",
       "      <td>6</td>\n",
       "      <td>1262</td>\n",
       "      <td>2</td>\n",
       "      <td>2.5</td>\n",
       "      <td>12.109011</td>\n",
       "      <td>0</td>\n",
       "      <td>0</td>\n",
       "      <td>0</td>\n",
       "      <td>0</td>\n",
       "      <td>0</td>\n",
       "      <td>...</td>\n",
       "      <td>1</td>\n",
       "      <td>0</td>\n",
       "      <td>0</td>\n",
       "      <td>0</td>\n",
       "      <td>0</td>\n",
       "      <td>0</td>\n",
       "      <td>0</td>\n",
       "      <td>0</td>\n",
       "      <td>0</td>\n",
       "      <td>1</td>\n",
       "    </tr>\n",
       "    <tr>\n",
       "      <th>2</th>\n",
       "      <td>7</td>\n",
       "      <td>1786</td>\n",
       "      <td>2</td>\n",
       "      <td>3.5</td>\n",
       "      <td>12.317167</td>\n",
       "      <td>0</td>\n",
       "      <td>0</td>\n",
       "      <td>0</td>\n",
       "      <td>0</td>\n",
       "      <td>1</td>\n",
       "      <td>...</td>\n",
       "      <td>0</td>\n",
       "      <td>0</td>\n",
       "      <td>0</td>\n",
       "      <td>0</td>\n",
       "      <td>1</td>\n",
       "      <td>0</td>\n",
       "      <td>0</td>\n",
       "      <td>0</td>\n",
       "      <td>1</td>\n",
       "      <td>0</td>\n",
       "    </tr>\n",
       "    <tr>\n",
       "      <th>3</th>\n",
       "      <td>7</td>\n",
       "      <td>1717</td>\n",
       "      <td>3</td>\n",
       "      <td>2.0</td>\n",
       "      <td>11.849398</td>\n",
       "      <td>0</td>\n",
       "      <td>0</td>\n",
       "      <td>0</td>\n",
       "      <td>0</td>\n",
       "      <td>0</td>\n",
       "      <td>...</td>\n",
       "      <td>0</td>\n",
       "      <td>0</td>\n",
       "      <td>0</td>\n",
       "      <td>0</td>\n",
       "      <td>0</td>\n",
       "      <td>1</td>\n",
       "      <td>0</td>\n",
       "      <td>0</td>\n",
       "      <td>1</td>\n",
       "      <td>0</td>\n",
       "    </tr>\n",
       "    <tr>\n",
       "      <th>4</th>\n",
       "      <td>8</td>\n",
       "      <td>2198</td>\n",
       "      <td>3</td>\n",
       "      <td>3.5</td>\n",
       "      <td>12.429216</td>\n",
       "      <td>0</td>\n",
       "      <td>0</td>\n",
       "      <td>0</td>\n",
       "      <td>0</td>\n",
       "      <td>0</td>\n",
       "      <td>...</td>\n",
       "      <td>0</td>\n",
       "      <td>0</td>\n",
       "      <td>0</td>\n",
       "      <td>0</td>\n",
       "      <td>1</td>\n",
       "      <td>0</td>\n",
       "      <td>0</td>\n",
       "      <td>0</td>\n",
       "      <td>1</td>\n",
       "      <td>0</td>\n",
       "    </tr>\n",
       "  </tbody>\n",
       "</table>\n",
       "<p>5 rows × 46 columns</p>\n",
       "</div>"
      ],
      "text/plain": [
       "   overallqual  grlivarea  garagecars  total_baths  log_saleprice  \\\n",
       "0            7       1710           2          3.5      12.247694   \n",
       "1            6       1262           2          2.5      12.109011   \n",
       "2            7       1786           2          3.5      12.317167   \n",
       "3            7       1717           3          2.0      11.849398   \n",
       "4            8       2198           3          3.5      12.429216   \n",
       "\n",
       "   neighborhood_Blueste  neighborhood_BrDale  neighborhood_BrkSide  \\\n",
       "0                     0                    0                     0   \n",
       "1                     0                    0                     0   \n",
       "2                     0                    0                     0   \n",
       "3                     0                    0                     0   \n",
       "4                     0                    0                     0   \n",
       "\n",
       "   neighborhood_ClearCr  neighborhood_CollgCr  ...  exterior1st_MetalSd  \\\n",
       "0                     0                     1  ...                    0   \n",
       "1                     0                     0  ...                    1   \n",
       "2                     0                     1  ...                    0   \n",
       "3                     0                     0  ...                    0   \n",
       "4                     0                     0  ...                    0   \n",
       "\n",
       "   exterior1st_Plywood  exterior1st_Stone  exterior1st_Stucco  \\\n",
       "0                    0                  0                   0   \n",
       "1                    0                  0                   0   \n",
       "2                    0                  0                   0   \n",
       "3                    0                  0                   0   \n",
       "4                    0                  0                   0   \n",
       "\n",
       "   exterior1st_VinylSd  exterior1st_Wd Sdng  exterior1st_WdShing  \\\n",
       "0                    1                    0                    0   \n",
       "1                    0                    0                    0   \n",
       "2                    1                    0                    0   \n",
       "3                    0                    1                    0   \n",
       "4                    1                    0                    0   \n",
       "\n",
       "   kitchenqual_Fa  kitchenqual_Gd  kitchenqual_TA  \n",
       "0               0               1               0  \n",
       "1               0               0               1  \n",
       "2               0               1               0  \n",
       "3               0               1               0  \n",
       "4               0               1               0  \n",
       "\n",
       "[5 rows x 46 columns]"
      ]
     },
     "execution_count": 140,
     "metadata": {},
     "output_type": "execute_result"
    }
   ],
   "source": [
    "df2.head()"
   ]
  },
  {
   "cell_type": "markdown",
   "id": "60597066",
   "metadata": {},
   "source": [
    "# Creating a model"
   ]
  },
  {
   "cell_type": "code",
   "execution_count": 141,
   "id": "8985a030",
   "metadata": {},
   "outputs": [],
   "source": [
    "X = df2.drop('log_saleprice',axis=1)\n",
    "y = df2.log_saleprice"
   ]
  },
  {
   "cell_type": "code",
   "execution_count": 142,
   "id": "894f533e",
   "metadata": {},
   "outputs": [],
   "source": [
    "X_train, X_test, y_train, y_test = train_test_split(X,y,test_size=0.2,random_state=625)"
   ]
  },
  {
   "cell_type": "code",
   "execution_count": 143,
   "id": "fec2c907",
   "metadata": {},
   "outputs": [],
   "source": [
    "def mape(y_values, y_preds):\n",
    "    return np.mean(np.abs(y_values-y_preds)/y_values)"
   ]
  },
  {
   "cell_type": "code",
   "execution_count": 144,
   "id": "951c006c",
   "metadata": {},
   "outputs": [],
   "source": [
    "def print_prediction_errors(y_test, y_preds):\n",
    "    print(\"The mean absolute error of the model: \",mean_absolute_error(y_test, y_preds))\n",
    "    print(\"The mean absolute percentage error of the model: \",mape(y_test, y_preds))\n",
    "    print(\"The mean square error of the model: \",mse(y_test,y_preds))\n",
    "    print(\"The root mean square error of the model: \",rmse(y_test,y_preds))"
   ]
  },
  {
   "cell_type": "markdown",
   "id": "7a6dbcfa",
   "metadata": {},
   "source": [
    "## OLS"
   ]
  },
  {
   "cell_type": "code",
   "execution_count": 145,
   "id": "ec5ed9d6",
   "metadata": {},
   "outputs": [],
   "source": [
    "lr = LinearRegression()"
   ]
  },
  {
   "cell_type": "code",
   "execution_count": 146,
   "id": "129f00f8",
   "metadata": {},
   "outputs": [
    {
     "data": {
      "text/plain": [
       "LinearRegression()"
      ]
     },
     "execution_count": 146,
     "metadata": {},
     "output_type": "execute_result"
    }
   ],
   "source": [
    "lr.fit(X_train,y_train)"
   ]
  },
  {
   "cell_type": "code",
   "execution_count": 147,
   "id": "05006966",
   "metadata": {},
   "outputs": [],
   "source": [
    "y_preds = lr.predict(X_test)"
   ]
  },
  {
   "cell_type": "code",
   "execution_count": 148,
   "id": "033ed1c3",
   "metadata": {},
   "outputs": [
    {
     "name": "stdout",
     "output_type": "stream",
     "text": [
      "R-squared for the training set is:  0.8518922531418318\n",
      "--------------------------------------------------\n",
      "R-squared for the test set is:  0.8669378868973145\n",
      "The mean absolute error of the model:  0.10989383433186016\n",
      "The mean absolute percentage error of the model:  0.009175050105702747\n",
      "The mean square error of the model:  0.01982689866006314\n",
      "The root mean square error of the model:  0.14080802058143968\n",
      "--------------------------------------------------\n",
      "The difference in R squared between training and test sets is:  0.015045633755482735\n"
     ]
    }
   ],
   "source": [
    "r1 = lr.score(X_train,y_train)\n",
    "r2 = lr.score(X_test,y_test)\n",
    "print(\"R-squared for the training set is: \",r1)\n",
    "print('-'*50)\n",
    "print('R-squared for the test set is: ',r2)\n",
    "print_prediction_errors(y_test,y_preds)\n",
    "print('-'*50)\n",
    "print(\"The difference in R squared between training and test sets is: \", r2-r1)"
   ]
  },
  {
   "cell_type": "markdown",
   "id": "e403b3c7",
   "metadata": {},
   "source": [
    "## Ridge Regression"
   ]
  },
  {
   "cell_type": "code",
   "execution_count": 149,
   "id": "faeed5f4",
   "metadata": {},
   "outputs": [],
   "source": [
    "rr = RidgeCV(alphas = np.arange(0.5,10.5,0.5))"
   ]
  },
  {
   "cell_type": "code",
   "execution_count": 150,
   "id": "911180e6",
   "metadata": {},
   "outputs": [
    {
     "data": {
      "text/plain": [
       "RidgeCV(alphas=array([ 0.5,  1. ,  1.5,  2. ,  2.5,  3. ,  3.5,  4. ,  4.5,  5. ,  5.5,\n",
       "        6. ,  6.5,  7. ,  7.5,  8. ,  8.5,  9. ,  9.5, 10. ]))"
      ]
     },
     "execution_count": 150,
     "metadata": {},
     "output_type": "execute_result"
    }
   ],
   "source": [
    "rr.fit(X_train,y_train)"
   ]
  },
  {
   "cell_type": "code",
   "execution_count": 151,
   "id": "8968864c",
   "metadata": {},
   "outputs": [],
   "source": [
    "y_preds = rr.predict(X_test)"
   ]
  },
  {
   "cell_type": "code",
   "execution_count": 152,
   "id": "74b7fe84",
   "metadata": {},
   "outputs": [
    {
     "name": "stdout",
     "output_type": "stream",
     "text": [
      "R-squared for the training set is:  0.8510703589584011\n",
      "--------------------------------------------------\n",
      "R-squared for the test set is:  0.8692459012929955\n",
      "The mean absolute error of the model:  0.10962798997791015\n",
      "The mean absolute percentage error of the model:  0.009153948412975376\n",
      "The mean square error of the model:  0.01948299334800922\n",
      "The root mean square error of the model:  0.1395814935727843\n",
      "--------------------------------------------------\n",
      "The difference in R squared between training and test sets is:  0.018175542334594397\n"
     ]
    }
   ],
   "source": [
    "r1 = rr.score(X_train,y_train)\n",
    "r2 = rr.score(X_test,y_test)\n",
    "print(\"R-squared for the training set is: \",r1)\n",
    "print('-'*50)\n",
    "print('R-squared for the test set is: ',r2)\n",
    "print_prediction_errors(y_test,y_preds)\n",
    "print('-'*50)\n",
    "print(\"The difference in R squared between training and test sets is: \", r2-r1)"
   ]
  },
  {
   "cell_type": "markdown",
   "id": "d6407fbc",
   "metadata": {},
   "source": [
    "## Lasso Regression"
   ]
  },
  {
   "cell_type": "code",
   "execution_count": 153,
   "id": "eddf649f",
   "metadata": {},
   "outputs": [],
   "source": [
    "lssr = LassoCV(alphas = np.arange(0.5,10.5,0.5))"
   ]
  },
  {
   "cell_type": "code",
   "execution_count": 154,
   "id": "4e2f0bb8",
   "metadata": {},
   "outputs": [
    {
     "data": {
      "text/plain": [
       "LassoCV(alphas=array([ 0.5,  1. ,  1.5,  2. ,  2.5,  3. ,  3.5,  4. ,  4.5,  5. ,  5.5,\n",
       "        6. ,  6.5,  7. ,  7.5,  8. ,  8.5,  9. ,  9.5, 10. ]))"
      ]
     },
     "execution_count": 154,
     "metadata": {},
     "output_type": "execute_result"
    }
   ],
   "source": [
    "lssr.fit(X_test,y_test)"
   ]
  },
  {
   "cell_type": "code",
   "execution_count": 155,
   "id": "ad989c10",
   "metadata": {},
   "outputs": [],
   "source": [
    "y_preds = lssr.predict(X_test)"
   ]
  },
  {
   "cell_type": "code",
   "execution_count": 156,
   "id": "3f44659f",
   "metadata": {},
   "outputs": [
    {
     "name": "stdout",
     "output_type": "stream",
     "text": [
      "R-squared for the training set is:  0.4700841565939061\n",
      "--------------------------------------------------\n",
      "R-squared for the test set is:  0.5003621973714936\n",
      "The mean absolute error of the model:  0.21224126389792894\n",
      "The mean absolute percentage error of the model:  0.017692277809817903\n",
      "The mean square error of the model:  0.074448450039323\n",
      "The root mean square error of the model:  0.2728524327165199\n",
      "--------------------------------------------------\n",
      "The difference in R squared between training and test sets is:  0.030278040777587445\n"
     ]
    }
   ],
   "source": [
    "r1 = lssr.score(X_train,y_train)\n",
    "r2 = lssr.score(X_test,y_test)\n",
    "print(\"R-squared for the training set is: \",r1)\n",
    "print('-'*50)\n",
    "print('R-squared for the test set is: ',r2)\n",
    "print_prediction_errors(y_test,y_preds)\n",
    "print('-'*50)\n",
    "print(\"The difference in R squared between training and test sets is: \", r2-r1)"
   ]
  },
  {
   "cell_type": "markdown",
   "id": "76c5239f",
   "metadata": {},
   "source": [
    "## Elastic Net Regression"
   ]
  },
  {
   "cell_type": "code",
   "execution_count": 157,
   "id": "2e48036f",
   "metadata": {},
   "outputs": [],
   "source": [
    "er = ElasticNetCV(l1_ratio=[.1, .5, .7, .9, .95, .99])"
   ]
  },
  {
   "cell_type": "code",
   "execution_count": 158,
   "id": "04150e5a",
   "metadata": {},
   "outputs": [
    {
     "data": {
      "text/plain": [
       "ElasticNetCV(l1_ratio=[0.1, 0.5, 0.7, 0.9, 0.95, 0.99])"
      ]
     },
     "execution_count": 158,
     "metadata": {},
     "output_type": "execute_result"
    }
   ],
   "source": [
    "er.fit(X_train,y_train)"
   ]
  },
  {
   "cell_type": "code",
   "execution_count": 159,
   "id": "c510ddc0",
   "metadata": {},
   "outputs": [],
   "source": [
    "y_preds = er.predict(X_test)"
   ]
  },
  {
   "cell_type": "code",
   "execution_count": 160,
   "id": "5cc618d0",
   "metadata": {},
   "outputs": [
    {
     "name": "stdout",
     "output_type": "stream",
     "text": [
      "R-squared for the training set is:  0.6162853248061233\n",
      "--------------------------------------------------\n",
      "R-squared for the test set is:  0.6597402244256894\n",
      "The mean absolute error of the model:  0.17164605291880308\n",
      "The mean absolute percentage error of the model:  0.014341029529075858\n",
      "The mean square error of the model:  0.05070035287355985\n",
      "The root mean square error of the model:  0.2251673885658397\n",
      "--------------------------------------------------\n",
      "The difference in R squared between training and test sets is:  0.043454899619566056\n"
     ]
    }
   ],
   "source": [
    "r1 = er.score(X_train,y_train)\n",
    "r2 = er.score(X_test,y_test)\n",
    "print(\"R-squared for the training set is: \",r1)\n",
    "print('-'*50)\n",
    "print('R-squared for the test set is: ',r2)\n",
    "print_prediction_errors(y_test,y_preds)\n",
    "print('-'*50)\n",
    "print(\"The difference in R squared between training and test sets is: \", r2-r1)"
   ]
  },
  {
   "cell_type": "markdown",
   "id": "15c9e095",
   "metadata": {},
   "source": [
    "# Model evaluation\n",
    "\n",
    "The best model is the one using ridge regression.  Below you can see the coefficients and alpa produced."
   ]
  },
  {
   "cell_type": "code",
   "execution_count": 161,
   "id": "7128db1d",
   "metadata": {},
   "outputs": [
    {
     "data": {
      "text/plain": [
       "array([ 8.51287412e-02,  1.69972211e-04,  7.32595855e-02,  6.65323280e-02,\n",
       "       -8.64227917e-02, -2.34316092e-01, -2.82371309e-02,  1.89001568e-01,\n",
       "        4.61956905e-02,  1.53268608e-01, -8.97616261e-02,  1.40858140e-02,\n",
       "       -1.64970839e-01, -2.44456000e-01,  2.06909307e-02,  7.56596341e-03,\n",
       "       -8.97026143e-02,  2.47414454e-02,  1.54375650e-01,  1.51043630e-01,\n",
       "       -1.34682461e-01, -8.03012590e-02,  1.39240585e-02,  5.28909626e-03,\n",
       "        4.00063266e-02,  1.75188035e-01,  9.83512339e-02,  1.38336315e-01,\n",
       "       -4.63302078e-02, -1.69552502e-01,  1.28486534e-01,  4.22315749e-02,\n",
       "        8.86509167e-02,  4.66660207e-02,  9.51024824e-04,  4.04966646e-02,\n",
       "        5.65499905e-02,  4.02801901e-02, -5.81238475e-02,  6.43122950e-02,\n",
       "        3.55749022e-02,  2.03567189e-02, -2.24846853e-01, -8.32901804e-02,\n",
       "       -1.49225725e-01])"
      ]
     },
     "execution_count": 161,
     "metadata": {},
     "output_type": "execute_result"
    }
   ],
   "source": [
    "rr.coef_"
   ]
  },
  {
   "cell_type": "code",
   "execution_count": 162,
   "id": "0fdf9964",
   "metadata": {},
   "outputs": [
    {
     "data": {
      "text/plain": [
       "1.5"
      ]
     },
     "execution_count": 162,
     "metadata": {},
     "output_type": "execute_result"
    }
   ],
   "source": [
    "rr.alpha_"
   ]
  },
  {
   "cell_type": "markdown",
   "id": "bc689fac",
   "metadata": {},
   "source": [
    "# Adding Economic Data"
   ]
  },
  {
   "cell_type": "code",
   "execution_count": 164,
   "id": "19916c90",
   "metadata": {},
   "outputs": [],
   "source": [
    "interest_rate = {\n",
    "    2006:4.786,\n",
    "    2007:5.223,\n",
    "    2008:3.082,\n",
    "    2009:2.469,\n",
    "    2010:2.061\n",
    "}\n",
    "# collected from https://data.worldbank.org/"
   ]
  },
  {
   "cell_type": "code",
   "execution_count": 165,
   "id": "a64253b2",
   "metadata": {},
   "outputs": [],
   "source": [
    "gdp = {\n",
    "    2006:13814.6,\n",
    "    2007:14451.9,\n",
    "    2008:14712.8,\n",
    "    2009:14448.9,\n",
    "    2010:14992.1\n",
    "}\n",
    "# collected from statista\n"
   ]
  },
  {
   "cell_type": "code",
   "execution_count": 166,
   "id": "d2207afe",
   "metadata": {},
   "outputs": [],
   "source": [
    "unemployment = {\n",
    "    2006:4.6,\n",
    "    2007:4.6,\n",
    "    2008:5.8,\n",
    "    2009:9.3,\n",
    "    2010:9.6\n",
    "}\n",
    "# collected from statista"
   ]
  },
  {
   "cell_type": "code",
   "execution_count": 168,
   "id": "dc2bd381",
   "metadata": {},
   "outputs": [],
   "source": [
    "df['interest_rate']=df.yrsold.apply(lambda x:interest_rate[x])"
   ]
  },
  {
   "cell_type": "code",
   "execution_count": 169,
   "id": "dc461dc1",
   "metadata": {},
   "outputs": [],
   "source": [
    "df['gdp']=df.yrsold.apply(lambda x: gdp[x])"
   ]
  },
  {
   "cell_type": "code",
   "execution_count": 170,
   "id": "f54295a8",
   "metadata": {},
   "outputs": [],
   "source": [
    "df['unemployment']=df.yrsold.apply(lambda x: unemployment[x])"
   ]
  },
  {
   "cell_type": "code",
   "execution_count": 171,
   "id": "ea25c92c",
   "metadata": {},
   "outputs": [
    {
     "data": {
      "text/html": [
       "<div>\n",
       "<style scoped>\n",
       "    .dataframe tbody tr th:only-of-type {\n",
       "        vertical-align: middle;\n",
       "    }\n",
       "\n",
       "    .dataframe tbody tr th {\n",
       "        vertical-align: top;\n",
       "    }\n",
       "\n",
       "    .dataframe thead th {\n",
       "        text-align: right;\n",
       "    }\n",
       "</style>\n",
       "<table border=\"1\" class=\"dataframe\">\n",
       "  <thead>\n",
       "    <tr style=\"text-align: right;\">\n",
       "      <th></th>\n",
       "      <th>interest_rate</th>\n",
       "      <th>gdp</th>\n",
       "      <th>unemployment</th>\n",
       "      <th>log_saleprice</th>\n",
       "    </tr>\n",
       "  </thead>\n",
       "  <tbody>\n",
       "    <tr>\n",
       "      <th>interest_rate</th>\n",
       "      <td>1.000000</td>\n",
       "      <td>-0.632651</td>\n",
       "      <td>-0.903885</td>\n",
       "      <td>0.039705</td>\n",
       "    </tr>\n",
       "    <tr>\n",
       "      <th>gdp</th>\n",
       "      <td>-0.632651</td>\n",
       "      <td>1.000000</td>\n",
       "      <td>0.529689</td>\n",
       "      <td>-0.027143</td>\n",
       "    </tr>\n",
       "    <tr>\n",
       "      <th>unemployment</th>\n",
       "      <td>-0.903885</td>\n",
       "      <td>0.529689</td>\n",
       "      <td>1.000000</td>\n",
       "      <td>-0.035014</td>\n",
       "    </tr>\n",
       "    <tr>\n",
       "      <th>log_saleprice</th>\n",
       "      <td>0.039705</td>\n",
       "      <td>-0.027143</td>\n",
       "      <td>-0.035014</td>\n",
       "      <td>1.000000</td>\n",
       "    </tr>\n",
       "  </tbody>\n",
       "</table>\n",
       "</div>"
      ],
      "text/plain": [
       "               interest_rate       gdp  unemployment  log_saleprice\n",
       "interest_rate       1.000000 -0.632651     -0.903885       0.039705\n",
       "gdp                -0.632651  1.000000      0.529689      -0.027143\n",
       "unemployment       -0.903885  0.529689      1.000000      -0.035014\n",
       "log_saleprice       0.039705 -0.027143     -0.035014       1.000000"
      ]
     },
     "execution_count": 171,
     "metadata": {},
     "output_type": "execute_result"
    }
   ],
   "source": [
    "df[['interest_rate','gdp','unemployment','log_saleprice']].corr()"
   ]
  },
  {
   "cell_type": "markdown",
   "id": "926cf935",
   "metadata": {},
   "source": [
    "None seem very correlated with saleprice.  To try, I will add all three and try ridge regression with it."
   ]
  },
  {
   "cell_type": "code",
   "execution_count": 173,
   "id": "70c95c5c",
   "metadata": {},
   "outputs": [],
   "source": [
    "variables = variables + ['interest_rate','gdp','unemployment']"
   ]
  },
  {
   "cell_type": "code",
   "execution_count": 174,
   "id": "99d6c219",
   "metadata": {},
   "outputs": [],
   "source": [
    "df2 = df[variables]"
   ]
  },
  {
   "cell_type": "code",
   "execution_count": 175,
   "id": "2ae5a73f",
   "metadata": {},
   "outputs": [
    {
     "data": {
      "text/plain": [
       "overallqual      0\n",
       "grlivarea        0\n",
       "garagecars       0\n",
       "total_baths      0\n",
       "neighborhood     0\n",
       "exterior1st      0\n",
       "kitchenqual      0\n",
       "log_saleprice    0\n",
       "interest_rate    0\n",
       "gdp              0\n",
       "unemployment     0\n",
       "dtype: int64"
      ]
     },
     "execution_count": 175,
     "metadata": {},
     "output_type": "execute_result"
    }
   ],
   "source": [
    "df2.isnull().sum()"
   ]
  },
  {
   "cell_type": "code",
   "execution_count": 176,
   "id": "de6e3eac",
   "metadata": {},
   "outputs": [],
   "source": [
    "df2 = pd.get_dummies(df2, drop_first = True)"
   ]
  },
  {
   "cell_type": "code",
   "execution_count": 177,
   "id": "af521ffd",
   "metadata": {},
   "outputs": [],
   "source": [
    "X = df2.drop('log_saleprice',axis=1)\n",
    "y = df2.log_saleprice"
   ]
  },
  {
   "cell_type": "code",
   "execution_count": 178,
   "id": "30b99d4d",
   "metadata": {},
   "outputs": [],
   "source": [
    "X_train, X_test, y_train, y_test = train_test_split(X,y,test_size=0.2,random_state=625)"
   ]
  },
  {
   "cell_type": "code",
   "execution_count": 180,
   "id": "ae7e4df4",
   "metadata": {},
   "outputs": [],
   "source": [
    "rr = RidgeCV(alphas = np.arange(0.5,10.5,0.5))"
   ]
  },
  {
   "cell_type": "code",
   "execution_count": 181,
   "id": "994fefe6",
   "metadata": {},
   "outputs": [
    {
     "data": {
      "text/plain": [
       "RidgeCV(alphas=array([ 0.5,  1. ,  1.5,  2. ,  2.5,  3. ,  3.5,  4. ,  4.5,  5. ,  5.5,\n",
       "        6. ,  6.5,  7. ,  7.5,  8. ,  8.5,  9. ,  9.5, 10. ]))"
      ]
     },
     "execution_count": 181,
     "metadata": {},
     "output_type": "execute_result"
    }
   ],
   "source": [
    "rr.fit(X_train,y_train)"
   ]
  },
  {
   "cell_type": "code",
   "execution_count": 183,
   "id": "c3a8ce0a",
   "metadata": {},
   "outputs": [],
   "source": [
    "y_preds = rr.predict(X_test)"
   ]
  },
  {
   "cell_type": "code",
   "execution_count": 185,
   "id": "c6d40211",
   "metadata": {},
   "outputs": [
    {
     "name": "stdout",
     "output_type": "stream",
     "text": [
      "R-squared for the training set is:  0.8516032702757811\n",
      "--------------------------------------------------\n",
      "R-squared for the test set is:  0.8685697708929703\n",
      "The mean absolute error of the model:  0.11017240774431938\n",
      "The mean absolute percentage error of the model:  0.009198443812460528\n",
      "The mean square error of the model:  0.019583740049002478\n",
      "The root mean square error of the model:  0.13994191669761594\n",
      "--------------------------------------------------\n",
      "The difference in R squared between training and test sets is:  0.016966500617189184\n"
     ]
    }
   ],
   "source": [
    "r1 = rr.score(X_train,y_train)\n",
    "r2 = rr.score(X_test,y_test)\n",
    "print(\"R-squared for the training set is: \",r1)\n",
    "print('-'*50)\n",
    "print('R-squared for the test set is: ',r2)\n",
    "print_prediction_errors(y_test,y_preds)\n",
    "print('-'*50)\n",
    "print(\"The difference in R squared between training and test sets is: \", r2-r1)"
   ]
  },
  {
   "cell_type": "markdown",
   "id": "3d41e7c2",
   "metadata": {},
   "source": [
    "Adding economic data did improve the model slightly,"
   ]
  },
  {
   "cell_type": "code",
   "execution_count": null,
   "id": "6109e1b3",
   "metadata": {},
   "outputs": [],
   "source": []
  }
 ],
 "metadata": {
  "kernelspec": {
   "display_name": "Python 3",
   "language": "python",
   "name": "python3"
  },
  "language_info": {
   "codemirror_mode": {
    "name": "ipython",
    "version": 3
   },
   "file_extension": ".py",
   "mimetype": "text/x-python",
   "name": "python",
   "nbconvert_exporter": "python",
   "pygments_lexer": "ipython3",
   "version": "3.9.5"
  }
 },
 "nbformat": 4,
 "nbformat_minor": 5
}
