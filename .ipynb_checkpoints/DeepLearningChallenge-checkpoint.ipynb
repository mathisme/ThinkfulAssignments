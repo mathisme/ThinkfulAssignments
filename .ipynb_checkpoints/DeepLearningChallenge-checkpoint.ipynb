{
 "cells": [
  {
   "cell_type": "code",
   "execution_count": 58,
   "id": "691c8303",
   "metadata": {},
   "outputs": [],
   "source": [
    "import numpy as np\n",
    "import pandas as pd\n",
    "import matplotlib.pyplot as plt\n",
    "import seaborn as sns\n",
    "from tensorflow.keras.datasets import fashion_mnist\n",
    "from tensorflow.keras.utils import to_categorical\n",
    "from tensorflow.keras.models import Sequential \n",
    "from tensorflow.keras.layers import Dense, LeakyReLU\n",
    "from tensorflow.keras import optimizers\n"
   ]
  },
  {
   "cell_type": "markdown",
   "id": "bdc15ee9",
   "metadata": {},
   "source": [
    "# Loading the data"
   ]
  },
  {
   "cell_type": "code",
   "execution_count": 2,
   "id": "348fb14e",
   "metadata": {},
   "outputs": [],
   "source": [
    "(X_train, y_train), (X_test, y_test) = fashion_mnist.load_data()\n",
    "\n"
   ]
  },
  {
   "cell_type": "code",
   "execution_count": 3,
   "id": "5e8c73c7",
   "metadata": {},
   "outputs": [],
   "source": [
    "input_dim = 784  # 28*28\n",
    "output_dim = nb_classes = 10\n",
    "nb_epoch = 20\n",
    "\n",
    "X_train = X_train.reshape(60000, input_dim)\n",
    "X_test = X_test.reshape(10000, input_dim)\n",
    "X_train = X_train.astype('float32')\n",
    "X_test = X_test.astype('float32')\n",
    "X_train /= 255\n",
    "X_test /= 255\n",
    "Y_train = to_categorical(y_train, nb_classes)\n",
    "Y_test = to_categorical(y_test, nb_classes)"
   ]
  },
  {
   "cell_type": "markdown",
   "id": "d13ab3aa",
   "metadata": {},
   "source": [
    "# Planning hyperparameter tuning\n",
    "\n",
    "With deep learning using a full ANN network there are a lot of parameters to tune, the number of layers, the number of nodes at each layer, the activation function to use at each layer, the optimizer used and the learning rate for gradient descent, the loss function used, the batch size, the number of epochs and probably more.  \n",
    "\n",
    "My plan, which may not be optimal:\n",
    "* Start by determining how many layers, keeping everything else constant\n",
    "* Given the number of layers, play with an equal amount of nuerons at each layer, a increasing amount of neurons at each layer, a decreasing amount of neurons at each layer, or an increasing then decreasing amount of neurons at each layer\n",
    "* Play around with the activation function at each layer.\n",
    "* Play around with batch size\n",
    "\n",
    "Again this systematic method leaves a lot of options, some which may be better, out.  The order in which I tune hyperparameters also matters.   Again better models may be left out.\n",
    "\n",
    "# Adjusting number of hidden layers\n",
    "\n",
    "I am going to test, 2, 3, 5 hidden layers, maybe more if it continues to improve, each with 32 nodes, using relu as an activation function and having a batch size when training of 128 with 20 epochs.\n",
    "\n",
    "## 2 layers"
   ]
  },
  {
   "cell_type": "code",
   "execution_count": 4,
   "id": "f90a4fcb",
   "metadata": {},
   "outputs": [
    {
     "name": "stdout",
     "output_type": "stream",
     "text": [
      "Epoch 1/20\n",
      "469/469 [==============================] - 1s 1ms/step - loss: 1.2668 - accuracy: 0.5885\n",
      "Epoch 2/20\n",
      "469/469 [==============================] - 1s 1ms/step - loss: 0.7264 - accuracy: 0.7484\n",
      "Epoch 3/20\n",
      "469/469 [==============================] - 1s 1ms/step - loss: 0.6159 - accuracy: 0.7877\n",
      "Epoch 4/20\n",
      "469/469 [==============================] - 1s 1ms/step - loss: 0.5596 - accuracy: 0.8084\n",
      "Epoch 5/20\n",
      "469/469 [==============================] - 1s 1ms/step - loss: 0.5250 - accuracy: 0.8189\n",
      "Epoch 6/20\n",
      "469/469 [==============================] - 0s 1ms/step - loss: 0.5016 - accuracy: 0.8271\n",
      "Epoch 7/20\n",
      "469/469 [==============================] - 0s 1ms/step - loss: 0.4842 - accuracy: 0.8319\n",
      "Epoch 8/20\n",
      "469/469 [==============================] - 0s 976us/step - loss: 0.4713 - accuracy: 0.8361\n",
      "Epoch 9/20\n",
      "469/469 [==============================] - 0s 1ms/step - loss: 0.4598 - accuracy: 0.8403\n",
      "Epoch 10/20\n",
      "469/469 [==============================] - 0s 1ms/step - loss: 0.4500 - accuracy: 0.8433\n",
      "Epoch 11/20\n",
      "469/469 [==============================] - 0s 1ms/step - loss: 0.4418 - accuracy: 0.8457\n",
      "Epoch 12/20\n",
      "469/469 [==============================] - 0s 1ms/step - loss: 0.4344 - accuracy: 0.8488\n",
      "Epoch 13/20\n",
      "469/469 [==============================] - 0s 1ms/step - loss: 0.4280 - accuracy: 0.8498\n",
      "Epoch 14/20\n",
      "469/469 [==============================] - 0s 1000us/step - loss: 0.4231 - accuracy: 0.8525\n",
      "Epoch 15/20\n",
      "469/469 [==============================] - 0s 1ms/step - loss: 0.4174 - accuracy: 0.8546\n",
      "Epoch 16/20\n",
      "469/469 [==============================] - 0s 1ms/step - loss: 0.4117 - accuracy: 0.8565\n",
      "Epoch 17/20\n",
      "469/469 [==============================] - 0s 1ms/step - loss: 0.4083 - accuracy: 0.8577\n",
      "Epoch 18/20\n",
      "469/469 [==============================] - 0s 1ms/step - loss: 0.4035 - accuracy: 0.8594\n",
      "Epoch 19/20\n",
      "469/469 [==============================] - 0s 1ms/step - loss: 0.4003 - accuracy: 0.8604\n",
      "Epoch 20/20\n",
      "469/469 [==============================] - 0s 1ms/step - loss: 0.3969 - accuracy: 0.8610\n"
     ]
    }
   ],
   "source": [
    "model = Sequential()\n",
    "model.add(Dense(32,input_shape=[input_dim],activation='relu'))\n",
    "model.add(Dense(32,activation='relu'))\n",
    "model.add(Dense(10, activation='softmax'))\n",
    "model.compile(optimizer='sgd', loss='categorical_crossentropy',\n",
    "              metrics=['accuracy'])\n",
    "history = model.fit(X_train, Y_train, batch_size=128, epochs=20, verbose=1)"
   ]
  },
  {
   "cell_type": "code",
   "execution_count": 5,
   "id": "4f5d9a99",
   "metadata": {},
   "outputs": [
    {
     "data": {
      "text/plain": [
       "<AxesSubplot:>"
      ]
     },
     "execution_count": 5,
     "metadata": {},
     "output_type": "execute_result"
    },
    {
     "data": {
      "image/png": "[encoded data removed]",
      "text/plain": [
       "<Figure size 432x288 with 1 Axes>"
      ]
     },
     "metadata": {
      "needs_background": "light"
     },
     "output_type": "display_data"
    }
   ],
   "source": [
    "history1 = pd.DataFrame(history.history)\n",
    "history1.loss.plot()"
   ]
  },
  {
   "cell_type": "code",
   "execution_count": 6,
   "id": "992eaacd",
   "metadata": {},
   "outputs": [
    {
     "data": {
      "text/plain": [
       "<AxesSubplot:>"
      ]
     },
     "execution_count": 6,
     "metadata": {},
     "output_type": "execute_result"
    },
    {
     "data": {
      "image/png": "[encoded data removed]",
      "text/plain": [
       "<Figure size 432x288 with 1 Axes>"
      ]
     },
     "metadata": {
      "needs_background": "light"
     },
     "output_type": "display_data"
    }
   ],
   "source": [
    "history1.accuracy.plot()"
   ]
  },
  {
   "cell_type": "markdown",
   "id": "ba5e7a8b",
   "metadata": {},
   "source": [
    "As you can see the loss steadily decreased and the accuracy steadily increased.  The training accuracy is 0.8574.  Looking at the test accuracy ..."
   ]
  },
  {
   "cell_type": "code",
   "execution_count": 7,
   "id": "ce70d789",
   "metadata": {},
   "outputs": [
    {
     "name": "stdout",
     "output_type": "stream",
     "text": [
      "Test accuracy: 0.8482000231742859\n"
     ]
    }
   ],
   "source": [
    "score = model.evaluate(X_test, Y_test, verbose=0)\n",
    "print('Test accuracy:', score[1])"
   ]
  },
  {
   "cell_type": "markdown",
   "id": "558a471a",
   "metadata": {},
   "source": [
    "There is not much difference between the train accuracy and the test accuracy, which suggests no overfitting\n",
    "\n",
    "Testing 3 hidden layers..."
   ]
  },
  {
   "cell_type": "code",
   "execution_count": 8,
   "id": "c1c8e428",
   "metadata": {},
   "outputs": [
    {
     "name": "stdout",
     "output_type": "stream",
     "text": [
      "Epoch 1/20\n",
      "469/469 [==============================] - 1s 1ms/step - loss: 1.4081 - accuracy: 0.5269\n",
      "Epoch 2/20\n",
      "469/469 [==============================] - 1s 1ms/step - loss: 0.7567 - accuracy: 0.7280\n",
      "Epoch 3/20\n",
      "469/469 [==============================] - 1s 1ms/step - loss: 0.6291 - accuracy: 0.7815\n",
      "Epoch 4/20\n",
      "469/469 [==============================] - 1s 1ms/step - loss: 0.5679 - accuracy: 0.8016\n",
      "Epoch 5/20\n",
      "469/469 [==============================] - 1s 1ms/step - loss: 0.5326 - accuracy: 0.8141\n",
      "Epoch 6/20\n",
      "469/469 [==============================] - 1s 1ms/step - loss: 0.5090 - accuracy: 0.8226\n",
      "Epoch 7/20\n",
      "469/469 [==============================] - 1s 1ms/step - loss: 0.4913 - accuracy: 0.8284\n",
      "Epoch 8/20\n",
      "469/469 [==============================] - 1s 1ms/step - loss: 0.4767 - accuracy: 0.8329\n",
      "Epoch 9/20\n",
      "469/469 [==============================] - 1s 1ms/step - loss: 0.4643 - accuracy: 0.8369\n",
      "Epoch 10/20\n",
      "469/469 [==============================] - 1s 1ms/step - loss: 0.4536 - accuracy: 0.8400\n",
      "Epoch 11/20\n",
      "469/469 [==============================] - 1s 1ms/step - loss: 0.4453 - accuracy: 0.8445\n",
      "Epoch 12/20\n",
      "469/469 [==============================] - 1s 1ms/step - loss: 0.4361 - accuracy: 0.8473\n",
      "Epoch 13/20\n",
      "469/469 [==============================] - 1s 1ms/step - loss: 0.4293 - accuracy: 0.8500\n",
      "Epoch 14/20\n",
      "469/469 [==============================] - 1s 1ms/step - loss: 0.4227 - accuracy: 0.8524\n",
      "Epoch 15/20\n",
      "469/469 [==============================] - 1s 1ms/step - loss: 0.4176 - accuracy: 0.8535\n",
      "Epoch 16/20\n",
      "469/469 [==============================] - 1s 1ms/step - loss: 0.4119 - accuracy: 0.8555\n",
      "Epoch 17/20\n",
      "469/469 [==============================] - 1s 1ms/step - loss: 0.4065 - accuracy: 0.8573\n",
      "Epoch 18/20\n",
      "469/469 [==============================] - 1s 1ms/step - loss: 0.4023 - accuracy: 0.8583\n",
      "Epoch 19/20\n",
      "469/469 [==============================] - 1s 1ms/step - loss: 0.3978 - accuracy: 0.8597\n",
      "Epoch 20/20\n",
      "469/469 [==============================] - 0s 1ms/step - loss: 0.3934 - accuracy: 0.8613\n"
     ]
    }
   ],
   "source": [
    "model = Sequential()\n",
    "model.add(Dense(32,input_shape=[input_dim],activation='relu'))\n",
    "model.add(Dense(32,activation='relu'))\n",
    "model.add(Dense(32,activation='relu'))\n",
    "model.add(Dense(10, activation='softmax'))\n",
    "model.compile(optimizer='sgd', loss='categorical_crossentropy',\n",
    "              metrics=['accuracy'])\n",
    "history = model.fit(X_train, Y_train, batch_size=128, epochs=20, verbose=1)"
   ]
  },
  {
   "cell_type": "code",
   "execution_count": 9,
   "id": "12bc7f84",
   "metadata": {},
   "outputs": [],
   "source": [
    "history2 = pd.DataFrame(history.history)\n"
   ]
  },
  {
   "cell_type": "code",
   "execution_count": 10,
   "id": "1ffbb6f8",
   "metadata": {},
   "outputs": [
    {
     "data": {
      "text/plain": [
       "<AxesSubplot:>"
      ]
     },
     "execution_count": 10,
     "metadata": {},
     "output_type": "execute_result"
    },
    {
     "data": {
      "image/png": "[encoded data removed]",
      "text/plain": [
       "<Figure size 432x288 with 1 Axes>"
      ]
     },
     "metadata": {
      "needs_background": "light"
     },
     "output_type": "display_data"
    }
   ],
   "source": [
    "history1.loss.plot(color='blue')\n",
    "history2.loss.plot(color='red')"
   ]
  },
  {
   "cell_type": "code",
   "execution_count": 11,
   "id": "3d3a8329",
   "metadata": {},
   "outputs": [
    {
     "data": {
      "text/plain": [
       "<AxesSubplot:>"
      ]
     },
     "execution_count": 11,
     "metadata": {},
     "output_type": "execute_result"
    },
    {
     "data": {
      "image/png": "[encoded data removed]",
      "text/plain": [
       "<Figure size 432x288 with 1 Axes>"
      ]
     },
     "metadata": {
      "needs_background": "light"
     },
     "output_type": "display_data"
    }
   ],
   "source": [
    "history1.accuracy.plot(color='blue')\n",
    "history2.accuracy.plot(color='red')"
   ]
  },
  {
   "cell_type": "markdown",
   "id": "be203780",
   "metadata": {},
   "source": [
    "In the end the loss was slightly less and the accuracy was slightly more than with 2 layers, however the decrease in loss and increase in accuracy was slower with 3 layers.  I would say stick with two layers.  \n",
    "\n",
    "Testing 5 layers ..."
   ]
  },
  {
   "cell_type": "code",
   "execution_count": 12,
   "id": "639f8c66",
   "metadata": {},
   "outputs": [
    {
     "name": "stdout",
     "output_type": "stream",
     "text": [
      "Epoch 1/20\n",
      "469/469 [==============================] - 1s 1ms/step - loss: 1.7682 - accuracy: 0.3972: 0s - loss: 2.1394 - accu\n",
      "Epoch 2/20\n",
      "469/469 [==============================] - 1s 1ms/step - loss: 0.8364 - accuracy: 0.6734\n",
      "Epoch 3/20\n",
      "469/469 [==============================] - 1s 1ms/step - loss: 0.7024 - accuracy: 0.7350\n",
      "Epoch 4/20\n",
      "469/469 [==============================] - 1s 1ms/step - loss: 0.6188 - accuracy: 0.7700\n",
      "Epoch 5/20\n",
      "469/469 [==============================] - 1s 1ms/step - loss: 0.5697 - accuracy: 0.7908\n",
      "Epoch 6/20\n",
      "469/469 [==============================] - 1s 1ms/step - loss: 0.5331 - accuracy: 0.8088\n",
      "Epoch 7/20\n",
      "469/469 [==============================] - 1s 1ms/step - loss: 0.5032 - accuracy: 0.8231\n",
      "Epoch 8/20\n",
      "469/469 [==============================] - 1s 1ms/step - loss: 0.4842 - accuracy: 0.8292\n",
      "Epoch 9/20\n",
      "469/469 [==============================] - 1s 1ms/step - loss: 0.4713 - accuracy: 0.8326\n",
      "Epoch 10/20\n",
      "469/469 [==============================] - 1s 1ms/step - loss: 0.4556 - accuracy: 0.8378\n",
      "Epoch 11/20\n",
      "469/469 [==============================] - 1s 1ms/step - loss: 0.4426 - accuracy: 0.8436\n",
      "Epoch 12/20\n",
      "469/469 [==============================] - 0s 1ms/step - loss: 0.4313 - accuracy: 0.8468\n",
      "Epoch 13/20\n",
      "469/469 [==============================] - 0s 985us/step - loss: 0.4268 - accuracy: 0.8484\n",
      "Epoch 14/20\n",
      "469/469 [==============================] - 0s 1ms/step - loss: 0.4167 - accuracy: 0.8515\n",
      "Epoch 15/20\n",
      "469/469 [==============================] - 0s 1ms/step - loss: 0.4108 - accuracy: 0.8545\n",
      "Epoch 16/20\n",
      "469/469 [==============================] - 0s 1ms/step - loss: 0.4000 - accuracy: 0.8571\n",
      "Epoch 17/20\n",
      "469/469 [==============================] - 0s 1ms/step - loss: 0.3951 - accuracy: 0.8589\n",
      "Epoch 18/20\n",
      "469/469 [==============================] - 1s 1ms/step - loss: 0.3922 - accuracy: 0.8602\n",
      "Epoch 19/20\n",
      "469/469 [==============================] - 1s 1ms/step - loss: 0.3851 - accuracy: 0.8617\n",
      "Epoch 20/20\n",
      "469/469 [==============================] - 1s 1ms/step - loss: 0.3794 - accuracy: 0.8637\n"
     ]
    }
   ],
   "source": [
    "model = Sequential()\n",
    "model.add(Dense(32,input_shape=[input_dim],activation='relu'))\n",
    "model.add(Dense(32,activation='relu'))\n",
    "model.add(Dense(32,activation='relu'))\n",
    "model.add(Dense(32,activation='relu'))\n",
    "model.add(Dense(32,activation='relu'))\n",
    "model.add(Dense(10, activation='softmax'))\n",
    "model.compile(optimizer='sgd', loss='categorical_crossentropy',\n",
    "              metrics=['accuracy'])\n",
    "history = model.fit(X_train, Y_train, batch_size=128, epochs=20, verbose=1)"
   ]
  },
  {
   "cell_type": "code",
   "execution_count": 13,
   "id": "429db0d1",
   "metadata": {},
   "outputs": [],
   "source": [
    "history3 = pd.DataFrame(history.history)"
   ]
  },
  {
   "cell_type": "code",
   "execution_count": 14,
   "id": "36fc0743",
   "metadata": {},
   "outputs": [
    {
     "data": {
      "text/plain": [
       "<AxesSubplot:>"
      ]
     },
     "execution_count": 14,
     "metadata": {},
     "output_type": "execute_result"
    },
    {
     "data": {
      "image/png": "[encoded data removed]",
      "text/plain": [
       "<Figure size 432x288 with 1 Axes>"
      ]
     },
     "metadata": {
      "needs_background": "light"
     },
     "output_type": "display_data"
    }
   ],
   "source": [
    "history1.loss.plot(color='blue')\n",
    "history2.loss.plot(color='red')\n",
    "history3.loss.plot(color='green')"
   ]
  },
  {
   "cell_type": "markdown",
   "id": "e78f961b",
   "metadata": {},
   "source": [
    "Again the loss eventualy is lower but it is slower to reach that.  From comparing these graphs, I chose two hidden units.\n",
    "\n",
    "## Adjusting the number of nodes\n",
    "\n",
    "First I'm going to start with the same number of nodes at each layer, doubling each time.  16, 32, 64 ... Then when I chose the best number of  nodes, I'll play around with increasing or decreasing the number of nodes for the first layer.\n"
   ]
  },
  {
   "cell_type": "code",
   "execution_count": 15,
   "id": "77b72643",
   "metadata": {},
   "outputs": [
    {
     "name": "stdout",
     "output_type": "stream",
     "text": [
      "Epoch 1/20\n",
      "469/469 [==============================] - 1s 1ms/step - loss: 1.3902 - accuracy: 0.5541\n",
      "Epoch 2/20\n",
      "469/469 [==============================] - 1s 1ms/step - loss: 0.7569 - accuracy: 0.7406\n",
      "Epoch 3/20\n",
      "469/469 [==============================] - 1s 1ms/step - loss: 0.6415 - accuracy: 0.7815\n",
      "Epoch 4/20\n",
      "469/469 [==============================] - 1s 1ms/step - loss: 0.5830 - accuracy: 0.7991\n",
      "Epoch 5/20\n",
      "469/469 [==============================] - 1s 1ms/step - loss: 0.5461 - accuracy: 0.8106\n",
      "Epoch 6/20\n",
      "469/469 [==============================] - ETA: 0s - loss: 0.5213 - accuracy: 0.81 - 0s 1ms/step - loss: 0.5211 - accuracy: 0.8170\n",
      "Epoch 7/20\n",
      "469/469 [==============================] - 1s 1ms/step - loss: 0.5026 - accuracy: 0.8236\n",
      "Epoch 8/20\n",
      "469/469 [==============================] - 1s 1ms/step - loss: 0.4889 - accuracy: 0.8278\n",
      "Epoch 9/20\n",
      "469/469 [==============================] - 1s 1ms/step - loss: 0.4779 - accuracy: 0.8320\n",
      "Epoch 10/20\n",
      "469/469 [==============================] - 1s 1ms/step - loss: 0.4684 - accuracy: 0.8349\n",
      "Epoch 11/20\n",
      "469/469 [==============================] - 1s 1ms/step - loss: 0.4622 - accuracy: 0.8381\n",
      "Epoch 12/20\n",
      "469/469 [==============================] - 1s 1ms/step - loss: 0.4538 - accuracy: 0.8413\n",
      "Epoch 13/20\n",
      "469/469 [==============================] - 1s 1ms/step - loss: 0.4479 - accuracy: 0.8429\n",
      "Epoch 14/20\n",
      "469/469 [==============================] - 1s 1ms/step - loss: 0.4441 - accuracy: 0.8450\n",
      "Epoch 15/20\n",
      "469/469 [==============================] - 1s 1ms/step - loss: 0.4389 - accuracy: 0.8469\n",
      "Epoch 16/20\n",
      "469/469 [==============================] - 1s 1ms/step - loss: 0.4342 - accuracy: 0.8479\n",
      "Epoch 17/20\n",
      "469/469 [==============================] - 1s 1ms/step - loss: 0.4300 - accuracy: 0.8499\n",
      "Epoch 18/20\n",
      "469/469 [==============================] - 1s 1ms/step - loss: 0.4266 - accuracy: 0.8510\n",
      "Epoch 19/20\n",
      "469/469 [==============================] - 1s 1ms/step - loss: 0.4222 - accuracy: 0.8536\n",
      "Epoch 20/20\n",
      "469/469 [==============================] - 1s 1ms/step - loss: 0.4194 - accuracy: 0.8543\n"
     ]
    }
   ],
   "source": [
    "model = Sequential()\n",
    "model.add(Dense(16,input_shape=[input_dim],activation='relu'))\n",
    "model.add(Dense(16,activation='relu'))\n",
    "model.add(Dense(10, activation='softmax'))\n",
    "model.compile(optimizer='sgd', loss='categorical_crossentropy',\n",
    "              metrics=['accuracy'])\n",
    "history = model.fit(X_train, Y_train, batch_size=128, epochs=20, verbose=1)"
   ]
  },
  {
   "cell_type": "code",
   "execution_count": 16,
   "id": "295855a3",
   "metadata": {},
   "outputs": [],
   "source": [
    "history1 = pd.DataFrame(history.history)"
   ]
  },
  {
   "cell_type": "code",
   "execution_count": 17,
   "id": "95c71df0",
   "metadata": {},
   "outputs": [
    {
     "data": {
      "text/plain": [
       "<AxesSubplot:>"
      ]
     },
     "execution_count": 17,
     "metadata": {},
     "output_type": "execute_result"
    },
    {
     "data": {
      "image/png": "[encoded data removed]",
      "text/plain": [
       "<Figure size 432x288 with 1 Axes>"
      ]
     },
     "metadata": {
      "needs_background": "light"
     },
     "output_type": "display_data"
    }
   ],
   "source": [
    "history1.loss.plot(color='blue')"
   ]
  },
  {
   "cell_type": "code",
   "execution_count": 18,
   "id": "d256f7e3",
   "metadata": {},
   "outputs": [
    {
     "data": {
      "text/plain": [
       "<AxesSubplot:>"
      ]
     },
     "execution_count": 18,
     "metadata": {},
     "output_type": "execute_result"
    },
    {
     "data": {
      "image/png": "[encoded data removed]",
      "text/plain": [
       "<Figure size 432x288 with 1 Axes>"
      ]
     },
     "metadata": {
      "needs_background": "light"
     },
     "output_type": "display_data"
    }
   ],
   "source": [
    "history1.accuracy.plot(color='blue')"
   ]
  },
  {
   "cell_type": "markdown",
   "id": "c9da1ea6",
   "metadata": {},
   "source": [
    "Both improved steadily.  Looking at the test set accuracy."
   ]
  },
  {
   "cell_type": "code",
   "execution_count": 19,
   "id": "6c0ab960",
   "metadata": {},
   "outputs": [
    {
     "name": "stdout",
     "output_type": "stream",
     "text": [
      "Test accuracy: 0.836899995803833\n"
     ]
    }
   ],
   "source": [
    "score = model.evaluate(X_test, Y_test, verbose=0)\n",
    "print('Test accuracy:', score[1])"
   ]
  },
  {
   "cell_type": "markdown",
   "id": "d0c5a28f",
   "metadata": {},
   "source": [
    "Test accuracy is slightly lower, no overfitting or underfitting apparent.  Going to try 32 nodes."
   ]
  },
  {
   "cell_type": "code",
   "execution_count": 20,
   "id": "9d1a1d81",
   "metadata": {},
   "outputs": [
    {
     "name": "stdout",
     "output_type": "stream",
     "text": [
      "Epoch 1/20\n",
      "469/469 [==============================] - 1s 1ms/step - loss: 1.3089 - accuracy: 0.5938\n",
      "Epoch 2/20\n",
      "469/469 [==============================] - 1s 1ms/step - loss: 0.7158 - accuracy: 0.7590\n",
      "Epoch 3/20\n",
      "469/469 [==============================] - 0s 955us/step - loss: 0.6139 - accuracy: 0.7904\n",
      "Epoch 4/20\n",
      "469/469 [==============================] - 0s 1ms/step - loss: 0.5614 - accuracy: 0.8073\n",
      "Epoch 5/20\n",
      "469/469 [==============================] - 0s 1ms/step - loss: 0.5298 - accuracy: 0.8160\n",
      "Epoch 6/20\n",
      "469/469 [==============================] - 0s 991us/step - loss: 0.5076 - accuracy: 0.8236\n",
      "Epoch 7/20\n",
      "469/469 [==============================] - 0s 974us/step - loss: 0.4914 - accuracy: 0.8289\n",
      "Epoch 8/20\n",
      "469/469 [==============================] - 0s 957us/step - loss: 0.4776 - accuracy: 0.8335\n",
      "Epoch 9/20\n",
      "469/469 [==============================] - 0s 987us/step - loss: 0.4665 - accuracy: 0.8368\n",
      "Epoch 10/20\n",
      "469/469 [==============================] - 0s 985us/step - loss: 0.4566 - accuracy: 0.8406\n",
      "Epoch 11/20\n",
      "469/469 [==============================] - 0s 949us/step - loss: 0.4484 - accuracy: 0.8430\n",
      "Epoch 12/20\n",
      "469/469 [==============================] - 0s 947us/step - loss: 0.4403 - accuracy: 0.8450\n",
      "Epoch 13/20\n",
      "469/469 [==============================] - 1s 1ms/step - loss: 0.4338 - accuracy: 0.8468\n",
      "Epoch 14/20\n",
      "469/469 [==============================] - 1s 1ms/step - loss: 0.4279 - accuracy: 0.8503\n",
      "Epoch 15/20\n",
      "469/469 [==============================] - 0s 1ms/step - loss: 0.4227 - accuracy: 0.8524\n",
      "Epoch 16/20\n",
      "469/469 [==============================] - 0s 957us/step - loss: 0.4183 - accuracy: 0.8537\n",
      "Epoch 17/20\n",
      "469/469 [==============================] - 0s 994us/step - loss: 0.4128 - accuracy: 0.8554\n",
      "Epoch 18/20\n",
      "469/469 [==============================] - 0s 994us/step - loss: 0.4093 - accuracy: 0.8568\n",
      "Epoch 19/20\n",
      "469/469 [==============================] - 0s 1ms/step - loss: 0.4047 - accuracy: 0.8583\n",
      "Epoch 20/20\n",
      "469/469 [==============================] - 0s 964us/step - loss: 0.4016 - accuracy: 0.8593\n"
     ]
    }
   ],
   "source": [
    "model = Sequential()\n",
    "model.add(Dense(32,input_shape=[input_dim],activation='relu'))\n",
    "model.add(Dense(32,activation='relu'))\n",
    "model.add(Dense(10, activation='softmax'))\n",
    "model.compile(optimizer='sgd', loss='categorical_crossentropy',\n",
    "              metrics=['accuracy'])\n",
    "history = model.fit(X_train, Y_train, batch_size=128, epochs=20, verbose=1)"
   ]
  },
  {
   "cell_type": "code",
   "execution_count": 21,
   "id": "c7c46e50",
   "metadata": {},
   "outputs": [],
   "source": [
    "history2 = pd.DataFrame(history.history)"
   ]
  },
  {
   "cell_type": "code",
   "execution_count": 23,
   "id": "a0d5171b",
   "metadata": {},
   "outputs": [
    {
     "data": {
      "text/plain": [
       "<AxesSubplot:>"
      ]
     },
     "execution_count": 23,
     "metadata": {},
     "output_type": "execute_result"
    },
    {
     "data": {
      "image/png": "[encoded data removed]",
      "text/plain": [
       "<Figure size 432x288 with 1 Axes>"
      ]
     },
     "metadata": {
      "needs_background": "light"
     },
     "output_type": "display_data"
    }
   ],
   "source": [
    "history1.loss.plot(color='blue')\n",
    "history2.loss.plot(color='red')"
   ]
  },
  {
   "cell_type": "code",
   "execution_count": 24,
   "id": "f070f830",
   "metadata": {},
   "outputs": [
    {
     "data": {
      "text/plain": [
       "<AxesSubplot:>"
      ]
     },
     "execution_count": 24,
     "metadata": {},
     "output_type": "execute_result"
    },
    {
     "data": {
      "image/png": "[encoded data removed]",
      "text/plain": [
       "<Figure size 432x288 with 1 Axes>"
      ]
     },
     "metadata": {
      "needs_background": "light"
     },
     "output_type": "display_data"
    }
   ],
   "source": [
    "history1.accuracy.plot(color='blue')\n",
    "history2.accuracy.plot(color='red')"
   ]
  },
  {
   "cell_type": "markdown",
   "id": "198251a3",
   "metadata": {},
   "source": [
    "32 nodes was an imporovement as can be seen by the graph, going to try 64."
   ]
  },
  {
   "cell_type": "code",
   "execution_count": 25,
   "id": "1679cc73",
   "metadata": {},
   "outputs": [
    {
     "name": "stdout",
     "output_type": "stream",
     "text": [
      "Epoch 1/20\n",
      "469/469 [==============================] - 1s 1ms/step - loss: 1.1836 - accuracy: 0.6164\n",
      "Epoch 2/20\n",
      "469/469 [==============================] - 1s 1ms/step - loss: 0.6915 - accuracy: 0.7630\n",
      "Epoch 3/20\n",
      "469/469 [==============================] - 1s 1ms/step - loss: 0.5947 - accuracy: 0.7975\n",
      "Epoch 4/20\n",
      "469/469 [==============================] - 1s 1ms/step - loss: 0.5438 - accuracy: 0.8145\n",
      "Epoch 5/20\n",
      "469/469 [==============================] - 1s 1ms/step - loss: 0.5133 - accuracy: 0.8227\n",
      "Epoch 6/20\n",
      "469/469 [==============================] - 1s 1ms/step - loss: 0.4934 - accuracy: 0.8286\n",
      "Epoch 7/20\n",
      "469/469 [==============================] - 1s 1ms/step - loss: 0.4771 - accuracy: 0.8336\n",
      "Epoch 8/20\n",
      "469/469 [==============================] - 1s 1ms/step - loss: 0.4645 - accuracy: 0.8385\n",
      "Epoch 9/20\n",
      "469/469 [==============================] - 1s 1ms/step - loss: 0.4551 - accuracy: 0.8404\n",
      "Epoch 10/20\n",
      "469/469 [==============================] - 1s 1ms/step - loss: 0.4457 - accuracy: 0.8443\n",
      "Epoch 11/20\n",
      "469/469 [==============================] - 1s 1ms/step - loss: 0.4375 - accuracy: 0.8477\n",
      "Epoch 12/20\n",
      "469/469 [==============================] - 1s 1ms/step - loss: 0.4294 - accuracy: 0.8514\n",
      "Epoch 13/20\n",
      "469/469 [==============================] - 1s 1ms/step - loss: 0.4232 - accuracy: 0.8516\n",
      "Epoch 14/20\n",
      "469/469 [==============================] - 1s 1ms/step - loss: 0.4179 - accuracy: 0.8541\n",
      "Epoch 15/20\n",
      "469/469 [==============================] - 1s 1ms/step - loss: 0.4117 - accuracy: 0.8557\n",
      "Epoch 16/20\n",
      "469/469 [==============================] - 1s 1ms/step - loss: 0.4059 - accuracy: 0.8583\n",
      "Epoch 17/20\n",
      "469/469 [==============================] - 1s 1ms/step - loss: 0.4021 - accuracy: 0.8607\n",
      "Epoch 18/20\n",
      "469/469 [==============================] - 1s 1ms/step - loss: 0.3976 - accuracy: 0.8618\n",
      "Epoch 19/20\n",
      "469/469 [==============================] - 1s 1ms/step - loss: 0.3930 - accuracy: 0.8642\n",
      "Epoch 20/20\n",
      "469/469 [==============================] - 1s 1ms/step - loss: 0.3890 - accuracy: 0.8641\n"
     ]
    }
   ],
   "source": [
    "model = Sequential()\n",
    "model.add(Dense(64,input_shape=[input_dim],activation='relu'))\n",
    "model.add(Dense(64,activation='relu'))\n",
    "model.add(Dense(10, activation='softmax'))\n",
    "model.compile(optimizer='sgd', loss='categorical_crossentropy',\n",
    "              metrics=['accuracy'])\n",
    "history = model.fit(X_train, Y_train, batch_size=128, epochs=20, verbose=1)"
   ]
  },
  {
   "cell_type": "code",
   "execution_count": 26,
   "id": "e9fa80ba",
   "metadata": {},
   "outputs": [],
   "source": [
    "history3 = pd.DataFrame(history.history)"
   ]
  },
  {
   "cell_type": "code",
   "execution_count": 27,
   "id": "fb6d99f5",
   "metadata": {},
   "outputs": [
    {
     "data": {
      "text/plain": [
       "<AxesSubplot:>"
      ]
     },
     "execution_count": 27,
     "metadata": {},
     "output_type": "execute_result"
    },
    {
     "data": {
      "image/png": "[encoded data removed]",
      "text/plain": [
       "<Figure size 432x288 with 1 Axes>"
      ]
     },
     "metadata": {
      "needs_background": "light"
     },
     "output_type": "display_data"
    }
   ],
   "source": [
    "history1.loss.plot(color='blue')\n",
    "history2.loss.plot(color='red')\n",
    "history3.loss.plot(color='green')"
   ]
  },
  {
   "cell_type": "code",
   "execution_count": 28,
   "id": "569deadc",
   "metadata": {},
   "outputs": [
    {
     "data": {
      "text/plain": [
       "<AxesSubplot:>"
      ]
     },
     "execution_count": 28,
     "metadata": {},
     "output_type": "execute_result"
    },
    {
     "data": {
      "image/png": "[encoded data removed]",
      "text/plain": [
       "<Figure size 432x288 with 1 Axes>"
      ]
     },
     "metadata": {
      "needs_background": "light"
     },
     "output_type": "display_data"
    }
   ],
   "source": [
    "history1.accuracy.plot(color='blue')\n",
    "history2.accuracy.plot(color='red')\n",
    "history3.accuracy.plot(color='green')"
   ]
  },
  {
   "cell_type": "markdown",
   "id": "b8ae9536",
   "metadata": {},
   "source": [
    "Again, an improvement.  Checking the accuracy on the test set."
   ]
  },
  {
   "cell_type": "code",
   "execution_count": 29,
   "id": "0b31ff2c",
   "metadata": {},
   "outputs": [
    {
     "name": "stdout",
     "output_type": "stream",
     "text": [
      "Test accuracy: 0.8416000008583069\n"
     ]
    }
   ],
   "source": [
    "score = model.evaluate(X_test, Y_test, verbose=0)\n",
    "print('Test accuracy:', score[1])"
   ]
  },
  {
   "cell_type": "markdown",
   "id": "e309c21e",
   "metadata": {},
   "source": [
    "The accuracy increased although the difference between the training test and test set accuracy has also increased.  I do not feel there is overfitting yet, but I will watch for this.  Trying 128 nodes."
   ]
  },
  {
   "cell_type": "code",
   "execution_count": 30,
   "id": "8ee31157",
   "metadata": {},
   "outputs": [
    {
     "name": "stdout",
     "output_type": "stream",
     "text": [
      "Epoch 1/20\n",
      "469/469 [==============================] - 1s 2ms/step - loss: 1.1439 - accuracy: 0.6477\n",
      "Epoch 2/20\n",
      "469/469 [==============================] - 1s 2ms/step - loss: 0.6647 - accuracy: 0.7792\n",
      "Epoch 3/20\n",
      "469/469 [==============================] - 1s 2ms/step - loss: 0.5742 - accuracy: 0.8074\n",
      "Epoch 4/20\n",
      "469/469 [==============================] - 1s 2ms/step - loss: 0.5287 - accuracy: 0.8196\n",
      "Epoch 5/20\n",
      "469/469 [==============================] - 1s 2ms/step - loss: 0.5001 - accuracy: 0.8280\n",
      "Epoch 6/20\n",
      "469/469 [==============================] - 1s 2ms/step - loss: 0.4796 - accuracy: 0.8339\n",
      "Epoch 7/20\n",
      "469/469 [==============================] - 1s 1ms/step - loss: 0.4650 - accuracy: 0.8389\n",
      "Epoch 8/20\n",
      "469/469 [==============================] - 1s 1ms/step - loss: 0.4528 - accuracy: 0.8431\n",
      "Epoch 9/20\n",
      "469/469 [==============================] - 1s 2ms/step - loss: 0.4419 - accuracy: 0.8457\n",
      "Epoch 10/20\n",
      "469/469 [==============================] - 1s 1ms/step - loss: 0.4336 - accuracy: 0.8494\n",
      "Epoch 11/20\n",
      "469/469 [==============================] - 1s 1ms/step - loss: 0.4263 - accuracy: 0.8519\n",
      "Epoch 12/20\n",
      "469/469 [==============================] - 1s 1ms/step - loss: 0.4195 - accuracy: 0.8545\n",
      "Epoch 13/20\n",
      "469/469 [==============================] - 1s 1ms/step - loss: 0.4144 - accuracy: 0.8554\n",
      "Epoch 14/20\n",
      "469/469 [==============================] - 1s 1ms/step - loss: 0.4079 - accuracy: 0.8572\n",
      "Epoch 15/20\n",
      "469/469 [==============================] - 1s 1ms/step - loss: 0.4031 - accuracy: 0.8598\n",
      "Epoch 16/20\n",
      "469/469 [==============================] - 1s 1ms/step - loss: 0.3987 - accuracy: 0.8608: 0s - loss: 0\n",
      "Epoch 17/20\n",
      "469/469 [==============================] - 1s 1ms/step - loss: 0.3939 - accuracy: 0.8623\n",
      "Epoch 18/20\n",
      "469/469 [==============================] - 1s 1ms/step - loss: 0.3887 - accuracy: 0.8647\n",
      "Epoch 19/20\n",
      "469/469 [==============================] - 1s 1ms/step - loss: 0.3854 - accuracy: 0.8659\n",
      "Epoch 20/20\n",
      "469/469 [==============================] - 1s 1ms/step - loss: 0.3815 - accuracy: 0.8667\n"
     ]
    }
   ],
   "source": [
    "model = Sequential()\n",
    "model.add(Dense(128,input_shape=[input_dim],activation='relu'))\n",
    "model.add(Dense(128,activation='relu'))\n",
    "model.add(Dense(10, activation='softmax'))\n",
    "model.compile(optimizer='sgd', loss='categorical_crossentropy',\n",
    "              metrics=['accuracy'])\n",
    "history = model.fit(X_train, Y_train, batch_size=128, epochs=20, verbose=1)"
   ]
  },
  {
   "cell_type": "code",
   "execution_count": 31,
   "id": "614e5a5b",
   "metadata": {},
   "outputs": [],
   "source": [
    "history4 = pd.DataFrame(history.history)"
   ]
  },
  {
   "cell_type": "code",
   "execution_count": 32,
   "id": "c9f1b6f2",
   "metadata": {},
   "outputs": [
    {
     "data": {
      "text/plain": [
       "<AxesSubplot:>"
      ]
     },
     "execution_count": 32,
     "metadata": {},
     "output_type": "execute_result"
    },
    {
     "data": {
      "image/png": "[encoded data removed]",
      "text/plain": [
       "<Figure size 432x288 with 1 Axes>"
      ]
     },
     "metadata": {
      "needs_background": "light"
     },
     "output_type": "display_data"
    }
   ],
   "source": [
    "history1.loss.plot(color='blue')\n",
    "history2.loss.plot(color='red')\n",
    "history3.loss.plot(color='green')\n",
    "history4.loss.plot(color='black')"
   ]
  },
  {
   "cell_type": "code",
   "execution_count": 33,
   "id": "4c9af681",
   "metadata": {},
   "outputs": [
    {
     "data": {
      "text/plain": [
       "<AxesSubplot:>"
      ]
     },
     "execution_count": 33,
     "metadata": {},
     "output_type": "execute_result"
    },
    {
     "data": {
      "image/png": "[encoded data removed]",
      "text/plain": [
       "<Figure size 432x288 with 1 Axes>"
      ]
     },
     "metadata": {
      "needs_background": "light"
     },
     "output_type": "display_data"
    }
   ],
   "source": [
    "history1.accuracy.plot(color='blue')\n",
    "history2.accuracy.plot(color='red')\n",
    "history3.accuracy.plot(color='green')\n",
    "history4.accuracy.plot(color='black')"
   ]
  },
  {
   "cell_type": "markdown",
   "id": "fe5da99f",
   "metadata": {},
   "source": [
    "The increase in accuracy and decrease in loss seem to be settling down.  Testing the accuracy on the test set..."
   ]
  },
  {
   "cell_type": "code",
   "execution_count": 34,
   "id": "b2715c5f",
   "metadata": {},
   "outputs": [
    {
     "name": "stdout",
     "output_type": "stream",
     "text": [
      "Test accuracy: 0.8485000133514404\n"
     ]
    }
   ],
   "source": [
    "score = model.evaluate(X_test, Y_test, verbose=0)\n",
    "print('Test accuracy:', score[1])"
   ]
  },
  {
   "cell_type": "markdown",
   "id": "f99c2491",
   "metadata": {},
   "source": [
    "The difference between training accuracy and testing accuracy has decreased.  128 seems to be a good number for the number of nodes.  Checking 256...."
   ]
  },
  {
   "cell_type": "code",
   "execution_count": 35,
   "id": "f4eb1c7a",
   "metadata": {},
   "outputs": [
    {
     "name": "stdout",
     "output_type": "stream",
     "text": [
      "Epoch 1/20\n",
      "469/469 [==============================] - 1s 2ms/step - loss: 1.0405 - accuracy: 0.6907\n",
      "Epoch 2/20\n",
      "469/469 [==============================] - 1s 2ms/step - loss: 0.6316 - accuracy: 0.7932\n",
      "Epoch 3/20\n",
      "469/469 [==============================] - 1s 2ms/step - loss: 0.5529 - accuracy: 0.8158\n",
      "Epoch 4/20\n",
      "469/469 [==============================] - 1s 2ms/step - loss: 0.5130 - accuracy: 0.8256\n",
      "Epoch 5/20\n",
      "469/469 [==============================] - 1s 2ms/step - loss: 0.4874 - accuracy: 0.8320\n",
      "Epoch 6/20\n",
      "469/469 [==============================] - 1s 2ms/step - loss: 0.4697 - accuracy: 0.8375\n",
      "Epoch 7/20\n",
      "469/469 [==============================] - 1s 2ms/step - loss: 0.4558 - accuracy: 0.8414\n",
      "Epoch 8/20\n",
      "469/469 [==============================] - 1s 2ms/step - loss: 0.4445 - accuracy: 0.8450\n",
      "Epoch 9/20\n",
      "469/469 [==============================] - 1s 2ms/step - loss: 0.4347 - accuracy: 0.8493\n",
      "Epoch 10/20\n",
      "469/469 [==============================] - 1s 2ms/step - loss: 0.4266 - accuracy: 0.8511\n",
      "Epoch 11/20\n",
      "469/469 [==============================] - 1s 2ms/step - loss: 0.4184 - accuracy: 0.8538\n",
      "Epoch 12/20\n",
      "469/469 [==============================] - 1s 2ms/step - loss: 0.4116 - accuracy: 0.8562\n",
      "Epoch 13/20\n",
      "469/469 [==============================] - 1s 2ms/step - loss: 0.4052 - accuracy: 0.8597\n",
      "Epoch 14/20\n",
      "469/469 [==============================] - 1s 2ms/step - loss: 0.3989 - accuracy: 0.8621\n",
      "Epoch 15/20\n",
      "469/469 [==============================] - 1s 2ms/step - loss: 0.3945 - accuracy: 0.8628\n",
      "Epoch 16/20\n",
      "469/469 [==============================] - 1s 2ms/step - loss: 0.3898 - accuracy: 0.8644\n",
      "Epoch 17/20\n",
      "469/469 [==============================] - 1s 2ms/step - loss: 0.3834 - accuracy: 0.8670\n",
      "Epoch 18/20\n",
      "469/469 [==============================] - 1s 2ms/step - loss: 0.3787 - accuracy: 0.8681\n",
      "Epoch 19/20\n",
      "469/469 [==============================] - 1s 2ms/step - loss: 0.3747 - accuracy: 0.8697\n",
      "Epoch 20/20\n",
      "469/469 [==============================] - 1s 2ms/step - loss: 0.3703 - accuracy: 0.8712\n"
     ]
    }
   ],
   "source": [
    "model = Sequential()\n",
    "model.add(Dense(256,input_shape=[input_dim],activation='relu'))\n",
    "model.add(Dense(256,activation='relu'))\n",
    "model.add(Dense(10, activation='softmax'))\n",
    "model.compile(optimizer='sgd', loss='categorical_crossentropy',\n",
    "              metrics=['accuracy'])\n",
    "history = model.fit(X_train, Y_train, batch_size=128, epochs=20, verbose=1)"
   ]
  },
  {
   "cell_type": "code",
   "execution_count": 36,
   "id": "d91cee38",
   "metadata": {},
   "outputs": [],
   "source": [
    "history5 = pd.DataFrame(history.history)"
   ]
  },
  {
   "cell_type": "code",
   "execution_count": 38,
   "id": "6d5d12a7",
   "metadata": {},
   "outputs": [
    {
     "data": {
      "text/plain": [
       "<AxesSubplot:>"
      ]
     },
     "execution_count": 38,
     "metadata": {},
     "output_type": "execute_result"
    },
    {
     "data": {
      "image/png": "[encoded data removed]",
      "text/plain": [
       "<Figure size 432x288 with 1 Axes>"
      ]
     },
     "metadata": {
      "needs_background": "light"
     },
     "output_type": "display_data"
    }
   ],
   "source": [
    "history1.loss.plot(color='blue')\n",
    "history2.loss.plot(color='red')\n",
    "history3.loss.plot(color='green')\n",
    "history4.loss.plot(color='black')\n",
    "history5.loss.plot(color='cyan')"
   ]
  },
  {
   "cell_type": "code",
   "execution_count": 39,
   "id": "dbb9d867",
   "metadata": {},
   "outputs": [
    {
     "data": {
      "text/plain": [
       "<AxesSubplot:>"
      ]
     },
     "execution_count": 39,
     "metadata": {},
     "output_type": "execute_result"
    },
    {
     "data": {
      "image/png": "[encoded data removed]",
      "text/plain": [
       "<Figure size 432x288 with 1 Axes>"
      ]
     },
     "metadata": {
      "needs_background": "light"
     },
     "output_type": "display_data"
    }
   ],
   "source": [
    "history1.accuracy.plot(color='blue')\n",
    "history2.accuracy.plot(color='red')\n",
    "history3.accuracy.plot(color='green')\n",
    "history4.accuracy.plot(color='black')\n",
    "history5.accuracy.plot(color='cyan')"
   ]
  },
  {
   "cell_type": "markdown",
   "id": "abc16288",
   "metadata": {},
   "source": [
    "It still looks like the model is improving, however training time took longer.  As there is not a substantial difference in loss or accuracy I may choose 128 as the number of nodes per layer.  However, checking the test set accuracy with 256."
   ]
  },
  {
   "cell_type": "code",
   "execution_count": 40,
   "id": "56f35712",
   "metadata": {},
   "outputs": [
    {
     "name": "stdout",
     "output_type": "stream",
     "text": [
      "Test accuracy: 0.8514999747276306\n"
     ]
    }
   ],
   "source": [
    "score = model.evaluate(X_test, Y_test, verbose=0)\n",
    "print('Test accuracy:', score[1])"
   ]
  },
  {
   "cell_type": "markdown",
   "id": "f38e7e69",
   "metadata": {},
   "source": [
    "Although the accuracy has improved, there is a slight increase in the difference between training and test accuracy.  Also, given the time difference, I choose to stick with 128 nodes each layer.\n",
    "\n",
    "Next, I will keep dense layer 2 at 128 nodes and vary the number of nodes in the first layer and see if there is any change."
   ]
  },
  {
   "cell_type": "code",
   "execution_count": 48,
   "id": "ef01b41d",
   "metadata": {},
   "outputs": [],
   "source": [
    "history = []\n",
    "test_accuracy = []\n",
    "for x in [16,32,64,128,256,512,1024]:\n",
    "    model = Sequential()\n",
    "    model.add(Dense(x,input_shape=[input_dim],activation='relu'))\n",
    "    model.add(Dense(128,activation='relu'))\n",
    "    model.add(Dense(10, activation='softmax'))\n",
    "    model.compile(optimizer='sgd', loss='categorical_crossentropy',\n",
    "              metrics=['accuracy'])\n",
    "    h = model.fit(X_train, Y_train, batch_size=128, epochs=20, verbose=0)\n",
    "    history.append(h.history)\n",
    "    score = model.evaluate(X_test, Y_test, verbose=0)\n",
    "    test_accuracy.append(score[1])\n"
   ]
  },
  {
   "cell_type": "code",
   "execution_count": 49,
   "id": "4ef4d019",
   "metadata": {},
   "outputs": [
    {
     "data": {
      "text/plain": [
       "[<matplotlib.lines.Line2D at 0x166fe7d8dc0>]"
      ]
     },
     "execution_count": 49,
     "metadata": {},
     "output_type": "execute_result"
    },
    {
     "data": {
      "image/png": "[encoded data removed]",
      "text/plain": [
       "<Figure size 432x288 with 1 Axes>"
      ]
     },
     "metadata": {
      "needs_background": "light"
     },
     "output_type": "display_data"
    }
   ],
   "source": [
    "plt.plot(test_accuracy)"
   ]
  },
  {
   "cell_type": "markdown",
   "id": "5d6ea192",
   "metadata": {},
   "source": [
    "The test accuracy increased fast but then decreased.  The best values are nodes are 32 or nodes are 256 or more.  Looking at the training accuracy"
   ]
  },
  {
   "cell_type": "code",
   "execution_count": 50,
   "id": "e12817ff",
   "metadata": {},
   "outputs": [
    {
     "data": {
      "text/plain": [
       "[<matplotlib.lines.Line2D at 0x166fe9c6b50>]"
      ]
     },
     "execution_count": 50,
     "metadata": {},
     "output_type": "execute_result"
    },
    {
     "data": {
      "image/png": "[encoded data removed]",
      "text/plain": [
       "<Figure size 432x288 with 1 Axes>"
      ]
     },
     "metadata": {
      "needs_background": "light"
     },
     "output_type": "display_data"
    }
   ],
   "source": [
    "training_accuracy = [x['accuracy'][-1] for x in history]\n",
    "plt.plot(training_accuracy, color='red')\n",
    "plt.plot(test_accuracy, color='blue')"
   ]
  },
  {
   "cell_type": "markdown",
   "id": "69c91072",
   "metadata": {},
   "source": [
    "The training accuracy increases.  Looking at the difference between accuracies."
   ]
  },
  {
   "cell_type": "code",
   "execution_count": 51,
   "id": "a9a4680e",
   "metadata": {},
   "outputs": [
    {
     "data": {
      "text/plain": [
       "[<matplotlib.lines.Line2D at 0x166fea2a970>]"
      ]
     },
     "execution_count": 51,
     "metadata": {},
     "output_type": "execute_result"
    },
    {
     "data": {
      "image/png": "[encoded data removed]",
      "text/plain": [
       "<Figure size 432x288 with 1 Axes>"
      ]
     },
     "metadata": {
      "needs_background": "light"
     },
     "output_type": "display_data"
    }
   ],
   "source": [
    "plt.plot(np.array(training_accuracy)-np.array(test_accuracy))"
   ]
  },
  {
   "cell_type": "markdown",
   "id": "d98c6787",
   "metadata": {},
   "source": [
    "The difference is the least when x=1, which was when the first layer had 32 nodes.  Keeping the first layer as 32 nodes and the second layer at 128 nodes.\n",
    "\n",
    "# Adjusting activation function\n",
    "\n",
    "Playing around with the activation function at each layer, starting with the first layer.  Going to try tanh and relu then leaky relu."
   ]
  },
  {
   "cell_type": "code",
   "execution_count": 53,
   "id": "572b3cda",
   "metadata": {},
   "outputs": [],
   "source": [
    "history = []\n",
    "test_accuracy = []\n",
    "for activation in ['tanh','relu']:\n",
    "    model = Sequential()\n",
    "    model.add(Dense(32,input_shape=[input_dim], activation=activation))\n",
    "    model.add(Dense(128,activation='relu'))\n",
    "    model.add(Dense(10, activation='softmax'))\n",
    "    model.compile(optimizer='sgd', loss='categorical_crossentropy',\n",
    "              metrics=['accuracy'])\n",
    "    h = model.fit(X_train, Y_train, batch_size=128, epochs=20, verbose=0)\n",
    "    history.append(h.history)\n",
    "    score = model.evaluate(X_test, Y_test, verbose=0)\n",
    "    test_accuracy.append(score[1])"
   ]
  },
  {
   "cell_type": "code",
   "execution_count": 54,
   "id": "7dbe5f25",
   "metadata": {},
   "outputs": [
    {
     "data": {
      "text/plain": [
       "[0.8428999781608582, 0.8409000039100647]"
      ]
     },
     "execution_count": 54,
     "metadata": {},
     "output_type": "execute_result"
    }
   ],
   "source": [
    "test_accuracy"
   ]
  },
  {
   "cell_type": "code",
   "execution_count": 56,
   "id": "a93afd09",
   "metadata": {},
   "outputs": [
    {
     "data": {
      "text/plain": [
       "[0.8619333505630493, 0.8590333461761475]"
      ]
     },
     "execution_count": 56,
     "metadata": {},
     "output_type": "execute_result"
    }
   ],
   "source": [
    "training_accuracy = [x['accuracy'][-1] for x in history]\n",
    "training_accuracy"
   ]
  },
  {
   "cell_type": "code",
   "execution_count": 57,
   "id": "120e04cc",
   "metadata": {},
   "outputs": [
    {
     "data": {
      "text/plain": [
       "[<matplotlib.lines.Line2D at 0x166fef774c0>]"
      ]
     },
     "execution_count": 57,
     "metadata": {},
     "output_type": "execute_result"
    },
    {
     "data": {
      "image/png": "[encoded data removed]",
      "text/plain": [
       "<Figure size 432x288 with 1 Axes>"
      ]
     },
     "metadata": {
      "needs_background": "light"
     },
     "output_type": "display_data"
    }
   ],
   "source": [
    "plt.plot(test_accuracy,color='blue')\n",
    "plt.plot(training_accuracy,color='red')"
   ]
  },
  {
   "cell_type": "markdown",
   "id": "0948ada7",
   "metadata": {},
   "source": [
    "Both accuracy degrease with relu.  It looks like tanh might be best for the first layer, but going t next try leakyrelu with different values."
   ]
  },
  {
   "cell_type": "code",
   "execution_count": 59,
   "id": "e33540d4",
   "metadata": {},
   "outputs": [],
   "source": [
    "history = []\n",
    "test_accuracy = []\n",
    "for alpha in [0.1,0.2,0.3]:\n",
    "    model = Sequential()\n",
    "    model.add(Dense(32,input_shape=[input_dim]))\n",
    "    model.add(LeakyReLU(alpha=alpha))\n",
    "    model.add(Dense(128,activation='relu'))\n",
    "    model.add(Dense(10, activation='softmax'))\n",
    "    model.compile(optimizer='sgd', loss='categorical_crossentropy',\n",
    "              metrics=['accuracy'])\n",
    "    h = model.fit(X_train, Y_train, batch_size=128, epochs=20, verbose=0)\n",
    "    history.append(h.history)\n",
    "    score = model.evaluate(X_test, Y_test, verbose=0)\n",
    "    test_accuracy.append(score[1])"
   ]
  },
  {
   "cell_type": "code",
   "execution_count": 60,
   "id": "9febd2c0",
   "metadata": {},
   "outputs": [
    {
     "data": {
      "text/plain": [
       "[0.8374000191688538, 0.847599983215332, 0.8414000272750854]"
      ]
     },
     "execution_count": 60,
     "metadata": {},
     "output_type": "execute_result"
    }
   ],
   "source": [
    "test_accuracy"
   ]
  },
  {
   "cell_type": "code",
   "execution_count": 61,
   "id": "7ba2311a",
   "metadata": {},
   "outputs": [
    {
     "data": {
      "text/plain": [
       "[0.8582500219345093, 0.8583333492279053, 0.8577666878700256]"
      ]
     },
     "execution_count": 61,
     "metadata": {},
     "output_type": "execute_result"
    }
   ],
   "source": [
    "training_accuracy = [x['accuracy'][-1] for x in history]\n",
    "training_accuracy"
   ]
  },
  {
   "cell_type": "markdown",
   "id": "f7bb77d9",
   "metadata": {},
   "source": [
    "A leaky relu with an alpha of 0.2 had the highest test accuracy.  Going to now try adjusting the second activation."
   ]
  },
  {
   "cell_type": "code",
   "execution_count": 62,
   "id": "3edce4ab",
   "metadata": {},
   "outputs": [],
   "source": [
    "history = []\n",
    "test_accuracy = []\n",
    "for activation in ['tanh','relu']:\n",
    "    model = Sequential()\n",
    "    model.add(Dense(32,input_shape=[input_dim]))\n",
    "    model.add(LeakyReLU(alpha=0.2))\n",
    "    model.add(Dense(128,activation=activation))\n",
    "    model.add(Dense(10, activation='softmax'))\n",
    "    model.compile(optimizer='sgd', loss='categorical_crossentropy',\n",
    "              metrics=['accuracy'])\n",
    "    h = model.fit(X_train, Y_train, batch_size=128, epochs=20, verbose=0)\n",
    "    history.append(h.history)\n",
    "    score = model.evaluate(X_test, Y_test, verbose=0)\n",
    "    test_accuracy.append(score[1])"
   ]
  },
  {
   "cell_type": "code",
   "execution_count": 63,
   "id": "f54c584e",
   "metadata": {},
   "outputs": [
    {
     "data": {
      "text/plain": [
       "[0.8472999930381775, 0.8436999917030334]"
      ]
     },
     "execution_count": 63,
     "metadata": {},
     "output_type": "execute_result"
    }
   ],
   "source": [
    "test_accuracy"
   ]
  },
  {
   "cell_type": "code",
   "execution_count": 64,
   "id": "b13c0988",
   "metadata": {},
   "outputs": [
    {
     "data": {
      "text/plain": [
       "[0.8611500263214111, 0.8577499985694885]"
      ]
     },
     "execution_count": 64,
     "metadata": {},
     "output_type": "execute_result"
    }
   ],
   "source": [
    "training_accuracy = [x['accuracy'][-1] for x in history]\n",
    "training_accuracy"
   ]
  },
  {
   "cell_type": "markdown",
   "id": "66b9c5fc",
   "metadata": {},
   "source": [
    "Tanh performed best.  Going to try leaky relu"
   ]
  },
  {
   "cell_type": "code",
   "execution_count": 66,
   "id": "6cbfef5b",
   "metadata": {},
   "outputs": [],
   "source": [
    "history = []\n",
    "test_accuracy = []\n",
    "for alpha in [0.1,0.2,0.3]:\n",
    "    model = Sequential()\n",
    "    model.add(Dense(32,input_shape=[input_dim]))\n",
    "    model.add(LeakyReLU(alpha=0.2))\n",
    "    model.add(Dense(128))\n",
    "    model.add(LeakyReLU(alpha=alpha))\n",
    "    model.add(Dense(10, activation='softmax'))\n",
    "    model.compile(optimizer='sgd', loss='categorical_crossentropy',\n",
    "              metrics=['accuracy'])\n",
    "    h = model.fit(X_train, Y_train, batch_size=128, epochs=20, verbose=0)\n",
    "    history.append(h.history)\n",
    "    score = model.evaluate(X_test, Y_test, verbose=0)\n",
    "    test_accuracy.append(score[1])"
   ]
  },
  {
   "cell_type": "code",
   "execution_count": 67,
   "id": "e7751154",
   "metadata": {},
   "outputs": [
    {
     "data": {
      "text/plain": [
       "[0.8492000102996826, 0.8388000130653381, 0.8389999866485596]"
      ]
     },
     "execution_count": 67,
     "metadata": {},
     "output_type": "execute_result"
    }
   ],
   "source": [
    "test_accuracy"
   ]
  },
  {
   "cell_type": "code",
   "execution_count": 68,
   "id": "ed8ec8e8",
   "metadata": {},
   "outputs": [
    {
     "data": {
      "text/plain": [
       "[0.8599833250045776, 0.8565166592597961, 0.8559333086013794]"
      ]
     },
     "execution_count": 68,
     "metadata": {},
     "output_type": "execute_result"
    }
   ],
   "source": [
    "training_accuracy = [x['accuracy'][-1] for x in history]\n",
    "training_accuracy"
   ]
  },
  {
   "cell_type": "markdown",
   "id": "ced820d7",
   "metadata": {},
   "source": [
    "A leaky relu with alpa 0.1 performed better than tanh\n",
    "\n",
    "# Adjusting batch size"
   ]
  },
  {
   "cell_type": "code",
   "execution_count": 70,
   "id": "9ea9fdb0",
   "metadata": {},
   "outputs": [],
   "source": [
    "history = []\n",
    "test_accuracy = []\n",
    "for batch in [1,16,32,64,128,256,512,1024,X_train.shape[0]]:\n",
    "    model = Sequential()\n",
    "    model.add(Dense(32,input_shape=[input_dim]))\n",
    "    model.add(LeakyReLU(alpha=0.2))\n",
    "    model.add(Dense(128))\n",
    "    model.add(LeakyReLU(alpha=0.1))\n",
    "    model.add(Dense(10, activation='softmax'))\n",
    "    model.compile(optimizer='sgd', loss='categorical_crossentropy',\n",
    "              metrics=['accuracy'])\n",
    "    h = model.fit(X_train, Y_train, batch_size=batch, epochs=20, verbose=0)\n",
    "    history.append(h.history)\n",
    "    score = model.evaluate(X_test, Y_test, verbose=0)\n",
    "    test_accuracy.append(score[1])"
   ]
  },
  {
   "cell_type": "code",
   "execution_count": 71,
   "id": "706fd021",
   "metadata": {},
   "outputs": [
    {
     "data": {
      "text/plain": [
       "[0.899150013923645,\n",
       " 0.895966649055481,\n",
       " 0.8835499882698059,\n",
       " 0.8698499798774719,\n",
       " 0.8572499752044678,\n",
       " 0.8403833508491516,\n",
       " 0.8227166533470154,\n",
       " 0.7910500168800354,\n",
       " 0.22696666419506073]"
      ]
     },
     "execution_count": 71,
     "metadata": {},
     "output_type": "execute_result"
    }
   ],
   "source": [
    "training_accuracy = [x['accuracy'][-1] for x in history]\n",
    "training_accuracy"
   ]
  },
  {
   "cell_type": "code",
   "execution_count": 72,
   "id": "f5c511ff",
   "metadata": {},
   "outputs": [
    {
     "data": {
      "text/plain": [
       "[0.8716999888420105,\n",
       " 0.8704000115394592,\n",
       " 0.8641999959945679,\n",
       " 0.838699996471405,\n",
       " 0.8414000272750854,\n",
       " 0.8202000260353088,\n",
       " 0.807200014591217,\n",
       " 0.7796000242233276,\n",
       " 0.23810000717639923]"
      ]
     },
     "execution_count": 72,
     "metadata": {},
     "output_type": "execute_result"
    }
   ],
   "source": [
    "test_accuracy"
   ]
  },
  {
   "cell_type": "markdown",
   "id": "fe263bf1",
   "metadata": {},
   "source": [
    "A lower batch size performed better.  \n",
    "\n",
    "There is a lot more than can be tested.  The method I used to hyperparameter tune left out a lot of possibilities.  When using deep learning I may want to see if I can impliment SciKit learn's GridSearchCV.  Also I took Kaggle's course on intro to deep learning course which covered batch normalization which is something I could try.  \n",
    "\n",
    "The best model details:\n",
    "* 2 hidden layers\n",
    "* First hidden layer has 32 nodes and LeakyRelu as an activation function with an alpha of 0.2\n",
    "* The second hidden layer has 128 nodes with LeakyRelu as an activation function with an alpha of 0.1\n",
    "* With 20 epochs, a batch size of 1 performed best."
   ]
  },
  {
   "cell_type": "code",
   "execution_count": null,
   "id": "6a93ebf9",
   "metadata": {},
   "outputs": [],
   "source": []
  }
 ],
 "metadata": {
  "kernelspec": {
   "display_name": "Python 3",
   "language": "python",
   "name": "python3"
  },
  "language_info": {
   "codemirror_mode": {
    "name": "ipython",
    "version": 3
   },
   "file_extension": ".py",
   "mimetype": "text/x-python",
   "name": "python",
   "nbconvert_exporter": "python",
   "pygments_lexer": "ipython3",
   "version": "3.9.5"
  }
 },
 "nbformat": 4,
 "nbformat_minor": 5
}
