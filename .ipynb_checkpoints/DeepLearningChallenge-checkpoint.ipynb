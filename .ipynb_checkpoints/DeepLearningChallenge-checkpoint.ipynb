{
 "cells": [
  {
   "cell_type": "code",
   "execution_count": 22,
   "id": "691c8303",
   "metadata": {},
   "outputs": [],
   "source": [
    "import numpy as np\n",
    "import pandas as pd\n",
    "import matplotlib.pyplot as plt\n",
    "import seaborn as sns\n",
    "from tensorflow.keras.datasets import fashion_mnist\n",
    "from tensorflow.keras.utils import to_categorical\n",
    "from tensorflow.keras.models import Sequential \n",
    "from tensorflow.keras.layers import Dense\n",
    "from tensorflow.keras import optimizers\n"
   ]
  },
  {
   "cell_type": "markdown",
   "id": "bdc15ee9",
   "metadata": {},
   "source": [
    "# Loading the data"
   ]
  },
  {
   "cell_type": "code",
   "execution_count": 2,
   "id": "348fb14e",
   "metadata": {},
   "outputs": [],
   "source": [
    "(X_train, y_train), (X_test, y_test) = fashion_mnist.load_data()\n",
    "\n"
   ]
  },
  {
   "cell_type": "code",
   "execution_count": 3,
   "id": "5e8c73c7",
   "metadata": {},
   "outputs": [],
   "source": [
    "input_dim = 784  # 28*28\n",
    "output_dim = nb_classes = 10\n",
    "nb_epoch = 20\n",
    "\n",
    "X_train = X_train.reshape(60000, input_dim)\n",
    "X_test = X_test.reshape(10000, input_dim)\n",
    "X_train = X_train.astype('float32')\n",
    "X_test = X_test.astype('float32')\n",
    "X_train /= 255\n",
    "X_test /= 255\n",
    "Y_train = to_categorical(y_train, nb_classes)\n",
    "Y_test = to_categorical(y_test, nb_classes)"
   ]
  },
  {
   "cell_type": "markdown",
   "id": "d13ab3aa",
   "metadata": {},
   "source": [
    "# Planning hyperparameter tuning\n",
    "\n",
    "With deep learning using a full ANN network there are a lot of parameters to tune, the number of layers, the number of nodes at each layer, the activation function to use at each layer, the optimizer used and the learning rate for gradient descent, the loss function used, the batch size, the number of epochs and probably more.  \n",
    "\n",
    "My plan, which may not be optimal:\n",
    "* Start by determining how many layers, keeping everything else constant\n",
    "* Given the number of layers, play with an equal amount of nuerons at each layer, a increasing amount of neurons at each layer, a decreasing amount of neurons at each layer, or an increasing then decreasing amount of neurons at each layer\n",
    "* Play around with the activation function at each layer.\n",
    "* Play around with batch size\n",
    "\n",
    "Again this systematic method leaves a lot of options, some which may be better, out.  The order in which I tune hyperparameters also matters.   Again better models may be left out.\n",
    "\n",
    "# Adjusting number of hidden layers\n",
    "\n",
    "I am going to test, 2, 3, 5 hidden layers, maybe more if it continues to improve, each with 32 nodes, using relu as an activation function and having a batch size when training of 128 with 20 epochs.\n",
    "\n",
    "## 2 layers"
   ]
  },
  {
   "cell_type": "code",
   "execution_count": 14,
   "id": "f90a4fcb",
   "metadata": {},
   "outputs": [
    {
     "name": "stdout",
     "output_type": "stream",
     "text": [
      "Epoch 1/20\n",
      "469/469 [==============================] - 1s 1ms/step - loss: 1.3771 - accuracy: 0.5606\n",
      "Epoch 2/20\n",
      "469/469 [==============================] - 1s 1ms/step - loss: 0.7408 - accuracy: 0.7422\n",
      "Epoch 3/20\n",
      "469/469 [==============================] - 0s 1ms/step - loss: 0.6231 - accuracy: 0.7841\n",
      "Epoch 4/20\n",
      "469/469 [==============================] - 0s 1ms/step - loss: 0.5640 - accuracy: 0.8058\n",
      "Epoch 5/20\n",
      "469/469 [==============================] - 0s 1ms/step - loss: 0.5294 - accuracy: 0.8171\n",
      "Epoch 6/20\n",
      "469/469 [==============================] - 0s 1ms/step - loss: 0.5061 - accuracy: 0.8243\n",
      "Epoch 7/20\n",
      "469/469 [==============================] - 0s 1ms/step - loss: 0.4895 - accuracy: 0.8290\n",
      "Epoch 8/20\n",
      "469/469 [==============================] - 0s 1ms/step - loss: 0.4762 - accuracy: 0.8327\n",
      "Epoch 9/20\n",
      "469/469 [==============================] - 0s 1ms/step - loss: 0.4652 - accuracy: 0.8372\n",
      "Epoch 10/20\n",
      "469/469 [==============================] - 0s 1ms/step - loss: 0.4577 - accuracy: 0.8405\n",
      "Epoch 11/20\n",
      "469/469 [==============================] - 0s 1ms/step - loss: 0.4504 - accuracy: 0.8424\n",
      "Epoch 12/20\n",
      "469/469 [==============================] - 0s 1ms/step - loss: 0.4434 - accuracy: 0.8453\n",
      "Epoch 13/20\n",
      "469/469 [==============================] - 1s 1ms/step - loss: 0.4372 - accuracy: 0.8468\n",
      "Epoch 14/20\n",
      "469/469 [==============================] - 1s 1ms/step - loss: 0.4321 - accuracy: 0.8485\n",
      "Epoch 15/20\n",
      "469/469 [==============================] - 0s 1ms/step - loss: 0.4278 - accuracy: 0.8498\n",
      "Epoch 16/20\n",
      "469/469 [==============================] - 1s 1ms/step - loss: 0.4224 - accuracy: 0.8524\n",
      "Epoch 17/20\n",
      "469/469 [==============================] - 0s 1ms/step - loss: 0.4176 - accuracy: 0.8540\n",
      "Epoch 18/20\n",
      "469/469 [==============================] - 0s 964us/step - loss: 0.4141 - accuracy: 0.8560\n",
      "Epoch 19/20\n",
      "469/469 [==============================] - 0s 944us/step - loss: 0.4105 - accuracy: 0.8555\n",
      "Epoch 20/20\n",
      "469/469 [==============================] - 0s 925us/step - loss: 0.4074 - accuracy: 0.8574\n"
     ]
    }
   ],
   "source": [
    "model = Sequential()\n",
    "model.add(Dense(32,input_shape=[input_dim],activation='relu'))\n",
    "model.add(Dense(32,activation='relu'))\n",
    "model.add(Dense(10, activation='softmax'))\n",
    "model.compile(optimizer='sgd', loss='categorical_crossentropy',\n",
    "              metrics=['accuracy'])\n",
    "history = model.fit(X_train, Y_train, batch_size=128, epochs=20, verbose=1)"
   ]
  },
  {
   "cell_type": "code",
   "execution_count": 15,
   "id": "4f5d9a99",
   "metadata": {},
   "outputs": [
    {
     "data": {
      "text/plain": [
       "<AxesSubplot:>"
      ]
     },
     "execution_count": 15,
     "metadata": {},
     "output_type": "execute_result"
    },
    {
     "data": {
      "image/png": "[encoded data removed]",
      "text/plain": [
       "<Figure size 432x288 with 1 Axes>"
      ]
     },
     "metadata": {
      "needs_background": "light"
     },
     "output_type": "display_data"
    }
   ],
   "source": [
    "history1 = pd.DataFrame(history.history)\n",
    "history1.loss.plot()"
   ]
  },
  {
   "cell_type": "code",
   "execution_count": 16,
   "id": "992eaacd",
   "metadata": {},
   "outputs": [
    {
     "data": {
      "text/plain": [
       "<AxesSubplot:>"
      ]
     },
     "execution_count": 16,
     "metadata": {},
     "output_type": "execute_result"
    },
    {
     "data": {
      "image/png": "[encoded data removed]",
      "text/plain": [
       "<Figure size 432x288 with 1 Axes>"
      ]
     },
     "metadata": {
      "needs_background": "light"
     },
     "output_type": "display_data"
    }
   ],
   "source": [
    "history1.accuracy.plot()"
   ]
  },
  {
   "cell_type": "markdown",
   "id": "ba5e7a8b",
   "metadata": {},
   "source": [
    "As you can see the loss steadily decreased and the accuracy steadily increased.  The training accuracy is 0.8574.  Looking at the test accuracy ..."
   ]
  },
  {
   "cell_type": "code",
   "execution_count": 17,
   "id": "ce70d789",
   "metadata": {},
   "outputs": [
    {
     "name": "stdout",
     "output_type": "stream",
     "text": [
      "Test accuracy: 0.8413000106811523\n"
     ]
    }
   ],
   "source": [
    "score = model.evaluate(X_test, Y_test, verbose=0)\n",
    "print('Test accuracy:', score[1])"
   ]
  },
  {
   "cell_type": "markdown",
   "id": "558a471a",
   "metadata": {},
   "source": [
    "There is not much difference between the train accuracy and the test accuracy, which suggests no overfitting\n",
    "\n",
    "Testing 3 hidden layers..."
   ]
  },
  {
   "cell_type": "code",
   "execution_count": 18,
   "id": "c1c8e428",
   "metadata": {},
   "outputs": [
    {
     "name": "stdout",
     "output_type": "stream",
     "text": [
      "Epoch 1/20\n",
      "469/469 [==============================] - 1s 1ms/step - loss: 1.5286 - accuracy: 0.4847\n",
      "Epoch 2/20\n",
      "469/469 [==============================] - 1s 1ms/step - loss: 0.7640 - accuracy: 0.7237\n",
      "Epoch 3/20\n",
      "469/469 [==============================] - 1s 1ms/step - loss: 0.6324 - accuracy: 0.7758\n",
      "Epoch 4/20\n",
      "469/469 [==============================] - 1s 1ms/step - loss: 0.5766 - accuracy: 0.7984\n",
      "Epoch 5/20\n",
      "469/469 [==============================] - 1s 1ms/step - loss: 0.5487 - accuracy: 0.8066\n",
      "Epoch 6/20\n",
      "469/469 [==============================] - 1s 1ms/step - loss: 0.5242 - accuracy: 0.8138\n",
      "Epoch 7/20\n",
      "469/469 [==============================] - 1s 1ms/step - loss: 0.5062 - accuracy: 0.8209\n",
      "Epoch 8/20\n",
      "469/469 [==============================] - 1s 1ms/step - loss: 0.4931 - accuracy: 0.8248\n",
      "Epoch 9/20\n",
      "469/469 [==============================] - 1s 1ms/step - loss: 0.4804 - accuracy: 0.8299\n",
      "Epoch 10/20\n",
      "469/469 [==============================] - 0s 1ms/step - loss: 0.4706 - accuracy: 0.8349\n",
      "Epoch 11/20\n",
      "469/469 [==============================] - 1s 1ms/step - loss: 0.4603 - accuracy: 0.8400\n",
      "Epoch 12/20\n",
      "469/469 [==============================] - 1s 1ms/step - loss: 0.4523 - accuracy: 0.8413\n",
      "Epoch 13/20\n",
      "469/469 [==============================] - 1s 1ms/step - loss: 0.4441 - accuracy: 0.8437\n",
      "Epoch 14/20\n",
      "469/469 [==============================] - 1s 1ms/step - loss: 0.4375 - accuracy: 0.8468\n",
      "Epoch 15/20\n",
      "469/469 [==============================] - 1s 1ms/step - loss: 0.4309 - accuracy: 0.8502\n",
      "Epoch 16/20\n",
      "469/469 [==============================] - 1s 1ms/step - loss: 0.4253 - accuracy: 0.8510\n",
      "Epoch 17/20\n",
      "469/469 [==============================] - 0s 1ms/step - loss: 0.4197 - accuracy: 0.8540\n",
      "Epoch 18/20\n",
      "469/469 [==============================] - 0s 1ms/step - loss: 0.4150 - accuracy: 0.8553\n",
      "Epoch 19/20\n",
      "469/469 [==============================] - 1s 1ms/step - loss: 0.4092 - accuracy: 0.8575\n",
      "Epoch 20/20\n",
      "469/469 [==============================] - 0s 1ms/step - loss: 0.4048 - accuracy: 0.8587\n"
     ]
    }
   ],
   "source": [
    "model = Sequential()\n",
    "model.add(Dense(32,input_shape=[input_dim],activation='relu'))\n",
    "model.add(Dense(32,activation='relu'))\n",
    "model.add(Dense(32,activation='relu'))\n",
    "model.add(Dense(10, activation='softmax'))\n",
    "model.compile(optimizer='sgd', loss='categorical_crossentropy',\n",
    "              metrics=['accuracy'])\n",
    "history = model.fit(X_train, Y_train, batch_size=128, epochs=20, verbose=1)"
   ]
  },
  {
   "cell_type": "code",
   "execution_count": 19,
   "id": "12bc7f84",
   "metadata": {},
   "outputs": [],
   "source": [
    "history2 = pd.DataFrame(history.history)\n"
   ]
  },
  {
   "cell_type": "code",
   "execution_count": 26,
   "id": "1ffbb6f8",
   "metadata": {},
   "outputs": [
    {
     "data": {
      "text/plain": [
       "<AxesSubplot:>"
      ]
     },
     "execution_count": 26,
     "metadata": {},
     "output_type": "execute_result"
    },
    {
     "data": {
      "image/png": "[encoded data removed]",
      "text/plain": [
       "<Figure size 432x288 with 1 Axes>"
      ]
     },
     "metadata": {
      "needs_background": "light"
     },
     "output_type": "display_data"
    }
   ],
   "source": [
    "history1.loss.plot(color='blue')\n",
    "history2.loss.plot(color='red')"
   ]
  },
  {
   "cell_type": "code",
   "execution_count": 27,
   "id": "3d3a8329",
   "metadata": {},
   "outputs": [
    {
     "data": {
      "text/plain": [
       "<AxesSubplot:>"
      ]
     },
     "execution_count": 27,
     "metadata": {},
     "output_type": "execute_result"
    },
    {
     "data": {
      "image/png": "[encoded data removed]",
      "text/plain": [
       "<Figure size 432x288 with 1 Axes>"
      ]
     },
     "metadata": {
      "needs_background": "light"
     },
     "output_type": "display_data"
    }
   ],
   "source": [
    "history1.accuracy.plot(color='blue')\n",
    "history2.accuracy.plot(color='red')"
   ]
  },
  {
   "cell_type": "markdown",
   "id": "be203780",
   "metadata": {},
   "source": [
    "In the end the loss was slightly less and the accuracy was slightly more than with 2 layers, however the decrease in loss and increase in accuracy was slower with 3 layers.  I would say stick with two layers.  \n",
    "\n",
    "Testing 5 layers ..."
   ]
  },
  {
   "cell_type": "code",
   "execution_count": 28,
   "id": "639f8c66",
   "metadata": {},
   "outputs": [
    {
     "name": "stdout",
     "output_type": "stream",
     "text": [
      "Epoch 1/20\n",
      "469/469 [==============================] - 1s 1ms/step - loss: 1.8232 - accuracy: 0.3509\n",
      "Epoch 2/20\n",
      "469/469 [==============================] - 1s 1ms/step - loss: 0.8686 - accuracy: 0.6812\n",
      "Epoch 3/20\n",
      "469/469 [==============================] - 1s 1ms/step - loss: 0.7130 - accuracy: 0.7383\n",
      "Epoch 4/20\n",
      "469/469 [==============================] - 1s 1ms/step - loss: 0.6424 - accuracy: 0.7673\n",
      "Epoch 5/20\n",
      "469/469 [==============================] - 1s 1ms/step - loss: 0.5912 - accuracy: 0.7889\n",
      "Epoch 6/20\n",
      "469/469 [==============================] - 1s 1ms/step - loss: 0.5533 - accuracy: 0.8045\n",
      "Epoch 7/20\n",
      "469/469 [==============================] - 1s 1ms/step - loss: 0.5277 - accuracy: 0.8138\n",
      "Epoch 8/20\n",
      "469/469 [==============================] - 1s 1ms/step - loss: 0.5039 - accuracy: 0.8237\n",
      "Epoch 9/20\n",
      "469/469 [==============================] - 1s 1ms/step - loss: 0.4871 - accuracy: 0.8299\n",
      "Epoch 10/20\n",
      "469/469 [==============================] - 1s 1ms/step - loss: 0.4746 - accuracy: 0.8324\n",
      "Epoch 11/20\n",
      "469/469 [==============================] - 1s 1ms/step - loss: 0.4590 - accuracy: 0.8392\n",
      "Epoch 12/20\n",
      "469/469 [==============================] - 1s 1ms/step - loss: 0.4498 - accuracy: 0.8412\n",
      "Epoch 13/20\n",
      "469/469 [==============================] - 1s 1ms/step - loss: 0.4409 - accuracy: 0.8448\n",
      "Epoch 14/20\n",
      "469/469 [==============================] - 1s 1ms/step - loss: 0.4320 - accuracy: 0.8482\n",
      "Epoch 15/20\n",
      "469/469 [==============================] - 1s 1ms/step - loss: 0.4212 - accuracy: 0.8517\n",
      "Epoch 16/20\n",
      "469/469 [==============================] - 1s 1ms/step - loss: 0.4161 - accuracy: 0.8536\n",
      "Epoch 17/20\n",
      "469/469 [==============================] - 1s 1ms/step - loss: 0.4101 - accuracy: 0.8560\n",
      "Epoch 18/20\n",
      "469/469 [==============================] - 1s 1ms/step - loss: 0.4077 - accuracy: 0.8558\n",
      "Epoch 19/20\n",
      "469/469 [==============================] - 1s 1ms/step - loss: 0.3977 - accuracy: 0.8589\n",
      "Epoch 20/20\n",
      "469/469 [==============================] - 1s 1ms/step - loss: 0.3938 - accuracy: 0.8605\n"
     ]
    }
   ],
   "source": [
    "model = Sequential()\n",
    "model.add(Dense(32,input_shape=[input_dim],activation='relu'))\n",
    "model.add(Dense(32,activation='relu'))\n",
    "model.add(Dense(32,activation='relu'))\n",
    "model.add(Dense(32,activation='relu'))\n",
    "model.add(Dense(32,activation='relu'))\n",
    "model.add(Dense(10, activation='softmax'))\n",
    "model.compile(optimizer='sgd', loss='categorical_crossentropy',\n",
    "              metrics=['accuracy'])\n",
    "history = model.fit(X_train, Y_train, batch_size=128, epochs=20, verbose=1)"
   ]
  },
  {
   "cell_type": "code",
   "execution_count": 29,
   "id": "429db0d1",
   "metadata": {},
   "outputs": [],
   "source": [
    "history3 = pd.DataFrame(history.history)"
   ]
  },
  {
   "cell_type": "code",
   "execution_count": 30,
   "id": "36fc0743",
   "metadata": {},
   "outputs": [
    {
     "data": {
      "text/plain": [
       "<AxesSubplot:>"
      ]
     },
     "execution_count": 30,
     "metadata": {},
     "output_type": "execute_result"
    },
    {
     "data": {
      "image/png": "[encoded data removed]",
      "text/plain": [
       "<Figure size 432x288 with 1 Axes>"
      ]
     },
     "metadata": {
      "needs_background": "light"
     },
     "output_type": "display_data"
    }
   ],
   "source": [
    "history1.loss.plot(color='blue')\n",
    "history2.loss.plot(color='red')\n",
    "history3.loss.plot(color='green')"
   ]
  },
  {
   "cell_type": "markdown",
   "id": "e78f961b",
   "metadata": {},
   "source": [
    "Again the loss eventualy is lower but it is slower to reach that.  From comparing these graphs, I chose two hidden units.\n",
    "\n",
    "## Adjusting the number of nodes\n",
    "\n",
    "First I'm going to start with the same number of nodes at each layer, doubling each time.  16, 32, 64 ... Then when I chose the best number of  nodes, I'll play around with increasing or decreasing the number of nodes for the first layer.\n"
   ]
  },
  {
   "cell_type": "code",
   "execution_count": 31,
   "id": "77b72643",
   "metadata": {},
   "outputs": [
    {
     "name": "stdout",
     "output_type": "stream",
     "text": [
      "Epoch 1/20\n",
      "469/469 [==============================] - 1s 1ms/step - loss: 1.5053 - accuracy: 0.4889\n",
      "Epoch 2/20\n",
      "469/469 [==============================] - 0s 1ms/step - loss: 0.7798 - accuracy: 0.7327\n",
      "Epoch 3/20\n",
      "469/469 [==============================] - 0s 1ms/step - loss: 0.6529 - accuracy: 0.7780\n",
      "Epoch 4/20\n",
      "469/469 [==============================] - 0s 857us/step - loss: 0.5902 - accuracy: 0.7996\n",
      "Epoch 5/20\n",
      "469/469 [==============================] - 0s 806us/step - loss: 0.5529 - accuracy: 0.8102\n",
      "Epoch 6/20\n",
      "469/469 [==============================] - 0s 900us/step - loss: 0.5293 - accuracy: 0.8180\n",
      "Epoch 7/20\n",
      "469/469 [==============================] - 0s 968us/step - loss: 0.5109 - accuracy: 0.8232\n",
      "Epoch 8/20\n",
      "469/469 [==============================] - 0s 880us/step - loss: 0.4972 - accuracy: 0.8277\n",
      "Epoch 9/20\n",
      "469/469 [==============================] - 0s 927us/step - loss: 0.4859 - accuracy: 0.8313\n",
      "Epoch 10/20\n",
      "469/469 [==============================] - 0s 917us/step - loss: 0.4752 - accuracy: 0.8342\n",
      "Epoch 11/20\n",
      "469/469 [==============================] - 0s 940us/step - loss: 0.4675 - accuracy: 0.8371\n",
      "Epoch 12/20\n",
      "469/469 [==============================] - 0s 957us/step - loss: 0.4606 - accuracy: 0.8394\n",
      "Epoch 13/20\n",
      "469/469 [==============================] - 0s 968us/step - loss: 0.4533 - accuracy: 0.8420\n",
      "Epoch 14/20\n",
      "469/469 [==============================] - 0s 1ms/step - loss: 0.4481 - accuracy: 0.8442\n",
      "Epoch 15/20\n",
      "469/469 [==============================] - 0s 927us/step - loss: 0.4417 - accuracy: 0.8461\n",
      "Epoch 16/20\n",
      "469/469 [==============================] - 0s 904us/step - loss: 0.4376 - accuracy: 0.8475\n",
      "Epoch 17/20\n",
      "469/469 [==============================] - 0s 929us/step - loss: 0.4327 - accuracy: 0.8492\n",
      "Epoch 18/20\n",
      "469/469 [==============================] - 0s 936us/step - loss: 0.4282 - accuracy: 0.8519\n",
      "Epoch 19/20\n",
      "469/469 [==============================] - 0s 938us/step - loss: 0.4251 - accuracy: 0.8524\n",
      "Epoch 20/20\n",
      "469/469 [==============================] - 0s 1ms/step - loss: 0.4212 - accuracy: 0.8539\n"
     ]
    }
   ],
   "source": [
    "model = Sequential()\n",
    "model.add(Dense(16,input_shape=[input_dim],activation='relu'))\n",
    "model.add(Dense(16,activation='relu'))\n",
    "model.add(Dense(10, activation='softmax'))\n",
    "model.compile(optimizer='sgd', loss='categorical_crossentropy',\n",
    "              metrics=['accuracy'])\n",
    "history = model.fit(X_train, Y_train, batch_size=128, epochs=20, verbose=1)"
   ]
  },
  {
   "cell_type": "code",
   "execution_count": 32,
   "id": "295855a3",
   "metadata": {},
   "outputs": [],
   "source": [
    "history1 = pd.DataFrame(history.history)"
   ]
  },
  {
   "cell_type": "code",
   "execution_count": 33,
   "id": "95c71df0",
   "metadata": {},
   "outputs": [
    {
     "data": {
      "text/plain": [
       "<AxesSubplot:>"
      ]
     },
     "execution_count": 33,
     "metadata": {},
     "output_type": "execute_result"
    },
    {
     "data": {
      "image/png": "[encoded data removed]",
      "text/plain": [
       "<Figure size 432x288 with 1 Axes>"
      ]
     },
     "metadata": {
      "needs_background": "light"
     },
     "output_type": "display_data"
    }
   ],
   "source": [
    "history1.loss.plot(color='blue')"
   ]
  },
  {
   "cell_type": "code",
   "execution_count": 34,
   "id": "d256f7e3",
   "metadata": {},
   "outputs": [
    {
     "data": {
      "text/plain": [
       "<AxesSubplot:>"
      ]
     },
     "execution_count": 34,
     "metadata": {},
     "output_type": "execute_result"
    },
    {
     "data": {
      "image/png": "[encoded data removed]",
      "text/plain": [
       "<Figure size 432x288 with 1 Axes>"
      ]
     },
     "metadata": {
      "needs_background": "light"
     },
     "output_type": "display_data"
    }
   ],
   "source": [
    "history1.accuracy.plot(color='blue')"
   ]
  },
  {
   "cell_type": "markdown",
   "id": "c9da1ea6",
   "metadata": {},
   "source": [
    "Both improved steadily.  Looking at the test set accuracy."
   ]
  },
  {
   "cell_type": "code",
   "execution_count": 35,
   "id": "6c0ab960",
   "metadata": {},
   "outputs": [
    {
     "name": "stdout",
     "output_type": "stream",
     "text": [
      "Test accuracy: 0.8402000069618225\n"
     ]
    }
   ],
   "source": [
    "score = model.evaluate(X_test, Y_test, verbose=0)\n",
    "print('Test accuracy:', score[1])"
   ]
  },
  {
   "cell_type": "code",
   "execution_count": null,
   "id": "491f0f19",
   "metadata": {},
   "outputs": [],
   "source": []
  }
 ],
 "metadata": {
  "kernelspec": {
   "display_name": "Python 3",
   "language": "python",
   "name": "python3"
  },
  "language_info": {
   "codemirror_mode": {
    "name": "ipython",
    "version": 3
   },
   "file_extension": ".py",
   "mimetype": "text/x-python",
   "name": "python",
   "nbconvert_exporter": "python",
   "pygments_lexer": "ipython3",
   "version": "3.9.5"
  }
 },
 "nbformat": 4,
 "nbformat_minor": 5
}
