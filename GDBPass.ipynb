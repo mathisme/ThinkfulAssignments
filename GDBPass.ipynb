{
 "cells": [
  {
   "cell_type": "code",
   "execution_count": 1,
   "id": "66ad92d2",
   "metadata": {},
   "outputs": [],
   "source": [
    "import numpy as np\n",
    "import pandas as pd\n",
    "import matplotlib.pyplot as plt\n",
    "from tensorflow.keras.datasets import mnist\n",
    "from tensorflow.keras.utils import to_categorical\n",
    "from tensorflow.keras.models import Sequential \n",
    "from tensorflow.keras.layers import Dense\n",
    "from tensorflow.keras import optimizers"
   ]
  },
  {
   "cell_type": "code",
   "execution_count": 2,
   "id": "eef69bd9",
   "metadata": {},
   "outputs": [],
   "source": [
    "(X_train, y_train), (X_test, y_test) = mnist.load_data()\n",
    "\n",
    "input_dim = 784  # 28*28\n",
    "output_dim = nb_classes = 10\n",
    "nb_epoch = 20\n",
    "\n",
    "X_train = X_train.reshape(60000, input_dim)\n",
    "X_test = X_test.reshape(10000, input_dim)\n",
    "X_train = X_train.astype('float32')\n",
    "X_test = X_test.astype('float32')\n",
    "X_train /= 255\n",
    "X_test /= 255\n",
    "Y_train = to_categorical(y_train, nb_classes)\n",
    "Y_test = to_categorical(y_test, nb_classes)"
   ]
  },
  {
   "cell_type": "code",
   "execution_count": 3,
   "id": "22a1e708",
   "metadata": {},
   "outputs": [],
   "source": [
    "def create_model(optimizer='sgd'):\n",
    "    model = Sequential()\n",
    "    model.add(Dense(128, input_shape = (784,), activation='relu'))\n",
    "    model.add(Dense(64, activation='relu'))\n",
    "    model.add(Dense(10, activation='softmax'))\n",
    "    model.compile(optimizer=optimizer, loss='categorical_crossentropy',\n",
    "              metrics=['accuracy'])\n",
    "    return model"
   ]
  },
  {
   "cell_type": "markdown",
   "id": "6db190f9",
   "metadata": {},
   "source": [
    "# Part 1\n"
   ]
  },
  {
   "cell_type": "code",
   "execution_count": 4,
   "id": "c7fdb7d3",
   "metadata": {},
   "outputs": [
    {
     "name": "stdout",
     "output_type": "stream",
     "text": [
      "Epoch 1/20\n",
      "7500/7500 [==============================] - 23s 3ms/step - loss: 0.3637 - accuracy: 0.8981\n",
      "Epoch 2/20\n",
      "7500/7500 [==============================] - 22s 3ms/step - loss: 0.1761 - accuracy: 0.9486\n",
      "Epoch 3/20\n",
      "7500/7500 [==============================] - 22s 3ms/step - loss: 0.1280 - accuracy: 0.9627\n",
      "Epoch 4/20\n",
      "7500/7500 [==============================] - 22s 3ms/step - loss: 0.0995 - accuracy: 0.9706\n",
      "Epoch 5/20\n",
      "7500/7500 [==============================] - 22s 3ms/step - loss: 0.0815 - accuracy: 0.9762\n",
      "Epoch 6/20\n",
      "7500/7500 [==============================] - 22s 3ms/step - loss: 0.0674 - accuracy: 0.9800\n",
      "Epoch 7/20\n",
      "7500/7500 [==============================] - 22s 3ms/step - loss: 0.0570 - accuracy: 0.9827\n",
      "Epoch 8/20\n",
      "7500/7500 [==============================] - 22s 3ms/step - loss: 0.0488 - accuracy: 0.9856\n",
      "Epoch 9/20\n",
      "7500/7500 [==============================] - 22s 3ms/step - loss: 0.0419 - accuracy: 0.9880\n",
      "Epoch 10/20\n",
      "7500/7500 [==============================] - 22s 3ms/step - loss: 0.0365 - accuracy: 0.9889\n",
      "Epoch 11/20\n",
      "7500/7500 [==============================] - 22s 3ms/step - loss: 0.0311 - accuracy: 0.9913\n",
      "Epoch 12/20\n",
      "7500/7500 [==============================] - 22s 3ms/step - loss: 0.0271 - accuracy: 0.9923\n",
      "Epoch 13/20\n",
      "7500/7500 [==============================] - 22s 3ms/step - loss: 0.0232 - accuracy: 0.9939\n",
      "Epoch 14/20\n",
      "7500/7500 [==============================] - 22s 3ms/step - loss: 0.0201 - accuracy: 0.9949\n",
      "Epoch 15/20\n",
      "7500/7500 [==============================] - 22s 3ms/step - loss: 0.0176 - accuracy: 0.9954\n",
      "Epoch 16/20\n",
      "7500/7500 [==============================] - 22s 3ms/step - loss: 0.0155 - accuracy: 0.9964\n",
      "Epoch 17/20\n",
      "7500/7500 [==============================] - 22s 3ms/step - loss: 0.0129 - accuracy: 0.9972\n",
      "Epoch 18/20\n",
      "7500/7500 [==============================] - 22s 3ms/step - loss: 0.0107 - accuracy: 0.9979\n",
      "Epoch 19/20\n",
      "7500/7500 [==============================] - 22s 3ms/step - loss: 0.0095 - accuracy: 0.9982\n",
      "Epoch 20/20\n",
      "7500/7500 [==============================] - 22s 3ms/step - loss: 0.0084 - accuracy: 0.9986\n",
      "Accuracy: 0.9782000184059143\n"
     ]
    }
   ],
   "source": [
    "model = create_model()\n",
    "model.fit(X_train, Y_train, batch_size=8, epochs=20, verbose=1)\n",
    "scores = model.evaluate(X_test, Y_test, verbose=0)\n",
    "print('Accuracy:',scores[1])"
   ]
  },
  {
   "cell_type": "code",
   "execution_count": 5,
   "id": "d1e8103d",
   "metadata": {},
   "outputs": [
    {
     "name": "stdout",
     "output_type": "stream",
     "text": [
      "Epoch 1/20\n",
      "469/469 [==============================] - 3s 4ms/step - loss: 1.2726 - accuracy: 0.6737\n",
      "Epoch 2/20\n",
      "469/469 [==============================] - 2s 4ms/step - loss: 0.5001 - accuracy: 0.8703\n",
      "Epoch 3/20\n",
      "469/469 [==============================] - 2s 4ms/step - loss: 0.3874 - accuracy: 0.8927\n",
      "Epoch 4/20\n",
      "469/469 [==============================] - 2s 4ms/step - loss: 0.3426 - accuracy: 0.9025\n",
      "Epoch 5/20\n",
      "469/469 [==============================] - 2s 4ms/step - loss: 0.3146 - accuracy: 0.9107\n",
      "Epoch 6/20\n",
      "469/469 [==============================] - 2s 4ms/step - loss: 0.2941 - accuracy: 0.9168\n",
      "Epoch 7/20\n",
      "469/469 [==============================] - 2s 4ms/step - loss: 0.2780 - accuracy: 0.9207\n",
      "Epoch 8/20\n",
      "469/469 [==============================] - 2s 4ms/step - loss: 0.2637 - accuracy: 0.9250\n",
      "Epoch 9/20\n",
      "469/469 [==============================] - 2s 4ms/step - loss: 0.2514 - accuracy: 0.9283\n",
      "Epoch 10/20\n",
      "469/469 [==============================] - 2s 4ms/step - loss: 0.2404 - accuracy: 0.9315\n",
      "Epoch 11/20\n",
      "469/469 [==============================] - 2s 4ms/step - loss: 0.2305 - accuracy: 0.9341\n",
      "Epoch 12/20\n",
      "469/469 [==============================] - 2s 4ms/step - loss: 0.2213 - accuracy: 0.9372\n",
      "Epoch 13/20\n",
      "469/469 [==============================] - 2s 4ms/step - loss: 0.2129 - accuracy: 0.9397\n",
      "Epoch 14/20\n",
      "469/469 [==============================] - 2s 5ms/step - loss: 0.2054 - accuracy: 0.9417\n",
      "Epoch 15/20\n",
      "469/469 [==============================] - 2s 4ms/step - loss: 0.1985 - accuracy: 0.9436\n",
      "Epoch 16/20\n",
      "469/469 [==============================] - 2s 4ms/step - loss: 0.1919 - accuracy: 0.9457\n",
      "Epoch 17/20\n",
      "469/469 [==============================] - 2s 4ms/step - loss: 0.1858 - accuracy: 0.9476\n",
      "Epoch 18/20\n",
      "469/469 [==============================] - 2s 4ms/step - loss: 0.1801 - accuracy: 0.9485: 0s - loss: 0.1\n",
      "Epoch 19/20\n",
      "469/469 [==============================] - 2s 4ms/step - loss: 0.1748 - accuracy: 0.9501\n",
      "Epoch 20/20\n",
      "469/469 [==============================] - 2s 4ms/step - loss: 0.1701 - accuracy: 0.9511\n",
      "Accuracy: 0.9480000138282776\n"
     ]
    }
   ],
   "source": [
    "model = create_model()\n",
    "model.fit(X_train, Y_train, batch_size=128, epochs=20, verbose=1)\n",
    "scores = model.evaluate(X_test, Y_test, verbose=0)\n",
    "print('Accuracy:',scores[1])"
   ]
  },
  {
   "cell_type": "code",
   "execution_count": 6,
   "id": "b7555f70",
   "metadata": {},
   "outputs": [
    {
     "name": "stdout",
     "output_type": "stream",
     "text": [
      "Epoch 1/20\n",
      "1/1 [==============================] - 1s 1s/step - loss: 2.3343 - accuracy: 0.1028\n",
      "Epoch 2/20\n",
      "1/1 [==============================] - 0s 362ms/step - loss: 2.3285 - accuracy: 0.1040\n",
      "Epoch 3/20\n",
      "1/1 [==============================] - 0s 373ms/step - loss: 2.3229 - accuracy: 0.1057\n",
      "Epoch 4/20\n",
      "1/1 [==============================] - 0s 355ms/step - loss: 2.3173 - accuracy: 0.1075\n",
      "Epoch 5/20\n",
      "1/1 [==============================] - 0s 355ms/step - loss: 2.3118 - accuracy: 0.1094\n",
      "Epoch 6/20\n",
      "1/1 [==============================] - 0s 354ms/step - loss: 2.3064 - accuracy: 0.1113\n",
      "Epoch 7/20\n",
      "1/1 [==============================] - 0s 348ms/step - loss: 2.3009 - accuracy: 0.1135\n",
      "Epoch 8/20\n",
      "1/1 [==============================] - 0s 351ms/step - loss: 2.2956 - accuracy: 0.1162\n",
      "Epoch 9/20\n",
      "1/1 [==============================] - 0s 362ms/step - loss: 2.2903 - accuracy: 0.1190\n",
      "Epoch 10/20\n",
      "1/1 [==============================] - 0s 347ms/step - loss: 2.2850 - accuracy: 0.1214\n",
      "Epoch 11/20\n",
      "1/1 [==============================] - 0s 358ms/step - loss: 2.2798 - accuracy: 0.1244\n",
      "Epoch 12/20\n",
      "1/1 [==============================] - 0s 353ms/step - loss: 2.2746 - accuracy: 0.1272\n",
      "Epoch 13/20\n",
      "1/1 [==============================] - 0s 350ms/step - loss: 2.2694 - accuracy: 0.1310\n",
      "Epoch 14/20\n",
      "1/1 [==============================] - 0s 330ms/step - loss: 2.2643 - accuracy: 0.1347\n",
      "Epoch 15/20\n",
      "1/1 [==============================] - 0s 318ms/step - loss: 2.2592 - accuracy: 0.1392\n",
      "Epoch 16/20\n",
      "1/1 [==============================] - 0s 325ms/step - loss: 2.2541 - accuracy: 0.1438\n",
      "Epoch 17/20\n",
      "1/1 [==============================] - 0s 318ms/step - loss: 2.2490 - accuracy: 0.1484\n",
      "Epoch 18/20\n",
      "1/1 [==============================] - 0s 323ms/step - loss: 2.2440 - accuracy: 0.1532\n",
      "Epoch 19/20\n",
      "1/1 [==============================] - 0s 331ms/step - loss: 2.2389 - accuracy: 0.1582\n",
      "Epoch 20/20\n",
      "1/1 [==============================] - 0s 313ms/step - loss: 2.2339 - accuracy: 0.1639\n",
      "Accuracy: 0.17020000517368317\n"
     ]
    }
   ],
   "source": [
    "model = create_model()\n",
    "model.fit(X_train, Y_train, batch_size=60000, epochs=20, verbose=1)\n",
    "scores = model.evaluate(X_test, Y_test, verbose=0)\n",
    "print('Accuracy:',scores[1])\n"
   ]
  },
  {
   "cell_type": "markdown",
   "id": "96ad21ab",
   "metadata": {},
   "source": [
    "A batch size of 8 perfomed best, but with the high training accuracy it may be overfitting.  So a batch size of 128 should be used.\n",
    "\n",
    "# Part 2"
   ]
  },
  {
   "cell_type": "code",
   "execution_count": 7,
   "id": "bdeac29b",
   "metadata": {},
   "outputs": [],
   "source": [
    "batch_size=128"
   ]
  },
  {
   "cell_type": "code",
   "execution_count": 8,
   "id": "44cc5634",
   "metadata": {},
   "outputs": [
    {
     "name": "stderr",
     "output_type": "stream",
     "text": [
      "c:\\users\\anned\\appdata\\local\\programs\\python\\python39\\lib\\site-packages\\keras\\optimizer_v2\\optimizer_v2.py:355: UserWarning: The `lr` argument is deprecated, use `learning_rate` instead.\n",
      "  warnings.warn(\n"
     ]
    },
    {
     "name": "stdout",
     "output_type": "stream",
     "text": [
      "Epoch 1/20\n",
      "469/469 [==============================] - 3s 4ms/step - loss: 1.2430 - accuracy: 0.6823\n",
      "Epoch 2/20\n",
      "469/469 [==============================] - 2s 4ms/step - loss: 0.4919 - accuracy: 0.8693\n",
      "Epoch 3/20\n",
      "469/469 [==============================] - 2s 4ms/step - loss: 0.3862 - accuracy: 0.8920\n",
      "Epoch 4/20\n",
      "469/469 [==============================] - 2s 4ms/step - loss: 0.3437 - accuracy: 0.9025\n",
      "Epoch 5/20\n",
      "469/469 [==============================] - 2s 4ms/step - loss: 0.3173 - accuracy: 0.9093\n",
      "Epoch 6/20\n",
      "469/469 [==============================] - 2s 4ms/step - loss: 0.2981 - accuracy: 0.9139\n",
      "Epoch 7/20\n",
      "469/469 [==============================] - 2s 4ms/step - loss: 0.2824 - accuracy: 0.9184\n",
      "Epoch 8/20\n",
      "469/469 [==============================] - 2s 4ms/step - loss: 0.2694 - accuracy: 0.9224\n",
      "Epoch 9/20\n",
      "469/469 [==============================] - 2s 4ms/step - loss: 0.2577 - accuracy: 0.9265\n",
      "Epoch 10/20\n",
      "469/469 [==============================] - 2s 4ms/step - loss: 0.2472 - accuracy: 0.9291\n",
      "Epoch 11/20\n",
      "469/469 [==============================] - 2s 4ms/step - loss: 0.2376 - accuracy: 0.9318\n",
      "Epoch 12/20\n",
      "469/469 [==============================] - 2s 4ms/step - loss: 0.2292 - accuracy: 0.9345\n",
      "Epoch 13/20\n",
      "469/469 [==============================] - 2s 4ms/step - loss: 0.2209 - accuracy: 0.9362\n",
      "Epoch 14/20\n",
      "469/469 [==============================] - 2s 4ms/step - loss: 0.2131 - accuracy: 0.9389\n",
      "Epoch 15/20\n",
      "469/469 [==============================] - 2s 4ms/step - loss: 0.2060 - accuracy: 0.9407\n",
      "Epoch 16/20\n",
      "469/469 [==============================] - 2s 4ms/step - loss: 0.1992 - accuracy: 0.9428\n",
      "Epoch 17/20\n",
      "469/469 [==============================] - 2s 4ms/step - loss: 0.1927 - accuracy: 0.9450\n",
      "Epoch 18/20\n",
      "469/469 [==============================] - 2s 4ms/step - loss: 0.1867 - accuracy: 0.9464\n",
      "Epoch 19/20\n",
      "469/469 [==============================] - 2s 5ms/step - loss: 0.1810 - accuracy: 0.9480\n",
      "Epoch 20/20\n",
      "469/469 [==============================] - 2s 4ms/step - loss: 0.1756 - accuracy: 0.9493\n",
      "Accuracy: 0.9506999850273132\n"
     ]
    }
   ],
   "source": [
    "model = create_model(optimizers.SGD(lr=0.01))\n",
    "model.fit(X_train, Y_train, batch_size=batch_size, epochs=20, verbose=1)\n",
    "scores = model.evaluate(X_test, Y_test, verbose=0)\n",
    "print('Accuracy:',scores[1])"
   ]
  },
  {
   "cell_type": "code",
   "execution_count": 9,
   "id": "847d8205",
   "metadata": {},
   "outputs": [
    {
     "name": "stdout",
     "output_type": "stream",
     "text": [
      "Epoch 1/20\n",
      "469/469 [==============================] - 3s 4ms/step - loss: 20227722013264838656.0000 - accuracy: 0.1002\n",
      "Epoch 2/20\n",
      "469/469 [==============================] - 2s 5ms/step - loss: 39.6550 - accuracy: 0.1023\n",
      "Epoch 3/20\n",
      "469/469 [==============================] - 2s 4ms/step - loss: 41.0835 - accuracy: 0.1014\n",
      "Epoch 4/20\n",
      "469/469 [==============================] - 2s 4ms/step - loss: 39.6448 - accuracy: 0.1013\n",
      "Epoch 5/20\n",
      "469/469 [==============================] - 2s 4ms/step - loss: 38.6449 - accuracy: 0.1013\n",
      "Epoch 6/20\n",
      "469/469 [==============================] - 2s 4ms/step - loss: 40.3247 - accuracy: 0.1013\n",
      "Epoch 7/20\n",
      "469/469 [==============================] - 2s 4ms/step - loss: 39.9589 - accuracy: 0.0997\n",
      "Epoch 8/20\n",
      "469/469 [==============================] - 2s 4ms/step - loss: 39.8113 - accuracy: 0.1029\n",
      "Epoch 9/20\n",
      "469/469 [==============================] - 2s 4ms/step - loss: 39.7277 - accuracy: 0.0995\n",
      "Epoch 10/20\n",
      "469/469 [==============================] - 2s 4ms/step - loss: 40.6446 - accuracy: 0.1007\n",
      "Epoch 11/20\n",
      "469/469 [==============================] - 2s 4ms/step - loss: 39.9663 - accuracy: 0.0996\n",
      "Epoch 12/20\n",
      "469/469 [==============================] - 2s 4ms/step - loss: 39.9568 - accuracy: 0.0971\n",
      "Epoch 13/20\n",
      "469/469 [==============================] - 2s 4ms/step - loss: 39.2790 - accuracy: 0.1012\n",
      "Epoch 14/20\n",
      "469/469 [==============================] - 2s 4ms/step - loss: 40.2071 - accuracy: 0.1019\n",
      "Epoch 15/20\n",
      "469/469 [==============================] - 2s 4ms/step - loss: 39.8747 - accuracy: 0.1003\n",
      "Epoch 16/20\n",
      "469/469 [==============================] - 2s 4ms/step - loss: 40.2081 - accuracy: 0.1014\n",
      "Epoch 17/20\n",
      "469/469 [==============================] - 2s 4ms/step - loss: 40.6270 - accuracy: 0.0979\n",
      "Epoch 18/20\n",
      "469/469 [==============================] - 2s 4ms/step - loss: 40.0072 - accuracy: 0.0997\n",
      "Epoch 19/20\n",
      "469/469 [==============================] - 2s 4ms/step - loss: 39.5305 - accuracy: 0.0989\n",
      "Epoch 20/20\n",
      "469/469 [==============================] - 2s 4ms/step - loss: 40.2768 - accuracy: 0.1023\n",
      "Accuracy: 0.11349999904632568\n"
     ]
    }
   ],
   "source": [
    "model = create_model(optimizers.SGD(lr=100))\n",
    "model.fit(X_train, Y_train, batch_size=batch_size, epochs=20, verbose=1)\n",
    "scores = model.evaluate(X_test, Y_test, verbose=0)\n",
    "print('Accuracy:',scores[1])"
   ]
  },
  {
   "cell_type": "code",
   "execution_count": 10,
   "id": "bcc268ef",
   "metadata": {},
   "outputs": [
    {
     "name": "stdout",
     "output_type": "stream",
     "text": [
      "Epoch 1/20\n",
      "469/469 [==============================] - 3s 4ms/step - loss: 2.3698 - accuracy: 0.0866\n",
      "Epoch 2/20\n",
      "469/469 [==============================] - 2s 4ms/step - loss: 2.3698 - accuracy: 0.0866\n",
      "Epoch 3/20\n",
      "469/469 [==============================] - 2s 4ms/step - loss: 2.3697 - accuracy: 0.0866\n",
      "Epoch 4/20\n",
      "469/469 [==============================] - 2s 4ms/step - loss: 2.3697 - accuracy: 0.0866\n",
      "Epoch 5/20\n",
      "469/469 [==============================] - 2s 4ms/step - loss: 2.3697 - accuracy: 0.0866\n",
      "Epoch 6/20\n",
      "469/469 [==============================] - 2s 4ms/step - loss: 2.3697 - accuracy: 0.0866\n",
      "Epoch 7/20\n",
      "469/469 [==============================] - 2s 4ms/step - loss: 2.3697 - accuracy: 0.0865\n",
      "Epoch 8/20\n",
      "469/469 [==============================] - 2s 4ms/step - loss: 2.3697 - accuracy: 0.0865\n",
      "Epoch 9/20\n",
      "469/469 [==============================] - 2s 4ms/step - loss: 2.3697 - accuracy: 0.0865\n",
      "Epoch 10/20\n",
      "469/469 [==============================] - 2s 4ms/step - loss: 2.3697 - accuracy: 0.0865\n",
      "Epoch 11/20\n",
      "469/469 [==============================] - 2s 4ms/step - loss: 2.3696 - accuracy: 0.0865\n",
      "Epoch 12/20\n",
      "469/469 [==============================] - 2s 4ms/step - loss: 2.3696 - accuracy: 0.0866\n",
      "Epoch 13/20\n",
      "469/469 [==============================] - 2s 4ms/step - loss: 2.3696 - accuracy: 0.0866\n",
      "Epoch 14/20\n",
      "469/469 [==============================] - 2s 4ms/step - loss: 2.3696 - accuracy: 0.0866\n",
      "Epoch 15/20\n",
      "469/469 [==============================] - 2s 4ms/step - loss: 2.3696 - accuracy: 0.0866\n",
      "Epoch 16/20\n",
      "469/469 [==============================] - 2s 4ms/step - loss: 2.3696 - accuracy: 0.0866\n",
      "Epoch 17/20\n",
      "469/469 [==============================] - 2s 4ms/step - loss: 2.3696 - accuracy: 0.0866\n",
      "Epoch 18/20\n",
      "469/469 [==============================] - 2s 4ms/step - loss: 2.3695 - accuracy: 0.0865\n",
      "Epoch 19/20\n",
      "469/469 [==============================] - 2s 4ms/step - loss: 2.3695 - accuracy: 0.0865\n",
      "Epoch 20/20\n",
      "469/469 [==============================] - 2s 4ms/step - loss: 2.3695 - accuracy: 0.0865\n",
      "Accuracy: 0.08320000022649765\n"
     ]
    }
   ],
   "source": [
    "model = create_model(optimizers.SGD(lr=0.0000001))\n",
    "model.fit(X_train, Y_train, batch_size=batch_size, epochs=20, verbose=1)\n",
    "scores = model.evaluate(X_test, Y_test, verbose=0)\n",
    "print('Accuracy:',scores[1])"
   ]
  },
  {
   "cell_type": "markdown",
   "id": "df8e11de",
   "metadata": {},
   "source": [
    "The model diverged with a learning rate of 100. Using a learning rate of 0.0000001 converged very slowly and didn't improve.  I would chose 0.01 as a learning rate."
   ]
  }
 ],
 "metadata": {
  "kernelspec": {
   "display_name": "Python 3",
   "language": "python",
   "name": "python3"
  },
  "language_info": {
   "codemirror_mode": {
    "name": "ipython",
    "version": 3
   },
   "file_extension": ".py",
   "mimetype": "text/x-python",
   "name": "python",
   "nbconvert_exporter": "python",
   "pygments_lexer": "ipython3",
   "version": "3.9.5"
  }
 },
 "nbformat": 4,
 "nbformat_minor": 5
}
