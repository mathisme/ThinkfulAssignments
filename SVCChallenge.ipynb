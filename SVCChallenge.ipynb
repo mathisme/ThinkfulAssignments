{
 "cells": [
  {
   "cell_type": "code",
   "execution_count": 1,
   "id": "94d50b79",
   "metadata": {},
   "outputs": [],
   "source": [
    "import numpy as np\n",
    "import pandas as pd\n",
    "import matplotlib.pyplot as plt\n",
    "import seaborn as sns"
   ]
  },
  {
   "cell_type": "code",
   "execution_count": 2,
   "id": "1758208d",
   "metadata": {},
   "outputs": [],
   "source": [
    "df = pd.read_csv('https://tf-assets-prod.s3.amazonaws.com/tf-curric/data-science/epi_r.csv')"
   ]
  },
  {
   "cell_type": "code",
   "execution_count": 3,
   "id": "849481ba",
   "metadata": {},
   "outputs": [
    {
     "name": "stdout",
     "output_type": "stream",
     "text": [
      "<class 'pandas.core.frame.DataFrame'>\n",
      "RangeIndex: 20052 entries, 0 to 20051\n",
      "Columns: 680 entries, title to turkey\n",
      "dtypes: float64(679), object(1)\n",
      "memory usage: 104.0+ MB\n"
     ]
    }
   ],
   "source": [
    "df.info()"
   ]
  },
  {
   "cell_type": "code",
   "execution_count": 6,
   "id": "46ab93d6",
   "metadata": {},
   "outputs": [
    {
     "name": "stdout",
     "output_type": "stream",
     "text": [
      "title , rating , calories , protein , fat , sodium , #cakeweek , #wasteless , 22-minute meals , 3-ingredient recipes , 30 days of groceries , advance prep required , alabama , alaska , alcoholic , almond , amaretto , anchovy , anise , anniversary , anthony bourdain , aperitif , appetizer , apple , apple juice , apricot , arizona , artichoke , arugula , asian pear , asparagus , aspen , atlanta , australia , avocado , back to school , backyard bbq , bacon , bake , banana , barley , basil , bass , bastille day , bean , beef , beef rib , beef shank , beef tenderloin , beer , beet , bell pepper , berry , beverly hills , birthday , biscuit , bitters , blackberry , blender , blue cheese , blueberry , boil , bok choy , bon appétit , bon app��tit , boston , bourbon , braise , bran , brandy , bread , breadcrumbs , breakfast , brie , brine , brisket , broccoli , broccoli rabe , broil , brooklyn , brown rice , brownie , brunch , brussel sprout , buffalo , buffet , bulgaria , bulgur , burrito , butter , buttermilk , butternut squash , butterscotch/caramel , cabbage , cake , california , calvados , cambridge , campari , camping , canada , candy , candy thermometer , cantaloupe , capers , caraway , cardamom , carrot , cashew , casserole/gratin , cauliflower , caviar , celery , chambord , champagne , chard , chartreuse , cheddar , cheese , cherry , chestnut , chicago , chicken , chickpea , chile , chile pepper , chili , chill , chive , chocolate , christmas , christmas eve , cilantro , cinco de mayo , cinnamon , citrus , clam , clove , cobbler/crumble , cocktail , cocktail party , coconut , cod , coffee , coffee grinder , cognac/armagnac , collard greens , colorado , columbus , condiment , condiment/spread , connecticut , cook like a diner , cookbook critic , cookie , cookies , coriander , corn , cornmeal , costa mesa , cottage cheese , couscous , crab , cranberry , cranberry sauce , cream cheese , créme de cacao , crêpe , cr��me de cacao , cuba , cucumber , cumin , cupcake , currant , curry , custard , dairy , dairy free , dallas , date , deep-fry , denver , dessert , digestif , dill , dinner , dip , diwali , dominican republic , dorie greenspan , double boiler , dried fruit , drink , drinks , duck , easter , eau de vie , edible gift , egg , egg nog , eggplant , egypt , emeril lagasse , endive , engagement party , england , entertaining , epi + ushg , epi loves the microwave , escarole , fall , family reunion , fat free , father's day , fennel , feta , fig , fish , flaming hot summer , flat bread , florida , fontina , food processor , fortified wine , fourth of july , france , frangelico , frankenrecipe , freeze/chill , freezer food , friendsgiving , frittata , fritter , frozen dessert , fruit , fruit juice , fry , game , garlic , georgia , germany , gin , ginger , goat cheese , goose , gouda , gourmet , graduation , grains , grand marnier , granola , grape , grapefruit , grappa , green bean , green onion/scallion , grill , grill/barbecue , ground beef , ground lamb , guam , guava , haiti , halibut , halloween , ham , hamburger , hanukkah , harpercollins , hawaii , hazelnut , healdsburg , healthy , herb , high fiber , hollywood , hominy/cornmeal/masa , honey , honeydew , hors d'oeuvre , horseradish , hot drink , hot pepper , house & garden , house cocktail , houston , hummus , ice cream , ice cream machine , iced coffee , iced tea , idaho , illinois , indiana , iowa , ireland , israel , italy , jalapeño , jam or jelly , jamaica , japan , jerusalem artichoke , juicer , jícama , kahlúa , kale , kansas , kansas city , kentucky , kentucky derby , kid-friendly , kidney friendly , kirsch , kitchen olympics , kiwi , kosher , kosher for passover , kumquat , kwanzaa , labor day , lamb , lamb chop , lamb shank , lancaster , las vegas , lasagna , leafy green , leek , legume , lemon , lemon juice , lemongrass , lentil , lettuce , lima bean , lime , lime juice , lingonberry , liqueur , lobster , london , long beach , los angeles , louisiana , louisville , low cal , low carb , low cholesterol , low fat , low sodium , low sugar , low/no sugar , lunar new year , lunch , lychee , macadamia nut , macaroni and cheese , maine , mandoline , mango , maple syrup , mardi gras , margarita , marinade , marinate , marsala , marscarpone , marshmallow , martini , maryland , massachusetts , mayonnaise , meat , meatball , meatloaf , melon , mexico , mezcal , miami , michigan , microwave , midori , milk/cream , minneapolis , minnesota , mint , mississippi , missouri , mixer , molasses , monterey jack , mortar and pestle , mother's day , mozzarella , muffin , mushroom , mussel , mustard , mustard greens , nancy silverton , nebraska , nectarine , new hampshire , new jersey , new mexico , new orleans , new year's day , new year's eve , new york , no meat, no problem , no sugar added , no-cook , non-alcoholic , noodle , north carolina , nut , nutmeg , oat , oatmeal , octopus , ohio , oklahoma , okra , oktoberfest , olive , omelet , one-pot meal , onion , orange , orange juice , oregano , oregon , organic , orzo , oscars , oyster , pacific palisades , paleo , pan-fry , pancake , papaya , paprika , parade , paris , parmesan , parsley , parsnip , party , pasadena , passion fruit , passover , pasta , pasta maker , pastry , pea , peach , peanut , peanut butter , peanut free , pear , pecan , pennsylvania , pepper , pernod , persian new year , persimmon , peru , pescatarian , philippines , phyllo/puff pastry dough , pickles , picnic , pie , pine nut , pineapple , pistachio , pittsburgh , pizza , plantain , plum , poach , poblano , poker/game night , pomegranate , pomegranate juice , poppy , pork , pork chop , pork rib , pork tenderloin , port , portland , pot pie , potato , potato salad , potluck , poultry , poultry sausage , pressure cooker , prosciutto , providence , prune , pumpkin , punch , purim , quail , quiche , quick & easy , quick and healthy , quince , quinoa , rabbit , rack of lamb , radicchio , radish , raisin , ramadan , ramekin , raspberry , raw , red wine , rhode island , rhubarb , rice , ricotta , roast , root vegetable , rosemary , rosh hashanah/yom kippur , rosé , rub , rum , rutabaga , rye , saffron , sage , sake , salad , salad dressing , salmon , salsa , san francisco , sandwich , sandwich theory , sangria , santa monica , sardine , sauce , sausage , sauté , scallop , scotch , seafood , seattle , seed , self , semolina , sesame , sesame oil , shallot , shavuot , shellfish , sherry , shower , shrimp , side , simmer , skewer , slow cooker , smoker , smoothie , snapper , sorbet , soufflé/meringue , soup/stew , sour cream , sourdough , south carolina , soy , soy free , soy sauce , spain , sparkling wine , spice , spinach , spirit , spring , spritzer , squash , squid , st. louis , st. patrick's day , steak , steam , stew , stir-fry , stock , strawberry , stuffing/dressing , sugar conscious , sugar snap pea , sukkot , summer , super bowl , suzanne goin , sweet potato/yam , swiss cheese , switzerland , swordfish , taco , tailgating , tamarind , tangerine , tapioca , tarragon , tart , tea , tennessee , tequila , tested & improved , texas , thanksgiving , thyme , tilapia , tofu , tomatillo , tomato , tortillas , tree nut , tree nut free , triple sec , tropical fruit , trout , tuna , turnip , utah , valentine's day , vanilla , veal , vegan , vegetable , vegetarian , venison , vermont , vermouth , vinegar , virginia , vodka , waffle , walnut , wasabi , washington , washington, d.c. , watercress , watermelon , wedding , weelicious , west virginia , westwood , wheat/gluten-free , whiskey , white wine , whole wheat , wild rice , windsor , wine , winter , wisconsin , wok , yellow squash , yogurt , yonkers , yuca , zucchini , cookbooks , leftovers , snack , snack week , turkey , "
     ]
    }
   ],
   "source": [
    "for x in df.columns:\n",
    "    print(x,\", \",end='')"
   ]
  },
  {
   "cell_type": "code",
   "execution_count": 9,
   "id": "c0a4e5d1",
   "metadata": {},
   "outputs": [
    {
     "data": {
      "text/plain": [
       "calories    4117\n",
       "protein     4162\n",
       "fat         4183\n",
       "sodium      4119\n",
       "dtype: int64"
      ]
     },
     "execution_count": 9,
     "metadata": {},
     "output_type": "execute_result"
    }
   ],
   "source": [
    "nulls = df.isnull().sum()\n",
    "nulls[nulls > 0]"
   ]
  },
  {
   "cell_type": "code",
   "execution_count": 10,
   "id": "3a849d88",
   "metadata": {},
   "outputs": [
    {
     "data": {
      "text/plain": [
       "20052"
      ]
     },
     "execution_count": 10,
     "metadata": {},
     "output_type": "execute_result"
    }
   ],
   "source": [
    "df.shape[0]"
   ]
  },
  {
   "cell_type": "code",
   "execution_count": 12,
   "id": "466a8d67",
   "metadata": {},
   "outputs": [
    {
     "data": {
      "text/plain": [
       "4.375    8019\n",
       "3.750    5169\n",
       "5.000    2719\n",
       "0.000    1836\n",
       "3.125    1489\n",
       "2.500     532\n",
       "1.250     164\n",
       "1.875     124\n",
       "Name: rating, dtype: int64"
      ]
     },
     "execution_count": 12,
     "metadata": {},
     "output_type": "execute_result"
    }
   ],
   "source": [
    "df.rating.value_counts()"
   ]
  },
  {
   "cell_type": "markdown",
   "id": "dc370dee",
   "metadata": {},
   "source": [
    "Want to make it into a binary classifier and cut it down to the thirty most valuable features.\n",
    "Question 1 -- where to split it for binary classification, at 3.75,4...?\n",
    "Question 2 -- how to find the thirty most valuable features.  For this maybe want to use corr and see if any corr are greater than 0.5 (which is a weak corr but still).  Maybe also create a decision tree and use that to find features."
   ]
  },
  {
   "cell_type": "code",
   "execution_count": 13,
   "id": "5ce87113",
   "metadata": {},
   "outputs": [
    {
     "data": {
      "text/html": [
       "<div>\n",
       "<style scoped>\n",
       "    .dataframe tbody tr th:only-of-type {\n",
       "        vertical-align: middle;\n",
       "    }\n",
       "\n",
       "    .dataframe tbody tr th {\n",
       "        vertical-align: top;\n",
       "    }\n",
       "\n",
       "    .dataframe thead th {\n",
       "        text-align: right;\n",
       "    }\n",
       "</style>\n",
       "<table border=\"1\" class=\"dataframe\">\n",
       "  <thead>\n",
       "    <tr style=\"text-align: right;\">\n",
       "      <th></th>\n",
       "      <th>title</th>\n",
       "    </tr>\n",
       "  </thead>\n",
       "  <tbody>\n",
       "    <tr>\n",
       "      <th>0</th>\n",
       "      <td>Lentil, Apple, and Turkey Wrap</td>\n",
       "    </tr>\n",
       "    <tr>\n",
       "      <th>1</th>\n",
       "      <td>Boudin Blanc Terrine with Red Onion Confit</td>\n",
       "    </tr>\n",
       "    <tr>\n",
       "      <th>2</th>\n",
       "      <td>Potato and Fennel Soup Hodge</td>\n",
       "    </tr>\n",
       "    <tr>\n",
       "      <th>3</th>\n",
       "      <td>Mahi-Mahi in Tomato Olive Sauce</td>\n",
       "    </tr>\n",
       "    <tr>\n",
       "      <th>4</th>\n",
       "      <td>Spinach Noodle Casserole</td>\n",
       "    </tr>\n",
       "    <tr>\n",
       "      <th>...</th>\n",
       "      <td>...</td>\n",
       "    </tr>\n",
       "    <tr>\n",
       "      <th>20047</th>\n",
       "      <td>Parmesan Puffs</td>\n",
       "    </tr>\n",
       "    <tr>\n",
       "      <th>20048</th>\n",
       "      <td>Artichoke and Parmesan Risotto</td>\n",
       "    </tr>\n",
       "    <tr>\n",
       "      <th>20049</th>\n",
       "      <td>Turkey Cream Puff Pie</td>\n",
       "    </tr>\n",
       "    <tr>\n",
       "      <th>20050</th>\n",
       "      <td>Snapper on Angel Hair with Citrus Cream</td>\n",
       "    </tr>\n",
       "    <tr>\n",
       "      <th>20051</th>\n",
       "      <td>Baked Ham with Marmalade-Horseradish Glaze</td>\n",
       "    </tr>\n",
       "  </tbody>\n",
       "</table>\n",
       "<p>20052 rows × 1 columns</p>\n",
       "</div>"
      ],
      "text/plain": [
       "                                             title\n",
       "0                  Lentil, Apple, and Turkey Wrap \n",
       "1      Boudin Blanc Terrine with Red Onion Confit \n",
       "2                    Potato and Fennel Soup Hodge \n",
       "3                 Mahi-Mahi in Tomato Olive Sauce \n",
       "4                        Spinach Noodle Casserole \n",
       "...                                            ...\n",
       "20047                              Parmesan Puffs \n",
       "20048              Artichoke and Parmesan Risotto \n",
       "20049                       Turkey Cream Puff Pie \n",
       "20050     Snapper on Angel Hair with Citrus Cream \n",
       "20051  Baked Ham with Marmalade-Horseradish Glaze \n",
       "\n",
       "[20052 rows x 1 columns]"
      ]
     },
     "execution_count": 13,
     "metadata": {},
     "output_type": "execute_result"
    }
   ],
   "source": [
    "df.select_dtypes(include='object')"
   ]
  },
  {
   "cell_type": "code",
   "execution_count": 19,
   "id": "7eca4e25",
   "metadata": {},
   "outputs": [],
   "source": [
    "df2 = df.drop('title',axis=1).copy()"
   ]
  },
  {
   "cell_type": "code",
   "execution_count": 39,
   "id": "cb356acf",
   "metadata": {},
   "outputs": [
    {
     "data": {
      "text/plain": [
       "rating          5.0\n",
       "calories      545.8\n",
       "protein        29.4\n",
       "fat            28.6\n",
       "sodium        789.8\n",
       "              ...  \n",
       "cookbooks       0.0\n",
       "leftovers       0.0\n",
       "snack           0.0\n",
       "snack week      0.0\n",
       "turkey          0.0\n",
       "Name: 3, Length: 679, dtype: float64"
      ]
     },
     "execution_count": 39,
     "metadata": {},
     "output_type": "execute_result"
    }
   ],
   "source": [
    "from sklearn.impute import KNNImputer\n",
    "imp = KNNImputer()\n",
    "df3 = pd.DataFrame(imp.fit_transform((df2.fillna(np.nan)).values),columns=df2.columns)\n",
    "df3.loc[3]"
   ]
  },
  {
   "cell_type": "code",
   "execution_count": 44,
   "id": "d0545015",
   "metadata": {},
   "outputs": [
    {
     "data": {
      "text/plain": [
       "['fat',\n",
       " 'dried fruit',\n",
       " 'calories',\n",
       " 'protein',\n",
       " 'hot pepper',\n",
       " 'gouda',\n",
       " 'hanukkah',\n",
       " 'bok choy',\n",
       " 'vegetable',\n",
       " 'cobbler/crumble',\n",
       " 'sukkot',\n",
       " 'kentucky derby',\n",
       " 'quiche',\n",
       " 'bacon',\n",
       " 'columbus',\n",
       " 'dairy',\n",
       " 'dill',\n",
       " 'parsnip',\n",
       " 'tree nut',\n",
       " 'texas',\n",
       " 'denver',\n",
       " 'westwood',\n",
       " 'kiwi',\n",
       " 'custard',\n",
       " 'midori',\n",
       " 'healdsburg',\n",
       " 'legume',\n",
       " 'ramekin',\n",
       " 'blueberry',\n",
       " 'kid-friendly']"
      ]
     },
     "execution_count": 44,
     "metadata": {},
     "output_type": "execute_result"
    }
   ],
   "source": [
    "# Using a decision tree to find the most important features\n",
    "X = df3.drop('rating',axis=1)\n",
    "y = df3.rating\n",
    "from sklearn.tree import DecisionTreeRegressor\n",
    "dt = DecisionTreeRegressor()\n",
    "dt.fit(X,y)\n",
    "features = zip(list(df3.columns),list(dt.feature_importances_))\n",
    "lst = (sorted(features, key = lambda x:x[1],reverse=True))[1:31]\n",
    "features = [l[0] for l in lst]\n",
    "features"
   ]
  },
  {
   "cell_type": "code",
   "execution_count": 45,
   "id": "fdb0560a",
   "metadata": {},
   "outputs": [],
   "source": [
    "X = df3[features]\n",
    "y = df3.rating"
   ]
  },
  {
   "cell_type": "code",
   "execution_count": 46,
   "id": "f8fb1a7e",
   "metadata": {},
   "outputs": [
    {
     "data": {
      "text/plain": [
       "4.375    8019\n",
       "3.750    5169\n",
       "5.000    2719\n",
       "0.000    1836\n",
       "3.125    1489\n",
       "2.500     532\n",
       "1.250     164\n",
       "1.875     124\n",
       "Name: rating, dtype: int64"
      ]
     },
     "execution_count": 46,
     "metadata": {},
     "output_type": "execute_result"
    }
   ],
   "source": [
    "y.value_counts()"
   ]
  },
  {
   "cell_type": "code",
   "execution_count": 50,
   "id": "5891f15f",
   "metadata": {},
   "outputs": [],
   "source": [
    "y = y.apply(lambda x: int(x>3.75))"
   ]
  },
  {
   "cell_type": "code",
   "execution_count": 51,
   "id": "79d85f94",
   "metadata": {},
   "outputs": [],
   "source": [
    "# also normalize x"
   ]
  },
  {
   "cell_type": "code",
   "execution_count": 55,
   "id": "28318830",
   "metadata": {},
   "outputs": [],
   "source": [
    "X = (X - X.mean())/X.std()"
   ]
  },
  {
   "cell_type": "code",
   "execution_count": 56,
   "id": "94545251",
   "metadata": {},
   "outputs": [],
   "source": [
    "from sklearn.model_selection import train_test_split\n",
    "X_train, X_test, y_train, y_test = train_test_split(X,y,test_size=0.2,random_state = 675)"
   ]
  },
  {
   "cell_type": "code",
   "execution_count": 57,
   "id": "058c1fbc",
   "metadata": {},
   "outputs": [
    {
     "data": {
      "text/plain": [
       "0.5422587883320867"
      ]
     },
     "execution_count": 57,
     "metadata": {},
     "output_type": "execute_result"
    }
   ],
   "source": [
    "from sklearn.svm import SVC\n",
    "svc = SVC()\n",
    "svc.fit(X_train,y_train)\n",
    "svc.score(X_test,y_test)"
   ]
  },
  {
   "cell_type": "code",
   "execution_count": null,
   "id": "b3c753b8",
   "metadata": {},
   "outputs": [],
   "source": []
  }
 ],
 "metadata": {
  "kernelspec": {
   "display_name": "Python 3",
   "language": "python",
   "name": "python3"
  },
  "language_info": {
   "codemirror_mode": {
    "name": "ipython",
    "version": 3
   },
   "file_extension": ".py",
   "mimetype": "text/x-python",
   "name": "python",
   "nbconvert_exporter": "python",
   "pygments_lexer": "ipython3",
   "version": "3.9.5"
  }
 },
 "nbformat": 4,
 "nbformat_minor": 5
}
