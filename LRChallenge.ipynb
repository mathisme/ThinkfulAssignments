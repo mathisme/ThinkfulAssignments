{
 "cells": [
  {
   "cell_type": "code",
   "execution_count": 1,
   "id": "72d8fc05",
   "metadata": {},
   "outputs": [],
   "source": [
    "import pandas as pd\n",
    "import numpy as np\n",
    "import matplotlib.pyplot as plt\n",
    "import seaborn as sns\n",
    "from sklearn.linear_model import LinearRegression\n",
    "from sklearn.linear_model import RidgeCV, LassoCV, ElasticNetCV\n",
    "from sklearn.model_selection import train_test_split\n",
    "from sklearn.metrics import mean_absolute_error\n",
    "from sklearn.impute import KNNImputer\n",
    "import statsmodels.api as sm\n",
    "from statsmodels.tools.eval_measures import mse, rmse\n",
    "from sqlalchemy import create_engine\n",
    "import warnings\n",
    "\n",
    "warnings.filterwarnings('ignore')"
   ]
  },
  {
   "cell_type": "code",
   "execution_count": 2,
   "id": "a8de24e8",
   "metadata": {},
   "outputs": [],
   "source": [
    "postgres_user = 'dsbc_student'\n",
    "postgres_pw = '7*.8G9QH21'\n",
    "postgres_host = '142.93.121.174'\n",
    "postgres_port = '5432'\n",
    "postgres_db = 'houseprices'"
   ]
  },
  {
   "cell_type": "code",
   "execution_count": 5,
   "id": "8c3fd7e2",
   "metadata": {},
   "outputs": [],
   "source": [
    "engine = create_engine('postgresql://{}:{}@{}:{}/{}'.format(\n",
    "    postgres_user, postgres_pw, postgres_host, postgres_port, postgres_db))\n",
    "df = pd.read_sql_query('select * from houseprices',con=engine)\n",
    "\n",
    "engine.dispose()"
   ]
  },
  {
   "cell_type": "code",
   "execution_count": 6,
   "id": "0ca08bcc",
   "metadata": {},
   "outputs": [
    {
     "name": "stdout",
     "output_type": "stream",
     "text": [
      "<class 'pandas.core.frame.DataFrame'>\n",
      "RangeIndex: 1460 entries, 0 to 1459\n",
      "Data columns (total 81 columns):\n",
      " #   Column         Non-Null Count  Dtype  \n",
      "---  ------         --------------  -----  \n",
      " 0   id             1460 non-null   int64  \n",
      " 1   mssubclass     1460 non-null   int64  \n",
      " 2   mszoning       1460 non-null   object \n",
      " 3   lotfrontage    1201 non-null   float64\n",
      " 4   lotarea        1460 non-null   int64  \n",
      " 5   street         1460 non-null   object \n",
      " 6   alley          91 non-null     object \n",
      " 7   lotshape       1460 non-null   object \n",
      " 8   landcontour    1460 non-null   object \n",
      " 9   utilities      1460 non-null   object \n",
      " 10  lotconfig      1460 non-null   object \n",
      " 11  landslope      1460 non-null   object \n",
      " 12  neighborhood   1460 non-null   object \n",
      " 13  condition1     1460 non-null   object \n",
      " 14  condition2     1460 non-null   object \n",
      " 15  bldgtype       1460 non-null   object \n",
      " 16  housestyle     1460 non-null   object \n",
      " 17  overallqual    1460 non-null   int64  \n",
      " 18  overallcond    1460 non-null   int64  \n",
      " 19  yearbuilt      1460 non-null   int64  \n",
      " 20  yearremodadd   1460 non-null   int64  \n",
      " 21  roofstyle      1460 non-null   object \n",
      " 22  roofmatl       1460 non-null   object \n",
      " 23  exterior1st    1460 non-null   object \n",
      " 24  exterior2nd    1460 non-null   object \n",
      " 25  masvnrtype     1452 non-null   object \n",
      " 26  masvnrarea     1452 non-null   float64\n",
      " 27  exterqual      1460 non-null   object \n",
      " 28  extercond      1460 non-null   object \n",
      " 29  foundation     1460 non-null   object \n",
      " 30  bsmtqual       1423 non-null   object \n",
      " 31  bsmtcond       1423 non-null   object \n",
      " 32  bsmtexposure   1422 non-null   object \n",
      " 33  bsmtfintype1   1423 non-null   object \n",
      " 34  bsmtfinsf1     1460 non-null   int64  \n",
      " 35  bsmtfintype2   1422 non-null   object \n",
      " 36  bsmtfinsf2     1460 non-null   int64  \n",
      " 37  bsmtunfsf      1460 non-null   int64  \n",
      " 38  totalbsmtsf    1460 non-null   int64  \n",
      " 39  heating        1460 non-null   object \n",
      " 40  heatingqc      1460 non-null   object \n",
      " 41  centralair     1460 non-null   object \n",
      " 42  electrical     1459 non-null   object \n",
      " 43  firstflrsf     1460 non-null   int64  \n",
      " 44  secondflrsf    1460 non-null   int64  \n",
      " 45  lowqualfinsf   1460 non-null   int64  \n",
      " 46  grlivarea      1460 non-null   int64  \n",
      " 47  bsmtfullbath   1460 non-null   int64  \n",
      " 48  bsmthalfbath   1460 non-null   int64  \n",
      " 49  fullbath       1460 non-null   int64  \n",
      " 50  halfbath       1460 non-null   int64  \n",
      " 51  bedroomabvgr   1460 non-null   int64  \n",
      " 52  kitchenabvgr   1460 non-null   int64  \n",
      " 53  kitchenqual    1460 non-null   object \n",
      " 54  totrmsabvgrd   1460 non-null   int64  \n",
      " 55  functional     1460 non-null   object \n",
      " 56  fireplaces     1460 non-null   int64  \n",
      " 57  fireplacequ    770 non-null    object \n",
      " 58  garagetype     1379 non-null   object \n",
      " 59  garageyrblt    1379 non-null   float64\n",
      " 60  garagefinish   1379 non-null   object \n",
      " 61  garagecars     1460 non-null   int64  \n",
      " 62  garagearea     1460 non-null   int64  \n",
      " 63  garagequal     1379 non-null   object \n",
      " 64  garagecond     1379 non-null   object \n",
      " 65  paveddrive     1460 non-null   object \n",
      " 66  wooddecksf     1460 non-null   int64  \n",
      " 67  openporchsf    1460 non-null   int64  \n",
      " 68  enclosedporch  1460 non-null   int64  \n",
      " 69  threessnporch  1460 non-null   int64  \n",
      " 70  screenporch    1460 non-null   int64  \n",
      " 71  poolarea       1460 non-null   int64  \n",
      " 72  poolqc         7 non-null      object \n",
      " 73  fence          281 non-null    object \n",
      " 74  miscfeature    54 non-null     object \n",
      " 75  miscval        1460 non-null   int64  \n",
      " 76  mosold         1460 non-null   int64  \n",
      " 77  yrsold         1460 non-null   int64  \n",
      " 78  saletype       1460 non-null   object \n",
      " 79  salecondition  1460 non-null   object \n",
      " 80  saleprice      1460 non-null   int64  \n",
      "dtypes: float64(3), int64(35), object(43)\n",
      "memory usage: 924.0+ KB\n"
     ]
    }
   ],
   "source": [
    "df.info()"
   ]
  },
  {
   "cell_type": "code",
   "execution_count": 7,
   "id": "34e56a5d",
   "metadata": {},
   "outputs": [
    {
     "data": {
      "text/html": [
       "<div>\n",
       "<style scoped>\n",
       "    .dataframe tbody tr th:only-of-type {\n",
       "        vertical-align: middle;\n",
       "    }\n",
       "\n",
       "    .dataframe tbody tr th {\n",
       "        vertical-align: top;\n",
       "    }\n",
       "\n",
       "    .dataframe thead th {\n",
       "        text-align: right;\n",
       "    }\n",
       "</style>\n",
       "<table border=\"1\" class=\"dataframe\">\n",
       "  <thead>\n",
       "    <tr style=\"text-align: right;\">\n",
       "      <th></th>\n",
       "      <th>id</th>\n",
       "      <th>mssubclass</th>\n",
       "      <th>mszoning</th>\n",
       "      <th>lotfrontage</th>\n",
       "      <th>lotarea</th>\n",
       "      <th>street</th>\n",
       "      <th>alley</th>\n",
       "      <th>lotshape</th>\n",
       "      <th>landcontour</th>\n",
       "      <th>utilities</th>\n",
       "      <th>...</th>\n",
       "      <th>poolarea</th>\n",
       "      <th>poolqc</th>\n",
       "      <th>fence</th>\n",
       "      <th>miscfeature</th>\n",
       "      <th>miscval</th>\n",
       "      <th>mosold</th>\n",
       "      <th>yrsold</th>\n",
       "      <th>saletype</th>\n",
       "      <th>salecondition</th>\n",
       "      <th>saleprice</th>\n",
       "    </tr>\n",
       "  </thead>\n",
       "  <tbody>\n",
       "    <tr>\n",
       "      <th>0</th>\n",
       "      <td>1</td>\n",
       "      <td>60</td>\n",
       "      <td>RL</td>\n",
       "      <td>65.0</td>\n",
       "      <td>8450</td>\n",
       "      <td>Pave</td>\n",
       "      <td>None</td>\n",
       "      <td>Reg</td>\n",
       "      <td>Lvl</td>\n",
       "      <td>AllPub</td>\n",
       "      <td>...</td>\n",
       "      <td>0</td>\n",
       "      <td>None</td>\n",
       "      <td>None</td>\n",
       "      <td>None</td>\n",
       "      <td>0</td>\n",
       "      <td>2</td>\n",
       "      <td>2008</td>\n",
       "      <td>WD</td>\n",
       "      <td>Normal</td>\n",
       "      <td>208500</td>\n",
       "    </tr>\n",
       "    <tr>\n",
       "      <th>1</th>\n",
       "      <td>2</td>\n",
       "      <td>20</td>\n",
       "      <td>RL</td>\n",
       "      <td>80.0</td>\n",
       "      <td>9600</td>\n",
       "      <td>Pave</td>\n",
       "      <td>None</td>\n",
       "      <td>Reg</td>\n",
       "      <td>Lvl</td>\n",
       "      <td>AllPub</td>\n",
       "      <td>...</td>\n",
       "      <td>0</td>\n",
       "      <td>None</td>\n",
       "      <td>None</td>\n",
       "      <td>None</td>\n",
       "      <td>0</td>\n",
       "      <td>5</td>\n",
       "      <td>2007</td>\n",
       "      <td>WD</td>\n",
       "      <td>Normal</td>\n",
       "      <td>181500</td>\n",
       "    </tr>\n",
       "    <tr>\n",
       "      <th>2</th>\n",
       "      <td>3</td>\n",
       "      <td>60</td>\n",
       "      <td>RL</td>\n",
       "      <td>68.0</td>\n",
       "      <td>11250</td>\n",
       "      <td>Pave</td>\n",
       "      <td>None</td>\n",
       "      <td>IR1</td>\n",
       "      <td>Lvl</td>\n",
       "      <td>AllPub</td>\n",
       "      <td>...</td>\n",
       "      <td>0</td>\n",
       "      <td>None</td>\n",
       "      <td>None</td>\n",
       "      <td>None</td>\n",
       "      <td>0</td>\n",
       "      <td>9</td>\n",
       "      <td>2008</td>\n",
       "      <td>WD</td>\n",
       "      <td>Normal</td>\n",
       "      <td>223500</td>\n",
       "    </tr>\n",
       "    <tr>\n",
       "      <th>3</th>\n",
       "      <td>4</td>\n",
       "      <td>70</td>\n",
       "      <td>RL</td>\n",
       "      <td>60.0</td>\n",
       "      <td>9550</td>\n",
       "      <td>Pave</td>\n",
       "      <td>None</td>\n",
       "      <td>IR1</td>\n",
       "      <td>Lvl</td>\n",
       "      <td>AllPub</td>\n",
       "      <td>...</td>\n",
       "      <td>0</td>\n",
       "      <td>None</td>\n",
       "      <td>None</td>\n",
       "      <td>None</td>\n",
       "      <td>0</td>\n",
       "      <td>2</td>\n",
       "      <td>2006</td>\n",
       "      <td>WD</td>\n",
       "      <td>Abnorml</td>\n",
       "      <td>140000</td>\n",
       "    </tr>\n",
       "    <tr>\n",
       "      <th>4</th>\n",
       "      <td>5</td>\n",
       "      <td>60</td>\n",
       "      <td>RL</td>\n",
       "      <td>84.0</td>\n",
       "      <td>14260</td>\n",
       "      <td>Pave</td>\n",
       "      <td>None</td>\n",
       "      <td>IR1</td>\n",
       "      <td>Lvl</td>\n",
       "      <td>AllPub</td>\n",
       "      <td>...</td>\n",
       "      <td>0</td>\n",
       "      <td>None</td>\n",
       "      <td>None</td>\n",
       "      <td>None</td>\n",
       "      <td>0</td>\n",
       "      <td>12</td>\n",
       "      <td>2008</td>\n",
       "      <td>WD</td>\n",
       "      <td>Normal</td>\n",
       "      <td>250000</td>\n",
       "    </tr>\n",
       "  </tbody>\n",
       "</table>\n",
       "<p>5 rows × 81 columns</p>\n",
       "</div>"
      ],
      "text/plain": [
       "   id  mssubclass mszoning  lotfrontage  lotarea street alley lotshape  \\\n",
       "0   1          60       RL         65.0     8450   Pave  None      Reg   \n",
       "1   2          20       RL         80.0     9600   Pave  None      Reg   \n",
       "2   3          60       RL         68.0    11250   Pave  None      IR1   \n",
       "3   4          70       RL         60.0     9550   Pave  None      IR1   \n",
       "4   5          60       RL         84.0    14260   Pave  None      IR1   \n",
       "\n",
       "  landcontour utilities  ... poolarea poolqc fence miscfeature miscval mosold  \\\n",
       "0         Lvl    AllPub  ...        0   None  None        None       0      2   \n",
       "1         Lvl    AllPub  ...        0   None  None        None       0      5   \n",
       "2         Lvl    AllPub  ...        0   None  None        None       0      9   \n",
       "3         Lvl    AllPub  ...        0   None  None        None       0      2   \n",
       "4         Lvl    AllPub  ...        0   None  None        None       0     12   \n",
       "\n",
       "  yrsold  saletype  salecondition  saleprice  \n",
       "0   2008        WD         Normal     208500  \n",
       "1   2007        WD         Normal     181500  \n",
       "2   2008        WD         Normal     223500  \n",
       "3   2006        WD        Abnorml     140000  \n",
       "4   2008        WD         Normal     250000  \n",
       "\n",
       "[5 rows x 81 columns]"
      ]
     },
     "execution_count": 7,
     "metadata": {},
     "output_type": "execute_result"
    }
   ],
   "source": [
    "df.head(5)"
   ]
  },
  {
   "cell_type": "markdown",
   "id": "c4cd6513",
   "metadata": {},
   "source": [
    "# EDA"
   ]
  },
  {
   "cell_type": "markdown",
   "id": "0bb91a85",
   "metadata": {},
   "source": [
    "## Handling Null Categorical Variables\n",
    "\n",
    "According to the codebook, any None values in categorical data are meant as None, or non existent.  Hence None will be replaced with 'None'."
   ]
  },
  {
   "cell_type": "code",
   "execution_count": 8,
   "id": "bbd8089a",
   "metadata": {},
   "outputs": [],
   "source": [
    "categorical_columns = df.select_dtypes('object').columns\n",
    "for col in categorical_columns:\n",
    "    df[col].fillna('None',inplace=True)"
   ]
  },
  {
   "cell_type": "code",
   "execution_count": 9,
   "id": "f050b113",
   "metadata": {},
   "outputs": [
    {
     "data": {
      "text/plain": [
       "lotfrontage    259\n",
       "masvnrarea       8\n",
       "garageyrblt     81\n",
       "dtype: int64"
      ]
     },
     "execution_count": 9,
     "metadata": {},
     "output_type": "execute_result"
    }
   ],
   "source": [
    "nulls = df.isnull().sum()\n",
    "nulls[nulls!=0]"
   ]
  },
  {
   "cell_type": "markdown",
   "id": "5e24a672",
   "metadata": {},
   "source": [
    "The remaining nulls will be dealt with later"
   ]
  },
  {
   "cell_type": "markdown",
   "id": "49d6c186",
   "metadata": {},
   "source": [
    "## Adjusting Columns\n",
    "\n",
    "As id will not be needed with regression, it will be dropped"
   ]
  },
  {
   "cell_type": "code",
   "execution_count": 10,
   "id": "c4512e2f",
   "metadata": {},
   "outputs": [],
   "source": [
    "df.drop('id',axis=1,inplace=True)"
   ]
  },
  {
   "cell_type": "markdown",
   "id": "3cf34a83",
   "metadata": {},
   "source": [
    "There are columns having numeric datatypes that are actually categorical.  I will deal with this after selecting which features to use."
   ]
  },
  {
   "cell_type": "markdown",
   "id": "801843bf",
   "metadata": {},
   "source": [
    "## Handling Outliers"
   ]
  },
  {
   "cell_type": "code",
   "execution_count": 11,
   "id": "76b725bb",
   "metadata": {},
   "outputs": [],
   "source": [
    "def categorical_outliers(df_class,df_output):\n",
    "    ol = []\n",
    "    for val in df[df_class].unique():\n",
    "        class_stats = df[df[df_class]==val][df_output].describe()\n",
    "        firstq = class_stats['25%']\n",
    "        thirdq = class_stats['75%']\n",
    "        iqr15 = 1.5 * (thirdq - firstq)\n",
    "        lst = list(df[(df[df_class]==val)&((df[df_output] > thirdq + iqr15)|(df[df_output]<firstq-iqr15))].index)\n",
    "        if len(lst) > 0:\n",
    "            ol = ol + lst\n",
    "    return ol"
   ]
  },
  {
   "cell_type": "markdown",
   "id": "f5f63283",
   "metadata": {},
   "source": [
    "### Saleprice"
   ]
  },
  {
   "cell_type": "code",
   "execution_count": 12,
   "id": "f2d17174",
   "metadata": {},
   "outputs": [
    {
     "data": {
      "text/plain": [
       "(array([  5.,  11.,  13.,  61.,  58., 126., 165., 180., 122., 130., 121.,\n",
       "         78.,  61.,  64.,  49.,  36.,  36.,  25.,  13.,  25.,  16.,  11.,\n",
       "          4.,  11.,   9.,   5.,   4.,   4.,   4.,   2.,   1.,   1.,   1.,\n",
       "          0.,   1.,   0.,   2.,   0.,   1.,   0.,   2.,   0.,   0.,   0.,\n",
       "          0.,   0.,   0.,   0.,   0.,   2.]),\n",
       " array([ 34900.,  49302.,  63704.,  78106.,  92508., 106910., 121312.,\n",
       "        135714., 150116., 164518., 178920., 193322., 207724., 222126.,\n",
       "        236528., 250930., 265332., 279734., 294136., 308538., 322940.,\n",
       "        337342., 351744., 366146., 380548., 394950., 409352., 423754.,\n",
       "        438156., 452558., 466960., 481362., 495764., 510166., 524568.,\n",
       "        538970., 553372., 567774., 582176., 596578., 610980., 625382.,\n",
       "        639784., 654186., 668588., 682990., 697392., 711794., 726196.,\n",
       "        740598., 755000.]),\n",
       " <BarContainer object of 50 artists>)"
      ]
     },
     "execution_count": 12,
     "metadata": {},
     "output_type": "execute_result"
    },
    {
     "data": {
      "image/png": "[encoded data removed]",
      "text/plain": [
       "<Figure size 432x288 with 1 Axes>"
      ]
     },
     "metadata": {
      "needs_background": "light"
     },
     "output_type": "display_data"
    }
   ],
   "source": [
    "plt.hist(df.saleprice,bins=50)"
   ]
  },
  {
   "cell_type": "markdown",
   "id": "b703b2db",
   "metadata": {},
   "source": [
    "Saleprice looks skewed.  Will create a log transformed saleprice to help search for outliers."
   ]
  },
  {
   "cell_type": "code",
   "execution_count": 13,
   "id": "9208ab12",
   "metadata": {},
   "outputs": [
    {
     "data": {
      "text/plain": [
       "(array([  2.,   2.,   1.,   0.,   0.,   0.,   2.,   3.,   4.,   3.,   5.,\n",
       "          1.,   5.,  21.,  22.,  23.,  18.,  29.,  58.,  56.,  65., 100.,\n",
       "        122.,  93.,  90.,  82., 108.,  91.,  64.,  55.,  58.,  51.,  46.,\n",
       "         42.,  23.,  29.,  22.,  13.,  13.,  13.,   7.,   5.,   4.,   1.,\n",
       "          2.,   2.,   2.,   0.,   0.,   2.]),\n",
       " array([10.46024211, 10.52172673, 10.58321134, 10.64469596, 10.70618058,\n",
       "        10.7676652 , 10.82914982, 10.89063444, 10.95211906, 11.01360367,\n",
       "        11.07508829, 11.13657291, 11.19805753, 11.25954215, 11.32102677,\n",
       "        11.38251138, 11.443996  , 11.50548062, 11.56696524, 11.62844986,\n",
       "        11.68993448, 11.75141909, 11.81290371, 11.87438833, 11.93587295,\n",
       "        11.99735757, 12.05884219, 12.12032681, 12.18181142, 12.24329604,\n",
       "        12.30478066, 12.36626528, 12.4277499 , 12.48923452, 12.55071913,\n",
       "        12.61220375, 12.67368837, 12.73517299, 12.79665761, 12.85814223,\n",
       "        12.91962684, 12.98111146, 13.04259608, 13.1040807 , 13.16556532,\n",
       "        13.22704994, 13.28853455, 13.35001917, 13.41150379, 13.47298841,\n",
       "        13.53447303]),\n",
       " <BarContainer object of 50 artists>)"
      ]
     },
     "execution_count": 13,
     "metadata": {},
     "output_type": "execute_result"
    },
    {
     "data": {
      "image/png": "[encoded data removed]",
      "text/plain": [
       "<Figure size 432x288 with 1 Axes>"
      ]
     },
     "metadata": {
      "needs_background": "light"
     },
     "output_type": "display_data"
    }
   ],
   "source": [
    "df['log_saleprice'] = np.log(df.saleprice)\n",
    "plt.hist(df.log_saleprice, bins = 50)"
   ]
  },
  {
   "cell_type": "markdown",
   "id": "3b0f2788",
   "metadata": {},
   "source": [
    "This looks more symmetric.  Will first see how many outliers are with 1.5IQR."
   ]
  },
  {
   "cell_type": "code",
   "execution_count": 14,
   "id": "f27a32ab",
   "metadata": {},
   "outputs": [
    {
     "data": {
      "text/plain": [
       "[30, 496, 533, 691, 803, 898, 916, 968, 1169, 1182]"
      ]
     },
     "execution_count": 14,
     "metadata": {},
     "output_type": "execute_result"
    }
   ],
   "source": [
    "# I changed to 2IQR as 1.5IQR presented too many outliers\n",
    "\n",
    "log_saleprice_stats = df.log_saleprice.describe()\n",
    "log_saleprice_3rdq = log_saleprice_stats['75%']\n",
    "log_saleprice_1stq = log_saleprice_stats['25%']\n",
    "log_saleprice_15iqr = 2*(log_saleprice_3rdq-log_saleprice_1stq)\n",
    "outliers = list(df[(df.log_saleprice < log_saleprice_1stq-log_saleprice_15iqr)|\n",
    "              (df.log_saleprice>log_saleprice_3rdq+log_saleprice_15iqr)].index)\n",
    "outliers"
   ]
  },
  {
   "cell_type": "markdown",
   "id": "1979984c",
   "metadata": {},
   "source": [
    "### MSSubclass"
   ]
  },
  {
   "cell_type": "code",
   "execution_count": 15,
   "id": "8c58f847",
   "metadata": {},
   "outputs": [
    {
     "data": {
      "text/plain": [
       "<AxesSubplot:title={'center':'saleprice'}, xlabel='mssubclass'>"
      ]
     },
     "execution_count": 15,
     "metadata": {},
     "output_type": "execute_result"
    },
    {
     "data": {
      "image/png": "[encoded data removed]",
      "text/plain": [
       "<Figure size 432x288 with 1 Axes>"
      ]
     },
     "metadata": {
      "needs_background": "light"
     },
     "output_type": "display_data"
    }
   ],
   "source": [
    "df.boxplot('saleprice','mssubclass')"
   ]
  },
  {
   "cell_type": "markdown",
   "id": "0f190389",
   "metadata": {},
   "source": [
    "All seem skewed, going to replot using log saleprice"
   ]
  },
  {
   "cell_type": "code",
   "execution_count": 16,
   "id": "e8745d51",
   "metadata": {},
   "outputs": [
    {
     "data": {
      "text/plain": [
       "<AxesSubplot:title={'center':'log_saleprice'}, xlabel='mssubclass'>"
      ]
     },
     "execution_count": 16,
     "metadata": {},
     "output_type": "execute_result"
    },
    {
     "data": {
      "image/png": "[encoded data removed]",
      "text/plain": [
       "<Figure size 432x288 with 1 Axes>"
      ]
     },
     "metadata": {
      "needs_background": "light"
     },
     "output_type": "display_data"
    }
   ],
   "source": [
    "df.boxplot('log_saleprice','mssubclass')"
   ]
  },
  {
   "cell_type": "code",
   "execution_count": 17,
   "id": "0effdda2",
   "metadata": {},
   "outputs": [],
   "source": [
    "outliers = outliers + categorical_outliers('mssubclass','log_saleprice')"
   ]
  },
  {
   "cell_type": "markdown",
   "id": "76846f52",
   "metadata": {},
   "source": [
    "### MSZoning"
   ]
  },
  {
   "cell_type": "code",
   "execution_count": 18,
   "id": "3e03fe81",
   "metadata": {},
   "outputs": [
    {
     "data": {
      "text/plain": [
       "<AxesSubplot:title={'center':'log_saleprice'}, xlabel='mszoning'>"
      ]
     },
     "execution_count": 18,
     "metadata": {},
     "output_type": "execute_result"
    },
    {
     "data": {
      "image/png": "[encoded data removed]",
      "text/plain": [
       "<Figure size 432x288 with 1 Axes>"
      ]
     },
     "metadata": {
      "needs_background": "light"
     },
     "output_type": "display_data"
    }
   ],
   "source": [
    "df.boxplot('log_saleprice','mszoning')"
   ]
  },
  {
   "cell_type": "code",
   "execution_count": 19,
   "id": "19010a43",
   "metadata": {},
   "outputs": [],
   "source": [
    "outliers = outliers+categorical_outliers('mszoning','log_saleprice')"
   ]
  },
  {
   "cell_type": "markdown",
   "id": "b3338eb5",
   "metadata": {},
   "source": [
    "### LotFrontage"
   ]
  },
  {
   "cell_type": "code",
   "execution_count": 20,
   "id": "5dfeb668",
   "metadata": {},
   "outputs": [
    {
     "data": {
      "text/plain": [
       "(array([ 42.,  11.,  32.,  44.,  76.,  67., 183., 116., 147., 130., 141.,\n",
       "         60.,  39.,  35.,  23.,  12.,  13.,   6.,   6.,   3.,   3.,   2.,\n",
       "          3.,   1.,   0.,   1.,   2.,   1.,   0.,   0.,   0.,   0.,   0.,\n",
       "          0.,   0.,   0.,   0.,   0.,   0.,   0.,   0.,   0.,   0.,   0.,\n",
       "          0.,   0.,   0.,   0.,   0.,   2.]),\n",
       " array([ 21.  ,  26.84,  32.68,  38.52,  44.36,  50.2 ,  56.04,  61.88,\n",
       "         67.72,  73.56,  79.4 ,  85.24,  91.08,  96.92, 102.76, 108.6 ,\n",
       "        114.44, 120.28, 126.12, 131.96, 137.8 , 143.64, 149.48, 155.32,\n",
       "        161.16, 167.  , 172.84, 178.68, 184.52, 190.36, 196.2 , 202.04,\n",
       "        207.88, 213.72, 219.56, 225.4 , 231.24, 237.08, 242.92, 248.76,\n",
       "        254.6 , 260.44, 266.28, 272.12, 277.96, 283.8 , 289.64, 295.48,\n",
       "        301.32, 307.16, 313.  ]),\n",
       " <BarContainer object of 50 artists>)"
      ]
     },
     "execution_count": 20,
     "metadata": {},
     "output_type": "execute_result"
    },
    {
     "data": {
      "image/png": "[encoded data removed]",
      "text/plain": [
       "<Figure size 432x288 with 1 Axes>"
      ]
     },
     "metadata": {
      "needs_background": "light"
     },
     "output_type": "display_data"
    }
   ],
   "source": [
    "plt.hist(df.lotfrontage, bins=50)"
   ]
  },
  {
   "cell_type": "markdown",
   "id": "bbab7abb",
   "metadata": {},
   "source": [
    "Because of the skew, to search for outliers I will use 2*IQR"
   ]
  },
  {
   "cell_type": "code",
   "execution_count": 21,
   "id": "ec3a0971",
   "metadata": {},
   "outputs": [
    {
     "data": {
      "text/plain": [
       "[160,\n",
       " 172,\n",
       " 198,\n",
       " 232,\n",
       " 277,\n",
       " 278,\n",
       " 314,\n",
       " 430,\n",
       " 447,\n",
       " 523,\n",
       " 807,\n",
       " 889,\n",
       " 909,\n",
       " 934,\n",
       " 966,\n",
       " 1107,\n",
       " 1127,\n",
       " 1151,\n",
       " 1173,\n",
       " 1182,\n",
       " 1211,\n",
       " 1273,\n",
       " 1298,\n",
       " 1337,\n",
       " 1359,\n",
       " 1361]"
      ]
     },
     "execution_count": 21,
     "metadata": {},
     "output_type": "execute_result"
    }
   ],
   "source": [
    "lf_stats = df.lotfrontage.describe()\n",
    "firstq = lf_stats['25%']\n",
    "thirdq = lf_stats['75%']\n",
    "iqr2 = 2*(thirdq-firstq)\n",
    "lf_outliers = list(df[(df.lotfrontage < firstq-iqr2)|(df.lotfrontage>thirdq+iqr2)].index)\n",
    "lf_outliers # not sure if I should log"
   ]
  },
  {
   "cell_type": "code",
   "execution_count": 22,
   "id": "d0eceef3",
   "metadata": {},
   "outputs": [
    {
     "data": {
      "text/plain": [
       "<matplotlib.collections.PathCollection at 0x1a5e038f610>"
      ]
     },
     "execution_count": 22,
     "metadata": {},
     "output_type": "execute_result"
    },
    {
     "data": {
      "image/png": "[encoded data removed]",
      "text/plain": [
       "<Figure size 432x288 with 1 Axes>"
      ]
     },
     "metadata": {
      "needs_background": "light"
     },
     "output_type": "display_data"
    }
   ],
   "source": [
    "plt.scatter(df.lotfrontage,df.saleprice)"
   ]
  },
  {
   "cell_type": "markdown",
   "id": "148869d6",
   "metadata": {},
   "source": [
    "The relationship doesn't appear very linear.  However there are definite outliers where lotfrontage > 300.  These should have been captured above"
   ]
  },
  {
   "cell_type": "code",
   "execution_count": 23,
   "id": "cb4a51dd",
   "metadata": {},
   "outputs": [],
   "source": [
    "outliers = outliers + lf_outliers"
   ]
  },
  {
   "cell_type": "markdown",
   "id": "de5b2773",
   "metadata": {},
   "source": [
    "### LotArea"
   ]
  },
  {
   "cell_type": "code",
   "execution_count": 24,
   "id": "d164d9c0",
   "metadata": {},
   "outputs": [
    {
     "data": {
      "text/plain": [
       "(array([  1.,   5.,  11.,   7.,   7.,   9.,  12.,   3.,  18.,   6.,  16.,\n",
       "         23.,  20.,  32.,  40.,  44.,  88., 120., 187., 201., 178., 149.,\n",
       "         91.,  70.,  40.,  22.,   8.,  15.,   7.,   6.,   2.,   3.,   4.,\n",
       "          2.,   1.,   2.,   3.,   1.,   1.,   1.,   0.,   0.,   0.,   1.,\n",
       "          0.,   0.,   0.,   2.,   0.,   1.]),\n",
       " array([ 7.17011954,  7.2723078 ,  7.37449605,  7.4766843 ,  7.57887256,\n",
       "         7.68106081,  7.78324906,  7.88543731,  7.98762557,  8.08981382,\n",
       "         8.19200207,  8.29419033,  8.39637858,  8.49856683,  8.60075509,\n",
       "         8.70294334,  8.80513159,  8.90731984,  9.0095081 ,  9.11169635,\n",
       "         9.2138846 ,  9.31607286,  9.41826111,  9.52044936,  9.62263762,\n",
       "         9.72482587,  9.82701412,  9.92920237, 10.03139063, 10.13357888,\n",
       "        10.23576713, 10.33795539, 10.44014364, 10.54233189, 10.64452015,\n",
       "        10.7467084 , 10.84889665, 10.9510849 , 11.05327316, 11.15546141,\n",
       "        11.25764966, 11.35983792, 11.46202617, 11.56421442, 11.66640268,\n",
       "        11.76859093, 11.87077918, 11.97296743, 12.07515569, 12.17734394,\n",
       "        12.27953219]),\n",
       " <BarContainer object of 50 artists>)"
      ]
     },
     "execution_count": 24,
     "metadata": {},
     "output_type": "execute_result"
    },
    {
     "data": {
      "image/png": "[encoded data removed]",
      "text/plain": [
       "<Figure size 432x288 with 1 Axes>"
      ]
     },
     "metadata": {
      "needs_background": "light"
     },
     "output_type": "display_data"
    }
   ],
   "source": [
    "df['log_lotarea'] = df.lotarea.apply(np.log)\n",
    "plt.hist(df.log_lotarea,bins=50)"
   ]
  },
  {
   "cell_type": "code",
   "execution_count": 25,
   "id": "ac86d3db",
   "metadata": {},
   "outputs": [],
   "source": [
    "la_stats = df.log_lotarea.describe()"
   ]
  },
  {
   "cell_type": "code",
   "execution_count": 26,
   "id": "25bbb586",
   "metadata": {},
   "outputs": [],
   "source": [
    "mu = la_stats['mean']\n",
    "std = la_stats['std']\n",
    "outliers = outliers + list(df[(df.log_lotarea < mu - 3*std)|(df.log_lotarea>mu+3*std)].index)"
   ]
  },
  {
   "cell_type": "code",
   "execution_count": 27,
   "id": "2b152473",
   "metadata": {},
   "outputs": [
    {
     "data": {
      "text/plain": [
       "<matplotlib.collections.PathCollection at 0x1a5e04cea00>"
      ]
     },
     "execution_count": 27,
     "metadata": {},
     "output_type": "execute_result"
    },
    {
     "data": {
      "image/png": "[encoded data removed]",
      "text/plain": [
       "<Figure size 432x288 with 1 Axes>"
      ]
     },
     "metadata": {
      "needs_background": "light"
     },
     "output_type": "display_data"
    }
   ],
   "source": [
    "plt.scatter(df.lotarea,df.saleprice)"
   ]
  },
  {
   "cell_type": "markdown",
   "id": "c3e42616",
   "metadata": {},
   "source": [
    "The relationship is not very linear.  I can see tow relationships, one a steep line and other almost like a square root curve that picks up the points on the right.  Because there doesn't appear to be much of a relationship, I will not look at outliers in this scatterplot but assume they were already picked up."
   ]
  },
  {
   "cell_type": "markdown",
   "id": "3d2043b8",
   "metadata": {},
   "source": [
    "### Street"
   ]
  },
  {
   "cell_type": "code",
   "execution_count": 28,
   "id": "f2016329",
   "metadata": {},
   "outputs": [
    {
     "data": {
      "text/plain": [
       "<AxesSubplot:title={'center':'log_saleprice'}, xlabel='street'>"
      ]
     },
     "execution_count": 28,
     "metadata": {},
     "output_type": "execute_result"
    },
    {
     "data": {
      "image/png": "[encoded data removed]",
      "text/plain": [
       "<Figure size 432x288 with 1 Axes>"
      ]
     },
     "metadata": {
      "needs_background": "light"
     },
     "output_type": "display_data"
    }
   ],
   "source": [
    "df.boxplot('log_saleprice','street')"
   ]
  },
  {
   "cell_type": "code",
   "execution_count": 29,
   "id": "49887ca2",
   "metadata": {},
   "outputs": [],
   "source": [
    "outliers = outliers + categorical_outliers('street','log_saleprice')"
   ]
  },
  {
   "cell_type": "markdown",
   "id": "e7f9f271",
   "metadata": {},
   "source": [
    "### Alley"
   ]
  },
  {
   "cell_type": "code",
   "execution_count": 35,
   "id": "77a3e2ad",
   "metadata": {},
   "outputs": [
    {
     "data": {
      "text/plain": [
       "<AxesSubplot:title={'center':'log_saleprice'}, xlabel='alley'>"
      ]
     },
     "execution_count": 35,
     "metadata": {},
     "output_type": "execute_result"
    },
    {
     "data": {
      "image/png": "[encoded data removed]",
      "text/plain": [
       "<Figure size 432x288 with 1 Axes>"
      ]
     },
     "metadata": {
      "needs_background": "light"
     },
     "output_type": "display_data"
    }
   ],
   "source": [
    "df.boxplot('saleprice','alley')"
   ]
  },
  {
   "cell_type": "code",
   "execution_count": 43,
   "id": "39d96dd8",
   "metadata": {},
   "outputs": [
    {
     "data": {
      "text/plain": [
       "None    1369\n",
       "Grvl      50\n",
       "Pave      41\n",
       "Name: alley, dtype: int64"
      ]
     },
     "execution_count": 43,
     "metadata": {},
     "output_type": "execute_result"
    }
   ],
   "source": [
    "df.alley.value_counts()"
   ]
  },
  {
   "cell_type": "code",
   "execution_count": 44,
   "id": "5382c8bb",
   "metadata": {},
   "outputs": [],
   "source": [
    "# since alleys are rare, should I look for outliers?"
   ]
  },
  {
   "cell_type": "code",
   "execution_count": 34,
   "id": "2af9590e",
   "metadata": {},
   "outputs": [
    {
     "data": {
      "text/plain": [
       "<AxesSubplot:>"
      ]
     },
     "execution_count": 34,
     "metadata": {},
     "output_type": "execute_result"
    },
    {
     "data": {
      "image/png": "[encoded data removed]",
      "text/plain": [
       "<Figure size 432x288 with 1 Axes>"
      ]
     },
     "metadata": {
      "needs_background": "light"
     },
     "output_type": "display_data"
    }
   ],
   "source": [
    "df[df.alley==\"None\"]['log_saleprice'].hist(bins=50)"
   ]
  },
  {
   "cell_type": "markdown",
   "id": "cbe192b1",
   "metadata": {},
   "source": [
    "# HERE"
   ]
  },
  {
   "cell_type": "code",
   "execution_count": null,
   "id": "f367ddbd",
   "metadata": {},
   "outputs": [],
   "source": []
  },
  {
   "cell_type": "markdown",
   "id": "5c7de1d6",
   "metadata": {},
   "source": [
    "## Handling missing values"
   ]
  },
  {
   "cell_type": "code",
   "execution_count": null,
   "id": "d32bba82",
   "metadata": {},
   "outputs": [],
   "source": []
  }
 ],
 "metadata": {
  "kernelspec": {
   "display_name": "Python 3",
   "language": "python",
   "name": "python3"
  },
  "language_info": {
   "codemirror_mode": {
    "name": "ipython",
    "version": 3
   },
   "file_extension": ".py",
   "mimetype": "text/x-python",
   "name": "python",
   "nbconvert_exporter": "python",
   "pygments_lexer": "ipython3",
   "version": "3.9.5"
  }
 },
 "nbformat": 4,
 "nbformat_minor": 5
}
