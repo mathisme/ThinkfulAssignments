{
 "cells": [
  {
   "cell_type": "code",
   "execution_count": 1,
   "id": "a4362e32",
   "metadata": {},
   "outputs": [],
   "source": [
    "import numpy as np\n",
    "import pandas as pd\n",
    "import statsmodels.api as sm\n",
    "from sqlalchemy import create_engine\n",
    "\n",
    "import warnings\n",
    "warnings.filterwarnings('ignore')"
   ]
  },
  {
   "cell_type": "code",
   "execution_count": 2,
   "id": "2248cee8",
   "metadata": {},
   "outputs": [],
   "source": [
    "\n",
    "postgres_user = 'dsbc_student'\n",
    "postgres_pw = '7*.8G9QH21'\n",
    "postgres_host = '142.93.121.174'\n",
    "postgres_port = '5432'\n",
    "postgres_db = 'houseprices'"
   ]
  },
  {
   "cell_type": "code",
   "execution_count": 3,
   "id": "82f53c6c",
   "metadata": {},
   "outputs": [],
   "source": [
    "engine = create_engine('postgresql://{}:{}@{}:{}/{}'.format(\n",
    "    postgres_user, postgres_pw, postgres_host, postgres_port, postgres_db))\n",
    "df = pd.read_sql_query('select * from houseprices',con=engine)\n",
    "\n",
    "engine.dispose()"
   ]
  },
  {
   "cell_type": "markdown",
   "id": "a0747be1",
   "metadata": {},
   "source": [
    "# Creating the model"
   ]
  },
  {
   "cell_type": "code",
   "execution_count": 4,
   "id": "631cd0cd",
   "metadata": {},
   "outputs": [],
   "source": [
    "numeric_variables = ['overallqual','firstflrsf','totrmsabvgrd']\n",
    "variables = numeric_variables + ['neighborhood','exterior1st','saleprice']"
   ]
  },
  {
   "cell_type": "code",
   "execution_count": 7,
   "id": "9b8582ad",
   "metadata": {},
   "outputs": [],
   "source": [
    "df2 = pd.get_dummies(df[variables], drop_first=True)\n",
    "X = df2.drop('saleprice', axis=1)\n",
    "y = df2.saleprice"
   ]
  },
  {
   "cell_type": "code",
   "execution_count": 8,
   "id": "fe04639d",
   "metadata": {},
   "outputs": [
    {
     "data": {
      "text/html": [
       "<table class=\"simpletable\">\n",
       "<caption>OLS Regression Results</caption>\n",
       "<tr>\n",
       "  <th>Dep. Variable:</th>        <td>saleprice</td>    <th>  R-squared:         </th> <td>   0.787</td> \n",
       "</tr>\n",
       "<tr>\n",
       "  <th>Model:</th>                   <td>OLS</td>       <th>  Adj. R-squared:    </th> <td>   0.781</td> \n",
       "</tr>\n",
       "<tr>\n",
       "  <th>Method:</th>             <td>Least Squares</td>  <th>  F-statistic:       </th> <td>   127.6</td> \n",
       "</tr>\n",
       "<tr>\n",
       "  <th>Date:</th>             <td>Fri, 23 Jul 2021</td> <th>  Prob (F-statistic):</th>  <td>  0.00</td>  \n",
       "</tr>\n",
       "<tr>\n",
       "  <th>Time:</th>                 <td>10:57:56</td>     <th>  Log-Likelihood:    </th> <td> -17416.</td> \n",
       "</tr>\n",
       "<tr>\n",
       "  <th>No. Observations:</th>      <td>  1460</td>      <th>  AIC:               </th> <td>3.492e+04</td>\n",
       "</tr>\n",
       "<tr>\n",
       "  <th>Df Residuals:</th>          <td>  1418</td>      <th>  BIC:               </th> <td>3.514e+04</td>\n",
       "</tr>\n",
       "<tr>\n",
       "  <th>Df Model:</th>              <td>    41</td>      <th>                     </th>     <td> </td>    \n",
       "</tr>\n",
       "<tr>\n",
       "  <th>Covariance Type:</th>      <td>nonrobust</td>    <th>                     </th>     <td> </td>    \n",
       "</tr>\n",
       "</table>\n",
       "<table class=\"simpletable\">\n",
       "<tr>\n",
       "            <td></td>              <th>coef</th>     <th>std err</th>      <th>t</th>      <th>P>|t|</th>  <th>[0.025</th>    <th>0.975]</th>  \n",
       "</tr>\n",
       "<tr>\n",
       "  <th>const</th>                <td>-9.879e+04</td> <td> 1.46e+04</td> <td>   -6.776</td> <td> 0.000</td> <td>-1.27e+05</td> <td>-7.02e+04</td>\n",
       "</tr>\n",
       "<tr>\n",
       "  <th>overallqual</th>          <td> 2.292e+04</td> <td> 1144.838</td> <td>   20.023</td> <td> 0.000</td> <td> 2.07e+04</td> <td> 2.52e+04</td>\n",
       "</tr>\n",
       "<tr>\n",
       "  <th>firstflrsf</th>           <td>   43.1906</td> <td>    3.391</td> <td>   12.737</td> <td> 0.000</td> <td>   36.539</td> <td>   49.842</td>\n",
       "</tr>\n",
       "<tr>\n",
       "  <th>totrmsabvgrd</th>         <td> 8869.1029</td> <td>  726.944</td> <td>   12.201</td> <td> 0.000</td> <td> 7443.102</td> <td> 1.03e+04</td>\n",
       "</tr>\n",
       "<tr>\n",
       "  <th>neighborhood_Blueste</th> <td> 1.755e+04</td> <td> 2.81e+04</td> <td>    0.624</td> <td> 0.533</td> <td>-3.76e+04</td> <td> 7.27e+04</td>\n",
       "</tr>\n",
       "<tr>\n",
       "  <th>neighborhood_BrDale</th>  <td>-9569.3846</td> <td> 1.36e+04</td> <td>   -0.702</td> <td> 0.483</td> <td>-3.63e+04</td> <td> 1.72e+04</td>\n",
       "</tr>\n",
       "<tr>\n",
       "  <th>neighborhood_BrkSide</th> <td> 1.507e+04</td> <td> 1.09e+04</td> <td>    1.388</td> <td> 0.165</td> <td>-6225.160</td> <td> 3.64e+04</td>\n",
       "</tr>\n",
       "<tr>\n",
       "  <th>neighborhood_ClearCr</th> <td> 5.422e+04</td> <td> 1.19e+04</td> <td>    4.564</td> <td> 0.000</td> <td> 3.09e+04</td> <td> 7.75e+04</td>\n",
       "</tr>\n",
       "<tr>\n",
       "  <th>neighborhood_CollgCr</th> <td> 2.749e+04</td> <td> 9580.200</td> <td>    2.870</td> <td> 0.004</td> <td> 8701.504</td> <td> 4.63e+04</td>\n",
       "</tr>\n",
       "<tr>\n",
       "  <th>neighborhood_Crawfor</th> <td> 4.125e+04</td> <td> 1.09e+04</td> <td>    3.791</td> <td> 0.000</td> <td> 1.99e+04</td> <td> 6.26e+04</td>\n",
       "</tr>\n",
       "<tr>\n",
       "  <th>neighborhood_Edwards</th> <td> 5296.2822</td> <td> 1.03e+04</td> <td>    0.517</td> <td> 0.605</td> <td>-1.48e+04</td> <td> 2.54e+04</td>\n",
       "</tr>\n",
       "<tr>\n",
       "  <th>neighborhood_Gilbert</th> <td> 2.818e+04</td> <td> 1.01e+04</td> <td>    2.777</td> <td> 0.006</td> <td> 8274.115</td> <td> 4.81e+04</td>\n",
       "</tr>\n",
       "<tr>\n",
       "  <th>neighborhood_IDOTRR</th>  <td>-2295.7572</td> <td> 1.16e+04</td> <td>   -0.199</td> <td> 0.843</td> <td> -2.5e+04</td> <td> 2.04e+04</td>\n",
       "</tr>\n",
       "<tr>\n",
       "  <th>neighborhood_MeadowV</th> <td>-6450.1307</td> <td> 1.48e+04</td> <td>   -0.437</td> <td> 0.662</td> <td>-3.54e+04</td> <td> 2.25e+04</td>\n",
       "</tr>\n",
       "<tr>\n",
       "  <th>neighborhood_Mitchel</th> <td> 1.592e+04</td> <td> 1.08e+04</td> <td>    1.480</td> <td> 0.139</td> <td>-5185.857</td> <td>  3.7e+04</td>\n",
       "</tr>\n",
       "<tr>\n",
       "  <th>neighborhood_NAmes</th>   <td> 1.128e+04</td> <td> 9811.629</td> <td>    1.150</td> <td> 0.250</td> <td>-7962.302</td> <td> 3.05e+04</td>\n",
       "</tr>\n",
       "<tr>\n",
       "  <th>neighborhood_NPkVill</th> <td> 8126.8994</td> <td> 1.62e+04</td> <td>    0.502</td> <td> 0.615</td> <td>-2.36e+04</td> <td> 3.99e+04</td>\n",
       "</tr>\n",
       "<tr>\n",
       "  <th>neighborhood_NWAmes</th>  <td> 1.547e+04</td> <td> 1.04e+04</td> <td>    1.486</td> <td> 0.137</td> <td>-4947.655</td> <td> 3.59e+04</td>\n",
       "</tr>\n",
       "<tr>\n",
       "  <th>neighborhood_NoRidge</th> <td> 1.062e+05</td> <td> 1.09e+04</td> <td>    9.707</td> <td> 0.000</td> <td> 8.47e+04</td> <td> 1.28e+05</td>\n",
       "</tr>\n",
       "<tr>\n",
       "  <th>neighborhood_NridgHt</th> <td> 7.771e+04</td> <td> 1.01e+04</td> <td>    7.717</td> <td> 0.000</td> <td>  5.8e+04</td> <td> 9.75e+04</td>\n",
       "</tr>\n",
       "<tr>\n",
       "  <th>neighborhood_OldTown</th> <td> -853.6230</td> <td> 1.02e+04</td> <td>   -0.083</td> <td> 0.934</td> <td>-2.09e+04</td> <td> 1.92e+04</td>\n",
       "</tr>\n",
       "<tr>\n",
       "  <th>neighborhood_SWISU</th>   <td>  944.0728</td> <td> 1.22e+04</td> <td>    0.077</td> <td> 0.938</td> <td> -2.3e+04</td> <td> 2.49e+04</td>\n",
       "</tr>\n",
       "<tr>\n",
       "  <th>neighborhood_Sawyer</th>  <td> 1.459e+04</td> <td> 1.05e+04</td> <td>    1.390</td> <td> 0.165</td> <td>-6002.141</td> <td> 3.52e+04</td>\n",
       "</tr>\n",
       "<tr>\n",
       "  <th>neighborhood_SawyerW</th> <td>  2.38e+04</td> <td> 1.05e+04</td> <td>    2.263</td> <td> 0.024</td> <td> 3165.265</td> <td> 4.44e+04</td>\n",
       "</tr>\n",
       "<tr>\n",
       "  <th>neighborhood_Somerst</th> <td>  3.87e+04</td> <td>    1e+04</td> <td>    3.858</td> <td> 0.000</td> <td>  1.9e+04</td> <td> 5.84e+04</td>\n",
       "</tr>\n",
       "<tr>\n",
       "  <th>neighborhood_StoneBr</th> <td> 8.127e+04</td> <td> 1.19e+04</td> <td>    6.807</td> <td> 0.000</td> <td> 5.79e+04</td> <td> 1.05e+05</td>\n",
       "</tr>\n",
       "<tr>\n",
       "  <th>neighborhood_Timber</th>  <td> 4.282e+04</td> <td> 1.09e+04</td> <td>    3.912</td> <td> 0.000</td> <td> 2.13e+04</td> <td> 6.43e+04</td>\n",
       "</tr>\n",
       "<tr>\n",
       "  <th>neighborhood_Veenker</th> <td> 6.146e+04</td> <td> 1.48e+04</td> <td>    4.156</td> <td> 0.000</td> <td> 3.24e+04</td> <td> 9.05e+04</td>\n",
       "</tr>\n",
       "<tr>\n",
       "  <th>exterior1st_AsphShn</th>  <td>-6.394e+04</td> <td> 3.84e+04</td> <td>   -1.667</td> <td> 0.096</td> <td>-1.39e+05</td> <td> 1.13e+04</td>\n",
       "</tr>\n",
       "<tr>\n",
       "  <th>exterior1st_BrkComm</th>  <td>-1.505e+04</td> <td> 2.79e+04</td> <td>   -0.540</td> <td> 0.589</td> <td>-6.97e+04</td> <td> 3.96e+04</td>\n",
       "</tr>\n",
       "<tr>\n",
       "  <th>exterior1st_BrkFace</th>  <td> 1.678e+04</td> <td> 1.01e+04</td> <td>    1.655</td> <td> 0.098</td> <td>-3112.762</td> <td> 3.67e+04</td>\n",
       "</tr>\n",
       "<tr>\n",
       "  <th>exterior1st_CBlock</th>   <td> 2.346e+04</td> <td> 3.82e+04</td> <td>    0.613</td> <td> 0.540</td> <td>-5.16e+04</td> <td> 9.85e+04</td>\n",
       "</tr>\n",
       "<tr>\n",
       "  <th>exterior1st_CemntBd</th>  <td> 2.676e+04</td> <td> 1.06e+04</td> <td>    2.529</td> <td> 0.012</td> <td> 6006.595</td> <td> 4.75e+04</td>\n",
       "</tr>\n",
       "<tr>\n",
       "  <th>exterior1st_HdBoard</th>  <td> 3336.5653</td> <td> 9092.360</td> <td>    0.367</td> <td> 0.714</td> <td>-1.45e+04</td> <td> 2.12e+04</td>\n",
       "</tr>\n",
       "<tr>\n",
       "  <th>exterior1st_ImStucc</th>  <td>-4.326e+04</td> <td> 3.88e+04</td> <td>   -1.115</td> <td> 0.265</td> <td>-1.19e+05</td> <td> 3.28e+04</td>\n",
       "</tr>\n",
       "<tr>\n",
       "  <th>exterior1st_MetalSd</th>  <td> 4841.8089</td> <td> 8822.024</td> <td>    0.549</td> <td> 0.583</td> <td>-1.25e+04</td> <td> 2.21e+04</td>\n",
       "</tr>\n",
       "<tr>\n",
       "  <th>exterior1st_Plywood</th>  <td> 4850.6398</td> <td> 9554.194</td> <td>    0.508</td> <td> 0.612</td> <td>-1.39e+04</td> <td> 2.36e+04</td>\n",
       "</tr>\n",
       "<tr>\n",
       "  <th>exterior1st_Stone</th>    <td>-1.785e+04</td> <td> 2.82e+04</td> <td>   -0.634</td> <td> 0.526</td> <td>-7.31e+04</td> <td> 3.74e+04</td>\n",
       "</tr>\n",
       "<tr>\n",
       "  <th>exterior1st_Stucco</th>   <td>-6030.1876</td> <td> 1.13e+04</td> <td>   -0.532</td> <td> 0.594</td> <td>-2.82e+04</td> <td> 1.62e+04</td>\n",
       "</tr>\n",
       "<tr>\n",
       "  <th>exterior1st_VinylSd</th>  <td> 1.101e+04</td> <td> 8931.425</td> <td>    1.232</td> <td> 0.218</td> <td>-6513.674</td> <td> 2.85e+04</td>\n",
       "</tr>\n",
       "<tr>\n",
       "  <th>exterior1st_Wd Sdng</th>  <td> 1266.9382</td> <td> 8850.651</td> <td>    0.143</td> <td> 0.886</td> <td>-1.61e+04</td> <td> 1.86e+04</td>\n",
       "</tr>\n",
       "<tr>\n",
       "  <th>exterior1st_WdShing</th>  <td> 4338.7534</td> <td> 1.13e+04</td> <td>    0.385</td> <td> 0.700</td> <td>-1.77e+04</td> <td> 2.64e+04</td>\n",
       "</tr>\n",
       "</table>\n",
       "<table class=\"simpletable\">\n",
       "<tr>\n",
       "  <th>Omnibus:</th>       <td>535.890</td> <th>  Durbin-Watson:     </th> <td>   1.924</td> \n",
       "</tr>\n",
       "<tr>\n",
       "  <th>Prob(Omnibus):</th> <td> 0.000</td>  <th>  Jarque-Bera (JB):  </th> <td>11606.300</td>\n",
       "</tr>\n",
       "<tr>\n",
       "  <th>Skew:</th>          <td> 1.179</td>  <th>  Prob(JB):          </th> <td>    0.00</td> \n",
       "</tr>\n",
       "<tr>\n",
       "  <th>Kurtosis:</th>      <td>16.610</td>  <th>  Cond. No.          </th> <td>6.00e+04</td> \n",
       "</tr>\n",
       "</table><br/><br/>Notes:<br/>[1] Standard Errors assume that the covariance matrix of the errors is correctly specified.<br/>[2] The condition number is large,  6e+04. This might indicate that there are<br/>strong multicollinearity or other numerical problems."
      ],
      "text/plain": [
       "<class 'statsmodels.iolib.summary.Summary'>\n",
       "\"\"\"\n",
       "                            OLS Regression Results                            \n",
       "==============================================================================\n",
       "Dep. Variable:              saleprice   R-squared:                       0.787\n",
       "Model:                            OLS   Adj. R-squared:                  0.781\n",
       "Method:                 Least Squares   F-statistic:                     127.6\n",
       "Date:                Fri, 23 Jul 2021   Prob (F-statistic):               0.00\n",
       "Time:                        10:57:56   Log-Likelihood:                -17416.\n",
       "No. Observations:                1460   AIC:                         3.492e+04\n",
       "Df Residuals:                    1418   BIC:                         3.514e+04\n",
       "Df Model:                          41                                         \n",
       "Covariance Type:            nonrobust                                         \n",
       "========================================================================================\n",
       "                           coef    std err          t      P>|t|      [0.025      0.975]\n",
       "----------------------------------------------------------------------------------------\n",
       "const                -9.879e+04   1.46e+04     -6.776      0.000   -1.27e+05   -7.02e+04\n",
       "overallqual           2.292e+04   1144.838     20.023      0.000    2.07e+04    2.52e+04\n",
       "firstflrsf              43.1906      3.391     12.737      0.000      36.539      49.842\n",
       "totrmsabvgrd          8869.1029    726.944     12.201      0.000    7443.102    1.03e+04\n",
       "neighborhood_Blueste  1.755e+04   2.81e+04      0.624      0.533   -3.76e+04    7.27e+04\n",
       "neighborhood_BrDale  -9569.3846   1.36e+04     -0.702      0.483   -3.63e+04    1.72e+04\n",
       "neighborhood_BrkSide  1.507e+04   1.09e+04      1.388      0.165   -6225.160    3.64e+04\n",
       "neighborhood_ClearCr  5.422e+04   1.19e+04      4.564      0.000    3.09e+04    7.75e+04\n",
       "neighborhood_CollgCr  2.749e+04   9580.200      2.870      0.004    8701.504    4.63e+04\n",
       "neighborhood_Crawfor  4.125e+04   1.09e+04      3.791      0.000    1.99e+04    6.26e+04\n",
       "neighborhood_Edwards  5296.2822   1.03e+04      0.517      0.605   -1.48e+04    2.54e+04\n",
       "neighborhood_Gilbert  2.818e+04   1.01e+04      2.777      0.006    8274.115    4.81e+04\n",
       "neighborhood_IDOTRR  -2295.7572   1.16e+04     -0.199      0.843    -2.5e+04    2.04e+04\n",
       "neighborhood_MeadowV -6450.1307   1.48e+04     -0.437      0.662   -3.54e+04    2.25e+04\n",
       "neighborhood_Mitchel  1.592e+04   1.08e+04      1.480      0.139   -5185.857     3.7e+04\n",
       "neighborhood_NAmes    1.128e+04   9811.629      1.150      0.250   -7962.302    3.05e+04\n",
       "neighborhood_NPkVill  8126.8994   1.62e+04      0.502      0.615   -2.36e+04    3.99e+04\n",
       "neighborhood_NWAmes   1.547e+04   1.04e+04      1.486      0.137   -4947.655    3.59e+04\n",
       "neighborhood_NoRidge  1.062e+05   1.09e+04      9.707      0.000    8.47e+04    1.28e+05\n",
       "neighborhood_NridgHt  7.771e+04   1.01e+04      7.717      0.000     5.8e+04    9.75e+04\n",
       "neighborhood_OldTown  -853.6230   1.02e+04     -0.083      0.934   -2.09e+04    1.92e+04\n",
       "neighborhood_SWISU     944.0728   1.22e+04      0.077      0.938    -2.3e+04    2.49e+04\n",
       "neighborhood_Sawyer   1.459e+04   1.05e+04      1.390      0.165   -6002.141    3.52e+04\n",
       "neighborhood_SawyerW   2.38e+04   1.05e+04      2.263      0.024    3165.265    4.44e+04\n",
       "neighborhood_Somerst   3.87e+04      1e+04      3.858      0.000     1.9e+04    5.84e+04\n",
       "neighborhood_StoneBr  8.127e+04   1.19e+04      6.807      0.000    5.79e+04    1.05e+05\n",
       "neighborhood_Timber   4.282e+04   1.09e+04      3.912      0.000    2.13e+04    6.43e+04\n",
       "neighborhood_Veenker  6.146e+04   1.48e+04      4.156      0.000    3.24e+04    9.05e+04\n",
       "exterior1st_AsphShn  -6.394e+04   3.84e+04     -1.667      0.096   -1.39e+05    1.13e+04\n",
       "exterior1st_BrkComm  -1.505e+04   2.79e+04     -0.540      0.589   -6.97e+04    3.96e+04\n",
       "exterior1st_BrkFace   1.678e+04   1.01e+04      1.655      0.098   -3112.762    3.67e+04\n",
       "exterior1st_CBlock    2.346e+04   3.82e+04      0.613      0.540   -5.16e+04    9.85e+04\n",
       "exterior1st_CemntBd   2.676e+04   1.06e+04      2.529      0.012    6006.595    4.75e+04\n",
       "exterior1st_HdBoard   3336.5653   9092.360      0.367      0.714   -1.45e+04    2.12e+04\n",
       "exterior1st_ImStucc  -4.326e+04   3.88e+04     -1.115      0.265   -1.19e+05    3.28e+04\n",
       "exterior1st_MetalSd   4841.8089   8822.024      0.549      0.583   -1.25e+04    2.21e+04\n",
       "exterior1st_Plywood   4850.6398   9554.194      0.508      0.612   -1.39e+04    2.36e+04\n",
       "exterior1st_Stone    -1.785e+04   2.82e+04     -0.634      0.526   -7.31e+04    3.74e+04\n",
       "exterior1st_Stucco   -6030.1876   1.13e+04     -0.532      0.594   -2.82e+04    1.62e+04\n",
       "exterior1st_VinylSd   1.101e+04   8931.425      1.232      0.218   -6513.674    2.85e+04\n",
       "exterior1st_Wd Sdng   1266.9382   8850.651      0.143      0.886   -1.61e+04    1.86e+04\n",
       "exterior1st_WdShing   4338.7534   1.13e+04      0.385      0.700   -1.77e+04    2.64e+04\n",
       "==============================================================================\n",
       "Omnibus:                      535.890   Durbin-Watson:                   1.924\n",
       "Prob(Omnibus):                  0.000   Jarque-Bera (JB):            11606.300\n",
       "Skew:                           1.179   Prob(JB):                         0.00\n",
       "Kurtosis:                      16.610   Cond. No.                     6.00e+04\n",
       "==============================================================================\n",
       "\n",
       "Notes:\n",
       "[1] Standard Errors assume that the covariance matrix of the errors is correctly specified.\n",
       "[2] The condition number is large,  6e+04. This might indicate that there are\n",
       "strong multicollinearity or other numerical problems.\n",
       "\"\"\""
      ]
     },
     "execution_count": 8,
     "metadata": {},
     "output_type": "execute_result"
    }
   ],
   "source": [
    "X = sm.add_constant(X)\n",
    "results = sm.OLS(y,X).fit()\n",
    "results.summary()"
   ]
  },
  {
   "cell_type": "markdown",
   "id": "d7d344fb",
   "metadata": {},
   "source": [
    "All variables are significant predictors of house price.  Now some categorical values are less statistically significant but at lest 1 value for each categorical variable is.  So the one hot encoded values will be kept."
   ]
  },
  {
   "cell_type": "markdown",
   "id": "5b6f822a",
   "metadata": {},
   "source": [
    "# Interpreting the coefficients"
   ]
  },
  {
   "cell_type": "code",
   "execution_count": 10,
   "id": "ad30ca88",
   "metadata": {},
   "outputs": [
    {
     "data": {
      "text/plain": [
       "array(['CollgCr', 'Veenker', 'Crawfor', 'NoRidge', 'Mitchel', 'Somerst',\n",
       "       'NWAmes', 'OldTown', 'BrkSide', 'Sawyer', 'NridgHt', 'NAmes',\n",
       "       'SawyerW', 'IDOTRR', 'MeadowV', 'Edwards', 'Timber', 'Gilbert',\n",
       "       'StoneBr', 'ClearCr', 'NPkVill', 'Blmngtn', 'BrDale', 'SWISU',\n",
       "       'Blueste'], dtype=object)"
      ]
     },
     "execution_count": 10,
     "metadata": {},
     "output_type": "execute_result"
    }
   ],
   "source": [
    "df.neighborhood.unique()"
   ]
  },
  {
   "cell_type": "markdown",
   "id": "a466051c",
   "metadata": {},
   "source": [
    "Neighborhood 'Blmngtn' was excluded in the one hot encoding"
   ]
  },
  {
   "cell_type": "code",
   "execution_count": 11,
   "id": "7fbc17b8",
   "metadata": {},
   "outputs": [
    {
     "data": {
      "text/plain": [
       "array(['VinylSd', 'MetalSd', 'Wd Sdng', 'HdBoard', 'BrkFace', 'WdShing',\n",
       "       'CemntBd', 'Plywood', 'AsbShng', 'Stucco', 'BrkComm', 'AsphShn',\n",
       "       'Stone', 'ImStucc', 'CBlock'], dtype=object)"
      ]
     },
     "execution_count": 11,
     "metadata": {},
     "output_type": "execute_result"
    }
   ],
   "source": [
    "df.exterior1st.unique()"
   ]
  },
  {
   "cell_type": "markdown",
   "id": "06a580dc",
   "metadata": {},
   "source": [
    "First floor finish of 'AsbShng' was excluded in the one hot encoding"
   ]
  },
  {
   "cell_type": "markdown",
   "id": "2f3482c0",
   "metadata": {},
   "source": [
    "## Intepreting the intercept"
   ]
  },
  {
   "cell_type": "markdown",
   "id": "81a55798",
   "metadata": {},
   "source": [
    "A house in Blmngtn having a first floor finish of AsbShng with a overall quality rank of 0, zero rooms above ground, and no square feet for the first floor will have a saleprice of -98,790 dollars."
   ]
  },
  {
   "cell_type": "markdown",
   "id": "e49c208d",
   "metadata": {},
   "source": [
    "## Interpreting numerical coefficients"
   ]
  },
  {
   "cell_type": "raw",
   "id": "4d250a6d",
   "metadata": {},
   "source": [
    "All else held constant, as the ranking of the overall quality increases by 1, the sale price increases on average by about $23,000.\n",
    "All else held constant, for each additional square foot added to the first floor, the sale price of the house increases on average by about $40.\n",
    "All else held constant, for each additional room above ground, the sale price of the house increases on average by about $8,900."
   ]
  },
  {
   "cell_type": "markdown",
   "id": "aea14591",
   "metadata": {},
   "source": [
    "## Interpreting neighborhood coefficients"
   ]
  },
  {
   "cell_type": "markdown",
   "id": "3c3c1db4",
   "metadata": {},
   "source": [
    "All else held constant, the sale price of a house in Blueste on average is about 17,500 dollars more than a house in Blmngtn.\n"
   ]
  }
 ],
 "metadata": {
  "kernelspec": {
   "display_name": "Python 3",
   "language": "python",
   "name": "python3"
  },
  "language_info": {
   "codemirror_mode": {
    "name": "ipython",
    "version": 3
   },
   "file_extension": ".py",
   "mimetype": "text/x-python",
   "name": "python",
   "nbconvert_exporter": "python",
   "pygments_lexer": "ipython3",
   "version": "3.9.5"
  }
 },
 "nbformat": 4,
 "nbformat_minor": 5
}
